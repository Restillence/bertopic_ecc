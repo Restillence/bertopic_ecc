{
 "cells": [
  {
   "cell_type": "code",
   "execution_count": 1,
   "metadata": {},
   "outputs": [],
   "source": [
    "from bertopic import BERTopic\n",
    "from file_handling import FileHandler  # Import the FileHandler class\n",
    "from text_processing import TextProcessor  # Import the TextProcessor class\n",
    "import json\n",
    "from sentence_transformers import SentenceTransformer\n",
    "from file_handling import FileHandler  # Import the FileHandler class\n",
    "from text_processing import TextProcessor  # Import the TextProcessor class\n",
    "import os "
   ]
  },
  {
   "cell_type": "code",
   "execution_count": 2,
   "metadata": {},
   "outputs": [],
   "source": [
    "# Load configuration from config.json  \n",
    "with open('C:/Users/nikla/OneDrive/Dokumente/winfoMaster/Masterarbeit/bertopic_ecc/config.json', 'r') as config_file:\n",
    "    config = json.load(config_file)\n",
    "\n",
    "# Extract variables from the config\n",
    "index_file_ecc_folder = config[\"index_file_ecc_folder\"]\n",
    "folderpath_ecc = config[\"folderpath_ecc\"]\n",
    "model_save_path = config[\"model_save_path\"]\n",
    "index_file_path = config[\"index_file_path\"]\n",
    "embeddings_path = config[\"embeddings_path\"]\n",
    "finbert_model_path = config[\"finbert_model_path\"]\n",
    "\n",
    "sample_size = config[\"sample_size\"]\n",
    "document_split = config[\"document_split\"]\n",
    "random_seed = config[\"random_seed\"]\n",
    "section_to_analyze = config[\"section_to_analyze\"]\n",
    "max_documents = config[\"max_documents\"]\n",
    "\n",
    "# Initialize FileHandler and TextProcessor with the imported configuration\n",
    "file_handler = FileHandler(index_file_path=index_file_path, folderpath_ecc=folderpath_ecc)\n",
    "text_processor = TextProcessor(method=document_split, section_to_analyze=section_to_analyze)"
   ]
  },
  {
   "cell_type": "code",
   "execution_count": 3,
   "metadata": {},
   "outputs": [
    {
     "name": "stdout",
     "output_type": "stream",
     "text": [
      "First 10 files in directory: ['earnings_call_10053_1405785.txt', 'earnings_call_10053_3087559.txt', 'earnings_call_10053_3264115.txt', 'earnings_call_10053_3495328.txt', 'earnings_call_10053_3838748.txt', 'earnings_call_10053_3978736.txt', 'earnings_call_10053_4168241.txt', 'earnings_call_10053_4240123.txt', 'earnings_call_10053_4711496.txt', 'earnings_call_10053_4825244.txt']\n",
      "Starting to create ECC sample...\n",
      "Found 11 files for permco 30850\n",
      "Found 74 files for permco 43332\n",
      "Found 35 files for permco 37520\n",
      "Found 47 files for permco 1807\n",
      "Found 28 files for permco 15311\n",
      "Found 67 files for permco 14888\n",
      "Found 7 files for permco 37952\n",
      "Found 130 files for permco 14521\n",
      "Found 20 files for permco 13340\n",
      "Found 1 files for permco 53337\n",
      "Found 51 files for permco 41062\n",
      "Found 5 files for permco 7720\n",
      "Found 2 files for permco 55478\n",
      "Found 10 files for permco 55168\n",
      "Found 8 files for permco 55117\n",
      "Found 3 files for permco 12438\n",
      "Found 12 files for permco 55936\n",
      "Found 15 files for permco 53291\n",
      "Found 19 files for permco 17521\n",
      "Found 62 files for permco 15916\n",
      "No explicit section found for Presentation in company: 14521, call ID: earnings_call_14521_1402086. Using the first part as the Presentation section.\n",
      "No explicit section found for Presentation in company: 14521, call ID: earnings_call_14521_1452308. Using the first part as the Presentation section.\n",
      "No explicit section found for Presentation in company: 12438, call ID: earnings_call_12438_758261. Using the first part as the Presentation section.\n",
      "Extracted 27873 relevant sections.\n",
      "['Ladies and gentlemen, thank you-for-standing by. Welcome to the SOLA International fourth quarter fiscal year 2002 results conference call. During the presentation, all participants will be in a listen-only mode. Afterwards you will be invited to participate in the question and answer session. At that time if you have a question please press the 1 followed by the 4 on your telephone. As a reminder this conference is being recorded Thursday, May 23rd, 2002. I would now like to turn the conference over to Jeff Cartwright, director of finance and investor relations. Please go ahead, sir', \"Good afternoon, everyone. I would like to welcome everyone to SOLA International's fourth quarter conference call. With me today are Jeremy Bishop, president and chief executive officer and Steve Neil, executive vice president and chief financial officer. I would like to remind everyone that this conference call is being recorded. Remarks made during the call may contain certain forward-looking statements. By their nature, such predictive statements are subject to certain risks and uncertainties much that could cause actual results to differ materially from our [unintelligible] given today. A detailed explanation of these risks can be found in our form 10-K. The focus on today's call is for Jeremy Bishop to provide his overview of fiscal year 2002 and discuss key strategic initiatives for fiscal 2003. At this time I will turn the call over to Jeremy Bishop\", \"Thank you, Jeff. Good afternoon, ladies and gentlemen. I'd like to welcome our investors, both equity and debt, potential investors, banking and business partners to the call. Fiscal 2002 was a year of change for SOLA International as we substantially completed a significant strategic reorganization to improve the company's future prospects. With this behind us I'd like to take a few moments to review the business we're in, the changes we have made, the alignment of our activities to the market, and the future that lies ahead\", 'Our business is founded on the manufacture and distribution of plastic lenses for the ophthalmic and sunlens markets. That activity resulted in worldwide sales of over 160 million lenses last year, making the company one of the largest global players in our industry', 'Our sunlens business offers one of the most complete ranges of products in the industry. Many are the result of an intense R and D effort that produces customized products for our sunglass partners. Our technical competency, combined with our links to the fashion houses enables this business to anticipate trends, align our resources to them, and successfully partner with many of the leading consumer brands in the sunglass business', \"For our ophthalmic business, our preferred route to market is to act as a distributor to independent laboratories and chain retailers. It's a simple, low-cost, high-volume model that provides a good return to capital. However, in many markets that distribution system doesn't exist. Either the number and market share of the independent labs is small, or the chain retailer has no owned laboratory activity. Since more than half the lenses we sell require customization in laboratory, access to these laboratory facilities is critical. This these instances we acquire or build our own be laboratories to retain distribution to the retailer. This increasingly necessary occurrence has lifted sales made by our own laboratory network from approximately $104 million in fiscal 2001 to over $127 million today, an increase of over 22%. And this is a trend that I expect to continue on a global basis\", \"Within our product lines, many of you have an appreciation for our focus on value-added products. Today these products represent 34% of our volume and 78% of our revenues. They attract higher gross margins so the company's research and development, marketing efforts, and capital expenditure are constantly focused on the expansion of this category\", \"Within value-added products sit some key segments, such as polycarbonate, progressive lenses, high- index materials, photochromic lenses, and anti- reflection coatings. These segments drive the company's profitability, and so we seek to defend our positions, grow the segments, and expand our share in each of these categories\", 'Our remaining production and sales predominantly in lower value CR-39 commodity lenses, exists to provide one-stop shopping for our customers, a requirement many large chain retailers and independent opticians who purchase from our own laboratories. In this area we invest only to reduce manufacturing costs and sustain product quality', 'Now, as I look forward, certain trends within our marketplace continue to remain obvious. The continuing migration by the consumer from glass to plastic lenses, the growth of polycarbonate lenses, particularly in North America, but now slowly emerging in other geographies, the growth of other high index materials, the growth of anti-reflection coatings, the continued shift from bifocal to progressive lenses, the slowdown in the historic growth of photochromic lens demand, the increasing importance of retail chains in most markets, a lengthening of product repurchase cycles in North America, and the long life cycles of lens products in general', 'Within this, frustrations exist, principally for the consumer. The damage is becoming increasingly difficult to have confidence in the quality of their purchasing decision. Products have proliferated. There are more possible solutions available to a single consumer than at any time in the past. Knowledge of each of these product possibilities is increasingly hard for the retailer to assimilate, and the information is virtually unavailable to the consumer. As a consequence, we see the emergence of brands as playing a role in communication. Properly applied, this can provide reassurance to the professional and the consumer, simplifying decision-making, and resulting in category growth', 'Looking back on last year, we worked to ensure that the company recognized and dealt with those trends. We significantly invested in polycarbonate capacity, and will continue to do so. We have designed and recently launched a further progressive addition lens, targeted this time at large retail chains that require an easy fit, own-brand product', 'In the third and fourth quarters, we launched a new, faster-reacting photochromic lens, designed to stimulate growth in this area. We completed the migration of production to low-cost facilities, and we rationalized product specifications to global standards. We centralized product management and marketing. We consolidated distribution centers in North America and Asia. We worked with our major retail chain customers around the world and increased revenues with our ten largest global retail clients by approximately 25%, compared to the prior year', 'We experienced continued growth in some but not all of our newer products. Enigma disappointed, but Compact, SOLO-Max, Finalite high index lenses, and of course polycarbonate lenses, all performed to expectations. Our historic success in working with brand partners in our sunlens business has provided say skill and knowledge base that we have started to migrate to our ophthalmic activities', \"Of course, not everything went perfectly. And it's appropriate to acknowledge those items as well. As we moved production around the world, service to our customers was disrupted and revenue lost as a consequence. With those manufacturing changes behind us, 2003 will see a primary focus on improving supply chain management so that [unintelligible] levels to our customers are improved and revenue growth occurs. The establishment of our new distribution centers took longer and cost more than was expected. Our U.S. centers are now functioning at an acceptable level, but it will take several months more before you're European center performs to the required level, despite the rapid progress that is now being made. Although we continue to enjoy the support of many loyal independent lab businesses in the U.S., achieving progress in the sale of lenses to the independent optician was difficult. Our new management team in North America is now addressing that issue\", \"Overall, I'm convinced that our core values are sound. We have stabilized the company, both financially and operationally, and now can concentrate on the careful implementation of our strategies to grow the business. We recognize that not everything will turn out according to expectations, but the progress can and has already been made\", \"Moving away from these specific operational and strategic statements, I'd like to summarize some fiscal 2002 highlights. Going back to the start of the year, we successfully refinanced the company to provide a capital structure that gives us the liquidity and flexibility required to operate our business. We reduced net debt by over $19 million despite continued cash outlays for several expense and transition costs. DSO declined from 84 to 78 year over year. Inventory turnover improved from three in fiscal 2001 to 3.5 in fiscal 2002\", 'And collectively, this demonstrates that our strengthened focus on cash flow is working and providing the expected results', 'We successfully lowered operating expense by over $12 million. In Europe, our sales of 185.8 million increased 4.1% in constant currency. And I attribute these gains to the organic growth of our Rx laboratory network and in particular the quality of our employees in Europe as a whole', 'Polycarbonates volume and sales increased by 29% and 38% respectively in the fourth quarter, reflecting continued market share gains. And our investments in acquiring and expanding Oracle Lens Manufacturing Corporation and the expansion of our existing Tijuana facility underpenned our ability to better serve our customers in this product category', 'During November, we completed the commissioning of our first U.S. prescription laboratory, SOLA Technologies. From this start, the business is gaining momentum, and this is encouraging, if not yet significant in terms of our overall performance', 'We were again honored by the Optical Laboratories Association of North America with two awards of excellence. Our progressive lens, [SOLA-Max], was voted best in lens design, while Spectralite philosophy transitions was voted best in lens [treats]. And these awards continue years of sustained industry recognition that has resulted in 12 awards of excellence over the past 12 years', 'In December, we changed the leadership of north and South America operations with the appointment of Mark Ashcroft, and I am confident that his broad base of experience in strategic and market development activities will provide the focus necessary to restore sales growth in the latter part of fiscal 2003', 'We announced the completion of our development work with DuPont that will result in the global launch Teflon [EasyCare] lenses in the second half of the now current financial year. And for us this is a clear example of an appropriate application of a global brand to a tailored product. We see this as a significant opportunity over the coming years as we set about positioning this product line in the industry and with the consumer', 'Now, looking at fiscal 2003, there is an important shift in our priorities. A strategic reorganization of the business is virtually complete, and we are now preoccupied with growth, particularly in North America. As we enter fiscal 2003, we are operating the business with the following assumptions and priorities. Our investments in polycarbonates be will continue to be justified with our commercial organization, able to sell all the output that we can provide, with the intent that over the next two years we will achieve the global market share in this growing category of approximately 30%', 'That service to our customers can and will be substantially improved to the benefit of revenues, gross profit, and product activity; that we can successfully commercialize Teflon [EasyCare] lenses. We anticipate that, as in the past, it will take many months of intense work to create an awareness and an environment for sales to commence. That work has started, so we anticipate [unintelligible] benefit from these efforts in the second half of the year followed by sustained growth thereafter; and that our distribution activities through both the chain and the independent retailers can and will be strengthened', 'As we execute these growth strategies, we remain cautious in our short-term examinations, anticipating that revenues will remain essentially flat for the first half of the fiscal year and resume growth in the second half, when increased polycarbonate capacity becomes available, improvements to the supply chain are gained, and Teflon [EasyCare] coating sales begin', 'I am particularly pleased with the progress that Mark Ashcroft has made during his first months in charge of the North American operations. A robust strategic business plan has been developed, is now being implemented, and I expect its impact will be profound. Many elements of this business plan have not been included in our fiscal 2003 expectations due top current commercial confidentialities, and we look forward to future communications as significant events unfold', 'We anticipate reported net income in fiscal 2003, excluding the unrealized currency impact on long- term debt, will be in the range of 26 to 28 1/2 million dollars, a growth of 36 to 49% from the reported net income of $19.1 million in fiscal 2002', 'Fiscal 2003 will be impacted by increased operating expenses, primarily global insurance costs and increased pension expense of approximately $5 million, and decreased depreciation expense and sales-and-marketing costs of 5 to $7 million associated with the strategic investments required to restore top-line growth to the business', 'We expect approximately 40% of our earnings will be generated in the first half of the fiscal year, as high-cost inventory is liquidated and increased operating expenses are absorbed without significantly higher sales', 'These estimates reflect a continuation of current activities, and cautious estimates of the benefit of our growth strategies', 'Free cash flow, including the negative cash impact of restructuring activities that will be completed in 2003, and after planned capital expenses in the range of 25 to $30 million is expected to equal or exceed net income', 'And now, in closing, we ended fiscal 2002 in better shape than we started. Good decisions outnumber disappointments. We advanced financially and operationally. Fiscal 2003 brings a shift in strategic emphasis, and with it, new opportunities: the opportunity to grow with polycarbonate and high-index lenses; the opportunity to grow our business by improving supply chain management; the opportunity to grow the AR category in our market share through Teflon [EasyCare] lenses; and the opportunity to strengthen distribution of our product through chain and independent retailers', 'All of this makes SOLA an exciting place to be, and a company that all of us are proud to be part of', \"And with that, I'd like to open the call up to questions\", 'Ladies and gentlemen, thank you for standing by. Welcome to the SOLA International first fiscal 2003 conference call. During the presentation all participants will be in the listen-only mode. Afterwards you will be invited to participate in the question and answer session. At that time if you have a question, please press the 1 followed by the 4 on your telephone. As a reminder this conference is being recorded Wednesday, August 7, 2002. I would like to turn the conference over to Jeff Cartwright, director of finance and Investor Relations. Please go ahead sir', \"Good afternoon everyone. Would I like to welcome everyone to SOLA International fiscal 2003 conference call. With me today are Jeremy Bishop, the president and CEO of SOLA and Steve Neil executive vice-president and CFO. Would I like to remind everyone that the call is being recorded. The remarks made during the call may contain certain forward-looking statements. By their nature much such statements are subject to certain risks and uncertainties that could cause actual results to differ materially from estimates given today. The detailed explanation of these risks can be found in our form 10-K. The focus of today's call is for Jeremy Bishop to provide his overview of the quarter's results and an update on key strategic initiatives for fiscal 2003. At this time, I will turn the call over to Jeremy\", \"Thank you. Good afternoon ladies and gentlemen. I would like do well come everyone both equity Z debt, potential investors, banking and business partners to the call. Would I like you to take six key messages away from today's call. #1, we generally free cash flow of 6.2 million dollars in the quarter or approximately 25 cents per share. #2, our billable RX laboratory network achieved 18 percent year on year sales growth in the quarter just ended. #3, today we announced our first laboratory acquisition in North America. And confirmed our intent to continue expanding our capabilities in this realm. #4, the competitive advantage of Teflon EasyCare lenses can be capitalized through our wholly owned worldwide network pro description laboratories. #5, we are continuing to expand our polycarbonate manufacturing capacity and are building a strong market position. #6 sales oh to or top 20 customers grew 11 percent compared to the quarter last year. Against that background, I characterize the first quarter as a very good quarter for SOLA. Much we realized our strategic objectives and generated a financial performance directly in line with the first half expectations we announced on the last call. Dealing with some specifics in the quarter, beyond those overall remarks, and the information contained in our earnings release, I would comment on the following: Firstly, the free calf in the quarter indicates the strength of our performance and accurately reflects that the current [inaudible] on our year end Doe nominated debt has low impact on cash flow. You would appreciate that since the slide [inaudible] till 2008, we continue to perform not to spend significant amounts of cash in hedging this translation exposure. Secondly, returning to our prescription network, many of you know that in Australia and Europe this forms the backbone of our business. The revenue growth that we achieved in this quarter through the network was remarkable and is testimony to the [inaudible] businesses. It was achieved during a period when [inaudible] manufacturing was less than perfect about this did impact sales, particularly those that fell outside our laboratory network reducing the quality of our overall results in these places. The underlying message here is that when even when an issue is [inaudible] works against us our laboratories have the ability to create excellent revenue growth. Thirdly, commenting on supply chain management, I'm pleased to say that the service is not yet perfect, it improved substantially during the last weeks of the quarter and has improved further in July. Manufacturing sites for delivering high compliance in their [inaudible] demand than in the past. And I'm proud of that progress. A simple programming error in our supply chain software was identified and corrected and this in combination with the rifle of some normal weighted photochromic inventories improved [inaudible] these factors accounted for the in creased inventory levels at the quarter end. Turning now to our acquisition of BMW and South Eastern, you will understand my excitement now that we're firmly committed to extending our laboratory network into North America and emulating the performance achieved with this distribution system. We're seeking to expand in a very discriminatory manner and as a result further acquisitions or expansion won't happen overnight. We're also very clear on our rationale for pursuing this strategy. We do not intend to migrate existing sales of SOLA product away from those wholesale labs that wish to remain independent. They will continue to enjoy our full support. Our goal is to ensure that we realize the full commercial benefit of our marketing effort that are direct at stimulating growth in progressive lenses, high index lenses and lens coatings. It's important to note that until our North American lab network is fully established using cash reserves with debt free purchase will remain a priority and regrettably it also means that for the foreseeable future insiders will remain restricted from making stock purchases and sales just as they have been for the past six months. Now following the building revenues, I'm very pleased with the early results being achieved with Teflon EasyCare lens. We successful launched during the quarter and in July we commenced [inaudible] efforts in the UK. Additional launches in the second quarter are scheduled for France, Portugal and Australia. Along with test marketing the marketing in states prior to former test launching in Q3. We believe this lens treatment will generate a meaningful profit stream for the company in the years to come as increased penetration rates are achieved. Turning now to polycarbonate, I'm delighted with the strong position we have developed in this category. Our sales volume and value increased 24.4 percent and 29 percent respectively. And to continue this momentum, we again increased capacity with the installation of two additional production lines and our [inaudible] core manufacturing facility in Rhode Island. This expansion combined with three further lines that will be installed by the end the fiscal fourth quarter will increase our polycarbonate capacity by 100 percent this fiscal year. It may further participate in this fast growing category and gain additional market share. Also, and as previously announced, we completed the acquisition of certain net assets of optical electrical Inc. during the quarter. This acquisition strengthened or capabilities in the manufacture of polycarbonate lens product and ensures that mold and insert manufacturing are an internal core competency of the company. Moving to sales, I'm pleased with our continued ability to improve our overall sales mix. Products represented 76.1 percent of sales during the quarter, as compared to 73.3 percent in the year ago period. Led of course by our growth in polycarbonate sales. Sales from our prescription laboratories were up by 18 percent over the prior year and as I said earlier, sales to our top 20 global customers increase the 11 percent in the quarter. In North America, sales were consistent with plan and in line with guidance provided on last quarter's conference call and I'm further encouraged that our sales in July have improved approximately 3 percent year-over-year. The first positive sales growth experienced in this region since December 2001. This indicates clearly that our sales and marketing strategies or working. Next I would like to discuss the impact of currency on the company's operating and financial performance. As highlighted in today's press release, the weak US dollar is having a significant and mostly noncash impact on our financial statements. In particular, the Euro, Yen and Australian dollar strengthened approximately 14 percent, 10 percent and 6 percent respectively in the first quarter. With most of this movement occurring in the months of June so the impact on the quarter watts somewhat limited before but sales and profits were favorably impacted by approximately 1.8 million dollars, and 200,000 dollars respectively. Also, we reported a primarily unrealized net currency loss of approximately 15 million dollars. 20.6 million dollars of which related to the translation of long-term debt. Also, there was an impact on our working capital levels. Accounts receivable on a constant currency basis decline over 1 million in the quarter. Yet grew 5 million on a [inaudible] reported basis. Inventory in the quarter brought approximately 8 million on a constant currency basis and 12 million on as reported basis. While we certainly cannot predict the future, we are confident that we have appropriately hedged our largest currency exposure, and will continue to actively manage these risks. In July, we elected to convert Euro denominated cash balances into US dollar deposits to take advantage of the recent strength in the Euro. In addition our historic decision coupon payment, on your Euro denominated debt at a rate of .87 has proved very beneficial. Combined, these actions resulted in an unrealized pretax currency gain of approximately 5 million dollars during the quarter. Now, finally I would like to comment on our expectations for the remainder of the year. We will formally review our guidance for the second half at our next conference call. And for now I wish to sustain prior guidance that anticipates revenues on a constant currency basis will remain essentially flat for the first half of the fiscal year. And resume [inaudible] in the second half when increased polycarbonate capacity becomes available, improvements to supply chain are firmly gained and EasyCare sales begin in North America. [inaudible] narrow prescription laboratories are expected to grow including now the benefit of BMW and Southeastern. At this time we continue to anticipate that reported net income in fiscal 2003 excluding the currency and capital on long-term debt, foreign exchange contracts and Euro denominated cash reserves westbound will be in the range of 26 to 28 and a half million dollars while free calf is expected to be in the range of 25 to 30 million dollars. With that, I would like to open up the call to your questions. 00:35:14\", 'Ladies and gentlemen, thank you for standing by. And welcome to the Sola International Second Quarter Fiscal Year of 2003 Results. During the presentation, all participants will be in a listen only mode, and afterwards, we will conduct a question and answer session. At that time if you have a question, please press the \"1\" followed by the \"4\" on your telephone. As a reminder, this conference is being recorded Thursday, October 29th of 2002. And I would now like to turn the conference over to Mr. Jeff Cartwright, Director of Finance and Investor Relations. Please go ahead, sir', \"Thanks Chris. Good morning everyone. I would like to welcome you all to Sola International's second quarter conference call. With me today are Jeremy Bishop:, President and Chief Executive Officer and Steve Neil, Executive Vice President and CFO. I would like to remind everyone that this conference call is being recorded. Remarks made during the call may contain certain forward-looking statements. By their nature, such predictive statements are subject to certain risks and uncertainties that could cause actual results to differ materially from estimates given today. A detailed explanation of these risks can be found in our form 10(k). The focus of today's call is for Jeremy Bishop: to provide his overview of the quarter's results and an update on key strategic initiatives. And at this time, I will now turn the call over to Jeremy\", \"Thank you Jeff. Good morning ladies and gentlemen. I'd like to welcome our investors both equity and debt, potential investors, banking and business partners to the call. As demonstrated by today's press release, I would characterize the second quarter as an excellent quarter for Sola. We continue to make progress in realizing our strategic objectives and generated a financial performance which exceeded expectations. Some specific highlights in the quarter included, North American sales, which increased by over 7 percent, operating earnings per share of 25 cents, which exceeded the consensus first call estimate of 21 cents, improvements in the supply chain that enabled a return of sales growth in Europe, sales from our global Rx laboratory network which increased over 22 percent in the quarter before acquisitions and 32 percent including acquisitions, reflecting our continuing strong performance in this segment of our business\", 'Continued expansion of our polycarbonate manufacturing capacity and market share growth, as evidenced by sales value and volume increases of 84 percent and 71.5 percent respectively over the year ago quarter; and sales to our top 20 customers which grew 14 percent compared to prior year', 'Now against these highlights, I would like to make the following comments on our business prospects and developments in the quarter. So dealing first with sales and in particular, North America, demand in the market has been stronger since July; and we fully capitalized on that. Our investments in polycarbonates and other high index materials combined with strongly focused sales and marketing activities enabled our growth to outpace the market and for market share gains to be made. Sales of progressive lenses and other value-added products grew, and gross margin improved as a result of this sales mix and our lower cost of production following the migration of production to low-cost sites', 'As we expand our laboratory network into North America and further reinforce our relationship with the retailer with new products, such as Teflon EasyCare lenses, we believe that the outlook for this business is positive. And assuming the current market trends continue, mid-single digit sales growth in the second half of this financial year is achievable', 'Second, turning to our prescription laboratory network, many of you know that in Australia and Europe this forms the backbone of our business. The revenue growth that we achieved in the quarter and year to date through this network is testimony to the quality of these businesses. This continued strong performance, combined with our new improved supply chain management, gives us confidence that we can again achieve mix-single digit growth in these geographies over the next six months', \"Third, commenting on the supply chain management, I'm pleased to say that service improved during the quarter. Manufacturing sites continue to deliver high compliance in their output to demand; and our focus on the remaining elements of our global supply chain is creating improved performance, both financial and operational. And as you will recall, improved logistics management was sighted as the key strategic priority for this financial year\", \"Fourth, our previously announced acquisition of B&amp;W and Southeastern Optical was completed in early August. We're firmly committed to extending our laboratory networking in North America and extending the performance that other regions achieve with this distribution system. We continue to seek additional acquisitions; however, we will be selective in this process, and it's likely to continue over the next 12 to 18 months\", \"As noted on the last quarter's call, we do not intend to migrate existing sales of SOLA product away from those wholesale labs that wish to remain independent. They will continue to enjoy our full support. Rather, our goals are to ensure that we fully realize the commercial benefits of our marketing efforts, which has directed a stimulating growth in progressive lenses, high-index lenses, and lens coating such as Teflon EasyCare. We believe that these products and others like them will generate an improved revenue and profit stream for the company in the years to come as the market momentum towards higher quality products continues and our market share in these categories grows\", 'Turning now to products, we are pleased to report growth in progressive lenses where sales in the quarter increased by over 6 percent compared to the prior year quarter and 8 percent compared to the first quarter of this fiscal year. It finalized our proprietary high-index material, sales volume, and value more - both more than doubled from the year ago quarter and of course in polycarbonate where sales value and volume increased 36 percent and 24 percent respectively from the first quarter and, as already mentioned, 84 percent and 71.5 percent respectively over the year ago quarter', \"In addition to our second quarter accomplishments, I'd like to provide some background information in other areas. We anticipate announcing in the near future that we've replaced our UBS Warburg $45 million revolving credit facility with a new $90 million senior secured revolving credit facility arranged through Union Bank of California. The new three-year agreement will provide the financial flexibility and borrowing capacity necessary for the company to finance future growth including the acquisition of Prescription Laboratories. We anticipated improved pricing and more attractive terms of this new revolver are evidence of our improved competitive position and strong cash flow\", \"Also, we recently announced the closure of R&amp;D activities of our Petaluma, California facility. One of the primary activities of this site has been the support of our polycarbonate expansion. I think in connection with this, we're building a new polycarbonate mould manufacturing facility in Tijuana, Mexico where of course these moulds are utilized. And we're relocating the associated supporting surfaces from Petaluma to this location also. The remaining part of Petaluma's R&amp;D work will be transferred to our main R&amp;D facility in Australia and some of the employees are relocating to that location\", 'Finally, I would like to comment on our expectations for the remainder of the year. As you may recall our third fiscal quarter, which ends December 31st, is historically soft compared to the first and second quarter, as consumers tend to postpone eyewear purchases during the holidays. Conversely, our fourth quarter, which ends March 31st, is always our strongest as this pent-up demand is realized and optical retailers promote new collections. Recognizing this seasonality, the market demand that we are now enjoying and the strength of our marketing programs, we are still highly confident that, based on current sales trends and improved visibility for the remainder of this financial year, second half sales, excluding the impact of currency, will grow in the range of 4 to 5 percent compared to the second half of the fiscal 2002, and that operating earnings for the full year ending March 31st 2003 will be in the range of 27 million to 28.5 million', \"Now, with that, I'd like to open the call up to questions, and return the call over to Chris for that to occur\", 'Ladies and gentlemen, thank you for standing by. Welcome to the Sola International third quarter fiscal year 2003 conference call. During the presentation all participants will be in a listen only mode. Afterwards, we will conduct a question and answer session. At that time, if you have a question, please press the one followed by the four on your telephone. As a reminder, this conference is being recorded Wednesday, February 12, 2003', 'I would now like to turn the conference over to Jeff Cartwright (ph), director of finance and investor relations. Please go ahead, sir', 'Thank you, Irene. Good morning, everyone', \"I would like to welcome everyone to Sola International's fiscal 2003 third quarter conference call. With me today are Jeremy Bishop, president and CEO of the company, and Steve Neil, executive vice president and CFO\", \"I'd like to remind everyone that this conference call is being recorded. Remarks made during the call may contain certain forward-looking statements. By their nature, such predictive statements are subject to certain risks and uncertainties that could cause actual results to differ materially from estimates given today. A detailed explanation of these risks can be found in our form 10K. I would also like to make note that our earnings release including the supporting financial schedules and reconciliations is included on the Sola website at www.sola.com\", \"The focus on today's call is for Jeremy Bishop to provide his overview of the quarter's results and an update on key strategic initiatives, and at this time I will turn the call over to Jeremy\", 'Thank you, Jeff. Good morning, ladies and gentlemen', \"As usual, I would like to welcome our investors, both equity and debt, potential investors, banking and business partners to the call. I'm pleased with our progress in the third quarter and our operating results. The third quarter has always been our most difficult, due to the purchasing habits of our customers. This year, the quarter met or exceeded our expectations in nearly all areas. Compared to the year ago quarter we increased revenues from value added products, grew our business in North America, expanded sales through our RX laboratory network and generated a financial performance that met or exceeded expectations\", \"Some specific highlights in the quarter included -- net sales that grew 5.2% on the constant dollar basis, slightly better than the 4 to 5% range provided on our second quarter conference call. North American sales that again increased by over 7%, also slightly higher than the mid single digit guidance provided on last quarter's call. Operating income that increased 10.4% from last year, and EBITDA that increased 17.8% from last year. Adjusted net income of 5.8 million that exceeded the consensus first quarter estimate of 5.5 million dollars\", 'Constant dollar sales from our global RX laboratory network increased approximately 16% in the quarter. Gross margin improvement compared to the same quarter last year and the first two quarters of this financial year. Growth and progressive lens sales compared to the year ago quarter, a further market share growth in polycarbonate as evidenced by volume and sales increases of 53% and 69% respectively over the year-ago quarter. Sales to our top 20 customers grew 16% in the quarter compared to prior year. Free cash flow of 4.9 million dollars with 63% above the comparable period last year. And Teflon easy care lenses that are now launched in several European markets and third quarter sales that though still relatively small in absolute dollars grew by over 80% when compared to second quarter sales', \"This growth supports our view that the future prospects for this category are strong. As a consequence, we're installing additional manufacturing capacity dedicated to these lenses in both Europe and North America where the product introduction has just commenced and will fully occupy us for the next three months\", 'Let me now comment on our business prospects and developments in the quarter. Dealing first with sales and in particular North America, demand in the market has been good and continues the momentum first experienced in July. Our investments in acquisitions, polycarbonates and other high index materials combined with well focused sales and marketing activities are enabling our growth to outpace the market and market share gains to be made', 'Sales of progressive lenses and other value added products grew. And gross margin increased as a result of this improved sales mix and our lower cost of production following the migration of production to low cost sites. As we expand our laboratory network into North America and further reinforce our relationship with the retail with new products including Teflon easy care lenses, we believe that the outlook for this business is positive', \"Turning to our prescription lab network, many of you know that in Australia and Europe, this forms the backbone of our business. The 16% constant dollar revenue growth that we achieved in the quarter through this network is testimony to the quality of these businesses. I'm pleased to report that sales growth has started in our North American laboratories and I am certain that this will reinforce our future prospects in this region\", \"Commenting on supply chain management, I'm pleased to say that service levels improved further during the quarter. Manufacturing sites continue to deliver high compliance in their output to demand and our focus on the remaining elements of our global supply chain has created improved financial and operational performance. Inventories declined 2.3 million dollars in the quarter on a constant dollar basis while service improved. This trend reflects my expectations\", 'In France, Italy, Portugal and Spain, I believe our prescription laboratories continue to outperform the market growth and so gain market share. Partially offsetting this performance however is some weakness in our wholesale businesses in Germany and the UK. However, European sales growth on a constant dollar basis is accelerating and moving back towards historic growth levels', \"Turning to products, I'm pleased to report growth in our progressive lenses while sales in the quarter increased approximately 6% compared to the prior year quarter. Demand is particularly strong for high index material progressive lenses, including finite, our proprietary high index material, and polycarbonate. Overall, sales of granulated products increased 73.5% of sales compared to 69.4% in third quarter last year, but were as often happens slightly lower in the second quarter of the fiscal year\", 'In addition to these operational aspects I would like to comment briefly on our first quarter financial performance. First, you will note that reported operating expenses increased 850,000 dollars in Q3 compared to the prior quarter. This increase is entirely due to the impact of currency exchange rates when translating overseas operating expenses into U.S. dollars. On a year-to-date basis, we are benefiting from operational leverage as sales have increased while expenses have remained essentially flat. I consider this an important measure of our operating efficiency and an area of focus going forward. Second, and primarily as a result of remeasuring our Euro denominated debt into U.S. dollars we recorded a foreign currency loss of 13.2 million in the third quarter', \"As stated in today's release in the year ago quarter a net gain of 4.8 million dollars was recorded. Adjusted net income excludes from reported income the translation impacted from these notes. We believe adjusted net income provides a better representation of our true operating results because the remeasurement does not affect cash flow, has no near term impact on the ability to conduct business and could cause reported results to fluctuate significantly from period to period. Of course as we move forward, we will continue to plan the allocation of our discretionary cash flows to recognize our long-term obligations to our debt investors\", 'Next, and as noted in our earnings release, we generated approximately $20 million in EBITDA in the quarter compared to 16.9 million in the same quarter last year. Year-to-date, we have generated 61.8 million dollars of EBITDA compared to 52 million dollars last year. Free cash flow which represents operating cash flow after capital expenditures was 4.9 million dollars in the third quarter and 5.1 million dollars year-to-date compared to 3 million and negative 4 million in the comparable periods last year', 'Now I would like to comment on our expectations for the remainder of the year. As you may recall, our fourth quarter which ends March 31st is generally our strongest. Recognizing the seasonality and the stronger market demand that we are now enjoying, I am completely comfortable with the consensus first quarter estimates for adjusted net income of 10.1 million dollars which excludes the unrealized translation effect of foreign currency on our next long-term Euro denominated debt', 'And finally, as I look forward, we will continue to follow the strategies for the benefit of the company this fiscal year, specifically, we will pursue growth in value added products such as progressive lenses, photo chromic and anti-reflective treatments and high index lens including polycarbonate. In parallel with these efforts, we will manage expenses to produce improved operating margins. We will place emphasis on North America and our global RX laboratory networks as they have demonstrated superior growth prospects. As a result of these efforts and based on prevailing currency rates, I anticipate the fiscal 2004 net income excluding the unrealized translation effect of foreign currency on our next Euro denominated debt will exceed first quarter estimates of 32 million dollars. Approximately 60% of this income is forecast to be derived in the second half of the financial year. Free cash flow is anticipated to be approximately equal to net income and will be used to fund additional prescription lab acquisitions and all the prepayment of outstanding debt', 'Now with that, I would like to open the call up to questions', 'Ladies and gentlemen, thank you for standing by. Welcome to the Sola International first quarter fiscal year 2003 conference call. During the presentation, all participants will be in a listen-only mode. Afterwards, we will conduct a question and answer session. At that time if you have a question please press the one followed by the four on your telephone. As a reminder, this conference is being record Wednesday, 14, 2003', \"I'll turn it over to Mr. Jeff Cartwright, Director Finance and Investor Relations\", 'Sir, please go ahead', 'Jeff Cartwright. Thanks, Hide (ph), good morning, everyone. I would like to welcome everyone to Sola International fiscal 2003 fourth quarter conference call. With me today are Jeremy Bishop, President and CEO of the company and Steve Neil, Executive Vice President and CFO', 'I would like to remind everyone this conference call is being recorded. Remarks made during the call may contain certain forward-looking statements. By their nature, such predictive statements are subject to certain risks and uncertainties that could cause actual results to differ materially from estimates given today. A detailed explanation of these risks can be found in our form 10K', 'I would also like to make note that our earnings release including the supporting financial schedules and reconciliation of non GAAP financial measures is included on the Sola web site at www.Sola.com', \"The focus on today's call is for Jeremy Bishop to provide his overview of the quarter's results and an update on key strategic initiatives. And at this time I will turn the call over to Jeremy\", \"Thank you, Jeff. Good morning, ladies and gentlemen. I would like to welcome our investors, both equity and debt, potential investor, banking and business partners to the call. To begin, I would like to state that I'm very pleased with our fourth quarter results which met or exceeded our expectations in nearly all areas. Our continuing ability to grow revenues and in particular the exceptional growth of our north American business in the quarter six of them core much improved performance\", 'Locally, our products mix was good. So gross margin increased. Expenses were well managed, so operating profit was higher. Working capital was well managed, so cash flow improved. In summary, we ended the quarter with a financial performance that met my objectives and generally exceeded investment community expectations', \"Some highlights in the quarter included -- net sales that grew 5.1 percent on a constant currency basis compared to the year ago quarter. This was slightly above the four to five percent range on our third quarter conference call that I provided and I believe above the industry's growth rate. This represents the third consecutive quarter where constant dollar sales growth has exceeded 4 percent\", 'North American sales increased over 12 percent compared to the year ago quarter. This represents the third consecutive quarter where sales growth in this region has exceeded 7 percent, clearly demonstrates that our sales and marketing initiatives improved product portfolio and increased our presence are having a profound impact on our business', 'Local RX laboratory network sales excluding the impact of currency increased approximately 19 percent compared to the year ago quarter', 'The value-added products, which is a percent of sales increased 73 percent compared to 69 percent in the same quarter last year', 'Further market share growth in poly carbonate as evidenced by volume and sales increases of 36.1 percent and 47.5 percent respectively over the year ago quarter', 'We exceeded our sales target for Teflon easy care lenses. Sales of these lenses are still relatively small in absolute dollars, exhibited growth of approximately 63 percent when compared to third quarter sales. This growth is higher than our internal expectations and supports my view that the future prospects for this category are excellent', 'Gross profit which increased 15.4 percent from the prior year quarter and 16.8 percent from the third quarter of this year. Gross margins in the quarter were 42.5 percent compared to 41.2 percent in the prior year quarter and 41.4 percent in the third quarter of this fiscal year', 'Our operating income increased 31.1 percent from the prior year quarter and 62.8 percent from the third quarter of this fiscal year', 'Operating margins in the quarter were 14.8 percent compared to 12.3 percent in the prior year quarter and 10.4 percent in the third quarter of this fiscal year', 'The full year, operating income was 66.9 million dollars or 11.9 percent of sales compared to 51.7 million dollars or 9.8 percent of sales in fiscal 2002', 'EBITDA was 27.9 million dollars which compares to 20.9 million dollars in the prior year quarter, a 19.9 million in the third quarter this year. EBITDA margins were 18.1 percent of sales compared to 15.2 percent in the prior year quarter and 14.7 percent in the third quarter this year', 'And for the full year, EBITDA was 89.7 million dollars or 15.9 percent of sales, 72.9 million dollars or 13.8 percent sales in fiscal 2002', 'Our adjusted net income was 10.4 million dollars and that exceed the consensus first call estimates of $10 million', 'For the full year, adjusted net income was 27.7 million dollars compared to 16.4 million dollars in fiscal 2002. We reported adjusted earnings per share of 42 cents that exceeded the consensus first call estimate of 40 cents', 'For the full year, adjusted earnings per share were $1.11 compared to 67 cents in fiscal 2002, an increase of approximately 66 percent', 'Our inventory decreased 8.6 million dollars from the third quarter on a constant currency basis and 6.5 million dollars on as reported basis', 'Finished goods inventory turnover in the quarter was 3.6 times compared to 3.5 times in the fourth quarter last year and 3 times in the third quarter of this fiscal year. Receivables on a constant currency basis, which increased 2.3 million dollars or 2 percent compared to the third quarter despite constant currency sales growth of 9.8 percent versus the third quarter', 'On an as reported basis, receivables increased 4.8 percent from the third quarter compared to sales increase of 13.8 percent. Our DSL (ph) in the fourth quarter was 75, down from 78 in the fourth quarter last year and 83 in the third quarter this fiscal year', 'Our cash flow from operations was 26.3 million dollars in the quarter compared to 9.9 million dollars in the prior year quarter and 11.4 million dollars in the third quarter of this fiscal year', 'For the full year, cash flow from operations was 48.3 million dollars compared to 21.9 million in fiscal 2002', 'Let me now comment on our business prospects and some particular developments in the quarter. I would like to deal first with sales and in particular North America where demand for our products was exceptional. And was built on the momentum we first experienced last July and have benefited from continuously since then', 'Our investments in prescription laboratories, manufacturing capacity for poly carbonate, and other high index materials all combined with well focused sales and marketing activities have enabled our growth to outpace the market and so market share gains have been made. Sales of value-added products grew and gross margin increased', 'As a result of this improved sales mix and a lower cost of production resulting from increased factory output', 'As we expand our laboratory network in north America and further reinforce our relationship with the retailer with new products including Teflon easy care lenses, we expect that the sales momentum established over the last three quarters will be maintained. Though I would caution you not to expect 100 percent growth in every future quarter from our North American business', 'As reported, aggressive sales in the company increased approximately 8 percent compared to the fourth quarter last year, an increase of approximately 15 percent compared to the third quarter. When we exclude the impact of currency, progressives increased 3.7 percent compared to the comparable period last year. (inaudible) was particularly strong in high index progressives, including those made from poly carbonate as well as those progressives with photo chromic treatments', \"It's also important to note that we continue to see substitution of our older progressive lens designs with our newer and more profitable progressives. I anticipate that this favorable substitution will continue and it will be further enhanced by the introduction of additional new progressive lens designs during fiscal 2004\", 'All of this will support our intent to continue revenue growth from this category', \"Turning now to our prescription laboratory network, many of you know that in Australia and Europe this forms of our business. The 19 percent constant dollar revenue growth that we achieved in the quarter through this network in all geographies is testimony to the quality of these businesses. I'm pleased to report that demand in our North American laboratories also continues to increase\", 'This organic growth, in combination with the continued acquisition such as the recently announced purchase of Copeland Optical, Kansas City Ophthalmics and Suland (ph) Optical provides further ability to achieve sales growth that outpaces the industry growth rate', 'Commenting now on the supply chain management, North American sales service levels continue to exceed our targets during the quarter and back orders reached record lows for the company. Service levels in Europe and rest of the world also improved and will continue to receive our attention in fiscal 2004. Manufacturing sites are delivering high compliance in their output to demand and our focus on the remaining elements of our global supply chain has created improved financial and operational performance', \"I've stated earlier, inventories declined 8.6 million dollars in the quarter on a constant dollar basis while service levels continued to improve\", 'Before commenting on our outlook for fiscal 2004, I would like to make some additional comments on our fourth quarter financial performance. First, you will note that as reported, operating expense increased 2.9 million dollars in the quarter as compared to the same period last year', 'When we exclude the impact of currency, operating expense actually decreased 320,000 dollars. As a percent of sales as reported in the quarter was 27.7 percent down from 28.8 percent in the year ago period at 31.1 percent in the third quarter', 'This indicates improved operating leverage and the benefits of our continuing diligence on cost containment', \"Commenting a little further on operating expense, you will note that we restructured our R&amp;D organization to meet our future business needs and we've located substantially all of those activities in Australia\", 'As a result of that work, I expect the fiscal 2004 R&amp;D expenditure will remain at approximately current levels', 'Separately I expect a modest increase in sales and marketing costs will result in part through our acquisitions but mainly from a desire to further expand business revenues', 'Second point on the financial performance, we recorded an after tax foreign currency loss of million dollars in the quarter of which 4.8 million dollars unrealized loss was related to our Euro denominated notes', 'Adjusted net income excludes from reporting income the translation impact from these notes. We believe adjusted net income provides a better representation of our true operating results. Thus the translation does not affect cash flow, it has no near-term impact on the companies a ability to conduct business and it can cause reported results to fluctuate significantly from period to period', 'I would also mention an after tax gain of 0.7 million dollars was reported in the quarter resulting from derivative contracts associated with hedging the companies a Euro denominated interest obligations and some other favorable currency transactions', 'Finally, I would like to comment on expectation for 2004. I see no reason to believe that growth in our business will be based on improvements in the global economy. Or that we should endeavor to reengineer our business from its current geographic balance because one particular region now holds significantly better prospects than another', \"Of course I'm conscious of the current difficulties that exist, for example, in summation markets. And recognize this is having an impact on our business in this region\", 'Despite these locally important digits and the general weaknesses in many economies, I believe the further progress can be made in fiscal 2004. By continuing to follow the same strategies that benefited the company this past fiscal year', 'Accordingly, my four priorities are, thusly, revenue growth from progressive lenses, photo-chromic treatments, high index lenses, including poly carbonate and anti-reflective coatings including the continued introduction of Teflon easy care lenses', 'Secondly, continued management operating expenses to produce improved operating margins', 'Thirdly, continued diligence in the supply chain to maintain, and where possible further improve working capital utilization while sustaining and in some cases improving customer service', 'And fourthly, controlled expansion of our global RX laboratory network, particularly in North America', \"Now as a result of the efforts from those four priorities and based on current currency rates and business trends, I'm targeting the following financial performance\", 'Sales growth of approximately 6 to 7 percent, which is broadly consistent with the trends of the past three quarters and I believe above the estimated industry growth rate. Gross market margins will, I believe, remain broadly the same as improvements of the sales mix may be at least partially offset by price and margin erosion on commodity products', 'Our operating expense in constant currency will increase slightly compared to fiscal 2003 and will again decline as a percentage of sales. Operating income, I expect to be between 13 and 14 percent of sales. On interest expense, approximate approximately 75 percent of our interest costs are dependent on the Euro dollar exchange rate', 'Based on the current spot rate of 115, this will have an adverse impact on net income compared to fiscal 2003 as this expense has not been hedged', 'However, this impact will be largely offset by increased sales and profit on translation of foreign financial statements back into U.S. dollars as well as hedged on currency contracts contracted to hedge anticipated cash flows', 'Net income excluding the unrealized translation effect of foreign currency on our net long-term Euro denominated debt is expected to exceed 33.5 million dollars. This is above this consensus first call estimate of 31.8 million dollars and above my previous guidance of 32 million dollars', 'Working capital is expected to increase slightly. This will largely result from increased receivables associated with higher sales. I expect capital spending to range between 20 and 25 million dollars and that will be largely offset by expected depreciation and amortization expense of 22 to 24 million dollars', 'Also I would remind you we have a large net operating loss carry forward in the U.S. This is expected to save approximately $5 million in taxes paid in fiscal 2004', \"There's a consequence of these income statements and balance sheet assumptions and expectation, cash flow free cash flow after the capital spending of approximately 20 to 25 million dollars is anticipated to be broadly quarter net income\", 'And we will use this to fund additional prescription lab acquisitions, the repayment of outstanding debt and/or add to existing cash balances depending upon the opportunities available that are determined at each moment in time', 'And with that, I would like now to open the call up to questions', 'Ladies and gentlemen, thank you for standing by. Welcome to the Sola International first quarter fiscal 2004 earnings release conference call. During the presentation, all participants will be in a listen-only mode. Afterwards, we will conduct a question-and-answer session. At that time, if you have a question, please press the one, followed by the four on your telephone. At a reminder, this conference is being recorded, Wednesday, August 6, 2003. I would now like to turn the conference over to Jeff Cartwright, director of finance and investor relations. Please go ahead, sir', \"Thank you, Kathy. Good morning, everyone. I would like to welcome you to Sola International 2004 fiscal first quarter conference call. With me is Jeremy Bishop, President and Chief Executive Officer of the company. I would like to remind everyone that this conference call is being recorded. Remarks made during the call may contain certain forward-looking statements. By their nature, such statements are subject to certain risks and uncertainties that could cause actual results to differ materially from estimates given today. A detailed explanation of these risks can be found in our Form 10-K. I would also like to make note that our earnings release, including the supporting financial schedules and reconciliations of non GAAP financial measures is included on the Sola web site at www. Sola.com. The focus on today's call is for Jeremy Bishop to provide his overview of the quarter's results and provide an update on key business initiatives. At this time, I will turn the call over to Jeremy\", \"Thank you, Jeff, and good morning, ladies and gentlemen. I would like to welcome our investors, both equity and debt, potential investors, banking and business partners to the call. During our last conference call, I laid out our financial and operational objectives for this fiscal year, and I'm please to report that our first quarter performance is in line with or exceeding each of these objectives. At the head line level, we exceeded our revenue. Income and cash flow targets with exceptional growth in our North American business once again driving these strong results. Looking in more detail and first at the P&amp;L, some highlights this quarter include net sales that grew 13.9% on an as reported basis versus the 6 to 7% we predicted. On a constant currency basis, net sales increased 5.3%, with North America increasing 11.1%, Europe increasing 4.4%, and the rest of the world declining 5.8%. The previous new growth in our primary regions resulted from the ongoing pursuit of three key strategies I have laid out in the past. The first strategy is to generate growth from the following four product areas. Firstly, progressive lenses where I can report continued growth in our newer designs and the launch of a new lens, AO Pro Easy under the American Optical brand. Secondly, (inaudible) treatments where we benefited from revenue growth in our sales transition product. Thirdly, high index lenses, which provided significant revenue growth in polycarbonate, our proprietary high index material and other high index materials. Fourthly, advanced lens coatings where we achieved high volume and revenue growth in Teflon easy care lenses. This reinforces my belief this product line will become a significant part of our future revenue and income stream. At this point, I should mention that my desire to protect our competitive position and the associated sales and profits means that the company will no longer provide specific sales and volume data in each of these categories that could then be used by our competitors to their advantage. We just ask for your understanding of our position on that. Moving on, our second strategy is to increase sales to the expansion of our global prescription laboratory network, where, ex-cueing the impact of currency, sales grew by approximately 20% over the year ago quarter. Here, we benefited particularly from growth in the sales of the product areas that I just referred to. We're continuing to explore opportunities to further expand this distribution system through acquisitions, and anticipate that this will be possible this fiscal year. Our third revenue growth strategy is to capitalize on our high level of service. Our North American business is providing a level of service for liability to its customers that is unprecedented for Sola, and, possibly, for the industry. Building from this success, our supply chain group is now producing service improvements in our second major market, Europe. And I anticipate that this will, over time, rise to a similar level of excellence as in North America. Before leaving revenues, I would add that on a constant currency basis, sales to our top 20 customers increased by $5.4 million, and on an as reported basis, this increase was $9.5 million. These customers account for 41% of the company's total sales with our largest individual customer representing 5.6% of our total sales. Now moving away from revenues, gross margin this quarter was 40.5%. This compares to 41.4% for the fiscal year 2003. Those of you who regularly follow the company will know that our gross margin is in the range of, typically, 40 to 43% from quarter to quarter, reflecting changes that occur in product, region, and customer mix, and production costs in our factories and Prescription Laboratories. It is also worth mentioning that while we generate higher average selling prices and profit dollars from sales in the four key product areas I've just mentioned, this does not necessarily translate into a higher consolidated gross margin percent. In summary, I continue to expect that the net effect of the quarterly movements will result in fiscal 2004 margins remaining broadly the same as those in 2003. This is consistent with guidance provided during our last conference call. If we continue down the income statement, operating expense decreased $1 million, excluding the translation in foreign currency, and a percent of sales as reported RX in the quarter was 27.6% compared to [29]% in the year ago period. EBITDA in the quarter was $25.3 million, or 16.4% of sales, which compares to $20.9 million or 15.5% of sales in the prior year quarter. Turning, then, to operating income, this was not $19.8 million in the quarter, up approximately 32% over the year ago quarter, while operating margins on an as reported basis expanded to 12.9%, from 11.1%. This performance confirms our previously guidance for full-year operating profit margins of 13 to 14%. Below operating expense is our interest cost, and this, un-hedged predominantly Euro expense is higher than the same quarter last year, a more continue we react directly to exchange ratings. Largely offsetting this will be increased profit that results from the translation of European earnings as one of hedge games on interest-bearing cash deposits housing Euros and gains on currency contracts transacted to hedge anticipated cash flow. Finally, on the P&amp;L, adjusted net income was $7.5 million, which compared to the consensus first quarter estimate of $6.7 million and $5.4 million in the year ago quarter\", \"If we turn now to the balance sheet, I first would like to comment on inventory, which, excluding the translation impact of currency, increased $7.1 million from March 31, 2003. This inventory increased was planned, and it relates to additional inventory required to support increased business with the UK based chain retailer which was won during the quarter and new product launches, including Teflon easy care and AO Pro Easy, and some replenishment of inventory that was depleted in the prior quarter and was required to maintain customer service levels. Finished goods inventory turnover was 4.3 times in the quarter, which compares to 4.2 times in the first quarter last year, and 4.7 times in the fiscal 2003 fourth quarter. Looking at receivables, these, excluding the transaction impact of currency, decreased $1.1 million from March 31, 2003. Collection efforts remain strong, and resulted in a DSO of 69.2 this quarter, compared to 74.9 in the prior year quarter, and 67.1 in the fiscal 2003 fourth quarter. Before leaving the balance sheet, a word on debt is necessary. On an as reported basis, total debt at June 30, 2003, was $338 million, compared to $328.2 million at March 31, 2003, an increase of $9.8 million. But excluding the translation impact of foreign currency, which was $10.9 million, debt decreased $1.1 million from year end. Turning next to cash flow, in the quarter we generated $10.8 million of cash from operations, compared to $6.3 million in the prior year quarter. Of this, we reinvested $3.9 million on capital spending for equipment and molds, and $900,000 on a previously announced lab acquisition. The balance represents an increase in cash on the balance sheet, and, as a consequence, total debt, less cash, excluding the translation impact of foreign currency, decreased $8.4 million in the quarter. Further, I continue to believe that our operating cash flow, planned capital spending of 20 to $25 million will be broadly equal to adjusted net income. This cash flow will be used to fund additional prescription lab acquisitions, debt repurchase, and/or added to existing cash balances. So, to summarize, this quarter's performance exceeded expectations. Our growth strategies are working, manufacturing costs and compliance are on target, our operating expenses are under control, and we're gaining operating leverage. This all serves to increase my confidence in our future prospects, and, accordingly, I am raising our fiscal 2004 adjusted net income target from $33.5 million to $35 million. This compares to current first quarter estimates of $33.3 million. Finally, I would like to confirm the search for CFO has commenced during the quarter, and (inaudible) has retained in the process. With that, I would like to open it back to Kathy to open the call for questions\", 'Ladies and gentlemen, thank you for standing by. Welcome to the SOLA International second quarter fiscal 2004 earnings conference call. During the presentation all participates will be in a listen only mode. Afterwards, we will conduct a question and answer session. At that time if you have a question please press the \"1\" followed by the \"4\" on your telephone. As a reminder this conference is being recorded Wednesday, October 29th, 2003', 'I would now like to turn the conference over to Jeff Cartwright, Director of Finance and Investor Relations. Please go ahead, sir', \"Thank you, Monica. Good morning, everyone. I would like to welcome everyone to SOLA International's fiscal 2004 second quarter conference call. With me today is Jeremy Bishop, President and Chief Executive Officer and Ron Dutt, Executive Vice President and Chief Financial Officer\", 'I would like to remind everyone that this conference call is being recorded. Remarks made during the call may contain certain forward looking statements. By their nature, such predictive statements are subject to certain risks and uncertainties that could cause actual results to differ materially from estimates given today. A detailed explanation of these risks can be found in our form 10-K. I would also like to make note that our earnings release, including the supporting financial schedules and reconciliations of non-GAAP financial measures is included on the SOLA website at www.sola.com', \"The focus of today's call is for Jeremy Bishop and Ron Dutt to provide their overview of the quarter's results and an update on key business initiatives. And at this time I will turn the call over to Jeremy Bishop\", \"Thank you, Jeff, and good morning, ladies and gentlemen. I'd like to welcome our…\", 'Pardon me, Mr. Cartwright?', 'The line was just muted for a second. Please continue', 'Thank you', 'Thank you very much. Let me just restart. Thank you, Jeff. Good morning, ladies and gentlemen. I would like to welcome our investors, both equity and debt, potential investors, banking and business partners to the call. And I would also like to publicly welcome Ron Duct to the executive team of SOLA and look forward to benefiting from his experience and wisdom', \"And now before I go further, you may occasionally hear us clearing our throat, but I think all of you know that we're based as a company here in San Diego and a majority of you have seen on the news that we have some local challenges with fire that have surrounded the general area over the past days\", \"First thing, I'd like to reassure you that those fires, though dramatic in their form, have had little to no impact on the company's business. And with that in mind, I'd like to publicly thank our local partners in business who have helped to sustain our operations, and in particular the in excess of 1,000 employees that we have in San Diego and Tijuana. All of whom have been impacted to some degree by the events that have occurred over the past days and are still unfolding. And their support of the company, its operations and by default, you the shareholders and DEX-holders, has been unsurpassed and unparalleled. And we all collectively own them a debt of thanks\", \"With that said, I'll move on to the primary purpose of the call. And during our last conference call I reminded you of our financial and operational objectives for this fiscal year and I'm pleased to report that our second quarter performance is in line with or exceeding each of those objectives\", \"And looking in more detail, and first at the P&amp;L, some highlights this quarter include net sales that grew 14.6% on an as recorded basis. And on a constant currency basis, net sales increased 7.7%, compared to the 6 to 7% we predicted on last quarter's call, with North America increasing 10.2%, Europe increasing 6.1% and rest of world increasing 5.6%. This revenue growth resulted from the ongoing pursuit of three key strategies that I have laid out in the past\", 'The first strategy is to generate growth from the following four product areas. Firstly, progressive lenses, where I can report continued growth in our newer designs and the launch of a new lens, SOLA One. And this new product targets a very large segment of the global progressive lens market and is designed to provide the wearer with outstanding visional performance in the very wide range of daily visual tasks that we undertake', \"We're offering the lenses in a large range of materials that includes CR39, Finalite 1.6, polycarbonate and for the first time from SOLA , a high index 1.67 product. I believe that the versatility of this design and the wide range of materials that it's available in, will ensure that in the years to come the product will find a position as the progressive lens of choice, bringing it to our customers around the world\", 'Secondly, photochromic lenses, where we continue to generate significant revenue growth in our sales of Transitions product. Thirdly, high index lenses, which again provided significant revenue growth in polycarbonate, Finalite and other high index materials', 'But fourthly, advanced lens coatings, where we achieved strong volume and revenue growth in Teflon EasyCare lenses,a performance which continues to reinforce my belief that this product line will become a significant part of our future revenue and income stream', \"It's worth also reminding [indecipherable], that as communicated on last quarter's call, my desire to protect our competitive position, means that the company will not provide specific sales andvolume data for products, materials and channels. This could be used by our competitors to their advantage\", 'Moving on, our second strategy to increase sales is through the expansion of our global prescription network, where excluding the impact of currency, sales grew by approximately 17% over the year ago quarter, benefiting particularly from growth in sales of product areas that I have just referred to', 'Because of the high growth potential of these businesses we continue to explore opportunities to further expand its distribution system through acquisitions and anticipate that this will be possible in 2004', 'Our third growth strategy is to capitalize on our high level of service. And our North American business continues to provide a level of service reliability to its customer that is unprecedented for SOLA , and possibly for the industry. Forwarding from this success, our supply chain groups are now providing service improvements in our second major market, Europe, and I anticipate that this will, over time, rise to a similar level of performance as North America', 'Moving away from revenues, gross margin this quarter was 39.6%, and this compares to 40.6% in the same quarter last year, and 44.5% in the first quarter. And those of you who regularly follow the company will know that our gross margin moved in a range of 100 to 300 basis points quarter to quarter, reflecting changes that routinely occur in product, region and customer mix, as well as production cost in our factories and prescription laboratories', 'Also, as I have stated on prior conference calls, while we generate higher average selling prices and profit dollars from sales in the four key product areas I mentioned earlier, this does not necessarily translate into a higher consolidated gross margin percent. For example, sales of Transitions photochromic products fall into this category. And they serve to contribute very valuable gross profit dollars, while resulting in a gross margin percent that is significantly below that which we achieve on other key products', \"Despite being diluted to gross margin percent, a significant market exists for the Transition lenses and other of the company's key products. As such, it's appropriate for the company to actively pursue these opportunities and thereby deliver an increased profit stream for our shareholders\", \"In summary, I continue to expect the net effect of these factors will result in fiscal 2004 margins remaining broadly the same as those in fiscal 2003, and this is consistent with guidance provided during our last conference call. And now I'd like to introduce our newly appointed CFO, Ron Dutt, who will walk you through other financial metrics of the company\", \"Thank you, Jeremy, and good morning to all of you. As a preamble, I would quickly like to say that I am delighted to be joining SOLA at what I believe to be an exciting point in the company's evolution and look forward to meeting all of you in the near future\", \"Picking up where Jeremy left off, let's continue down the income statement to operating expense, which increased approximately $800,000, compared to prior year, largely due to the impact of foreign currency translation. But its worth noting that as a percent of sales, operating expense, or OpEx in the quarter was 26.5%, compared to 29.7% in the year ago period. We continue to place a high emphasis on the management of operating expense and anticipate that this operating leverage will continue for the balance of the current fiscal year\", 'EBITDA in the quarter was 29.6m, or 16.9% of sales, which compares to $19.4m, or 14% of sales in the prior year quarter. Turning to operating income, this was $20.6m in the quarter, up approximately 37% over the year ago quarter, while operating margins on an as reported basis expanded to 13%, from 10.8%. This performance confirms our comfort with guidance given previously that we will achieve full year operating profit margins of 13 to 14%', 'Below operating income is an interest cost, which is unhedged expense and is higher than the same quarter last year and will continue to react directly to exchange rates. Specifically, net interest expense this quarter was $8.8m, compared to $7.8m in the year ago quarter', 'Largely offsetting this, however, is the increased profit that results from the translation of European and rest of world earnings, as well as hedge gains on interest bearing cash deposits held in euros, and along with realized gains on currency contracts transact at the hedge anticipated cash flows. Finally, adjusted net income was $7.5m, which compared to the [consensus] first call estimate of $7.4m, and the year ago quarter at $6.1m', \"As for the balance sheet, I'd first like to comment on inventory, which excluding the translation impact of currency, decreased 1.1m from June 30th of this year. This inventory decrease occurred despite additional inventory required to support new product launches, including Teflon EasyCare, AO PRO Easy and SOLA One, as well as inventory required to support increased business with the UK based chain retailers\", 'Finished goods inventory turnover was 4.4 times in the quarter, which compares to 4.2 times in the second quarter last year and 4.3 times in the first quarter of this financial year', 'Next, I would like to comment on receivables, which excluding the translation impact of currency, decreased 3.8m from June 30th this year. The strong performance of our collection efforts resulted in a DSO of 67 days this quarter, compared to 71 in the prior year quarter and 69 in the first quarter of this financial year', \"Before leaving the balance sheet let's look at our debt. On an as reported basis, total debt at September 30 this year was 338.9m, compared to 338m at the prior June 30 quarter, an increase of $900,000. Excluding the translation impact of foreign currency, however, debt was unchanged compared to the first quarter\", \"Further, we continue to closely examine our capital structure. And as part of that examination we are actively monitoring capital market conditions and pursuing various alternatives to repurchase the company's 11% euro denominated bond. And for this and to provide flexibility we recently filed a $400m universal shelf registration, which replaces our previous $250m dollar shelf\", \"Turning next to cash flow in the quarter, operating cash flow was negative 4.4m, compared to negative 2.3m in the second quarter last year. Excluding interest payments that totaled $16.2m and cash contributions of 1.6m to the company's defined benefit plan, adjusted operating cash flow in the second quarter was 13.0m, which compares favorably to 10.8 in the second quarter last year. Interest payment in Q2 last year totaled 13m\", \"Further in the quarter, capital expenditure on equipment and molds totaled 4.9m, compared to 7.1m in the second quarter last year. We continue to believe that full year operating cash flow after planned capital spending of 15-20m, will be broadly equal to an adjusted net income. This cash will be used to fund additional prescription lab acquisitions and/or added to existing cash balances. And with those comments I'd like to turn the call back to Jeremy\", \"Thank you, Ron. To summarize, this quarter's performance met expectations. The company's growth strategies are working, manufacturing costs and compliance are on target, operating expenses are under control, and we're gaining operating leverage. We will continue with the strategies that have benefited the company over the past 18 months, including pursuit of growth in high margin products such as progressive lenses, photochromic lenses, and to reflective coatings and high index materials, such as polycarbonate\", \"In parallel with these activities, we will continue to prudently manage operating expenses and critically examine all aspects of the company's performance. As a consequence, it is now anticipated that a charge for certain restructuring activities may be recorded, commencing in the quarter ended December 31st, 2003\", \"It's further expected that this charge will not exceed $20m. Of course, specific details relating to this potential restructure will be released at such time as they become available\", 'And finally, while our first six months has been better than expected and could justify increasing guidance, I feel it is prudent to not raise expectations at this time, until the impact of certain consolidation in the global retail channel is better understood. As such, our previously stated guidance of achieving fiscal 2004 adjusted net income of 35m, remains appropriate', \"Adjusted net income excludes the impact of foreign currency on the company's net long-term euro denominated debt, and the anticipated charges to be recorded in the remainder of the fiscal year, relating to the company's planned restructuring activities. And now with that done, I would like to open the call up to questions\", 'Ladies and gentlemen, thank you for standing by. Welcome to the SOLA International Third Quarter Fiscal 2004 Earnings Conference Call. During the presentation, all participants will be in a listen-only mode. Afterwards, we will conduct a question-and-answer session. At that time if you have a question please press the \"*\" then the number \"1\" on your telephone; if you would like to withdraw your question press the \"#\" key. As a reminder this conference is being recorded Thursday February 12. I would now like to turn the conference over to Mr. Jeff Cartwright, Director of Finance and Investor Relations. Please go ahead, sir', \"Thank you, Sandra. Good morning, everyone. I would like to welcome you all to SOLA International's fiscal 2004 third quarter conference call. With me today is Jeremy Bishop, President and Chief Executive Officer; and Ron Dutt, Chief Financial Officer\", \"I would like to remind everyone that this conference call is being recorded and remarks made during the call may contain certain forward looking statements. By their nature, such predictive statements are subject to certain risks and uncertainties that could cause actual results to differ materially from estimates given today. A detailed explanation of these risks can be found in our Form 10-K. I would also like to make note that our earnings release, including the supporting financial schedules and reconciliations of non-GAAP financial measures is included on the SOLA website at www.sola.com. The focus of today's call is for Jeremy Bishop and Ron Dutt to provide their overview of the quarter's results and an update on key business initiatives. And at this time I will turn the call over to Jeremy\", 'Thank you, Jeff, and good morning, ladies and gentlemen. I would like to welcome our investors - both equity and debt - potential investors, banking and business partners to the call. This has been a landmark quarter for SOLA. Our successful operating strategy provided us with a financial performance that allowed us to recapitalize the Company and so reduced debt by over $48m. This recapitalization required a series of transactions that comprised of an issuance of 6.9m shares of our common stock at $17.50 per share and the completion of the new senior credit facility consisting of $175m 6-year term loan and the $50m 5-year revolver. Net proceeds from these transactions were used to repurchase 195m euro -- about 205m euro 11% notes. The recapitalization increased liquidity in our common stock, strengthened our balance sheet, reduced interest expense and improved earnings and cash flow. Also because almost all of our remaining debt is now denominated in U.S. dollars, the transparency of our future financial statements will improve', \"And if I turn now to our income statement, some highlights this quarter include net sales that grew 17.8% on an as-reported basis. And on a constant-currency basis, net sales increased 7.4% compared to the 6-7% I predicted on last quarter's call. North American segment increased 9.3%, Europe increased 9.1% and rest of world 0.5% -- all on a constant-currency basis. This revenue growth resulted from the ongoing pursuit of three key strategies that I have laid out in the past but will repeat now. The first strategy is to generate growth from the following four product areas - firstly, Progressive lenses, where I can report overall volume and revenue growth in the quarter with our key designs of SOLA One, SOLAMAX, AO Contact and AO and Easy independent with strong performance. Secondly, photochromic treatments, where we continue to generate double-digit volume and revenue growth in our sales of Transitions product. Thirdly, high index lenses, which provided double-digit volume and revenue growth in polycarbonate and other high index materials and included to launch over 1.67 index progressive lens during the quarter. And fourthly, in the area of products, advanced lens coatings, where we achieved continued volume and revenue growth in Teflon EasyCare lenses\", \"Our second strategy is to achieve a buyback market average growth through our global prescription of all three networks. Well, on a natural coated basis sales grew by approximately 35% over the year ago quarter and this success continues to confirm the attractiveness of expanding our global prescription network and, as such I'm pleased to announce with effective February 6, 2004, SOLA has acquired a 100% of stock of Great Lakes Coating Laboratory. The purchase price consisted of $15.3m in cash consideration and the assumption of $1.9m in debt and contingent payments total an additional of $3.8m. Great Lakes is located in Troy, Michigan, has annual sales of approximately $11.5m and is considered by many to be the premier coating lab in United States. Well, we anticipate that this acquisition will further improve our ability to distribute Teflon EasyCare lenses in North America. And finally, in this area, I would like to personally welcome all Great Lakes employees and particularly founders Michael and Bernie Green to the SOLA family\", \"Our third revenue growth strategy is to continue capitalizing on our superior customer service levels. As stated on last quarter's call, our North American business continues to provide a level of service reliability to its customers that is unprecedented for SOLA and possibly for the industry, and building from this success our supply chain group is now producing significant service improvements in our second major market, Europe, and their work allows in the quarter to achieve significant one of sales in [audio gap] as demands soared in that market in an unpredictable manner ahead of legislative reform, it has now reduced government subsidizers on eyewear\", \"Moving away from revenues, gross margin in this quarter was 40.7% and this compares to 39.5% in the second quarter and 41.4% in the same quarter last year. And for the 9 months year-to-date gross margin is 40.2% of sales compared to 41% in fiscal 2003. And those of you who regularly follow the company will recall that our gross margin moves in the range 100-300 basis points quarter-to-quarter, reflecting changes that routinely occur in product, region, and customer mix and production costs in our factories and prescription laboratories. Also, as I have state on prior conference calls while we generate higher average selling prices and higher profit dollars from sales in the four key product areas mentioned earlier; this does not automatically translate into a higher consolidated gross margin percent. As an example, sales of generic Transitions photochromic products fall into this category and so it contribute valuable gross profit dollars, was resulting in a gross margin percent that is significantly below to that which we achieve on other key products. But despite being dilutive to gross margin percent, a significant market exists for generic Transitions product. And so it's appropriate for the company to actively pursue these opportunities and thereby deliver an increased profit stream for our shareholders. And now, I would like to turn the call over to Ron Dutt, who will walk you through other financial metrics of the company\", 'Thank you, Jeremy, and good morning to all those listening in. Picking up where Jeremy left off, I would first like to discuss operating expense, which excluding special charges and on a constant currency basis declined approximately $0.5m in the quarter. On an as reported basis and due to the weakness of the U.S. dollar against other major currencies, operating expense increased approximately $2.8m compared to the prior year in the second quarter. Adjusted EBITDA in the quarter was 26.4m or 16.6% of sales, which compared to 19.1m or 14.2% of sales in the prior year quarter. For the 9 months year-to-date adjusted EBITDA was $78.6m, or 16.7% of sales, compared to $59.5m, or 14.6% of sales, in fiscal 2003. Special charges totaled 4.6m in the quarter and related to workforce reductions, facility closures, and the impairment of certain assets. These charges are part of the anticipated $20m special charge, which was announced last quarter', 'Adjusted operating income, excluding special charges of $4.6m, was $20m in the quarter or 12.6% of sales which compares to $14m, or 10.4% of sales, in the year ago quarter. For the first 9 months year-to-date, operating income, excluding special charges of $4.6m, was $60.5m or 12.8% of sales compared to $44m, or 10.8% of sales in fiscal 2003. Finally adjusted net income was $7.6m, which compares to $5.8m in the year ago quarter and the consensus first call estimate of $7.0m', \"Turning next to the balance sheet, I'd first like to comment on inventory, which excluding the translation impact of currency decreased $6.9m from September 30, 2003. This inventory decrease occurred despite additional inventory required to support new product launches, including AO Easy and SOLA One. On a year-to-date basis and excluding the impact of currency inventory history increased $2.4m. Finished goods inventory turnover was 4.5 times in the quarter, which compares to 3.9 times in the quarter last year and 4.4 times in the second quarter of this financial year\", 'Next I would like to comment on receivables which excluding the translation impact of currency increased $1.5m during the quarter. This increase primarily reflects the normal seasonal slow down we experienced in collection activity at the end of December. On a year-to-date basis and excluding the impact of currency, receivables have decreased $0.2m despite a comparable year-to-date sales increase of 7.0%. DSO was 71.2 days this quarter, which compares to 72.5 in the prior year quarter and 67.0 in the second quarter of this financial year. Cash flow from operations on an as reported basis was $16.7m in the third quarter of fiscal 2004 compared to $9.7m in the year ago period. Excluding the effect in the recapitalization and special charges, cash flow from operations would have been $15.1m or an increase of $5.3m from the third quarter last year', \"Next, as the result of the recapitalization in the company total debt at December 31, 2003 was $290.6m compared to $338.9m at September 30, 2003 and as a percent of capital GAAP at December 31 was 43.1% compared to 54.4% at September 30. Also cash and cash equivalent at December 31st was $102m compared to $59.8m at September 30th. Accordingly net GAAP at December 31 was $188.6 compared to $279.1m at September 30th. And with those comments, I'd like to turn the call back to Jeremy\", \"Thank you Ron. So, to summarize this quarter's operational performance met all expectations. The company's growth strategy are working, expenses are under control and we continue to again operating leverage. In addition we now have a strengthened balance sheet and the benefits of our new acquisition. This provides a proper background for me to confidently raise guidance for the fourth quarter. Assuming the company will continue to benefit from the current LIBOR interest rate of approximately 1.1% which serves as the basis for calculating the interest rate on our $175m floating rate term loan. I now expect to just -- net income for the fourth quarter to reach $16.4m up $3.4m from prior guidance. And with that I'd like to open the call up to questions, so I'll hand the call back to the operator, please\", 'Ladies and gentlemen, thank you for standing by. Welcome to the Sola International Fourth Quarter Fiscal 2004 Earnings Result Conference Call. During the presentation, all participants will be in a listen-only mode. Afterwards, we will conduct a question and answer session. At that time, if you have a question, please press the one followed by four on your telephone. As a reminder, this conference is being recorded Thursday, June 24, 2004. I would now like to turn the conference over to Mr. Jeff Cartwright, Director of Investor Relations and Treasurer. Please go ahead, sir', \"Good afternoon, everyone. I would like to welcome you all to Sola International's Fiscal 20904 Fourth Quarter Conference Call. With me today are Jeremy Bishop, President and Chief Executive Officer, and Ron Dutt, Chief Financial Officer. I would like to remind everyone this conference call is being recorded\", \"Remarks made during the call may contain certain forward looking statements. By they're nature, such predictive statements are subject to risks and uncertainties that could cause actual results to differ materially from estimates given today. A detailed explanation of these can be found in our Form 10K, also filed today. I would also like to make note that our earnings release, including the supporting financial schedules and reconciliations of non-GAAP financial measures, is included on the Sola web site at www.sola.com\", \"The focus of today's call is for Jeremy Bishop and Ron Dutt to provide their overview of the quarter's results and their outlook for fiscal 2005. At this time, I will now turn the call over to Jeremy Bishop\", 'Thank you, Jeff. Good afternoon, ladies and gentlemen. I would like to welcome our investors, both equity and debt, potential investors, banking and business partners to the call', \"As you all have seen from our earnings release, the review of our past financial statements is now complete and the company has determined that the previously announced $2.4 million duplicate booking in our fiscal 2003 tax provision should be corrected in the our fiscal 2003 financial statement. The company has recorded those adjustments in the form 10K-A now filed with the Securities and Exchange Commission. Correction of this error in fiscal 2003 resulted in a $2.4 million increase to net income and a corresponding reduction in the company's income tax provision. And as such, there was no impact on the company's cash flow from operations\", \"Operationally, I'm pleased with our fourth quarter performance. The company's growth strategies are working. New products are gaining momentum. Expenses are under control, and we continue to gain operating leverage. In addition, our strength and balance sheet provide financial flexibility necessary to pursue our growth strategies. And we exceeded consensus first quarter estimates for sales, gross profits, adjusted operating profit and adjusted pretax profit, but our effective tax rate in the quarter increased from 30% in the prior nine months and year ago period to 42.8%. Forcing us to report lower than anticipated net income\", 'While we expected an increase in the fourth quarter tax rate, due to reduced interest expense recorded in the United States, and increased profitability in Italy, France and Brazil, which are higher tax rate jurisdictions, this increase was higher than we expected as the company recorded incremental tax provisions as a result of revising previous year estimates. Had our tax rates remained at 30%, adjusted net income would have been 17.7 million, compared to the first call estimate of 16.4 million', \"As noted in our earnings release, net sales in the quarter grew 15.8% on an as-reported basis and on a constant currency basis, net sales increased 6% compared to the 4 to 6% we predicted on last quarter's call. Our performance was balanced amongst all major regions, as North America sales increased 6%, Europe increased 5.8% and rest of world increased 6 5%. And within Europe, sales results were particularly strong in France, Italy, Portugal, Germany and the United Kingdom while the rest of the world benefited from a modest recovery in Japan and Australia and continued strong results from South America. For the full year on a constant currency basis, as-reported net sales increased 15.5% -- sorry, 9.1% in North America, 6.2% in Europe and 2.1% in the rest of the world\", \"Our revenue growth resulted from the ongoing pursuit of the core strategies that I've laid out in the past. To remind everyone, these consist of the following. First, generating growth in our key product categories, including progressive lenses where our design Sola One, Sola Max, AO Reactive, AO Compact and AO Easy underpin this strong performance. In photochromic lenses, in high index lenses, including polycarbon, and our recently launched 1.67 index progressive lens. And finally in advanced lens coatings and in particular Teflon Easy Care lenses where revenues grew in every region of the world\", 'Secondly, we achieved sales growth in excess of the industry growth rates through our global prescription borrow through network. Here, sales on a constant currency basis grew by approximately 13% over the year ago quarter and nearly 14% for the total year. This success continues to confirm the attractiveness of expanding our prescription lab network and we are pursuing additional acquisitions. And I should also mention at this time that the integration of the recently acquired Great Lakes Coating Laboratory is proceeding well', 'And third, we continue to capitalize on our superior customer service levels. As stated on previous calls, the North American business continues to provide a level of service reliabilities to its customers that is unprecedented to Sola and possibly for the industry. Building from this success our supply chain group has now produced service improvements in our other major geographies, Europe, Australia and South America', \"Next, I would like to comment briefly on gross margins which were 41.6% this quarter compared to 40.7% last quarter and 42.5% in the year ago quarter. For the full year, gross margins were 40.6% compared to 41.4% in fiscal 2003. This year's performance is consistent with previous guidance that gross margins would range between 40 and 42%. Also in connection with the company's gross margin, the majority of the recorded special charges in the fiscal year were directed to reducing or eliminating high costs and underutilized manufacturing capacity\", \"I'd now like to turn the call over to Ron Dutt who will walk you through other financial metrics of the company\", 'Thank you, Jeremy. Good afternoon to all those on the call today', 'Picking up where Jeremy left off, I would first like to discuss operating expense, which was 56.4 million or 31.7% of sales, compared to 42.6 million or 27.7% of sales in the year ago quarter. Operating expense excluding restructuring and asset impairment costs of $12 million was 44.4 million or 24.9% of sales. For the full year, operating expense was 194 million or 23 29.3% of sales compared to 166.2 million or 29.5% of sales in fiscal 2003. Fiscal 2004 operating expense excluding restructuring and asset impairment costs of 16.7 million was 173.7 million or 26.7% of sales', 'Adjusted EBITDA in the quarter was 35.5 million or 19.9% of sales compared to 26.4 million or 16.6% of sales in the third quarter and was 27.9 million or 18.1% of sales in the prior year quarter. For the full year, adjusted EBITDA was 116.6 million or 17.9% of sales compared to 89.7 million or 15.9% of sales in fiscal 2003', 'Restructuring and asset impairment costs totaled $12 million in the quarter. Components of the charge included 7.8 million for the workforce reduction of 317 employees. 3.2 million for the impairment of certain assets, and $1 million for facility closures and other costs. For the full year, restructuring in an asset impairment costs were 16.7 million', 'And for the full year components of the charge included 8.4 million dollars for workforce reduction of 339 employees. Principally in Europe and Asia Pacific. And also 5.7 million for the impairment of certain assets, principally in North America and Europe. Finally, 2.6 million for facility closures and other restructuring costs', 'Adjusted operating income, excluding restructuring and asset impairment costs was 29.8 million in the quarter or 16.7% of sales compared to 20.0 million or 12.6% of sales in the third quarter and 22.8 million or 14.8% of sales in the year ago quarter. For the full year, adjusted operating income excluding restructuring and asset impairment costs was 90.3 million or 13.9% of sales compared to 66.9 million or 11.9% of sales in fiscal 2003', \"Net interest expense in the quarter was 3.5 million or 2.0% of sales compared to 8.1 million or 5.1% of sales in the third quarter. And 8.8 million or 5.7% of sales in the year ago quarter. The reduction in interest expense reflects the benefit of the company's recapitalization which was completed in the third quarter\", 'Effective tax rate on an adjusted basis in the fourth quarter was 42.8% compared to 30% in the prior year period. For the full year, the effective tax rate on an adjusted basis was 34.2% compared to 30% in fiscal 2003. The increase in the fourth quarter tax rate is largely due to reduced interest expense reported in the United States as a result of the recapitalization along with the increased profitability and higher tax rate jurisdictions', 'Finally, adjusted net income in the quarter was 14.4 million or 44 cents earnings per share, which compares to the consensus First Call estimate of 16.4 million or 51 cents earnings per share or $12.8 million or 51 cents earnings per share in the year ago quarter. For the full year, adjusted net income was 37.0 million or $1.37 earnings per share compared to 30.1 million or $1.21 earnings per share in fiscal 2003', 'Next, I would like to comment on inventory, which decreased $12.3 million in the quarter, on an as reported basis and 11.9 million on a constant currency basis. For the full year, inventory decreased 5.0 million on an as reported basis and 10.8 million on a constant currency basis. Finished goods inventory turnover was 5.8 times in the quarter, which compares favorably to 4.5 times in the third quarter and 4.7 times in the year ago quarter', 'Receivables on an as-reported basis increased 10.9 million in the quarter and $10.0 million on a constant currency basis. For the full year, Receivables increased $20.3 million on an as-reported basis and $13.1 million on a constant currency basis. DSO was 69.5 this quarter, which compares to 71.2 in the third quarter and 67.1 in the year ago quarter', \"Total debt at march 31, 2004 was $287.4 or 42.1% of capital compared to $290.6 million or 43.3% of capital at December 31, 2003 and 328.2 million or 55.4% of capital at March 31, 2003. The full-year decrease of 40.8 million primarily reflects the impact of the company's recently completed recapitalization\", 'Cash and cash equivalence at march 31, 2004 was $102.6 million compared to 102.0 million at December 31st and compared to 58.7 million at march 31, 2003. Accordingly, net debt at year end was 184.8 million compared to 269.5 million at the end of fiscal 2003', 'Cash flow from operations in the quarter was $23.2 million compared to 20.1 million in the year ago period. This cash flow was used to fund capital expenditures of 5.1 million and the $17.2 million acquisition of Great Lakes Coating Laboratory, which included the subsequent repayment of 1.9 million of assumed debt. For the full year, cash flow from operations was $51.2 million compared to 34.0 million in fiscal 2003', \"Now I'd like to turn the call back to Jeremy\", 'Thank you, Ron', 'Turning now to fiscal 2005, I would like to comment briefly on the changes of responsibility for our executive management that we announced in April. Functional leadership approach that we employed over the past three years enabled the company to successfully rationalize and restructure its operations. Benefits of that initiative are now clearly evidenced by our improved productivity and financial performance', 'This provides a platform that allows us to focus on the creation of incremental profits and cash flow through the marketing of the products and services that provide our competitive advantage. And through the acquisition of additional businesses', \"These objectives require that each of our senior executives is assigned a regional responsibility and is accountable on a daily basis for the commercial, manufacturing, and distribution activities in that region. As well as the development of regional strategy and investment recommendations. Further, it is each individual's responsibility to ensure that their region has the necessary infrastructure, process and systems to support these growth objectives. As such, the executive managers who led and executed our turn around are well positioned to now hold accountability for the next phase in our evolution. And so, Barry Packard is being assigned for the responsibility and development of the company's business of North America and to also assume interim responsibility for South America. Mark Ashcroft has taken up the same duties in Europe, while David Cross will oversee Asia Pacific\", 'Looking at the outlook for our business, I system that the global value of the lens market will grow up to 2 to 3% with volumes relatively flat in North America, Europe, Japan and Australia, while the emerging markets in countries such as China and India will provide low double digit volume growth. The declining average selling crisis in those markets will result in 2 to 3% value growth in those markets as well', 'In most regions, I see a great polarization of products in either of the local value commodity segment or the high value products and services from our prescription laboratories. Against that background, we will sustain manufacturing output of commodity product and increase our efforts on the expansion of sales through the manufacturing and distribution of higher value products and prescription laboratory services. And I believe our new regional management structure will ensure this these differences in regional and shallow requirements are properly addressed', 'I expect to gain revenue and profit growth from the fiscal 2004 launch of AO Easy and Sola One, and expansion of manufacturing output in high index lenses in the fourth quarter of fiscal 2005 and from increased distribution of Teflon Easy Care lenses in North America. And here I would mention that our existing production center in Kentucky has now been supplemented by additional facilities in our Michigan-based Great Lakes Coating Laboratory and Arizona-based laser optical and all of these sites are now shipping lenses to customers', 'In addition to distributing the product to independent eye care practitioners, we anticipate that sales will commence to U.S. retailers in the late summer. Also, we have initiated test consumer advertising programs in Europe and South America for Teflon Easy care lenses and we may extend this program to North America. The results of these tests will determine our level of future investment in this area', 'By region, we anticipate constant currency revenue growth of 4 to 6% in North America and in Europe and 3 to 5% in the rest of the world. On a consolidated basis, we are targeting overall sales growth of 4 to 6%', 'Fiscal 2005 gross margins are expected to remain within the current ranges of approximately 40 to 42% of sales and operating expenses, excluding anticipated restructuring costs of $3 million are expected to increase slightly. As a consequence, we forecast fiscal 2005 adjusted operating margins, which exclude anticipated restructuring costs, would increase to approximately 14%', \"Fiscal 2005 interest expense at today's interest rates is forecast to be between 18 million and $19 million, reflecting the benefits of the company's recapitalization. Further, during the year, we will repay $8.8 million of our term loan as required in our credit agreement\", 'Our fiscal 2005 adjusted effective tax rate is expected to increase between 35 and 36% compared to 34.2% in fiscal 2004. This is as a result of incurring significantly lower interest expense in the U.S. and the anticipated profit growth in higher tax rate jurisdictions', 'Restructuring costs are estimated to be approximately $3 million in fiscal 2005 and those reflect the completion of activities that were identified began in fiscal 2004', 'Fiscal 2005 net income on an as-reported basis is expected to range between 45 million and 47 million, and adjusted net income, which excludes the anticipated after-tax restructuring costs of $3 million is expected to range between 48 and 50 million. Further, first quarter fiscal 2005 adjusted net income is expected to be approximately $10 million compared to adjusted net income of $7.5 million in the year ago period. Also, and as a direct consequence of introducing the new regional management structure, the company has identified and is actively pursuing other revenue and income generating opportunities that are not sufficiently advanced to allow incorporation into the current forecast', 'Finally, we anticipate 2005 depreciation and amortization expense of 23 to $25 million. Further, the cash component of restructuring costs recorded in fiscal 2004 as anticipated in fiscal 2005 are estimated to be $7 million', \"Working capital is expected to increase by 10 million to $15 million as increased Receivables associated with higher sales and modest investment in finished goods inventory to support customer service levels and new product launches are partially upset by utilization of the company's deferred tax asset. As a consequence, we anticipate fiscal 2005 cash flow from operations of between 60 and $65 million compared to fiscal 2004 cash flow from operations of 51.2 million. This cash will be used to fund planned capital expenditures of between 22 and $25 million and further anticipated acquisitions. And with that I'd like to turn the call back to Sean so that he can open it up for questions\", 'Ladies and gentlemen, thank you for standing by. Welcome to the SOLA International first quarter fiscal 2005 earnings results conference call. During the presentation, all participants will be in a listen only mode. Afterwards, we will conduct a question and answer session. (OPERATOR INSTRUCTIONS). As a reminder, this conference is being recorded Monday, August 9, 2004. I would now like to turn this conference over to Jeff Cartwright, Director of Investor Relations and Treasurer, SOLA International. Please go ahead, sir', \"Thank you Francesco. Good afternoon, everyone. I'd like to welcome everyone to SOLA International's fiscal 2005 first-quarter conference call. With me today are Jeremy Bishop, President and Chief Executive Officer Ron Dutt, Chief Financial Officer. I would like to remind everyone that this conference call is being recorded. Remarks made during the call may contain certain forward-looking statements and by their nature, such predictive statements are subject to certain risks and uncertainties that could cause actual results to differ materially from estimates given today. A detailed explanation of these risks can be found in our form 10-K\", \"I would also like to make note that our earnings release, including the supporting financial schedules and reconciliations of non-GAAP financial measures, is included on the SOLA website at www.sola.com. And at this time, I'll turn the call over to Jeremy Bishop\", 'Thank you, Jeff. Good afternoon, ladies and gentlemen. I would like to welcome our investors, both equity and debt, potential investors, banking and business partners to the call. I expect that all of you have seen the earnings release that we issued earlier today and I thought it might be useful for me to use this call to draw your attention to some of the trends we see that sit behind our quarterly results', 'Particularly encouraging trends in the first quarter included our strong operating cash flow and the revenue growth generated from our prescription laboratory network where sales increased 19 percent in the quarter. This success continues to confirm the attractiveness of expanding our prescription laboratory network and we intend to acquire additional businesses over the next 18 to 24 months. And while our acquisition efforts will be concentrated on North America, we also look at similar opportunities around the world', 'Also, our historical strength in supply and chain retailers around the world was maintained as sales increased approximately 6.5 percent compared to the prior year period, despite a reduction in demand of certain North American customers. Net sales, excluding the impact of currency, increased 3.6 percent in the quarter with North America increasing 0.3 percent, Europe increasing 4.8 percent, and rest of world increasing 8.8 percent. In North America, strong progress from our prescription labs was offset by a slow bounding demand from chain retailers and from Canada, and these combined to reduce an otherwise satisfactory performance. While we view the reduction in demand from Canada as temporary, we now believe that the chain retail environment in the U.S. will be more difficult for the company for the remainder of this year', \"Europe's growth, which is consistent with historical results in that region, occurred despite a significant slowdown in demand from the German market that resulted from the German government's elimination of certain subsidies on eyeglass purchases effective from January 1, 2004. And it's worth noting that, excluding Germany, sales growth in Europe was above our estimates at approximately 7 percent\", \"The stronger performance that we experienced in the rest of world resulted from initiatives implemented by our newly appointed general managers in Asia Pacific and Latin America. And it's worth highlighting that this quarter's growth was the largest this region has experienced since the third quarter of fiscal 2001. In addition, the quarter provided excellent service growth from each of the company's key product categories, which include progressive lenses where our key designs of SOLA 1, the SOLA Max, AO b'active, AO Compact and AO Easy underpinned our good performance; from high index lenses, including polycarbonate and our recently relaunched 1.67 index progressive lens; from photochromic lenses, which are steadily gaining increasing acceptance among such consumers; and finally, from an advanced lens coating and (indiscernible) particular Teflon EasyCare lenses. Collectively, our (indiscernible) have recently launched the new product, which include SOLA 1, AO Easy and Teflon EasyCare lenses, are expanding at a faster rate than sales we're losing on older designs and coatings. And with those opening comments, I would now like to turn the call over to do Ron Dutt, who will address the financial performance of the company\", \"Thank you, Jeremy, and good afternoon. Europe's margin remained stable in the quarter at 40.6 percent and is consistent with previous guidance of 40 to 42 percent. While we are benefiting from the elimination and/or reduction of certain high cost overhead as a result of actions taken in fiscal 2004, this is largely offset by high production costs in Europe and slightly lower gross margins that occur in our rest of world businesses as a result of more commodity-based product mix\", \"Operating expenses on a GAAP basis was 48.7 million, or 29.5 percent of net sales. Excluding restructuring costs of 1 million, adjusted operating expense in the fiscal 2005's first quarter was 47.7 million, or 28.9 percent of net sales. This increase of 5.2 million from the prior year quarter included costs associated with the implementation of internal controls related to compliance of section 404 of the Sarbanes-Oxley act; also, completion of the company's fiscal 2004 audit and associated restatement of its fiscal 2003 financial results, and as well as increased results increase resulting from the translation of overseas expenses into U.S. dollars and other increases resulting from higher costs incurred in operating the business as a result of inflation and acquisitions. For the balance of this fiscal year, we will continue to experience an increase in costs associated with implementation of internal controls related to compliance with the Sarbanes-Oxley act and the infrastructure that supports the effort, but we will prudently managed discretionary spending in other areas of the company\", \"Operating income on a GAAP basis was 18.4 million, or 11.1 percent of net sales. Adjusted operating income, excluding restructuring costs of 1 million, was 19.4 million, or 11.8 percent of net sales in the fiscal 2005 first quarter. As a result of our efforts to contain discretionary spending, we remain confident in our ability to achieve full year operating margins of at least 14 percent with upside potential, should sales increased more than currently expected. Net interest expense in the fiscal 2005 first quarter was 3.9 million, or 2.4 percent of net sales, compared to 8.8 million, or 5.7 percent of net sales in the comparable year ago period. The reduction in interest expense reflects the benefit for the company's recapitalization, which was completed in the fiscal 2004 third quarter\", 'The effective tax rate on an adjusted basis in the fiscal 2005 first quarter was 35 percent compared to 29 percent in the prior year period. The increase in the year-over-year tax rate is largely due to the recapitalization and increased profitability and higher tax rate jurisdictions. Finally, net income under U.S. generally accepted accounting principles was 9.4 million in the fiscal 2005 first quarter, compared to net income of 0.5 million in the prior year quarter. Restructuring costs of 1 million in the quarter include expenses related to a workforce reduction of 29 employees in Singapore and the impairment of certain assets. Adjusted net income, which excludes restructuring costs and loss on debt is extinguishment this year and the unrealized currency translation loss on euro-denominated bonds last year was 10.5 million, or 32 cents earnings per share compared with 7.5 million, or 30 cents earnings per share in the prior year period', 'Turning to the balance sheet, I am encouraged by our working capital performance, which continues to improve in the quarter. Receivables at June 30, 2004, compared to March 31, 2004, decreased 8.8 million on a GAAP basis and 6.5 million on a constant currency basis. Strong collection activity was the principal reason for the decrease. DSO was 70.1 this quarter, which compares to 69.2 in the prior year quarter. A modest increase in DSO relates to regional nets (ph). Inventory at June 30, 2004, compared to March 31, 2004, increased 4.2 million on a GAAP basis and 5.8 million on a constant currency basis. The increase resulted principally from a slowdown in demand from North American chain retail, of restoration of raw materials inventory that was concluded during March and increased production and cost in Europe. Finished goods inventory turnover was 5.2 times in the quarter, which compares to 4.3 times in the prior year quarter. Total debt at June 30, 2004 was 285.2 million, or 41.7 percent of capital compared to 287.4 million, or 42.1 percent of capital at March 31, 2004 and 338 million, or 55.1 percent of capital at June 30, 2003', 'During the first quarter, the Company repaid 2.2 million on its 175 million term loan and repurchased EUR650,000 of its 11 percent senior notes in an open market purchase. Cash flow from operations in the quarter was 25.9 million, compared to 10.8 million in the prior year period. A portion of this cash flow was used to fund capital expenditures of 2.7 million and to repay 3.7 million of debt. In addition, cash of 20. (ph) million was added to existing cash balances. Including the expected utilization of certain deferred tax assets, the company expects a fiscal 2005 cash tax rate of approximately 22 percent. Cash and cash equivalents at June 30, 2004 was 122.7 million, compared to 102.6 million at March 31, 2004 and 66 million in the prior year quarter. Net debt at June 30, 2004 was 162.5 million compared to 184.8 million at the end of fiscal 2004. I would like to now turn the call over to Jeremy', \"Thanks, Ron. As for the balance of fiscal 2005, I continue to expect that the improvement in our financial results will be underpinned by continued growth in our key product categories, our prescription laboratory business and reduced interest expense. Sales growth in North America will continue to benefit from last year's product launches, including SOLA 1 and AO Easy, increased distribution of Teflon EasyCare lenses, and anticipated sales growth from our prescription laboratory network. Despite these encouraging trends, the reduction in demand from the chain of retail will limit our North American growth over the coming quarters. In Europe, we expect growth to continue with the exception of Germany, where we will be closely monitoring the business environment and the future outlook for our French glass production facility, whose output is largely consumed by the German optical market. And finally, our rest of world differences have grown faster than we expected in the first quarter, but it is premature to revise upward our expectations from these activities\", 'And so, considering our first quarter performance, I am reconfirming our fiscal 2005 earnings guidance of $48 million to $50 million, which represents an increase of over 30 percent from fiscal 2004. And I now expect that operating cash flow will be at least $65 million. Further, I expect our second-quarter sales to be similar to those recorded in the fiscal 2005 first quarter, while modestly lower operating expense compared to the recently completed quarter is expected to result in adjusted net income of approximately $11 million', 'With those remarks out of the way, I would like to turn the call back to Francesco to open up the call for questions', 'Ladies and gentlemen, thank you for standing by and welcome to the SOLA International Second Quarter Fiscal 2005 Earnings Conference Call. During the presentation, all participants will be in a listen only mode. Afterwards, we will conduct a question and answer session. At that time if you have a question please press the \"1\" followed by the \"4\" on your telephone. As a reminder, this conference is being recorded Thursday, November 4, 2004. I would now like to turn the conference over to Mr. Jeff Cartwright, Director of Investor Relations and Treasurer. Please go ahead, sir', \"Thank you, Clayde. Good morning, everyone. I would like to welcome you to SOLA International's fiscal 2005 second-quarter conference call. With me today are Jeremy Bishop, President and Chief Executive Officer and Ron Dutt, Chief Financial Officer. I would like to remind everyone that this conference call is being recorded. Remarks made during the call may contain certain forward-looking statements. By their nature, such predictive statements are subject to certain risks and uncertainties that could cause actual results to differ materially from estimates given today. A detailed explanation of these risks can be found in our Form 10-K\", \"I would also like to make note that our earnings release including the supporting financial schedules and reconciliations of non-GAAP financial measures, is included on the SOLA website at www.sola.com. At this time, I'll turn the call over to Jeremy Bishop\", \"Thank you Jeff. Good morning, ladies and gentlemen. I would like to welcome our investors, both equity and debt, potential investors, banking and business partners to the call. And before I begin I want to express my regret for the delay in holding this call. Unfortunately, the external review of the 8-K was not completed in adequate time to allow this call to proceed as originally planned. I would add for reassurance that as a result of yesterday's external review, no changes to either our proposed 8-K or 10-Q were requested or made. So moving on I expected all of you by now have seen the earnings release and 10-Q that we filed and issued yesterday and I thought it might be useful for me to use this call to draw your attention to some of the trends that we see sitting behind our quarterly results\", 'Looking first at revenues, our financial results were increasingly dependent on the performance of our growing prescription laboratory network where revenue growth excluding the impact of currency increased over 11% compared to the prior year quarter. Excluding the benefit of acquisitions and still in constant currency laboratory revenue growth was about 7% which re-confirms the attractiveness of expanding our lab network. And to this end I hope to complete the acquisition of additional laboratories this fiscal year whose annual combined revenues ranged between $30-60 million. These transactions are expected to be accretive to earnings next fiscal year and I anticipate that they will cost between $25 million and $50 million', 'Further our strong cash flows support my expectation that this acquisition program can and will continue you in future years. Also our historical strength in supplying chain retailers around the world was maintained. As sales excluding the impact of currency increased approximately 10% compared to the prior year period before considering the impact of the previously announced reduced demand from Wal-Mart', 'Including the lower sales to Wal-Mart and still excluding the impact of currency, sales to chain retail increased 4%. The reduction in sales to Wal-Mart was the prime cause of an overall reduction in North American revenues, which decreased 2.3% compared to the year ago period. Elsewhere net sales excluding the impact of currency increased 1.7% in Europe and 3.8% in the rest of the world', \"Globally revenues increased 0.4% on a constant currency basis. Europe's growth occurred despite significant slow down in demand from the German market that resulted from the German government's elimination of certain subsidies on eyeglass purchases effective from January 1, 2004. Excluding Germany, sales growth in Europe on a constant currency basis was 5.4%. In North America the financial impact that reduced demand from Wal-Mart will continue to effect results for at least the remainder of this fiscal year. The rest of world, continued to benefit from good sales growth in Latin America and Asia-Pacific. It's also worth mentioning that the net sales for the six months ended September 30, 2004 with $331.4 million compared to $312.6 million for the six months ended September 30, 2003, an increase of 6%. On a constant currency basis sales increased 2% for the first six months of fiscal 2005 compared to the prior year period and for the six months ended September 30, 2004 regionally sales in North America decreased 1%, Europe increased 3%, and rest of world increased 6.6% compared to the six months ended September 30, 2003. And finally with regards to revenue the quarter provided good sales growth from the companies value added product categories which as you know, include progressive lenses and in particular SOLAOne and AO Easy were strong contributors, high index lenses including polycarbonate and our 1.67 index progressive lens, photochromic lenses grew and are steadily gaining increased acceptance amongst consumers and advanced lens coatings and in particular Teflon EasyCare lenses showed growth\", 'Collectively sales of recently launched products including the ones I have mentioned are expanding at a faster rate than sales we are losing on older lens designs and lens coatings. And with those introductory comments on revenues over, I would like to turn the call over to Ron Dutt, who will address the more detailed financial performance of the Company', 'Thank you, Jeremy and good morning. Gross margins were virtually unchanged in the fiscal 2005, second quarter at 39.3% compared to 39.5% in the year ago quarter. A planned reduction in manufacturing output reflecting lower demand from Wal-Mart and a seasonal slowdown in Europe temporarily increased production costs. For the six months ended September 30, 2004 gross margins were 39.9% compared to 40% in the comparable year ago period. Operating expense on a reported basis was 47 million compared to 42 million in the year ago period. Excluding restructuring cost of 2.6 million, adjusted operating expense in the fiscal 2005 second quarter was 44.4 million', 'The increase of 2.4 million from the prior year quarter, primarily relates to costs associated with the implementation of internal controls related to the compliance with Section 404 of the Sarbanes Oxley Act. The increased labor costs associated with the acquisition of Great Lakes Coating Laboratory in February 2004 and finally the impact of a weaker U.S. dollar when translating overseas expenses', \"For the six months ended September 30, 2004, operating expense on a reported basis was 95.7 million compared to 84.6 million from the year ago period. Excluding year-to-date restructuring cost of $3.6 million adjusted operating expense was $92.1 million. Operating income on a reported basis was $18.3 million compared to $20.6 million in the year ago period. Adjusted operating income excluding restructuring cost of $2.6 million was $20.9 million in the fiscal 2005 second quarter. For the six months ended September 30, 2004 operating income on a reported basis was $36.7 million compared to $40.5 million in the year ago period. And for the first six months of fiscal 2005 adjusted operating income excluding restructuring costs of $3.6 million was $40.3 million. Adjusted EBITDA excluding restructuring costs was $29.1 million or 17.5% of net sales compared to $26.5 million or 16.7% of net sales in the year ago period. For the six months ended September 30, 2004 adjusted EBITDA excluding restructuring costs was $55 million compared to $54.1 million in the year ago period. Net interest expense in fiscal 2005 second quarter was $3.9 million compared to $8.8 million in the comparable year ago period. For the six months ended September 30, 2004 net interest expense was $7.8 million compared to 17.7 million in the year-ago period. A reduction in interest expense reflects the benefits of the Company's refinancing, which was completed in the fiscal 2004 third quarter\", 'The effective tax rate on an adjusted basis in the fiscal 2005 second quarter was 35.0% compared to 29.0% in the prior year period. The increase in the year-over-year tax rate was largely due to the refinancing, which resulted in increased profitability and higher tax rate jurisdictions', 'Net income on a reported basis was 9.2 million in the fiscal 2005 second quarter compared to net income of 6.7 million in the prior year quarter. Restructuring cost of 2.6 million in the quarter include expenses related to a workforce reduction of 12 employees in Ireland and 40 employees in Belgium and the impairment of certain assets. Adjusted net income, which excludes restructuring costs this year and the unrealized currency translation laws on euro denominated bonds last year, was 11.5 million or 35 cents earnings per share compared with 7.5 million or 30 cents per share in the prior year period. For the six months ended September 30, 2004, net income on a reported basis was 18.6 million compared to a net income of 7.2 million in the prior year period. Restructuring costs of 3.6 million year-to-date include expenses related to workforce reductions of 29 employees in Singapore, 12 employees in Ireland and 40 employees in Belgium and the impairment of certain assets. Adjusted net income, which excludes restructuring costs and loss on debt extinguishment this year and the unrealized currency translation loss on Euro-denominated bonds last year was 22.0 million or 68 cents per share for the 6 months ended September 30, 2004 and that compares to 15.0 million or 59 cents per share in the prior year period', 'Turning to the balance sheet, I am encouraged by our continued improvement in working capital performance as compared to last year. Inventory at September 30 compared to June 30, 2004 decreased 1.1 million on a reported basis and 2.2 million on a constant-currency basis. Finished goods inventory turnover was 5.4 times in the quarter, which compares to 5.2 times in the first quarter of fiscal 2005 and 4.4 times in the prior year quarter. Receivables at September 30, 2004 compared to June 30, 2004 increased $4.6 million on a reported basis and $2.4 million on a constant currency basis. DSO was 71.7 this quarter which compares to 67 in the prior year quarter. The increased DSO principally reflects the increased revenues from rest of the world where longer-term credit terms exists', 'Total debt at September 30, 2004 was 282.7 million or 40.6% of capital compared to 285.2 million or 41.7% of capital at June 30, 2004 and 338.9 million or 54.2% of capital at September 30, 2003. During the second quarter fiscal 2005, the Company repaid 2.2 million on its existing credit facility which at September 30, 2004 had an outstanding balance of 170.6 million', 'Cash flow from operations in the quarter was 5 million compared to negative 4.4 million in the prior year period. A portion of this cash flow was used to fund capital expenditures including molds of 3.5 million and to repay 2.7 million of debt. For the 6 months ended September 30, 2004 cash flow from operations was 31 million compared to 6.4 million from the year ago period. Cash and cash equivalents at September 30, 2004 was 122.3 million compared to 122.7 million at June 30, 2004 and 59.8 million in the prior year quarter', 'Net debt at September 30 was 160.4 million compared to 162.5 million at June 30, 2004 and then 279.1 million at September 30, 2003. Now I would like to turn the call back over to Jeremy', 'Thank you, Ron. As I highlighted in our last earnings release, in fiscal 2005, we expect to increase adjusted net income by over 30% from prior year levels and reach between $48-50 million. Cash flow from operations should grow similarly and is expected to exceed $65 million. The improvement in our financial results will be underpinned by continued growth in our key product cash growth and our prescription laboratory business along with reduced interest expense', \"Sales growth in North America will continue to benefit from last year's product launches including SOLAOne and AO Easy, increased distribution of Teflon EasyCare lenses and anticipated sales growth from our prescription laboratory network. Despite these encouraging trends, the reduction in demand from Wal-Mart will limit our growth over the coming quarters\", 'In Europe, we expect growth to continue in most major markets with the exception of Germany where we will be closely monitoring the business environment and the needs to possibly realign production as our French glass production facility whose output is largely consumed by the German optical market. Following normal seasonality, I expect our third quarter sales and net income to be lower than that recorded in the first two quarters. Specifically, my expectation is that net income will be approximately $10 million in the third quarter and will rise in the fourth quarter to approximately $17 million. This reflects the increased revenues that we would normally achieve in that period', 'And as we start planning for fiscal 2006, I anticipate that revenue, income and cash flow growth will accelerate. Providing our acquisition initiatives are realized, I expect to increase the distribution of our key value added products, expand manufacturing output, improve the utilization of our fixed cost base and thus gain operating leverage. As a result, I expect percentage revenue growth in the upper single digit to low double digits and income growth at a higher rate', \"With those comments over, I would like to turn the call over to you for questions, so I'll pass it back to Frank now\", 'Thank you. Ladies and gentlemen, if you would like to register a question please press the \"1\" followed by the \"4\" on your telephone. You will here a three-tone prompt to acknowledge your request. If your question has been answered and you would like to withdraw your registration, please press the \"1\" flowed by the \"3\". If you are using a speakerphone please lift your handset before entering your request. One moment please for the first question. Our first question comes from line of Jeff Johnson from Robert. W. Baird. Please proceed', 'Good morning Jeremy, Ron, Jeff, how are you?', 'We are good, thank you', 'Good. Couple of questions here if I could. First of all in North America, obviously we knew with the Wal-Mart situation these challenges would continue, can you speak at all up to the challenges that maybe in the prescription lens laboratory business although the growth rates are good there, Essilor, as you know -- one of your major competitors as you know has increased their acquisition activity here in North America over the last few quarters. I was wondering if you are feeling any competitive pressure there and if that at all is making your negotiations with some of these take out candidates more difficult as well', \"Jeff, Essilor from our perspective haven't ever been out of the market in North America or indeed in some other geographies to acquire laboratories. I think we've have seen a flurry of activities from them not because they have increased their pace but perhaps it's just a co-incidence of the completion of long-standing negotiations. There is no doubt that they continue to -- in my opinion they seem willing to make further acquisitions just as we are, we haven't come head to head with them in price fights however in the ones that we are currently contemplating\", 'Great. And with some of the acquisitions they have made over the last six months to a year or so, has any of those acquisitions impacted your business from a reduced sales may be into those labs of SOLA products?', \"In terms of revenues from Essilor's purchases on a worldwide basis, including North America therefore are definitely continuing to reduce. So this quarter they did drop again compared to the prior year, I am just looking to see if I can give you more accurate information, that was down about 16% in the quarter on a constant currency basis compared to the prior fiscal year and on a GAAP basis approximately 12% -- excuse me on a GAAP basis they were down 10%. Now I think that's just a trend we have had for many years and will continue. It doesn't seem to be exclusively dependent on them acquiring labs, just a normal business trend\", 'Okay and that -- Jeremy that 16% or that 10% GAAP number is that in North America or a worldwide number?', \"That's a worldwide number, but the principal component of it are is in North America; however they do acquire lenses from us also in Australia out of in certain parts of continental or in certain parts of Europe, but the biggest block of it is North America\", 'Great and then given the Luxottica Cole (ph)[inaudible]deal that has now been completed -- I know the thoughts have been maybe over the last quarter or two but that may lead to some increased business for you? Has any of that begun to play out or still thinking that could lead to some increased sales?', \"It isn't playing out in recorded incremental revenues yet, but yes I still believe it has that potential. Retail changed casually their supply route, it's not an overnight matter for them as it might be for small independent optometrist or a wholesale lab, it's a considered matter for them. And I would suggest it's probably not the top tier Q4 right at this moment. But we have a good relationship with Luxottica on a worldwide basis. They fit strongly in our top customers. I see this is an ongoing opportunity and one that I would like to realize as soon as possible\", 'Great. Final question then on the Teflon product, are we pretty much rolled out across the country now in the U.S. or is it still kind being phased in out there?', \"It's very much the latter. We've got distribution now with some key retail chains but not as any as we would like, elsewhere but to the independent optometrists who comprise virtually 50% of the market, the distribution is really limited to the customers we service out of our own laboratories. And until we complete the acquisition of the remainder of the businesses, we want to flush out that chain in North America, it will be difficult for consumers to easily get access to the product in many key geographies, including frankly for example and embarrassingly San Diego where we sit at the moment. We don't have a local laboratory here to supply my friends and neighbors as they constantly remind me. So I think the expansion of our chain here in North America over the coming year will do an enormous amount to provide increased distribution, and it will allow the growth of that product in North America for many years to come\", 'Great very helpful, Jeremy thank you', 'You are welcome', 'Our next question comes from the line of Peter Parlous (phonetic) from KJ Harrison. Please proceed', 'Good morning guys', \"I’d like to ask about Wal-Mart, how much of the revenues has Wal-Mart historically contributed to SOLA's top line, what is it expected to be this year and what is it expected to be going forward?\", \"We have no customer on a worldwide basis who accounts for more than 6% of our revenues and so that gives first of all a scope of the Company's overall vulnerability to any key customer. Wal-Mart has generally figured in our top five customers whose revenue contribution ranges from the top end of close to 6% of revenue -- total revenue down to around 3.5%, 4%. It remains to be seen whether they will stay in our top 5, 6 customers. I think they will possibly slip from that into a second tier in our top 10 customers. It more than accounts for the reduction in revenues, but I am not going to get into specific individual numbers on any customer beyond that but, I hope that generally frames the position for you\", \"No, that's great, and specifically with the lab network, $30-60 million in additional revenues at a cost of 25 to 50, have you identified or are you currently negotiating with these labs or is it just a goal right now\", \"No, it's not a goal, it has been a goal in our strategy for the entire year. I would not put out this information unless there was a reasonable probability that we will complete acquisitions this fiscal year within that range and these things can go wrong. Clearly, the ones that we are in advance discussions and negotiations on, if all of them completed would put us at the top end of that range or even marginally above it. We put a lower level in because sometimes things go wrong but, these are more than purely pipe dreams\", 'Alright, thanks very much', \"You're welcome\", 'Our next question comes from the line of Jason Mills from First Albany Capital. Please proceed', 'Hi, Jeremy. Thanks for taking my call', \"You're welcome\", \"Would you dig a little further into of the acquisition plans you have for this fiscal year, could you talk about -- I am sorry if I missed this -- but could you talk about sort of, how far along you are with, you know, with what percentage of that, sort of $25-50 million in spending that you expect to have and how many of that would encompass as far as number of labs or is that not a target just maybe spending in dollar amounts is your target and not number, can you just -- it's kind of a couple of questions, but could you address that?\", \"Sure, its sort of a continuation of Peter's prior question, I would say again, I wouldn't put this range of revenues out there if these were purely pipe dreams or speculative. We are in discussions with owners of businesses and have a realistic probability that we can complete transactions in this range. If all of them were to complete then we would be actually slightly above the top end of the range that we have quoted. Therefore I would have been a little conservative and assumed that either there will be timing questions or something will happen at the last moment to prevent them all completing\", \"I am not particularly obsessed with the number of businesses that are contained here, it's more of a quality and geography of the businesses and the people in them and our ability to grow those businesses in the future using products like our progressives, Teflon EasyCare lenses, and other key areas for us. You will note from the past that occasionally we buy a prime laboratory that we really want to get our hands on and along with it comes a satellite operation we are initially indifferent to and then as we get used to it, we suddenly find, we are delightedly we’ve got the satellite as well even though it wasn’t really the prime thing that brought us to the deal. I think that there is going to be a number of transactions here. It isn’t one individual, one quite clearly otherwise it would be binary. We would either do 60 million or not do 60 million. We will be able to sustain this program into next fiscal year. We have identified targets already and are in discussions with people for ones which if we got lucky would complete this fiscal year but are more likely to drag their heels into the start of next year\", 'I’m pretty happy that we have got the cash to do this', \"Right. Okay that’s very helpful. Let me just expand on that if you don't mind and go back 12 months or so to your plans, your strategy on the same front and I am wondering if we kind of look back at what you had hoped to do over the last 12 months and the prescription lab acquisition strategy, would you say that you, you know, sort have been disappointed with how quickly or not quickly you have been able to execute on that strategy and then sort of what has changed now that gives you some confidence that over the next several quarters here you are going to be able to execute $25-50 million in sales, I am sorry in acquisitions?\", 'Yes, I have been disappointed with our pace and really it was the change to a regional general management structure on April 1st which was the initial catalyst for the company properly organizing in each region around the world to get people properly committed and dedicated to this including the backup support teams of technical, financial, and HR people who are going to do the due diligence', 'I think we have been traveling with great intent and we have successfully completed some really good acquisitions but the organization wasn’t as crisp as I would like and equally it took a little time for the new general mangers to get into their roles, complete the identification of targets, and become personally known to those people whose businesses we wanted to acquire. That really frustrated the hell out of me for six months plus, there was not a lot I could do', \"Okay, Jeremy that may help. I appreciate you candidness there. Ron a few questions for you if you don't mind here on the operating expense side of things. What should we be expecting your sales and marketing expenses to look like relative to sort of non acquisition revenue for the remainder of this year and next year if you look at it as a percentage of sales. It certainly jumped down, you know, 100 basis points or so from the first quarter to the second quarter, I wondered what drove that and what your -- what you are going to need to spent going forward to drive the kind of sales that you are talking about? Are you getting some leverage there with sales force or could you just help me out with that?\", 'Yeah, sure. We did have a slight decrease in the second quarter but the sales and marketing as a percent of revenue will move a little through the year depending on promotional activities, certain sales activities, and so forth', 'As Jeremy mentioned we have a new general manager in North America for example who has since he began April 1st taking some active steps in the sales organization. If we look at the total issue -- the total sales and marketing company wise there is some FX involved in that. Recall the strong euro, the weaker dollar, the dollar has weakened a little bit in each of these last few quarters that contributes somewhat as well. But going forward, we don’t expect any significant change in terms of pacing as a percentage of revenue as we go forward', 'Okay and then on the G&amp;A side -- did you have more Sarbanes Oxley expense in the first quarter than the second or if you back out the $2.6 million non operating charge, you know, it was a little under $15 million versus almost $17 million versus the same sales number in the quarter?', 'Yes, no the Sarbanes Oxley effort has been very intense the last the first quarter and second quarter, the spending has been roughly about the same little under a $1 million about $750,000 each quarter and we expect that to continue at a pretty healthy pace here for a couple of months as we get that under our belt', 'Okay, so just in third quarter again your guidance it would make sense that, that your marketing expense maybe a little higher from the second, same with G&amp;A, same with R&amp;D just kind of operating expenses, they may be a little bit higher than the second quarter off of your guidance for about the same sales number?', 'Yes, slightly. I mean, I think you are on the right track, here', 'Okay and then the FX adjustment was positive in the quarter should we be modeling that just flat, just zero[inaudible], you know, how does that move could you sort of give us the mechanic for that a little bit?', \"Yes, you know, forecasting FX is pretty much like interest rates if we could shoot(ph) that well we probably wouldn't be here as a lot of others. It's a little bit difficult to model that. If you just step back, big picture for SOLA and our exposures around the world FX has been a relatively minor story and accepting the euro bond and the unrealized translation gains and losses we reported of course which was a big story in the prior years but given that we do do a certain amount of hedging we have some natural hedging in our countries with our expenses and revenues. In certain countries we have done a better job around the world with our transfer pricing and aligning that to reduce exposure, so, while we do see on the revenue line certainly an FX impact, it's largely offset on the cost related lines, when we get down to profit it is minimal\", 'Okay, great, and one last question and I will get back in queue, Jeremy are there still opportunities to acquire not on the lab side but to consolidate your industry and where would SOLA be fit into that, the acquirer or do you see opportunities out there for that?', 'Yes, on the basic premise you raise is undoubtedly true. This is a fragmented industry in a relatively mature segment. Its [factalogical], so for me sooner or later consolidation is just bound to occur and whilst the regional general managers can do -- spend time looking at the smaller acquisition opportunities like these prescription laboratories it is definitely part of my job to look at larger, more international opportunities and nothing specific to report, but I do believe that they exist and SOLA can ultimately benefit from them', 'Great, thanks', 'Ladies and gentlemen, as a reminder, to register for a question, press the \"1\" followed by the \"4\". We have a follow-up question from the line of Jeff Johnson from Robert W. Baird. Please proceed', 'Thank you, Jeremy just a quick follow up here on the acquisition front especially going back a couple of years with the B&amp;W and the South Eastern acquisitions those were both nicely accretive, given the way these are set up pretty much you just buy the lab and I don’t think, correct me if am wrong here, make a huge number of changes to the structure of those businesses, I am assuming we should see some nice accretion here especially be at the top end of that 60 million range?', 'Yes, I think you do. When we have taken these laboratories we start a process of converting them to be more dependent than they were on independent ownership on our product line. SOLA benefits when it makes themselves its own products, that provides manufacturing growth, efficiency in the plants and the lower overall cost of goods and those goods gets transferred through to the ultimate benefit of the laboratory, they are not having to pay purchase prices as a third party supplier but as an integrated part of our Company. So we get leverage on our cost of goods there. Equally as the business becomes known for being a SOLA Laboratory, we find it easier to attract new customers and increase the quality of their purchases into more coated or more photochromic lenses. So, though there is no guaranteed overall recipe for success, simply doing the obvious things and giving them support from our G&amp;A set up rather than having them being dependent on a local one, generally produces really good leverage on the cost side and good revenue growth and benefits as well on the revenue side', 'Great, forgive me', 'So, these are good', 'Yes, and forgive me here, you may have already said this but given the 100 plus million on the balance sheet and may be a $25-50 million acquisition price tag, would we assume most of this would be just a straight cash deal', \"Yes, that would be the normal type of transaction that we do. We are open to transactions in any form for the sake of clarity but it's pretty understandable that most sellers prefer straight U.S. dollars and we respect that and it's not a problem to us\", 'And I guess my question was going more to the point using the cash on your balance sheet as opposed to taking on more debt to do this', 'I am not motivated to take out debt even though we can borrow at very low interest rates currently, who knows where they will be in the future so it is better to use the cash we have got on hand and so I would expect that fundamentally you should expect to see cash on hand reduce the cost of acquisitions and then be replaced because of normal operations and I feel our current cash balances are fundamentally too high', 'Great, thank you', 'Sir, there are no further questions at this time, so please continue with your presentation or closing remarks', \"Thank you very much Frank, well again I regret we are a day late but I don't believe we are a dollar short to use the vernacular. Thank you all for joining in, taking part in the call and I would look forward to speaking to you again in approximately one quarter's time and if we have any further news on acquisitions before that moment obviously you will see the news releases from us but again thanks for your interest in the company\", 'Ladies and gentlemen that does conclude the conference call for today. We thank you for your participation and as such please disconnect your line. Have a great day everybody.', 'Good day, everyone, and welcome to the Red Robin fourth-quarter 2004 earnings conference call. At this time, all participants have been placed in a listen-only mode, and the floor will be open for your questions following the presentation. It is now my pleasure to turn the floor over to your host, Mr. Michael Snyder, President and Chief Executive Officer of Red Robin. Please go ahead, sir', \"Thanks, Ruthie. Welcome, and thanks to all of you on this call, as it could be delaying your Valentine's Day celebrations. So I trust you'll find this call worthwhile\", \"Again, welcome to our fourth-quarter 2004 conference call. If you haven't yet seen our preliminary unaudited fourth-quarter earnings press release, it can be accessed on our website at RedRobin.com. A replay of today's call will also be available on our web site, under the Investors section. During today's call, we will offer our insights to what happened in the fourth quarter of 2004, which we are very proud of, and which was a 12-week period ending on December 26. And we will give you an update on our projections or our crystal ball for the first quarter and fiscal year of 2005\", 'Before I get going, I need to remind everybody that part of our discussion this afternoon will include forward-looking statements. These statements are not guarantees of future performance, and therefore, undue reliance should not be placed on them. We refer all of you to our filings with the SEC for a more detailed discussion of the risks that could impact our future operating results and financial condition', \"So most of you have seen our press release detailing Q4 and the full year '04. So in the interest of Valentine's Day time, I'm going to save much of the discussion of '04 and the detailing of our results for Jim McCloskey, our CFO. I will say that Q4 of '04 and full year 2004 was a remarkable year for Red Robin. I believe the results are a testament to our long-term strategy of focusing on team member and guest experience, continually striving for operational excellence, and, a favorite of mine, continually raising our company's collective management IQ\", \"But there's one thing not mentioned in the press release. We did reach what we call a milestone, and that was in November of 2004, when we opened our 250th restaurant. So that ended the year with 255 Red Robins\", 'So I believe our fourth-quarter and full-year results demonstrate what the entire Red Robin team can accomplish. Our management supports a culture of what we called unbridled passion that sets us apart from the competition. And we believe our restaurant and our support office team members continue to excel at providing a unique, fun, wholesome family atmosphere, with attentive service, stressing value, and of course, the best gourmet burgers anywhere', \"So to get into the details, I'll turn the call over to our Chief Financial Officer, Jim McCloskey. Jim?\", \"Thanks, Mike. Before I get started, I want to inform all listeners that we will make references to some non-GAAP financial measures during this call. You'll find supplemental data in our earnings release that reconciles our non-GAAP measures to GAAP. Also, the results are preliminary, pending the final analysis of several lease accounting issues that were raised last week by the SEC. We're still evaluating whether these issues will have an impact on our financial statements\", \"Revenues -- fourth-quarter revenues increased 18.1 million, or 22.4 percent, to 98.9 million compared to 80.8 million in the same period last year. This reflects an increase of 12.9 million from our non-comp restaurants, including the 22 new restaurants we opened in '04 -- 4.7 million of incremental sales resulting from our 6.7 percent increase in comp restaurants sales\", \"Our same-store sales results reflect a 5.7 percent price menu mix increase, and a 1 percent growth in guest counts. Our guests continue to more frequently order those items upon which we took our largest price increases. Overall, our check average increased from approximately 9.90 during the fourth quarter of '03 to 10.46 during the fourth quarter of '04\", \"Average weekly sales for company-owned restaurants in the comp base were 61,466 in the fourth quarter, a 6.7 increase over last year's 57,598 results. Average weekly sales for the company-owned restaurants not in the comp base were 52,722 in the fourth quarter versus 53,703 for the same period in '03\", 'Franchise royalties and fees increased 483,000, or 20.6 percent, to 2.8 million compared to 2.3 million in the fourth quarter a year ago. This increase is largely attributable to the new franchise restaurants opened during 2004. Overall, our franchisees reported a 5.5 percent increase in comp U.S. franchise restaurant sales during the fourth quarter and a 4.4 percent increase in comp Canadian restaurants sales. Our U.S. comp franchise restaurants averaged 56,108 in the fourth quarter versus 53,187 a year ago and 39,561 versus 37,885 a year ago in Canada. Canadian results are in Canadian dollars', \"Turning to restaurant operating costs -- cost of sales increased as a percentage of restaurant sales for the fourth quarter was 23.4 percent, a 50 basis improvement over the fourth quarter of '03, due in part to leverage from the 2 price increases taken in '04, which were offset in partially by higher tomato costs, as the result of the severe hurricane season in Florida. We also recognized additional rebates related to beverage agreement with Pepsi that benefited the fourth quarter by approximately 40 basis points\", \"Sequentially, from the third quarter, cost of sales were 30 basis points higher due to the just-mentioned increase in tomato costs, offset by the beverage rebate adjustment. There are some additional adjustment we've recognized in the fourth quarter that negatively impact other expenses, and I will point these out as we touch on them -- primarily depreciation\", \"Labor expense as a percentage of restaurant sales for the fourth quarter was 33.6 percent, which was 180 points better than the fourth quarter of '03. This improvement was driven by efficiencies in controllable labor that result in part from our increase in comp restaurant sales. Sequentially, labor cost improved by 40 basis points compared to the third quarter of '04, due in part to lower bonus and group insurance expenses\", 'Operating expense as a percentage of restaurant sales were 14.7 percent, a 30 basis improvement over the fourth quarter of last year, driven by leverage from our 6.7 percent same-store sales increase, partially offset by cost pressures seen in supplies and energy-related items, such as plastic wrap, fuels, utilities, etc. Overall, operating expenses increased 80 basis points sequentially, 60 points of which is related to these energy-related items', \"Occupancy expense as a percentage of restaurant sales was 6.9 percent, 20 basis points higher than a year ago. And let me spend a few minutes discussing the adjustment that's included (ph) in our fourth-quarter results so that we can touch on other lease accounting issues that have arisen recently, which we are in the process of reviewing\", 'In December, we changed our method of calculating straight-line rent expense in response to an industry-wide issue that has led to a number of restatements and adjustments. Our change resulted in a onetime cumulative pretax charge of 253,000 that was necessary to increase rent expense related to certain restaurants that we built or acquired over the past several years. Under our new method, we will recognize rent expense for all restaurants on a straight-line basis over the noncancelable lease term plus all cancelable option periods where failure to exercise those options would result in an economic penalty. In general, this means we will calculate straight-line deferred rent expense using a 20-year period because that matches the period that we depreciate our restaurant fixed assets over. Prior to this change, we recognized deferred rent expense over the initial noncancelable term of our lease agreements, which in some cases, was shorter than the 20-year period we depreciated our fixed assets over. Fascinating', \"As many of you are aware, a number of other lease accounting issues have arisen recently, as well. Red Robin, like many other companies in the restaurants and retail industry, is reviewing our accounting treatment for leases, rent holidays, and tenant improvement allowances in light of the views expressed by the Office of the Chief Accountant of the SEC in a February 7, 2005 letter to the AICPA. A little side note -- that same Chief Accountant has an article about him in the Wall Street Journal today. We are taking these matters seriously, and we have not yet determined whether adjustments will be required with respect to occupancy note (ph) -- costs, depreciation and amortization, operating income, or net income, and if so, whether such adjustments will require restatement of prior-period financial statements or will be made on a cumulative basis in our fourth-quarter 2004 results. Let me be clear -- if this hasn't been -- that with the exception of the adjustment just noted, the financial results that we're discussing today and that we presented in an earnings release or preliminary do not reflect any adjustments that may result from this review\", \"Restaurant level operating profit grew 38 percent year-over-year, and as a percentage of restaurant sales, was 21.5 percent, a 243 basis point increase over the fourth quarter a year ago, due primarily to the economies of scale from our comp sales increases. I think it's also fair to say that our margins continue to be among the highest in the casual dining industry\", \"Other costs and expenses -- depreciation and amortization expense as a percentage of total revenues increased 90 basis points to 5.9 percent in the fourth quarter from 5 percent in the same period last year, due to certain adjustments we made to correct understatements during the first 3 quarters of '04. Excluding these adjustments, depreciation as a percentage of total revenue would have been flat compared to the fourth quarter a year ago at 5 percent. We consider whether or not every statement of our quarterly results for the first 3 quarters of '04 is necessary. But we do not believe there are the necessary quantitative or qualitative factors that would warrant a restatement, and therefore, we recognized a cumulative catch-up adjustment during the fourth quarter. This negatively impacted fourth-quarter results by approximately 5 cents per diluted share\", \"Corporate overhead, which includes G&amp;A and franchise development expenses, increased 7.8 percent compared to 6.8 percent in the fourth quarter of '04. Approximately 661,000, or 70 basis points, of this increase is related to costs we incurred during the fourth quarter to comply with the section 404 internal control requirements of Sarbanes-Oxley. Overall, we incurred costs of approximately 822,000 during '04 as a result of the section 404 rules, and we expect that we will continue to incur additional costs related to ongoing compliance with section 404. Excluding the Sarbanes-Oxley costs, G&amp;A increased about 20 basis points over a year ago, due to the hiring of additional dealmakers and others in our real estate group\", \"Preopening cost increased 415,000, or 55 percent, compared to the same period last year. We opened 7 restaurants in quarter 4 compared to 5 in '03. On a per unit basis, preopening expense increased $16,000 as a result of increased costs related to opening restaurants in new markets on the East Coast\", \"Income from operations grew 26 percent over last year -- over the year, and was 8.8 million, or 8.9 percent, of total revenue in the fourth quarter of '04 compared to 7 million or 8.7 percent of total revenue in the fourth quarter of '03. Overall, net income for the quarter was 5.5 million compared to 4.2 million last year, a 31 percent increase. Diluted earnings per share in the fourth quarter were 33 cents compared to 27 cents last year, a 25 percent increase. For the full year, our diluted earnings per share increased 44.2 percent\", 'Capital expenditures for the quarter were 17 million, including 14.6 million for new restaurants and 2.3 million for remodels, replacements, and computer equipment', \"At this point, I'll turn it back to Mike so we can go over the guidance for the first quarter and full year of 2005\", 'Thanks, Jim. Based on our current outlook for the first quarter and full year of 2005, we are offering the following. This guidance excludes the potential impact of all the stuff that Jim talked about earlier, with the changing SEC practices and the impact of expensing stock options, which will begin in the third quarter of 2005', \"That said, during 2005, we expect to open 26 to 28 new company-owned restaurants. And our franchise partners should open 15 to 17 new franchised Red Robin's. We anticipate that we'll open 7 to 8 new company-owned restaurants during the first quarter. And so far, we have opened 1 restaurant in Sacramento, California. In addition, our franchise partners have already opened 2 new Red Robin's in 2005. Our company-owned development schedule for the balance of 2005 is expected to be -- 4 to 5 openings in the second quarter, 5 to 6 openings in the third quarter, with the balance in the fourth quarter of 2005\", 'For the first quarter of 2005, which is a 16-week quarter, we expect total revenues of 140 to $142 million, and net income of 42 to 43 cents per diluted share. These projected results are based upon an expected comp restaurant sales increase of 5 to 6 percent. The price increase we took in June of 2004 is expected to provide us about 3.2 percent of the comp sales increase in the first quarter with the rest of the same-store sales increase coming from guest counts. We are currently experiencing higher same-store sales than our guidance, with about half coming from guest counts and about half coming from the earlier price increase', 'As many of you know, our annual franchise leadership conference took place in January -- every year in the first quarter. And this causes our company overhead to be higher in the first quarter than our expected full-year average. We expect that corporate overhead -- that would be G&amp;A combined with franchise development costs -- for the first quarter will range from 9 to 9.5 percent, and then decrease as a percentage of sales for the remainder of the year', 'For the full year of 2005, we expect revenues of 490 to $495 million and comp restaurant sales growth of 3 to 4 percent. We expect that comp restaurants sales comparisons will be a bit more difficult during the second half of 2005 than the first half, due to that June 2004 price increase which we estimate will provide us with about 3 percent comp sales increase in the first half of the year', 'So based on those assumptions, our 2005 earnings guidance is $1.75 to a $1.77 per diluted share. And this reflects an assumption of an effective tax rate of about 34.6 percent. Capital spending for the year is expected to be approximately 82 million', 'And I think that about sums it up for 2005. One quick comment. We recognize that there are a lot of external, macro factors that can impact the casual dining industry. But I believe that Red Robin -- we have proved time and again that when we do what we do best, which is focus on our core values and offer our guests an unbridled experience, people keep coming back for more', 'Our goal at Red Robin is to be the most respected restaurant company in the world -- respected for how we treat team members, how we treat guests, and how we take care of our shareholders', \"So thanks for your interest in Red Robin. And now, I'll turn the call back over to our operator. Ruthie?\", 'Good afternoon, ladies and gentlemen, and welcome to the Red Robin Gourmet Burgers, Inc. First Quarter 2017 Earnings Call. Please note that the contents of this call are being recorded. I would now like to turn the call over to Terry Harryman, VP of Finance, Planning and Investor Relations. Please go ahead, Mr. Harryman', \"Good afternoon, everyone. During the course of this conference call, we may make forward-looking statements about our business, outlook and expectations. These forward-looking statements and all other statements that are not historical facts reflect our beliefs and predictions as of today and, therefore, are subject to risks and uncertainties as described in the safe harbor discussion found in the company's SEC filings\", 'During the call, we will also discuss non-GAAP financial measures. These non-GAAP measures are not prepared in accordance with generally accepted accounting principles but are intended to illustrate an alternative measure of our operating performance that may be useful. A reconciliation of the non-GAAP financial measures to the most directly comparable GAAP measures can be found in our earnings release available on our website', 'We have posted our fiscal first quarter 2017 earnings release and supplemental financial information related to the results on our website at www.redrobin.com in the Investors section', 'Now I would like to turn the call over to our Chief Executive Officer, Denny Post', \"Thanks, Terry. Good afternoon, everyone, and thank you for your continued interest in Red Robin. I'm joined today for prepared remarks by Guy Constant, our Chief Financial Officer; Carin Stutz, Chief Operating Officer; and Terry, whom you just heard from, who will also be available for Q&amp;A\", 'As we closed the chapter on Q1, on the whole, we deem it a quarter of solid progress in our quest to separate ourselves from the casual dining pack. Total revenues rose 4.1%, fueled by new and acquired restaurants. Our same-store sales declined 1.2% for the quarter', \"As a reminder, our quarter 1 is 16 weeks long. And as such, we experienced both the upside and downside of the Easter shift in this quarter. Although comp sales were negative year-over-year as we expected, we once again outperformed the rest of our peers on traffic, beating them by 120 basis points according to Black Box. Our performance relative to peers was particularly strong in the mountain plains and western markets. The renewed focus on Everyday Value at $6.99, which we began again last fall, now includes 4 great Tavern burger choices, with last week's launch of the new Sriracha Tavern. We reversed and stabilized value perceptions last year and we expect, based on traffic trends and menu mix, that we are gaining momentum in value perception this year. Being viewed as the affordable choice for every day is one way we can win. We are prepared to invest for the foreseeable future in Everyday Value, including our bottomless fries, sides and beverages\", \"Our Chief Marketing Officer, Jonathan Muhtar and his team invested in a variety of media and messaging tests in Q1 which will help guide our marketing investments going forward. We are investing to bolster awareness in high-penetration company markets using incremental local media. The new Let's Burger/Red Robin Yummm! campaign showcases what we do best, in fact, arguably, better than anyone else. We serve customizable gourmet burgers fast with bottomless value in a high-energy, fun, come-as-you-are, full-service dining environment that meets the needs of all ages, 2 to 92. Guests tell us over and again that this combination sets us apart\", 'While we continue to fight for dine-in traffic every day, the growing demand for off-premise is beginning to show up in our business. Online ordering via Olo is now available in all corporate locations. Franchisees will add this service once they install the Kitchen Display System, or KDS, which is integral to accuracy and throughput. As of our last media flight, our television ads now carry a get it to-go at redrobin.com graphic, and all digital and Red Robin Royalty messages include a very prominent Yummm2Go order now link', 'At the end of Q1, after just 6 weeks, 15% of all to-go orders were coming through online, and those orders average a slightly higher check than those called into the restaurant. We are also seeing some early wins in the 98 locations where we have moved call-in ordering to a centralized call center. Given our level of customization on gourmet burgers, we find that most guests still prefer to speak to a human to ensure their unique instructions are captured accurately. The call center improved answer time, usually by the third ring, and accuracy by sending orders directly into the integrated KDS system via Olo. We are slowly expanding reach of the service to ensure quality experience, adding up to about 50 locations at a time while measuring the financial impact as we go to ensure that the investment in a call center is worthwhile. So far, we are encouraged', \"We also have 10% of the system now offering curbside pickup and expect to reach 25% of corporate locations by midyear. Guests tell us, particularly those moms with little kids, that they prefer we bring their orders to their car. By midyear we will designate to-go specialists in all corporate locations and add clear signage whether it's a curb or in the lobby to make the process of pickup as seamless as possible. Seamless is not how I would exactly describe our experience with the 3 third-party delivery services we currently engage to collectively cover 138 of our company restaurants. While we certainly appreciate the opportunity third-party delivery provides to our brand, it comes with distinct financial and service challenges. Some of the friction we are experiencing is related to the ordering process itself as none of these service providers is yet integrated into our POS system. This causes us to have to transcribe each order at least once, which takes additional time and undermines accuracy. In addition, we have become aware of too many cases of promised delivery times not being met, which is frustrating both to us and to our customers\", 'In view of these factors, we are evaluating how best to proceed, weighing the relative volumes and profitability stemming from each of these partners with an eye toward giving preferential treatment to the strongest player in each region. But before we could consider expanding coverage, we must be certain that the delivery process is being executed in a manner that reflects our highest standards for guest orders. And in improving the delivery model, we are open to any and all better solutions. I foresee us taking a variety of approaches based on common needs and conditions across different markets over time', \"So what's the bottom line on the very hot topic of off-premise? Well, we are moving smartly on new revenue streams, but it will be the second half of the year, as we said, before we see a material lift in top line as we begin to actively promote the new offerings, reach new guests and drive incremental occasions\", \"Other wins for Q1 came from the middle of the P&amp;L, some sustainable and some related to timing. Guy will break the various components down in his remarks. From my part, I want to give a shout-out to Carin Stutz and our operating team -- today is Carin's 1-year anniversary by the way -- who have made sustainable progress on reducing managerial labor costs, food waste and generally tightening margin controls at the restaurant level. I am confident we will continue to see progress as they work through the elements they control with even greater GM awareness and incentive to manage costs. While we have had the benefit of lower cost of goods for some time now, we know this will not sustain, and the hourly labor costs growth remains a major headwind. That said, when the wind is not at your back, you better get out a paddle, and I can assure you that Carin carries a very big paddle. What makes me most proud is that the front line team is continuing to improve the guest experience as measured by our Net Promoter Score and food-to-table. Thank goodness I didn't double down on my tattoo bet or I'd be on my way to a full sleeve by now. As it stands today, our NPS is hitting new highs at 70 or above with less than 7% detractors, significant and meaningful progress from when we started in September of 2015. And our NPS was in the mid-50s with double-digit levels of detractors. I am further encouraged by our speed of service as measured by mystery shops as we have cut in half the number of guests who wait 16 minutes or more for their food since the national launch of KDS last fall, following the same trends we experienced in the pilot. We will continue to reach for 0% over 16 minutes while delivering the majority of orders under 11 minutes. That is the ultimate goal, both in drive-in -- dine-in and to-go. The teams are working closely across our organization on further off-menu and equipment improvements to support this effort. The off-team, combined with the field HR group, are also bucking the trend on turnover. While the casual dining industry is experiencing some of the highest rates of turnover in history, Red Robin turnover is down to our lowest levels in years. Retention means more consistent high-skilled team members capable of delivering higher sales per labor hour. That's a win all the way around. We have many innovations in the works on menu and service, some of which we will be sharing with those joining us in Denver beginning Monday night for our analyst meeting\", 'All in all, I sum up Q1 as a solid start and characterize our prospects for the year as achievable. No doubt, the sales environment and rapid changes in consumer demand make it challenging week to week, but we are determined to be nimble and capture what we can in upside while controlling what we can in cost to achieve our goals', 'I look forward to sharing more about our progress as we move through the year. I have one more topic to address before we hear from Guy. As you no doubt saw in our press release today, law enforcement officials have made us aware that cyber criminals are actively targeting restaurant companies, including Red Robin. We are investigating whether our guests have been impacted. Our practice, which we have published in our privacy policy on our website and is shown here in the supplemental is to share information about security incidents impacting our guests only when we have complete and accurate information', 'With that, let me turn the call to Guy for the financial performance details of Q1 and the impact on our 2017 EPS outlook', 'Thank you, Denny, and good afternoon, everyone. As I walk you through the highlights of our financial results for the first quarter, please note that the numbers I present are on a recurring basis, excluding special items. As Denny outlined, the first quarter of 2017 represents a solid first step for Red Robin as we seek to separate ourselves from the overall casual dining category. There are a handful of outstanding peers who have already created that separation, and their performance is indeed differentiated from the rest of the category', 'We seek to join them in that separation. And while we will share much more on how we will do so at our Analyst Day next week, this quarter is a positive first step towards that goal', 'And while the Red Robin brand holds the position that is differentiated and advantageous to the category more generally, we have much work to do to capitalize more fully on that positioning', 'As Denny referenced in her remarks, Q1 total company revenues increased 4.1% to $418.6 million, up from $402.1 million a year ago, driven primarily by new and acquired restaurants, partially offset by a 1.2% decline in company-owned comparable restaurant sales. The 1.2% decline in comps was comprised of a 1.7% decrease in guest counts and a 0.5% increase in average guest check. Overall price, when taking into account the impact of discounting, increased 1.6% in the quarter, mix decreased 1.1%, primarily driven by the expansion of our Tavern value menu which occurred in the third quarter of 2016', 'Franchise and other revenue decreased $250,000, driven by a lower number of franchise locations as compared to a year ago', 'Overall restaurant capacity as measured by operating weeks was up 5.3% in Q1 as compared to the first quarter of 2016. Noncomp revenues, primarily the 2016 class of new restaurant openings, generated revenues that were about $2.5 million below our expectations, limiting our overall revenue growth. However, during the first quarter, we opened 5 new Red Robin locations, and their initial performance is more in line with historical norms and our overall expectations', 'First quarter restaurant-level operating margins were 20.7%, down 180 basis points versus a year ago, driven by the following factors. Cost of sales improved 40 basis points to 22.9%, driven primarily by deflation in both poultry and ground beef and improved waste management. However, recent sharp increases in beef prices will likely increase our food costs approximately $1 million more than originally projected in Q2, and we will be watching closely over the coming weeks to see if the beef market will normalize or maintain its elevated position. Restaurant labor costs increased 170 basis points to 35.2%, driven mostly by minimum wage increases, higher restaurant bonuses and sales deleverage, offset by improvements in management labor expense', 'Other operating costs increased 70 basis points to 13.2% due to higher local restaurant marketing expense and higher repair and maintenance expense. Occupancy costs were favorable by 20 basis points due to the benefit of lower general liability claims. Depreciation and amortization increased 70 basis points to 6.7% related to new restaurant openings, acquired restaurants and the remodels associated with the brand transformation initiative. General and administrative expense improved 60 basis points or $1.1 million to 7.4%. Most of the year-over-year favorability in G&amp;A was due to timing and will reverse in future quarters', 'Selling expenses were up 20 basis points as a percent of revenue at 3%, and preopening expenses were down 20 basis points due to the timing of restaurant openings. Q1 adjusted EBITDA was $45.8 million, down 6.3% or $3.1 million as compared to a year ago. Our first quarter tax rate was 20.1%, at the lower end of our annual expectation and 320 basis points lower than a year ago. And earnings per diluted share were $0.89 as compared to adjusted EPS of $1.27 in the first quarter of 2016 or a decline of 29.9%', 'Now turning to the balance sheet. We invested 25 -- $24.5 million in CapEx in the first quarter, primarily related to new restaurant openings, restaurant maintenance capital, investment and technology projects and remodels. As we outlined in our annual guidance, the company did not repurchase any shares in the quarter and does not expect to do so in 2017', 'We ended the quarter with $22.2 million in cash and cash equivalents, up about $10 million versus where we ended 2016, and we finished the quarter with a lease-adjusted leverage ratio of 4.23x', 'In the first quarter, the company completed an amendment to its credit facility that provides for a higher leverage ratio covenant through the second quarter of 2018. This amendment does put some additional limitations on restricted payments and other uses of cash during the prescribed time period as well as increased interest rates at higher leverage ratios, but the company has the right to revert back to the original covenant and cash deployment flexibility at any time during the relief period should it choose to do so. We appreciate the support of our bank group to this amendment process and appreciate their partnership. Our projected borrowing, coupled with the new provision to the credit agreement, will result in 2017 total interest expense of about $10 million or approximately $2 million higher than our original expectation', 'Lastly, we now project our 2017 earnings per diluted share to range from $2.80 to $3.10. This represents growth of flat to up 11% versus adjusted EPS of a year ago. As we outlined in February, with the lapping of our value emphasis not coming until the third quarter and the benefits of on-demand skewed more to the back half of the year, we expect to earn approximately 45% of our 2017 projected EPS in the first half of the year and 55% in the back half of the year', 'I want to also thank the operators in our restaurants for delivering a great guest experience in our restaurants while also being good stewards of our company resources over the first quarter. As we stated earlier, the first quarter represents a positive first step, but we still have a great deal of work to do to reach the performance goals we expect for our organization. And we believe we have the team that can deliver a great experience for both our team members and our guests as the cornerstone for a high-performing organization', 'As we committed in our remarks in February, as the company planned its investments and activities going forward, be they capital or operating investments, we will prioritize that spend based on the incremental returns on capital that these investments will create. Whether these priorities drive sales, improve margins, reduce expenses, generate EBITDA or distribute capital to shareholders, the overriding filter will be the expected return of that incremental capital or an improved return on the capital already invested', \"We will not grow for growth's sake, rather we will focus on growing our overall returns as this is what is most highly correlated to overall improvements in total shareholder return. We look forward to providing more color on these priorities when we get together next week for our Analyst Day in Denver\", \"With that, I'll turn the call back to Denny for a few final comments before we take your questions\", 'Thanks, Guy. To reiterate, we see Q1 as a positive first step to a full year of improving top line and profit, still weighted toward the back half of the year as our new revenue streams take hold and we begin to implement more cost-savings initiatives, many currently in tests. The entire Red Robin leadership team looks forward to hosting those who are joining us next week for our analyst meeting on behalf of the 29,000 great team members who deliver on the Red Robin promise of making everyone better for being here every day', 'Thanks again for joining us. With that, Carin, Guy, Terry and I will take questions', 'Good day. And welcome to the Red Robin first quarter 2005 earnings conference call. At this time all participants have been placed in a listen-only mode and the floor will be open for your questions following the presentation. It is now my pleasure to turn the floor over to your host Mr. Michael Snyder, President and Chief Executive Officer of Red Robin', \"Thanks, everybody. Good afternoon and welcome to our first quarter 2005 conference call. As usual, before we get started, I need to remind everybody that part of our discussion this afternoon will include forward-looking statements. These statements are not guarantees of future performance. And thereby -- and therefore undue reliance should not be placed on them. We refer all of you to our filings with the SEC for more detailed discussions. That said, we are very pleased with our first quarter results which even exceeded our most recent upwardly revised guidance. Revenue increased 22.6% during the quarter, while same-store sales at company-owned restaurants increased 5.7% driven by a 2.9% increase in average guest check, and a 2.8% increase in guest count. Income from operations increased 59.5% to $13 million and diluted earnings per share increased 59% to $0.48. With me today is Eric Houseman, our VP of Operations, and Jim McCloskey, our Chief Financial Officer. So I'm going to turn the call over to these two and have them give you a more detailed discussion of our results. We'll start with Eric Houseman, VP of Operations. Eric?\", \"Thanks, Mike. Hey, before I get started, I want to inform all of our listeners that we'll make some references to some non-GAAP financial measures during this call. As always, you'll find supplemental data in our earnings release that reconciles our non-GAAP measures to GAAP. With that being said, first quarter restaurant sales were 138.9 million, compared to 113.3 million in the same period last year. This was a $25.6 million increase or 22.6%, and was driven by a 5.7% increase and same-store sales were an incremental 6 million from comparable restaurants. 16.9 million from sales of our 2003 and 2004 restaurants and 2.7 million from the eight restaurants that we opened in the first quarter of this year. Our same-store sales results reflect a 2.8% growth in guest counts and a 2.9% price menu mix. We were up against comparison of last year of a 7.1% in guest counts, which something we're real proud of makes our two-year cumulative increase 9.9%. Our check average increased to $10.43 and this was up from $10.14 the prior year. Average weekly sales for company-owned restaurants in our comp base were 63,867 in the first quarter, a 5.7% increase over last year's $60,409 results. Average weekly sales for company-owned restaurants not in the comp base were roughly $58,319 in the first quarter, this against or versus $57,068 for the same period in 2004\", \"As I just stated we opened eight new restaurants during the first quarter of this year and we're slated to open a total of 26 company-owned restaurants for 2005. In addition, our franchise partners opened five new restaurants during the first quarter and they are projected to open 15 to 17 new units this year. At the end of the first quarter, there were a total of 268 Red Robins in operation, of which 145 were company-owned and 123 were franchised. Franchise royalties for the first quarter in fees increased 23.2% or roughly $767,000 to 4.1 million in the first quarter, compared to a year ago. Franchise royalties increased 837,000 or 27.3% to 3.9 million from 3.1 million. This is primarily due to 22 franchise restaurants being opened in 2004/2005 in addition to the higher franchise sales. Franchise fees actually decreased $70,400 or 29.1% to roughly 171,700 from $242,100 due to the fact that five franchise restaurants were opened in the first quarter of 2005, compared to seven that were opened in the first quarter of 2004. I'd really like to congratulate our franchise partners as our comp franchise restaurants reported a 7.2% increase in the U.S. restaurant sales during the first quarter of '05. Comp restaurant sales for Canadian franchises increased 3.9%. Our U.S. comp franchise restaurants averaged $58,855 a week in the first quarter versus 54,926 a year ago. In Canada, 41,752 a week versus 40,189 and as always Canadian results are in Canadian dollars\", \"Turning to restaurant operating costs, cost of sales as a percentage of restaurant sales for the first quarter was 23.4%. This was a 30 basis point improvement over the first quarter of 2004, and it's primarily a result of price increases implemented in 2004 and partially offset by higher commodity costs. Hamburger costs have been staying at a cost level that is a little higher than we expected due to the continuation of the border issues, supply, and herd expansion. Going forward, we do anticipate little to no relief in the near-term when it comes to hamburger. We did re-negotiate our current poultry contract through April of 2007. Overall our new contract is lower than our old contract and we expect to see some savings for the rest of 2005, which is approximately 5 to 8 basis points. Higher fuel costs are impacting us in many ways and some of these costs do end up in COGS as we experience fuel surcharges from food deliveries. Most of our delivery contracts that we had in Q1 were inclusive of freight. As these contracts come up for renewal, however, many of our suppliers are insisting on negotiating delivery contracts with an assumed diesel price and a fuel surcharge if the price of diesel is higher than the contract price\", \"Labor. Labor expense as a percentage of restaurant sales for the first quarter was 34.4%, which was a 100 basis point improvement better than the first quarter of 2004. This improvement was driven by efficiencies in controlled labor that result in part from our increase in comp store restaurant sales and lower bonus expense as last year's 8.4% same-store sales did result in a slightly higher bonus expense. Operating expenses as a percentage of restaurant sales were up 14.8%, a 20 basis point increase from that of the first quarter of last year due to cost pressures in supplies and energy-related items. Occupancy expense as a percentage of restaurant sales was 6.4%. This was unchanged from the prior year period. Restaurant level operating profit, it grew 29.5% year-over-year and as a percentage of restaurant sales was 21%, a basis point improvement of over 110 points over the first quarter of last year, of course, due to the improvements in the restaurant level operations as I just described. So with that, I'll turn it over to Jim\", \"Thanks, Eric. Good afternoon, everybody. I'll pick up with the G&amp;A through net income and then round it out and give an outlook for Q2 in the forward year. G&amp;A improved 60 basis points to 6.4% of revenue, compared to 7% in the first quarter last year primarily due to decreased marketing expenses. Marketing expenditures were about 630,000 favorable to our original projection causing $0.02.5 of favorable EPS in the first quarter. Part of this discrepancy was due to timing as expenses did not hit when we had originally planned, but also because of lower new store opening marketing expenses. Franchise development expense as a percentage of total revenues improved 50 basis points to 1.5% from 2%. On a dollar basis expenses fell 136,000 to 2.2 million up from -- due to -- primarily to lower franchise support costs incurred to support franchise restaurant openings, as many of our newer franchise partners are opening their second and third units now. Pre-opening costs increased 370,000 or 25.6% to 1.8 million from 1.4 million last year which was 10 basis points better than 1.3% of total revenue. We opened eight company-owned restaurants during the first quarter '05 compared to seven in the prior year. Overall pre-opening costs with restaurants who opened during their first quarter of '05 averaged 236,000 per restaurant, compared to 221 per restaurant in the first quarter of '04, as a result of increased costs related to opening restaurants in the new markets in the East Coast. These numbers by the way include about 220,000 of non-cash holiday rent\", \"Depreciation and amortize expenses as a percentage of total revenue remained flat at 5.1% in both periods. Income from ops grew 59% year-over-year to 13 million from 8.2, and improved 210 basis points to 9.1% of total revenue from 7% in the first quarter of '04. Other expenses were 860,000 in the first quarter of '05 versus 771, primarily due to higher interest expense on some of our LIBOR base loads. We expensed 4.2 million in income taxes at an income tax rate of 34.6 versus 33.7 in the prior year, and the 34.6 should hold the balance of the year. Net income for the quarter was 8 million, compared to 4.9 million, a 62% increase. Diluted earnings per share were $0.48, compared to 30 last year, that's a restated number due to lease accounting, a 59% increase. Capital expenditures for the quarter were 23.6 million including 19 million for new restaurants and 4.6 million for remodels, and replacements, and equipment. These costs were slightly higher than anticipated as construction costs have increased 8 to 10% overall. Concrete, asphalt, steel, lumber, they've all seen an 8 to 15% increase in costs directly related to increases of fuel, labor, and high-demand factors\", \"The second quarter and full year '05 guidance. For the second quarter '05, which is a 12-week quarter versus a 16-week quarter of the first quarter, we expect total revenues of 114 to 116 million, and net income of 39 to $0.41 per diluted share. This estimate includes approximately 168,000 of non-cash holiday rent which we will expense prior to the opening. These projects -- projected results are based on expected comp restaurant sale increases of 5 to 6%. We are currently experiencing higher same-store sales than this range, but we do recognize that comparisons get harder as the quarter matures. We are planning to take another price increase in early June of 1.5% to help offset the costs we discussed earlier. We expect to open three restaurants in the second quarter. So far we've opened one restaurant in Rancho Cucamonga in California. In addition, our franchise partners have opened one new restaurant in the second quarter. Our development schedule for the balance of 2005 includes four to five in the third quarter, for Company restaurants the balance is four. For the full year we expect to open 26 new company-owned restaurants and our franchise partners should add 15 to 17. This new estimate is at the low end of our previous range of 26 to 28 units for '05. Developers have been delayed due to weather in delivering eight of our expected units in '05. Fortunately, the real estate and construction team were able to move six units from the Q1 '06 into the fourth quarter of '05. We -- kind of the good news coming from the bad news is we now have a very full pipeline for 2006, especially Q1\", \"For full year 2005, we expect revenues of 494 to 498 million and comp restaurant sales growth of 4 to 5%. I want to remind you that comp restaurant sales should be more difficult during the second half of '05 than the first half, and based on those assumptions our '05 earnings guidance is $1.76 to $1.78 per share, which is up from our previous estimate of $1.73 to $1.75. This new estimate includes about 1.2 million of non-cash holiday rent that we expensed prior to opening. Our tax rate for '05 will remain at 34.6% and the capital spending for the year is expected to be approximately 88 million. And this is impacted by the large number of units we are planning to open in early 2006. At this point, I'll turn it back to Mike for concluding remarks\", \"Thanks, Jim. The only thing I'll say before we go to Q&amp;A is I want to thank all of our team members in all of our restaurants and support offices around the country. And thank you and congratulations for a -- such a great quarter. So thank you Red Robin. With that, Amber, I'll open up the meeting for Q&amp;A\", 'Good afternoon, ladies and gentlemen. Welcome to the Red Robin Gourmet Burgers, Inc. Second Quarter 2017 Earnings Conference Call. Please note that the content of this call are being recorded', 'And I would now like to turn the call over to Terry Harryman, Vice President of Finance, Planning and Investor Relations. Please go ahead, Mr. Harryman', \"Good afternoon, everyone. During the course of this conference call, we may make forward-looking statements about our business outlook and expectations. These forward-looking statements and all other statements that are not historical facts reflect our beliefs and predictions as of today and, therefore, are subject to risks and uncertainties as described in the safe harbor discussion found in the company's SEC filings\", \"During the call, we will also discuss non-GAAP financial measures. These non-GAAP measures are not prepared in accordance with generally accepted accounting principles but are intended to illustrate an alternative measure of our operating performance that may be useful. A reconciliation of non-GAAP financial measures to the most directly comparable GAAP measures can be found in our earnings release available on our website. We have posted our fiscal second quarter 2017's earnings release and supplemental financial information related to the results on our website at www.redrobin.com in the Investors section\", \"Now I'd like to turn the call over to our Chief Executive Officer, Denny Post\", 'Thank you, Terry. Good afternoon, everyone, and thank you for joining me and our Chief Financial Officer, Guy Constant, today. We are pleased to be back in positive sales and traffic territory, with same-store sales up 0.5% and traffic up 1%, putting us 360 basis points above casual dining peers. Best of all, we outperformed our peer set in 10 of 11 Black Box regions, representing all but 2 comparable corporate locations', 'When we entered negative territory on both sales and traffic in Q4 2015, we set out to understand what was driving the declines by doing research with our most loyal guests, our Red Robin Royalty members who had lapsed in their visits. We learned that 4 key things had contributed to this downturn', 'The first was the experience in our restaurants had declined mostly in speed to table; secondly, guests perceived we have become more expensive because we have been emphasizing our finest line over either our Gourmet or Tavern; our advertising was not breaking through was the third point; and last, we were not a player in carryout or delivery, which had become more important to our guests. We were well behind the competition in mix and capability', 'The Red Robin team took on all 4 issues, and we have begun to see the benefit. Our operations team dramatically improved their level of service, raising the Net Promoter Score, or NPS, to a consistent 70 or better, in large part by reducing those often vocal detractors to 7% or less. They accomplished this by honing in on those days and shifts where we fell short through our win the weekend tracking and coaching. We remain focused on driving performance because we see a clear connection between locations with highest Net Promoter Scores and higher comps', 'On the value front, the marketing team tested and thoughtfully rolled out an extended Tavern menu, which now features 8 items, including 6 burgers starting at $6.99. This new product news has us back in the value game with the Tavern menu mixing at 12% to 13%. We have chosen to play the game a bit differently than some of our peers by consciously trading off PPA, and the guest is rewarding us with more visits. They appreciate the consistent value Red Robin delivers every day and in all day parts. And as a result, we have regained our edge on value as measured by Technomic, with a 47.5% top box rating or provides value through high-quality menu items. This equals best-in-class competitors. This value position is further bolstered by top box performance of 56% for a portion size for price paid. 10-plus years of offering bottomless fries has paid off for us', 'For further evidence that our Everyday Value focus is resonating with guests, we can look to our relative outperformance on traffic. Since we launched the Tavern Cheese Lovers Lineup just over a year ago, our gap to Black Box has tripled from a 120 basis point outperformance to the 360 basis point improvement I cited in Q2. We launched the Sir Acha Tavern Double in May, and it rapidly became the third most popular in the lineup, and we have more news coming in fall', 'Improvements in guest experience and perceived value are important, but what about our advertising effectiveness and our off-premise performance? Have we moved the needle on those? Well, briefly on brand awareness and advertising effectiveness, our less burger ads breakthrough because they speak to craving burgers and fun, and they appeal to a broader spectrum of guests than our past campaign. We have chosen to invest incrementally in select high penetration local markets to complement our national media using spot TV, local radio and/or prints to raise our profile. We have seen higher increases in sales and traffic where we have done so, and we will continue to invest incrementally in future quarters', 'So what has happened in our off-premise business? Year-over-year, off-premise mix move from 5.2% to 7%, including a 70 basis point uptick in Q2 over Q1. This growth was driven by the launch and adoption of online ordering nationally, which now represents approximately 20% of off-premise sales', 'Third-party delivery also represents a significant amount of sales, almost 10% of total off-premise traffic despite being in only 118 of our locations', 'We are continuing to roll out curbside to locations where it is possible and to add call center support. By early in Q4, all corporate restaurants will be on the call center and have designated in-store pickup areas. Roughly 2/3 of all of our units will have curbside delivery', 'As I shared on the last call, we have been cautious about expansion of third-party delivery services based on their high cost and uneven guest experience. That said, guests are clearly interested in more delivery options', \"To understand what we could do, what we could control to improve the delivery experience, we conducted research with third-party users and found that our biggest opportunity was an accuracy of order. We are pushing our third-party services to integrate with our KDS system to avoid mistakes in reentering the guest order, but that will take time. Immediately, the off-premise team partnered with operations to develop and train in new procedures for double checking orders at pickup. This check, double-check and hand off benefits both guests who carryout and those who choose to order through third-party delivery. If it gets home and it's missing something, it's hard to recover\", 'As a result of strong guest demand and higher confidence in our ability to deliver at accurate order, we have decided to expand to a total of 198 unique locations with the 3 services we already use: Amazon, DoorDash and GrubHub. To qualify, all of the 80 new locations we have added had to have high guest experience scores. These operators have demonstrated that they are ready to capture more sales', \"In summary, the team's thorough tested responses to the 4 issues we identified way back in 2015: speed, value, advertising breakthrough and off-premise shortfalls, have us back on the upswing\", 'As gratifying as that is, the top line and traffic growth momentum is still not enough with labor costs rising 6% or more. We must control what we can control, and our priority for margin improvement is on rethinking how we invest in labor', 'The field leadership team implemented 6 labor pilots of varying impacts back in Q1. We quickly eliminated the 3 least promising and are continuing to optimize the others, one of which will be deployed nationally in the coming months', 'Dubbed maestro, and it eliminates the expedited role on the line in favor of supervision by one of the managers on duty who conducts, thus the maestro name, the heart of house pace and the servers who now select and trade the food themselves. We are encouraged that guest scores are on hot food, speed of service and server knowledge went up in even the busiest locations who piloted maestro', 'It appears to be a true win-win. We have identified further labor savings for the fourth quarter this year as we shift to-go accountability from the bar area to the designated podium by the host stand, freeing up the bartender to take tables in the bar. Both maestro and the to-go accountability shift will be phased in with investment and training over the next few months and will be completely rolled out by November. This reduces total labor hours by about 12 or so daily, depending on the site', 'Of the other labor models we are testing, one is teed up for the second phase launch in early 2018 and the other, which is technology-dependent, will take a bit more time', 'Setting aside continuing improvements in the existing model for a moment. With the wage environment expected to be a significant headwind in the future, we know we cannot rely only on traditional levers. We cannot price our sales to prosperity. The guests will not bear the rising cost of labor with menu price increases. They will seek other options if we price ourselves out of consideration. Real and more radical innovation on guest service models will be required in the future, and we are on the case, investing to ensure we find new solutions that work for us', \"The goal for future innovation is to take what has become a larger and larger investment in labor and reduce it in those areas that matter least to guests. Guests have already shown their eagerness to control payment. What else can we put in their control? By reducing investment where it doesn't matter as much, we can continue to deliver high-quality burgers with attentive service and speed at an affordable price. We believe that that's the winning formula for Red Robin moving forward\", \"With that, let's hear from Guy on the details of Q2 and the outlook for the next 2 quarters. Guy?\", 'Thank you, Denny, and good afternoon, everyone. As I walk you through the highlights of our financial results for the second quarter, please note that the numbers I present are on a recurring basis, excluding special items', 'As Denny outlined, the second quarter of 2017 built solidly on the momentum that we first generated a quarter ago and represents continued progress on the journey towards delivering reliable and sustainable performance into the future. And while the further continuation of such performance would allow us to separate ourselves from the overall casual dining category, we are not there yet', 'As we discussed last quarter, there are a handful of outstanding peers who have already created that separation, and their performance is often differentiated from the rest of the category. We remain focused on the goal of joining them in that separation', 'However, relative outperformance is only a first step. We need to reach a point where our absolute performance is strong and we fully capitalize on the differentiated position that Red Robin holds with the restaurant consumer by generating absolute earnings growth and returns that one would associate with high-performing organizations', 'As Denny referenced in her remarks, Q2 total company revenues increased 3.3% to $315.8 million, up from $305.5 million a year ago, driven primarily by new restaurant openings and a 0.5% increase in company-owned comparable restaurant sales. The 0.5% increase in comps comprises a 1% increase in guest traffic and a 0.5% decline in average guest check. Overall price, which for Red Robin includes the impact of discounting, increased 1.7% in the quarter. Mix decreased 2.2%, primarily driven by the expansion of our Tavern value menu, which occurred in the third quarter of 2016. Overall restaurant capacity as measured by operating weeks was up 2.7% in Q2 as compared to the second quarter of 2016', 'Noncomp revenues, primarily the 2016 class of new restaurant openings, generated revenues that were about $2 million below our expectations, limiting our overall revenue growth. However, our recent performance is more encouraging as the 9 locations we have opened in 2017 are seeing revenue trends that are more in line with historical norms and our overall expectations', 'Franchise and other revenues were flat as compared to a year ago. Second quarter restaurant level operating margins were 19.9%, down 100 basis points versus a year ago, driven by the following factors: cost of sales increased 30 basis points to 23.7% driven primarily by the sharp increases in ground beef prices in the early part of the second quarter, which we discussed on our last call. While this increase is now not as pronounced as it was earlier in the second quarter, it remains elevated versus our initial projections at the start of 2017', 'We also project that beginning in Q4, we will see the negative impact of inflation on potato prices as well. We now estimate that cost of sales for the full year 2017 will range from down 25 to up 25 basis points versus the 25 to 75 basis point improvement we projected at the start of the year', 'Restaurant labor costs increased 70 basis points to 34.7% driven mostly by minimum wage increases and higher restaurant bonuses, partially offset by reductions in training costs and benefits expense. This continues the narrowing of the gap that started last quarter. And with the onset of phase 1 of our labor model changes being implemented later in the third quarter, that narrowing will continue. We now project full year labor expense to be flat to up 50 basis points, better than the 25 to 75 basis point increase we projected at the start of the year. Other operating costs increased 30 basis points to 13.7% due to higher local restaurant marketing expense, partially offset by lower repair and maintenance expense. Occupancy costs were favorable by 30 basis points due to the benefit of lower general liability premiums and lower property taxes', 'General and administrative expense increased 40 basis points, or $2 million, to 6.9%. Most of the year-over-year increase in G&amp;A was due to higher incentive compensation, professional services expenses and project costs, partially offset by a decrease in salaries and benefits and lower travel expenses', 'Selling expenses were down 40 basis points as a percent of revenue to 3.2% due to timing. Preopening expenses were down 30 basis points due to the number of restaurant openings', 'Q2 adjusted EBITDA was $32.3 million, down 3.6% or $1.2 million compared to a year ago. Depreciation and amortization increased 40 basis points to 6.7% related to new restaurant openings and the remodels associated with the brand transformation initiative', 'Interest expense was $2.5 million, an increase of $1 million versus the prior year, driven by increased interest rates on our revolving credit facility and a higher average debt balance', 'Our second quarter tax benefit was 0.3% compared to a 15.4% expense in the prior year. Adjusted earnings per diluted share were $0.61 as compared to $0.75 in the second quarter of 2016 or a decline of 18.7%. During the quarter, we also recognized an impairment charge of $1.6 million related to 5 existing restaurant locations', 'Now turning to the balance sheet. We invested $17.3 million in CapEx in the second quarter, primarily related to new restaurant openings, restaurant maintenance capital, investment in technology products, projects and restaurant remodels. As we outlined in our annual guidance, we did not repurchase any shares in the quarter and do not expect to do so in 2017', 'We ended the quarter with $20.2 million in cash and cash equivalents, up $8.4 million versus where we ended 2016, and we finished the quarter with a lease adjusted leverage ratio of 4.18x', 'While we have made better-than-expected progress on our leverage ratio through the end of the second quarter, we expect it to remain elevated for one more quarter before we make more meaningful progress in reducing the ratio as we get to the end of the year', 'Lastly, we now project our 2017 earnings per diluted share to approximate the low end of the $2.80 to $3.10 range we outlined last quarter. This will include expected Q3 earnings between $0.20 and $0.30 per share', 'As Denny outlined earlier, reaching critical mass on the various off-premise work streams will create a step change in the fourth quarter but will add approximately $500,000 of additional training and G&amp;A costs in Q3. And as said earlier, we now expect to see full year cost of sales down 25 to up 25 basis points due to the ground beef and potato price increases I referenced earlier. However, we also expect full year labor expense to run flat to up 50 basis points, a slight improvement versus our original guidance', 'In addition, we now expect our full year tax rate to fall between 15% to 20% and we expect our 2017 G&amp;A expense to be slightly less than our original estimate of $100 million', 'I want to thank our operators in our restaurants for continuing to deliver a great guest experience while also being good stewards of our company resources over the first half of 2017. And I want to recognize their creativity and persistence in creating new labor model improvement opportunities that will begin to mitigate the challenging wage environment for many years to come starting in the back half of 2017', 'As we stated earlier, we have a great deal of work to do to reach the performance goals we expect for our organization, and we believe we have the team that can deliver a great experience for both our team members and our guests as the cornerstone for a high-performing organization', \"And as we have repeatedly committed to in our remarks since the start of the year, we will prioritize our capital and operating investments based on the incremental returns on capital that these investments will create. Whether to drive sales, improve margins, reduce expenses, generate EBITDA or distribute capital to shareholders, the overriding filter will be the expected return of that incremental capital or an improved return on capital already invested. We will not grow for growth's sake, rather we will focus on growing our overall returns as this is what is most highly correlated to overall improvements in total shareholder return\", \"With that, I'll turn the call back to Denny for a few final comments before we take your questions\", 'Thanks, Guy. We are very fortunate to have many talented leaders on our team in the field and the home office who are capable of maximizing the existing business model and creating entirely new approaches for the future', \"Much of that innovation will require a new level of technology. To that end, I am very pleased to announce that Dean Cookson, formerly the CTO at Virgin America Airlines, will be joining our team September 5 as SVP and Chief Information Officer. We specifically reached outside our industry to find a partner of Dean's caliber and experience to help us break through to new ways of being and interacting with the guest\", 'Before we take questions, a big shout-out to the entire Red Robin organization for pulling together this last year to get our positive momentum back and for everything, everything you do every day to keep us there', \"With that, let's take questions\", 'Good afternoon, ladies and gentlemen. Welcome to the Red Robin Gourmet Burgers Third Quarter 2017 Earnings Conference Call. Please note that the contents of this call are being recorded', 'And now I would now like to turn the call over to Terry Harryman, Vice President of Finance, Planning and Investor Relations. Please go ahead, Mr. Harryman', \"Thank you, Sophie. During the course of this conference call, we may make forward-looking statements about our business outlook and expectations. These forward-looking statements and all other statements that are not historical facts reflect our beliefs and predictions as of today and therefore are subject to risks and uncertainties as described in the Safe Harbor discussion found in the company's SEC filings\", 'During the call, we will also discuss non-GAAP financial measures. These non-GAAP measures are not prepared in accordance with generally accepted accounting principles but are intended to illustrate an alternative measure of our operating performance that may be useful. A reconciliation of the non-GAAP financial measures to the most directly comparable GAAP measures can be found in our earnings release available on our website. We have posted our fiscal third quarter 2017 earnings release and supplemental financial information related to the results on our website at www.redrobin.com in the Investors section', \"Now, I'd like to turn the call over to our President and CEO, Denny Post\", 'Thanks, Terry, and good afternoon, everyone. Thank you for joining us. We have a lot to share today as we continue to shift our focus away from a traditional approach to growth to a greater emphasis on finding innovative new service models to meet the rising tide of labor costs and the rapidly-changing needs of our guests', 'In addition to Terry, we are joined today on the call by Guy Constant, EVP and Chief Financial Officer, who will address the details of Q3 and speak to our revised and more cautious earnings outlook for total year. We are also joined by Carin Stutz, EVP and COO, who will speak to the progress being made on new labor models and our growing off-premise business', \"Q3 same-store top line came in 0.1% down versus last year, certainly disappointing versus our expectations, but still well ahead of our competitors. Without Harvey and Irma, we'd have finished up 30 basis points, accounting for closures and those inevitable rebound days. Even with their impact, we finished the quarter 400 basis points above all casual dining on traffic, making this our fifth straight quarter of taking share\", 'We also outpaced the industry on sales by 230 basis points and are now competing with best-in-class casual dining chains, as reported in Black Box. We attribute this outperformance to two factors. First, our continued emphasis on everyday value. By expanding our Tavern menu to nine items, with three choices at $6.99, we are able to avoid discounting our finest and gourmet offerings. And of course, our guests always enjoy the tremendous value of bottomless steak fries or other sides choices', \"What's the second secret to our outperformance? Our off-premise business, growing every day, ended the quarter at 7.6%, up 41% versus last year. These two factors, Everyday Value and a growing off-premise business, combined to ensure that Red Robin remains affordable for dine-in and carry-out guests alike. Everyday Value has helped us hold PPA flat, which is an investment we believe is worth making. Affordable abundance is a true (inaudible) differentiating factor for Red Robin that we will not cede to competitors who are new to the value game\", \"As to Q3 profitability, the top line shortfall created de-leverage, somewhat masking our progress on labor cost reductions. Carin will speak to her team's progress and the choice we made to slow down the pace of labor model changes to ensure they land well and do not undermine the progress we have made on guest satisfaction since we launched KDS just over a year ago. As with the Maestro labor initiative, which removed expediters, our goal is to make every change a win for team member and guest, not just an improvement in the middle of the P&amp;L\", \"We are making strides on cost control and know we have to keep testing, learning, and advancing the best solutions. As an industry, we are facing, clearly, some very challenging forces. Minimum wage increases already on the books in some of our most penetrated states are, frankly, staggering. Guest demand is shifting to off-premise, particularly via home delivery, more rapidly than any of us might have anticipated. This option blends guests' dining choices between quick service, fast casual, and full-service restaurants, independent and chain, like never before, without consideration for convenience of location or that perfect corner. We are addressing these forces with creativity and urgency\", 'Consistent with the need to reconsider what has traditionally worked in the past, we recently decided to pause new unit development as of the end of next year. We will still open nine new corporate units in 2018, but will hold beyond that for now. This will give us 18 to 24 months to sort out what models best meet the needs of our changing guest base, allow us to profitably broaden our reach to more guests, all the while reducing construction and labor costs']\n"
     ]
    }
   ],
   "source": [
    "# Create the sample and extract relevant sections\n",
    "index_file = file_handler.read_index_file()\n",
    "ecc_sample = file_handler.create_ecc_sample(sample_size)\n",
    "all_relevant_sections = text_processor.extract_all_relevant_sections(ecc_sample, max_documents)\n",
    "print(all_relevant_sections[:500])\n"
   ]
  },
  {
   "cell_type": "code",
   "execution_count": 15,
   "metadata": {},
   "outputs": [],
   "source": [
    "#Initialize model\n",
    "model_path = config.get(\"finbert_model_path\")\n",
    "\n",
    "if model_path is None:\n",
    "    raise ValueError(\"Model path not found in the configuration file.\")\n",
    "\n",
    "# Ensure that the model path is correct\n",
    "if not os.path.exists(model_path):\n",
    "    raise ValueError(f\"The specified model path does not exist: {model_path}\")\n",
    "\n",
    "model = SentenceTransformer(model_path)\n",
    "topic_model = BERTopic(embedding_model=model)\n"
   ]
  },
  {
   "cell_type": "code",
   "execution_count": 17,
   "metadata": {},
   "outputs": [
    {
     "ename": "KeyboardInterrupt",
     "evalue": "",
     "output_type": "error",
     "traceback": [
      "\u001b[1;31m---------------------------------------------------------------------------\u001b[0m",
      "\u001b[1;31mKeyboardInterrupt\u001b[0m                         Traceback (most recent call last)",
      "Cell \u001b[1;32mIn[17], line 1\u001b[0m\n\u001b[1;32m----> 1\u001b[0m topics, probs \u001b[38;5;241m=\u001b[39m \u001b[43mtopic_model\u001b[49m\u001b[38;5;241;43m.\u001b[39;49m\u001b[43mfit_transform\u001b[49m\u001b[43m(\u001b[49m\u001b[43mall_relevant_sections\u001b[49m\u001b[43m)\u001b[49m\n",
      "File \u001b[1;32mc:\\Users\\nikla\\miniconda3\\envs\\bert_ma\\Lib\\site-packages\\bertopic\\_bertopic.py:387\u001b[0m, in \u001b[0;36mBERTopic.fit_transform\u001b[1;34m(self, documents, embeddings, images, y)\u001b[0m\n\u001b[0;32m    384\u001b[0m     logger\u001b[38;5;241m.\u001b[39minfo(\u001b[38;5;124m\"\u001b[39m\u001b[38;5;124mEmbedding - Transforming documents to embeddings.\u001b[39m\u001b[38;5;124m\"\u001b[39m)\n\u001b[0;32m    385\u001b[0m     \u001b[38;5;28mself\u001b[39m\u001b[38;5;241m.\u001b[39membedding_model \u001b[38;5;241m=\u001b[39m select_backend(\u001b[38;5;28mself\u001b[39m\u001b[38;5;241m.\u001b[39membedding_model,\n\u001b[0;32m    386\u001b[0m                                           language\u001b[38;5;241m=\u001b[39m\u001b[38;5;28mself\u001b[39m\u001b[38;5;241m.\u001b[39mlanguage)\n\u001b[1;32m--> 387\u001b[0m     embeddings \u001b[38;5;241m=\u001b[39m \u001b[38;5;28;43mself\u001b[39;49m\u001b[38;5;241;43m.\u001b[39;49m\u001b[43m_extract_embeddings\u001b[49m\u001b[43m(\u001b[49m\u001b[43mdocuments\u001b[49m\u001b[38;5;241;43m.\u001b[39;49m\u001b[43mDocument\u001b[49m\u001b[38;5;241;43m.\u001b[39;49m\u001b[43mvalues\u001b[49m\u001b[38;5;241;43m.\u001b[39;49m\u001b[43mtolist\u001b[49m\u001b[43m(\u001b[49m\u001b[43m)\u001b[49m\u001b[43m,\u001b[49m\n\u001b[0;32m    388\u001b[0m \u001b[43m                                          \u001b[49m\u001b[43mimages\u001b[49m\u001b[38;5;241;43m=\u001b[39;49m\u001b[43mimages\u001b[49m\u001b[43m,\u001b[49m\n\u001b[0;32m    389\u001b[0m \u001b[43m                                          \u001b[49m\u001b[43mmethod\u001b[49m\u001b[38;5;241;43m=\u001b[39;49m\u001b[38;5;124;43m\"\u001b[39;49m\u001b[38;5;124;43mdocument\u001b[39;49m\u001b[38;5;124;43m\"\u001b[39;49m\u001b[43m,\u001b[49m\n\u001b[0;32m    390\u001b[0m \u001b[43m                                          \u001b[49m\u001b[43mverbose\u001b[49m\u001b[38;5;241;43m=\u001b[39;49m\u001b[38;5;28;43mself\u001b[39;49m\u001b[38;5;241;43m.\u001b[39;49m\u001b[43mverbose\u001b[49m\u001b[43m)\u001b[49m\n\u001b[0;32m    391\u001b[0m     logger\u001b[38;5;241m.\u001b[39minfo(\u001b[38;5;124m\"\u001b[39m\u001b[38;5;124mEmbedding - Completed \u001b[39m\u001b[38;5;130;01m\\u2713\u001b[39;00m\u001b[38;5;124m\"\u001b[39m)\n\u001b[0;32m    392\u001b[0m \u001b[38;5;28;01melse\u001b[39;00m:\n",
      "File \u001b[1;32mc:\\Users\\nikla\\miniconda3\\envs\\bert_ma\\Lib\\site-packages\\bertopic\\_bertopic.py:3410\u001b[0m, in \u001b[0;36mBERTopic._extract_embeddings\u001b[1;34m(self, documents, images, method, verbose)\u001b[0m\n\u001b[0;32m   3408\u001b[0m     embeddings \u001b[38;5;241m=\u001b[39m \u001b[38;5;28mself\u001b[39m\u001b[38;5;241m.\u001b[39membedding_model\u001b[38;5;241m.\u001b[39membed_words(words\u001b[38;5;241m=\u001b[39mdocuments, verbose\u001b[38;5;241m=\u001b[39mverbose)\n\u001b[0;32m   3409\u001b[0m \u001b[38;5;28;01melif\u001b[39;00m method \u001b[38;5;241m==\u001b[39m \u001b[38;5;124m\"\u001b[39m\u001b[38;5;124mdocument\u001b[39m\u001b[38;5;124m\"\u001b[39m:\n\u001b[1;32m-> 3410\u001b[0m     embeddings \u001b[38;5;241m=\u001b[39m \u001b[38;5;28;43mself\u001b[39;49m\u001b[38;5;241;43m.\u001b[39;49m\u001b[43membedding_model\u001b[49m\u001b[38;5;241;43m.\u001b[39;49m\u001b[43membed_documents\u001b[49m\u001b[43m(\u001b[49m\u001b[43mdocuments\u001b[49m\u001b[43m,\u001b[49m\u001b[43m \u001b[49m\u001b[43mverbose\u001b[49m\u001b[38;5;241;43m=\u001b[39;49m\u001b[43mverbose\u001b[49m\u001b[43m)\u001b[49m\n\u001b[0;32m   3411\u001b[0m \u001b[38;5;28;01melif\u001b[39;00m documents[\u001b[38;5;241m0\u001b[39m] \u001b[38;5;129;01mis\u001b[39;00m \u001b[38;5;28;01mNone\u001b[39;00m \u001b[38;5;129;01mand\u001b[39;00m images \u001b[38;5;129;01mis\u001b[39;00m \u001b[38;5;28;01mNone\u001b[39;00m:\n\u001b[0;32m   3412\u001b[0m     \u001b[38;5;28;01mraise\u001b[39;00m \u001b[38;5;167;01mValueError\u001b[39;00m(\u001b[38;5;124m\"\u001b[39m\u001b[38;5;124mMake sure to use an embedding model that can either embed documents\u001b[39m\u001b[38;5;124m\"\u001b[39m\n\u001b[0;32m   3413\u001b[0m                      \u001b[38;5;124m\"\u001b[39m\u001b[38;5;124mor images depending on which you want to embed.\u001b[39m\u001b[38;5;124m\"\u001b[39m)\n",
      "File \u001b[1;32mc:\\Users\\nikla\\miniconda3\\envs\\bert_ma\\Lib\\site-packages\\bertopic\\backend\\_base.py:69\u001b[0m, in \u001b[0;36mBaseEmbedder.embed_documents\u001b[1;34m(self, document, verbose)\u001b[0m\n\u001b[0;32m     55\u001b[0m \u001b[38;5;28;01mdef\u001b[39;00m \u001b[38;5;21membed_documents\u001b[39m(\u001b[38;5;28mself\u001b[39m,\n\u001b[0;32m     56\u001b[0m                     document: List[\u001b[38;5;28mstr\u001b[39m],\n\u001b[0;32m     57\u001b[0m                     verbose: \u001b[38;5;28mbool\u001b[39m \u001b[38;5;241m=\u001b[39m \u001b[38;5;28;01mFalse\u001b[39;00m) \u001b[38;5;241m-\u001b[39m\u001b[38;5;241m>\u001b[39m np\u001b[38;5;241m.\u001b[39mndarray:\n\u001b[0;32m     58\u001b[0m \u001b[38;5;250m    \u001b[39m\u001b[38;5;124;03m\"\"\" Embed a list of n words into an n-dimensional\u001b[39;00m\n\u001b[0;32m     59\u001b[0m \u001b[38;5;124;03m    matrix of embeddings\u001b[39;00m\n\u001b[0;32m     60\u001b[0m \n\u001b[1;32m   (...)\u001b[0m\n\u001b[0;32m     67\u001b[0m \u001b[38;5;124;03m        that each have an embeddings size of `m`\u001b[39;00m\n\u001b[0;32m     68\u001b[0m \u001b[38;5;124;03m    \"\"\"\u001b[39;00m\n\u001b[1;32m---> 69\u001b[0m     \u001b[38;5;28;01mreturn\u001b[39;00m \u001b[38;5;28;43mself\u001b[39;49m\u001b[38;5;241;43m.\u001b[39;49m\u001b[43membed\u001b[49m\u001b[43m(\u001b[49m\u001b[43mdocument\u001b[49m\u001b[43m,\u001b[49m\u001b[43m \u001b[49m\u001b[43mverbose\u001b[49m\u001b[43m)\u001b[49m\n",
      "File \u001b[1;32mc:\\Users\\nikla\\miniconda3\\envs\\bert_ma\\Lib\\site-packages\\bertopic\\backend\\_sentencetransformers.py:65\u001b[0m, in \u001b[0;36mSentenceTransformerBackend.embed\u001b[1;34m(self, documents, verbose)\u001b[0m\n\u001b[0;32m     51\u001b[0m \u001b[38;5;28;01mdef\u001b[39;00m \u001b[38;5;21membed\u001b[39m(\u001b[38;5;28mself\u001b[39m,\n\u001b[0;32m     52\u001b[0m           documents: List[\u001b[38;5;28mstr\u001b[39m],\n\u001b[0;32m     53\u001b[0m           verbose: \u001b[38;5;28mbool\u001b[39m \u001b[38;5;241m=\u001b[39m \u001b[38;5;28;01mFalse\u001b[39;00m) \u001b[38;5;241m-\u001b[39m\u001b[38;5;241m>\u001b[39m np\u001b[38;5;241m.\u001b[39mndarray:\n\u001b[0;32m     54\u001b[0m \u001b[38;5;250m    \u001b[39m\u001b[38;5;124;03m\"\"\" Embed a list of n documents/words into an n-dimensional\u001b[39;00m\n\u001b[0;32m     55\u001b[0m \u001b[38;5;124;03m    matrix of embeddings\u001b[39;00m\n\u001b[0;32m     56\u001b[0m \n\u001b[1;32m   (...)\u001b[0m\n\u001b[0;32m     63\u001b[0m \u001b[38;5;124;03m        that each have an embeddings size of `m`\u001b[39;00m\n\u001b[0;32m     64\u001b[0m \u001b[38;5;124;03m    \"\"\"\u001b[39;00m\n\u001b[1;32m---> 65\u001b[0m     embeddings \u001b[38;5;241m=\u001b[39m \u001b[38;5;28;43mself\u001b[39;49m\u001b[38;5;241;43m.\u001b[39;49m\u001b[43membedding_model\u001b[49m\u001b[38;5;241;43m.\u001b[39;49m\u001b[43mencode\u001b[49m\u001b[43m(\u001b[49m\u001b[43mdocuments\u001b[49m\u001b[43m,\u001b[49m\u001b[43m \u001b[49m\u001b[43mshow_progress_bar\u001b[49m\u001b[38;5;241;43m=\u001b[39;49m\u001b[43mverbose\u001b[49m\u001b[43m)\u001b[49m\n\u001b[0;32m     66\u001b[0m     \u001b[38;5;28;01mreturn\u001b[39;00m embeddings\n",
      "File \u001b[1;32mc:\\Users\\nikla\\miniconda3\\envs\\bert_ma\\Lib\\site-packages\\sentence_transformers\\SentenceTransformer.py:517\u001b[0m, in \u001b[0;36mSentenceTransformer.encode\u001b[1;34m(self, sentences, prompt_name, prompt, batch_size, show_progress_bar, output_value, precision, convert_to_numpy, convert_to_tensor, device, normalize_embeddings)\u001b[0m\n\u001b[0;32m    514\u001b[0m features\u001b[38;5;241m.\u001b[39mupdate(extra_features)\n\u001b[0;32m    516\u001b[0m \u001b[38;5;28;01mwith\u001b[39;00m torch\u001b[38;5;241m.\u001b[39mno_grad():\n\u001b[1;32m--> 517\u001b[0m     out_features \u001b[38;5;241m=\u001b[39m \u001b[38;5;28;43mself\u001b[39;49m\u001b[38;5;241;43m.\u001b[39;49m\u001b[43mforward\u001b[49m\u001b[43m(\u001b[49m\u001b[43mfeatures\u001b[49m\u001b[43m)\u001b[49m\n\u001b[0;32m    518\u001b[0m     \u001b[38;5;28;01mif\u001b[39;00m \u001b[38;5;28mself\u001b[39m\u001b[38;5;241m.\u001b[39mdevice\u001b[38;5;241m.\u001b[39mtype \u001b[38;5;241m==\u001b[39m \u001b[38;5;124m\"\u001b[39m\u001b[38;5;124mhpu\u001b[39m\u001b[38;5;124m\"\u001b[39m:\n\u001b[0;32m    519\u001b[0m         out_features \u001b[38;5;241m=\u001b[39m copy\u001b[38;5;241m.\u001b[39mdeepcopy(out_features)\n",
      "File \u001b[1;32mc:\\Users\\nikla\\miniconda3\\envs\\bert_ma\\Lib\\site-packages\\torch\\nn\\modules\\container.py:217\u001b[0m, in \u001b[0;36mSequential.forward\u001b[1;34m(self, input)\u001b[0m\n\u001b[0;32m    215\u001b[0m \u001b[38;5;28;01mdef\u001b[39;00m \u001b[38;5;21mforward\u001b[39m(\u001b[38;5;28mself\u001b[39m, \u001b[38;5;28minput\u001b[39m):\n\u001b[0;32m    216\u001b[0m     \u001b[38;5;28;01mfor\u001b[39;00m module \u001b[38;5;129;01min\u001b[39;00m \u001b[38;5;28mself\u001b[39m:\n\u001b[1;32m--> 217\u001b[0m         \u001b[38;5;28minput\u001b[39m \u001b[38;5;241m=\u001b[39m \u001b[43mmodule\u001b[49m\u001b[43m(\u001b[49m\u001b[38;5;28;43minput\u001b[39;49m\u001b[43m)\u001b[49m\n\u001b[0;32m    218\u001b[0m     \u001b[38;5;28;01mreturn\u001b[39;00m \u001b[38;5;28minput\u001b[39m\n",
      "File \u001b[1;32mc:\\Users\\nikla\\miniconda3\\envs\\bert_ma\\Lib\\site-packages\\torch\\nn\\modules\\module.py:1532\u001b[0m, in \u001b[0;36mModule._wrapped_call_impl\u001b[1;34m(self, *args, **kwargs)\u001b[0m\n\u001b[0;32m   1530\u001b[0m     \u001b[38;5;28;01mreturn\u001b[39;00m \u001b[38;5;28mself\u001b[39m\u001b[38;5;241m.\u001b[39m_compiled_call_impl(\u001b[38;5;241m*\u001b[39margs, \u001b[38;5;241m*\u001b[39m\u001b[38;5;241m*\u001b[39mkwargs)  \u001b[38;5;66;03m# type: ignore[misc]\u001b[39;00m\n\u001b[0;32m   1531\u001b[0m \u001b[38;5;28;01melse\u001b[39;00m:\n\u001b[1;32m-> 1532\u001b[0m     \u001b[38;5;28;01mreturn\u001b[39;00m \u001b[38;5;28;43mself\u001b[39;49m\u001b[38;5;241;43m.\u001b[39;49m\u001b[43m_call_impl\u001b[49m\u001b[43m(\u001b[49m\u001b[38;5;241;43m*\u001b[39;49m\u001b[43margs\u001b[49m\u001b[43m,\u001b[49m\u001b[43m \u001b[49m\u001b[38;5;241;43m*\u001b[39;49m\u001b[38;5;241;43m*\u001b[39;49m\u001b[43mkwargs\u001b[49m\u001b[43m)\u001b[49m\n",
      "File \u001b[1;32mc:\\Users\\nikla\\miniconda3\\envs\\bert_ma\\Lib\\site-packages\\torch\\nn\\modules\\module.py:1541\u001b[0m, in \u001b[0;36mModule._call_impl\u001b[1;34m(self, *args, **kwargs)\u001b[0m\n\u001b[0;32m   1536\u001b[0m \u001b[38;5;66;03m# If we don't have any hooks, we want to skip the rest of the logic in\u001b[39;00m\n\u001b[0;32m   1537\u001b[0m \u001b[38;5;66;03m# this function, and just call forward.\u001b[39;00m\n\u001b[0;32m   1538\u001b[0m \u001b[38;5;28;01mif\u001b[39;00m \u001b[38;5;129;01mnot\u001b[39;00m (\u001b[38;5;28mself\u001b[39m\u001b[38;5;241m.\u001b[39m_backward_hooks \u001b[38;5;129;01mor\u001b[39;00m \u001b[38;5;28mself\u001b[39m\u001b[38;5;241m.\u001b[39m_backward_pre_hooks \u001b[38;5;129;01mor\u001b[39;00m \u001b[38;5;28mself\u001b[39m\u001b[38;5;241m.\u001b[39m_forward_hooks \u001b[38;5;129;01mor\u001b[39;00m \u001b[38;5;28mself\u001b[39m\u001b[38;5;241m.\u001b[39m_forward_pre_hooks\n\u001b[0;32m   1539\u001b[0m         \u001b[38;5;129;01mor\u001b[39;00m _global_backward_pre_hooks \u001b[38;5;129;01mor\u001b[39;00m _global_backward_hooks\n\u001b[0;32m   1540\u001b[0m         \u001b[38;5;129;01mor\u001b[39;00m _global_forward_hooks \u001b[38;5;129;01mor\u001b[39;00m _global_forward_pre_hooks):\n\u001b[1;32m-> 1541\u001b[0m     \u001b[38;5;28;01mreturn\u001b[39;00m \u001b[43mforward_call\u001b[49m\u001b[43m(\u001b[49m\u001b[38;5;241;43m*\u001b[39;49m\u001b[43margs\u001b[49m\u001b[43m,\u001b[49m\u001b[43m \u001b[49m\u001b[38;5;241;43m*\u001b[39;49m\u001b[38;5;241;43m*\u001b[39;49m\u001b[43mkwargs\u001b[49m\u001b[43m)\u001b[49m\n\u001b[0;32m   1543\u001b[0m \u001b[38;5;28;01mtry\u001b[39;00m:\n\u001b[0;32m   1544\u001b[0m     result \u001b[38;5;241m=\u001b[39m \u001b[38;5;28;01mNone\u001b[39;00m\n",
      "File \u001b[1;32mc:\\Users\\nikla\\miniconda3\\envs\\bert_ma\\Lib\\site-packages\\sentence_transformers\\models\\Transformer.py:118\u001b[0m, in \u001b[0;36mTransformer.forward\u001b[1;34m(self, features)\u001b[0m\n\u001b[0;32m    115\u001b[0m \u001b[38;5;28;01mif\u001b[39;00m \u001b[38;5;124m\"\u001b[39m\u001b[38;5;124mtoken_type_ids\u001b[39m\u001b[38;5;124m\"\u001b[39m \u001b[38;5;129;01min\u001b[39;00m features:\n\u001b[0;32m    116\u001b[0m     trans_features[\u001b[38;5;124m\"\u001b[39m\u001b[38;5;124mtoken_type_ids\u001b[39m\u001b[38;5;124m\"\u001b[39m] \u001b[38;5;241m=\u001b[39m features[\u001b[38;5;124m\"\u001b[39m\u001b[38;5;124mtoken_type_ids\u001b[39m\u001b[38;5;124m\"\u001b[39m]\n\u001b[1;32m--> 118\u001b[0m output_states \u001b[38;5;241m=\u001b[39m \u001b[38;5;28;43mself\u001b[39;49m\u001b[38;5;241;43m.\u001b[39;49m\u001b[43mauto_model\u001b[49m\u001b[43m(\u001b[49m\u001b[38;5;241;43m*\u001b[39;49m\u001b[38;5;241;43m*\u001b[39;49m\u001b[43mtrans_features\u001b[49m\u001b[43m,\u001b[49m\u001b[43m \u001b[49m\u001b[43mreturn_dict\u001b[49m\u001b[38;5;241;43m=\u001b[39;49m\u001b[38;5;28;43;01mFalse\u001b[39;49;00m\u001b[43m)\u001b[49m\n\u001b[0;32m    119\u001b[0m output_tokens \u001b[38;5;241m=\u001b[39m output_states[\u001b[38;5;241m0\u001b[39m]\n\u001b[0;32m    121\u001b[0m features\u001b[38;5;241m.\u001b[39mupdate({\u001b[38;5;124m\"\u001b[39m\u001b[38;5;124mtoken_embeddings\u001b[39m\u001b[38;5;124m\"\u001b[39m: output_tokens, \u001b[38;5;124m\"\u001b[39m\u001b[38;5;124mattention_mask\u001b[39m\u001b[38;5;124m\"\u001b[39m: features[\u001b[38;5;124m\"\u001b[39m\u001b[38;5;124mattention_mask\u001b[39m\u001b[38;5;124m\"\u001b[39m]})\n",
      "File \u001b[1;32mc:\\Users\\nikla\\miniconda3\\envs\\bert_ma\\Lib\\site-packages\\torch\\nn\\modules\\module.py:1532\u001b[0m, in \u001b[0;36mModule._wrapped_call_impl\u001b[1;34m(self, *args, **kwargs)\u001b[0m\n\u001b[0;32m   1530\u001b[0m     \u001b[38;5;28;01mreturn\u001b[39;00m \u001b[38;5;28mself\u001b[39m\u001b[38;5;241m.\u001b[39m_compiled_call_impl(\u001b[38;5;241m*\u001b[39margs, \u001b[38;5;241m*\u001b[39m\u001b[38;5;241m*\u001b[39mkwargs)  \u001b[38;5;66;03m# type: ignore[misc]\u001b[39;00m\n\u001b[0;32m   1531\u001b[0m \u001b[38;5;28;01melse\u001b[39;00m:\n\u001b[1;32m-> 1532\u001b[0m     \u001b[38;5;28;01mreturn\u001b[39;00m \u001b[38;5;28;43mself\u001b[39;49m\u001b[38;5;241;43m.\u001b[39;49m\u001b[43m_call_impl\u001b[49m\u001b[43m(\u001b[49m\u001b[38;5;241;43m*\u001b[39;49m\u001b[43margs\u001b[49m\u001b[43m,\u001b[49m\u001b[43m \u001b[49m\u001b[38;5;241;43m*\u001b[39;49m\u001b[38;5;241;43m*\u001b[39;49m\u001b[43mkwargs\u001b[49m\u001b[43m)\u001b[49m\n",
      "File \u001b[1;32mc:\\Users\\nikla\\miniconda3\\envs\\bert_ma\\Lib\\site-packages\\torch\\nn\\modules\\module.py:1541\u001b[0m, in \u001b[0;36mModule._call_impl\u001b[1;34m(self, *args, **kwargs)\u001b[0m\n\u001b[0;32m   1536\u001b[0m \u001b[38;5;66;03m# If we don't have any hooks, we want to skip the rest of the logic in\u001b[39;00m\n\u001b[0;32m   1537\u001b[0m \u001b[38;5;66;03m# this function, and just call forward.\u001b[39;00m\n\u001b[0;32m   1538\u001b[0m \u001b[38;5;28;01mif\u001b[39;00m \u001b[38;5;129;01mnot\u001b[39;00m (\u001b[38;5;28mself\u001b[39m\u001b[38;5;241m.\u001b[39m_backward_hooks \u001b[38;5;129;01mor\u001b[39;00m \u001b[38;5;28mself\u001b[39m\u001b[38;5;241m.\u001b[39m_backward_pre_hooks \u001b[38;5;129;01mor\u001b[39;00m \u001b[38;5;28mself\u001b[39m\u001b[38;5;241m.\u001b[39m_forward_hooks \u001b[38;5;129;01mor\u001b[39;00m \u001b[38;5;28mself\u001b[39m\u001b[38;5;241m.\u001b[39m_forward_pre_hooks\n\u001b[0;32m   1539\u001b[0m         \u001b[38;5;129;01mor\u001b[39;00m _global_backward_pre_hooks \u001b[38;5;129;01mor\u001b[39;00m _global_backward_hooks\n\u001b[0;32m   1540\u001b[0m         \u001b[38;5;129;01mor\u001b[39;00m _global_forward_hooks \u001b[38;5;129;01mor\u001b[39;00m _global_forward_pre_hooks):\n\u001b[1;32m-> 1541\u001b[0m     \u001b[38;5;28;01mreturn\u001b[39;00m \u001b[43mforward_call\u001b[49m\u001b[43m(\u001b[49m\u001b[38;5;241;43m*\u001b[39;49m\u001b[43margs\u001b[49m\u001b[43m,\u001b[49m\u001b[43m \u001b[49m\u001b[38;5;241;43m*\u001b[39;49m\u001b[38;5;241;43m*\u001b[39;49m\u001b[43mkwargs\u001b[49m\u001b[43m)\u001b[49m\n\u001b[0;32m   1543\u001b[0m \u001b[38;5;28;01mtry\u001b[39;00m:\n\u001b[0;32m   1544\u001b[0m     result \u001b[38;5;241m=\u001b[39m \u001b[38;5;28;01mNone\u001b[39;00m\n",
      "File \u001b[1;32mc:\\Users\\nikla\\miniconda3\\envs\\bert_ma\\Lib\\site-packages\\transformers\\models\\bert\\modeling_bert.py:1141\u001b[0m, in \u001b[0;36mBertModel.forward\u001b[1;34m(self, input_ids, attention_mask, token_type_ids, position_ids, head_mask, inputs_embeds, encoder_hidden_states, encoder_attention_mask, past_key_values, use_cache, output_attentions, output_hidden_states, return_dict)\u001b[0m\n\u001b[0;32m   1134\u001b[0m \u001b[38;5;66;03m# Prepare head mask if needed\u001b[39;00m\n\u001b[0;32m   1135\u001b[0m \u001b[38;5;66;03m# 1.0 in head_mask indicate we keep the head\u001b[39;00m\n\u001b[0;32m   1136\u001b[0m \u001b[38;5;66;03m# attention_probs has shape bsz x n_heads x N x N\u001b[39;00m\n\u001b[0;32m   1137\u001b[0m \u001b[38;5;66;03m# input head_mask has shape [num_heads] or [num_hidden_layers x num_heads]\u001b[39;00m\n\u001b[0;32m   1138\u001b[0m \u001b[38;5;66;03m# and head_mask is converted to shape [num_hidden_layers x batch x num_heads x seq_length x seq_length]\u001b[39;00m\n\u001b[0;32m   1139\u001b[0m head_mask \u001b[38;5;241m=\u001b[39m \u001b[38;5;28mself\u001b[39m\u001b[38;5;241m.\u001b[39mget_head_mask(head_mask, \u001b[38;5;28mself\u001b[39m\u001b[38;5;241m.\u001b[39mconfig\u001b[38;5;241m.\u001b[39mnum_hidden_layers)\n\u001b[1;32m-> 1141\u001b[0m encoder_outputs \u001b[38;5;241m=\u001b[39m \u001b[38;5;28;43mself\u001b[39;49m\u001b[38;5;241;43m.\u001b[39;49m\u001b[43mencoder\u001b[49m\u001b[43m(\u001b[49m\n\u001b[0;32m   1142\u001b[0m \u001b[43m    \u001b[49m\u001b[43membedding_output\u001b[49m\u001b[43m,\u001b[49m\n\u001b[0;32m   1143\u001b[0m \u001b[43m    \u001b[49m\u001b[43mattention_mask\u001b[49m\u001b[38;5;241;43m=\u001b[39;49m\u001b[43mextended_attention_mask\u001b[49m\u001b[43m,\u001b[49m\n\u001b[0;32m   1144\u001b[0m \u001b[43m    \u001b[49m\u001b[43mhead_mask\u001b[49m\u001b[38;5;241;43m=\u001b[39;49m\u001b[43mhead_mask\u001b[49m\u001b[43m,\u001b[49m\n\u001b[0;32m   1145\u001b[0m \u001b[43m    \u001b[49m\u001b[43mencoder_hidden_states\u001b[49m\u001b[38;5;241;43m=\u001b[39;49m\u001b[43mencoder_hidden_states\u001b[49m\u001b[43m,\u001b[49m\n\u001b[0;32m   1146\u001b[0m \u001b[43m    \u001b[49m\u001b[43mencoder_attention_mask\u001b[49m\u001b[38;5;241;43m=\u001b[39;49m\u001b[43mencoder_extended_attention_mask\u001b[49m\u001b[43m,\u001b[49m\n\u001b[0;32m   1147\u001b[0m \u001b[43m    \u001b[49m\u001b[43mpast_key_values\u001b[49m\u001b[38;5;241;43m=\u001b[39;49m\u001b[43mpast_key_values\u001b[49m\u001b[43m,\u001b[49m\n\u001b[0;32m   1148\u001b[0m \u001b[43m    \u001b[49m\u001b[43muse_cache\u001b[49m\u001b[38;5;241;43m=\u001b[39;49m\u001b[43muse_cache\u001b[49m\u001b[43m,\u001b[49m\n\u001b[0;32m   1149\u001b[0m \u001b[43m    \u001b[49m\u001b[43moutput_attentions\u001b[49m\u001b[38;5;241;43m=\u001b[39;49m\u001b[43moutput_attentions\u001b[49m\u001b[43m,\u001b[49m\n\u001b[0;32m   1150\u001b[0m \u001b[43m    \u001b[49m\u001b[43moutput_hidden_states\u001b[49m\u001b[38;5;241;43m=\u001b[39;49m\u001b[43moutput_hidden_states\u001b[49m\u001b[43m,\u001b[49m\n\u001b[0;32m   1151\u001b[0m \u001b[43m    \u001b[49m\u001b[43mreturn_dict\u001b[49m\u001b[38;5;241;43m=\u001b[39;49m\u001b[43mreturn_dict\u001b[49m\u001b[43m,\u001b[49m\n\u001b[0;32m   1152\u001b[0m \u001b[43m\u001b[49m\u001b[43m)\u001b[49m\n\u001b[0;32m   1153\u001b[0m sequence_output \u001b[38;5;241m=\u001b[39m encoder_outputs[\u001b[38;5;241m0\u001b[39m]\n\u001b[0;32m   1154\u001b[0m pooled_output \u001b[38;5;241m=\u001b[39m \u001b[38;5;28mself\u001b[39m\u001b[38;5;241m.\u001b[39mpooler(sequence_output) \u001b[38;5;28;01mif\u001b[39;00m \u001b[38;5;28mself\u001b[39m\u001b[38;5;241m.\u001b[39mpooler \u001b[38;5;129;01mis\u001b[39;00m \u001b[38;5;129;01mnot\u001b[39;00m \u001b[38;5;28;01mNone\u001b[39;00m \u001b[38;5;28;01melse\u001b[39;00m \u001b[38;5;28;01mNone\u001b[39;00m\n",
      "File \u001b[1;32mc:\\Users\\nikla\\miniconda3\\envs\\bert_ma\\Lib\\site-packages\\torch\\nn\\modules\\module.py:1532\u001b[0m, in \u001b[0;36mModule._wrapped_call_impl\u001b[1;34m(self, *args, **kwargs)\u001b[0m\n\u001b[0;32m   1530\u001b[0m     \u001b[38;5;28;01mreturn\u001b[39;00m \u001b[38;5;28mself\u001b[39m\u001b[38;5;241m.\u001b[39m_compiled_call_impl(\u001b[38;5;241m*\u001b[39margs, \u001b[38;5;241m*\u001b[39m\u001b[38;5;241m*\u001b[39mkwargs)  \u001b[38;5;66;03m# type: ignore[misc]\u001b[39;00m\n\u001b[0;32m   1531\u001b[0m \u001b[38;5;28;01melse\u001b[39;00m:\n\u001b[1;32m-> 1532\u001b[0m     \u001b[38;5;28;01mreturn\u001b[39;00m \u001b[38;5;28;43mself\u001b[39;49m\u001b[38;5;241;43m.\u001b[39;49m\u001b[43m_call_impl\u001b[49m\u001b[43m(\u001b[49m\u001b[38;5;241;43m*\u001b[39;49m\u001b[43margs\u001b[49m\u001b[43m,\u001b[49m\u001b[43m \u001b[49m\u001b[38;5;241;43m*\u001b[39;49m\u001b[38;5;241;43m*\u001b[39;49m\u001b[43mkwargs\u001b[49m\u001b[43m)\u001b[49m\n",
      "File \u001b[1;32mc:\\Users\\nikla\\miniconda3\\envs\\bert_ma\\Lib\\site-packages\\torch\\nn\\modules\\module.py:1541\u001b[0m, in \u001b[0;36mModule._call_impl\u001b[1;34m(self, *args, **kwargs)\u001b[0m\n\u001b[0;32m   1536\u001b[0m \u001b[38;5;66;03m# If we don't have any hooks, we want to skip the rest of the logic in\u001b[39;00m\n\u001b[0;32m   1537\u001b[0m \u001b[38;5;66;03m# this function, and just call forward.\u001b[39;00m\n\u001b[0;32m   1538\u001b[0m \u001b[38;5;28;01mif\u001b[39;00m \u001b[38;5;129;01mnot\u001b[39;00m (\u001b[38;5;28mself\u001b[39m\u001b[38;5;241m.\u001b[39m_backward_hooks \u001b[38;5;129;01mor\u001b[39;00m \u001b[38;5;28mself\u001b[39m\u001b[38;5;241m.\u001b[39m_backward_pre_hooks \u001b[38;5;129;01mor\u001b[39;00m \u001b[38;5;28mself\u001b[39m\u001b[38;5;241m.\u001b[39m_forward_hooks \u001b[38;5;129;01mor\u001b[39;00m \u001b[38;5;28mself\u001b[39m\u001b[38;5;241m.\u001b[39m_forward_pre_hooks\n\u001b[0;32m   1539\u001b[0m         \u001b[38;5;129;01mor\u001b[39;00m _global_backward_pre_hooks \u001b[38;5;129;01mor\u001b[39;00m _global_backward_hooks\n\u001b[0;32m   1540\u001b[0m         \u001b[38;5;129;01mor\u001b[39;00m _global_forward_hooks \u001b[38;5;129;01mor\u001b[39;00m _global_forward_pre_hooks):\n\u001b[1;32m-> 1541\u001b[0m     \u001b[38;5;28;01mreturn\u001b[39;00m \u001b[43mforward_call\u001b[49m\u001b[43m(\u001b[49m\u001b[38;5;241;43m*\u001b[39;49m\u001b[43margs\u001b[49m\u001b[43m,\u001b[49m\u001b[43m \u001b[49m\u001b[38;5;241;43m*\u001b[39;49m\u001b[38;5;241;43m*\u001b[39;49m\u001b[43mkwargs\u001b[49m\u001b[43m)\u001b[49m\n\u001b[0;32m   1543\u001b[0m \u001b[38;5;28;01mtry\u001b[39;00m:\n\u001b[0;32m   1544\u001b[0m     result \u001b[38;5;241m=\u001b[39m \u001b[38;5;28;01mNone\u001b[39;00m\n",
      "File \u001b[1;32mc:\\Users\\nikla\\miniconda3\\envs\\bert_ma\\Lib\\site-packages\\transformers\\models\\bert\\modeling_bert.py:694\u001b[0m, in \u001b[0;36mBertEncoder.forward\u001b[1;34m(self, hidden_states, attention_mask, head_mask, encoder_hidden_states, encoder_attention_mask, past_key_values, use_cache, output_attentions, output_hidden_states, return_dict)\u001b[0m\n\u001b[0;32m    683\u001b[0m     layer_outputs \u001b[38;5;241m=\u001b[39m \u001b[38;5;28mself\u001b[39m\u001b[38;5;241m.\u001b[39m_gradient_checkpointing_func(\n\u001b[0;32m    684\u001b[0m         layer_module\u001b[38;5;241m.\u001b[39m\u001b[38;5;21m__call__\u001b[39m,\n\u001b[0;32m    685\u001b[0m         hidden_states,\n\u001b[1;32m   (...)\u001b[0m\n\u001b[0;32m    691\u001b[0m         output_attentions,\n\u001b[0;32m    692\u001b[0m     )\n\u001b[0;32m    693\u001b[0m \u001b[38;5;28;01melse\u001b[39;00m:\n\u001b[1;32m--> 694\u001b[0m     layer_outputs \u001b[38;5;241m=\u001b[39m \u001b[43mlayer_module\u001b[49m\u001b[43m(\u001b[49m\n\u001b[0;32m    695\u001b[0m \u001b[43m        \u001b[49m\u001b[43mhidden_states\u001b[49m\u001b[43m,\u001b[49m\n\u001b[0;32m    696\u001b[0m \u001b[43m        \u001b[49m\u001b[43mattention_mask\u001b[49m\u001b[43m,\u001b[49m\n\u001b[0;32m    697\u001b[0m \u001b[43m        \u001b[49m\u001b[43mlayer_head_mask\u001b[49m\u001b[43m,\u001b[49m\n\u001b[0;32m    698\u001b[0m \u001b[43m        \u001b[49m\u001b[43mencoder_hidden_states\u001b[49m\u001b[43m,\u001b[49m\n\u001b[0;32m    699\u001b[0m \u001b[43m        \u001b[49m\u001b[43mencoder_attention_mask\u001b[49m\u001b[43m,\u001b[49m\n\u001b[0;32m    700\u001b[0m \u001b[43m        \u001b[49m\u001b[43mpast_key_value\u001b[49m\u001b[43m,\u001b[49m\n\u001b[0;32m    701\u001b[0m \u001b[43m        \u001b[49m\u001b[43moutput_attentions\u001b[49m\u001b[43m,\u001b[49m\n\u001b[0;32m    702\u001b[0m \u001b[43m    \u001b[49m\u001b[43m)\u001b[49m\n\u001b[0;32m    704\u001b[0m hidden_states \u001b[38;5;241m=\u001b[39m layer_outputs[\u001b[38;5;241m0\u001b[39m]\n\u001b[0;32m    705\u001b[0m \u001b[38;5;28;01mif\u001b[39;00m use_cache:\n",
      "File \u001b[1;32mc:\\Users\\nikla\\miniconda3\\envs\\bert_ma\\Lib\\site-packages\\torch\\nn\\modules\\module.py:1532\u001b[0m, in \u001b[0;36mModule._wrapped_call_impl\u001b[1;34m(self, *args, **kwargs)\u001b[0m\n\u001b[0;32m   1530\u001b[0m     \u001b[38;5;28;01mreturn\u001b[39;00m \u001b[38;5;28mself\u001b[39m\u001b[38;5;241m.\u001b[39m_compiled_call_impl(\u001b[38;5;241m*\u001b[39margs, \u001b[38;5;241m*\u001b[39m\u001b[38;5;241m*\u001b[39mkwargs)  \u001b[38;5;66;03m# type: ignore[misc]\u001b[39;00m\n\u001b[0;32m   1531\u001b[0m \u001b[38;5;28;01melse\u001b[39;00m:\n\u001b[1;32m-> 1532\u001b[0m     \u001b[38;5;28;01mreturn\u001b[39;00m \u001b[38;5;28;43mself\u001b[39;49m\u001b[38;5;241;43m.\u001b[39;49m\u001b[43m_call_impl\u001b[49m\u001b[43m(\u001b[49m\u001b[38;5;241;43m*\u001b[39;49m\u001b[43margs\u001b[49m\u001b[43m,\u001b[49m\u001b[43m \u001b[49m\u001b[38;5;241;43m*\u001b[39;49m\u001b[38;5;241;43m*\u001b[39;49m\u001b[43mkwargs\u001b[49m\u001b[43m)\u001b[49m\n",
      "File \u001b[1;32mc:\\Users\\nikla\\miniconda3\\envs\\bert_ma\\Lib\\site-packages\\torch\\nn\\modules\\module.py:1541\u001b[0m, in \u001b[0;36mModule._call_impl\u001b[1;34m(self, *args, **kwargs)\u001b[0m\n\u001b[0;32m   1536\u001b[0m \u001b[38;5;66;03m# If we don't have any hooks, we want to skip the rest of the logic in\u001b[39;00m\n\u001b[0;32m   1537\u001b[0m \u001b[38;5;66;03m# this function, and just call forward.\u001b[39;00m\n\u001b[0;32m   1538\u001b[0m \u001b[38;5;28;01mif\u001b[39;00m \u001b[38;5;129;01mnot\u001b[39;00m (\u001b[38;5;28mself\u001b[39m\u001b[38;5;241m.\u001b[39m_backward_hooks \u001b[38;5;129;01mor\u001b[39;00m \u001b[38;5;28mself\u001b[39m\u001b[38;5;241m.\u001b[39m_backward_pre_hooks \u001b[38;5;129;01mor\u001b[39;00m \u001b[38;5;28mself\u001b[39m\u001b[38;5;241m.\u001b[39m_forward_hooks \u001b[38;5;129;01mor\u001b[39;00m \u001b[38;5;28mself\u001b[39m\u001b[38;5;241m.\u001b[39m_forward_pre_hooks\n\u001b[0;32m   1539\u001b[0m         \u001b[38;5;129;01mor\u001b[39;00m _global_backward_pre_hooks \u001b[38;5;129;01mor\u001b[39;00m _global_backward_hooks\n\u001b[0;32m   1540\u001b[0m         \u001b[38;5;129;01mor\u001b[39;00m _global_forward_hooks \u001b[38;5;129;01mor\u001b[39;00m _global_forward_pre_hooks):\n\u001b[1;32m-> 1541\u001b[0m     \u001b[38;5;28;01mreturn\u001b[39;00m \u001b[43mforward_call\u001b[49m\u001b[43m(\u001b[49m\u001b[38;5;241;43m*\u001b[39;49m\u001b[43margs\u001b[49m\u001b[43m,\u001b[49m\u001b[43m \u001b[49m\u001b[38;5;241;43m*\u001b[39;49m\u001b[38;5;241;43m*\u001b[39;49m\u001b[43mkwargs\u001b[49m\u001b[43m)\u001b[49m\n\u001b[0;32m   1543\u001b[0m \u001b[38;5;28;01mtry\u001b[39;00m:\n\u001b[0;32m   1544\u001b[0m     result \u001b[38;5;241m=\u001b[39m \u001b[38;5;28;01mNone\u001b[39;00m\n",
      "File \u001b[1;32mc:\\Users\\nikla\\miniconda3\\envs\\bert_ma\\Lib\\site-packages\\transformers\\models\\bert\\modeling_bert.py:584\u001b[0m, in \u001b[0;36mBertLayer.forward\u001b[1;34m(self, hidden_states, attention_mask, head_mask, encoder_hidden_states, encoder_attention_mask, past_key_value, output_attentions)\u001b[0m\n\u001b[0;32m    572\u001b[0m \u001b[38;5;28;01mdef\u001b[39;00m \u001b[38;5;21mforward\u001b[39m(\n\u001b[0;32m    573\u001b[0m     \u001b[38;5;28mself\u001b[39m,\n\u001b[0;32m    574\u001b[0m     hidden_states: torch\u001b[38;5;241m.\u001b[39mTensor,\n\u001b[1;32m   (...)\u001b[0m\n\u001b[0;32m    581\u001b[0m ) \u001b[38;5;241m-\u001b[39m\u001b[38;5;241m>\u001b[39m Tuple[torch\u001b[38;5;241m.\u001b[39mTensor]:\n\u001b[0;32m    582\u001b[0m     \u001b[38;5;66;03m# decoder uni-directional self-attention cached key/values tuple is at positions 1,2\u001b[39;00m\n\u001b[0;32m    583\u001b[0m     self_attn_past_key_value \u001b[38;5;241m=\u001b[39m past_key_value[:\u001b[38;5;241m2\u001b[39m] \u001b[38;5;28;01mif\u001b[39;00m past_key_value \u001b[38;5;129;01mis\u001b[39;00m \u001b[38;5;129;01mnot\u001b[39;00m \u001b[38;5;28;01mNone\u001b[39;00m \u001b[38;5;28;01melse\u001b[39;00m \u001b[38;5;28;01mNone\u001b[39;00m\n\u001b[1;32m--> 584\u001b[0m     self_attention_outputs \u001b[38;5;241m=\u001b[39m \u001b[38;5;28;43mself\u001b[39;49m\u001b[38;5;241;43m.\u001b[39;49m\u001b[43mattention\u001b[49m\u001b[43m(\u001b[49m\n\u001b[0;32m    585\u001b[0m \u001b[43m        \u001b[49m\u001b[43mhidden_states\u001b[49m\u001b[43m,\u001b[49m\n\u001b[0;32m    586\u001b[0m \u001b[43m        \u001b[49m\u001b[43mattention_mask\u001b[49m\u001b[43m,\u001b[49m\n\u001b[0;32m    587\u001b[0m \u001b[43m        \u001b[49m\u001b[43mhead_mask\u001b[49m\u001b[43m,\u001b[49m\n\u001b[0;32m    588\u001b[0m \u001b[43m        \u001b[49m\u001b[43moutput_attentions\u001b[49m\u001b[38;5;241;43m=\u001b[39;49m\u001b[43moutput_attentions\u001b[49m\u001b[43m,\u001b[49m\n\u001b[0;32m    589\u001b[0m \u001b[43m        \u001b[49m\u001b[43mpast_key_value\u001b[49m\u001b[38;5;241;43m=\u001b[39;49m\u001b[43mself_attn_past_key_value\u001b[49m\u001b[43m,\u001b[49m\n\u001b[0;32m    590\u001b[0m \u001b[43m    \u001b[49m\u001b[43m)\u001b[49m\n\u001b[0;32m    591\u001b[0m     attention_output \u001b[38;5;241m=\u001b[39m self_attention_outputs[\u001b[38;5;241m0\u001b[39m]\n\u001b[0;32m    593\u001b[0m     \u001b[38;5;66;03m# if decoder, the last output is tuple of self-attn cache\u001b[39;00m\n",
      "File \u001b[1;32mc:\\Users\\nikla\\miniconda3\\envs\\bert_ma\\Lib\\site-packages\\torch\\nn\\modules\\module.py:1532\u001b[0m, in \u001b[0;36mModule._wrapped_call_impl\u001b[1;34m(self, *args, **kwargs)\u001b[0m\n\u001b[0;32m   1530\u001b[0m     \u001b[38;5;28;01mreturn\u001b[39;00m \u001b[38;5;28mself\u001b[39m\u001b[38;5;241m.\u001b[39m_compiled_call_impl(\u001b[38;5;241m*\u001b[39margs, \u001b[38;5;241m*\u001b[39m\u001b[38;5;241m*\u001b[39mkwargs)  \u001b[38;5;66;03m# type: ignore[misc]\u001b[39;00m\n\u001b[0;32m   1531\u001b[0m \u001b[38;5;28;01melse\u001b[39;00m:\n\u001b[1;32m-> 1532\u001b[0m     \u001b[38;5;28;01mreturn\u001b[39;00m \u001b[38;5;28;43mself\u001b[39;49m\u001b[38;5;241;43m.\u001b[39;49m\u001b[43m_call_impl\u001b[49m\u001b[43m(\u001b[49m\u001b[38;5;241;43m*\u001b[39;49m\u001b[43margs\u001b[49m\u001b[43m,\u001b[49m\u001b[43m \u001b[49m\u001b[38;5;241;43m*\u001b[39;49m\u001b[38;5;241;43m*\u001b[39;49m\u001b[43mkwargs\u001b[49m\u001b[43m)\u001b[49m\n",
      "File \u001b[1;32mc:\\Users\\nikla\\miniconda3\\envs\\bert_ma\\Lib\\site-packages\\torch\\nn\\modules\\module.py:1541\u001b[0m, in \u001b[0;36mModule._call_impl\u001b[1;34m(self, *args, **kwargs)\u001b[0m\n\u001b[0;32m   1536\u001b[0m \u001b[38;5;66;03m# If we don't have any hooks, we want to skip the rest of the logic in\u001b[39;00m\n\u001b[0;32m   1537\u001b[0m \u001b[38;5;66;03m# this function, and just call forward.\u001b[39;00m\n\u001b[0;32m   1538\u001b[0m \u001b[38;5;28;01mif\u001b[39;00m \u001b[38;5;129;01mnot\u001b[39;00m (\u001b[38;5;28mself\u001b[39m\u001b[38;5;241m.\u001b[39m_backward_hooks \u001b[38;5;129;01mor\u001b[39;00m \u001b[38;5;28mself\u001b[39m\u001b[38;5;241m.\u001b[39m_backward_pre_hooks \u001b[38;5;129;01mor\u001b[39;00m \u001b[38;5;28mself\u001b[39m\u001b[38;5;241m.\u001b[39m_forward_hooks \u001b[38;5;129;01mor\u001b[39;00m \u001b[38;5;28mself\u001b[39m\u001b[38;5;241m.\u001b[39m_forward_pre_hooks\n\u001b[0;32m   1539\u001b[0m         \u001b[38;5;129;01mor\u001b[39;00m _global_backward_pre_hooks \u001b[38;5;129;01mor\u001b[39;00m _global_backward_hooks\n\u001b[0;32m   1540\u001b[0m         \u001b[38;5;129;01mor\u001b[39;00m _global_forward_hooks \u001b[38;5;129;01mor\u001b[39;00m _global_forward_pre_hooks):\n\u001b[1;32m-> 1541\u001b[0m     \u001b[38;5;28;01mreturn\u001b[39;00m \u001b[43mforward_call\u001b[49m\u001b[43m(\u001b[49m\u001b[38;5;241;43m*\u001b[39;49m\u001b[43margs\u001b[49m\u001b[43m,\u001b[49m\u001b[43m \u001b[49m\u001b[38;5;241;43m*\u001b[39;49m\u001b[38;5;241;43m*\u001b[39;49m\u001b[43mkwargs\u001b[49m\u001b[43m)\u001b[49m\n\u001b[0;32m   1543\u001b[0m \u001b[38;5;28;01mtry\u001b[39;00m:\n\u001b[0;32m   1544\u001b[0m     result \u001b[38;5;241m=\u001b[39m \u001b[38;5;28;01mNone\u001b[39;00m\n",
      "File \u001b[1;32mc:\\Users\\nikla\\miniconda3\\envs\\bert_ma\\Lib\\site-packages\\transformers\\models\\bert\\modeling_bert.py:514\u001b[0m, in \u001b[0;36mBertAttention.forward\u001b[1;34m(self, hidden_states, attention_mask, head_mask, encoder_hidden_states, encoder_attention_mask, past_key_value, output_attentions)\u001b[0m\n\u001b[0;32m    504\u001b[0m \u001b[38;5;28;01mdef\u001b[39;00m \u001b[38;5;21mforward\u001b[39m(\n\u001b[0;32m    505\u001b[0m     \u001b[38;5;28mself\u001b[39m,\n\u001b[0;32m    506\u001b[0m     hidden_states: torch\u001b[38;5;241m.\u001b[39mTensor,\n\u001b[1;32m   (...)\u001b[0m\n\u001b[0;32m    512\u001b[0m     output_attentions: Optional[\u001b[38;5;28mbool\u001b[39m] \u001b[38;5;241m=\u001b[39m \u001b[38;5;28;01mFalse\u001b[39;00m,\n\u001b[0;32m    513\u001b[0m ) \u001b[38;5;241m-\u001b[39m\u001b[38;5;241m>\u001b[39m Tuple[torch\u001b[38;5;241m.\u001b[39mTensor]:\n\u001b[1;32m--> 514\u001b[0m     self_outputs \u001b[38;5;241m=\u001b[39m \u001b[38;5;28;43mself\u001b[39;49m\u001b[38;5;241;43m.\u001b[39;49m\u001b[43mself\u001b[49m\u001b[43m(\u001b[49m\n\u001b[0;32m    515\u001b[0m \u001b[43m        \u001b[49m\u001b[43mhidden_states\u001b[49m\u001b[43m,\u001b[49m\n\u001b[0;32m    516\u001b[0m \u001b[43m        \u001b[49m\u001b[43mattention_mask\u001b[49m\u001b[43m,\u001b[49m\n\u001b[0;32m    517\u001b[0m \u001b[43m        \u001b[49m\u001b[43mhead_mask\u001b[49m\u001b[43m,\u001b[49m\n\u001b[0;32m    518\u001b[0m \u001b[43m        \u001b[49m\u001b[43mencoder_hidden_states\u001b[49m\u001b[43m,\u001b[49m\n\u001b[0;32m    519\u001b[0m \u001b[43m        \u001b[49m\u001b[43mencoder_attention_mask\u001b[49m\u001b[43m,\u001b[49m\n\u001b[0;32m    520\u001b[0m \u001b[43m        \u001b[49m\u001b[43mpast_key_value\u001b[49m\u001b[43m,\u001b[49m\n\u001b[0;32m    521\u001b[0m \u001b[43m        \u001b[49m\u001b[43moutput_attentions\u001b[49m\u001b[43m,\u001b[49m\n\u001b[0;32m    522\u001b[0m \u001b[43m    \u001b[49m\u001b[43m)\u001b[49m\n\u001b[0;32m    523\u001b[0m     attention_output \u001b[38;5;241m=\u001b[39m \u001b[38;5;28mself\u001b[39m\u001b[38;5;241m.\u001b[39moutput(self_outputs[\u001b[38;5;241m0\u001b[39m], hidden_states)\n\u001b[0;32m    524\u001b[0m     outputs \u001b[38;5;241m=\u001b[39m (attention_output,) \u001b[38;5;241m+\u001b[39m self_outputs[\u001b[38;5;241m1\u001b[39m:]  \u001b[38;5;66;03m# add attentions if we output them\u001b[39;00m\n",
      "File \u001b[1;32mc:\\Users\\nikla\\miniconda3\\envs\\bert_ma\\Lib\\site-packages\\torch\\nn\\modules\\module.py:1532\u001b[0m, in \u001b[0;36mModule._wrapped_call_impl\u001b[1;34m(self, *args, **kwargs)\u001b[0m\n\u001b[0;32m   1530\u001b[0m     \u001b[38;5;28;01mreturn\u001b[39;00m \u001b[38;5;28mself\u001b[39m\u001b[38;5;241m.\u001b[39m_compiled_call_impl(\u001b[38;5;241m*\u001b[39margs, \u001b[38;5;241m*\u001b[39m\u001b[38;5;241m*\u001b[39mkwargs)  \u001b[38;5;66;03m# type: ignore[misc]\u001b[39;00m\n\u001b[0;32m   1531\u001b[0m \u001b[38;5;28;01melse\u001b[39;00m:\n\u001b[1;32m-> 1532\u001b[0m     \u001b[38;5;28;01mreturn\u001b[39;00m \u001b[38;5;28;43mself\u001b[39;49m\u001b[38;5;241;43m.\u001b[39;49m\u001b[43m_call_impl\u001b[49m\u001b[43m(\u001b[49m\u001b[38;5;241;43m*\u001b[39;49m\u001b[43margs\u001b[49m\u001b[43m,\u001b[49m\u001b[43m \u001b[49m\u001b[38;5;241;43m*\u001b[39;49m\u001b[38;5;241;43m*\u001b[39;49m\u001b[43mkwargs\u001b[49m\u001b[43m)\u001b[49m\n",
      "File \u001b[1;32mc:\\Users\\nikla\\miniconda3\\envs\\bert_ma\\Lib\\site-packages\\torch\\nn\\modules\\module.py:1541\u001b[0m, in \u001b[0;36mModule._call_impl\u001b[1;34m(self, *args, **kwargs)\u001b[0m\n\u001b[0;32m   1536\u001b[0m \u001b[38;5;66;03m# If we don't have any hooks, we want to skip the rest of the logic in\u001b[39;00m\n\u001b[0;32m   1537\u001b[0m \u001b[38;5;66;03m# this function, and just call forward.\u001b[39;00m\n\u001b[0;32m   1538\u001b[0m \u001b[38;5;28;01mif\u001b[39;00m \u001b[38;5;129;01mnot\u001b[39;00m (\u001b[38;5;28mself\u001b[39m\u001b[38;5;241m.\u001b[39m_backward_hooks \u001b[38;5;129;01mor\u001b[39;00m \u001b[38;5;28mself\u001b[39m\u001b[38;5;241m.\u001b[39m_backward_pre_hooks \u001b[38;5;129;01mor\u001b[39;00m \u001b[38;5;28mself\u001b[39m\u001b[38;5;241m.\u001b[39m_forward_hooks \u001b[38;5;129;01mor\u001b[39;00m \u001b[38;5;28mself\u001b[39m\u001b[38;5;241m.\u001b[39m_forward_pre_hooks\n\u001b[0;32m   1539\u001b[0m         \u001b[38;5;129;01mor\u001b[39;00m _global_backward_pre_hooks \u001b[38;5;129;01mor\u001b[39;00m _global_backward_hooks\n\u001b[0;32m   1540\u001b[0m         \u001b[38;5;129;01mor\u001b[39;00m _global_forward_hooks \u001b[38;5;129;01mor\u001b[39;00m _global_forward_pre_hooks):\n\u001b[1;32m-> 1541\u001b[0m     \u001b[38;5;28;01mreturn\u001b[39;00m \u001b[43mforward_call\u001b[49m\u001b[43m(\u001b[49m\u001b[38;5;241;43m*\u001b[39;49m\u001b[43margs\u001b[49m\u001b[43m,\u001b[49m\u001b[43m \u001b[49m\u001b[38;5;241;43m*\u001b[39;49m\u001b[38;5;241;43m*\u001b[39;49m\u001b[43mkwargs\u001b[49m\u001b[43m)\u001b[49m\n\u001b[0;32m   1543\u001b[0m \u001b[38;5;28;01mtry\u001b[39;00m:\n\u001b[0;32m   1544\u001b[0m     result \u001b[38;5;241m=\u001b[39m \u001b[38;5;28;01mNone\u001b[39;00m\n",
      "File \u001b[1;32mc:\\Users\\nikla\\miniconda3\\envs\\bert_ma\\Lib\\site-packages\\transformers\\models\\bert\\modeling_bert.py:408\u001b[0m, in \u001b[0;36mBertSdpaSelfAttention.forward\u001b[1;34m(self, hidden_states, attention_mask, head_mask, encoder_hidden_states, encoder_attention_mask, past_key_value, output_attentions)\u001b[0m\n\u001b[0;32m    406\u001b[0m \u001b[38;5;28;01melse\u001b[39;00m:\n\u001b[0;32m    407\u001b[0m     key_layer \u001b[38;5;241m=\u001b[39m \u001b[38;5;28mself\u001b[39m\u001b[38;5;241m.\u001b[39mtranspose_for_scores(\u001b[38;5;28mself\u001b[39m\u001b[38;5;241m.\u001b[39mkey(current_states))\n\u001b[1;32m--> 408\u001b[0m     value_layer \u001b[38;5;241m=\u001b[39m \u001b[38;5;28mself\u001b[39m\u001b[38;5;241m.\u001b[39mtranspose_for_scores(\u001b[38;5;28;43mself\u001b[39;49m\u001b[38;5;241;43m.\u001b[39;49m\u001b[43mvalue\u001b[49m\u001b[43m(\u001b[49m\u001b[43mcurrent_states\u001b[49m\u001b[43m)\u001b[49m)\n\u001b[0;32m    409\u001b[0m     \u001b[38;5;28;01mif\u001b[39;00m past_key_value \u001b[38;5;129;01mis\u001b[39;00m \u001b[38;5;129;01mnot\u001b[39;00m \u001b[38;5;28;01mNone\u001b[39;00m \u001b[38;5;129;01mand\u001b[39;00m \u001b[38;5;129;01mnot\u001b[39;00m is_cross_attention:\n\u001b[0;32m    410\u001b[0m         key_layer \u001b[38;5;241m=\u001b[39m torch\u001b[38;5;241m.\u001b[39mcat([past_key_value[\u001b[38;5;241m0\u001b[39m], key_layer], dim\u001b[38;5;241m=\u001b[39m\u001b[38;5;241m2\u001b[39m)\n",
      "File \u001b[1;32mc:\\Users\\nikla\\miniconda3\\envs\\bert_ma\\Lib\\site-packages\\torch\\nn\\modules\\module.py:1532\u001b[0m, in \u001b[0;36mModule._wrapped_call_impl\u001b[1;34m(self, *args, **kwargs)\u001b[0m\n\u001b[0;32m   1530\u001b[0m     \u001b[38;5;28;01mreturn\u001b[39;00m \u001b[38;5;28mself\u001b[39m\u001b[38;5;241m.\u001b[39m_compiled_call_impl(\u001b[38;5;241m*\u001b[39margs, \u001b[38;5;241m*\u001b[39m\u001b[38;5;241m*\u001b[39mkwargs)  \u001b[38;5;66;03m# type: ignore[misc]\u001b[39;00m\n\u001b[0;32m   1531\u001b[0m \u001b[38;5;28;01melse\u001b[39;00m:\n\u001b[1;32m-> 1532\u001b[0m     \u001b[38;5;28;01mreturn\u001b[39;00m \u001b[38;5;28;43mself\u001b[39;49m\u001b[38;5;241;43m.\u001b[39;49m\u001b[43m_call_impl\u001b[49m\u001b[43m(\u001b[49m\u001b[38;5;241;43m*\u001b[39;49m\u001b[43margs\u001b[49m\u001b[43m,\u001b[49m\u001b[43m \u001b[49m\u001b[38;5;241;43m*\u001b[39;49m\u001b[38;5;241;43m*\u001b[39;49m\u001b[43mkwargs\u001b[49m\u001b[43m)\u001b[49m\n",
      "File \u001b[1;32mc:\\Users\\nikla\\miniconda3\\envs\\bert_ma\\Lib\\site-packages\\torch\\nn\\modules\\module.py:1541\u001b[0m, in \u001b[0;36mModule._call_impl\u001b[1;34m(self, *args, **kwargs)\u001b[0m\n\u001b[0;32m   1536\u001b[0m \u001b[38;5;66;03m# If we don't have any hooks, we want to skip the rest of the logic in\u001b[39;00m\n\u001b[0;32m   1537\u001b[0m \u001b[38;5;66;03m# this function, and just call forward.\u001b[39;00m\n\u001b[0;32m   1538\u001b[0m \u001b[38;5;28;01mif\u001b[39;00m \u001b[38;5;129;01mnot\u001b[39;00m (\u001b[38;5;28mself\u001b[39m\u001b[38;5;241m.\u001b[39m_backward_hooks \u001b[38;5;129;01mor\u001b[39;00m \u001b[38;5;28mself\u001b[39m\u001b[38;5;241m.\u001b[39m_backward_pre_hooks \u001b[38;5;129;01mor\u001b[39;00m \u001b[38;5;28mself\u001b[39m\u001b[38;5;241m.\u001b[39m_forward_hooks \u001b[38;5;129;01mor\u001b[39;00m \u001b[38;5;28mself\u001b[39m\u001b[38;5;241m.\u001b[39m_forward_pre_hooks\n\u001b[0;32m   1539\u001b[0m         \u001b[38;5;129;01mor\u001b[39;00m _global_backward_pre_hooks \u001b[38;5;129;01mor\u001b[39;00m _global_backward_hooks\n\u001b[0;32m   1540\u001b[0m         \u001b[38;5;129;01mor\u001b[39;00m _global_forward_hooks \u001b[38;5;129;01mor\u001b[39;00m _global_forward_pre_hooks):\n\u001b[1;32m-> 1541\u001b[0m     \u001b[38;5;28;01mreturn\u001b[39;00m \u001b[43mforward_call\u001b[49m\u001b[43m(\u001b[49m\u001b[38;5;241;43m*\u001b[39;49m\u001b[43margs\u001b[49m\u001b[43m,\u001b[49m\u001b[43m \u001b[49m\u001b[38;5;241;43m*\u001b[39;49m\u001b[38;5;241;43m*\u001b[39;49m\u001b[43mkwargs\u001b[49m\u001b[43m)\u001b[49m\n\u001b[0;32m   1543\u001b[0m \u001b[38;5;28;01mtry\u001b[39;00m:\n\u001b[0;32m   1544\u001b[0m     result \u001b[38;5;241m=\u001b[39m \u001b[38;5;28;01mNone\u001b[39;00m\n",
      "File \u001b[1;32mc:\\Users\\nikla\\miniconda3\\envs\\bert_ma\\Lib\\site-packages\\torch\\nn\\modules\\linear.py:116\u001b[0m, in \u001b[0;36mLinear.forward\u001b[1;34m(self, input)\u001b[0m\n\u001b[0;32m    115\u001b[0m \u001b[38;5;28;01mdef\u001b[39;00m \u001b[38;5;21mforward\u001b[39m(\u001b[38;5;28mself\u001b[39m, \u001b[38;5;28minput\u001b[39m: Tensor) \u001b[38;5;241m-\u001b[39m\u001b[38;5;241m>\u001b[39m Tensor:\n\u001b[1;32m--> 116\u001b[0m     \u001b[38;5;28;01mreturn\u001b[39;00m \u001b[43mF\u001b[49m\u001b[38;5;241;43m.\u001b[39;49m\u001b[43mlinear\u001b[49m\u001b[43m(\u001b[49m\u001b[38;5;28;43minput\u001b[39;49m\u001b[43m,\u001b[49m\u001b[43m \u001b[49m\u001b[38;5;28;43mself\u001b[39;49m\u001b[38;5;241;43m.\u001b[39;49m\u001b[43mweight\u001b[49m\u001b[43m,\u001b[49m\u001b[43m \u001b[49m\u001b[38;5;28;43mself\u001b[39;49m\u001b[38;5;241;43m.\u001b[39;49m\u001b[43mbias\u001b[49m\u001b[43m)\u001b[49m\n",
      "\u001b[1;31mKeyboardInterrupt\u001b[0m: "
     ]
    }
   ],
   "source": [
    "topics, probs = topic_model.fit_transform(all_relevant_sections)"
   ]
  },
  {
   "cell_type": "code",
   "execution_count": 57,
   "metadata": {},
   "outputs": [
    {
     "data": {
      "application/vnd.plotly.v1+json": {
       "config": {
        "plotlyServerURL": "https://plot.ly"
       },
       "data": [
        {
         "customdata": [
          [
           0,
           "the | in | to | of | we",
           2895
          ],
          [
           1,
           "then | will | ll | results | call",
           71
          ],
          [
           2,
           "camp | inc | ceo | ken | president",
           51
          ],
          [
           3,
           "corporation | smurfit | stone | container | haudrich",
           47
          ],
          [
           4,
           "corporation | container | stone | smurfit | president",
           39
          ],
          [
           5,
           "conference | ladies | gentlemen | conduct | mode",
           33
          ],
          [
           6,
           "replay | internationally | midnight | eastern | dialing",
           32
          ],
          [
           7,
           "recording | any | consent | text | permitted",
           31
          ],
          [
           8,
           "director | raver | inc | ceo | joe",
           31
          ],
          [
           9,
           "statements | securities | looking | laws | harbor",
           29
          ],
          [
           10,
           "analyst | suisse | klein | bruce | deutsche",
           28
          ],
          [
           11,
           "relations | investor | go | mr | ahead",
           26
          ],
          [
           12,
           "ready | open | questions | operator | concludes",
           24
          ],
          [
           13,
           "concluding | ken | his | back | remarks",
           22
          ],
          [
           14,
           "moore | pat | ceo | stone | smurfit",
           21
          ],
          [
           15,
           "measures | gaap | non | discussing | encourage",
           21
          ],
          [
           16,
           "kristina | detail | turn | more | let",
           20
          ],
          [
           17,
           "turn | joe | call | back | ll",
           20
          ],
          [
           18,
           "statements | actual | measures | looking | forward",
           20
          ],
          [
           19,
           "moore | pat | ceo | stone | smurfit",
           20
          ],
          [
           20,
           "ceo | inc | president | corp | raver",
           20
          ],
          [
           21,
           "me | if | please | call | 812",
           19
          ],
          [
           22,
           "turn | now | chuck | review | over",
           19
          ],
          [
           23,
           "corporation | moore | chairman | ceo | container",
           18
          ],
          [
           24,
           "officer | chief | lucchese | president | camp",
           18
          ],
          [
           25,
           "ken | call | prepared | will | cindy",
           18
          ],
          [
           26,
           "operator | unidentified | 119 | representative | 125",
           17
          ],
          [
           27,
           "ready | open | joined | session | kim",
           17
          ],
          [
           28,
           "recording | or | any | replay | be",
           17
          ],
          [
           29,
           "cfo | lucchese | inc | cindy | svp",
           17
          ],
          [
           30,
           "joined | call | joining | morning | cerniglia",
           16
          ],
          [
           31,
           "warburg | ubs | analyst | hoffman | bill",
           16
          ],
          [
           32,
           "cindy | lucchese | cfo | turn | now",
           16
          ],
          [
           33,
           "morning | good | thank | tim | you",
           16
          ],
          [
           34,
           "morning | chief | officer | controller | president",
           15
          ],
          [
           35,
           "thank | great | much | thanks | right",
           14
          ],
          [
           36,
           "hinrichs | cfo | chuck | stone | smurfit",
           14
          ],
          [
           37,
           "svp | cfo | inc | cerniglia | lucchese",
           14
          ],
          [
           38,
           "your | participation | happy | questions | take",
           14
          ],
          [
           39,
           "raver | mr | pleasure | executive | my",
           14
          ],
          [
           40,
           "ken | camp | pleasure | my | turn",
           14
          ],
          [
           41,
           "ir | gordon | chris | inc | director",
           13
          ],
          [
           42,
           "vp | lanning | ir | mark | inc",
           13
          ],
          [
           43,
           "thank | chuck | thanks | you | ken",
           13
          ],
          [
           44,
           "uncertainties | risks | statements | seasonality | contains",
           13
          ],
          [
           45,
           "chairman | corporation | moore | container | amp",
           12
          ],
          [
           46,
           "comes | question | next | from | please",
           11
          ],
          [
           47,
           "concluding | his | back | remarks | joe",
           11
          ],
          [
           48,
           "questions | considerations | refrain | question | legal",
           11
          ]
         ],
         "hovertemplate": "<b>Topic %{customdata[0]}</b><br>%{customdata[1]}<br>Size: %{customdata[2]}",
         "legendgroup": "",
         "marker": {
          "color": "#B0BEC5",
          "line": {
           "color": "DarkSlateGrey",
           "width": 2
          },
          "size": [
           2895,
           71,
           51,
           47,
           39,
           33,
           32,
           31,
           31,
           29,
           28,
           26,
           24,
           22,
           21,
           21,
           20,
           20,
           20,
           20,
           20,
           19,
           19,
           18,
           18,
           18,
           17,
           17,
           17,
           17,
           16,
           16,
           16,
           16,
           15,
           14,
           14,
           14,
           14,
           14,
           14,
           13,
           13,
           13,
           13,
           12,
           11,
           11,
           11
          ],
          "sizemode": "area",
          "sizeref": 1.809375,
          "symbol": "circle"
         },
         "mode": "markers",
         "name": "",
         "orientation": "v",
         "showlegend": false,
         "type": "scatter",
         "x": [
          9.05030345916748,
          8.960424423217773,
          -2.6853086948394775,
          20.952028274536133,
          20.486995697021484,
          1.455647349357605,
          -3.38763165473938,
          -3.184345245361328,
          20.00659942626953,
          -3.4813473224639893,
          16.037010192871094,
          1.4839824438095093,
          8.084993362426758,
          -1.863089680671692,
          1.980912446975708,
          -3.2572946548461914,
          -14.303418159484863,
          -1.8697926998138428,
          -3.3438355922698975,
          14.696617126464844,
          20.12525749206543,
          9.206564903259277,
          -14.30345630645752,
          14.659628868103027,
          0.23328374326229095,
          9.024154663085938,
          15.935348510742188,
          8.644683837890625,
          -3.3693249225616455,
          -2.6806910037994385,
          0.28531622886657715,
          15.860636711120605,
          0.26156675815582275,
          -8.366249084472656,
          0.04586920514702797,
          7.700741767883301,
          1.980928897857666,
          4.835174083709717,
          7.812094688415527,
          1.3621230125427246,
          0.16556568443775177,
          20.723068237304688,
          4.9118971824646,
          -8.301738739013672,
          -3.5955560207366943,
          14.569350242614746,
          8.768891334533691,
          -1.9190250635147095,
          8.556306838989258
         ],
         "xaxis": "x",
         "y": [
          6.927997589111328,
          7.014743804931641,
          19.11899757385254,
          -0.3027454912662506,
          0.16317923367023468,
          -1.335868239402771,
          -10.505846977233887,
          -10.299029350280762,
          0.6441379189491272,
          -0.2689339816570282,
          -7.6159539222717285,
          -1.3072876930236816,
          7.452147483825684,
          5.756472587585449,
          18.82363510131836,
          -0.4924880564212799,
          -5.085676193237305,
          5.777049541473389,
          -0.40652939677238464,
          5.938822269439697,
          0.5254861116409302,
          7.399045944213867,
          -5.08567476272583,
          5.9760308265686035,
          -6.233707427978516,
          7.162198066711426,
          -7.514204502105713,
          7.555466175079346,
          -10.486933708190918,
          19.11886215209961,
          -6.181755542755127,
          -7.439283847808838,
          11.444180488586426,
          5.866185665130615,
          -6.420978546142578,
          7.078108787536621,
          18.82364273071289,
          -6.267385959625244,
          7.2221808433532715,
          -1.4288440942764282,
          11.540492057800293,
          -0.07345348596572876,
          -6.202648162841797,
          5.801973342895508,
          -0.15475398302078247,
          6.066271781921387,
          7.7265849113464355,
          5.818821907043457,
          7.812098979949951
         ],
         "yaxis": "y"
        }
       ],
       "layout": {
        "annotations": [
         {
          "showarrow": false,
          "text": "D1",
          "x": -16.448974752426146,
          "y": 4.952561593055726,
          "yshift": 10
         },
         {
          "showarrow": false,
          "text": "D2",
          "x": 3.822928881645204,
          "xshift": 10,
          "y": 21.98684720993042
         }
        ],
        "height": 650,
        "hoverlabel": {
         "bgcolor": "white",
         "font": {
          "family": "Rockwell",
          "size": 16
         }
        },
        "legend": {
         "itemsizing": "constant",
         "tracegroupgap": 0
        },
        "margin": {
         "t": 60
        },
        "shapes": [
         {
          "line": {
           "color": "#CFD8DC",
           "width": 2
          },
          "type": "line",
          "x0": 3.822928881645204,
          "x1": 3.822928881645204,
          "y0": -12.08172402381897,
          "y1": 21.98684720993042
         },
         {
          "line": {
           "color": "#9E9E9E",
           "width": 2
          },
          "type": "line",
          "x0": -16.448974752426146,
          "x1": 24.094832515716554,
          "y0": 4.952561593055726,
          "y1": 4.952561593055726
         }
        ],
        "sliders": [
         {
          "active": 0,
          "pad": {
           "t": 50
          },
          "steps": [
           {
            "args": [
             {
              "marker.color": [
               [
                "red",
                "#B0BEC5",
                "#B0BEC5",
                "#B0BEC5",
                "#B0BEC5",
                "#B0BEC5",
                "#B0BEC5",
                "#B0BEC5",
                "#B0BEC5",
                "#B0BEC5",
                "#B0BEC5",
                "#B0BEC5",
                "#B0BEC5",
                "#B0BEC5",
                "#B0BEC5",
                "#B0BEC5",
                "#B0BEC5",
                "#B0BEC5",
                "#B0BEC5",
                "#B0BEC5",
                "#B0BEC5",
                "#B0BEC5",
                "#B0BEC5",
                "#B0BEC5",
                "#B0BEC5",
                "#B0BEC5",
                "#B0BEC5",
                "#B0BEC5",
                "#B0BEC5",
                "#B0BEC5",
                "#B0BEC5",
                "#B0BEC5",
                "#B0BEC5",
                "#B0BEC5",
                "#B0BEC5",
                "#B0BEC5",
                "#B0BEC5",
                "#B0BEC5",
                "#B0BEC5",
                "#B0BEC5",
                "#B0BEC5",
                "#B0BEC5",
                "#B0BEC5",
                "#B0BEC5",
                "#B0BEC5",
                "#B0BEC5",
                "#B0BEC5",
                "#B0BEC5",
                "#B0BEC5"
               ]
              ]
             }
            ],
            "label": "Topic 0",
            "method": "update"
           },
           {
            "args": [
             {
              "marker.color": [
               [
                "#B0BEC5",
                "red",
                "#B0BEC5",
                "#B0BEC5",
                "#B0BEC5",
                "#B0BEC5",
                "#B0BEC5",
                "#B0BEC5",
                "#B0BEC5",
                "#B0BEC5",
                "#B0BEC5",
                "#B0BEC5",
                "#B0BEC5",
                "#B0BEC5",
                "#B0BEC5",
                "#B0BEC5",
                "#B0BEC5",
                "#B0BEC5",
                "#B0BEC5",
                "#B0BEC5",
                "#B0BEC5",
                "#B0BEC5",
                "#B0BEC5",
                "#B0BEC5",
                "#B0BEC5",
                "#B0BEC5",
                "#B0BEC5",
                "#B0BEC5",
                "#B0BEC5",
                "#B0BEC5",
                "#B0BEC5",
                "#B0BEC5",
                "#B0BEC5",
                "#B0BEC5",
                "#B0BEC5",
                "#B0BEC5",
                "#B0BEC5",
                "#B0BEC5",
                "#B0BEC5",
                "#B0BEC5",
                "#B0BEC5",
                "#B0BEC5",
                "#B0BEC5",
                "#B0BEC5",
                "#B0BEC5",
                "#B0BEC5",
                "#B0BEC5",
                "#B0BEC5",
                "#B0BEC5"
               ]
              ]
             }
            ],
            "label": "Topic 1",
            "method": "update"
           },
           {
            "args": [
             {
              "marker.color": [
               [
                "#B0BEC5",
                "#B0BEC5",
                "red",
                "#B0BEC5",
                "#B0BEC5",
                "#B0BEC5",
                "#B0BEC5",
                "#B0BEC5",
                "#B0BEC5",
                "#B0BEC5",
                "#B0BEC5",
                "#B0BEC5",
                "#B0BEC5",
                "#B0BEC5",
                "#B0BEC5",
                "#B0BEC5",
                "#B0BEC5",
                "#B0BEC5",
                "#B0BEC5",
                "#B0BEC5",
                "#B0BEC5",
                "#B0BEC5",
                "#B0BEC5",
                "#B0BEC5",
                "#B0BEC5",
                "#B0BEC5",
                "#B0BEC5",
                "#B0BEC5",
                "#B0BEC5",
                "#B0BEC5",
                "#B0BEC5",
                "#B0BEC5",
                "#B0BEC5",
                "#B0BEC5",
                "#B0BEC5",
                "#B0BEC5",
                "#B0BEC5",
                "#B0BEC5",
                "#B0BEC5",
                "#B0BEC5",
                "#B0BEC5",
                "#B0BEC5",
                "#B0BEC5",
                "#B0BEC5",
                "#B0BEC5",
                "#B0BEC5",
                "#B0BEC5",
                "#B0BEC5",
                "#B0BEC5"
               ]
              ]
             }
            ],
            "label": "Topic 2",
            "method": "update"
           },
           {
            "args": [
             {
              "marker.color": [
               [
                "#B0BEC5",
                "#B0BEC5",
                "#B0BEC5",
                "red",
                "#B0BEC5",
                "#B0BEC5",
                "#B0BEC5",
                "#B0BEC5",
                "#B0BEC5",
                "#B0BEC5",
                "#B0BEC5",
                "#B0BEC5",
                "#B0BEC5",
                "#B0BEC5",
                "#B0BEC5",
                "#B0BEC5",
                "#B0BEC5",
                "#B0BEC5",
                "#B0BEC5",
                "#B0BEC5",
                "#B0BEC5",
                "#B0BEC5",
                "#B0BEC5",
                "#B0BEC5",
                "#B0BEC5",
                "#B0BEC5",
                "#B0BEC5",
                "#B0BEC5",
                "#B0BEC5",
                "#B0BEC5",
                "#B0BEC5",
                "#B0BEC5",
                "#B0BEC5",
                "#B0BEC5",
                "#B0BEC5",
                "#B0BEC5",
                "#B0BEC5",
                "#B0BEC5",
                "#B0BEC5",
                "#B0BEC5",
                "#B0BEC5",
                "#B0BEC5",
                "#B0BEC5",
                "#B0BEC5",
                "#B0BEC5",
                "#B0BEC5",
                "#B0BEC5",
                "#B0BEC5",
                "#B0BEC5"
               ]
              ]
             }
            ],
            "label": "Topic 3",
            "method": "update"
           },
           {
            "args": [
             {
              "marker.color": [
               [
                "#B0BEC5",
                "#B0BEC5",
                "#B0BEC5",
                "#B0BEC5",
                "red",
                "#B0BEC5",
                "#B0BEC5",
                "#B0BEC5",
                "#B0BEC5",
                "#B0BEC5",
                "#B0BEC5",
                "#B0BEC5",
                "#B0BEC5",
                "#B0BEC5",
                "#B0BEC5",
                "#B0BEC5",
                "#B0BEC5",
                "#B0BEC5",
                "#B0BEC5",
                "#B0BEC5",
                "#B0BEC5",
                "#B0BEC5",
                "#B0BEC5",
                "#B0BEC5",
                "#B0BEC5",
                "#B0BEC5",
                "#B0BEC5",
                "#B0BEC5",
                "#B0BEC5",
                "#B0BEC5",
                "#B0BEC5",
                "#B0BEC5",
                "#B0BEC5",
                "#B0BEC5",
                "#B0BEC5",
                "#B0BEC5",
                "#B0BEC5",
                "#B0BEC5",
                "#B0BEC5",
                "#B0BEC5",
                "#B0BEC5",
                "#B0BEC5",
                "#B0BEC5",
                "#B0BEC5",
                "#B0BEC5",
                "#B0BEC5",
                "#B0BEC5",
                "#B0BEC5",
                "#B0BEC5"
               ]
              ]
             }
            ],
            "label": "Topic 4",
            "method": "update"
           },
           {
            "args": [
             {
              "marker.color": [
               [
                "#B0BEC5",
                "#B0BEC5",
                "#B0BEC5",
                "#B0BEC5",
                "#B0BEC5",
                "red",
                "#B0BEC5",
                "#B0BEC5",
                "#B0BEC5",
                "#B0BEC5",
                "#B0BEC5",
                "#B0BEC5",
                "#B0BEC5",
                "#B0BEC5",
                "#B0BEC5",
                "#B0BEC5",
                "#B0BEC5",
                "#B0BEC5",
                "#B0BEC5",
                "#B0BEC5",
                "#B0BEC5",
                "#B0BEC5",
                "#B0BEC5",
                "#B0BEC5",
                "#B0BEC5",
                "#B0BEC5",
                "#B0BEC5",
                "#B0BEC5",
                "#B0BEC5",
                "#B0BEC5",
                "#B0BEC5",
                "#B0BEC5",
                "#B0BEC5",
                "#B0BEC5",
                "#B0BEC5",
                "#B0BEC5",
                "#B0BEC5",
                "#B0BEC5",
                "#B0BEC5",
                "#B0BEC5",
                "#B0BEC5",
                "#B0BEC5",
                "#B0BEC5",
                "#B0BEC5",
                "#B0BEC5",
                "#B0BEC5",
                "#B0BEC5",
                "#B0BEC5",
                "#B0BEC5"
               ]
              ]
             }
            ],
            "label": "Topic 5",
            "method": "update"
           },
           {
            "args": [
             {
              "marker.color": [
               [
                "#B0BEC5",
                "#B0BEC5",
                "#B0BEC5",
                "#B0BEC5",
                "#B0BEC5",
                "#B0BEC5",
                "red",
                "#B0BEC5",
                "#B0BEC5",
                "#B0BEC5",
                "#B0BEC5",
                "#B0BEC5",
                "#B0BEC5",
                "#B0BEC5",
                "#B0BEC5",
                "#B0BEC5",
                "#B0BEC5",
                "#B0BEC5",
                "#B0BEC5",
                "#B0BEC5",
                "#B0BEC5",
                "#B0BEC5",
                "#B0BEC5",
                "#B0BEC5",
                "#B0BEC5",
                "#B0BEC5",
                "#B0BEC5",
                "#B0BEC5",
                "#B0BEC5",
                "#B0BEC5",
                "#B0BEC5",
                "#B0BEC5",
                "#B0BEC5",
                "#B0BEC5",
                "#B0BEC5",
                "#B0BEC5",
                "#B0BEC5",
                "#B0BEC5",
                "#B0BEC5",
                "#B0BEC5",
                "#B0BEC5",
                "#B0BEC5",
                "#B0BEC5",
                "#B0BEC5",
                "#B0BEC5",
                "#B0BEC5",
                "#B0BEC5",
                "#B0BEC5",
                "#B0BEC5"
               ]
              ]
             }
            ],
            "label": "Topic 6",
            "method": "update"
           },
           {
            "args": [
             {
              "marker.color": [
               [
                "#B0BEC5",
                "#B0BEC5",
                "#B0BEC5",
                "#B0BEC5",
                "#B0BEC5",
                "#B0BEC5",
                "#B0BEC5",
                "red",
                "#B0BEC5",
                "#B0BEC5",
                "#B0BEC5",
                "#B0BEC5",
                "#B0BEC5",
                "#B0BEC5",
                "#B0BEC5",
                "#B0BEC5",
                "#B0BEC5",
                "#B0BEC5",
                "#B0BEC5",
                "#B0BEC5",
                "#B0BEC5",
                "#B0BEC5",
                "#B0BEC5",
                "#B0BEC5",
                "#B0BEC5",
                "#B0BEC5",
                "#B0BEC5",
                "#B0BEC5",
                "#B0BEC5",
                "#B0BEC5",
                "#B0BEC5",
                "#B0BEC5",
                "#B0BEC5",
                "#B0BEC5",
                "#B0BEC5",
                "#B0BEC5",
                "#B0BEC5",
                "#B0BEC5",
                "#B0BEC5",
                "#B0BEC5",
                "#B0BEC5",
                "#B0BEC5",
                "#B0BEC5",
                "#B0BEC5",
                "#B0BEC5",
                "#B0BEC5",
                "#B0BEC5",
                "#B0BEC5",
                "#B0BEC5"
               ]
              ]
             }
            ],
            "label": "Topic 7",
            "method": "update"
           },
           {
            "args": [
             {
              "marker.color": [
               [
                "#B0BEC5",
                "#B0BEC5",
                "#B0BEC5",
                "#B0BEC5",
                "#B0BEC5",
                "#B0BEC5",
                "#B0BEC5",
                "#B0BEC5",
                "red",
                "#B0BEC5",
                "#B0BEC5",
                "#B0BEC5",
                "#B0BEC5",
                "#B0BEC5",
                "#B0BEC5",
                "#B0BEC5",
                "#B0BEC5",
                "#B0BEC5",
                "#B0BEC5",
                "#B0BEC5",
                "#B0BEC5",
                "#B0BEC5",
                "#B0BEC5",
                "#B0BEC5",
                "#B0BEC5",
                "#B0BEC5",
                "#B0BEC5",
                "#B0BEC5",
                "#B0BEC5",
                "#B0BEC5",
                "#B0BEC5",
                "#B0BEC5",
                "#B0BEC5",
                "#B0BEC5",
                "#B0BEC5",
                "#B0BEC5",
                "#B0BEC5",
                "#B0BEC5",
                "#B0BEC5",
                "#B0BEC5",
                "#B0BEC5",
                "#B0BEC5",
                "#B0BEC5",
                "#B0BEC5",
                "#B0BEC5",
                "#B0BEC5",
                "#B0BEC5",
                "#B0BEC5",
                "#B0BEC5"
               ]
              ]
             }
            ],
            "label": "Topic 8",
            "method": "update"
           },
           {
            "args": [
             {
              "marker.color": [
               [
                "#B0BEC5",
                "#B0BEC5",
                "#B0BEC5",
                "#B0BEC5",
                "#B0BEC5",
                "#B0BEC5",
                "#B0BEC5",
                "#B0BEC5",
                "#B0BEC5",
                "red",
                "#B0BEC5",
                "#B0BEC5",
                "#B0BEC5",
                "#B0BEC5",
                "#B0BEC5",
                "#B0BEC5",
                "#B0BEC5",
                "#B0BEC5",
                "#B0BEC5",
                "#B0BEC5",
                "#B0BEC5",
                "#B0BEC5",
                "#B0BEC5",
                "#B0BEC5",
                "#B0BEC5",
                "#B0BEC5",
                "#B0BEC5",
                "#B0BEC5",
                "#B0BEC5",
                "#B0BEC5",
                "#B0BEC5",
                "#B0BEC5",
                "#B0BEC5",
                "#B0BEC5",
                "#B0BEC5",
                "#B0BEC5",
                "#B0BEC5",
                "#B0BEC5",
                "#B0BEC5",
                "#B0BEC5",
                "#B0BEC5",
                "#B0BEC5",
                "#B0BEC5",
                "#B0BEC5",
                "#B0BEC5",
                "#B0BEC5",
                "#B0BEC5",
                "#B0BEC5",
                "#B0BEC5"
               ]
              ]
             }
            ],
            "label": "Topic 9",
            "method": "update"
           },
           {
            "args": [
             {
              "marker.color": [
               [
                "#B0BEC5",
                "#B0BEC5",
                "#B0BEC5",
                "#B0BEC5",
                "#B0BEC5",
                "#B0BEC5",
                "#B0BEC5",
                "#B0BEC5",
                "#B0BEC5",
                "#B0BEC5",
                "red",
                "#B0BEC5",
                "#B0BEC5",
                "#B0BEC5",
                "#B0BEC5",
                "#B0BEC5",
                "#B0BEC5",
                "#B0BEC5",
                "#B0BEC5",
                "#B0BEC5",
                "#B0BEC5",
                "#B0BEC5",
                "#B0BEC5",
                "#B0BEC5",
                "#B0BEC5",
                "#B0BEC5",
                "#B0BEC5",
                "#B0BEC5",
                "#B0BEC5",
                "#B0BEC5",
                "#B0BEC5",
                "#B0BEC5",
                "#B0BEC5",
                "#B0BEC5",
                "#B0BEC5",
                "#B0BEC5",
                "#B0BEC5",
                "#B0BEC5",
                "#B0BEC5",
                "#B0BEC5",
                "#B0BEC5",
                "#B0BEC5",
                "#B0BEC5",
                "#B0BEC5",
                "#B0BEC5",
                "#B0BEC5",
                "#B0BEC5",
                "#B0BEC5",
                "#B0BEC5"
               ]
              ]
             }
            ],
            "label": "Topic 10",
            "method": "update"
           },
           {
            "args": [
             {
              "marker.color": [
               [
                "#B0BEC5",
                "#B0BEC5",
                "#B0BEC5",
                "#B0BEC5",
                "#B0BEC5",
                "#B0BEC5",
                "#B0BEC5",
                "#B0BEC5",
                "#B0BEC5",
                "#B0BEC5",
                "#B0BEC5",
                "red",
                "#B0BEC5",
                "#B0BEC5",
                "#B0BEC5",
                "#B0BEC5",
                "#B0BEC5",
                "#B0BEC5",
                "#B0BEC5",
                "#B0BEC5",
                "#B0BEC5",
                "#B0BEC5",
                "#B0BEC5",
                "#B0BEC5",
                "#B0BEC5",
                "#B0BEC5",
                "#B0BEC5",
                "#B0BEC5",
                "#B0BEC5",
                "#B0BEC5",
                "#B0BEC5",
                "#B0BEC5",
                "#B0BEC5",
                "#B0BEC5",
                "#B0BEC5",
                "#B0BEC5",
                "#B0BEC5",
                "#B0BEC5",
                "#B0BEC5",
                "#B0BEC5",
                "#B0BEC5",
                "#B0BEC5",
                "#B0BEC5",
                "#B0BEC5",
                "#B0BEC5",
                "#B0BEC5",
                "#B0BEC5",
                "#B0BEC5",
                "#B0BEC5"
               ]
              ]
             }
            ],
            "label": "Topic 11",
            "method": "update"
           },
           {
            "args": [
             {
              "marker.color": [
               [
                "#B0BEC5",
                "#B0BEC5",
                "#B0BEC5",
                "#B0BEC5",
                "#B0BEC5",
                "#B0BEC5",
                "#B0BEC5",
                "#B0BEC5",
                "#B0BEC5",
                "#B0BEC5",
                "#B0BEC5",
                "#B0BEC5",
                "red",
                "#B0BEC5",
                "#B0BEC5",
                "#B0BEC5",
                "#B0BEC5",
                "#B0BEC5",
                "#B0BEC5",
                "#B0BEC5",
                "#B0BEC5",
                "#B0BEC5",
                "#B0BEC5",
                "#B0BEC5",
                "#B0BEC5",
                "#B0BEC5",
                "#B0BEC5",
                "#B0BEC5",
                "#B0BEC5",
                "#B0BEC5",
                "#B0BEC5",
                "#B0BEC5",
                "#B0BEC5",
                "#B0BEC5",
                "#B0BEC5",
                "#B0BEC5",
                "#B0BEC5",
                "#B0BEC5",
                "#B0BEC5",
                "#B0BEC5",
                "#B0BEC5",
                "#B0BEC5",
                "#B0BEC5",
                "#B0BEC5",
                "#B0BEC5",
                "#B0BEC5",
                "#B0BEC5",
                "#B0BEC5",
                "#B0BEC5"
               ]
              ]
             }
            ],
            "label": "Topic 12",
            "method": "update"
           },
           {
            "args": [
             {
              "marker.color": [
               [
                "#B0BEC5",
                "#B0BEC5",
                "#B0BEC5",
                "#B0BEC5",
                "#B0BEC5",
                "#B0BEC5",
                "#B0BEC5",
                "#B0BEC5",
                "#B0BEC5",
                "#B0BEC5",
                "#B0BEC5",
                "#B0BEC5",
                "#B0BEC5",
                "red",
                "#B0BEC5",
                "#B0BEC5",
                "#B0BEC5",
                "#B0BEC5",
                "#B0BEC5",
                "#B0BEC5",
                "#B0BEC5",
                "#B0BEC5",
                "#B0BEC5",
                "#B0BEC5",
                "#B0BEC5",
                "#B0BEC5",
                "#B0BEC5",
                "#B0BEC5",
                "#B0BEC5",
                "#B0BEC5",
                "#B0BEC5",
                "#B0BEC5",
                "#B0BEC5",
                "#B0BEC5",
                "#B0BEC5",
                "#B0BEC5",
                "#B0BEC5",
                "#B0BEC5",
                "#B0BEC5",
                "#B0BEC5",
                "#B0BEC5",
                "#B0BEC5",
                "#B0BEC5",
                "#B0BEC5",
                "#B0BEC5",
                "#B0BEC5",
                "#B0BEC5",
                "#B0BEC5",
                "#B0BEC5"
               ]
              ]
             }
            ],
            "label": "Topic 13",
            "method": "update"
           },
           {
            "args": [
             {
              "marker.color": [
               [
                "#B0BEC5",
                "#B0BEC5",
                "#B0BEC5",
                "#B0BEC5",
                "#B0BEC5",
                "#B0BEC5",
                "#B0BEC5",
                "#B0BEC5",
                "#B0BEC5",
                "#B0BEC5",
                "#B0BEC5",
                "#B0BEC5",
                "#B0BEC5",
                "#B0BEC5",
                "red",
                "#B0BEC5",
                "#B0BEC5",
                "#B0BEC5",
                "#B0BEC5",
                "#B0BEC5",
                "#B0BEC5",
                "#B0BEC5",
                "#B0BEC5",
                "#B0BEC5",
                "#B0BEC5",
                "#B0BEC5",
                "#B0BEC5",
                "#B0BEC5",
                "#B0BEC5",
                "#B0BEC5",
                "#B0BEC5",
                "#B0BEC5",
                "#B0BEC5",
                "#B0BEC5",
                "#B0BEC5",
                "#B0BEC5",
                "#B0BEC5",
                "#B0BEC5",
                "#B0BEC5",
                "#B0BEC5",
                "#B0BEC5",
                "#B0BEC5",
                "#B0BEC5",
                "#B0BEC5",
                "#B0BEC5",
                "#B0BEC5",
                "#B0BEC5",
                "#B0BEC5",
                "#B0BEC5"
               ]
              ]
             }
            ],
            "label": "Topic 14",
            "method": "update"
           },
           {
            "args": [
             {
              "marker.color": [
               [
                "#B0BEC5",
                "#B0BEC5",
                "#B0BEC5",
                "#B0BEC5",
                "#B0BEC5",
                "#B0BEC5",
                "#B0BEC5",
                "#B0BEC5",
                "#B0BEC5",
                "#B0BEC5",
                "#B0BEC5",
                "#B0BEC5",
                "#B0BEC5",
                "#B0BEC5",
                "#B0BEC5",
                "red",
                "#B0BEC5",
                "#B0BEC5",
                "#B0BEC5",
                "#B0BEC5",
                "#B0BEC5",
                "#B0BEC5",
                "#B0BEC5",
                "#B0BEC5",
                "#B0BEC5",
                "#B0BEC5",
                "#B0BEC5",
                "#B0BEC5",
                "#B0BEC5",
                "#B0BEC5",
                "#B0BEC5",
                "#B0BEC5",
                "#B0BEC5",
                "#B0BEC5",
                "#B0BEC5",
                "#B0BEC5",
                "#B0BEC5",
                "#B0BEC5",
                "#B0BEC5",
                "#B0BEC5",
                "#B0BEC5",
                "#B0BEC5",
                "#B0BEC5",
                "#B0BEC5",
                "#B0BEC5",
                "#B0BEC5",
                "#B0BEC5",
                "#B0BEC5",
                "#B0BEC5"
               ]
              ]
             }
            ],
            "label": "Topic 15",
            "method": "update"
           },
           {
            "args": [
             {
              "marker.color": [
               [
                "#B0BEC5",
                "#B0BEC5",
                "#B0BEC5",
                "#B0BEC5",
                "#B0BEC5",
                "#B0BEC5",
                "#B0BEC5",
                "#B0BEC5",
                "#B0BEC5",
                "#B0BEC5",
                "#B0BEC5",
                "#B0BEC5",
                "#B0BEC5",
                "#B0BEC5",
                "#B0BEC5",
                "#B0BEC5",
                "red",
                "#B0BEC5",
                "#B0BEC5",
                "#B0BEC5",
                "#B0BEC5",
                "#B0BEC5",
                "#B0BEC5",
                "#B0BEC5",
                "#B0BEC5",
                "#B0BEC5",
                "#B0BEC5",
                "#B0BEC5",
                "#B0BEC5",
                "#B0BEC5",
                "#B0BEC5",
                "#B0BEC5",
                "#B0BEC5",
                "#B0BEC5",
                "#B0BEC5",
                "#B0BEC5",
                "#B0BEC5",
                "#B0BEC5",
                "#B0BEC5",
                "#B0BEC5",
                "#B0BEC5",
                "#B0BEC5",
                "#B0BEC5",
                "#B0BEC5",
                "#B0BEC5",
                "#B0BEC5",
                "#B0BEC5",
                "#B0BEC5",
                "#B0BEC5"
               ]
              ]
             }
            ],
            "label": "Topic 16",
            "method": "update"
           },
           {
            "args": [
             {
              "marker.color": [
               [
                "#B0BEC5",
                "#B0BEC5",
                "#B0BEC5",
                "#B0BEC5",
                "#B0BEC5",
                "#B0BEC5",
                "#B0BEC5",
                "#B0BEC5",
                "#B0BEC5",
                "#B0BEC5",
                "#B0BEC5",
                "#B0BEC5",
                "#B0BEC5",
                "#B0BEC5",
                "#B0BEC5",
                "#B0BEC5",
                "#B0BEC5",
                "red",
                "#B0BEC5",
                "#B0BEC5",
                "#B0BEC5",
                "#B0BEC5",
                "#B0BEC5",
                "#B0BEC5",
                "#B0BEC5",
                "#B0BEC5",
                "#B0BEC5",
                "#B0BEC5",
                "#B0BEC5",
                "#B0BEC5",
                "#B0BEC5",
                "#B0BEC5",
                "#B0BEC5",
                "#B0BEC5",
                "#B0BEC5",
                "#B0BEC5",
                "#B0BEC5",
                "#B0BEC5",
                "#B0BEC5",
                "#B0BEC5",
                "#B0BEC5",
                "#B0BEC5",
                "#B0BEC5",
                "#B0BEC5",
                "#B0BEC5",
                "#B0BEC5",
                "#B0BEC5",
                "#B0BEC5",
                "#B0BEC5"
               ]
              ]
             }
            ],
            "label": "Topic 17",
            "method": "update"
           },
           {
            "args": [
             {
              "marker.color": [
               [
                "#B0BEC5",
                "#B0BEC5",
                "#B0BEC5",
                "#B0BEC5",
                "#B0BEC5",
                "#B0BEC5",
                "#B0BEC5",
                "#B0BEC5",
                "#B0BEC5",
                "#B0BEC5",
                "#B0BEC5",
                "#B0BEC5",
                "#B0BEC5",
                "#B0BEC5",
                "#B0BEC5",
                "#B0BEC5",
                "#B0BEC5",
                "#B0BEC5",
                "red",
                "#B0BEC5",
                "#B0BEC5",
                "#B0BEC5",
                "#B0BEC5",
                "#B0BEC5",
                "#B0BEC5",
                "#B0BEC5",
                "#B0BEC5",
                "#B0BEC5",
                "#B0BEC5",
                "#B0BEC5",
                "#B0BEC5",
                "#B0BEC5",
                "#B0BEC5",
                "#B0BEC5",
                "#B0BEC5",
                "#B0BEC5",
                "#B0BEC5",
                "#B0BEC5",
                "#B0BEC5",
                "#B0BEC5",
                "#B0BEC5",
                "#B0BEC5",
                "#B0BEC5",
                "#B0BEC5",
                "#B0BEC5",
                "#B0BEC5",
                "#B0BEC5",
                "#B0BEC5",
                "#B0BEC5"
               ]
              ]
             }
            ],
            "label": "Topic 18",
            "method": "update"
           },
           {
            "args": [
             {
              "marker.color": [
               [
                "#B0BEC5",
                "#B0BEC5",
                "#B0BEC5",
                "#B0BEC5",
                "#B0BEC5",
                "#B0BEC5",
                "#B0BEC5",
                "#B0BEC5",
                "#B0BEC5",
                "#B0BEC5",
                "#B0BEC5",
                "#B0BEC5",
                "#B0BEC5",
                "#B0BEC5",
                "#B0BEC5",
                "#B0BEC5",
                "#B0BEC5",
                "#B0BEC5",
                "#B0BEC5",
                "red",
                "#B0BEC5",
                "#B0BEC5",
                "#B0BEC5",
                "#B0BEC5",
                "#B0BEC5",
                "#B0BEC5",
                "#B0BEC5",
                "#B0BEC5",
                "#B0BEC5",
                "#B0BEC5",
                "#B0BEC5",
                "#B0BEC5",
                "#B0BEC5",
                "#B0BEC5",
                "#B0BEC5",
                "#B0BEC5",
                "#B0BEC5",
                "#B0BEC5",
                "#B0BEC5",
                "#B0BEC5",
                "#B0BEC5",
                "#B0BEC5",
                "#B0BEC5",
                "#B0BEC5",
                "#B0BEC5",
                "#B0BEC5",
                "#B0BEC5",
                "#B0BEC5",
                "#B0BEC5"
               ]
              ]
             }
            ],
            "label": "Topic 19",
            "method": "update"
           },
           {
            "args": [
             {
              "marker.color": [
               [
                "#B0BEC5",
                "#B0BEC5",
                "#B0BEC5",
                "#B0BEC5",
                "#B0BEC5",
                "#B0BEC5",
                "#B0BEC5",
                "#B0BEC5",
                "#B0BEC5",
                "#B0BEC5",
                "#B0BEC5",
                "#B0BEC5",
                "#B0BEC5",
                "#B0BEC5",
                "#B0BEC5",
                "#B0BEC5",
                "#B0BEC5",
                "#B0BEC5",
                "#B0BEC5",
                "#B0BEC5",
                "red",
                "#B0BEC5",
                "#B0BEC5",
                "#B0BEC5",
                "#B0BEC5",
                "#B0BEC5",
                "#B0BEC5",
                "#B0BEC5",
                "#B0BEC5",
                "#B0BEC5",
                "#B0BEC5",
                "#B0BEC5",
                "#B0BEC5",
                "#B0BEC5",
                "#B0BEC5",
                "#B0BEC5",
                "#B0BEC5",
                "#B0BEC5",
                "#B0BEC5",
                "#B0BEC5",
                "#B0BEC5",
                "#B0BEC5",
                "#B0BEC5",
                "#B0BEC5",
                "#B0BEC5",
                "#B0BEC5",
                "#B0BEC5",
                "#B0BEC5",
                "#B0BEC5"
               ]
              ]
             }
            ],
            "label": "Topic 20",
            "method": "update"
           },
           {
            "args": [
             {
              "marker.color": [
               [
                "#B0BEC5",
                "#B0BEC5",
                "#B0BEC5",
                "#B0BEC5",
                "#B0BEC5",
                "#B0BEC5",
                "#B0BEC5",
                "#B0BEC5",
                "#B0BEC5",
                "#B0BEC5",
                "#B0BEC5",
                "#B0BEC5",
                "#B0BEC5",
                "#B0BEC5",
                "#B0BEC5",
                "#B0BEC5",
                "#B0BEC5",
                "#B0BEC5",
                "#B0BEC5",
                "#B0BEC5",
                "#B0BEC5",
                "red",
                "#B0BEC5",
                "#B0BEC5",
                "#B0BEC5",
                "#B0BEC5",
                "#B0BEC5",
                "#B0BEC5",
                "#B0BEC5",
                "#B0BEC5",
                "#B0BEC5",
                "#B0BEC5",
                "#B0BEC5",
                "#B0BEC5",
                "#B0BEC5",
                "#B0BEC5",
                "#B0BEC5",
                "#B0BEC5",
                "#B0BEC5",
                "#B0BEC5",
                "#B0BEC5",
                "#B0BEC5",
                "#B0BEC5",
                "#B0BEC5",
                "#B0BEC5",
                "#B0BEC5",
                "#B0BEC5",
                "#B0BEC5",
                "#B0BEC5"
               ]
              ]
             }
            ],
            "label": "Topic 21",
            "method": "update"
           },
           {
            "args": [
             {
              "marker.color": [
               [
                "#B0BEC5",
                "#B0BEC5",
                "#B0BEC5",
                "#B0BEC5",
                "#B0BEC5",
                "#B0BEC5",
                "#B0BEC5",
                "#B0BEC5",
                "#B0BEC5",
                "#B0BEC5",
                "#B0BEC5",
                "#B0BEC5",
                "#B0BEC5",
                "#B0BEC5",
                "#B0BEC5",
                "#B0BEC5",
                "#B0BEC5",
                "#B0BEC5",
                "#B0BEC5",
                "#B0BEC5",
                "#B0BEC5",
                "#B0BEC5",
                "red",
                "#B0BEC5",
                "#B0BEC5",
                "#B0BEC5",
                "#B0BEC5",
                "#B0BEC5",
                "#B0BEC5",
                "#B0BEC5",
                "#B0BEC5",
                "#B0BEC5",
                "#B0BEC5",
                "#B0BEC5",
                "#B0BEC5",
                "#B0BEC5",
                "#B0BEC5",
                "#B0BEC5",
                "#B0BEC5",
                "#B0BEC5",
                "#B0BEC5",
                "#B0BEC5",
                "#B0BEC5",
                "#B0BEC5",
                "#B0BEC5",
                "#B0BEC5",
                "#B0BEC5",
                "#B0BEC5",
                "#B0BEC5"
               ]
              ]
             }
            ],
            "label": "Topic 22",
            "method": "update"
           },
           {
            "args": [
             {
              "marker.color": [
               [
                "#B0BEC5",
                "#B0BEC5",
                "#B0BEC5",
                "#B0BEC5",
                "#B0BEC5",
                "#B0BEC5",
                "#B0BEC5",
                "#B0BEC5",
                "#B0BEC5",
                "#B0BEC5",
                "#B0BEC5",
                "#B0BEC5",
                "#B0BEC5",
                "#B0BEC5",
                "#B0BEC5",
                "#B0BEC5",
                "#B0BEC5",
                "#B0BEC5",
                "#B0BEC5",
                "#B0BEC5",
                "#B0BEC5",
                "#B0BEC5",
                "#B0BEC5",
                "red",
                "#B0BEC5",
                "#B0BEC5",
                "#B0BEC5",
                "#B0BEC5",
                "#B0BEC5",
                "#B0BEC5",
                "#B0BEC5",
                "#B0BEC5",
                "#B0BEC5",
                "#B0BEC5",
                "#B0BEC5",
                "#B0BEC5",
                "#B0BEC5",
                "#B0BEC5",
                "#B0BEC5",
                "#B0BEC5",
                "#B0BEC5",
                "#B0BEC5",
                "#B0BEC5",
                "#B0BEC5",
                "#B0BEC5",
                "#B0BEC5",
                "#B0BEC5",
                "#B0BEC5",
                "#B0BEC5"
               ]
              ]
             }
            ],
            "label": "Topic 23",
            "method": "update"
           },
           {
            "args": [
             {
              "marker.color": [
               [
                "#B0BEC5",
                "#B0BEC5",
                "#B0BEC5",
                "#B0BEC5",
                "#B0BEC5",
                "#B0BEC5",
                "#B0BEC5",
                "#B0BEC5",
                "#B0BEC5",
                "#B0BEC5",
                "#B0BEC5",
                "#B0BEC5",
                "#B0BEC5",
                "#B0BEC5",
                "#B0BEC5",
                "#B0BEC5",
                "#B0BEC5",
                "#B0BEC5",
                "#B0BEC5",
                "#B0BEC5",
                "#B0BEC5",
                "#B0BEC5",
                "#B0BEC5",
                "#B0BEC5",
                "red",
                "#B0BEC5",
                "#B0BEC5",
                "#B0BEC5",
                "#B0BEC5",
                "#B0BEC5",
                "#B0BEC5",
                "#B0BEC5",
                "#B0BEC5",
                "#B0BEC5",
                "#B0BEC5",
                "#B0BEC5",
                "#B0BEC5",
                "#B0BEC5",
                "#B0BEC5",
                "#B0BEC5",
                "#B0BEC5",
                "#B0BEC5",
                "#B0BEC5",
                "#B0BEC5",
                "#B0BEC5",
                "#B0BEC5",
                "#B0BEC5",
                "#B0BEC5",
                "#B0BEC5"
               ]
              ]
             }
            ],
            "label": "Topic 24",
            "method": "update"
           },
           {
            "args": [
             {
              "marker.color": [
               [
                "#B0BEC5",
                "#B0BEC5",
                "#B0BEC5",
                "#B0BEC5",
                "#B0BEC5",
                "#B0BEC5",
                "#B0BEC5",
                "#B0BEC5",
                "#B0BEC5",
                "#B0BEC5",
                "#B0BEC5",
                "#B0BEC5",
                "#B0BEC5",
                "#B0BEC5",
                "#B0BEC5",
                "#B0BEC5",
                "#B0BEC5",
                "#B0BEC5",
                "#B0BEC5",
                "#B0BEC5",
                "#B0BEC5",
                "#B0BEC5",
                "#B0BEC5",
                "#B0BEC5",
                "#B0BEC5",
                "red",
                "#B0BEC5",
                "#B0BEC5",
                "#B0BEC5",
                "#B0BEC5",
                "#B0BEC5",
                "#B0BEC5",
                "#B0BEC5",
                "#B0BEC5",
                "#B0BEC5",
                "#B0BEC5",
                "#B0BEC5",
                "#B0BEC5",
                "#B0BEC5",
                "#B0BEC5",
                "#B0BEC5",
                "#B0BEC5",
                "#B0BEC5",
                "#B0BEC5",
                "#B0BEC5",
                "#B0BEC5",
                "#B0BEC5",
                "#B0BEC5",
                "#B0BEC5"
               ]
              ]
             }
            ],
            "label": "Topic 25",
            "method": "update"
           },
           {
            "args": [
             {
              "marker.color": [
               [
                "#B0BEC5",
                "#B0BEC5",
                "#B0BEC5",
                "#B0BEC5",
                "#B0BEC5",
                "#B0BEC5",
                "#B0BEC5",
                "#B0BEC5",
                "#B0BEC5",
                "#B0BEC5",
                "#B0BEC5",
                "#B0BEC5",
                "#B0BEC5",
                "#B0BEC5",
                "#B0BEC5",
                "#B0BEC5",
                "#B0BEC5",
                "#B0BEC5",
                "#B0BEC5",
                "#B0BEC5",
                "#B0BEC5",
                "#B0BEC5",
                "#B0BEC5",
                "#B0BEC5",
                "#B0BEC5",
                "#B0BEC5",
                "red",
                "#B0BEC5",
                "#B0BEC5",
                "#B0BEC5",
                "#B0BEC5",
                "#B0BEC5",
                "#B0BEC5",
                "#B0BEC5",
                "#B0BEC5",
                "#B0BEC5",
                "#B0BEC5",
                "#B0BEC5",
                "#B0BEC5",
                "#B0BEC5",
                "#B0BEC5",
                "#B0BEC5",
                "#B0BEC5",
                "#B0BEC5",
                "#B0BEC5",
                "#B0BEC5",
                "#B0BEC5",
                "#B0BEC5",
                "#B0BEC5"
               ]
              ]
             }
            ],
            "label": "Topic 26",
            "method": "update"
           },
           {
            "args": [
             {
              "marker.color": [
               [
                "#B0BEC5",
                "#B0BEC5",
                "#B0BEC5",
                "#B0BEC5",
                "#B0BEC5",
                "#B0BEC5",
                "#B0BEC5",
                "#B0BEC5",
                "#B0BEC5",
                "#B0BEC5",
                "#B0BEC5",
                "#B0BEC5",
                "#B0BEC5",
                "#B0BEC5",
                "#B0BEC5",
                "#B0BEC5",
                "#B0BEC5",
                "#B0BEC5",
                "#B0BEC5",
                "#B0BEC5",
                "#B0BEC5",
                "#B0BEC5",
                "#B0BEC5",
                "#B0BEC5",
                "#B0BEC5",
                "#B0BEC5",
                "#B0BEC5",
                "red",
                "#B0BEC5",
                "#B0BEC5",
                "#B0BEC5",
                "#B0BEC5",
                "#B0BEC5",
                "#B0BEC5",
                "#B0BEC5",
                "#B0BEC5",
                "#B0BEC5",
                "#B0BEC5",
                "#B0BEC5",
                "#B0BEC5",
                "#B0BEC5",
                "#B0BEC5",
                "#B0BEC5",
                "#B0BEC5",
                "#B0BEC5",
                "#B0BEC5",
                "#B0BEC5",
                "#B0BEC5",
                "#B0BEC5"
               ]
              ]
             }
            ],
            "label": "Topic 27",
            "method": "update"
           },
           {
            "args": [
             {
              "marker.color": [
               [
                "#B0BEC5",
                "#B0BEC5",
                "#B0BEC5",
                "#B0BEC5",
                "#B0BEC5",
                "#B0BEC5",
                "#B0BEC5",
                "#B0BEC5",
                "#B0BEC5",
                "#B0BEC5",
                "#B0BEC5",
                "#B0BEC5",
                "#B0BEC5",
                "#B0BEC5",
                "#B0BEC5",
                "#B0BEC5",
                "#B0BEC5",
                "#B0BEC5",
                "#B0BEC5",
                "#B0BEC5",
                "#B0BEC5",
                "#B0BEC5",
                "#B0BEC5",
                "#B0BEC5",
                "#B0BEC5",
                "#B0BEC5",
                "#B0BEC5",
                "#B0BEC5",
                "red",
                "#B0BEC5",
                "#B0BEC5",
                "#B0BEC5",
                "#B0BEC5",
                "#B0BEC5",
                "#B0BEC5",
                "#B0BEC5",
                "#B0BEC5",
                "#B0BEC5",
                "#B0BEC5",
                "#B0BEC5",
                "#B0BEC5",
                "#B0BEC5",
                "#B0BEC5",
                "#B0BEC5",
                "#B0BEC5",
                "#B0BEC5",
                "#B0BEC5",
                "#B0BEC5",
                "#B0BEC5"
               ]
              ]
             }
            ],
            "label": "Topic 28",
            "method": "update"
           },
           {
            "args": [
             {
              "marker.color": [
               [
                "#B0BEC5",
                "#B0BEC5",
                "#B0BEC5",
                "#B0BEC5",
                "#B0BEC5",
                "#B0BEC5",
                "#B0BEC5",
                "#B0BEC5",
                "#B0BEC5",
                "#B0BEC5",
                "#B0BEC5",
                "#B0BEC5",
                "#B0BEC5",
                "#B0BEC5",
                "#B0BEC5",
                "#B0BEC5",
                "#B0BEC5",
                "#B0BEC5",
                "#B0BEC5",
                "#B0BEC5",
                "#B0BEC5",
                "#B0BEC5",
                "#B0BEC5",
                "#B0BEC5",
                "#B0BEC5",
                "#B0BEC5",
                "#B0BEC5",
                "#B0BEC5",
                "#B0BEC5",
                "red",
                "#B0BEC5",
                "#B0BEC5",
                "#B0BEC5",
                "#B0BEC5",
                "#B0BEC5",
                "#B0BEC5",
                "#B0BEC5",
                "#B0BEC5",
                "#B0BEC5",
                "#B0BEC5",
                "#B0BEC5",
                "#B0BEC5",
                "#B0BEC5",
                "#B0BEC5",
                "#B0BEC5",
                "#B0BEC5",
                "#B0BEC5",
                "#B0BEC5",
                "#B0BEC5"
               ]
              ]
             }
            ],
            "label": "Topic 29",
            "method": "update"
           },
           {
            "args": [
             {
              "marker.color": [
               [
                "#B0BEC5",
                "#B0BEC5",
                "#B0BEC5",
                "#B0BEC5",
                "#B0BEC5",
                "#B0BEC5",
                "#B0BEC5",
                "#B0BEC5",
                "#B0BEC5",
                "#B0BEC5",
                "#B0BEC5",
                "#B0BEC5",
                "#B0BEC5",
                "#B0BEC5",
                "#B0BEC5",
                "#B0BEC5",
                "#B0BEC5",
                "#B0BEC5",
                "#B0BEC5",
                "#B0BEC5",
                "#B0BEC5",
                "#B0BEC5",
                "#B0BEC5",
                "#B0BEC5",
                "#B0BEC5",
                "#B0BEC5",
                "#B0BEC5",
                "#B0BEC5",
                "#B0BEC5",
                "#B0BEC5",
                "red",
                "#B0BEC5",
                "#B0BEC5",
                "#B0BEC5",
                "#B0BEC5",
                "#B0BEC5",
                "#B0BEC5",
                "#B0BEC5",
                "#B0BEC5",
                "#B0BEC5",
                "#B0BEC5",
                "#B0BEC5",
                "#B0BEC5",
                "#B0BEC5",
                "#B0BEC5",
                "#B0BEC5",
                "#B0BEC5",
                "#B0BEC5",
                "#B0BEC5"
               ]
              ]
             }
            ],
            "label": "Topic 30",
            "method": "update"
           },
           {
            "args": [
             {
              "marker.color": [
               [
                "#B0BEC5",
                "#B0BEC5",
                "#B0BEC5",
                "#B0BEC5",
                "#B0BEC5",
                "#B0BEC5",
                "#B0BEC5",
                "#B0BEC5",
                "#B0BEC5",
                "#B0BEC5",
                "#B0BEC5",
                "#B0BEC5",
                "#B0BEC5",
                "#B0BEC5",
                "#B0BEC5",
                "#B0BEC5",
                "#B0BEC5",
                "#B0BEC5",
                "#B0BEC5",
                "#B0BEC5",
                "#B0BEC5",
                "#B0BEC5",
                "#B0BEC5",
                "#B0BEC5",
                "#B0BEC5",
                "#B0BEC5",
                "#B0BEC5",
                "#B0BEC5",
                "#B0BEC5",
                "#B0BEC5",
                "#B0BEC5",
                "red",
                "#B0BEC5",
                "#B0BEC5",
                "#B0BEC5",
                "#B0BEC5",
                "#B0BEC5",
                "#B0BEC5",
                "#B0BEC5",
                "#B0BEC5",
                "#B0BEC5",
                "#B0BEC5",
                "#B0BEC5",
                "#B0BEC5",
                "#B0BEC5",
                "#B0BEC5",
                "#B0BEC5",
                "#B0BEC5",
                "#B0BEC5"
               ]
              ]
             }
            ],
            "label": "Topic 31",
            "method": "update"
           },
           {
            "args": [
             {
              "marker.color": [
               [
                "#B0BEC5",
                "#B0BEC5",
                "#B0BEC5",
                "#B0BEC5",
                "#B0BEC5",
                "#B0BEC5",
                "#B0BEC5",
                "#B0BEC5",
                "#B0BEC5",
                "#B0BEC5",
                "#B0BEC5",
                "#B0BEC5",
                "#B0BEC5",
                "#B0BEC5",
                "#B0BEC5",
                "#B0BEC5",
                "#B0BEC5",
                "#B0BEC5",
                "#B0BEC5",
                "#B0BEC5",
                "#B0BEC5",
                "#B0BEC5",
                "#B0BEC5",
                "#B0BEC5",
                "#B0BEC5",
                "#B0BEC5",
                "#B0BEC5",
                "#B0BEC5",
                "#B0BEC5",
                "#B0BEC5",
                "#B0BEC5",
                "#B0BEC5",
                "red",
                "#B0BEC5",
                "#B0BEC5",
                "#B0BEC5",
                "#B0BEC5",
                "#B0BEC5",
                "#B0BEC5",
                "#B0BEC5",
                "#B0BEC5",
                "#B0BEC5",
                "#B0BEC5",
                "#B0BEC5",
                "#B0BEC5",
                "#B0BEC5",
                "#B0BEC5",
                "#B0BEC5",
                "#B0BEC5"
               ]
              ]
             }
            ],
            "label": "Topic 32",
            "method": "update"
           },
           {
            "args": [
             {
              "marker.color": [
               [
                "#B0BEC5",
                "#B0BEC5",
                "#B0BEC5",
                "#B0BEC5",
                "#B0BEC5",
                "#B0BEC5",
                "#B0BEC5",
                "#B0BEC5",
                "#B0BEC5",
                "#B0BEC5",
                "#B0BEC5",
                "#B0BEC5",
                "#B0BEC5",
                "#B0BEC5",
                "#B0BEC5",
                "#B0BEC5",
                "#B0BEC5",
                "#B0BEC5",
                "#B0BEC5",
                "#B0BEC5",
                "#B0BEC5",
                "#B0BEC5",
                "#B0BEC5",
                "#B0BEC5",
                "#B0BEC5",
                "#B0BEC5",
                "#B0BEC5",
                "#B0BEC5",
                "#B0BEC5",
                "#B0BEC5",
                "#B0BEC5",
                "#B0BEC5",
                "#B0BEC5",
                "red",
                "#B0BEC5",
                "#B0BEC5",
                "#B0BEC5",
                "#B0BEC5",
                "#B0BEC5",
                "#B0BEC5",
                "#B0BEC5",
                "#B0BEC5",
                "#B0BEC5",
                "#B0BEC5",
                "#B0BEC5",
                "#B0BEC5",
                "#B0BEC5",
                "#B0BEC5",
                "#B0BEC5"
               ]
              ]
             }
            ],
            "label": "Topic 33",
            "method": "update"
           },
           {
            "args": [
             {
              "marker.color": [
               [
                "#B0BEC5",
                "#B0BEC5",
                "#B0BEC5",
                "#B0BEC5",
                "#B0BEC5",
                "#B0BEC5",
                "#B0BEC5",
                "#B0BEC5",
                "#B0BEC5",
                "#B0BEC5",
                "#B0BEC5",
                "#B0BEC5",
                "#B0BEC5",
                "#B0BEC5",
                "#B0BEC5",
                "#B0BEC5",
                "#B0BEC5",
                "#B0BEC5",
                "#B0BEC5",
                "#B0BEC5",
                "#B0BEC5",
                "#B0BEC5",
                "#B0BEC5",
                "#B0BEC5",
                "#B0BEC5",
                "#B0BEC5",
                "#B0BEC5",
                "#B0BEC5",
                "#B0BEC5",
                "#B0BEC5",
                "#B0BEC5",
                "#B0BEC5",
                "#B0BEC5",
                "#B0BEC5",
                "red",
                "#B0BEC5",
                "#B0BEC5",
                "#B0BEC5",
                "#B0BEC5",
                "#B0BEC5",
                "#B0BEC5",
                "#B0BEC5",
                "#B0BEC5",
                "#B0BEC5",
                "#B0BEC5",
                "#B0BEC5",
                "#B0BEC5",
                "#B0BEC5",
                "#B0BEC5"
               ]
              ]
             }
            ],
            "label": "Topic 34",
            "method": "update"
           },
           {
            "args": [
             {
              "marker.color": [
               [
                "#B0BEC5",
                "#B0BEC5",
                "#B0BEC5",
                "#B0BEC5",
                "#B0BEC5",
                "#B0BEC5",
                "#B0BEC5",
                "#B0BEC5",
                "#B0BEC5",
                "#B0BEC5",
                "#B0BEC5",
                "#B0BEC5",
                "#B0BEC5",
                "#B0BEC5",
                "#B0BEC5",
                "#B0BEC5",
                "#B0BEC5",
                "#B0BEC5",
                "#B0BEC5",
                "#B0BEC5",
                "#B0BEC5",
                "#B0BEC5",
                "#B0BEC5",
                "#B0BEC5",
                "#B0BEC5",
                "#B0BEC5",
                "#B0BEC5",
                "#B0BEC5",
                "#B0BEC5",
                "#B0BEC5",
                "#B0BEC5",
                "#B0BEC5",
                "#B0BEC5",
                "#B0BEC5",
                "#B0BEC5",
                "red",
                "#B0BEC5",
                "#B0BEC5",
                "#B0BEC5",
                "#B0BEC5",
                "#B0BEC5",
                "#B0BEC5",
                "#B0BEC5",
                "#B0BEC5",
                "#B0BEC5",
                "#B0BEC5",
                "#B0BEC5",
                "#B0BEC5",
                "#B0BEC5"
               ]
              ]
             }
            ],
            "label": "Topic 35",
            "method": "update"
           },
           {
            "args": [
             {
              "marker.color": [
               [
                "#B0BEC5",
                "#B0BEC5",
                "#B0BEC5",
                "#B0BEC5",
                "#B0BEC5",
                "#B0BEC5",
                "#B0BEC5",
                "#B0BEC5",
                "#B0BEC5",
                "#B0BEC5",
                "#B0BEC5",
                "#B0BEC5",
                "#B0BEC5",
                "#B0BEC5",
                "#B0BEC5",
                "#B0BEC5",
                "#B0BEC5",
                "#B0BEC5",
                "#B0BEC5",
                "#B0BEC5",
                "#B0BEC5",
                "#B0BEC5",
                "#B0BEC5",
                "#B0BEC5",
                "#B0BEC5",
                "#B0BEC5",
                "#B0BEC5",
                "#B0BEC5",
                "#B0BEC5",
                "#B0BEC5",
                "#B0BEC5",
                "#B0BEC5",
                "#B0BEC5",
                "#B0BEC5",
                "#B0BEC5",
                "#B0BEC5",
                "red",
                "#B0BEC5",
                "#B0BEC5",
                "#B0BEC5",
                "#B0BEC5",
                "#B0BEC5",
                "#B0BEC5",
                "#B0BEC5",
                "#B0BEC5",
                "#B0BEC5",
                "#B0BEC5",
                "#B0BEC5",
                "#B0BEC5"
               ]
              ]
             }
            ],
            "label": "Topic 36",
            "method": "update"
           },
           {
            "args": [
             {
              "marker.color": [
               [
                "#B0BEC5",
                "#B0BEC5",
                "#B0BEC5",
                "#B0BEC5",
                "#B0BEC5",
                "#B0BEC5",
                "#B0BEC5",
                "#B0BEC5",
                "#B0BEC5",
                "#B0BEC5",
                "#B0BEC5",
                "#B0BEC5",
                "#B0BEC5",
                "#B0BEC5",
                "#B0BEC5",
                "#B0BEC5",
                "#B0BEC5",
                "#B0BEC5",
                "#B0BEC5",
                "#B0BEC5",
                "#B0BEC5",
                "#B0BEC5",
                "#B0BEC5",
                "#B0BEC5",
                "#B0BEC5",
                "#B0BEC5",
                "#B0BEC5",
                "#B0BEC5",
                "#B0BEC5",
                "#B0BEC5",
                "#B0BEC5",
                "#B0BEC5",
                "#B0BEC5",
                "#B0BEC5",
                "#B0BEC5",
                "#B0BEC5",
                "#B0BEC5",
                "red",
                "#B0BEC5",
                "#B0BEC5",
                "#B0BEC5",
                "#B0BEC5",
                "#B0BEC5",
                "#B0BEC5",
                "#B0BEC5",
                "#B0BEC5",
                "#B0BEC5",
                "#B0BEC5",
                "#B0BEC5"
               ]
              ]
             }
            ],
            "label": "Topic 37",
            "method": "update"
           },
           {
            "args": [
             {
              "marker.color": [
               [
                "#B0BEC5",
                "#B0BEC5",
                "#B0BEC5",
                "#B0BEC5",
                "#B0BEC5",
                "#B0BEC5",
                "#B0BEC5",
                "#B0BEC5",
                "#B0BEC5",
                "#B0BEC5",
                "#B0BEC5",
                "#B0BEC5",
                "#B0BEC5",
                "#B0BEC5",
                "#B0BEC5",
                "#B0BEC5",
                "#B0BEC5",
                "#B0BEC5",
                "#B0BEC5",
                "#B0BEC5",
                "#B0BEC5",
                "#B0BEC5",
                "#B0BEC5",
                "#B0BEC5",
                "#B0BEC5",
                "#B0BEC5",
                "#B0BEC5",
                "#B0BEC5",
                "#B0BEC5",
                "#B0BEC5",
                "#B0BEC5",
                "#B0BEC5",
                "#B0BEC5",
                "#B0BEC5",
                "#B0BEC5",
                "#B0BEC5",
                "#B0BEC5",
                "#B0BEC5",
                "red",
                "#B0BEC5",
                "#B0BEC5",
                "#B0BEC5",
                "#B0BEC5",
                "#B0BEC5",
                "#B0BEC5",
                "#B0BEC5",
                "#B0BEC5",
                "#B0BEC5",
                "#B0BEC5"
               ]
              ]
             }
            ],
            "label": "Topic 38",
            "method": "update"
           },
           {
            "args": [
             {
              "marker.color": [
               [
                "#B0BEC5",
                "#B0BEC5",
                "#B0BEC5",
                "#B0BEC5",
                "#B0BEC5",
                "#B0BEC5",
                "#B0BEC5",
                "#B0BEC5",
                "#B0BEC5",
                "#B0BEC5",
                "#B0BEC5",
                "#B0BEC5",
                "#B0BEC5",
                "#B0BEC5",
                "#B0BEC5",
                "#B0BEC5",
                "#B0BEC5",
                "#B0BEC5",
                "#B0BEC5",
                "#B0BEC5",
                "#B0BEC5",
                "#B0BEC5",
                "#B0BEC5",
                "#B0BEC5",
                "#B0BEC5",
                "#B0BEC5",
                "#B0BEC5",
                "#B0BEC5",
                "#B0BEC5",
                "#B0BEC5",
                "#B0BEC5",
                "#B0BEC5",
                "#B0BEC5",
                "#B0BEC5",
                "#B0BEC5",
                "#B0BEC5",
                "#B0BEC5",
                "#B0BEC5",
                "#B0BEC5",
                "red",
                "#B0BEC5",
                "#B0BEC5",
                "#B0BEC5",
                "#B0BEC5",
                "#B0BEC5",
                "#B0BEC5",
                "#B0BEC5",
                "#B0BEC5",
                "#B0BEC5"
               ]
              ]
             }
            ],
            "label": "Topic 39",
            "method": "update"
           },
           {
            "args": [
             {
              "marker.color": [
               [
                "#B0BEC5",
                "#B0BEC5",
                "#B0BEC5",
                "#B0BEC5",
                "#B0BEC5",
                "#B0BEC5",
                "#B0BEC5",
                "#B0BEC5",
                "#B0BEC5",
                "#B0BEC5",
                "#B0BEC5",
                "#B0BEC5",
                "#B0BEC5",
                "#B0BEC5",
                "#B0BEC5",
                "#B0BEC5",
                "#B0BEC5",
                "#B0BEC5",
                "#B0BEC5",
                "#B0BEC5",
                "#B0BEC5",
                "#B0BEC5",
                "#B0BEC5",
                "#B0BEC5",
                "#B0BEC5",
                "#B0BEC5",
                "#B0BEC5",
                "#B0BEC5",
                "#B0BEC5",
                "#B0BEC5",
                "#B0BEC5",
                "#B0BEC5",
                "#B0BEC5",
                "#B0BEC5",
                "#B0BEC5",
                "#B0BEC5",
                "#B0BEC5",
                "#B0BEC5",
                "#B0BEC5",
                "#B0BEC5",
                "red",
                "#B0BEC5",
                "#B0BEC5",
                "#B0BEC5",
                "#B0BEC5",
                "#B0BEC5",
                "#B0BEC5",
                "#B0BEC5",
                "#B0BEC5"
               ]
              ]
             }
            ],
            "label": "Topic 40",
            "method": "update"
           },
           {
            "args": [
             {
              "marker.color": [
               [
                "#B0BEC5",
                "#B0BEC5",
                "#B0BEC5",
                "#B0BEC5",
                "#B0BEC5",
                "#B0BEC5",
                "#B0BEC5",
                "#B0BEC5",
                "#B0BEC5",
                "#B0BEC5",
                "#B0BEC5",
                "#B0BEC5",
                "#B0BEC5",
                "#B0BEC5",
                "#B0BEC5",
                "#B0BEC5",
                "#B0BEC5",
                "#B0BEC5",
                "#B0BEC5",
                "#B0BEC5",
                "#B0BEC5",
                "#B0BEC5",
                "#B0BEC5",
                "#B0BEC5",
                "#B0BEC5",
                "#B0BEC5",
                "#B0BEC5",
                "#B0BEC5",
                "#B0BEC5",
                "#B0BEC5",
                "#B0BEC5",
                "#B0BEC5",
                "#B0BEC5",
                "#B0BEC5",
                "#B0BEC5",
                "#B0BEC5",
                "#B0BEC5",
                "#B0BEC5",
                "#B0BEC5",
                "#B0BEC5",
                "#B0BEC5",
                "red",
                "#B0BEC5",
                "#B0BEC5",
                "#B0BEC5",
                "#B0BEC5",
                "#B0BEC5",
                "#B0BEC5",
                "#B0BEC5"
               ]
              ]
             }
            ],
            "label": "Topic 41",
            "method": "update"
           },
           {
            "args": [
             {
              "marker.color": [
               [
                "#B0BEC5",
                "#B0BEC5",
                "#B0BEC5",
                "#B0BEC5",
                "#B0BEC5",
                "#B0BEC5",
                "#B0BEC5",
                "#B0BEC5",
                "#B0BEC5",
                "#B0BEC5",
                "#B0BEC5",
                "#B0BEC5",
                "#B0BEC5",
                "#B0BEC5",
                "#B0BEC5",
                "#B0BEC5",
                "#B0BEC5",
                "#B0BEC5",
                "#B0BEC5",
                "#B0BEC5",
                "#B0BEC5",
                "#B0BEC5",
                "#B0BEC5",
                "#B0BEC5",
                "#B0BEC5",
                "#B0BEC5",
                "#B0BEC5",
                "#B0BEC5",
                "#B0BEC5",
                "#B0BEC5",
                "#B0BEC5",
                "#B0BEC5",
                "#B0BEC5",
                "#B0BEC5",
                "#B0BEC5",
                "#B0BEC5",
                "#B0BEC5",
                "#B0BEC5",
                "#B0BEC5",
                "#B0BEC5",
                "#B0BEC5",
                "#B0BEC5",
                "red",
                "#B0BEC5",
                "#B0BEC5",
                "#B0BEC5",
                "#B0BEC5",
                "#B0BEC5",
                "#B0BEC5"
               ]
              ]
             }
            ],
            "label": "Topic 42",
            "method": "update"
           },
           {
            "args": [
             {
              "marker.color": [
               [
                "#B0BEC5",
                "#B0BEC5",
                "#B0BEC5",
                "#B0BEC5",
                "#B0BEC5",
                "#B0BEC5",
                "#B0BEC5",
                "#B0BEC5",
                "#B0BEC5",
                "#B0BEC5",
                "#B0BEC5",
                "#B0BEC5",
                "#B0BEC5",
                "#B0BEC5",
                "#B0BEC5",
                "#B0BEC5",
                "#B0BEC5",
                "#B0BEC5",
                "#B0BEC5",
                "#B0BEC5",
                "#B0BEC5",
                "#B0BEC5",
                "#B0BEC5",
                "#B0BEC5",
                "#B0BEC5",
                "#B0BEC5",
                "#B0BEC5",
                "#B0BEC5",
                "#B0BEC5",
                "#B0BEC5",
                "#B0BEC5",
                "#B0BEC5",
                "#B0BEC5",
                "#B0BEC5",
                "#B0BEC5",
                "#B0BEC5",
                "#B0BEC5",
                "#B0BEC5",
                "#B0BEC5",
                "#B0BEC5",
                "#B0BEC5",
                "#B0BEC5",
                "#B0BEC5",
                "red",
                "#B0BEC5",
                "#B0BEC5",
                "#B0BEC5",
                "#B0BEC5",
                "#B0BEC5"
               ]
              ]
             }
            ],
            "label": "Topic 43",
            "method": "update"
           },
           {
            "args": [
             {
              "marker.color": [
               [
                "#B0BEC5",
                "#B0BEC5",
                "#B0BEC5",
                "#B0BEC5",
                "#B0BEC5",
                "#B0BEC5",
                "#B0BEC5",
                "#B0BEC5",
                "#B0BEC5",
                "#B0BEC5",
                "#B0BEC5",
                "#B0BEC5",
                "#B0BEC5",
                "#B0BEC5",
                "#B0BEC5",
                "#B0BEC5",
                "#B0BEC5",
                "#B0BEC5",
                "#B0BEC5",
                "#B0BEC5",
                "#B0BEC5",
                "#B0BEC5",
                "#B0BEC5",
                "#B0BEC5",
                "#B0BEC5",
                "#B0BEC5",
                "#B0BEC5",
                "#B0BEC5",
                "#B0BEC5",
                "#B0BEC5",
                "#B0BEC5",
                "#B0BEC5",
                "#B0BEC5",
                "#B0BEC5",
                "#B0BEC5",
                "#B0BEC5",
                "#B0BEC5",
                "#B0BEC5",
                "#B0BEC5",
                "#B0BEC5",
                "#B0BEC5",
                "#B0BEC5",
                "#B0BEC5",
                "#B0BEC5",
                "red",
                "#B0BEC5",
                "#B0BEC5",
                "#B0BEC5",
                "#B0BEC5"
               ]
              ]
             }
            ],
            "label": "Topic 44",
            "method": "update"
           },
           {
            "args": [
             {
              "marker.color": [
               [
                "#B0BEC5",
                "#B0BEC5",
                "#B0BEC5",
                "#B0BEC5",
                "#B0BEC5",
                "#B0BEC5",
                "#B0BEC5",
                "#B0BEC5",
                "#B0BEC5",
                "#B0BEC5",
                "#B0BEC5",
                "#B0BEC5",
                "#B0BEC5",
                "#B0BEC5",
                "#B0BEC5",
                "#B0BEC5",
                "#B0BEC5",
                "#B0BEC5",
                "#B0BEC5",
                "#B0BEC5",
                "#B0BEC5",
                "#B0BEC5",
                "#B0BEC5",
                "#B0BEC5",
                "#B0BEC5",
                "#B0BEC5",
                "#B0BEC5",
                "#B0BEC5",
                "#B0BEC5",
                "#B0BEC5",
                "#B0BEC5",
                "#B0BEC5",
                "#B0BEC5",
                "#B0BEC5",
                "#B0BEC5",
                "#B0BEC5",
                "#B0BEC5",
                "#B0BEC5",
                "#B0BEC5",
                "#B0BEC5",
                "#B0BEC5",
                "#B0BEC5",
                "#B0BEC5",
                "#B0BEC5",
                "#B0BEC5",
                "red",
                "#B0BEC5",
                "#B0BEC5",
                "#B0BEC5"
               ]
              ]
             }
            ],
            "label": "Topic 45",
            "method": "update"
           },
           {
            "args": [
             {
              "marker.color": [
               [
                "#B0BEC5",
                "#B0BEC5",
                "#B0BEC5",
                "#B0BEC5",
                "#B0BEC5",
                "#B0BEC5",
                "#B0BEC5",
                "#B0BEC5",
                "#B0BEC5",
                "#B0BEC5",
                "#B0BEC5",
                "#B0BEC5",
                "#B0BEC5",
                "#B0BEC5",
                "#B0BEC5",
                "#B0BEC5",
                "#B0BEC5",
                "#B0BEC5",
                "#B0BEC5",
                "#B0BEC5",
                "#B0BEC5",
                "#B0BEC5",
                "#B0BEC5",
                "#B0BEC5",
                "#B0BEC5",
                "#B0BEC5",
                "#B0BEC5",
                "#B0BEC5",
                "#B0BEC5",
                "#B0BEC5",
                "#B0BEC5",
                "#B0BEC5",
                "#B0BEC5",
                "#B0BEC5",
                "#B0BEC5",
                "#B0BEC5",
                "#B0BEC5",
                "#B0BEC5",
                "#B0BEC5",
                "#B0BEC5",
                "#B0BEC5",
                "#B0BEC5",
                "#B0BEC5",
                "#B0BEC5",
                "#B0BEC5",
                "#B0BEC5",
                "red",
                "#B0BEC5",
                "#B0BEC5"
               ]
              ]
             }
            ],
            "label": "Topic 46",
            "method": "update"
           },
           {
            "args": [
             {
              "marker.color": [
               [
                "#B0BEC5",
                "#B0BEC5",
                "#B0BEC5",
                "#B0BEC5",
                "#B0BEC5",
                "#B0BEC5",
                "#B0BEC5",
                "#B0BEC5",
                "#B0BEC5",
                "#B0BEC5",
                "#B0BEC5",
                "#B0BEC5",
                "#B0BEC5",
                "#B0BEC5",
                "#B0BEC5",
                "#B0BEC5",
                "#B0BEC5",
                "#B0BEC5",
                "#B0BEC5",
                "#B0BEC5",
                "#B0BEC5",
                "#B0BEC5",
                "#B0BEC5",
                "#B0BEC5",
                "#B0BEC5",
                "#B0BEC5",
                "#B0BEC5",
                "#B0BEC5",
                "#B0BEC5",
                "#B0BEC5",
                "#B0BEC5",
                "#B0BEC5",
                "#B0BEC5",
                "#B0BEC5",
                "#B0BEC5",
                "#B0BEC5",
                "#B0BEC5",
                "#B0BEC5",
                "#B0BEC5",
                "#B0BEC5",
                "#B0BEC5",
                "#B0BEC5",
                "#B0BEC5",
                "#B0BEC5",
                "#B0BEC5",
                "#B0BEC5",
                "#B0BEC5",
                "red",
                "#B0BEC5"
               ]
              ]
             }
            ],
            "label": "Topic 47",
            "method": "update"
           },
           {
            "args": [
             {
              "marker.color": [
               [
                "#B0BEC5",
                "#B0BEC5",
                "#B0BEC5",
                "#B0BEC5",
                "#B0BEC5",
                "#B0BEC5",
                "#B0BEC5",
                "#B0BEC5",
                "#B0BEC5",
                "#B0BEC5",
                "#B0BEC5",
                "#B0BEC5",
                "#B0BEC5",
                "#B0BEC5",
                "#B0BEC5",
                "#B0BEC5",
                "#B0BEC5",
                "#B0BEC5",
                "#B0BEC5",
                "#B0BEC5",
                "#B0BEC5",
                "#B0BEC5",
                "#B0BEC5",
                "#B0BEC5",
                "#B0BEC5",
                "#B0BEC5",
                "#B0BEC5",
                "#B0BEC5",
                "#B0BEC5",
                "#B0BEC5",
                "#B0BEC5",
                "#B0BEC5",
                "#B0BEC5",
                "#B0BEC5",
                "#B0BEC5",
                "#B0BEC5",
                "#B0BEC5",
                "#B0BEC5",
                "#B0BEC5",
                "#B0BEC5",
                "#B0BEC5",
                "#B0BEC5",
                "#B0BEC5",
                "#B0BEC5",
                "#B0BEC5",
                "#B0BEC5",
                "#B0BEC5",
                "#B0BEC5",
                "red"
               ]
              ]
             }
            ],
            "label": "Topic 48",
            "method": "update"
           }
          ]
         }
        ],
        "template": {
         "data": {
          "bar": [
           {
            "error_x": {
             "color": "rgb(36,36,36)"
            },
            "error_y": {
             "color": "rgb(36,36,36)"
            },
            "marker": {
             "line": {
              "color": "white",
              "width": 0.5
             },
             "pattern": {
              "fillmode": "overlay",
              "size": 10,
              "solidity": 0.2
             }
            },
            "type": "bar"
           }
          ],
          "barpolar": [
           {
            "marker": {
             "line": {
              "color": "white",
              "width": 0.5
             },
             "pattern": {
              "fillmode": "overlay",
              "size": 10,
              "solidity": 0.2
             }
            },
            "type": "barpolar"
           }
          ],
          "carpet": [
           {
            "aaxis": {
             "endlinecolor": "rgb(36,36,36)",
             "gridcolor": "white",
             "linecolor": "white",
             "minorgridcolor": "white",
             "startlinecolor": "rgb(36,36,36)"
            },
            "baxis": {
             "endlinecolor": "rgb(36,36,36)",
             "gridcolor": "white",
             "linecolor": "white",
             "minorgridcolor": "white",
             "startlinecolor": "rgb(36,36,36)"
            },
            "type": "carpet"
           }
          ],
          "choropleth": [
           {
            "colorbar": {
             "outlinewidth": 1,
             "tickcolor": "rgb(36,36,36)",
             "ticks": "outside"
            },
            "type": "choropleth"
           }
          ],
          "contour": [
           {
            "colorbar": {
             "outlinewidth": 1,
             "tickcolor": "rgb(36,36,36)",
             "ticks": "outside"
            },
            "colorscale": [
             [
              0,
              "#440154"
             ],
             [
              0.1111111111111111,
              "#482878"
             ],
             [
              0.2222222222222222,
              "#3e4989"
             ],
             [
              0.3333333333333333,
              "#31688e"
             ],
             [
              0.4444444444444444,
              "#26828e"
             ],
             [
              0.5555555555555556,
              "#1f9e89"
             ],
             [
              0.6666666666666666,
              "#35b779"
             ],
             [
              0.7777777777777778,
              "#6ece58"
             ],
             [
              0.8888888888888888,
              "#b5de2b"
             ],
             [
              1,
              "#fde725"
             ]
            ],
            "type": "contour"
           }
          ],
          "contourcarpet": [
           {
            "colorbar": {
             "outlinewidth": 1,
             "tickcolor": "rgb(36,36,36)",
             "ticks": "outside"
            },
            "type": "contourcarpet"
           }
          ],
          "heatmap": [
           {
            "colorbar": {
             "outlinewidth": 1,
             "tickcolor": "rgb(36,36,36)",
             "ticks": "outside"
            },
            "colorscale": [
             [
              0,
              "#440154"
             ],
             [
              0.1111111111111111,
              "#482878"
             ],
             [
              0.2222222222222222,
              "#3e4989"
             ],
             [
              0.3333333333333333,
              "#31688e"
             ],
             [
              0.4444444444444444,
              "#26828e"
             ],
             [
              0.5555555555555556,
              "#1f9e89"
             ],
             [
              0.6666666666666666,
              "#35b779"
             ],
             [
              0.7777777777777778,
              "#6ece58"
             ],
             [
              0.8888888888888888,
              "#b5de2b"
             ],
             [
              1,
              "#fde725"
             ]
            ],
            "type": "heatmap"
           }
          ],
          "heatmapgl": [
           {
            "colorbar": {
             "outlinewidth": 1,
             "tickcolor": "rgb(36,36,36)",
             "ticks": "outside"
            },
            "colorscale": [
             [
              0,
              "#440154"
             ],
             [
              0.1111111111111111,
              "#482878"
             ],
             [
              0.2222222222222222,
              "#3e4989"
             ],
             [
              0.3333333333333333,
              "#31688e"
             ],
             [
              0.4444444444444444,
              "#26828e"
             ],
             [
              0.5555555555555556,
              "#1f9e89"
             ],
             [
              0.6666666666666666,
              "#35b779"
             ],
             [
              0.7777777777777778,
              "#6ece58"
             ],
             [
              0.8888888888888888,
              "#b5de2b"
             ],
             [
              1,
              "#fde725"
             ]
            ],
            "type": "heatmapgl"
           }
          ],
          "histogram": [
           {
            "marker": {
             "line": {
              "color": "white",
              "width": 0.6
             }
            },
            "type": "histogram"
           }
          ],
          "histogram2d": [
           {
            "colorbar": {
             "outlinewidth": 1,
             "tickcolor": "rgb(36,36,36)",
             "ticks": "outside"
            },
            "colorscale": [
             [
              0,
              "#440154"
             ],
             [
              0.1111111111111111,
              "#482878"
             ],
             [
              0.2222222222222222,
              "#3e4989"
             ],
             [
              0.3333333333333333,
              "#31688e"
             ],
             [
              0.4444444444444444,
              "#26828e"
             ],
             [
              0.5555555555555556,
              "#1f9e89"
             ],
             [
              0.6666666666666666,
              "#35b779"
             ],
             [
              0.7777777777777778,
              "#6ece58"
             ],
             [
              0.8888888888888888,
              "#b5de2b"
             ],
             [
              1,
              "#fde725"
             ]
            ],
            "type": "histogram2d"
           }
          ],
          "histogram2dcontour": [
           {
            "colorbar": {
             "outlinewidth": 1,
             "tickcolor": "rgb(36,36,36)",
             "ticks": "outside"
            },
            "colorscale": [
             [
              0,
              "#440154"
             ],
             [
              0.1111111111111111,
              "#482878"
             ],
             [
              0.2222222222222222,
              "#3e4989"
             ],
             [
              0.3333333333333333,
              "#31688e"
             ],
             [
              0.4444444444444444,
              "#26828e"
             ],
             [
              0.5555555555555556,
              "#1f9e89"
             ],
             [
              0.6666666666666666,
              "#35b779"
             ],
             [
              0.7777777777777778,
              "#6ece58"
             ],
             [
              0.8888888888888888,
              "#b5de2b"
             ],
             [
              1,
              "#fde725"
             ]
            ],
            "type": "histogram2dcontour"
           }
          ],
          "mesh3d": [
           {
            "colorbar": {
             "outlinewidth": 1,
             "tickcolor": "rgb(36,36,36)",
             "ticks": "outside"
            },
            "type": "mesh3d"
           }
          ],
          "parcoords": [
           {
            "line": {
             "colorbar": {
              "outlinewidth": 1,
              "tickcolor": "rgb(36,36,36)",
              "ticks": "outside"
             }
            },
            "type": "parcoords"
           }
          ],
          "pie": [
           {
            "automargin": true,
            "type": "pie"
           }
          ],
          "scatter": [
           {
            "fillpattern": {
             "fillmode": "overlay",
             "size": 10,
             "solidity": 0.2
            },
            "type": "scatter"
           }
          ],
          "scatter3d": [
           {
            "line": {
             "colorbar": {
              "outlinewidth": 1,
              "tickcolor": "rgb(36,36,36)",
              "ticks": "outside"
             }
            },
            "marker": {
             "colorbar": {
              "outlinewidth": 1,
              "tickcolor": "rgb(36,36,36)",
              "ticks": "outside"
             }
            },
            "type": "scatter3d"
           }
          ],
          "scattercarpet": [
           {
            "marker": {
             "colorbar": {
              "outlinewidth": 1,
              "tickcolor": "rgb(36,36,36)",
              "ticks": "outside"
             }
            },
            "type": "scattercarpet"
           }
          ],
          "scattergeo": [
           {
            "marker": {
             "colorbar": {
              "outlinewidth": 1,
              "tickcolor": "rgb(36,36,36)",
              "ticks": "outside"
             }
            },
            "type": "scattergeo"
           }
          ],
          "scattergl": [
           {
            "marker": {
             "colorbar": {
              "outlinewidth": 1,
              "tickcolor": "rgb(36,36,36)",
              "ticks": "outside"
             }
            },
            "type": "scattergl"
           }
          ],
          "scattermapbox": [
           {
            "marker": {
             "colorbar": {
              "outlinewidth": 1,
              "tickcolor": "rgb(36,36,36)",
              "ticks": "outside"
             }
            },
            "type": "scattermapbox"
           }
          ],
          "scatterpolar": [
           {
            "marker": {
             "colorbar": {
              "outlinewidth": 1,
              "tickcolor": "rgb(36,36,36)",
              "ticks": "outside"
             }
            },
            "type": "scatterpolar"
           }
          ],
          "scatterpolargl": [
           {
            "marker": {
             "colorbar": {
              "outlinewidth": 1,
              "tickcolor": "rgb(36,36,36)",
              "ticks": "outside"
             }
            },
            "type": "scatterpolargl"
           }
          ],
          "scatterternary": [
           {
            "marker": {
             "colorbar": {
              "outlinewidth": 1,
              "tickcolor": "rgb(36,36,36)",
              "ticks": "outside"
             }
            },
            "type": "scatterternary"
           }
          ],
          "surface": [
           {
            "colorbar": {
             "outlinewidth": 1,
             "tickcolor": "rgb(36,36,36)",
             "ticks": "outside"
            },
            "colorscale": [
             [
              0,
              "#440154"
             ],
             [
              0.1111111111111111,
              "#482878"
             ],
             [
              0.2222222222222222,
              "#3e4989"
             ],
             [
              0.3333333333333333,
              "#31688e"
             ],
             [
              0.4444444444444444,
              "#26828e"
             ],
             [
              0.5555555555555556,
              "#1f9e89"
             ],
             [
              0.6666666666666666,
              "#35b779"
             ],
             [
              0.7777777777777778,
              "#6ece58"
             ],
             [
              0.8888888888888888,
              "#b5de2b"
             ],
             [
              1,
              "#fde725"
             ]
            ],
            "type": "surface"
           }
          ],
          "table": [
           {
            "cells": {
             "fill": {
              "color": "rgb(237,237,237)"
             },
             "line": {
              "color": "white"
             }
            },
            "header": {
             "fill": {
              "color": "rgb(217,217,217)"
             },
             "line": {
              "color": "white"
             }
            },
            "type": "table"
           }
          ]
         },
         "layout": {
          "annotationdefaults": {
           "arrowhead": 0,
           "arrowwidth": 1
          },
          "autotypenumbers": "strict",
          "coloraxis": {
           "colorbar": {
            "outlinewidth": 1,
            "tickcolor": "rgb(36,36,36)",
            "ticks": "outside"
           }
          },
          "colorscale": {
           "diverging": [
            [
             0,
             "rgb(103,0,31)"
            ],
            [
             0.1,
             "rgb(178,24,43)"
            ],
            [
             0.2,
             "rgb(214,96,77)"
            ],
            [
             0.3,
             "rgb(244,165,130)"
            ],
            [
             0.4,
             "rgb(253,219,199)"
            ],
            [
             0.5,
             "rgb(247,247,247)"
            ],
            [
             0.6,
             "rgb(209,229,240)"
            ],
            [
             0.7,
             "rgb(146,197,222)"
            ],
            [
             0.8,
             "rgb(67,147,195)"
            ],
            [
             0.9,
             "rgb(33,102,172)"
            ],
            [
             1,
             "rgb(5,48,97)"
            ]
           ],
           "sequential": [
            [
             0,
             "#440154"
            ],
            [
             0.1111111111111111,
             "#482878"
            ],
            [
             0.2222222222222222,
             "#3e4989"
            ],
            [
             0.3333333333333333,
             "#31688e"
            ],
            [
             0.4444444444444444,
             "#26828e"
            ],
            [
             0.5555555555555556,
             "#1f9e89"
            ],
            [
             0.6666666666666666,
             "#35b779"
            ],
            [
             0.7777777777777778,
             "#6ece58"
            ],
            [
             0.8888888888888888,
             "#b5de2b"
            ],
            [
             1,
             "#fde725"
            ]
           ],
           "sequentialminus": [
            [
             0,
             "#440154"
            ],
            [
             0.1111111111111111,
             "#482878"
            ],
            [
             0.2222222222222222,
             "#3e4989"
            ],
            [
             0.3333333333333333,
             "#31688e"
            ],
            [
             0.4444444444444444,
             "#26828e"
            ],
            [
             0.5555555555555556,
             "#1f9e89"
            ],
            [
             0.6666666666666666,
             "#35b779"
            ],
            [
             0.7777777777777778,
             "#6ece58"
            ],
            [
             0.8888888888888888,
             "#b5de2b"
            ],
            [
             1,
             "#fde725"
            ]
           ]
          },
          "colorway": [
           "#1F77B4",
           "#FF7F0E",
           "#2CA02C",
           "#D62728",
           "#9467BD",
           "#8C564B",
           "#E377C2",
           "#7F7F7F",
           "#BCBD22",
           "#17BECF"
          ],
          "font": {
           "color": "rgb(36,36,36)"
          },
          "geo": {
           "bgcolor": "white",
           "lakecolor": "white",
           "landcolor": "white",
           "showlakes": true,
           "showland": true,
           "subunitcolor": "white"
          },
          "hoverlabel": {
           "align": "left"
          },
          "hovermode": "closest",
          "mapbox": {
           "style": "light"
          },
          "paper_bgcolor": "white",
          "plot_bgcolor": "white",
          "polar": {
           "angularaxis": {
            "gridcolor": "rgb(232,232,232)",
            "linecolor": "rgb(36,36,36)",
            "showgrid": false,
            "showline": true,
            "ticks": "outside"
           },
           "bgcolor": "white",
           "radialaxis": {
            "gridcolor": "rgb(232,232,232)",
            "linecolor": "rgb(36,36,36)",
            "showgrid": false,
            "showline": true,
            "ticks": "outside"
           }
          },
          "scene": {
           "xaxis": {
            "backgroundcolor": "white",
            "gridcolor": "rgb(232,232,232)",
            "gridwidth": 2,
            "linecolor": "rgb(36,36,36)",
            "showbackground": true,
            "showgrid": false,
            "showline": true,
            "ticks": "outside",
            "zeroline": false,
            "zerolinecolor": "rgb(36,36,36)"
           },
           "yaxis": {
            "backgroundcolor": "white",
            "gridcolor": "rgb(232,232,232)",
            "gridwidth": 2,
            "linecolor": "rgb(36,36,36)",
            "showbackground": true,
            "showgrid": false,
            "showline": true,
            "ticks": "outside",
            "zeroline": false,
            "zerolinecolor": "rgb(36,36,36)"
           },
           "zaxis": {
            "backgroundcolor": "white",
            "gridcolor": "rgb(232,232,232)",
            "gridwidth": 2,
            "linecolor": "rgb(36,36,36)",
            "showbackground": true,
            "showgrid": false,
            "showline": true,
            "ticks": "outside",
            "zeroline": false,
            "zerolinecolor": "rgb(36,36,36)"
           }
          },
          "shapedefaults": {
           "fillcolor": "black",
           "line": {
            "width": 0
           },
           "opacity": 0.3
          },
          "ternary": {
           "aaxis": {
            "gridcolor": "rgb(232,232,232)",
            "linecolor": "rgb(36,36,36)",
            "showgrid": false,
            "showline": true,
            "ticks": "outside"
           },
           "baxis": {
            "gridcolor": "rgb(232,232,232)",
            "linecolor": "rgb(36,36,36)",
            "showgrid": false,
            "showline": true,
            "ticks": "outside"
           },
           "bgcolor": "white",
           "caxis": {
            "gridcolor": "rgb(232,232,232)",
            "linecolor": "rgb(36,36,36)",
            "showgrid": false,
            "showline": true,
            "ticks": "outside"
           }
          },
          "title": {
           "x": 0.05
          },
          "xaxis": {
           "automargin": true,
           "gridcolor": "rgb(232,232,232)",
           "linecolor": "rgb(36,36,36)",
           "showgrid": false,
           "showline": true,
           "ticks": "outside",
           "title": {
            "standoff": 15
           },
           "zeroline": false,
           "zerolinecolor": "rgb(36,36,36)"
          },
          "yaxis": {
           "automargin": true,
           "gridcolor": "rgb(232,232,232)",
           "linecolor": "rgb(36,36,36)",
           "showgrid": false,
           "showline": true,
           "ticks": "outside",
           "title": {
            "standoff": 15
           },
           "zeroline": false,
           "zerolinecolor": "rgb(36,36,36)"
          }
         }
        },
        "title": {
         "font": {
          "color": "Black",
          "size": 22
         },
         "text": "<b>Intertopic Distance Map</b>",
         "x": 0.5,
         "xanchor": "center",
         "y": 0.95,
         "yanchor": "top"
        },
        "width": 650,
        "xaxis": {
         "anchor": "y",
         "domain": [
          0,
          1
         ],
         "range": [
          -16.448974752426146,
          24.094832515716554
         ],
         "title": {
          "text": ""
         },
         "visible": false
        },
        "yaxis": {
         "anchor": "x",
         "domain": [
          0,
          1
         ],
         "range": [
          -12.08172402381897,
          21.98684720993042
         ],
         "title": {
          "text": ""
         },
         "visible": false
        }
       }
      }
     },
     "metadata": {},
     "output_type": "display_data"
    }
   ],
   "source": [
    "topic_model.visualize_topics().show()"
   ]
  },
  {
   "cell_type": "code",
   "execution_count": 58,
   "metadata": {},
   "outputs": [
    {
     "data": {
      "text/html": [
       "<div>\n",
       "<style scoped>\n",
       "    .dataframe tbody tr th:only-of-type {\n",
       "        vertical-align: middle;\n",
       "    }\n",
       "\n",
       "    .dataframe tbody tr th {\n",
       "        vertical-align: top;\n",
       "    }\n",
       "\n",
       "    .dataframe thead th {\n",
       "        text-align: right;\n",
       "    }\n",
       "</style>\n",
       "<table border=\"1\" class=\"dataframe\">\n",
       "  <thead>\n",
       "    <tr style=\"text-align: right;\">\n",
       "      <th></th>\n",
       "      <th>Topic</th>\n",
       "      <th>Count</th>\n",
       "      <th>Name</th>\n",
       "      <th>Representation</th>\n",
       "      <th>Representative_Docs</th>\n",
       "    </tr>\n",
       "  </thead>\n",
       "  <tbody>\n",
       "    <tr>\n",
       "      <th>0</th>\n",
       "      <td>-1</td>\n",
       "      <td>147</td>\n",
       "      <td>-1_call_dudley_cerniglia_inc</td>\n",
       "      <td>[call, dudley, cerniglia, inc, morning, financ...</td>\n",
       "      <td>[Joining me today are Pat Moore, Chairman and ...</td>\n",
       "    </tr>\n",
       "    <tr>\n",
       "      <th>1</th>\n",
       "      <td>0</td>\n",
       "      <td>2895</td>\n",
       "      <td>0_the_in_to_of</td>\n",
       "      <td>[the, in, to, of, we, and, our, year, quarter,...</td>\n",
       "      <td>[Our fourth quarter 2006 segment operating pro...</td>\n",
       "    </tr>\n",
       "    <tr>\n",
       "      <th>2</th>\n",
       "      <td>1</td>\n",
       "      <td>71</td>\n",
       "      <td>1_then_will_ll_results</td>\n",
       "      <td>[then, will, ll, results, call, update, discus...</td>\n",
       "      <td>[We will be talking about a number of items, s...</td>\n",
       "    </tr>\n",
       "    <tr>\n",
       "      <th>3</th>\n",
       "      <td>2</td>\n",
       "      <td>51</td>\n",
       "      <td>2_camp_inc_ceo_ken</td>\n",
       "      <td>[camp, inc, ceo, ken, president, hillenbrand, ...</td>\n",
       "      <td>[Ken Camp,  Hillenbrand Inc - President, CEO  ...</td>\n",
       "    </tr>\n",
       "    <tr>\n",
       "      <th>4</th>\n",
       "      <td>3</td>\n",
       "      <td>47</td>\n",
       "      <td>3_corporation_smurfit_stone_container</td>\n",
       "      <td>[corporation, smurfit, stone, container, haudr...</td>\n",
       "      <td>[---------------------------------------------...</td>\n",
       "    </tr>\n",
       "    <tr>\n",
       "      <th>5</th>\n",
       "      <td>4</td>\n",
       "      <td>39</td>\n",
       "      <td>4_corporation_container_stone_smurfit</td>\n",
       "      <td>[corporation, container, stone, smurfit, presi...</td>\n",
       "      <td>[---------------------------------------------...</td>\n",
       "    </tr>\n",
       "    <tr>\n",
       "      <th>6</th>\n",
       "      <td>5</td>\n",
       "      <td>33</td>\n",
       "      <td>5_conference_ladies_gentlemen_conduct</td>\n",
       "      <td>[conference, ladies, gentlemen, conduct, mode,...</td>\n",
       "      <td>[Ladies and gentlemen thank you for standing b...</td>\n",
       "    </tr>\n",
       "    <tr>\n",
       "      <th>7</th>\n",
       "      <td>6</td>\n",
       "      <td>32</td>\n",
       "      <td>6_replay_internationally_midnight_eastern</td>\n",
       "      <td>[replay, internationally, midnight, eastern, d...</td>\n",
       "      <td>[Good morning everyone and welcome to the Hill...</td>\n",
       "    </tr>\n",
       "    <tr>\n",
       "      <th>8</th>\n",
       "      <td>7</td>\n",
       "      <td>31</td>\n",
       "      <td>7_recording_any_consent_text</td>\n",
       "      <td>[recording, any, consent, text, permitted, wri...</td>\n",
       "      <td>[If you ask a question during today's call, it...</td>\n",
       "    </tr>\n",
       "    <tr>\n",
       "      <th>9</th>\n",
       "      <td>8</td>\n",
       "      <td>31</td>\n",
       "      <td>8_director_raver_inc_ceo</td>\n",
       "      <td>[director, raver, inc, ceo, joe, amp, presiden...</td>\n",
       "      <td>[---------------------------------------------...</td>\n",
       "    </tr>\n",
       "    <tr>\n",
       "      <th>10</th>\n",
       "      <td>9</td>\n",
       "      <td>29</td>\n",
       "      <td>9_statements_securities_looking_laws</td>\n",
       "      <td>[statements, securities, looking, laws, harbor...</td>\n",
       "      <td>[Prior to getting into our prepared remarks ab...</td>\n",
       "    </tr>\n",
       "    <tr>\n",
       "      <th>11</th>\n",
       "      <td>10</td>\n",
       "      <td>28</td>\n",
       "      <td>10_analyst_suisse_klein_bruce</td>\n",
       "      <td>[analyst, suisse, klein, bruce, deutsche, banc...</td>\n",
       "      <td>[---------------------------------------------...</td>\n",
       "    </tr>\n",
       "    <tr>\n",
       "      <th>12</th>\n",
       "      <td>11</td>\n",
       "      <td>26</td>\n",
       "      <td>11_relations_investor_go_mr</td>\n",
       "      <td>[relations, investor, go, mr, ahead, conferenc...</td>\n",
       "      <td>[Now at this time it's my pleasure to turn the...</td>\n",
       "    </tr>\n",
       "    <tr>\n",
       "      <th>13</th>\n",
       "      <td>12</td>\n",
       "      <td>24</td>\n",
       "      <td>12_ready_open_questions_operator</td>\n",
       "      <td>[ready, open, questions, operator, concludes, ...</td>\n",
       "      <td>[That concludes our prepared remarks. We're re...</td>\n",
       "    </tr>\n",
       "    <tr>\n",
       "      <th>14</th>\n",
       "      <td>13</td>\n",
       "      <td>22</td>\n",
       "      <td>13_concluding_ken_his_back</td>\n",
       "      <td>[concluding, ken, his, back, remarks, turn, no...</td>\n",
       "      <td>[Now I'll turn the call back to Ken for his co...</td>\n",
       "    </tr>\n",
       "    <tr>\n",
       "      <th>15</th>\n",
       "      <td>14</td>\n",
       "      <td>21</td>\n",
       "      <td>14_moore_pat_ceo_stone</td>\n",
       "      <td>[moore, pat, ceo, stone, smurfit, president, a...</td>\n",
       "      <td>[Pat Moore,  Smurfit-Stone - President and CEO...</td>\n",
       "    </tr>\n",
       "    <tr>\n",
       "      <th>16</th>\n",
       "      <td>15</td>\n",
       "      <td>21</td>\n",
       "      <td>15_measures_gaap_non_discussing</td>\n",
       "      <td>[measures, gaap, non, discussing, encourage, d...</td>\n",
       "      <td>[Also during the course of this call, we will ...</td>\n",
       "    </tr>\n",
       "    <tr>\n",
       "      <th>17</th>\n",
       "      <td>16</td>\n",
       "      <td>20</td>\n",
       "      <td>16_kristina_detail_turn_more</td>\n",
       "      <td>[kristina, detail, turn, more, let, bit, me, c...</td>\n",
       "      <td>[With that, let me turn the call over to Krist...</td>\n",
       "    </tr>\n",
       "    <tr>\n",
       "      <th>18</th>\n",
       "      <td>17</td>\n",
       "      <td>20</td>\n",
       "      <td>17_turn_joe_call_back</td>\n",
       "      <td>[turn, joe, call, back, ll, over, now, time, l...</td>\n",
       "      <td>[At this time, I'll turn the call back over to...</td>\n",
       "    </tr>\n",
       "    <tr>\n",
       "      <th>19</th>\n",
       "      <td>18</td>\n",
       "      <td>20</td>\n",
       "      <td>18_statements_actual_measures_looking</td>\n",
       "      <td>[statements, actual, measures, looking, forwar...</td>\n",
       "      <td>[Before I turn the call over to Joe, let me re...</td>\n",
       "    </tr>\n",
       "    <tr>\n",
       "      <th>20</th>\n",
       "      <td>19</td>\n",
       "      <td>20</td>\n",
       "      <td>19_moore_pat_ceo_stone</td>\n",
       "      <td>[moore, pat, ceo, stone, smurfit, president, c...</td>\n",
       "      <td>[---------------------------------------------...</td>\n",
       "    </tr>\n",
       "    <tr>\n",
       "      <th>21</th>\n",
       "      <td>20</td>\n",
       "      <td>20</td>\n",
       "      <td>20_ceo_inc_president_corp</td>\n",
       "      <td>[ceo, inc, president, corp, raver, joe, hillen...</td>\n",
       "      <td>[---------------------------------------------...</td>\n",
       "    </tr>\n",
       "    <tr>\n",
       "      <th>22</th>\n",
       "      <td>21</td>\n",
       "      <td>19</td>\n",
       "      <td>21_me_if_please_call</td>\n",
       "      <td>[me, if, please, call, 812, mail, hesitate, di...</td>\n",
       "      <td>[Now, let me provide some information regardin...</td>\n",
       "    </tr>\n",
       "    <tr>\n",
       "      <th>23</th>\n",
       "      <td>22</td>\n",
       "      <td>19</td>\n",
       "      <td>22_turn_now_chuck_review</td>\n",
       "      <td>[turn, now, chuck, review, over, discussion, f...</td>\n",
       "      <td>[Now I'd like to turn the discussion over to C...</td>\n",
       "    </tr>\n",
       "    <tr>\n",
       "      <th>24</th>\n",
       "      <td>23</td>\n",
       "      <td>18</td>\n",
       "      <td>23_corporation_moore_chairman_ceo</td>\n",
       "      <td>[corporation, moore, chairman, ceo, container,...</td>\n",
       "      <td>[---------------------------------------------...</td>\n",
       "    </tr>\n",
       "    <tr>\n",
       "      <th>25</th>\n",
       "      <td>24</td>\n",
       "      <td>18</td>\n",
       "      <td>24_officer_chief_lucchese_president</td>\n",
       "      <td>[officer, chief, lucchese, president, camp, ci...</td>\n",
       "      <td>[With me on today's call are Hillenbrand Presi...</td>\n",
       "    </tr>\n",
       "    <tr>\n",
       "      <th>26</th>\n",
       "      <td>25</td>\n",
       "      <td>18</td>\n",
       "      <td>25_ken_call_prepared_will</td>\n",
       "      <td>[ken, call, prepared, will, cindy, start, foll...</td>\n",
       "      <td>[Now let me provide some information regarding...</td>\n",
       "    </tr>\n",
       "    <tr>\n",
       "      <th>27</th>\n",
       "      <td>26</td>\n",
       "      <td>17</td>\n",
       "      <td>26_operator_unidentified_119_representative</td>\n",
       "      <td>[operator, unidentified, 119, representative, ...</td>\n",
       "      <td>[---------------------------------------------...</td>\n",
       "    </tr>\n",
       "    <tr>\n",
       "      <th>28</th>\n",
       "      <td>27</td>\n",
       "      <td>17</td>\n",
       "      <td>27_ready_open_joined_session</td>\n",
       "      <td>[ready, open, joined, session, kim, questions,...</td>\n",
       "      <td>[That concludes our prepared remarks. For toda...</td>\n",
       "    </tr>\n",
       "    <tr>\n",
       "      <th>29</th>\n",
       "      <td>28</td>\n",
       "      <td>17</td>\n",
       "      <td>28_recording_or_any_replay</td>\n",
       "      <td>[recording, or, any, replay, be, audio, hillen...</td>\n",
       "      <td>[Good morning everyone, and welcome to Hillenb...</td>\n",
       "    </tr>\n",
       "    <tr>\n",
       "      <th>30</th>\n",
       "      <td>29</td>\n",
       "      <td>17</td>\n",
       "      <td>29_cfo_lucchese_inc_cindy</td>\n",
       "      <td>[cfo, lucchese, inc, cindy, svp, hillenbrand, ...</td>\n",
       "      <td>[Cindy Lucchese,  Hillenbrand, Inc. - SVP and ...</td>\n",
       "    </tr>\n",
       "    <tr>\n",
       "      <th>31</th>\n",
       "      <td>30</td>\n",
       "      <td>16</td>\n",
       "      <td>30_joined_call_joining_morning</td>\n",
       "      <td>[joined, call, joining, morning, cerniglia, po...</td>\n",
       "      <td>[Thank you, operator. Good morning and thanks ...</td>\n",
       "    </tr>\n",
       "    <tr>\n",
       "      <th>32</th>\n",
       "      <td>31</td>\n",
       "      <td>16</td>\n",
       "      <td>31_warburg_ubs_analyst_hoffman</td>\n",
       "      <td>[warburg, ubs, analyst, hoffman, bill, schneid...</td>\n",
       "      <td>[---------------------------------------------...</td>\n",
       "    </tr>\n",
       "    <tr>\n",
       "      <th>33</th>\n",
       "      <td>32</td>\n",
       "      <td>16</td>\n",
       "      <td>32_cindy_lucchese_cfo_turn</td>\n",
       "      <td>[cindy, lucchese, cfo, turn, now, over, call, ...</td>\n",
       "      <td>[Now I'll turn the call over to our CFO, Cindy...</td>\n",
       "    </tr>\n",
       "    <tr>\n",
       "      <th>34</th>\n",
       "      <td>33</td>\n",
       "      <td>16</td>\n",
       "      <td>33_morning_good_thank_tim</td>\n",
       "      <td>[morning, good, thank, tim, you, thanks, pat, ...</td>\n",
       "      <td>[Thank you, Pat. Good morning, Thank you, Pat....</td>\n",
       "    </tr>\n",
       "    <tr>\n",
       "      <th>35</th>\n",
       "      <td>34</td>\n",
       "      <td>15</td>\n",
       "      <td>34_morning_chief_officer_controller</td>\n",
       "      <td>[morning, chief, officer, controller, presiden...</td>\n",
       "      <td>[Thanks. Good morning. Welcome to Smurfit-Ston...</td>\n",
       "    </tr>\n",
       "    <tr>\n",
       "      <th>36</th>\n",
       "      <td>35</td>\n",
       "      <td>14</td>\n",
       "      <td>35_thank_great_much_thanks</td>\n",
       "      <td>[thank, great, much, thanks, right, you, very,...</td>\n",
       "      <td>[Thank you very much, All right, great. Thank ...</td>\n",
       "    </tr>\n",
       "    <tr>\n",
       "      <th>37</th>\n",
       "      <td>36</td>\n",
       "      <td>14</td>\n",
       "      <td>36_hinrichs_cfo_chuck_stone</td>\n",
       "      <td>[hinrichs, cfo, chuck, stone, smurfit, jeffrey...</td>\n",
       "      <td>[Chuck Hinrichs,  Smurfit-Stone - CFO   [9], C...</td>\n",
       "    </tr>\n",
       "    <tr>\n",
       "      <th>38</th>\n",
       "      <td>37</td>\n",
       "      <td>14</td>\n",
       "      <td>37_svp_cfo_inc_cerniglia</td>\n",
       "      <td>[svp, cfo, inc, cerniglia, lucchese, hillenbra...</td>\n",
       "      <td>[---------------------------------------------...</td>\n",
       "    </tr>\n",
       "    <tr>\n",
       "      <th>39</th>\n",
       "      <td>38</td>\n",
       "      <td>14</td>\n",
       "      <td>38_your_participation_happy_questions</td>\n",
       "      <td>[your, participation, happy, questions, take, ...</td>\n",
       "      <td>[I appreciate your participation this morning....</td>\n",
       "    </tr>\n",
       "    <tr>\n",
       "      <th>40</th>\n",
       "      <td>39</td>\n",
       "      <td>14</td>\n",
       "      <td>39_raver_mr_pleasure_executive</td>\n",
       "      <td>[raver, mr, pleasure, executive, my, go, ahead...</td>\n",
       "      <td>[At this time, it is my pleasure to turn the c...</td>\n",
       "    </tr>\n",
       "    <tr>\n",
       "      <th>41</th>\n",
       "      <td>40</td>\n",
       "      <td>14</td>\n",
       "      <td>40_ken_camp_pleasure_my</td>\n",
       "      <td>[ken, camp, pleasure, my, turn, president, ceo...</td>\n",
       "      <td>[Now it is my pleasure to turn the call over t...</td>\n",
       "    </tr>\n",
       "    <tr>\n",
       "      <th>42</th>\n",
       "      <td>41</td>\n",
       "      <td>13</td>\n",
       "      <td>41_ir_gordon_chris_inc</td>\n",
       "      <td>[ir, gordon, chris, inc, director, hillenbrand...</td>\n",
       "      <td>[---------------------------------------------...</td>\n",
       "    </tr>\n",
       "    <tr>\n",
       "      <th>43</th>\n",
       "      <td>42</td>\n",
       "      <td>13</td>\n",
       "      <td>42_vp_lanning_ir_mark</td>\n",
       "      <td>[vp, lanning, ir, mark, inc, treasury, communi...</td>\n",
       "      <td>[---------------------------------------------...</td>\n",
       "    </tr>\n",
       "    <tr>\n",
       "      <th>44</th>\n",
       "      <td>43</td>\n",
       "      <td>13</td>\n",
       "      <td>43_thank_chuck_thanks_you</td>\n",
       "      <td>[thank, chuck, thanks, you, ken, cindy, joe, s...</td>\n",
       "      <td>[Thank you, Chuck, Thank you, Chuck, Thank you...</td>\n",
       "    </tr>\n",
       "    <tr>\n",
       "      <th>45</th>\n",
       "      <td>44</td>\n",
       "      <td>13</td>\n",
       "      <td>44_uncertainties_risks_statements_seasonality</td>\n",
       "      <td>[uncertainties, risks, statements, seasonality...</td>\n",
       "      <td>[I need to remind you that this call contains ...</td>\n",
       "    </tr>\n",
       "    <tr>\n",
       "      <th>46</th>\n",
       "      <td>45</td>\n",
       "      <td>12</td>\n",
       "      <td>45_chairman_corporation_moore_container</td>\n",
       "      <td>[chairman, corporation, moore, container, amp,...</td>\n",
       "      <td>[---------------------------------------------...</td>\n",
       "    </tr>\n",
       "    <tr>\n",
       "      <th>47</th>\n",
       "      <td>46</td>\n",
       "      <td>11</td>\n",
       "      <td>46_comes_question_next_from</td>\n",
       "      <td>[comes, question, next, from, please, go, ahea...</td>\n",
       "      <td>[The first question comes in the line of Rich ...</td>\n",
       "    </tr>\n",
       "    <tr>\n",
       "      <th>48</th>\n",
       "      <td>47</td>\n",
       "      <td>11</td>\n",
       "      <td>47_concluding_his_back_remarks</td>\n",
       "      <td>[concluding, his, back, remarks, joe, turn, ti...</td>\n",
       "      <td>[At this time, I will turn the call back to Jo...</td>\n",
       "    </tr>\n",
       "    <tr>\n",
       "      <th>49</th>\n",
       "      <td>48</td>\n",
       "      <td>11</td>\n",
       "      <td>48_questions_considerations_refrain_question</td>\n",
       "      <td>[questions, considerations, refrain, question,...</td>\n",
       "      <td>[Thanks, Pat. That concludes our prepared rema...</td>\n",
       "    </tr>\n",
       "  </tbody>\n",
       "</table>\n",
       "</div>"
      ],
      "text/plain": [
       "    Topic  Count                                           Name  \\\n",
       "0      -1    147                   -1_call_dudley_cerniglia_inc   \n",
       "1       0   2895                                 0_the_in_to_of   \n",
       "2       1     71                         1_then_will_ll_results   \n",
       "3       2     51                             2_camp_inc_ceo_ken   \n",
       "4       3     47          3_corporation_smurfit_stone_container   \n",
       "5       4     39          4_corporation_container_stone_smurfit   \n",
       "6       5     33          5_conference_ladies_gentlemen_conduct   \n",
       "7       6     32      6_replay_internationally_midnight_eastern   \n",
       "8       7     31                   7_recording_any_consent_text   \n",
       "9       8     31                       8_director_raver_inc_ceo   \n",
       "10      9     29           9_statements_securities_looking_laws   \n",
       "11     10     28                  10_analyst_suisse_klein_bruce   \n",
       "12     11     26                    11_relations_investor_go_mr   \n",
       "13     12     24               12_ready_open_questions_operator   \n",
       "14     13     22                     13_concluding_ken_his_back   \n",
       "15     14     21                         14_moore_pat_ceo_stone   \n",
       "16     15     21                15_measures_gaap_non_discussing   \n",
       "17     16     20                   16_kristina_detail_turn_more   \n",
       "18     17     20                          17_turn_joe_call_back   \n",
       "19     18     20          18_statements_actual_measures_looking   \n",
       "20     19     20                         19_moore_pat_ceo_stone   \n",
       "21     20     20                      20_ceo_inc_president_corp   \n",
       "22     21     19                           21_me_if_please_call   \n",
       "23     22     19                       22_turn_now_chuck_review   \n",
       "24     23     18              23_corporation_moore_chairman_ceo   \n",
       "25     24     18            24_officer_chief_lucchese_president   \n",
       "26     25     18                      25_ken_call_prepared_will   \n",
       "27     26     17    26_operator_unidentified_119_representative   \n",
       "28     27     17                   27_ready_open_joined_session   \n",
       "29     28     17                     28_recording_or_any_replay   \n",
       "30     29     17                      29_cfo_lucchese_inc_cindy   \n",
       "31     30     16                 30_joined_call_joining_morning   \n",
       "32     31     16                 31_warburg_ubs_analyst_hoffman   \n",
       "33     32     16                     32_cindy_lucchese_cfo_turn   \n",
       "34     33     16                      33_morning_good_thank_tim   \n",
       "35     34     15            34_morning_chief_officer_controller   \n",
       "36     35     14                     35_thank_great_much_thanks   \n",
       "37     36     14                    36_hinrichs_cfo_chuck_stone   \n",
       "38     37     14                       37_svp_cfo_inc_cerniglia   \n",
       "39     38     14          38_your_participation_happy_questions   \n",
       "40     39     14                 39_raver_mr_pleasure_executive   \n",
       "41     40     14                        40_ken_camp_pleasure_my   \n",
       "42     41     13                         41_ir_gordon_chris_inc   \n",
       "43     42     13                          42_vp_lanning_ir_mark   \n",
       "44     43     13                      43_thank_chuck_thanks_you   \n",
       "45     44     13  44_uncertainties_risks_statements_seasonality   \n",
       "46     45     12        45_chairman_corporation_moore_container   \n",
       "47     46     11                    46_comes_question_next_from   \n",
       "48     47     11                 47_concluding_his_back_remarks   \n",
       "49     48     11   48_questions_considerations_refrain_question   \n",
       "\n",
       "                                       Representation  \\\n",
       "0   [call, dudley, cerniglia, inc, morning, financ...   \n",
       "1   [the, in, to, of, we, and, our, year, quarter,...   \n",
       "2   [then, will, ll, results, call, update, discus...   \n",
       "3   [camp, inc, ceo, ken, president, hillenbrand, ...   \n",
       "4   [corporation, smurfit, stone, container, haudr...   \n",
       "5   [corporation, container, stone, smurfit, presi...   \n",
       "6   [conference, ladies, gentlemen, conduct, mode,...   \n",
       "7   [replay, internationally, midnight, eastern, d...   \n",
       "8   [recording, any, consent, text, permitted, wri...   \n",
       "9   [director, raver, inc, ceo, joe, amp, presiden...   \n",
       "10  [statements, securities, looking, laws, harbor...   \n",
       "11  [analyst, suisse, klein, bruce, deutsche, banc...   \n",
       "12  [relations, investor, go, mr, ahead, conferenc...   \n",
       "13  [ready, open, questions, operator, concludes, ...   \n",
       "14  [concluding, ken, his, back, remarks, turn, no...   \n",
       "15  [moore, pat, ceo, stone, smurfit, president, a...   \n",
       "16  [measures, gaap, non, discussing, encourage, d...   \n",
       "17  [kristina, detail, turn, more, let, bit, me, c...   \n",
       "18  [turn, joe, call, back, ll, over, now, time, l...   \n",
       "19  [statements, actual, measures, looking, forwar...   \n",
       "20  [moore, pat, ceo, stone, smurfit, president, c...   \n",
       "21  [ceo, inc, president, corp, raver, joe, hillen...   \n",
       "22  [me, if, please, call, 812, mail, hesitate, di...   \n",
       "23  [turn, now, chuck, review, over, discussion, f...   \n",
       "24  [corporation, moore, chairman, ceo, container,...   \n",
       "25  [officer, chief, lucchese, president, camp, ci...   \n",
       "26  [ken, call, prepared, will, cindy, start, foll...   \n",
       "27  [operator, unidentified, 119, representative, ...   \n",
       "28  [ready, open, joined, session, kim, questions,...   \n",
       "29  [recording, or, any, replay, be, audio, hillen...   \n",
       "30  [cfo, lucchese, inc, cindy, svp, hillenbrand, ...   \n",
       "31  [joined, call, joining, morning, cerniglia, po...   \n",
       "32  [warburg, ubs, analyst, hoffman, bill, schneid...   \n",
       "33  [cindy, lucchese, cfo, turn, now, over, call, ...   \n",
       "34  [morning, good, thank, tim, you, thanks, pat, ...   \n",
       "35  [morning, chief, officer, controller, presiden...   \n",
       "36  [thank, great, much, thanks, right, you, very,...   \n",
       "37  [hinrichs, cfo, chuck, stone, smurfit, jeffrey...   \n",
       "38  [svp, cfo, inc, cerniglia, lucchese, hillenbra...   \n",
       "39  [your, participation, happy, questions, take, ...   \n",
       "40  [raver, mr, pleasure, executive, my, go, ahead...   \n",
       "41  [ken, camp, pleasure, my, turn, president, ceo...   \n",
       "42  [ir, gordon, chris, inc, director, hillenbrand...   \n",
       "43  [vp, lanning, ir, mark, inc, treasury, communi...   \n",
       "44  [thank, chuck, thanks, you, ken, cindy, joe, s...   \n",
       "45  [uncertainties, risks, statements, seasonality...   \n",
       "46  [chairman, corporation, moore, container, amp,...   \n",
       "47  [comes, question, next, from, please, go, ahea...   \n",
       "48  [concluding, his, back, remarks, joe, turn, ti...   \n",
       "49  [questions, considerations, refrain, question,...   \n",
       "\n",
       "                                  Representative_Docs  \n",
       "0   [Joining me today are Pat Moore, Chairman and ...  \n",
       "1   [Our fourth quarter 2006 segment operating pro...  \n",
       "2   [We will be talking about a number of items, s...  \n",
       "3   [Ken Camp,  Hillenbrand Inc - President, CEO  ...  \n",
       "4   [---------------------------------------------...  \n",
       "5   [---------------------------------------------...  \n",
       "6   [Ladies and gentlemen thank you for standing b...  \n",
       "7   [Good morning everyone and welcome to the Hill...  \n",
       "8   [If you ask a question during today's call, it...  \n",
       "9   [---------------------------------------------...  \n",
       "10  [Prior to getting into our prepared remarks ab...  \n",
       "11  [---------------------------------------------...  \n",
       "12  [Now at this time it's my pleasure to turn the...  \n",
       "13  [That concludes our prepared remarks. We're re...  \n",
       "14  [Now I'll turn the call back to Ken for his co...  \n",
       "15  [Pat Moore,  Smurfit-Stone - President and CEO...  \n",
       "16  [Also during the course of this call, we will ...  \n",
       "17  [With that, let me turn the call over to Krist...  \n",
       "18  [At this time, I'll turn the call back over to...  \n",
       "19  [Before I turn the call over to Joe, let me re...  \n",
       "20  [---------------------------------------------...  \n",
       "21  [---------------------------------------------...  \n",
       "22  [Now, let me provide some information regardin...  \n",
       "23  [Now I'd like to turn the discussion over to C...  \n",
       "24  [---------------------------------------------...  \n",
       "25  [With me on today's call are Hillenbrand Presi...  \n",
       "26  [Now let me provide some information regarding...  \n",
       "27  [---------------------------------------------...  \n",
       "28  [That concludes our prepared remarks. For toda...  \n",
       "29  [Good morning everyone, and welcome to Hillenb...  \n",
       "30  [Cindy Lucchese,  Hillenbrand, Inc. - SVP and ...  \n",
       "31  [Thank you, operator. Good morning and thanks ...  \n",
       "32  [---------------------------------------------...  \n",
       "33  [Now I'll turn the call over to our CFO, Cindy...  \n",
       "34  [Thank you, Pat. Good morning, Thank you, Pat....  \n",
       "35  [Thanks. Good morning. Welcome to Smurfit-Ston...  \n",
       "36  [Thank you very much, All right, great. Thank ...  \n",
       "37  [Chuck Hinrichs,  Smurfit-Stone - CFO   [9], C...  \n",
       "38  [---------------------------------------------...  \n",
       "39  [I appreciate your participation this morning....  \n",
       "40  [At this time, it is my pleasure to turn the c...  \n",
       "41  [Now it is my pleasure to turn the call over t...  \n",
       "42  [---------------------------------------------...  \n",
       "43  [---------------------------------------------...  \n",
       "44  [Thank you, Chuck, Thank you, Chuck, Thank you...  \n",
       "45  [I need to remind you that this call contains ...  \n",
       "46  [---------------------------------------------...  \n",
       "47  [The first question comes in the line of Rich ...  \n",
       "48  [At this time, I will turn the call back to Jo...  \n",
       "49  [Thanks, Pat. That concludes our prepared rema...  "
      ]
     },
     "execution_count": 58,
     "metadata": {},
     "output_type": "execute_result"
    }
   ],
   "source": [
    "topic_model.get_topic_info()"
   ]
  },
  {
   "cell_type": "code",
   "execution_count": 59,
   "metadata": {},
   "outputs": [
    {
     "data": {
      "application/vnd.plotly.v1+json": {
       "config": {
        "plotlyServerURL": "https://plot.ly"
       },
       "data": [
        {
         "marker": {
          "color": "#D55E00"
         },
         "orientation": "h",
         "type": "bar",
         "x": [
          0.012071148579100192,
          0.012707408374379586,
          0.012928099148641408,
          0.014579595151239367,
          0.014850078916326373,
          0.015441296234445704,
          0.01549357897710391,
          0.016055070381938426,
          0.016360601551061,
          0.01761896666720122
         ],
         "xaxis": "x",
         "y": [
          "million  ",
          "quarter  ",
          "year  ",
          "our  ",
          "and  ",
          "we  ",
          "of  ",
          "to  ",
          "in  ",
          "the  "
         ],
         "yaxis": "y"
        },
        {
         "marker": {
          "color": "#0072B2"
         },
         "orientation": "h",
         "type": "bar",
         "x": [
          0.024844365535341754,
          0.02565826687694641,
          0.026675094728325938,
          0.027507759883980767,
          0.03119272696558093,
          0.03234820937201975,
          0.03387708987739666,
          0.03639061995251739,
          0.03690575701401783,
          0.040337897929299135
         ],
         "xaxis": "x2",
         "y": [
          "today  ",
          "our  ",
          "provide  ",
          "discuss  ",
          "update  ",
          "call  ",
          "results  ",
          "ll  ",
          "will  ",
          "then  "
         ],
         "yaxis": "y2"
        },
        {
         "marker": {
          "color": "#CC79A7"
         },
         "orientation": "h",
         "type": "bar",
         "x": [
          0.06631824684371143,
          0.07308183368849125,
          0.0798194813302643,
          0.09972478779893403,
          0.25380098660676204,
          0.3233321007044684,
          0.3355726916823403,
          0.35526921758841457,
          0.4159737610027734,
          0.4287746035373161
         ],
         "xaxis": "x3",
         "y": [
          "director  ",
          "amp  ",
          "joe  ",
          "raver  ",
          "hillenbrand  ",
          "president  ",
          "ken  ",
          "ceo  ",
          "inc  ",
          "camp  "
         ],
         "yaxis": "y3"
        },
        {
         "marker": {
          "color": "#E69F00"
         },
         "orientation": "h",
         "type": "bar",
         "x": [
          0.1538869138314336,
          0.18240999590262644,
          0.1850239665889143,
          0.22957078966365216,
          0.24564932345170484,
          0.2509727273833182,
          0.2960918803780901,
          0.33014108499156763,
          0.33184222065381797,
          0.3376993114294134
         ],
         "xaxis": "x4",
         "y": [
          "chuck  ",
          "hinrichs  ",
          "cfo  ",
          "ir  ",
          "john  ",
          "haudrich  ",
          "container  ",
          "stone  ",
          "smurfit  ",
          "corporation  "
         ],
         "yaxis": "y4"
        },
        {
         "marker": {
          "color": "#56B4E9"
         },
         "orientation": "h",
         "type": "bar",
         "x": [
          0.10890109622322784,
          0.12334931105927618,
          0.13840291798215254,
          0.14001569514415008,
          0.1580886631156096,
          0.16621388144114094,
          0.2138538755324605,
          0.21759298783535141,
          0.22406953109693306,
          0.29548689750073676
         ],
         "xaxis": "x5",
         "y": [
          "klinger  ",
          "cfo  ",
          "vp  ",
          "coo  ",
          "hinrichs  ",
          "president  ",
          "smurfit  ",
          "stone  ",
          "container  ",
          "corporation  "
         ],
         "yaxis": "y5"
        },
        {
         "marker": {
          "color": "#009E73"
         },
         "orientation": "h",
         "type": "bar",
         "x": [
          0.06033423316055469,
          0.06069182195969521,
          0.061843427112074155,
          0.06816110037453639,
          0.07042081143566115,
          0.07173233979439476,
          0.07225216899963716,
          0.07309298808676815,
          0.07590425685933615,
          0.10686866525855279
         ],
         "xaxis": "x6",
         "y": [
          "question  ",
          "standing  ",
          "answer  ",
          "listen  ",
          "participants  ",
          "mode  ",
          "conduct  ",
          "gentlemen  ",
          "ladies  ",
          "conference  "
         ],
         "yaxis": "y6"
        },
        {
         "marker": {
          "color": "#F0E442"
         },
         "orientation": "h",
         "type": "bar",
         "x": [
          0.05395242677102207,
          0.05542407397282457,
          0.056488493445588976,
          0.0578806193448621,
          0.05812999291266435,
          0.060943350473198446,
          0.06344101394645395,
          0.06663417481461813,
          0.06860495964653648,
          0.08986122173395086
         ],
         "xaxis": "x7",
         "y": [
          "id  ",
          "until  ",
          "available  ",
          "states  ",
          "united  ",
          "dialing  ",
          "eastern  ",
          "midnight  ",
          "internationally  ",
          "replay  "
         ],
         "yaxis": "y7"
        },
        {
         "marker": {
          "color": "#D55E00"
         },
         "orientation": "h",
         "type": "bar",
         "x": [
          0.09527777335129299,
          0.09565329875913088,
          0.09706366520628396,
          0.09706366520628396,
          0.09983173621798455,
          0.09983173621798455,
          0.09983173621798455,
          0.10029912071316008,
          0.13025990809420773,
          0.16756385421281003
         ],
         "xaxis": "x8",
         "y": [
          "ask  ",
          "audio  ",
          "transcript  ",
          "transmission  ",
          "written  ",
          "permitted  ",
          "text  ",
          "consent  ",
          "any  ",
          "recording  "
         ],
         "yaxis": "y8"
        },
        {
         "marker": {
          "color": "#0072B2"
         },
         "orientation": "h",
         "type": "bar",
         "x": [
          0.014703256797283563,
          0.021445520371791024,
          0.23209333250095351,
          0.30881865448426776,
          0.34197057237901585,
          0.3430647667692794,
          0.36942336968357053,
          0.39730189762708445,
          0.4286179325796416,
          0.45973605381696375
         ],
         "xaxis": "x9",
         "y": [
          "casket  ",
          "coo  ",
          "hillenbrand  ",
          "president  ",
          "amp  ",
          "joe  ",
          "ceo  ",
          "inc  ",
          "raver  ",
          "director  "
         ],
         "yaxis": "y9"
        },
        {
         "marker": {
          "color": "#CC79A7"
         },
         "orientation": "h",
         "type": "bar",
         "x": [
          0.05875285333915223,
          0.05892220299889322,
          0.05998601630362,
          0.06115226191239145,
          0.06205751981316081,
          0.06274764113819446,
          0.0651196168450582,
          0.06655958218187721,
          0.06837998799781857,
          0.11475660630733545
         ],
         "xaxis": "x10",
         "y": [
          "subject  ",
          "provisions  ",
          "materially  ",
          "safe  ",
          "forward  ",
          "harbor  ",
          "laws  ",
          "looking  ",
          "securities  ",
          "statements  "
         ],
         "yaxis": "y10"
        }
       ],
       "layout": {
        "annotations": [
         {
          "font": {
           "size": 16
          },
          "showarrow": false,
          "text": "Topic 0",
          "x": 0.0875,
          "xanchor": "center",
          "xref": "paper",
          "y": 1,
          "yanchor": "bottom",
          "yref": "paper"
         },
         {
          "font": {
           "size": 16
          },
          "showarrow": false,
          "text": "Topic 1",
          "x": 0.36250000000000004,
          "xanchor": "center",
          "xref": "paper",
          "y": 1,
          "yanchor": "bottom",
          "yref": "paper"
         },
         {
          "font": {
           "size": 16
          },
          "showarrow": false,
          "text": "Topic 2",
          "x": 0.6375000000000001,
          "xanchor": "center",
          "xref": "paper",
          "y": 1,
          "yanchor": "bottom",
          "yref": "paper"
         },
         {
          "font": {
           "size": 16
          },
          "showarrow": false,
          "text": "Topic 3",
          "x": 0.9125,
          "xanchor": "center",
          "xref": "paper",
          "y": 1,
          "yanchor": "bottom",
          "yref": "paper"
         },
         {
          "font": {
           "size": 16
          },
          "showarrow": false,
          "text": "Topic 4",
          "x": 0.0875,
          "xanchor": "center",
          "xref": "paper",
          "y": 0.6222222222222222,
          "yanchor": "bottom",
          "yref": "paper"
         },
         {
          "font": {
           "size": 16
          },
          "showarrow": false,
          "text": "Topic 5",
          "x": 0.36250000000000004,
          "xanchor": "center",
          "xref": "paper",
          "y": 0.6222222222222222,
          "yanchor": "bottom",
          "yref": "paper"
         },
         {
          "font": {
           "size": 16
          },
          "showarrow": false,
          "text": "Topic 6",
          "x": 0.6375000000000001,
          "xanchor": "center",
          "xref": "paper",
          "y": 0.6222222222222222,
          "yanchor": "bottom",
          "yref": "paper"
         },
         {
          "font": {
           "size": 16
          },
          "showarrow": false,
          "text": "Topic 7",
          "x": 0.9125,
          "xanchor": "center",
          "xref": "paper",
          "y": 0.6222222222222222,
          "yanchor": "bottom",
          "yref": "paper"
         },
         {
          "font": {
           "size": 16
          },
          "showarrow": false,
          "text": "Topic 8",
          "x": 0.0875,
          "xanchor": "center",
          "xref": "paper",
          "y": 0.24444444444444446,
          "yanchor": "bottom",
          "yref": "paper"
         },
         {
          "font": {
           "size": 16
          },
          "showarrow": false,
          "text": "Topic 9",
          "x": 0.36250000000000004,
          "xanchor": "center",
          "xref": "paper",
          "y": 0.24444444444444446,
          "yanchor": "bottom",
          "yref": "paper"
         }
        ],
        "height": 1200,
        "hoverlabel": {
         "bgcolor": "white",
         "font": {
          "family": "Rockwell",
          "size": 16
         }
        },
        "showlegend": false,
        "template": {
         "data": {
          "bar": [
           {
            "error_x": {
             "color": "#2a3f5f"
            },
            "error_y": {
             "color": "#2a3f5f"
            },
            "marker": {
             "line": {
              "color": "white",
              "width": 0.5
             },
             "pattern": {
              "fillmode": "overlay",
              "size": 10,
              "solidity": 0.2
             }
            },
            "type": "bar"
           }
          ],
          "barpolar": [
           {
            "marker": {
             "line": {
              "color": "white",
              "width": 0.5
             },
             "pattern": {
              "fillmode": "overlay",
              "size": 10,
              "solidity": 0.2
             }
            },
            "type": "barpolar"
           }
          ],
          "carpet": [
           {
            "aaxis": {
             "endlinecolor": "#2a3f5f",
             "gridcolor": "#C8D4E3",
             "linecolor": "#C8D4E3",
             "minorgridcolor": "#C8D4E3",
             "startlinecolor": "#2a3f5f"
            },
            "baxis": {
             "endlinecolor": "#2a3f5f",
             "gridcolor": "#C8D4E3",
             "linecolor": "#C8D4E3",
             "minorgridcolor": "#C8D4E3",
             "startlinecolor": "#2a3f5f"
            },
            "type": "carpet"
           }
          ],
          "choropleth": [
           {
            "colorbar": {
             "outlinewidth": 0,
             "ticks": ""
            },
            "type": "choropleth"
           }
          ],
          "contour": [
           {
            "colorbar": {
             "outlinewidth": 0,
             "ticks": ""
            },
            "colorscale": [
             [
              0,
              "#0d0887"
             ],
             [
              0.1111111111111111,
              "#46039f"
             ],
             [
              0.2222222222222222,
              "#7201a8"
             ],
             [
              0.3333333333333333,
              "#9c179e"
             ],
             [
              0.4444444444444444,
              "#bd3786"
             ],
             [
              0.5555555555555556,
              "#d8576b"
             ],
             [
              0.6666666666666666,
              "#ed7953"
             ],
             [
              0.7777777777777778,
              "#fb9f3a"
             ],
             [
              0.8888888888888888,
              "#fdca26"
             ],
             [
              1,
              "#f0f921"
             ]
            ],
            "type": "contour"
           }
          ],
          "contourcarpet": [
           {
            "colorbar": {
             "outlinewidth": 0,
             "ticks": ""
            },
            "type": "contourcarpet"
           }
          ],
          "heatmap": [
           {
            "colorbar": {
             "outlinewidth": 0,
             "ticks": ""
            },
            "colorscale": [
             [
              0,
              "#0d0887"
             ],
             [
              0.1111111111111111,
              "#46039f"
             ],
             [
              0.2222222222222222,
              "#7201a8"
             ],
             [
              0.3333333333333333,
              "#9c179e"
             ],
             [
              0.4444444444444444,
              "#bd3786"
             ],
             [
              0.5555555555555556,
              "#d8576b"
             ],
             [
              0.6666666666666666,
              "#ed7953"
             ],
             [
              0.7777777777777778,
              "#fb9f3a"
             ],
             [
              0.8888888888888888,
              "#fdca26"
             ],
             [
              1,
              "#f0f921"
             ]
            ],
            "type": "heatmap"
           }
          ],
          "heatmapgl": [
           {
            "colorbar": {
             "outlinewidth": 0,
             "ticks": ""
            },
            "colorscale": [
             [
              0,
              "#0d0887"
             ],
             [
              0.1111111111111111,
              "#46039f"
             ],
             [
              0.2222222222222222,
              "#7201a8"
             ],
             [
              0.3333333333333333,
              "#9c179e"
             ],
             [
              0.4444444444444444,
              "#bd3786"
             ],
             [
              0.5555555555555556,
              "#d8576b"
             ],
             [
              0.6666666666666666,
              "#ed7953"
             ],
             [
              0.7777777777777778,
              "#fb9f3a"
             ],
             [
              0.8888888888888888,
              "#fdca26"
             ],
             [
              1,
              "#f0f921"
             ]
            ],
            "type": "heatmapgl"
           }
          ],
          "histogram": [
           {
            "marker": {
             "pattern": {
              "fillmode": "overlay",
              "size": 10,
              "solidity": 0.2
             }
            },
            "type": "histogram"
           }
          ],
          "histogram2d": [
           {
            "colorbar": {
             "outlinewidth": 0,
             "ticks": ""
            },
            "colorscale": [
             [
              0,
              "#0d0887"
             ],
             [
              0.1111111111111111,
              "#46039f"
             ],
             [
              0.2222222222222222,
              "#7201a8"
             ],
             [
              0.3333333333333333,
              "#9c179e"
             ],
             [
              0.4444444444444444,
              "#bd3786"
             ],
             [
              0.5555555555555556,
              "#d8576b"
             ],
             [
              0.6666666666666666,
              "#ed7953"
             ],
             [
              0.7777777777777778,
              "#fb9f3a"
             ],
             [
              0.8888888888888888,
              "#fdca26"
             ],
             [
              1,
              "#f0f921"
             ]
            ],
            "type": "histogram2d"
           }
          ],
          "histogram2dcontour": [
           {
            "colorbar": {
             "outlinewidth": 0,
             "ticks": ""
            },
            "colorscale": [
             [
              0,
              "#0d0887"
             ],
             [
              0.1111111111111111,
              "#46039f"
             ],
             [
              0.2222222222222222,
              "#7201a8"
             ],
             [
              0.3333333333333333,
              "#9c179e"
             ],
             [
              0.4444444444444444,
              "#bd3786"
             ],
             [
              0.5555555555555556,
              "#d8576b"
             ],
             [
              0.6666666666666666,
              "#ed7953"
             ],
             [
              0.7777777777777778,
              "#fb9f3a"
             ],
             [
              0.8888888888888888,
              "#fdca26"
             ],
             [
              1,
              "#f0f921"
             ]
            ],
            "type": "histogram2dcontour"
           }
          ],
          "mesh3d": [
           {
            "colorbar": {
             "outlinewidth": 0,
             "ticks": ""
            },
            "type": "mesh3d"
           }
          ],
          "parcoords": [
           {
            "line": {
             "colorbar": {
              "outlinewidth": 0,
              "ticks": ""
             }
            },
            "type": "parcoords"
           }
          ],
          "pie": [
           {
            "automargin": true,
            "type": "pie"
           }
          ],
          "scatter": [
           {
            "fillpattern": {
             "fillmode": "overlay",
             "size": 10,
             "solidity": 0.2
            },
            "type": "scatter"
           }
          ],
          "scatter3d": [
           {
            "line": {
             "colorbar": {
              "outlinewidth": 0,
              "ticks": ""
             }
            },
            "marker": {
             "colorbar": {
              "outlinewidth": 0,
              "ticks": ""
             }
            },
            "type": "scatter3d"
           }
          ],
          "scattercarpet": [
           {
            "marker": {
             "colorbar": {
              "outlinewidth": 0,
              "ticks": ""
             }
            },
            "type": "scattercarpet"
           }
          ],
          "scattergeo": [
           {
            "marker": {
             "colorbar": {
              "outlinewidth": 0,
              "ticks": ""
             }
            },
            "type": "scattergeo"
           }
          ],
          "scattergl": [
           {
            "marker": {
             "colorbar": {
              "outlinewidth": 0,
              "ticks": ""
             }
            },
            "type": "scattergl"
           }
          ],
          "scattermapbox": [
           {
            "marker": {
             "colorbar": {
              "outlinewidth": 0,
              "ticks": ""
             }
            },
            "type": "scattermapbox"
           }
          ],
          "scatterpolar": [
           {
            "marker": {
             "colorbar": {
              "outlinewidth": 0,
              "ticks": ""
             }
            },
            "type": "scatterpolar"
           }
          ],
          "scatterpolargl": [
           {
            "marker": {
             "colorbar": {
              "outlinewidth": 0,
              "ticks": ""
             }
            },
            "type": "scatterpolargl"
           }
          ],
          "scatterternary": [
           {
            "marker": {
             "colorbar": {
              "outlinewidth": 0,
              "ticks": ""
             }
            },
            "type": "scatterternary"
           }
          ],
          "surface": [
           {
            "colorbar": {
             "outlinewidth": 0,
             "ticks": ""
            },
            "colorscale": [
             [
              0,
              "#0d0887"
             ],
             [
              0.1111111111111111,
              "#46039f"
             ],
             [
              0.2222222222222222,
              "#7201a8"
             ],
             [
              0.3333333333333333,
              "#9c179e"
             ],
             [
              0.4444444444444444,
              "#bd3786"
             ],
             [
              0.5555555555555556,
              "#d8576b"
             ],
             [
              0.6666666666666666,
              "#ed7953"
             ],
             [
              0.7777777777777778,
              "#fb9f3a"
             ],
             [
              0.8888888888888888,
              "#fdca26"
             ],
             [
              1,
              "#f0f921"
             ]
            ],
            "type": "surface"
           }
          ],
          "table": [
           {
            "cells": {
             "fill": {
              "color": "#EBF0F8"
             },
             "line": {
              "color": "white"
             }
            },
            "header": {
             "fill": {
              "color": "#C8D4E3"
             },
             "line": {
              "color": "white"
             }
            },
            "type": "table"
           }
          ]
         },
         "layout": {
          "annotationdefaults": {
           "arrowcolor": "#2a3f5f",
           "arrowhead": 0,
           "arrowwidth": 1
          },
          "autotypenumbers": "strict",
          "coloraxis": {
           "colorbar": {
            "outlinewidth": 0,
            "ticks": ""
           }
          },
          "colorscale": {
           "diverging": [
            [
             0,
             "#8e0152"
            ],
            [
             0.1,
             "#c51b7d"
            ],
            [
             0.2,
             "#de77ae"
            ],
            [
             0.3,
             "#f1b6da"
            ],
            [
             0.4,
             "#fde0ef"
            ],
            [
             0.5,
             "#f7f7f7"
            ],
            [
             0.6,
             "#e6f5d0"
            ],
            [
             0.7,
             "#b8e186"
            ],
            [
             0.8,
             "#7fbc41"
            ],
            [
             0.9,
             "#4d9221"
            ],
            [
             1,
             "#276419"
            ]
           ],
           "sequential": [
            [
             0,
             "#0d0887"
            ],
            [
             0.1111111111111111,
             "#46039f"
            ],
            [
             0.2222222222222222,
             "#7201a8"
            ],
            [
             0.3333333333333333,
             "#9c179e"
            ],
            [
             0.4444444444444444,
             "#bd3786"
            ],
            [
             0.5555555555555556,
             "#d8576b"
            ],
            [
             0.6666666666666666,
             "#ed7953"
            ],
            [
             0.7777777777777778,
             "#fb9f3a"
            ],
            [
             0.8888888888888888,
             "#fdca26"
            ],
            [
             1,
             "#f0f921"
            ]
           ],
           "sequentialminus": [
            [
             0,
             "#0d0887"
            ],
            [
             0.1111111111111111,
             "#46039f"
            ],
            [
             0.2222222222222222,
             "#7201a8"
            ],
            [
             0.3333333333333333,
             "#9c179e"
            ],
            [
             0.4444444444444444,
             "#bd3786"
            ],
            [
             0.5555555555555556,
             "#d8576b"
            ],
            [
             0.6666666666666666,
             "#ed7953"
            ],
            [
             0.7777777777777778,
             "#fb9f3a"
            ],
            [
             0.8888888888888888,
             "#fdca26"
            ],
            [
             1,
             "#f0f921"
            ]
           ]
          },
          "colorway": [
           "#636efa",
           "#EF553B",
           "#00cc96",
           "#ab63fa",
           "#FFA15A",
           "#19d3f3",
           "#FF6692",
           "#B6E880",
           "#FF97FF",
           "#FECB52"
          ],
          "font": {
           "color": "#2a3f5f"
          },
          "geo": {
           "bgcolor": "white",
           "lakecolor": "white",
           "landcolor": "white",
           "showlakes": true,
           "showland": true,
           "subunitcolor": "#C8D4E3"
          },
          "hoverlabel": {
           "align": "left"
          },
          "hovermode": "closest",
          "mapbox": {
           "style": "light"
          },
          "paper_bgcolor": "white",
          "plot_bgcolor": "white",
          "polar": {
           "angularaxis": {
            "gridcolor": "#EBF0F8",
            "linecolor": "#EBF0F8",
            "ticks": ""
           },
           "bgcolor": "white",
           "radialaxis": {
            "gridcolor": "#EBF0F8",
            "linecolor": "#EBF0F8",
            "ticks": ""
           }
          },
          "scene": {
           "xaxis": {
            "backgroundcolor": "white",
            "gridcolor": "#DFE8F3",
            "gridwidth": 2,
            "linecolor": "#EBF0F8",
            "showbackground": true,
            "ticks": "",
            "zerolinecolor": "#EBF0F8"
           },
           "yaxis": {
            "backgroundcolor": "white",
            "gridcolor": "#DFE8F3",
            "gridwidth": 2,
            "linecolor": "#EBF0F8",
            "showbackground": true,
            "ticks": "",
            "zerolinecolor": "#EBF0F8"
           },
           "zaxis": {
            "backgroundcolor": "white",
            "gridcolor": "#DFE8F3",
            "gridwidth": 2,
            "linecolor": "#EBF0F8",
            "showbackground": true,
            "ticks": "",
            "zerolinecolor": "#EBF0F8"
           }
          },
          "shapedefaults": {
           "line": {
            "color": "#2a3f5f"
           }
          },
          "ternary": {
           "aaxis": {
            "gridcolor": "#DFE8F3",
            "linecolor": "#A2B1C6",
            "ticks": ""
           },
           "baxis": {
            "gridcolor": "#DFE8F3",
            "linecolor": "#A2B1C6",
            "ticks": ""
           },
           "bgcolor": "white",
           "caxis": {
            "gridcolor": "#DFE8F3",
            "linecolor": "#A2B1C6",
            "ticks": ""
           }
          },
          "title": {
           "x": 0.05
          },
          "xaxis": {
           "automargin": true,
           "gridcolor": "#EBF0F8",
           "linecolor": "#EBF0F8",
           "ticks": "",
           "title": {
            "standoff": 15
           },
           "zerolinecolor": "#EBF0F8",
           "zerolinewidth": 2
          },
          "yaxis": {
           "automargin": true,
           "gridcolor": "#EBF0F8",
           "linecolor": "#EBF0F8",
           "ticks": "",
           "title": {
            "standoff": 15
           },
           "zerolinecolor": "#EBF0F8",
           "zerolinewidth": 2
          }
         }
        },
        "title": {
         "font": {
          "color": "Black",
          "size": 22
         },
         "text": "Topic Word Scores",
         "x": 0.5,
         "xanchor": "center",
         "yanchor": "top"
        },
        "width": 2000,
        "xaxis": {
         "anchor": "y",
         "domain": [
          0,
          0.175
         ],
         "showgrid": true
        },
        "xaxis10": {
         "anchor": "y10",
         "domain": [
          0.275,
          0.45
         ],
         "showgrid": true
        },
        "xaxis11": {
         "anchor": "y11",
         "domain": [
          0.55,
          0.7250000000000001
         ],
         "showgrid": true
        },
        "xaxis12": {
         "anchor": "y12",
         "domain": [
          0.825,
          1
         ],
         "showgrid": true
        },
        "xaxis2": {
         "anchor": "y2",
         "domain": [
          0.275,
          0.45
         ],
         "showgrid": true
        },
        "xaxis3": {
         "anchor": "y3",
         "domain": [
          0.55,
          0.7250000000000001
         ],
         "showgrid": true
        },
        "xaxis4": {
         "anchor": "y4",
         "domain": [
          0.825,
          1
         ],
         "showgrid": true
        },
        "xaxis5": {
         "anchor": "y5",
         "domain": [
          0,
          0.175
         ],
         "showgrid": true
        },
        "xaxis6": {
         "anchor": "y6",
         "domain": [
          0.275,
          0.45
         ],
         "showgrid": true
        },
        "xaxis7": {
         "anchor": "y7",
         "domain": [
          0.55,
          0.7250000000000001
         ],
         "showgrid": true
        },
        "xaxis8": {
         "anchor": "y8",
         "domain": [
          0.825,
          1
         ],
         "showgrid": true
        },
        "xaxis9": {
         "anchor": "y9",
         "domain": [
          0,
          0.175
         ],
         "showgrid": true
        },
        "yaxis": {
         "anchor": "x",
         "domain": [
          0.7555555555555555,
          1
         ],
         "showgrid": true
        },
        "yaxis10": {
         "anchor": "x10",
         "domain": [
          0,
          0.24444444444444446
         ],
         "showgrid": true
        },
        "yaxis11": {
         "anchor": "x11",
         "domain": [
          0,
          0.24444444444444446
         ],
         "showgrid": true
        },
        "yaxis12": {
         "anchor": "x12",
         "domain": [
          0,
          0.24444444444444446
         ],
         "showgrid": true
        },
        "yaxis2": {
         "anchor": "x2",
         "domain": [
          0.7555555555555555,
          1
         ],
         "showgrid": true
        },
        "yaxis3": {
         "anchor": "x3",
         "domain": [
          0.7555555555555555,
          1
         ],
         "showgrid": true
        },
        "yaxis4": {
         "anchor": "x4",
         "domain": [
          0.7555555555555555,
          1
         ],
         "showgrid": true
        },
        "yaxis5": {
         "anchor": "x5",
         "domain": [
          0.37777777777777777,
          0.6222222222222222
         ],
         "showgrid": true
        },
        "yaxis6": {
         "anchor": "x6",
         "domain": [
          0.37777777777777777,
          0.6222222222222222
         ],
         "showgrid": true
        },
        "yaxis7": {
         "anchor": "x7",
         "domain": [
          0.37777777777777777,
          0.6222222222222222
         ],
         "showgrid": true
        },
        "yaxis8": {
         "anchor": "x8",
         "domain": [
          0.37777777777777777,
          0.6222222222222222
         ],
         "showgrid": true
        },
        "yaxis9": {
         "anchor": "x9",
         "domain": [
          0,
          0.24444444444444446
         ],
         "showgrid": true
        }
       }
      }
     },
     "metadata": {},
     "output_type": "display_data"
    }
   ],
   "source": [
    "topic_model.visualize_barchart(top_n_topics=10,n_words=10,height=400, width=500).show()"
   ]
  },
  {
   "cell_type": "code",
   "execution_count": 60,
   "metadata": {},
   "outputs": [
    {
     "data": {
      "application/vnd.plotly.v1+json": {
       "config": {
        "plotlyServerURL": "https://plot.ly"
       },
       "data": [
        {
         "hoverinfo": "text",
         "marker": {
          "color": "rgb(61,153,112)"
         },
         "mode": "lines",
         "type": "scatter",
         "x": [
          0,
          0.2975204801566643,
          0.2975204801566643,
          0
         ],
         "xaxis": "x",
         "y": [
          -25,
          -25,
          -35,
          -35
         ],
         "yaxis": "y"
        },
        {
         "hoverinfo": "text",
         "marker": {
          "color": "rgb(61,153,112)"
         },
         "mode": "lines",
         "type": "scatter",
         "x": [
          0,
          0.5940356394888536,
          0.5940356394888536,
          0.2975204801566643
         ],
         "xaxis": "x",
         "y": [
          -15,
          -15,
          -30,
          -30
         ],
         "yaxis": "y"
        },
        {
         "hoverinfo": "text",
         "marker": {
          "color": "rgb(61,153,112)"
         },
         "mode": "lines",
         "type": "scatter",
         "x": [
          0.5940356394888536,
          0.7510457080699229,
          0.7510457080699229,
          0
         ],
         "xaxis": "x",
         "y": [
          -22.5,
          -22.5,
          -45,
          -45
         ],
         "yaxis": "y"
        },
        {
         "hoverinfo": "text",
         "marker": {
          "color": "rgb(0,116,217)"
         },
         "mode": "lines",
         "type": "scatter",
         "x": [
          0,
          1.0113121794387685,
          1.0113121794387685,
          0.7510457080699229
         ],
         "xaxis": "x",
         "y": [
          -5,
          -5,
          -33.75,
          -33.75
         ],
         "yaxis": "y"
        },
        {
         "hoverinfo": "text",
         "marker": {
          "color": "rgb(255,65,54)"
         },
         "mode": "lines",
         "type": "scatter",
         "x": [
          0,
          0.7181688853344577,
          0.7181688853344577,
          0
         ],
         "xaxis": "x",
         "y": [
          -65,
          -65,
          -75,
          -75
         ],
         "yaxis": "y"
        },
        {
         "hoverinfo": "text",
         "marker": {
          "color": "rgb(255,65,54)"
         },
         "mode": "lines",
         "type": "scatter",
         "x": [
          0,
          0.8283353917651937,
          0.8283353917651937,
          0.7181688853344577
         ],
         "xaxis": "x",
         "y": [
          -55,
          -55,
          -70,
          -70
         ],
         "yaxis": "y"
        },
        {
         "hoverinfo": "text",
         "marker": {
          "color": "rgb(0,116,217)"
         },
         "mode": "lines",
         "type": "scatter",
         "x": [
          1.0113121794387685,
          1.426704252180506,
          1.426704252180506,
          0.8283353917651937
         ],
         "xaxis": "x",
         "y": [
          -19.375,
          -19.375,
          -62.5,
          -62.5
         ],
         "yaxis": "y"
        },
        {
         "hoverinfo": "text",
         "marker": {
          "color": "rgb(35,205,205)"
         },
         "mode": "lines",
         "type": "scatter",
         "x": [
          0,
          0.46222094302380756,
          0.46222094302380756,
          0
         ],
         "xaxis": "x",
         "y": [
          -95,
          -95,
          -105,
          -105
         ],
         "yaxis": "y"
        },
        {
         "hoverinfo": "text",
         "marker": {
          "color": "rgb(35,205,205)"
         },
         "mode": "lines",
         "type": "scatter",
         "x": [
          0,
          0.6530945731453377,
          0.6530945731453377,
          0.46222094302380756
         ],
         "xaxis": "x",
         "y": [
          -85,
          -85,
          -100,
          -100
         ],
         "yaxis": "y"
        },
        {
         "hoverinfo": "text",
         "marker": {
          "color": "rgb(0,116,217)"
         },
         "mode": "lines",
         "type": "scatter",
         "x": [
          1.426704252180506,
          1.4492098647545628,
          1.4492098647545628,
          0.6530945731453377
         ],
         "xaxis": "x",
         "y": [
          -40.9375,
          -40.9375,
          -92.5,
          -92.5
         ],
         "yaxis": "y"
        },
        {
         "hoverinfo": "text",
         "marker": {
          "color": "rgb(133,20,75)"
         },
         "mode": "lines",
         "type": "scatter",
         "x": [
          0,
          0.2547027471317237,
          0.2547027471317237,
          0
         ],
         "xaxis": "x",
         "y": [
          -125,
          -125,
          -135,
          -135
         ],
         "yaxis": "y"
        },
        {
         "hoverinfo": "text",
         "marker": {
          "color": "rgb(133,20,75)"
         },
         "mode": "lines",
         "type": "scatter",
         "x": [
          0,
          0.7120851901297314,
          0.7120851901297314,
          0.2547027471317237
         ],
         "xaxis": "x",
         "y": [
          -115,
          -115,
          -130,
          -130
         ],
         "yaxis": "y"
        },
        {
         "hoverinfo": "text",
         "marker": {
          "color": "rgb(255,220,0)"
         },
         "mode": "lines",
         "type": "scatter",
         "x": [
          0,
          0.4597245055919301,
          0.4597245055919301,
          0
         ],
         "xaxis": "x",
         "y": [
          -155,
          -155,
          -165,
          -165
         ],
         "yaxis": "y"
        },
        {
         "hoverinfo": "text",
         "marker": {
          "color": "rgb(255,220,0)"
         },
         "mode": "lines",
         "type": "scatter",
         "x": [
          0,
          0.7877026344096556,
          0.7877026344096556,
          0.4597245055919301
         ],
         "xaxis": "x",
         "y": [
          -145,
          -145,
          -160,
          -160
         ],
         "yaxis": "y"
        },
        {
         "hoverinfo": "text",
         "marker": {
          "color": "rgb(0,116,217)"
         },
         "mode": "lines",
         "type": "scatter",
         "x": [
          0.7120851901297314,
          1.234786048576748,
          1.234786048576748,
          0.7877026344096556
         ],
         "xaxis": "x",
         "y": [
          -122.5,
          -122.5,
          -152.5,
          -152.5
         ],
         "yaxis": "y"
        },
        {
         "hoverinfo": "text",
         "marker": {
          "color": "rgb(40,35,35)"
         },
         "mode": "lines",
         "type": "scatter",
         "x": [
          0,
          0.41472585751969726,
          0.41472585751969726,
          0
         ],
         "xaxis": "x",
         "y": [
          -185,
          -185,
          -195,
          -195
         ],
         "yaxis": "y"
        },
        {
         "hoverinfo": "text",
         "marker": {
          "color": "rgb(40,35,35)"
         },
         "mode": "lines",
         "type": "scatter",
         "x": [
          0,
          0.5912224642878936,
          0.5912224642878936,
          0.41472585751969726
         ],
         "xaxis": "x",
         "y": [
          -175,
          -175,
          -190,
          -190
         ],
         "yaxis": "y"
        },
        {
         "hoverinfo": "text",
         "marker": {
          "color": "rgb(61,153,112)"
         },
         "mode": "lines",
         "type": "scatter",
         "x": [
          0,
          0.5255428987015134,
          0.5255428987015134,
          0
         ],
         "xaxis": "x",
         "y": [
          -205,
          -205,
          -215,
          -215
         ],
         "yaxis": "y"
        },
        {
         "hoverinfo": "text",
         "marker": {
          "color": "rgb(61,153,112)"
         },
         "mode": "lines",
         "type": "scatter",
         "x": [
          0,
          0.30868915650350115,
          0.30868915650350115,
          0
         ],
         "xaxis": "x",
         "y": [
          -225,
          -225,
          -235,
          -235
         ],
         "yaxis": "y"
        },
        {
         "hoverinfo": "text",
         "marker": {
          "color": "rgb(61,153,112)"
         },
         "mode": "lines",
         "type": "scatter",
         "x": [
          0.5255428987015134,
          0.8852031678131695,
          0.8852031678131695,
          0.30868915650350115
         ],
         "xaxis": "x",
         "y": [
          -210,
          -210,
          -230,
          -230
         ],
         "yaxis": "y"
        },
        {
         "hoverinfo": "text",
         "marker": {
          "color": "rgb(0,116,217)"
         },
         "mode": "lines",
         "type": "scatter",
         "x": [
          0.5912224642878936,
          1.0982156398270564,
          1.0982156398270564,
          0.8852031678131695
         ],
         "xaxis": "x",
         "y": [
          -182.5,
          -182.5,
          -220,
          -220
         ],
         "yaxis": "y"
        },
        {
         "hoverinfo": "text",
         "marker": {
          "color": "rgb(0,116,217)"
         },
         "mode": "lines",
         "type": "scatter",
         "x": [
          1.234786048576748,
          1.3313706556113538,
          1.3313706556113538,
          1.0982156398270564
         ],
         "xaxis": "x",
         "y": [
          -137.5,
          -137.5,
          -201.25,
          -201.25
         ],
         "yaxis": "y"
        },
        {
         "hoverinfo": "text",
         "marker": {
          "color": "rgb(255,65,54)"
         },
         "mode": "lines",
         "type": "scatter",
         "x": [
          0,
          0.22863454727360133,
          0.22863454727360133,
          0
         ],
         "xaxis": "x",
         "y": [
          -255,
          -255,
          -265,
          -265
         ],
         "yaxis": "y"
        },
        {
         "hoverinfo": "text",
         "marker": {
          "color": "rgb(255,65,54)"
         },
         "mode": "lines",
         "type": "scatter",
         "x": [
          0,
          0.5944120198358015,
          0.5944120198358015,
          0.22863454727360133
         ],
         "xaxis": "x",
         "y": [
          -245,
          -245,
          -260,
          -260
         ],
         "yaxis": "y"
        },
        {
         "hoverinfo": "text",
         "marker": {
          "color": "rgb(255,65,54)"
         },
         "mode": "lines",
         "type": "scatter",
         "x": [
          0.5944120198358015,
          0.7805824160981485,
          0.7805824160981485,
          0
         ],
         "xaxis": "x",
         "y": [
          -252.5,
          -252.5,
          -275,
          -275
         ],
         "yaxis": "y"
        },
        {
         "hoverinfo": "text",
         "marker": {
          "color": "rgb(0,116,217)"
         },
         "mode": "lines",
         "type": "scatter",
         "x": [
          1.3313706556113538,
          1.4394220403856484,
          1.4394220403856484,
          0.7805824160981485
         ],
         "xaxis": "x",
         "y": [
          -169.375,
          -169.375,
          -263.75,
          -263.75
         ],
         "yaxis": "y"
        },
        {
         "hoverinfo": "text",
         "marker": {
          "color": "rgb(35,205,205)"
         },
         "mode": "lines",
         "type": "scatter",
         "x": [
          0,
          0.5334990693893753,
          0.5334990693893753,
          0
         ],
         "xaxis": "x",
         "y": [
          -295,
          -295,
          -305,
          -305
         ],
         "yaxis": "y"
        },
        {
         "hoverinfo": "text",
         "marker": {
          "color": "rgb(35,205,205)"
         },
         "mode": "lines",
         "type": "scatter",
         "x": [
          0,
          0.6847075991314912,
          0.6847075991314912,
          0.5334990693893753
         ],
         "xaxis": "x",
         "y": [
          -285,
          -285,
          -300,
          -300
         ],
         "yaxis": "y"
        },
        {
         "hoverinfo": "text",
         "marker": {
          "color": "rgb(35,205,205)"
         },
         "mode": "lines",
         "type": "scatter",
         "x": [
          0,
          0.19258443997351704,
          0.19258443997351704,
          0
         ],
         "xaxis": "x",
         "y": [
          -315,
          -315,
          -325,
          -325
         ],
         "yaxis": "y"
        },
        {
         "hoverinfo": "text",
         "marker": {
          "color": "rgb(35,205,205)"
         },
         "mode": "lines",
         "type": "scatter",
         "x": [
          0.6847075991314912,
          0.8967408596287123,
          0.8967408596287123,
          0.19258443997351704
         ],
         "xaxis": "x",
         "y": [
          -292.5,
          -292.5,
          -320,
          -320
         ],
         "yaxis": "y"
        },
        {
         "hoverinfo": "text",
         "marker": {
          "color": "rgb(0,116,217)"
         },
         "mode": "lines",
         "type": "scatter",
         "x": [
          1.4394220403856484,
          1.5099786638987884,
          1.5099786638987884,
          0.8967408596287123
         ],
         "xaxis": "x",
         "y": [
          -216.5625,
          -216.5625,
          -306.25,
          -306.25
         ],
         "yaxis": "y"
        },
        {
         "hoverinfo": "text",
         "marker": {
          "color": "rgb(0,116,217)"
         },
         "mode": "lines",
         "type": "scatter",
         "x": [
          1.4492098647545628,
          1.6067595405981718,
          1.6067595405981718,
          1.5099786638987884
         ],
         "xaxis": "x",
         "y": [
          -66.71875,
          -66.71875,
          -261.40625,
          -261.40625
         ],
         "yaxis": "y"
        },
        {
         "hoverinfo": "text",
         "marker": {
          "color": "rgb(61,153,112)"
         },
         "mode": "lines",
         "type": "scatter",
         "x": [
          0,
          0.5860337854579101,
          0.5860337854579101,
          0
         ],
         "xaxis": "x",
         "y": [
          -335,
          -335,
          -345,
          -345
         ],
         "yaxis": "y"
        },
        {
         "hoverinfo": "text",
         "marker": {
          "color": "rgb(255,65,54)"
         },
         "mode": "lines",
         "type": "scatter",
         "x": [
          0,
          0.25626017435860615,
          0.25626017435860615,
          0
         ],
         "xaxis": "x",
         "y": [
          -365,
          -365,
          -375,
          -375
         ],
         "yaxis": "y"
        },
        {
         "hoverinfo": "text",
         "marker": {
          "color": "rgb(255,65,54)"
         },
         "mode": "lines",
         "type": "scatter",
         "x": [
          0,
          0.35588363063428363,
          0.35588363063428363,
          0.25626017435860615
         ],
         "xaxis": "x",
         "y": [
          -355,
          -355,
          -370,
          -370
         ],
         "yaxis": "y"
        },
        {
         "hoverinfo": "text",
         "marker": {
          "color": "rgb(255,65,54)"
         },
         "mode": "lines",
         "type": "scatter",
         "x": [
          0.35588363063428363,
          0.7027329596879355,
          0.7027329596879355,
          0
         ],
         "xaxis": "x",
         "y": [
          -362.5,
          -362.5,
          -385,
          -385
         ],
         "yaxis": "y"
        },
        {
         "hoverinfo": "text",
         "marker": {
          "color": "rgb(0,116,217)"
         },
         "mode": "lines",
         "type": "scatter",
         "x": [
          0.5860337854579101,
          1.1684189773245637,
          1.1684189773245637,
          0.7027329596879355
         ],
         "xaxis": "x",
         "y": [
          -340,
          -340,
          -373.75,
          -373.75
         ],
         "yaxis": "y"
        },
        {
         "hoverinfo": "text",
         "marker": {
          "color": "rgb(35,205,205)"
         },
         "mode": "lines",
         "type": "scatter",
         "x": [
          0,
          0.17674455845576886,
          0.17674455845576886,
          0
         ],
         "xaxis": "x",
         "y": [
          -405,
          -405,
          -415,
          -415
         ],
         "yaxis": "y"
        },
        {
         "hoverinfo": "text",
         "marker": {
          "color": "rgb(35,205,205)"
         },
         "mode": "lines",
         "type": "scatter",
         "x": [
          0,
          0.5916735579997203,
          0.5916735579997203,
          0.17674455845576886
         ],
         "xaxis": "x",
         "y": [
          -395,
          -395,
          -410,
          -410
         ],
         "yaxis": "y"
        },
        {
         "hoverinfo": "text",
         "marker": {
          "color": "rgb(0,116,217)"
         },
         "mode": "lines",
         "type": "scatter",
         "x": [
          1.1684189773245637,
          1.3737860427369222,
          1.3737860427369222,
          0.5916735579997203
         ],
         "xaxis": "x",
         "y": [
          -356.875,
          -356.875,
          -402.5,
          -402.5
         ],
         "yaxis": "y"
        },
        {
         "hoverinfo": "text",
         "marker": {
          "color": "rgb(133,20,75)"
         },
         "mode": "lines",
         "type": "scatter",
         "x": [
          0,
          0.2744254186988322,
          0.2744254186988322,
          0
         ],
         "xaxis": "x",
         "y": [
          -435,
          -435,
          -445,
          -445
         ],
         "yaxis": "y"
        },
        {
         "hoverinfo": "text",
         "marker": {
          "color": "rgb(133,20,75)"
         },
         "mode": "lines",
         "type": "scatter",
         "x": [
          0,
          0.5703023773109337,
          0.5703023773109337,
          0.2744254186988322
         ],
         "xaxis": "x",
         "y": [
          -425,
          -425,
          -440,
          -440
         ],
         "yaxis": "y"
        },
        {
         "hoverinfo": "text",
         "marker": {
          "color": "rgb(255,220,0)"
         },
         "mode": "lines",
         "type": "scatter",
         "x": [
          0,
          0.0963818679260936,
          0.0963818679260936,
          0
         ],
         "xaxis": "x",
         "y": [
          -455,
          -455,
          -465,
          -465
         ],
         "yaxis": "y"
        },
        {
         "hoverinfo": "text",
         "marker": {
          "color": "rgb(255,220,0)"
         },
         "mode": "lines",
         "type": "scatter",
         "x": [
          0,
          0.03532056360418856,
          0.03532056360418856,
          0
         ],
         "xaxis": "x",
         "y": [
          -475,
          -475,
          -485,
          -485
         ],
         "yaxis": "y"
        },
        {
         "hoverinfo": "text",
         "marker": {
          "color": "rgb(255,220,0)"
         },
         "mode": "lines",
         "type": "scatter",
         "x": [
          0.0963818679260936,
          0.4083815826747384,
          0.4083815826747384,
          0.03532056360418856
         ],
         "xaxis": "x",
         "y": [
          -460,
          -460,
          -480,
          -480
         ],
         "yaxis": "y"
        },
        {
         "hoverinfo": "text",
         "marker": {
          "color": "rgb(0,116,217)"
         },
         "mode": "lines",
         "type": "scatter",
         "x": [
          0.5703023773109337,
          1.0796218916217946,
          1.0796218916217946,
          0.4083815826747384
         ],
         "xaxis": "x",
         "y": [
          -432.5,
          -432.5,
          -470,
          -470
         ],
         "yaxis": "y"
        },
        {
         "hoverinfo": "text",
         "marker": {
          "color": "rgb(0,116,217)"
         },
         "mode": "lines",
         "type": "scatter",
         "x": [
          1.3737860427369222,
          1.6951008114919095,
          1.6951008114919095,
          1.0796218916217946
         ],
         "xaxis": "x",
         "y": [
          -379.6875,
          -379.6875,
          -451.25,
          -451.25
         ],
         "yaxis": "y"
        },
        {
         "hoverinfo": "text",
         "marker": {
          "color": "rgb(0,116,217)"
         },
         "mode": "lines",
         "type": "scatter",
         "x": [
          1.6067595405981718,
          2.250818423977564,
          2.250818423977564,
          1.6951008114919095
         ],
         "xaxis": "x",
         "y": [
          -164.0625,
          -164.0625,
          -415.46875,
          -415.46875
         ],
         "yaxis": "y"
        }
       ],
       "layout": {
        "autosize": false,
        "height": 935,
        "hoverlabel": {
         "bgcolor": "white",
         "font": {
          "family": "Rockwell",
          "size": 16
         }
        },
        "hovermode": "closest",
        "plot_bgcolor": "#ECEFF1",
        "showlegend": false,
        "template": {
         "data": {
          "bar": [
           {
            "error_x": {
             "color": "#2a3f5f"
            },
            "error_y": {
             "color": "#2a3f5f"
            },
            "marker": {
             "line": {
              "color": "white",
              "width": 0.5
             },
             "pattern": {
              "fillmode": "overlay",
              "size": 10,
              "solidity": 0.2
             }
            },
            "type": "bar"
           }
          ],
          "barpolar": [
           {
            "marker": {
             "line": {
              "color": "white",
              "width": 0.5
             },
             "pattern": {
              "fillmode": "overlay",
              "size": 10,
              "solidity": 0.2
             }
            },
            "type": "barpolar"
           }
          ],
          "carpet": [
           {
            "aaxis": {
             "endlinecolor": "#2a3f5f",
             "gridcolor": "#C8D4E3",
             "linecolor": "#C8D4E3",
             "minorgridcolor": "#C8D4E3",
             "startlinecolor": "#2a3f5f"
            },
            "baxis": {
             "endlinecolor": "#2a3f5f",
             "gridcolor": "#C8D4E3",
             "linecolor": "#C8D4E3",
             "minorgridcolor": "#C8D4E3",
             "startlinecolor": "#2a3f5f"
            },
            "type": "carpet"
           }
          ],
          "choropleth": [
           {
            "colorbar": {
             "outlinewidth": 0,
             "ticks": ""
            },
            "type": "choropleth"
           }
          ],
          "contour": [
           {
            "colorbar": {
             "outlinewidth": 0,
             "ticks": ""
            },
            "colorscale": [
             [
              0,
              "#0d0887"
             ],
             [
              0.1111111111111111,
              "#46039f"
             ],
             [
              0.2222222222222222,
              "#7201a8"
             ],
             [
              0.3333333333333333,
              "#9c179e"
             ],
             [
              0.4444444444444444,
              "#bd3786"
             ],
             [
              0.5555555555555556,
              "#d8576b"
             ],
             [
              0.6666666666666666,
              "#ed7953"
             ],
             [
              0.7777777777777778,
              "#fb9f3a"
             ],
             [
              0.8888888888888888,
              "#fdca26"
             ],
             [
              1,
              "#f0f921"
             ]
            ],
            "type": "contour"
           }
          ],
          "contourcarpet": [
           {
            "colorbar": {
             "outlinewidth": 0,
             "ticks": ""
            },
            "type": "contourcarpet"
           }
          ],
          "heatmap": [
           {
            "colorbar": {
             "outlinewidth": 0,
             "ticks": ""
            },
            "colorscale": [
             [
              0,
              "#0d0887"
             ],
             [
              0.1111111111111111,
              "#46039f"
             ],
             [
              0.2222222222222222,
              "#7201a8"
             ],
             [
              0.3333333333333333,
              "#9c179e"
             ],
             [
              0.4444444444444444,
              "#bd3786"
             ],
             [
              0.5555555555555556,
              "#d8576b"
             ],
             [
              0.6666666666666666,
              "#ed7953"
             ],
             [
              0.7777777777777778,
              "#fb9f3a"
             ],
             [
              0.8888888888888888,
              "#fdca26"
             ],
             [
              1,
              "#f0f921"
             ]
            ],
            "type": "heatmap"
           }
          ],
          "heatmapgl": [
           {
            "colorbar": {
             "outlinewidth": 0,
             "ticks": ""
            },
            "colorscale": [
             [
              0,
              "#0d0887"
             ],
             [
              0.1111111111111111,
              "#46039f"
             ],
             [
              0.2222222222222222,
              "#7201a8"
             ],
             [
              0.3333333333333333,
              "#9c179e"
             ],
             [
              0.4444444444444444,
              "#bd3786"
             ],
             [
              0.5555555555555556,
              "#d8576b"
             ],
             [
              0.6666666666666666,
              "#ed7953"
             ],
             [
              0.7777777777777778,
              "#fb9f3a"
             ],
             [
              0.8888888888888888,
              "#fdca26"
             ],
             [
              1,
              "#f0f921"
             ]
            ],
            "type": "heatmapgl"
           }
          ],
          "histogram": [
           {
            "marker": {
             "pattern": {
              "fillmode": "overlay",
              "size": 10,
              "solidity": 0.2
             }
            },
            "type": "histogram"
           }
          ],
          "histogram2d": [
           {
            "colorbar": {
             "outlinewidth": 0,
             "ticks": ""
            },
            "colorscale": [
             [
              0,
              "#0d0887"
             ],
             [
              0.1111111111111111,
              "#46039f"
             ],
             [
              0.2222222222222222,
              "#7201a8"
             ],
             [
              0.3333333333333333,
              "#9c179e"
             ],
             [
              0.4444444444444444,
              "#bd3786"
             ],
             [
              0.5555555555555556,
              "#d8576b"
             ],
             [
              0.6666666666666666,
              "#ed7953"
             ],
             [
              0.7777777777777778,
              "#fb9f3a"
             ],
             [
              0.8888888888888888,
              "#fdca26"
             ],
             [
              1,
              "#f0f921"
             ]
            ],
            "type": "histogram2d"
           }
          ],
          "histogram2dcontour": [
           {
            "colorbar": {
             "outlinewidth": 0,
             "ticks": ""
            },
            "colorscale": [
             [
              0,
              "#0d0887"
             ],
             [
              0.1111111111111111,
              "#46039f"
             ],
             [
              0.2222222222222222,
              "#7201a8"
             ],
             [
              0.3333333333333333,
              "#9c179e"
             ],
             [
              0.4444444444444444,
              "#bd3786"
             ],
             [
              0.5555555555555556,
              "#d8576b"
             ],
             [
              0.6666666666666666,
              "#ed7953"
             ],
             [
              0.7777777777777778,
              "#fb9f3a"
             ],
             [
              0.8888888888888888,
              "#fdca26"
             ],
             [
              1,
              "#f0f921"
             ]
            ],
            "type": "histogram2dcontour"
           }
          ],
          "mesh3d": [
           {
            "colorbar": {
             "outlinewidth": 0,
             "ticks": ""
            },
            "type": "mesh3d"
           }
          ],
          "parcoords": [
           {
            "line": {
             "colorbar": {
              "outlinewidth": 0,
              "ticks": ""
             }
            },
            "type": "parcoords"
           }
          ],
          "pie": [
           {
            "automargin": true,
            "type": "pie"
           }
          ],
          "scatter": [
           {
            "fillpattern": {
             "fillmode": "overlay",
             "size": 10,
             "solidity": 0.2
            },
            "type": "scatter"
           }
          ],
          "scatter3d": [
           {
            "line": {
             "colorbar": {
              "outlinewidth": 0,
              "ticks": ""
             }
            },
            "marker": {
             "colorbar": {
              "outlinewidth": 0,
              "ticks": ""
             }
            },
            "type": "scatter3d"
           }
          ],
          "scattercarpet": [
           {
            "marker": {
             "colorbar": {
              "outlinewidth": 0,
              "ticks": ""
             }
            },
            "type": "scattercarpet"
           }
          ],
          "scattergeo": [
           {
            "marker": {
             "colorbar": {
              "outlinewidth": 0,
              "ticks": ""
             }
            },
            "type": "scattergeo"
           }
          ],
          "scattergl": [
           {
            "marker": {
             "colorbar": {
              "outlinewidth": 0,
              "ticks": ""
             }
            },
            "type": "scattergl"
           }
          ],
          "scattermapbox": [
           {
            "marker": {
             "colorbar": {
              "outlinewidth": 0,
              "ticks": ""
             }
            },
            "type": "scattermapbox"
           }
          ],
          "scatterpolar": [
           {
            "marker": {
             "colorbar": {
              "outlinewidth": 0,
              "ticks": ""
             }
            },
            "type": "scatterpolar"
           }
          ],
          "scatterpolargl": [
           {
            "marker": {
             "colorbar": {
              "outlinewidth": 0,
              "ticks": ""
             }
            },
            "type": "scatterpolargl"
           }
          ],
          "scatterternary": [
           {
            "marker": {
             "colorbar": {
              "outlinewidth": 0,
              "ticks": ""
             }
            },
            "type": "scatterternary"
           }
          ],
          "surface": [
           {
            "colorbar": {
             "outlinewidth": 0,
             "ticks": ""
            },
            "colorscale": [
             [
              0,
              "#0d0887"
             ],
             [
              0.1111111111111111,
              "#46039f"
             ],
             [
              0.2222222222222222,
              "#7201a8"
             ],
             [
              0.3333333333333333,
              "#9c179e"
             ],
             [
              0.4444444444444444,
              "#bd3786"
             ],
             [
              0.5555555555555556,
              "#d8576b"
             ],
             [
              0.6666666666666666,
              "#ed7953"
             ],
             [
              0.7777777777777778,
              "#fb9f3a"
             ],
             [
              0.8888888888888888,
              "#fdca26"
             ],
             [
              1,
              "#f0f921"
             ]
            ],
            "type": "surface"
           }
          ],
          "table": [
           {
            "cells": {
             "fill": {
              "color": "#EBF0F8"
             },
             "line": {
              "color": "white"
             }
            },
            "header": {
             "fill": {
              "color": "#C8D4E3"
             },
             "line": {
              "color": "white"
             }
            },
            "type": "table"
           }
          ]
         },
         "layout": {
          "annotationdefaults": {
           "arrowcolor": "#2a3f5f",
           "arrowhead": 0,
           "arrowwidth": 1
          },
          "autotypenumbers": "strict",
          "coloraxis": {
           "colorbar": {
            "outlinewidth": 0,
            "ticks": ""
           }
          },
          "colorscale": {
           "diverging": [
            [
             0,
             "#8e0152"
            ],
            [
             0.1,
             "#c51b7d"
            ],
            [
             0.2,
             "#de77ae"
            ],
            [
             0.3,
             "#f1b6da"
            ],
            [
             0.4,
             "#fde0ef"
            ],
            [
             0.5,
             "#f7f7f7"
            ],
            [
             0.6,
             "#e6f5d0"
            ],
            [
             0.7,
             "#b8e186"
            ],
            [
             0.8,
             "#7fbc41"
            ],
            [
             0.9,
             "#4d9221"
            ],
            [
             1,
             "#276419"
            ]
           ],
           "sequential": [
            [
             0,
             "#0d0887"
            ],
            [
             0.1111111111111111,
             "#46039f"
            ],
            [
             0.2222222222222222,
             "#7201a8"
            ],
            [
             0.3333333333333333,
             "#9c179e"
            ],
            [
             0.4444444444444444,
             "#bd3786"
            ],
            [
             0.5555555555555556,
             "#d8576b"
            ],
            [
             0.6666666666666666,
             "#ed7953"
            ],
            [
             0.7777777777777778,
             "#fb9f3a"
            ],
            [
             0.8888888888888888,
             "#fdca26"
            ],
            [
             1,
             "#f0f921"
            ]
           ],
           "sequentialminus": [
            [
             0,
             "#0d0887"
            ],
            [
             0.1111111111111111,
             "#46039f"
            ],
            [
             0.2222222222222222,
             "#7201a8"
            ],
            [
             0.3333333333333333,
             "#9c179e"
            ],
            [
             0.4444444444444444,
             "#bd3786"
            ],
            [
             0.5555555555555556,
             "#d8576b"
            ],
            [
             0.6666666666666666,
             "#ed7953"
            ],
            [
             0.7777777777777778,
             "#fb9f3a"
            ],
            [
             0.8888888888888888,
             "#fdca26"
            ],
            [
             1,
             "#f0f921"
            ]
           ]
          },
          "colorway": [
           "#636efa",
           "#EF553B",
           "#00cc96",
           "#ab63fa",
           "#FFA15A",
           "#19d3f3",
           "#FF6692",
           "#B6E880",
           "#FF97FF",
           "#FECB52"
          ],
          "font": {
           "color": "#2a3f5f"
          },
          "geo": {
           "bgcolor": "white",
           "lakecolor": "white",
           "landcolor": "white",
           "showlakes": true,
           "showland": true,
           "subunitcolor": "#C8D4E3"
          },
          "hoverlabel": {
           "align": "left"
          },
          "hovermode": "closest",
          "mapbox": {
           "style": "light"
          },
          "paper_bgcolor": "white",
          "plot_bgcolor": "white",
          "polar": {
           "angularaxis": {
            "gridcolor": "#EBF0F8",
            "linecolor": "#EBF0F8",
            "ticks": ""
           },
           "bgcolor": "white",
           "radialaxis": {
            "gridcolor": "#EBF0F8",
            "linecolor": "#EBF0F8",
            "ticks": ""
           }
          },
          "scene": {
           "xaxis": {
            "backgroundcolor": "white",
            "gridcolor": "#DFE8F3",
            "gridwidth": 2,
            "linecolor": "#EBF0F8",
            "showbackground": true,
            "ticks": "",
            "zerolinecolor": "#EBF0F8"
           },
           "yaxis": {
            "backgroundcolor": "white",
            "gridcolor": "#DFE8F3",
            "gridwidth": 2,
            "linecolor": "#EBF0F8",
            "showbackground": true,
            "ticks": "",
            "zerolinecolor": "#EBF0F8"
           },
           "zaxis": {
            "backgroundcolor": "white",
            "gridcolor": "#DFE8F3",
            "gridwidth": 2,
            "linecolor": "#EBF0F8",
            "showbackground": true,
            "ticks": "",
            "zerolinecolor": "#EBF0F8"
           }
          },
          "shapedefaults": {
           "line": {
            "color": "#2a3f5f"
           }
          },
          "ternary": {
           "aaxis": {
            "gridcolor": "#DFE8F3",
            "linecolor": "#A2B1C6",
            "ticks": ""
           },
           "baxis": {
            "gridcolor": "#DFE8F3",
            "linecolor": "#A2B1C6",
            "ticks": ""
           },
           "bgcolor": "white",
           "caxis": {
            "gridcolor": "#DFE8F3",
            "linecolor": "#A2B1C6",
            "ticks": ""
           }
          },
          "title": {
           "x": 0.05
          },
          "xaxis": {
           "automargin": true,
           "gridcolor": "#EBF0F8",
           "linecolor": "#EBF0F8",
           "ticks": "",
           "title": {
            "standoff": 15
           },
           "zerolinecolor": "#EBF0F8",
           "zerolinewidth": 2
          },
          "yaxis": {
           "automargin": true,
           "gridcolor": "#EBF0F8",
           "linecolor": "#EBF0F8",
           "ticks": "",
           "title": {
            "standoff": 15
           },
           "zerolinecolor": "#EBF0F8",
           "zerolinewidth": 2
          }
         }
        },
        "title": {
         "font": {
          "color": "Black",
          "size": 22
         },
         "text": "<b>Hierarchical Clustering</b>",
         "x": 0.5,
         "xanchor": "center",
         "yanchor": "top"
        },
        "width": 1000,
        "xaxis": {
         "mirror": "allticks",
         "rangemode": "tozero",
         "showgrid": false,
         "showline": true,
         "showticklabels": true,
         "ticks": "outside",
         "type": "linear",
         "zeroline": false
        },
        "yaxis": {
         "mirror": "allticks",
         "range": [
          -490,
          0
         ],
         "rangemode": "tozero",
         "showgrid": false,
         "showline": true,
         "showticklabels": true,
         "tickmode": "array",
         "ticks": "outside",
         "ticktext": [
          "26_operator_unidentified_119",
          "38_your_participation_happy",
          "12_ready_open_questions",
          "27_ready_open_joined",
          "48_questions_considerations...",
          "46_comes_question_next",
          "10_analyst_suisse_klein",
          "31_warburg_ubs_analyst",
          "33_morning_good_thank",
          "43_thank_chuck_thanks",
          "35_thank_great_much",
          "7_recording_any_consent",
          "28_recording_or_any",
          "6_replay_internationally_mi...",
          "5_conference_ladies_gentlemen",
          "11_relations_investor_go",
          "39_raver_mr_pleasure",
          "34_morning_chief_officer",
          "24_officer_chief_lucchese",
          "30_joined_call_joining",
          "0_the_in_to",
          "1_then_will_ll",
          "25_ken_call_prepared",
          "21_me_if_please",
          "44_uncertainties_risks_stat...",
          "18_statements_actual_measures",
          "9_statements_securities_loo...",
          "15_measures_gaap_non",
          "16_kristina_detail_turn",
          "17_turn_joe_call",
          "22_turn_now_chuck",
          "47_concluding_his_back",
          "13_concluding_ken_his",
          "42_vp_lanning_ir",
          "41_ir_gordon_chris",
          "8_director_raver_inc",
          "20_ceo_inc_president",
          "2_camp_inc_ceo",
          "40_ken_camp_pleasure",
          "32_cindy_lucchese_cfo",
          "29_cfo_lucchese_inc",
          "37_svp_cfo_inc",
          "36_hinrichs_cfo_chuck",
          "3_corporation_smurfit_stone",
          "4_corporation_container_stone",
          "45_chairman_corporation_moore",
          "23_corporation_moore_chairman",
          "19_moore_pat_ceo",
          "14_moore_pat_ceo"
         ],
         "tickvals": [
          -5,
          -15,
          -25,
          -35,
          -45,
          -55,
          -65,
          -75,
          -85,
          -95,
          -105,
          -115,
          -125,
          -135,
          -145,
          -155,
          -165,
          -175,
          -185,
          -195,
          -205,
          -215,
          -225,
          -235,
          -245,
          -255,
          -265,
          -275,
          -285,
          -295,
          -305,
          -315,
          -325,
          -335,
          -345,
          -355,
          -365,
          -375,
          -385,
          -395,
          -405,
          -415,
          -425,
          -435,
          -445,
          -455,
          -465,
          -475,
          -485
         ],
         "type": "linear",
         "zeroline": false
        }
       }
      }
     },
     "metadata": {},
     "output_type": "display_data"
    }
   ],
   "source": [
    "topic_model.visualize_hierarchy().show()"
   ]
  },
  {
   "cell_type": "code",
   "execution_count": 61,
   "metadata": {},
   "outputs": [
    {
     "data": {
      "application/vnd.plotly.v1+json": {
       "config": {
        "plotlyServerURL": "https://plot.ly"
       },
       "data": [
        {
         "coloraxis": "coloraxis",
         "hovertemplate": "x: %{x}<br>y: %{y}<br>Similarity Score: %{z}<extra></extra>",
         "name": "0",
         "type": "heatmap",
         "x": [
          "0_the_in_to",
          "1_then_will_ll",
          "2_camp_inc_ceo",
          "3_corporation_smurfit_stone",
          "4_corporation_container_stone",
          "5_conference_ladies_gentlemen",
          "6_replay_internationally_mi...",
          "7_recording_any_consent",
          "8_director_raver_inc",
          "9_statements_securities_loo...",
          "10_analyst_suisse_klein",
          "11_relations_investor_go",
          "12_ready_open_questions",
          "13_concluding_ken_his",
          "14_moore_pat_ceo",
          "15_measures_gaap_non",
          "16_kristina_detail_turn",
          "17_turn_joe_call",
          "18_statements_actual_measures",
          "19_moore_pat_ceo",
          "20_ceo_inc_president",
          "21_me_if_please",
          "22_turn_now_chuck",
          "23_corporation_moore_chairman",
          "24_officer_chief_lucchese",
          "25_ken_call_prepared",
          "26_operator_unidentified_119",
          "27_ready_open_joined",
          "28_recording_or_any",
          "29_cfo_lucchese_inc",
          "30_joined_call_joining",
          "31_warburg_ubs_analyst",
          "32_cindy_lucchese_cfo",
          "33_morning_good_thank",
          "34_morning_chief_officer",
          "35_thank_great_much",
          "36_hinrichs_cfo_chuck",
          "37_svp_cfo_inc",
          "38_your_participation_happy",
          "39_raver_mr_pleasure",
          "40_ken_camp_pleasure",
          "41_ir_gordon_chris",
          "42_vp_lanning_ir",
          "43_thank_chuck_thanks",
          "44_uncertainties_risks_stat...",
          "45_chairman_corporation_moore",
          "46_comes_question_next",
          "47_concluding_his_back",
          "48_questions_considerations..."
         ],
         "xaxis": "x",
         "y": [
          "0_the_in_to",
          "1_then_will_ll",
          "2_camp_inc_ceo",
          "3_corporation_smurfit_stone",
          "4_corporation_container_stone",
          "5_conference_ladies_gentlemen",
          "6_replay_internationally_mi...",
          "7_recording_any_consent",
          "8_director_raver_inc",
          "9_statements_securities_loo...",
          "10_analyst_suisse_klein",
          "11_relations_investor_go",
          "12_ready_open_questions",
          "13_concluding_ken_his",
          "14_moore_pat_ceo",
          "15_measures_gaap_non",
          "16_kristina_detail_turn",
          "17_turn_joe_call",
          "18_statements_actual_measures",
          "19_moore_pat_ceo",
          "20_ceo_inc_president",
          "21_me_if_please",
          "22_turn_now_chuck",
          "23_corporation_moore_chairman",
          "24_officer_chief_lucchese",
          "25_ken_call_prepared",
          "26_operator_unidentified_119",
          "27_ready_open_joined",
          "28_recording_or_any",
          "29_cfo_lucchese_inc",
          "30_joined_call_joining",
          "31_warburg_ubs_analyst",
          "32_cindy_lucchese_cfo",
          "33_morning_good_thank",
          "34_morning_chief_officer",
          "35_thank_great_much",
          "36_hinrichs_cfo_chuck",
          "37_svp_cfo_inc",
          "38_your_participation_happy",
          "39_raver_mr_pleasure",
          "40_ken_camp_pleasure",
          "41_ir_gordon_chris",
          "42_vp_lanning_ir",
          "43_thank_chuck_thanks",
          "44_uncertainties_risks_stat...",
          "45_chairman_corporation_moore",
          "46_comes_question_next",
          "47_concluding_his_back",
          "48_questions_considerations..."
         ],
         "yaxis": "y",
         "z": [
          [
           1.0000001192092896,
           0.7380819320678711,
           0.5683290958404541,
           0.38215386867523193,
           0.393169105052948,
           0.6066297292709351,
           0.6107494235038757,
           0.5912543535232544,
           0.3987880051136017,
           0.667468249797821,
           0.37438803911209106,
           0.5179388523101807,
           0.5437861680984497,
           0.5288500785827637,
           0.5640817284584045,
           0.6872057914733887,
           0.6413934230804443,
           0.5408735871315002,
           0.7060166001319885,
           0.3885696530342102,
           0.39726412296295166,
           0.6133737564086914,
           0.6101464629173279,
           0.3965603709220886,
           0.6873226761817932,
           0.6514957547187805,
           0.279863566160202,
           0.6050735712051392,
           0.6171841025352478,
           0.5612403750419617,
           0.7039026021957397,
           0.3820125162601471,
           0.5812379121780396,
           0.5671161413192749,
           0.6891469955444336,
           0.4969724714756012,
           0.49730002880096436,
           0.40479576587677,
           0.6283259391784668,
           0.5537579655647278,
           0.6211057901382446,
           0.3716020882129669,
           0.37720009684562683,
           0.5127161145210266,
           0.6656103134155273,
           0.39513787627220154,
           0.4841838479042053,
           0.4911406636238098,
           0.660541296005249
          ],
          [
           0.7380819320678711,
           1.000000238418579,
           0.6463266015052795,
           0.3871443271636963,
           0.4190056025981903,
           0.7494034767150879,
           0.722407877445221,
           0.687098503112793,
           0.43164515495300293,
           0.719783365726471,
           0.4010656177997589,
           0.6788089871406555,
           0.7322449684143066,
           0.7844957709312439,
           0.6255495548248291,
           0.8556634187698364,
           0.912600040435791,
           0.7163220643997192,
           0.8564567565917969,
           0.40467938780784607,
           0.41494220495224,
           0.8361728191375732,
           0.8870216608047485,
           0.40238749980926514,
           0.8508224487304688,
           0.9474129676818848,
           0.3099513351917267,
           0.8411895036697388,
           0.7475361227989197,
           0.6538832783699036,
           0.9022060036659241,
           0.39017629623413086,
           0.7890122532844543,
           0.617935061454773,
           0.8480052351951599,
           0.44194719195365906,
           0.6164698600769043,
           0.4286545515060425,
           0.6847862005233765,
           0.7136165499687195,
           0.7996163964271545,
           0.39277297258377075,
           0.40674668550491333,
           0.5828462243080139,
           0.6913297772407532,
           0.4105531573295593,
           0.5872136354446411,
           0.7253943681716919,
           0.8252502679824829
          ],
          [
           0.5683290958404541,
           0.6463266015052795,
           1.0000003576278687,
           0.37571945786476135,
           0.42789602279663086,
           0.6177834272384644,
           0.5628483295440674,
           0.5856946110725403,
           0.43877288699150085,
           0.5140188932418823,
           0.40020307898521423,
           0.6127387881278992,
           0.5434765219688416,
           0.5703576803207397,
           0.882047176361084,
           0.5551341772079468,
           0.6019331216812134,
           0.5345128774642944,
           0.6261453628540039,
           0.40505048632621765,
           0.4219519793987274,
           0.6436535120010376,
           0.5826475620269775,
           0.41639479994773865,
           0.7274253964424133,
           0.6529777646064758,
           0.2652832865715027,
           0.6560450792312622,
           0.6206346750259399,
           0.9589107632637024,
           0.6620684862136841,
           0.38763564825057983,
           0.6346243619918823,
           0.5044814348220825,
           0.706386923789978,
           0.40729808807373047,
           0.8567569851875305,
           0.43314772844314575,
           0.5250746607780457,
           0.6506032943725586,
           0.6833726763725281,
           0.3881928026676178,
           0.4072396457195282,
           0.5182729363441467,
           0.5354493260383606,
           0.4271027445793152,
           0.5448956489562988,
           0.5312873721122742,
           0.6261277794837952
          ],
          [
           0.38215386867523193,
           0.3871443271636963,
           0.37571945786476135,
           1,
           0.9867503643035889,
           0.4121170938014984,
           0.4121425747871399,
           0.32472214102745056,
           0.9714505672454834,
           0.38875800371170044,
           0.9612444043159485,
           0.33678871393203735,
           0.3163868188858032,
           0.2936621904373169,
           0.36667007207870483,
           0.4041396975517273,
           0.3441833555698395,
           0.29611942172050476,
           0.4065176248550415,
           0.9853848218917847,
           0.9827794432640076,
           0.4053599238395691,
           0.3140195906162262,
           0.9847841262817383,
           0.3675404191017151,
           0.3703240156173706,
           0.8822540044784546,
           0.35132747888565063,
           0.3997410535812378,
           0.37274378538131714,
           0.3869533836841583,
           0.9575818181037903,
           0.29329314827919006,
           0.2523361146450043,
           0.38873207569122314,
           0.2509113550186157,
           0.385586142539978,
           0.9685026407241821,
           0.33997029066085815,
           0.34762659668922424,
           0.34822216629981995,
           0.9876242280006409,
           0.969948947429657,
           0.21050313115119934,
           0.4050995707511902,
           0.9803515672683716,
           0.3347088694572449,
           0.31113776564598083,
           0.3735288083553314
          ],
          [
           0.393169105052948,
           0.4190056025981903,
           0.42789602279663086,
           0.9867503643035889,
           1.0000001192092896,
           0.45063531398773193,
           0.44143152236938477,
           0.3562299609184265,
           0.9840003252029419,
           0.40811267495155334,
           0.976272702217102,
           0.3897458016872406,
           0.34477686882019043,
           0.3321422338485718,
           0.40966424345970154,
           0.4272605776786804,
           0.38082069158554077,
           0.3342994451522827,
           0.4384130537509918,
           0.9881687164306641,
           0.9898850917816162,
           0.44072696566581726,
           0.3524845838546753,
           0.9855186939239502,
           0.4090735614299774,
           0.408447802066803,
           0.890109658241272,
           0.38693469762802124,
           0.4347628355026245,
           0.41884422302246094,
           0.42270708084106445,
           0.9704614281654358,
           0.33721646666526794,
           0.2771592140197754,
           0.4259408116340637,
           0.26570481061935425,
           0.4247337281703949,
           0.9859859347343445,
           0.36095666885375977,
           0.398741215467453,
           0.3943710923194885,
           0.9886454343795776,
           0.9847801923751831,
           0.24437710642814636,
           0.43655088543891907,
           0.9879132509231567,
           0.3631002902984619,
           0.3478122055530548,
           0.4079434275627136
          ],
          [
           0.6066297292709351,
           0.7494034767150879,
           0.6177834272384644,
           0.4121170938014984,
           0.45063531398773193,
           1.0000001192092896,
           0.7944308519363403,
           0.7598496675491333,
           0.4452649652957916,
           0.6889129281044006,
           0.42645713686943054,
           0.8721117973327637,
           0.7840981483459473,
           0.6788504719734192,
           0.6232898235321045,
           0.7236456871032715,
           0.6959682106971741,
           0.7103356122970581,
           0.7606227397918701,
           0.44021010398864746,
           0.43447503447532654,
           0.8215183615684509,
           0.6554784178733826,
           0.4304000437259674,
           0.7985075116157532,
           0.7877225875854492,
           0.3643011450767517,
           0.8182891607284546,
           0.814371645450592,
           0.6285293698310852,
           0.8288562893867493,
           0.41093873977661133,
           0.7204967141151428,
           0.5767032504081726,
           0.7995603680610657,
           0.5309401154518127,
           0.636968731880188,
           0.44872134923934937,
           0.7704340815544128,
           0.8529566526412964,
           0.7606290578842163,
           0.4238560199737549,
           0.44773024320602417,
           0.49865108728408813,
           0.6303485631942749,
           0.4380796551704407,
           0.6669663190841675,
           0.7191042900085449,
           0.7758159637451172
          ],
          [
           0.6107494235038757,
           0.722407877445221,
           0.5628483295440674,
           0.4121425747871399,
           0.44143152236938477,
           0.7944308519363403,
           0.9999998807907104,
           0.7830727100372314,
           0.4349571466445923,
           0.6533183455467224,
           0.4211335778236389,
           0.6763682961463928,
           0.6766368746757507,
           0.5969744324684143,
           0.5490471720695496,
           0.7595687508583069,
           0.6378784775733948,
           0.5980042815208435,
           0.7394746541976929,
           0.42674052715301514,
           0.4257687032222748,
           0.8524602055549622,
           0.5754902362823486,
           0.42661070823669434,
           0.7489926815032959,
           0.7605903148651123,
           0.34733256697654724,
           0.7452770471572876,
           0.9503200054168701,
           0.5822315812110901,
           0.8004820346832275,
           0.4084636867046356,
           0.6176538467407227,
           0.46308380365371704,
           0.7551651000976562,
           0.40193459391593933,
           0.558148205280304,
           0.43511825799942017,
           0.668265700340271,
           0.6858165264129639,
           0.6456165313720703,
           0.41896533966064453,
           0.4307187497615814,
           0.39981555938720703,
           0.6140942573547363,
           0.4364495873451233,
           0.5488189458847046,
           0.6218039393424988,
           0.6858309507369995
          ],
          [
           0.5912543535232544,
           0.687098503112793,
           0.5856946110725403,
           0.32472214102745056,
           0.3562299609184265,
           0.7598496675491333,
           0.7830727100372314,
           1,
           0.35300612449645996,
           0.6798228621482849,
           0.34098488092422485,
           0.6772557497024536,
           0.6665061712265015,
           0.5950711965560913,
           0.5619365572929382,
           0.768275260925293,
           0.6190441250801086,
           0.5987017154693604,
           0.7849509716033936,
           0.35023874044418335,
           0.34250032901763916,
           0.8220577836036682,
           0.5777713060379028,
           0.3466107249259949,
           0.6752614974975586,
           0.7366812229156494,
           0.25540345907211304,
           0.740185022354126,
           0.8812964558601379,
           0.5903815627098083,
           0.7151302099227905,
           0.3284602463245392,
           0.6058099865913391,
           0.41764014959335327,
           0.6673220992088318,
           0.42927971482276917,
           0.5837583541870117,
           0.3466428518295288,
           0.6446287035942078,
           0.6854545474052429,
           0.6437234878540039,
           0.32707589864730835,
           0.33598148822784424,
           0.41488948464393616,
           0.642392635345459,
           0.35110488533973694,
           0.5438904762268066,
           0.6284506320953369,
           0.7574115991592407
          ],
          [
           0.3987880051136017,
           0.43164515495300293,
           0.43877288699150085,
           0.9714505672454834,
           0.9840003252029419,
           0.4452649652957916,
           0.4349571466445923,
           0.35300612449645996,
           1.0000001192092896,
           0.40746915340423584,
           0.959318995475769,
           0.3867986798286438,
           0.3402312695980072,
           0.33560803532600403,
           0.4084224998950958,
           0.4323868155479431,
           0.38930895924568176,
           0.3370668888092041,
           0.44368213415145874,
           0.9771554470062256,
           0.994925320148468,
           0.44273483753204346,
           0.3629273474216461,
           0.9761239290237427,
           0.41555309295654297,
           0.4171745181083679,
           0.8558733463287354,
           0.39070338010787964,
           0.43026837706565857,
           0.4277374744415283,
           0.4298272132873535,
           0.9533268213272095,
           0.3433488607406616,
           0.28432387113571167,
           0.434990793466568,
           0.26192739605903625,
           0.41556257009506226,
           0.9862529635429382,
           0.35789066553115845,
           0.40042388439178467,
           0.4026162326335907,
           0.9799802303314209,
           0.9770891666412354,
           0.2540464699268341,
           0.44050130248069763,
           0.9809688329696655,
           0.35136255621910095,
           0.34710395336151123,
           0.4143938422203064
          ],
          [
           0.667468249797821,
           0.719783365726471,
           0.5140188932418823,
           0.38875800371170044,
           0.40811267495155334,
           0.6889129281044006,
           0.6533183455467224,
           0.6798228621482849,
           0.40746915340423584,
           1.0000001192092896,
           0.38150298595428467,
           0.6075284481048584,
           0.6024333238601685,
           0.5430204272270203,
           0.5236909985542297,
           0.8331998586654663,
           0.6330684423446655,
           0.5654267072677612,
           0.9065002799034119,
           0.4069323241710663,
           0.40735745429992676,
           0.6892629861831665,
           0.5925940871238708,
           0.40862348675727844,
           0.7096527814865112,
           0.6916767358779907,
           0.306436687707901,
           0.6538301110267639,
           0.6726210117340088,
           0.522425651550293,
           0.7312476634979248,
           0.37501922249794006,
           0.5975585579872131,
           0.4604108929634094,
           0.7036432027816772,
           0.3591907024383545,
           0.5042350888252258,
           0.41046464443206787,
           0.6152439117431641,
           0.6413609981536865,
           0.6501968502998352,
           0.38134223222732544,
           0.39138543605804443,
           0.4015517830848694,
           0.8421368598937988,
           0.4079943895339966,
           0.5393590927124023,
           0.5557234287261963,
           0.7288215756416321
          ],
          [
           0.37438803911209106,
           0.4010656177997589,
           0.40020307898521423,
           0.9612444043159485,
           0.976272702217102,
           0.42645713686943054,
           0.4211335778236389,
           0.34098488092422485,
           0.959318995475769,
           0.38150298595428467,
           1,
           0.3672775626182556,
           0.3316560685634613,
           0.31838905811309814,
           0.3801429867744446,
           0.40428486466407776,
           0.364268034696579,
           0.3084271252155304,
           0.4193841516971588,
           0.9625627398490906,
           0.9675521850585938,
           0.42297786474227905,
           0.33694568276405334,
           0.9493613243103027,
           0.3789559602737427,
           0.39514225721359253,
           0.9185061454772949,
           0.3696114122867584,
           0.42106175422668457,
           0.3869989514350891,
           0.3988354802131653,
           0.9958490133285522,
           0.3184927701950073,
           0.25670281052589417,
           0.3948019742965698,
           0.25985100865364075,
           0.3923184275627136,
           0.9776961803436279,
           0.3451913297176361,
           0.36728397011756897,
           0.3677636981010437,
           0.9712170362472534,
           0.976381242275238,
           0.22318115830421448,
           0.41928690671920776,
           0.950273334980011,
           0.36603933572769165,
           0.328393816947937,
           0.39404231309890747
          ],
          [
           0.5179388523101807,
           0.6788089871406555,
           0.6127387881278992,
           0.33678871393203735,
           0.3897458016872406,
           0.8721117973327637,
           0.6763682961463928,
           0.6772557497024536,
           0.3867986798286438,
           0.6075284481048584,
           0.3672775626182556,
           1.000000238418579,
           0.7385103106498718,
           0.7465495467185974,
           0.5991305112838745,
           0.6111971735954285,
           0.7182382345199585,
           0.7940372824668884,
           0.6744588613510132,
           0.3746485710144043,
           0.3696744740009308,
           0.7539516687393188,
           0.7041964530944824,
           0.36287426948547363,
           0.7794920802116394,
           0.731592059135437,
           0.3045540153980255,
           0.7766594886779785,
           0.7155027985572815,
           0.6134140491485596,
           0.773582935333252,
           0.3507474660873413,
           0.8240423798561096,
           0.5576162934303284,
           0.7531260251998901,
           0.4612850844860077,
           0.6337854266166687,
           0.38691169023513794,
           0.6700409054756165,
           0.9515512585639954,
           0.8615154027938843,
           0.3605281412601471,
           0.39016368985176086,
           0.5177252292633057,
           0.5842524766921997,
           0.3755566477775574,
           0.7021198868751526,
           0.7582426071166992,
           0.7194550633430481
          ],
          [
           0.5437861680984497,
           0.7322449684143066,
           0.5434765219688416,
           0.3163868188858032,
           0.34477686882019043,
           0.7840981483459473,
           0.6766368746757507,
           0.6665061712265015,
           0.3402312695980072,
           0.6024333238601685,
           0.3316560685634613,
           0.7385103106498718,
           1.000000238418579,
           0.7955728769302368,
           0.5454245805740356,
           0.654069721698761,
           0.7454559206962585,
           0.7911322116851807,
           0.6959567070007324,
           0.34243014454841614,
           0.3319018483161926,
           0.8405753374099731,
           0.7059242725372314,
           0.3352210819721222,
           0.676280677318573,
           0.8202232122421265,
           0.2615601420402527,
           0.9240497350692749,
           0.7357051372528076,
           0.5299679040908813,
           0.7301861643791199,
           0.318917453289032,
           0.7534592747688293,
           0.5280791521072388,
           0.7064672112464905,
           0.5955553650856018,
           0.5729495286941528,
           0.3385751247406006,
           0.8569722771644592,
           0.7129412889480591,
           0.7301653623580933,
           0.32385510206222534,
           0.3238394856452942,
           0.530001699924469,
           0.5269062519073486,
           0.34241950511932373,
           0.6965879201889038,
           0.8093066811561584,
           0.877139687538147
          ],
          [
           0.5288500785827637,
           0.7844957709312439,
           0.5703576803207397,
           0.2936621904373169,
           0.3321422338485718,
           0.6788504719734192,
           0.5969744324684143,
           0.5950711965560913,
           0.33560803532600403,
           0.5430204272270203,
           0.31838905811309814,
           0.7465495467185974,
           0.7955728769302368,
           0.9999996423721313,
           0.544407844543457,
           0.6414127349853516,
           0.8981609344482422,
           0.9095421433448792,
           0.6650015711784363,
           0.3151414096355438,
           0.3195634186267853,
           0.7786788940429688,
           0.895967960357666,
           0.3087646961212158,
           0.7031399607658386,
           0.8369671702384949,
           0.2450554370880127,
           0.8148894309997559,
           0.6458112001419067,
           0.5602474212646484,
           0.7259594202041626,
           0.29860642552375793,
           0.8912655711174011,
           0.5079960227012634,
           0.6853595972061157,
           0.4504677951335907,
           0.57557213306427,
           0.33737289905548096,
           0.6549454927444458,
           0.7560687065124512,
           0.8750075697898865,
           0.30718350410461426,
           0.32026439905166626,
           0.5697989463806152,
           0.5470797419548035,
           0.3204708397388458,
           0.5986214876174927,
           0.9279934167861938,
           0.7998318076133728
          ],
          [
           0.5640817284584045,
           0.6255495548248291,
           0.882047176361084,
           0.36667007207870483,
           0.40966424345970154,
           0.6232898235321045,
           0.5490471720695496,
           0.5619365572929382,
           0.4084224998950958,
           0.5236909985542297,
           0.3801429867744446,
           0.5991305112838745,
           0.5454245805740356,
           0.544407844543457,
           1.0000001192092896,
           0.5460124015808105,
           0.5775027871131897,
           0.5463900566101074,
           0.6373935341835022,
           0.41306325793266296,
           0.3963666260242462,
           0.6250489950180054,
           0.5559288859367371,
           0.41064319014549255,
           0.7201612591743469,
           0.6436951160430908,
           0.23504573106765747,
           0.6466458439826965,
           0.6063613891601562,
           0.8421149849891663,
           0.6539784669876099,
           0.3676171600818634,
           0.6231972575187683,
           0.49166202545166016,
           0.7077919840812683,
           0.42434629797935486,
           0.9128738045692444,
           0.4036642909049988,
           0.5484210848808289,
           0.6426612138748169,
           0.6584749221801758,
           0.36807647347450256,
           0.3805106580257416,
           0.5190395712852478,
           0.5433474779129028,
           0.41828298568725586,
           0.5456767082214355,
           0.5278642177581787,
           0.6271229386329651
          ],
          [
           0.6872057914733887,
           0.8556634187698364,
           0.5551341772079468,
           0.4041396975517273,
           0.4272605776786804,
           0.7236456871032715,
           0.7595687508583069,
           0.768275260925293,
           0.4323868155479431,
           0.8331998586654663,
           0.40428486466407776,
           0.6111971735954285,
           0.654069721698761,
           0.6414127349853516,
           0.5460124015808105,
           1,
           0.76070636510849,
           0.6064390540122986,
           0.9365110397338867,
           0.4171827733516693,
           0.4252634048461914,
           0.8077419400215149,
           0.7043246626853943,
           0.4164022207260132,
           0.7412556409835815,
           0.8323056697845459,
           0.3262551724910736,
           0.7416925430297852,
           0.7883378863334656,
           0.5667853355407715,
           0.806221067905426,
           0.3929806351661682,
           0.6410697102546692,
           0.4879646897315979,
           0.7509276270866394,
           0.3810688257217407,
           0.528401255607605,
           0.4306010603904724,
           0.6147713661193848,
           0.6294824481010437,
           0.6699455976486206,
           0.4048382043838501,
           0.41613638401031494,
           0.4498826265335083,
           0.7898316383361816,
           0.41965290904045105,
           0.5352860689163208,
           0.6211029887199402,
           0.776400625705719
          ],
          [
           0.6413934230804443,
           0.912600040435791,
           0.6019331216812134,
           0.3441833555698395,
           0.38082069158554077,
           0.6959682106971741,
           0.6378784775733948,
           0.6190441250801086,
           0.38930895924568176,
           0.6330684423446655,
           0.364268034696579,
           0.7182382345199585,
           0.7454559206962585,
           0.8981609344482422,
           0.5775027871131897,
           0.76070636510849,
           0.9999997615814209,
           0.8380712270736694,
           0.7590051293373108,
           0.3619726896286011,
           0.37277162075042725,
           0.7935515642166138,
           0.9538135528564453,
           0.3572775423526764,
           0.7733288407325745,
           0.8903573155403137,
           0.28593015670776367,
           0.8036996722221375,
           0.6677584648132324,
           0.6095097064971924,
           0.8093961477279663,
           0.3482583165168762,
           0.8738424777984619,
           0.5690053701400757,
           0.7504428029060364,
           0.43735915422439575,
           0.584433913230896,
           0.3902756869792938,
           0.6268157958984375,
           0.740662693977356,
           0.8493037819862366,
           0.3586564362049103,
           0.37259018421173096,
           0.593622624874115,
           0.6234719753265381,
           0.3666157126426697,
           0.6140902042388916,
           0.8207120895385742,
           0.7972059845924377
          ],
          [
           0.5408735871315002,
           0.7163220643997192,
           0.5345128774642944,
           0.29611942172050476,
           0.3342994451522827,
           0.7103356122970581,
           0.5980042815208435,
           0.5987017154693604,
           0.3370668888092041,
           0.5654267072677612,
           0.3084271252155304,
           0.7940372824668884,
           0.7911322116851807,
           0.9095421433448792,
           0.5463900566101074,
           0.6064390540122986,
           0.8380712270736694,
           1,
           0.6396992802619934,
           0.3247286081314087,
           0.3224574029445648,
           0.7357070446014404,
           0.8579071760177612,
           0.31609177589416504,
           0.6852360963821411,
           0.7631431221961975,
           0.24045592546463013,
           0.7707683444023132,
           0.639761745929718,
           0.5131036043167114,
           0.687955379486084,
           0.2911246120929718,
           0.8897348642349243,
           0.489177942276001,
           0.6528005599975586,
           0.4541322886943817,
           0.5538910627365112,
           0.3340110778808594,
           0.6630165576934814,
           0.8110584020614624,
           0.8728482723236084,
           0.310173898935318,
           0.3219969868659973,
           0.5598605871200562,
           0.5455220937728882,
           0.3273501396179199,
           0.5923519134521484,
           0.911365807056427,
           0.7555296421051025
          ],
          [
           0.7060166001319885,
           0.8564567565917969,
           0.6261453628540039,
           0.4065176248550415,
           0.4384130537509918,
           0.7606227397918701,
           0.7394746541976929,
           0.7849509716033936,
           0.44368213415145874,
           0.9065002799034119,
           0.4193841516971588,
           0.6744588613510132,
           0.6959567070007324,
           0.6650015711784363,
           0.6373935341835022,
           0.9365110397338867,
           0.7590051293373108,
           0.6396992802619934,
           1.0000001192092896,
           0.4346325993537903,
           0.4351625442504883,
           0.8212915062904358,
           0.7097418308258057,
           0.4305570125579834,
           0.8078427314758301,
           0.8598402738571167,
           0.3168279826641083,
           0.7945645451545715,
           0.8109796047210693,
           0.6266453862190247,
           0.8433713912963867,
           0.41112542152404785,
           0.690072774887085,
           0.5489635467529297,
           0.8049725294113159,
           0.44515103101730347,
           0.6199505925178528,
           0.4434046149253845,
           0.674407422542572,
           0.6984063386917114,
           0.7290339469909668,
           0.4089512228965759,
           0.4201743006706238,
           0.5051402449607849,
           0.8407135605812073,
           0.43450728058815,
           0.5869545936584473,
           0.6502209901809692,
           0.8289909362792969
          ],
          [
           0.3885696530342102,
           0.40467938780784607,
           0.40505048632621765,
           0.9853848218917847,
           0.9881687164306641,
           0.44021010398864746,
           0.42674052715301514,
           0.35023874044418335,
           0.9771554470062256,
           0.4069323241710663,
           0.9625627398490906,
           0.3746485710144043,
           0.34243014454841614,
           0.3151414096355438,
           0.41306325793266296,
           0.4171827733516693,
           0.3619726896286011,
           0.3247286081314087,
           0.4346325993537903,
           1.000000238418579,
           0.9859398007392883,
           0.4328063726425171,
           0.33694353699684143,
           0.9933526515960693,
           0.397407591342926,
           0.39583948254585266,
           0.8637539148330688,
           0.37962448596954346,
           0.424068421125412,
           0.39643505215644836,
           0.4104892611503601,
           0.9566654562950134,
           0.3240273594856262,
           0.2707839608192444,
           0.41296184062957764,
           0.2676619291305542,
           0.41816791892051697,
           0.9694742560386658,
           0.35960572957992554,
           0.38562914729118347,
           0.38238561153411865,
           0.9804812669754028,
           0.9627333879470825,
           0.23677338659763336,
           0.43061408400535583,
           0.9909812808036804,
           0.35860878229141235,
           0.3334287405014038,
           0.40293166041374207
          ],
          [
           0.39726412296295166,
           0.41494220495224,
           0.4219519793987274,
           0.9827794432640076,
           0.9898850917816162,
           0.43447503447532654,
           0.4257687032222748,
           0.34250032901763916,
           0.994925320148468,
           0.40735745429992676,
           0.9675521850585938,
           0.3696744740009308,
           0.3319018483161926,
           0.3195634186267853,
           0.3963666260242462,
           0.4252634048461914,
           0.37277162075042725,
           0.3224574029445648,
           0.4351625442504883,
           0.9859398007392883,
           0.9999998807907104,
           0.4284369647502899,
           0.34493088722229004,
           0.9848247766494751,
           0.3961293697357178,
           0.397830992937088,
           0.8696056604385376,
           0.37343156337738037,
           0.41914689540863037,
           0.41289180517196655,
           0.41215255856513977,
           0.9632351398468018,
           0.3254312574863434,
           0.2731182873249054,
           0.4164031147956848,
           0.25888001918792725,
           0.4010167419910431,
           0.9885754585266113,
           0.35332030057907104,
           0.3805534243583679,
           0.38378918170928955,
           0.9881789684295654,
           0.9809067845344543,
           0.2385234832763672,
           0.43390971422195435,
           0.9853414297103882,
           0.34845030307769775,
           0.3326951265335083,
           0.40278053283691406
          ],
          [
           0.6133737564086914,
           0.8361728191375732,
           0.6436535120010376,
           0.4053599238395691,
           0.44072696566581726,
           0.8215183615684509,
           0.8524602055549622,
           0.8220577836036682,
           0.44273483753204346,
           0.6892629861831665,
           0.42297786474227905,
           0.7539516687393188,
           0.8405753374099731,
           0.7786788940429688,
           0.6250489950180054,
           0.8077419400215149,
           0.7935515642166138,
           0.7357070446014404,
           0.8212915062904358,
           0.4328063726425171,
           0.4284369647502899,
           0.9999998807907104,
           0.7503228783607483,
           0.42953142523765564,
           0.7782520055770874,
           0.9246023893356323,
           0.32330894470214844,
           0.9106466770172119,
           0.9021494388580322,
           0.6561033725738525,
           0.8348425030708313,
           0.405480295419693,
           0.7722824811935425,
           0.5137962102890015,
           0.7912901639938354,
           0.4454694390296936,
           0.6624660491943359,
           0.4352796673774719,
           0.7256338000297546,
           0.7567239999771118,
           0.7687366008758545,
           0.412431001663208,
           0.4203417897224426,
           0.4945361018180847,
           0.6467524766921997,
           0.43890380859375,
           0.6816095113754272,
           0.761906623840332,
           0.8780001997947693
          ],
          [
           0.6101464629173279,
           0.8870216608047485,
           0.5826475620269775,
           0.3140195906162262,
           0.3524845838546753,
           0.6554784178733826,
           0.5754902362823486,
           0.5777713060379028,
           0.3629273474216461,
           0.5925940871238708,
           0.33694568276405334,
           0.7041964530944824,
           0.7059242725372314,
           0.895967960357666,
           0.5559288859367371,
           0.7043246626853943,
           0.9538135528564453,
           0.8579071760177612,
           0.7097418308258057,
           0.33694353699684143,
           0.34493088722229004,
           0.7503228783607483,
           0.9999997615814209,
           0.33073946833610535,
           0.7327360510826111,
           0.8522535562515259,
           0.25782209634780884,
           0.7594099044799805,
           0.6134071350097656,
           0.5781897902488708,
           0.7519840598106384,
           0.3217359781265259,
           0.8806659579277039,
           0.5322839617729187,
           0.7055298089981079,
           0.36822307109832764,
           0.5618776082992554,
           0.3619522452354431,
           0.5786688327789307,
           0.7252908945083618,
           0.8526548743247986,
           0.32999667525291443,
           0.344246506690979,
           0.5708469152450562,
           0.5878504514694214,
           0.33977487683296204,
           0.5696491003036499,
           0.8140149116516113,
           0.7623057961463928
          ],
          [
           0.3965603709220886,
           0.40238749980926514,
           0.41639479994773865,
           0.9847841262817383,
           0.9855186939239502,
           0.4304000437259674,
           0.42661070823669434,
           0.3466107249259949,
           0.9761239290237427,
           0.40862348675727844,
           0.9493613243103027,
           0.36287426948547363,
           0.3352210819721222,
           0.3087646961212158,
           0.41064319014549255,
           0.4164022207260132,
           0.3572775423526764,
           0.31609177589416504,
           0.4305570125579834,
           0.9933526515960693,
           0.9848247766494751,
           0.42953142523765564,
           0.33073946833610535,
           1,
           0.39353322982788086,
           0.39021170139312744,
           0.8419572710990906,
           0.3724682927131653,
           0.4190552830696106,
           0.40854477882385254,
           0.4068969488143921,
           0.9439203143119812,
           0.31905853748321533,
           0.26931536197662354,
           0.41444188356399536,
           0.2583637833595276,
           0.41544240713119507,
           0.9634153842926025,
           0.3534339666366577,
           0.3763692080974579,
           0.37713146209716797,
           0.9746837615966797,
           0.9539489150047302,
           0.23228737711906433,
           0.43082404136657715,
           0.9959395527839661,
           0.3555942177772522,
           0.325978547334671,
           0.3987570106983185
          ],
          [
           0.6873226761817932,
           0.8508224487304688,
           0.7274253964424133,
           0.3675404191017151,
           0.4090735614299774,
           0.7985075116157532,
           0.7489926815032959,
           0.6752614974975586,
           0.41555309295654297,
           0.7096527814865112,
           0.3789559602737427,
           0.7794920802116394,
           0.676280677318573,
           0.7031399607658386,
           0.7201612591743469,
           0.7412556409835815,
           0.7733288407325745,
           0.6852360963821411,
           0.8078427314758301,
           0.397407591342926,
           0.3961293697357178,
           0.7782520055770874,
           0.7327360510826111,
           0.39353322982788086,
           1.0000001192092896,
           0.8488830327987671,
           0.2918812930583954,
           0.8156853914260864,
           0.7521952390670776,
           0.7470093965530396,
           0.9593648314476013,
           0.3663107454776764,
           0.8153930306434631,
           0.7146755456924438,
           0.9543079733848572,
           0.5069206357002258,
           0.7177061438560486,
           0.4092880189418793,
           0.7014754414558411,
           0.8208385109901428,
           0.8417683243751526,
           0.37190982699394226,
           0.3935672342777252,
           0.6707639694213867,
           0.6695683598518372,
           0.40783464908599854,
           0.5892543792724609,
           0.6802331805229187,
           0.7347347736358643
          ],
          [
           0.6514957547187805,
           0.9474129676818848,
           0.6529777646064758,
           0.3703240156173706,
           0.408447802066803,
           0.7877225875854492,
           0.7605903148651123,
           0.7366812229156494,
           0.4171745181083679,
           0.6916767358779907,
           0.39514225721359253,
           0.731592059135437,
           0.8202232122421265,
           0.8369671702384949,
           0.6436951160430908,
           0.8323056697845459,
           0.8903573155403137,
           0.7631431221961975,
           0.8598402738571167,
           0.39583948254585266,
           0.397830992937088,
           0.9246023893356323,
           0.8522535562515259,
           0.39021170139312744,
           0.8488830327987671,
           1.0000003576278687,
           0.2980917990207672,
           0.9283373355865479,
           0.814659595489502,
           0.6598898768424988,
           0.9069118499755859,
           0.37918180227279663,
           0.828431248664856,
           0.598571240901947,
           0.8559369444847107,
           0.45912349224090576,
           0.6576867699623108,
           0.41149529814720154,
           0.7179392576217651,
           0.7543054819107056,
           0.8214244842529297,
           0.3759094178676605,
           0.3902716636657715,
           0.5799469947814941,
           0.6574090123176575,
           0.4018210172653198,
           0.6414676904678345,
           0.7849628925323486,
           0.8717331290245056
          ],
          [
           0.279863566160202,
           0.3099513351917267,
           0.2652832865715027,
           0.8822540044784546,
           0.890109658241272,
           0.3643011450767517,
           0.34733256697654724,
           0.25540345907211304,
           0.8558733463287354,
           0.306436687707901,
           0.9185061454772949,
           0.3045540153980255,
           0.2615601420402527,
           0.2450554370880127,
           0.23504573106765747,
           0.3262551724910736,
           0.28593015670776367,
           0.24045592546463013,
           0.3168279826641083,
           0.8637539148330688,
           0.8696056604385376,
           0.32330894470214844,
           0.25782209634780884,
           0.8419572710990906,
           0.2918812930583954,
           0.2980917990207672,
           1.000000238418579,
           0.2799578309059143,
           0.3304707407951355,
           0.2525659501552582,
           0.31693235039711,
           0.9100455641746521,
           0.23528233170509338,
           0.18918588757514954,
           0.3026652932167053,
           0.20947548747062683,
           0.25404542684555054,
           0.8810123205184937,
           0.26905322074890137,
           0.3053615987300873,
           0.28902730345726013,
           0.8944307565689087,
           0.9092827439308167,
           0.15849652886390686,
           0.3327888250350952,
           0.8449467420578003,
           0.277621865272522,
           0.25818371772766113,
           0.2887987196445465
          ],
          [
           0.6050735712051392,
           0.8411895036697388,
           0.6560450792312622,
           0.35132747888565063,
           0.38693469762802124,
           0.8182891607284546,
           0.7452770471572876,
           0.740185022354126,
           0.39070338010787964,
           0.6538301110267639,
           0.3696114122867584,
           0.7766594886779785,
           0.9240497350692749,
           0.8148894309997559,
           0.6466458439826965,
           0.7416925430297852,
           0.8036996722221375,
           0.7707683444023132,
           0.7945645451545715,
           0.37962448596954346,
           0.37343156337738037,
           0.9106466770172119,
           0.7594099044799805,
           0.3724682927131653,
           0.8156853914260864,
           0.9283373355865479,
           0.2799578309059143,
           1,
           0.8079403638839722,
           0.6517695784568787,
           0.8714660406112671,
           0.3537810444831848,
           0.8067662715911865,
           0.5916002988815308,
           0.8303080797195435,
           0.5535664558410645,
           0.6823168396949768,
           0.3810166120529175,
           0.8119058609008789,
           0.7756600379943848,
           0.8074702024459839,
           0.3564390242099762,
           0.3640424907207489,
           0.5781232118606567,
           0.6122372150421143,
           0.3843160569667816,
           0.7179446220397949,
           0.7982913255691528,
           0.8993654847145081
          ],
          [
           0.6171841025352478,
           0.7475361227989197,
           0.6206346750259399,
           0.3997410535812378,
           0.4347628355026245,
           0.814371645450592,
           0.9503200054168701,
           0.8812964558601379,
           0.43026837706565857,
           0.6726210117340088,
           0.42106175422668457,
           0.7155027985572815,
           0.7357051372528076,
           0.6458112001419067,
           0.6063613891601562,
           0.7883378863334656,
           0.6677584648132324,
           0.639761745929718,
           0.8109796047210693,
           0.424068421125412,
           0.41914689540863037,
           0.9021494388580322,
           0.6134071350097656,
           0.4190552830696106,
           0.7521952390670776,
           0.814659595489502,
           0.3304707407951355,
           0.8079403638839722,
           1.0000001192092896,
           0.6276339292526245,
           0.8015149831771851,
           0.4089198112487793,
           0.652327835559845,
           0.4741206169128418,
           0.7517758011817932,
           0.44900381565093994,
           0.6217592358589172,
           0.4288245439529419,
           0.7014818787574768,
           0.7164075970649719,
           0.6803849339485168,
           0.4089740812778473,
           0.4197446405887604,
           0.43423792719841003,
           0.6381637454032898,
           0.42744651436805725,
           0.5846831202507019,
           0.6720279455184937,
           0.7626494765281677
          ],
          [
           0.5612403750419617,
           0.6538832783699036,
           0.9589107632637024,
           0.37274378538131714,
           0.41884422302246094,
           0.6285293698310852,
           0.5822315812110901,
           0.5903815627098083,
           0.4277374744415283,
           0.522425651550293,
           0.3869989514350891,
           0.6134140491485596,
           0.5299679040908813,
           0.5602474212646484,
           0.8421149849891663,
           0.5667853355407715,
           0.6095097064971924,
           0.5131036043167114,
           0.6266453862190247,
           0.39643505215644836,
           0.41289180517196655,
           0.6561033725738525,
           0.5781897902488708,
           0.40854477882385254,
           0.7470093965530396,
           0.6598898768424988,
           0.2525659501552582,
           0.6517695784568787,
           0.6276339292526245,
           1,
           0.6826337575912476,
           0.37255698442459106,
           0.6692126989364624,
           0.49707499146461487,
           0.7230895757675171,
           0.38528236746788025,
           0.8633226156234741,
           0.42739564180374146,
           0.5086060166358948,
           0.6376360058784485,
           0.6610418558120728,
           0.38152647018432617,
           0.39969319105148315,
           0.5131837725639343,
           0.5358600616455078,
           0.4160163998603821,
           0.5546293258666992,
           0.5268272161483765,
           0.611919105052948
          ],
          [
           0.7039026021957397,
           0.9022060036659241,
           0.6620684862136841,
           0.3869533836841583,
           0.42270708084106445,
           0.8288562893867493,
           0.8004820346832275,
           0.7151302099227905,
           0.4298272132873535,
           0.7312476634979248,
           0.3988354802131653,
           0.773582935333252,
           0.7301861643791199,
           0.7259594202041626,
           0.6539784669876099,
           0.806221067905426,
           0.8093961477279663,
           0.687955379486084,
           0.8433713912963867,
           0.4104892611503601,
           0.41215255856513977,
           0.8348425030708313,
           0.7519840598106384,
           0.4068969488143921,
           0.9593648314476013,
           0.9069118499755859,
           0.31693235039711,
           0.8714660406112671,
           0.8015149831771851,
           0.6826337575912476,
           0.9999998211860657,
           0.3876861035823822,
           0.7920502424240112,
           0.7085691690444946,
           0.9506170153617859,
           0.5128998756408691,
           0.6565807461738586,
           0.42358237504959106,
           0.7453279495239258,
           0.7962446808815002,
           0.8215203285217285,
           0.39233726263046265,
           0.41076770424842834,
           0.636726975440979,
           0.669945478439331,
           0.41945528984069824,
           0.6089665293693542,
           0.6952579617500305,
           0.7774019241333008
          ],
          [
           0.3820125162601471,
           0.39017629623413086,
           0.38763564825057983,
           0.9575818181037903,
           0.9704614281654358,
           0.41093873977661133,
           0.4084636867046356,
           0.3284602463245392,
           0.9533268213272095,
           0.37501922249794006,
           0.9958490133285522,
           0.3507474660873413,
           0.318917453289032,
           0.29860642552375793,
           0.3676171600818634,
           0.3929806351661682,
           0.3482583165168762,
           0.2911246120929718,
           0.41112542152404785,
           0.9566654562950134,
           0.9632351398468018,
           0.405480295419693,
           0.3217359781265259,
           0.9439203143119812,
           0.3663107454776764,
           0.37918180227279663,
           0.9100455641746521,
           0.3537810444831848,
           0.4089198112487793,
           0.37255698442459106,
           0.3876861035823822,
           0.9999998807907104,
           0.30058372020721436,
           0.25774481892585754,
           0.38345807790756226,
           0.26309847831726074,
           0.3732941150665283,
           0.9754760265350342,
           0.34583422541618347,
           0.3489406406879425,
           0.35123464465141296,
           0.9671615362167358,
           0.9719347357749939,
           0.21699127554893494,
           0.40853920578956604,
           0.9445520639419556,
           0.35017451643943787,
           0.30838465690612793,
           0.3783737123012543
          ],
          [
           0.5812379121780396,
           0.7890122532844543,
           0.6346243619918823,
           0.29329314827919006,
           0.33721646666526794,
           0.7204967141151428,
           0.6176538467407227,
           0.6058099865913391,
           0.3433488607406616,
           0.5975585579872131,
           0.3184927701950073,
           0.8240423798561096,
           0.7534592747688293,
           0.8912655711174011,
           0.6231972575187683,
           0.6410697102546692,
           0.8738424777984619,
           0.8897348642349243,
           0.690072774887085,
           0.3240273594856262,
           0.3254312574863434,
           0.7722824811935425,
           0.8806659579277039,
           0.31905853748321533,
           0.8153930306434631,
           0.828431248664856,
           0.23528233170509338,
           0.8067662715911865,
           0.652327835559845,
           0.6692126989364624,
           0.7920502424240112,
           0.30058372020721436,
           1.0000001192092896,
           0.5794593095779419,
           0.7864083051681519,
           0.4204083979129791,
           0.6445852518081665,
           0.3445785939693451,
           0.6268479228019714,
           0.823789656162262,
           0.9067983627319336,
           0.305050790309906,
           0.3245616853237152,
           0.6262156367301941,
           0.5783004760742188,
           0.3313005268573761,
           0.674618661403656,
           0.8342293500900269,
           0.7557247877120972
          ],
          [
           0.5671161413192749,
           0.617935061454773,
           0.5044814348220825,
           0.2523361146450043,
           0.2771592140197754,
           0.5767032504081726,
           0.46308380365371704,
           0.41764014959335327,
           0.28432387113571167,
           0.4604108929634094,
           0.25670281052589417,
           0.5576162934303284,
           0.5280791521072388,
           0.5079960227012634,
           0.49166202545166016,
           0.4879646897315979,
           0.5690053701400757,
           0.489177942276001,
           0.5489635467529297,
           0.2707839608192444,
           0.2731182873249054,
           0.5137962102890015,
           0.5322839617729187,
           0.26931536197662354,
           0.7146755456924438,
           0.598571240901947,
           0.18918588757514954,
           0.5916002988815308,
           0.4741206169128418,
           0.49707499146461487,
           0.7085691690444946,
           0.25774481892585754,
           0.5794593095779419,
           1.0000001192092896,
           0.7133630514144897,
           0.7122484445571899,
           0.47905147075653076,
           0.2792779505252838,
           0.6175291538238525,
           0.5529069900512695,
           0.5776710510253906,
           0.2648940086364746,
           0.27198585867881775,
           0.8450155854225159,
           0.42998969554901123,
           0.27556565403938293,
           0.45456328988075256,
           0.4546423852443695,
           0.558092474937439
          ],
          [
           0.6891469955444336,
           0.8480052351951599,
           0.706386923789978,
           0.38873207569122314,
           0.4259408116340637,
           0.7995603680610657,
           0.7551651000976562,
           0.6673220992088318,
           0.434990793466568,
           0.7036432027816772,
           0.3948019742965698,
           0.7531260251998901,
           0.7064672112464905,
           0.6853595972061157,
           0.7077919840812683,
           0.7509276270866394,
           0.7504428029060364,
           0.6528005599975586,
           0.8049725294113159,
           0.41296184062957764,
           0.4164031147956848,
           0.7912901639938354,
           0.7055298089981079,
           0.41444188356399536,
           0.9543079733848572,
           0.8559369444847107,
           0.3026652932167053,
           0.8303080797195435,
           0.7517758011817932,
           0.7230895757675171,
           0.9506170153617859,
           0.38345807790756226,
           0.7864083051681519,
           0.7133630514144897,
           1,
           0.5181350708007812,
           0.7065047025680542,
           0.42604193091392517,
           0.7408959865570068,
           0.7792925834655762,
           0.8034707307815552,
           0.3909209072589874,
           0.410380482673645,
           0.6515116691589355,
           0.6561188697814941,
           0.42782682180404663,
           0.598442018032074,
           0.6541104316711426,
           0.7554811835289001
          ],
          [
           0.4969724714756012,
           0.44194719195365906,
           0.40729808807373047,
           0.2509113550186157,
           0.26570481061935425,
           0.5309401154518127,
           0.40193459391593933,
           0.42927971482276917,
           0.26192739605903625,
           0.3591907024383545,
           0.25985100865364075,
           0.4612850844860077,
           0.5955553650856018,
           0.4504677951335907,
           0.42434629797935486,
           0.3810688257217407,
           0.43735915422439575,
           0.4541322886943817,
           0.44515103101730347,
           0.2676619291305542,
           0.25888001918792725,
           0.4454694390296936,
           0.36822307109832764,
           0.2583637833595276,
           0.5069206357002258,
           0.45912349224090576,
           0.20947548747062683,
           0.5535664558410645,
           0.44900381565093994,
           0.38528236746788025,
           0.5128998756408691,
           0.26309847831726074,
           0.4204083979129791,
           0.7122484445571899,
           0.5181350708007812,
           1,
           0.42809510231018066,
           0.26585450768470764,
           0.753301739692688,
           0.4426787495613098,
           0.4334248900413513,
           0.25739845633506775,
           0.2557314336299896,
           0.7154731154441833,
           0.34265172481536865,
           0.26191484928131104,
           0.40208956599235535,
           0.46979066729545593,
           0.5453923940658569
          ],
          [
           0.49730002880096436,
           0.6164698600769043,
           0.8567569851875305,
           0.385586142539978,
           0.4247337281703949,
           0.636968731880188,
           0.558148205280304,
           0.5837583541870117,
           0.41556257009506226,
           0.5042350888252258,
           0.3923184275627136,
           0.6337854266166687,
           0.5729495286941528,
           0.57557213306427,
           0.9128738045692444,
           0.528401255607605,
           0.584433913230896,
           0.5538910627365112,
           0.6199505925178528,
           0.41816791892051697,
           0.4010167419910431,
           0.6624660491943359,
           0.5618776082992554,
           0.41544240713119507,
           0.7177061438560486,
           0.6576867699623108,
           0.25404542684555054,
           0.6823168396949768,
           0.6217592358589172,
           0.8633226156234741,
           0.6565807461738586,
           0.3732941150665283,
           0.6445852518081665,
           0.47905147075653076,
           0.7065047025680542,
           0.42809510231018066,
           1.0000001192092896,
           0.4115034341812134,
           0.5404878258705139,
           0.6472406387329102,
           0.644255518913269,
           0.38367828726768494,
           0.394497275352478,
           0.5201095938682556,
           0.5344081521034241,
           0.4236227869987488,
           0.6059287786483765,
           0.5724428296089172,
           0.6565253734588623
          ],
          [
           0.40479576587677,
           0.4286545515060425,
           0.43314772844314575,
           0.9685026407241821,
           0.9859859347343445,
           0.44872134923934937,
           0.43511825799942017,
           0.3466428518295288,
           0.9862529635429382,
           0.41046464443206787,
           0.9776961803436279,
           0.38691169023513794,
           0.3385751247406006,
           0.33737289905548096,
           0.4036642909049988,
           0.4306010603904724,
           0.3902756869792938,
           0.3340110778808594,
           0.4434046149253845,
           0.9694742560386658,
           0.9885754585266113,
           0.4352796673774719,
           0.3619522452354431,
           0.9634153842926025,
           0.4092880189418793,
           0.41149529814720154,
           0.8810123205184937,
           0.3810166120529175,
           0.4288245439529419,
           0.42739564180374146,
           0.42358237504959106,
           0.9754760265350342,
           0.3445785939693451,
           0.2792779505252838,
           0.42604193091392517,
           0.26585450768470764,
           0.4115034341812134,
           0.9999999403953552,
           0.36235737800598145,
           0.3918025493621826,
           0.3942664563655853,
           0.982017993927002,
           0.9898526072502136,
           0.2507105767726898,
           0.441328763961792,
           0.9685263633728027,
           0.3564470410346985,
           0.34925511479377747,
           0.409135639667511
          ],
          [
           0.6283259391784668,
           0.6847862005233765,
           0.5250746607780457,
           0.33997029066085815,
           0.36095666885375977,
           0.7704340815544128,
           0.668265700340271,
           0.6446287035942078,
           0.35789066553115845,
           0.6152439117431641,
           0.3451913297176361,
           0.6700409054756165,
           0.8569722771644592,
           0.6549454927444458,
           0.5484210848808289,
           0.6147713661193848,
           0.6268157958984375,
           0.6630165576934814,
           0.674407422542572,
           0.35960572957992554,
           0.35332030057907104,
           0.7256338000297546,
           0.5786688327789307,
           0.3534339666366577,
           0.7014754414558411,
           0.7179392576217651,
           0.26905322074890137,
           0.8119058609008789,
           0.7014818787574768,
           0.5086060166358948,
           0.7453279495239258,
           0.34583422541618347,
           0.6268479228019714,
           0.6175291538238525,
           0.7408959865570068,
           0.753301739692688,
           0.5404878258705139,
           0.36235737800598145,
           1.000000238418579,
           0.6604470014572144,
           0.6512085795402527,
           0.3445783257484436,
           0.34681907296180725,
           0.5891309976577759,
           0.5279636979103088,
           0.3583422899246216,
           0.5489714741706848,
           0.7077447175979614,
           0.7798465490341187
          ],
          [
           0.5537579655647278,
           0.7136165499687195,
           0.6506032943725586,
           0.34762659668922424,
           0.398741215467453,
           0.8529566526412964,
           0.6858165264129639,
           0.6854545474052429,
           0.40042388439178467,
           0.6413609981536865,
           0.36728397011756897,
           0.9515512585639954,
           0.7129412889480591,
           0.7560687065124512,
           0.6426612138748169,
           0.6294824481010437,
           0.740662693977356,
           0.8110584020614624,
           0.6984063386917114,
           0.38562914729118347,
           0.3805534243583679,
           0.7567239999771118,
           0.7252908945083618,
           0.3763692080974579,
           0.8208385109901428,
           0.7543054819107056,
           0.3053615987300873,
           0.7756600379943848,
           0.7164075970649719,
           0.6376360058784485,
           0.7962446808815002,
           0.3489406406879425,
           0.823789656162262,
           0.5529069900512695,
           0.7792925834655762,
           0.4426787495613098,
           0.6472406387329102,
           0.3918025493621826,
           0.6604470014572144,
           0.9999995231628418,
           0.9057823419570923,
           0.3630860149860382,
           0.38844209909439087,
           0.5267776250839233,
           0.6185703873634338,
           0.38921937346458435,
           0.6516249179840088,
           0.7813315391540527,
           0.7211616635322571
          ],
          [
           0.6211057901382446,
           0.7996163964271545,
           0.6833726763725281,
           0.34822216629981995,
           0.3943710923194885,
           0.7606290578842163,
           0.6456165313720703,
           0.6437234878540039,
           0.4026162326335907,
           0.6501968502998352,
           0.3677636981010437,
           0.8615154027938843,
           0.7301653623580933,
           0.8750075697898865,
           0.6584749221801758,
           0.6699455976486206,
           0.8493037819862366,
           0.8728482723236084,
           0.7290339469909668,
           0.38238561153411865,
           0.38378918170928955,
           0.7687366008758545,
           0.8526548743247986,
           0.37713146209716797,
           0.8417683243751526,
           0.8214244842529297,
           0.28902730345726013,
           0.8074702024459839,
           0.6803849339485168,
           0.6610418558120728,
           0.8215203285217285,
           0.35123464465141296,
           0.9067983627319336,
           0.5776710510253906,
           0.8034707307815552,
           0.4334248900413513,
           0.644255518913269,
           0.3942664563655853,
           0.6512085795402527,
           0.9057823419570923,
           1,
           0.3604728877544403,
           0.3789721429347992,
           0.5873894691467285,
           0.6260889768600464,
           0.38929876685142517,
           0.6317486763000488,
           0.8116657137870789,
           0.7603919506072998
          ],
          [
           0.3716020882129669,
           0.39277297258377075,
           0.3881928026676178,
           0.9876242280006409,
           0.9886454343795776,
           0.4238560199737549,
           0.41896533966064453,
           0.32707589864730835,
           0.9799802303314209,
           0.38134223222732544,
           0.9712170362472534,
           0.3605281412601471,
           0.32385510206222534,
           0.30718350410461426,
           0.36807647347450256,
           0.4048382043838501,
           0.3586564362049103,
           0.310173898935318,
           0.4089512228965759,
           0.9804812669754028,
           0.9881789684295654,
           0.412431001663208,
           0.32999667525291443,
           0.9746837615966797,
           0.37190982699394226,
           0.3759094178676605,
           0.8944307565689087,
           0.3564390242099762,
           0.4089740812778473,
           0.38152647018432617,
           0.39233726263046265,
           0.9671615362167358,
           0.305050790309906,
           0.2648940086364746,
           0.3909209072589874,
           0.25739845633506775,
           0.38367828726768494,
           0.982017993927002,
           0.3445783257484436,
           0.3630860149860382,
           0.3604728877544403,
           1,
           0.9871581792831421,
           0.22211462259292603,
           0.405355840921402,
           0.9739274978637695,
           0.3357475996017456,
           0.3233371675014496,
           0.3822660446166992
          ],
          [
           0.37720009684562683,
           0.40674668550491333,
           0.4072396457195282,
           0.969948947429657,
           0.9847801923751831,
           0.44773024320602417,
           0.4307187497615814,
           0.33598148822784424,
           0.9770891666412354,
           0.39138543605804443,
           0.976381242275238,
           0.39016368985176086,
           0.3238394856452942,
           0.32026439905166626,
           0.3805106580257416,
           0.41613638401031494,
           0.37259018421173096,
           0.3219969868659973,
           0.4201743006706238,
           0.9627333879470825,
           0.9809067845344543,
           0.4203417897224426,
           0.344246506690979,
           0.9539489150047302,
           0.3935672342777252,
           0.3902716636657715,
           0.9092827439308167,
           0.3640424907207489,
           0.4197446405887604,
           0.39969319105148315,
           0.41076770424842834,
           0.9719347357749939,
           0.3245616853237152,
           0.27198585867881775,
           0.410380482673645,
           0.2557314336299896,
           0.394497275352478,
           0.9898526072502136,
           0.34681907296180725,
           0.38844209909439087,
           0.3789721429347992,
           0.9871581792831421,
           1,
           0.23639288544654846,
           0.42140814661979675,
           0.9588639736175537,
           0.3416884243488312,
           0.33543896675109863,
           0.38617315888404846
          ],
          [
           0.5127161145210266,
           0.5828462243080139,
           0.5182729363441467,
           0.21050313115119934,
           0.24437710642814636,
           0.49865108728408813,
           0.39981555938720703,
           0.41488948464393616,
           0.2540464699268341,
           0.4015517830848694,
           0.22318115830421448,
           0.5177252292633057,
           0.530001699924469,
           0.5697989463806152,
           0.5190395712852478,
           0.4498826265335083,
           0.593622624874115,
           0.5598605871200562,
           0.5051402449607849,
           0.23677338659763336,
           0.2385234832763672,
           0.4945361018180847,
           0.5708469152450562,
           0.23228737711906433,
           0.6707639694213867,
           0.5799469947814941,
           0.15849652886390686,
           0.5781232118606567,
           0.43423792719841003,
           0.5131837725639343,
           0.636726975440979,
           0.21699127554893494,
           0.6262156367301941,
           0.8450155854225159,
           0.6515116691589355,
           0.7154731154441833,
           0.5201095938682556,
           0.2507105767726898,
           0.5891309976577759,
           0.5267776250839233,
           0.5873894691467285,
           0.22211462259292603,
           0.23639288544654846,
           0.9999999403953552,
           0.3994687795639038,
           0.24399548768997192,
           0.3777267038822174,
           0.5313163995742798,
           0.5622472167015076
          ],
          [
           0.6656103134155273,
           0.6913297772407532,
           0.5354493260383606,
           0.4050995707511902,
           0.43655088543891907,
           0.6303485631942749,
           0.6140942573547363,
           0.642392635345459,
           0.44050130248069763,
           0.8421368598937988,
           0.41928690671920776,
           0.5842524766921997,
           0.5269062519073486,
           0.5470797419548035,
           0.5433474779129028,
           0.7898316383361816,
           0.6234719753265381,
           0.5455220937728882,
           0.8407135605812073,
           0.43061408400535583,
           0.43390971422195435,
           0.6467524766921997,
           0.5878504514694214,
           0.43082404136657715,
           0.6695683598518372,
           0.6574090123176575,
           0.3327888250350952,
           0.6122372150421143,
           0.6381637454032898,
           0.5358600616455078,
           0.669945478439331,
           0.40853920578956604,
           0.5783004760742188,
           0.42998969554901123,
           0.6561188697814941,
           0.34265172481536865,
           0.5344081521034241,
           0.441328763961792,
           0.5279636979103088,
           0.6185703873634338,
           0.6260889768600464,
           0.405355840921402,
           0.42140814661979675,
           0.3994687795639038,
           1.000000238418579,
           0.43192344903945923,
           0.5163765549659729,
           0.5520747303962708,
           0.7114163637161255
          ],
          [
           0.39513787627220154,
           0.4105531573295593,
           0.4271027445793152,
           0.9803515672683716,
           0.9879132509231567,
           0.4380796551704407,
           0.4364495873451233,
           0.35110488533973694,
           0.9809688329696655,
           0.4079943895339966,
           0.950273334980011,
           0.3755566477775574,
           0.34241950511932373,
           0.3204708397388458,
           0.41828298568725586,
           0.41965290904045105,
           0.3666157126426697,
           0.3273501396179199,
           0.43450728058815,
           0.9909812808036804,
           0.9853414297103882,
           0.43890380859375,
           0.33977487683296204,
           0.9959395527839661,
           0.40783464908599854,
           0.4018210172653198,
           0.8449467420578003,
           0.3843160569667816,
           0.42744651436805725,
           0.4160163998603821,
           0.41945528984069824,
           0.9445520639419556,
           0.3313005268573761,
           0.27556565403938293,
           0.42782682180404663,
           0.26191484928131104,
           0.4236227869987488,
           0.9685263633728027,
           0.3583422899246216,
           0.38921937346458435,
           0.38929876685142517,
           0.9739274978637695,
           0.9588639736175537,
           0.24399548768997192,
           0.43192344903945923,
           1.000000238418579,
           0.35917210578918457,
           0.3377705514431,
           0.4038859009742737
          ],
          [
           0.4841838479042053,
           0.5872136354446411,
           0.5448956489562988,
           0.3347088694572449,
           0.3631002902984619,
           0.6669663190841675,
           0.5488189458847046,
           0.5438904762268066,
           0.35136255621910095,
           0.5393590927124023,
           0.36603933572769165,
           0.7021198868751526,
           0.6965879201889038,
           0.5986214876174927,
           0.5456767082214355,
           0.5352860689163208,
           0.6140902042388916,
           0.5923519134521484,
           0.5869545936584473,
           0.35860878229141235,
           0.34845030307769775,
           0.6816095113754272,
           0.5696491003036499,
           0.3555942177772522,
           0.5892543792724609,
           0.6414676904678345,
           0.277621865272522,
           0.7179446220397949,
           0.5846831202507019,
           0.5546293258666992,
           0.6089665293693542,
           0.35017451643943787,
           0.674618661403656,
           0.45456328988075256,
           0.598442018032074,
           0.40208956599235535,
           0.6059287786483765,
           0.3564470410346985,
           0.5489714741706848,
           0.6516249179840088,
           0.6317486763000488,
           0.3357475996017456,
           0.3416884243488312,
           0.3777267038822174,
           0.5163765549659729,
           0.35917210578918457,
           1,
           0.5768494009971619,
           0.6835360527038574
          ],
          [
           0.4911406636238098,
           0.7253943681716919,
           0.5312873721122742,
           0.31113776564598083,
           0.3478122055530548,
           0.7191042900085449,
           0.6218039393424988,
           0.6284506320953369,
           0.34710395336151123,
           0.5557234287261963,
           0.328393816947937,
           0.7582426071166992,
           0.8093066811561584,
           0.9279934167861938,
           0.5278642177581787,
           0.6211029887199402,
           0.8207120895385742,
           0.911365807056427,
           0.6502209901809692,
           0.3334287405014038,
           0.3326951265335083,
           0.761906623840332,
           0.8140149116516113,
           0.325978547334671,
           0.6802331805229187,
           0.7849628925323486,
           0.25818371772766113,
           0.7982913255691528,
           0.6720279455184937,
           0.5268272161483765,
           0.6952579617500305,
           0.30838465690612793,
           0.8342293500900269,
           0.4546423852443695,
           0.6541104316711426,
           0.46979066729545593,
           0.5724428296089172,
           0.34925511479377747,
           0.7077447175979614,
           0.7813315391540527,
           0.8116657137870789,
           0.3233371675014496,
           0.33543896675109863,
           0.5313163995742798,
           0.5520747303962708,
           0.3377705514431,
           0.5768494009971619,
           0.9999995231628418,
           0.7890335917472839
          ],
          [
           0.660541296005249,
           0.8252502679824829,
           0.6261277794837952,
           0.3735288083553314,
           0.4079434275627136,
           0.7758159637451172,
           0.6858309507369995,
           0.7574115991592407,
           0.4143938422203064,
           0.7288215756416321,
           0.39404231309890747,
           0.7194550633430481,
           0.877139687538147,
           0.7998318076133728,
           0.6271229386329651,
           0.776400625705719,
           0.7972059845924377,
           0.7555296421051025,
           0.8289909362792969,
           0.40293166041374207,
           0.40278053283691406,
           0.8780001997947693,
           0.7623057961463928,
           0.3987570106983185,
           0.7347347736358643,
           0.8717331290245056,
           0.2887987196445465,
           0.8993654847145081,
           0.7626494765281677,
           0.611919105052948,
           0.7774019241333008,
           0.3783737123012543,
           0.7557247877120972,
           0.558092474937439,
           0.7554811835289001,
           0.5453923940658569,
           0.6565253734588623,
           0.409135639667511,
           0.7798465490341187,
           0.7211616635322571,
           0.7603919506072998,
           0.3822660446166992,
           0.38617315888404846,
           0.5622472167015076,
           0.7114163637161255,
           0.4038859009742737,
           0.6835360527038574,
           0.7890335917472839,
           1
          ]
         ]
        }
       ],
       "layout": {
        "coloraxis": {
         "colorbar": {
          "title": {
           "text": "Similarity Score"
          }
         },
         "colorscale": [
          [
           0,
           "rgb(247,252,240)"
          ],
          [
           0.125,
           "rgb(224,243,219)"
          ],
          [
           0.25,
           "rgb(204,235,197)"
          ],
          [
           0.375,
           "rgb(168,221,181)"
          ],
          [
           0.5,
           "rgb(123,204,196)"
          ],
          [
           0.625,
           "rgb(78,179,211)"
          ],
          [
           0.75,
           "rgb(43,140,190)"
          ],
          [
           0.875,
           "rgb(8,104,172)"
          ],
          [
           1,
           "rgb(8,64,129)"
          ]
         ]
        },
        "height": 800,
        "hoverlabel": {
         "bgcolor": "white",
         "font": {
          "family": "Rockwell",
          "size": 16
         }
        },
        "legend": {
         "title": {
          "text": "Trend"
         }
        },
        "margin": {
         "t": 60
        },
        "showlegend": true,
        "template": {
         "data": {
          "bar": [
           {
            "error_x": {
             "color": "#2a3f5f"
            },
            "error_y": {
             "color": "#2a3f5f"
            },
            "marker": {
             "line": {
              "color": "#E5ECF6",
              "width": 0.5
             },
             "pattern": {
              "fillmode": "overlay",
              "size": 10,
              "solidity": 0.2
             }
            },
            "type": "bar"
           }
          ],
          "barpolar": [
           {
            "marker": {
             "line": {
              "color": "#E5ECF6",
              "width": 0.5
             },
             "pattern": {
              "fillmode": "overlay",
              "size": 10,
              "solidity": 0.2
             }
            },
            "type": "barpolar"
           }
          ],
          "carpet": [
           {
            "aaxis": {
             "endlinecolor": "#2a3f5f",
             "gridcolor": "white",
             "linecolor": "white",
             "minorgridcolor": "white",
             "startlinecolor": "#2a3f5f"
            },
            "baxis": {
             "endlinecolor": "#2a3f5f",
             "gridcolor": "white",
             "linecolor": "white",
             "minorgridcolor": "white",
             "startlinecolor": "#2a3f5f"
            },
            "type": "carpet"
           }
          ],
          "choropleth": [
           {
            "colorbar": {
             "outlinewidth": 0,
             "ticks": ""
            },
            "type": "choropleth"
           }
          ],
          "contour": [
           {
            "colorbar": {
             "outlinewidth": 0,
             "ticks": ""
            },
            "colorscale": [
             [
              0,
              "#0d0887"
             ],
             [
              0.1111111111111111,
              "#46039f"
             ],
             [
              0.2222222222222222,
              "#7201a8"
             ],
             [
              0.3333333333333333,
              "#9c179e"
             ],
             [
              0.4444444444444444,
              "#bd3786"
             ],
             [
              0.5555555555555556,
              "#d8576b"
             ],
             [
              0.6666666666666666,
              "#ed7953"
             ],
             [
              0.7777777777777778,
              "#fb9f3a"
             ],
             [
              0.8888888888888888,
              "#fdca26"
             ],
             [
              1,
              "#f0f921"
             ]
            ],
            "type": "contour"
           }
          ],
          "contourcarpet": [
           {
            "colorbar": {
             "outlinewidth": 0,
             "ticks": ""
            },
            "type": "contourcarpet"
           }
          ],
          "heatmap": [
           {
            "colorbar": {
             "outlinewidth": 0,
             "ticks": ""
            },
            "colorscale": [
             [
              0,
              "#0d0887"
             ],
             [
              0.1111111111111111,
              "#46039f"
             ],
             [
              0.2222222222222222,
              "#7201a8"
             ],
             [
              0.3333333333333333,
              "#9c179e"
             ],
             [
              0.4444444444444444,
              "#bd3786"
             ],
             [
              0.5555555555555556,
              "#d8576b"
             ],
             [
              0.6666666666666666,
              "#ed7953"
             ],
             [
              0.7777777777777778,
              "#fb9f3a"
             ],
             [
              0.8888888888888888,
              "#fdca26"
             ],
             [
              1,
              "#f0f921"
             ]
            ],
            "type": "heatmap"
           }
          ],
          "heatmapgl": [
           {
            "colorbar": {
             "outlinewidth": 0,
             "ticks": ""
            },
            "colorscale": [
             [
              0,
              "#0d0887"
             ],
             [
              0.1111111111111111,
              "#46039f"
             ],
             [
              0.2222222222222222,
              "#7201a8"
             ],
             [
              0.3333333333333333,
              "#9c179e"
             ],
             [
              0.4444444444444444,
              "#bd3786"
             ],
             [
              0.5555555555555556,
              "#d8576b"
             ],
             [
              0.6666666666666666,
              "#ed7953"
             ],
             [
              0.7777777777777778,
              "#fb9f3a"
             ],
             [
              0.8888888888888888,
              "#fdca26"
             ],
             [
              1,
              "#f0f921"
             ]
            ],
            "type": "heatmapgl"
           }
          ],
          "histogram": [
           {
            "marker": {
             "pattern": {
              "fillmode": "overlay",
              "size": 10,
              "solidity": 0.2
             }
            },
            "type": "histogram"
           }
          ],
          "histogram2d": [
           {
            "colorbar": {
             "outlinewidth": 0,
             "ticks": ""
            },
            "colorscale": [
             [
              0,
              "#0d0887"
             ],
             [
              0.1111111111111111,
              "#46039f"
             ],
             [
              0.2222222222222222,
              "#7201a8"
             ],
             [
              0.3333333333333333,
              "#9c179e"
             ],
             [
              0.4444444444444444,
              "#bd3786"
             ],
             [
              0.5555555555555556,
              "#d8576b"
             ],
             [
              0.6666666666666666,
              "#ed7953"
             ],
             [
              0.7777777777777778,
              "#fb9f3a"
             ],
             [
              0.8888888888888888,
              "#fdca26"
             ],
             [
              1,
              "#f0f921"
             ]
            ],
            "type": "histogram2d"
           }
          ],
          "histogram2dcontour": [
           {
            "colorbar": {
             "outlinewidth": 0,
             "ticks": ""
            },
            "colorscale": [
             [
              0,
              "#0d0887"
             ],
             [
              0.1111111111111111,
              "#46039f"
             ],
             [
              0.2222222222222222,
              "#7201a8"
             ],
             [
              0.3333333333333333,
              "#9c179e"
             ],
             [
              0.4444444444444444,
              "#bd3786"
             ],
             [
              0.5555555555555556,
              "#d8576b"
             ],
             [
              0.6666666666666666,
              "#ed7953"
             ],
             [
              0.7777777777777778,
              "#fb9f3a"
             ],
             [
              0.8888888888888888,
              "#fdca26"
             ],
             [
              1,
              "#f0f921"
             ]
            ],
            "type": "histogram2dcontour"
           }
          ],
          "mesh3d": [
           {
            "colorbar": {
             "outlinewidth": 0,
             "ticks": ""
            },
            "type": "mesh3d"
           }
          ],
          "parcoords": [
           {
            "line": {
             "colorbar": {
              "outlinewidth": 0,
              "ticks": ""
             }
            },
            "type": "parcoords"
           }
          ],
          "pie": [
           {
            "automargin": true,
            "type": "pie"
           }
          ],
          "scatter": [
           {
            "fillpattern": {
             "fillmode": "overlay",
             "size": 10,
             "solidity": 0.2
            },
            "type": "scatter"
           }
          ],
          "scatter3d": [
           {
            "line": {
             "colorbar": {
              "outlinewidth": 0,
              "ticks": ""
             }
            },
            "marker": {
             "colorbar": {
              "outlinewidth": 0,
              "ticks": ""
             }
            },
            "type": "scatter3d"
           }
          ],
          "scattercarpet": [
           {
            "marker": {
             "colorbar": {
              "outlinewidth": 0,
              "ticks": ""
             }
            },
            "type": "scattercarpet"
           }
          ],
          "scattergeo": [
           {
            "marker": {
             "colorbar": {
              "outlinewidth": 0,
              "ticks": ""
             }
            },
            "type": "scattergeo"
           }
          ],
          "scattergl": [
           {
            "marker": {
             "colorbar": {
              "outlinewidth": 0,
              "ticks": ""
             }
            },
            "type": "scattergl"
           }
          ],
          "scattermapbox": [
           {
            "marker": {
             "colorbar": {
              "outlinewidth": 0,
              "ticks": ""
             }
            },
            "type": "scattermapbox"
           }
          ],
          "scatterpolar": [
           {
            "marker": {
             "colorbar": {
              "outlinewidth": 0,
              "ticks": ""
             }
            },
            "type": "scatterpolar"
           }
          ],
          "scatterpolargl": [
           {
            "marker": {
             "colorbar": {
              "outlinewidth": 0,
              "ticks": ""
             }
            },
            "type": "scatterpolargl"
           }
          ],
          "scatterternary": [
           {
            "marker": {
             "colorbar": {
              "outlinewidth": 0,
              "ticks": ""
             }
            },
            "type": "scatterternary"
           }
          ],
          "surface": [
           {
            "colorbar": {
             "outlinewidth": 0,
             "ticks": ""
            },
            "colorscale": [
             [
              0,
              "#0d0887"
             ],
             [
              0.1111111111111111,
              "#46039f"
             ],
             [
              0.2222222222222222,
              "#7201a8"
             ],
             [
              0.3333333333333333,
              "#9c179e"
             ],
             [
              0.4444444444444444,
              "#bd3786"
             ],
             [
              0.5555555555555556,
              "#d8576b"
             ],
             [
              0.6666666666666666,
              "#ed7953"
             ],
             [
              0.7777777777777778,
              "#fb9f3a"
             ],
             [
              0.8888888888888888,
              "#fdca26"
             ],
             [
              1,
              "#f0f921"
             ]
            ],
            "type": "surface"
           }
          ],
          "table": [
           {
            "cells": {
             "fill": {
              "color": "#EBF0F8"
             },
             "line": {
              "color": "white"
             }
            },
            "header": {
             "fill": {
              "color": "#C8D4E3"
             },
             "line": {
              "color": "white"
             }
            },
            "type": "table"
           }
          ]
         },
         "layout": {
          "annotationdefaults": {
           "arrowcolor": "#2a3f5f",
           "arrowhead": 0,
           "arrowwidth": 1
          },
          "autotypenumbers": "strict",
          "coloraxis": {
           "colorbar": {
            "outlinewidth": 0,
            "ticks": ""
           }
          },
          "colorscale": {
           "diverging": [
            [
             0,
             "#8e0152"
            ],
            [
             0.1,
             "#c51b7d"
            ],
            [
             0.2,
             "#de77ae"
            ],
            [
             0.3,
             "#f1b6da"
            ],
            [
             0.4,
             "#fde0ef"
            ],
            [
             0.5,
             "#f7f7f7"
            ],
            [
             0.6,
             "#e6f5d0"
            ],
            [
             0.7,
             "#b8e186"
            ],
            [
             0.8,
             "#7fbc41"
            ],
            [
             0.9,
             "#4d9221"
            ],
            [
             1,
             "#276419"
            ]
           ],
           "sequential": [
            [
             0,
             "#0d0887"
            ],
            [
             0.1111111111111111,
             "#46039f"
            ],
            [
             0.2222222222222222,
             "#7201a8"
            ],
            [
             0.3333333333333333,
             "#9c179e"
            ],
            [
             0.4444444444444444,
             "#bd3786"
            ],
            [
             0.5555555555555556,
             "#d8576b"
            ],
            [
             0.6666666666666666,
             "#ed7953"
            ],
            [
             0.7777777777777778,
             "#fb9f3a"
            ],
            [
             0.8888888888888888,
             "#fdca26"
            ],
            [
             1,
             "#f0f921"
            ]
           ],
           "sequentialminus": [
            [
             0,
             "#0d0887"
            ],
            [
             0.1111111111111111,
             "#46039f"
            ],
            [
             0.2222222222222222,
             "#7201a8"
            ],
            [
             0.3333333333333333,
             "#9c179e"
            ],
            [
             0.4444444444444444,
             "#bd3786"
            ],
            [
             0.5555555555555556,
             "#d8576b"
            ],
            [
             0.6666666666666666,
             "#ed7953"
            ],
            [
             0.7777777777777778,
             "#fb9f3a"
            ],
            [
             0.8888888888888888,
             "#fdca26"
            ],
            [
             1,
             "#f0f921"
            ]
           ]
          },
          "colorway": [
           "#636efa",
           "#EF553B",
           "#00cc96",
           "#ab63fa",
           "#FFA15A",
           "#19d3f3",
           "#FF6692",
           "#B6E880",
           "#FF97FF",
           "#FECB52"
          ],
          "font": {
           "color": "#2a3f5f"
          },
          "geo": {
           "bgcolor": "white",
           "lakecolor": "white",
           "landcolor": "#E5ECF6",
           "showlakes": true,
           "showland": true,
           "subunitcolor": "white"
          },
          "hoverlabel": {
           "align": "left"
          },
          "hovermode": "closest",
          "mapbox": {
           "style": "light"
          },
          "paper_bgcolor": "white",
          "plot_bgcolor": "#E5ECF6",
          "polar": {
           "angularaxis": {
            "gridcolor": "white",
            "linecolor": "white",
            "ticks": ""
           },
           "bgcolor": "#E5ECF6",
           "radialaxis": {
            "gridcolor": "white",
            "linecolor": "white",
            "ticks": ""
           }
          },
          "scene": {
           "xaxis": {
            "backgroundcolor": "#E5ECF6",
            "gridcolor": "white",
            "gridwidth": 2,
            "linecolor": "white",
            "showbackground": true,
            "ticks": "",
            "zerolinecolor": "white"
           },
           "yaxis": {
            "backgroundcolor": "#E5ECF6",
            "gridcolor": "white",
            "gridwidth": 2,
            "linecolor": "white",
            "showbackground": true,
            "ticks": "",
            "zerolinecolor": "white"
           },
           "zaxis": {
            "backgroundcolor": "#E5ECF6",
            "gridcolor": "white",
            "gridwidth": 2,
            "linecolor": "white",
            "showbackground": true,
            "ticks": "",
            "zerolinecolor": "white"
           }
          },
          "shapedefaults": {
           "line": {
            "color": "#2a3f5f"
           }
          },
          "ternary": {
           "aaxis": {
            "gridcolor": "white",
            "linecolor": "white",
            "ticks": ""
           },
           "baxis": {
            "gridcolor": "white",
            "linecolor": "white",
            "ticks": ""
           },
           "bgcolor": "#E5ECF6",
           "caxis": {
            "gridcolor": "white",
            "linecolor": "white",
            "ticks": ""
           }
          },
          "title": {
           "x": 0.05
          },
          "xaxis": {
           "automargin": true,
           "gridcolor": "white",
           "linecolor": "white",
           "ticks": "",
           "title": {
            "standoff": 15
           },
           "zerolinecolor": "white",
           "zerolinewidth": 2
          },
          "yaxis": {
           "automargin": true,
           "gridcolor": "white",
           "linecolor": "white",
           "ticks": "",
           "title": {
            "standoff": 15
           },
           "zerolinecolor": "white",
           "zerolinewidth": 2
          }
         }
        },
        "title": {
         "font": {
          "color": "Black",
          "size": 22
         },
         "text": "<b>Similarity Matrix</b>",
         "x": 0.55,
         "xanchor": "center",
         "y": 0.95,
         "yanchor": "top"
        },
        "width": 800,
        "xaxis": {
         "anchor": "y",
         "constrain": "domain",
         "domain": [
          0,
          1
         ],
         "scaleanchor": "y"
        },
        "yaxis": {
         "anchor": "x",
         "autorange": "reversed",
         "constrain": "domain",
         "domain": [
          0,
          1
         ]
        }
       }
      }
     },
     "metadata": {},
     "output_type": "display_data"
    }
   ],
   "source": [
    "topic_model.visualize_heatmap().show()"
   ]
  },
  {
   "cell_type": "code",
   "execution_count": 62,
   "metadata": {},
   "outputs": [
    {
     "data": {
      "application/vnd.plotly.v1+json": {
       "config": {
        "plotlyServerURL": "https://plot.ly"
       },
       "data": [
        {
         "hovertext": "<b>Topic -1</b>:call_dudley_cerniglia_inc_morning_",
         "line": {
          "color": "black",
          "width": 1.5
         },
         "mode": "lines+lines",
         "name": "",
         "opacity": 0.1,
         "type": "scatter",
         "x": [
          1,
          2,
          3,
          4,
          5,
          6,
          7,
          8,
          9,
          10
         ],
         "y": [
          0.03764386656402633,
          0.03668197687579699,
          0.03018199931008391,
          0.02868047200359684,
          0.027530921853181872,
          0.02717843874601971,
          0.026275687245004363,
          0.025710157606331063,
          0.025463076580593155,
          0.024896912462469802
         ]
        },
        {
         "hovertext": "<b>Topic 0</b>:the_in_to_of_we_and_our_year_quarte",
         "line": {
          "color": "black",
          "width": 1.5
         },
         "mode": "lines+lines",
         "name": "",
         "opacity": 0.1,
         "type": "scatter",
         "x": [
          1,
          2,
          3,
          4,
          5,
          6,
          7,
          8,
          9,
          10
         ],
         "y": [
          0.01761896666720122,
          0.016360601551061,
          0.016055070381938426,
          0.01549357897710391,
          0.015441296234445704,
          0.014850078916326373,
          0.014579595151239367,
          0.012928099148641408,
          0.012707408374379586,
          0.012071148579100192
         ]
        },
        {
         "hovertext": "<b>Topic 1</b>:then_will_ll_results_call_update_di",
         "line": {
          "color": "black",
          "width": 1.5
         },
         "mode": "lines+lines",
         "name": "",
         "opacity": 0.1,
         "type": "scatter",
         "x": [
          1,
          2,
          3,
          4,
          5,
          6,
          7,
          8,
          9,
          10
         ],
         "y": [
          0.040337897929299135,
          0.03690575701401783,
          0.03639061995251739,
          0.03387708987739666,
          0.03234820937201975,
          0.03119272696558093,
          0.027507759883980767,
          0.026675094728325938,
          0.02565826687694641,
          0.024844365535341754
         ]
        },
        {
         "hovertext": "<b>Topic 2</b>:camp_inc_ceo_ken_president_hillenbr",
         "line": {
          "color": "black",
          "width": 1.5
         },
         "mode": "lines+lines",
         "name": "",
         "opacity": 0.1,
         "type": "scatter",
         "x": [
          1,
          2,
          3,
          4,
          5,
          6,
          7,
          8,
          9,
          10
         ],
         "y": [
          0.4287746035373161,
          0.4159737610027734,
          0.35526921758841457,
          0.3355726916823403,
          0.3233321007044684,
          0.25380098660676204,
          0.09972478779893403,
          0.0798194813302643,
          0.07308183368849125,
          0.06631824684371143
         ]
        },
        {
         "hovertext": "<b>Topic 3</b>:corporation_smurfit_stone_container",
         "line": {
          "color": "black",
          "width": 1.5
         },
         "mode": "lines+lines",
         "name": "",
         "opacity": 0.1,
         "type": "scatter",
         "x": [
          1,
          2,
          3,
          4,
          5,
          6,
          7,
          8,
          9,
          10
         ],
         "y": [
          0.3376993114294134,
          0.33184222065381797,
          0.33014108499156763,
          0.2960918803780901,
          0.2509727273833182,
          0.24564932345170484,
          0.22957078966365216,
          0.1850239665889143,
          0.18240999590262644,
          0.1538869138314336
         ]
        },
        {
         "hovertext": "<b>Topic 4</b>:corporation_container_stone_smurfit",
         "line": {
          "color": "black",
          "width": 1.5
         },
         "mode": "lines+lines",
         "name": "",
         "opacity": 0.1,
         "type": "scatter",
         "x": [
          1,
          2,
          3,
          4,
          5,
          6,
          7,
          8,
          9,
          10
         ],
         "y": [
          0.29548689750073676,
          0.22406953109693306,
          0.21759298783535141,
          0.2138538755324605,
          0.16621388144114094,
          0.1580886631156096,
          0.14001569514415008,
          0.13840291798215254,
          0.12334931105927618,
          0.10890109622322784
         ]
        },
        {
         "hovertext": "<b>Topic 5</b>:conference_ladies_gentlemen_conduct",
         "line": {
          "color": "black",
          "width": 1.5
         },
         "mode": "lines+lines",
         "name": "",
         "opacity": 0.1,
         "type": "scatter",
         "x": [
          1,
          2,
          3,
          4,
          5,
          6,
          7,
          8,
          9,
          10
         ],
         "y": [
          0.10686866525855279,
          0.07590425685933615,
          0.07309298808676815,
          0.07225216899963716,
          0.07173233979439476,
          0.07042081143566115,
          0.06816110037453639,
          0.061843427112074155,
          0.06069182195969521,
          0.06033423316055469
         ]
        },
        {
         "hovertext": "<b>Topic 6</b>:replay_internationally_midnight_eas",
         "line": {
          "color": "black",
          "width": 1.5
         },
         "mode": "lines+lines",
         "name": "",
         "opacity": 0.1,
         "type": "scatter",
         "x": [
          1,
          2,
          3,
          4,
          5,
          6,
          7,
          8,
          9,
          10
         ],
         "y": [
          0.08986122173395086,
          0.06860495964653648,
          0.06663417481461813,
          0.06344101394645395,
          0.060943350473198446,
          0.05812999291266435,
          0.0578806193448621,
          0.056488493445588976,
          0.05542407397282457,
          0.05395242677102207
         ]
        },
        {
         "hovertext": "<b>Topic 7</b>:recording_any_consent_text_permitte",
         "line": {
          "color": "black",
          "width": 1.5
         },
         "mode": "lines+lines",
         "name": "",
         "opacity": 0.1,
         "type": "scatter",
         "x": [
          1,
          2,
          3,
          4,
          5,
          6,
          7,
          8,
          9,
          10
         ],
         "y": [
          0.16756385421281003,
          0.13025990809420773,
          0.10029912071316008,
          0.09983173621798455,
          0.09983173621798455,
          0.09983173621798455,
          0.09706366520628396,
          0.09706366520628396,
          0.09565329875913088,
          0.09527777335129299
         ]
        },
        {
         "hovertext": "<b>Topic 8</b>:director_raver_inc_ceo_joe_amp_pres",
         "line": {
          "color": "black",
          "width": 1.5
         },
         "mode": "lines+lines",
         "name": "",
         "opacity": 0.1,
         "type": "scatter",
         "x": [
          1,
          2,
          3,
          4,
          5,
          6,
          7,
          8,
          9,
          10
         ],
         "y": [
          0.45973605381696375,
          0.4286179325796416,
          0.39730189762708445,
          0.36942336968357053,
          0.3430647667692794,
          0.34197057237901585,
          0.30881865448426776,
          0.23209333250095351,
          0.021445520371791024,
          0.014703256797283563
         ]
        },
        {
         "hovertext": "<b>Topic 9</b>:statements_securities_looking_laws_",
         "line": {
          "color": "black",
          "width": 1.5
         },
         "mode": "lines+lines",
         "name": "",
         "opacity": 0.1,
         "type": "scatter",
         "x": [
          1,
          2,
          3,
          4,
          5,
          6,
          7,
          8,
          9,
          10
         ],
         "y": [
          0.11475660630733545,
          0.06837998799781857,
          0.06655958218187721,
          0.0651196168450582,
          0.06274764113819446,
          0.06205751981316081,
          0.06115226191239145,
          0.05998601630362,
          0.05892220299889322,
          0.05875285333915223
         ]
        },
        {
         "hovertext": "<b>Topic 10</b>:analyst_suisse_klein_bruce_deutsch",
         "line": {
          "color": "black",
          "width": 1.5
         },
         "mode": "lines+lines",
         "name": "",
         "opacity": 0.1,
         "type": "scatter",
         "x": [
          1,
          2,
          3,
          4,
          5,
          6,
          7,
          8,
          9,
          10
         ],
         "y": [
          0.6967493022451369,
          0.2458268563545746,
          0.2458268563545746,
          0.2458268563545746,
          0.24130479521456197,
          0.24130479521456197,
          0.23726052161839972,
          0.2107087340182068,
          0.2107087340182068,
          0.2107087340182068
         ]
        },
        {
         "hovertext": "<b>Topic 11</b>:relations_investor_go_mr_ahead_con",
         "line": {
          "color": "black",
          "width": 1.5
         },
         "mode": "lines+lines",
         "name": "",
         "opacity": 0.1,
         "type": "scatter",
         "x": [
          1,
          2,
          3,
          4,
          5,
          6,
          7,
          8,
          9,
          10
         ],
         "y": [
          0.15262525849150743,
          0.14722916888514279,
          0.1454718555573943,
          0.14311203325294083,
          0.13909995446973458,
          0.13122308897393725,
          0.12498365579788005,
          0.12040855030028524,
          0.11509055407011784,
          0.10008972622463459
         ]
        },
        {
         "hovertext": "<b>Topic 12</b>:ready_open_questions_operator_conc",
         "line": {
          "color": "black",
          "width": 1.5
         },
         "mode": "lines+lines",
         "name": "",
         "opacity": 0.1,
         "type": "scatter",
         "x": [
          1,
          2,
          3,
          4,
          5,
          6,
          7,
          8,
          9,
          10
         ],
         "y": [
          0.21430748044582754,
          0.20596837247845357,
          0.1977221406557358,
          0.18259692375355893,
          0.1803592676926214,
          0.16064016153448973,
          0.13584535373429046,
          0.1298968421451001,
          0.12494234786015868,
          0.11695398567847949
         ]
        },
        {
         "hovertext": "<b>Topic 13</b>:concluding_ken_his_back_remarks_tu",
         "line": {
          "color": "black",
          "width": 1.5
         },
         "mode": "lines+lines",
         "name": "",
         "opacity": 0.1,
         "type": "scatter",
         "x": [
          1,
          2,
          3,
          4,
          5,
          6,
          7,
          8,
          9,
          10
         ],
         "y": [
          0.3227709201625034,
          0.2869270189323205,
          0.2810199925694111,
          0.2664797043941203,
          0.24793754224717202,
          0.18343717097169396,
          0.17004595884064613,
          0.134919039935158,
          0.11040354237902199,
          0.09090713291868648
         ]
        },
        {
         "hovertext": "<b>Topic 14</b>:moore_pat_ceo_stone_smurfit_presid",
         "line": {
          "color": "black",
          "width": 1.5
         },
         "mode": "lines+lines",
         "name": "",
         "opacity": 0.1,
         "type": "scatter",
         "x": [
          1,
          2,
          3,
          4,
          5,
          6,
          7,
          8,
          9,
          10
         ],
         "y": [
          0.4572413183392916,
          0.39632057365022694,
          0.38866877876289424,
          0.32645687582318056,
          0.3208470492708771,
          0.3144259470323692,
          0.06320440082801336,
          0.04241800732193112,
          0.04241800732193112,
          0.039992582718501514
         ]
        },
        {
         "hovertext": "<b>Topic 15</b>:measures_gaap_non_discussing_encou",
         "line": {
          "color": "black",
          "width": 1.5
         },
         "mode": "lines+lines",
         "name": "",
         "opacity": 0.1,
         "type": "scatter",
         "x": [
          1,
          2,
          3,
          4,
          5,
          6,
          7,
          8,
          9,
          10
         ],
         "y": [
          0.1526799732285831,
          0.13238461412177366,
          0.09215459831361539,
          0.07047180433049384,
          0.06750423518956948,
          0.06657827431713191,
          0.06522959747859511,
          0.0630797425217399,
          0.06061120945032479,
          0.06023574963904888
         ]
        },
        {
         "hovertext": "<b>Topic 16</b>:kristina_detail_turn_more_let_bit_",
         "line": {
          "color": "black",
          "width": 1.5
         },
         "mode": "lines+lines",
         "name": "",
         "opacity": 0.1,
         "type": "scatter",
         "x": [
          1,
          2,
          3,
          4,
          5,
          6,
          7,
          8,
          9,
          10
         ],
         "y": [
          0.2221180811274201,
          0.13709351859202515,
          0.11073341418413232,
          0.09467601455532691,
          0.08890985996047986,
          0.08728592134972002,
          0.08061335396348017,
          0.07620587621498012,
          0.0738454896482425,
          0.06397647237435157
         ]
        },
        {
         "hovertext": "<b>Topic 17</b>:turn_joe_call_back_ll_over_now_tim",
         "line": {
          "color": "black",
          "width": 1.5
         },
         "mode": "lines+lines",
         "name": "",
         "opacity": 0.1,
         "type": "scatter",
         "x": [
          1,
          2,
          3,
          4,
          5,
          6,
          7,
          8,
          9,
          10
         ],
         "y": [
          0.2460742537425163,
          0.21679749855946906,
          0.1809889560105778,
          0.15320261750881475,
          0.13463846631588047,
          0.12307581608040417,
          0.09331790424181799,
          0.07324660878739939,
          0.05844164849468232,
          0.05439840334104543
         ]
        },
        {
         "hovertext": "<b>Topic 18</b>:statements_actual_measures_looking",
         "line": {
          "color": "black",
          "width": 1.5
         },
         "mode": "lines+lines",
         "name": "",
         "opacity": 0.1,
         "type": "scatter",
         "x": [
          1,
          2,
          3,
          4,
          5,
          6,
          7,
          8,
          9,
          10
         ],
         "y": [
          0.05918225869290286,
          0.0370783170849054,
          0.036733631189664336,
          0.036660658114828125,
          0.034180946495543284,
          0.03402048045311613,
          0.03185072336274728,
          0.030887080309820486,
          0.03075023213377263,
          0.03034123286202387
         ]
        },
        {
         "hovertext": "<b>Topic 19</b>:moore_pat_ceo_stone_smurfit_presid",
         "line": {
          "color": "black",
          "width": 1.5
         },
         "mode": "lines+lines",
         "name": "",
         "opacity": 0.1,
         "type": "scatter",
         "x": [
          1,
          2,
          3,
          4,
          5,
          6,
          7,
          8,
          9,
          10
         ],
         "y": [
          0.4545196438253673,
          0.3939615226165947,
          0.38635527412740084,
          0.32451368013375687,
          0.3189372454061695,
          0.3125543640143194,
          0.1058836992421331,
          0.06922148014244539,
          0.05654536574077624,
          0.04427379514226561
         ]
        },
        {
         "hovertext": "<b>Topic 20</b>:ceo_inc_president_corp_raver_joe_h",
         "line": {
          "color": "black",
          "width": 1.5
         },
         "mode": "lines+lines",
         "name": "",
         "opacity": 0.1,
         "type": "scatter",
         "x": [
          1,
          2,
          3,
          4,
          5,
          6,
          7,
          8,
          9,
          10
         ],
         "y": [
          0.3890570592611589,
          0.3149377099620065,
          0.26228338238963866,
          0.24784771641048764,
          0.2426868961820213,
          0.19424601051001383,
          0.18397833756109871,
          0.11847127187930977,
          0.11617591072857968,
          0.11280556570099112
         ]
        },
        {
         "hovertext": "<b>Topic 21</b>:me_if_please_call_812_mail_hesitat",
         "line": {
          "color": "black",
          "width": 1.5
         },
         "mode": "lines+lines",
         "name": "",
         "opacity": 0.1,
         "type": "scatter",
         "x": [
          1,
          2,
          3,
          4,
          5,
          6,
          7,
          8,
          9,
          10
         ],
         "y": [
          0.09072406601042002,
          0.07249103360189944,
          0.06940780032089922,
          0.06927075530099017,
          0.06763407117077863,
          0.06364827583317033,
          0.06258473862763544,
          0.05785959775046558,
          0.05761926909509158,
          0.056726469870566114
         ]
        },
        {
         "hovertext": "<b>Topic 22</b>:turn_now_chuck_review_over_discuss",
         "line": {
          "color": "black",
          "width": 1.5
         },
         "mode": "lines+lines",
         "name": "",
         "opacity": 0.1,
         "type": "scatter",
         "x": [
          1,
          2,
          3,
          4,
          5,
          6,
          7,
          8,
          9,
          10
         ],
         "y": [
          0.1609953894166463,
          0.12813746898452943,
          0.1258744023302034,
          0.12044654385576928,
          0.10139934256269706,
          0.09742552746048805,
          0.09301543855845441,
          0.07666167842707353,
          0.07612342194305365,
          0.07226199571936201
         ]
        },
        {
         "hovertext": "<b>Topic 23</b>:corporation_moore_chairman_ceo_con",
         "line": {
          "color": "black",
          "width": 1.5
         },
         "mode": "lines+lines",
         "name": "",
         "opacity": 0.1,
         "type": "scatter",
         "x": [
          1,
          2,
          3,
          4,
          5,
          6,
          7,
          8,
          9,
          10
         ],
         "y": [
          0.3959320993189734,
          0.372377539519578,
          0.3316838771440314,
          0.31653203181521994,
          0.3002377451961487,
          0.28150584300759635,
          0.2766684538463157,
          0.21639291607582245,
          0.20884707223048393,
          0.1807543309962329
         ]
        },
        {
         "hovertext": "<b>Topic 24</b>:officer_chief_lucchese_president_c",
         "line": {
          "color": "black",
          "width": 1.5
         },
         "mode": "lines+lines",
         "name": "",
         "opacity": 0.1,
         "type": "scatter",
         "x": [
          1,
          2,
          3,
          4,
          5,
          6,
          7,
          8,
          9,
          10
         ],
         "y": [
          0.1496984616206514,
          0.14884535123421988,
          0.09643882693099891,
          0.09490701856201231,
          0.08242216880780447,
          0.07815627003719565,
          0.07411994894632191,
          0.07146748520557485,
          0.07014731978159434,
          0.0658408398863077
         ]
        },
        {
         "hovertext": "<b>Topic 25</b>:ken_call_prepared_will_cindy_start",
         "line": {
          "color": "black",
          "width": 1.5
         },
         "mode": "lines+lines",
         "name": "",
         "opacity": 0.1,
         "type": "scatter",
         "x": [
          1,
          2,
          3,
          4,
          5,
          6,
          7,
          8,
          9,
          10
         ],
         "y": [
          0.05701754863398675,
          0.05576107419722286,
          0.051841084042456506,
          0.050893813168981235,
          0.04874803774719463,
          0.0487247115538821,
          0.04770714308292897,
          0.041314383132875394,
          0.04012659664557457,
          0.03943783146590266
         ]
        },
        {
         "hovertext": "<b>Topic 27</b>:ready_open_joined_session_kim_ques",
         "line": {
          "color": "black",
          "width": 1.5
         },
         "mode": "lines+lines",
         "name": "",
         "opacity": 0.1,
         "type": "scatter",
         "x": [
          1,
          2,
          3,
          4,
          5,
          6,
          7,
          8,
          9,
          10
         ],
         "y": [
          0.10760443944572307,
          0.10341734790584813,
          0.1026638791675554,
          0.09117195881982251,
          0.09017520002251708,
          0.08122654616843748,
          0.08065791496605557,
          0.07826592066155874,
          0.07762194711421966,
          0.07113313562823162
         ]
        },
        {
         "hovertext": "<b>Topic 28</b>:recording_or_any_replay_be_audio_h",
         "line": {
          "color": "black",
          "width": 1.5
         },
         "mode": "lines+lines",
         "name": "",
         "opacity": 0.1,
         "type": "scatter",
         "x": [
          1,
          2,
          3,
          4,
          5,
          6,
          7,
          8,
          9,
          10
         ],
         "y": [
          0.06509726803905487,
          0.050886485025685664,
          0.04812913735576554,
          0.04543272694652978,
          0.042926284564103426,
          0.041436034056948276,
          0.04009249720921568,
          0.03851966134448751,
          0.038336961859374734,
          0.038336961859374734
         ]
        },
        {
         "hovertext": "<b>Topic 29</b>:cfo_lucchese_inc_cindy_svp_hillenb",
         "line": {
          "color": "black",
          "width": 1.5
         },
         "mode": "lines+lines",
         "name": "",
         "opacity": 0.1,
         "type": "scatter",
         "x": [
          1,
          2,
          3,
          4,
          5,
          6,
          7,
          8,
          9,
          10
         ],
         "y": [
          0.5578936160328047,
          0.5262179864096478,
          0.5046060787066322,
          0.4264593043389873,
          0.3397066147643015,
          0.31320121751472757,
          0.15248107898402433,
          0.1309561041958775,
          0.12095634435447829,
          0.119091622364541
         ]
        },
        {
         "hovertext": "<b>Topic 30</b>:joined_call_joining_morning_cernig",
         "line": {
          "color": "black",
          "width": 1.5
         },
         "mode": "lines+lines",
         "name": "",
         "opacity": 0.1,
         "type": "scatter",
         "x": [
          1,
          2,
          3,
          4,
          5,
          6,
          7,
          8,
          9,
          10
         ],
         "y": [
          0.07339128895529824,
          0.07018432309968439,
          0.06708826270635226,
          0.06186046097831177,
          0.05674507571889832,
          0.055262975686848015,
          0.05022015151181453,
          0.04761208991434452,
          0.04485388038644581,
          0.044598264458164595
         ]
        },
        {
         "hovertext": "<b>Topic 31</b>:warburg_ubs_analyst_hoffman_bill_s",
         "line": {
          "color": "black",
          "width": 1.5
         },
         "mode": "lines+lines",
         "name": "",
         "opacity": 0.1,
         "type": "scatter",
         "x": [
          1,
          2,
          3,
          4,
          5,
          6,
          7,
          8,
          9,
          10
         ],
         "y": [
          0.8314600800880877,
          0.8085948353549702,
          0.7708715684414279,
          0.5169083183482205,
          0.4661887655246236,
          0.4164778830606755,
          0.3218143912989522,
          0.150719302611968,
          0.150719302611968,
          0.09517879721645002
         ]
        },
        {
         "hovertext": "<b>Topic 32</b>:cindy_lucchese_cfo_turn_now_over_c",
         "line": {
          "color": "black",
          "width": 1.5
         },
         "mode": "lines+lines",
         "name": "",
         "opacity": 0.1,
         "type": "scatter",
         "x": [
          1,
          2,
          3,
          4,
          5,
          6,
          7,
          8,
          9,
          10
         ],
         "y": [
          0.3791108480406458,
          0.2847439502057511,
          0.21024069766753478,
          0.19879890450134322,
          0.15706215410158203,
          0.13257427807675723,
          0.1154350095374699,
          0.0951754675681224,
          0.0885261424242109,
          0.05800281226711673
         ]
        },
        {
         "hovertext": "<b>Topic 33</b>:morning_good_thank_tim_you_thanks_",
         "line": {
          "color": "black",
          "width": 1.5
         },
         "mode": "lines+lines",
         "name": "",
         "opacity": 0.1,
         "type": "scatter",
         "x": [
          1,
          2,
          3,
          4,
          5,
          6,
          7,
          8,
          9,
          10
         ],
         "y": [
          0.5184495777229938,
          0.4975342008417277,
          0.38407085864237916,
          0.25036398201486265,
          0.22335324285774516,
          0.15216319289392352,
          0.14659033399687244,
          0.1185122655461702,
          0.1081448065257087,
          0.10403263881798026
         ]
        },
        {
         "hovertext": "<b>Topic 34</b>:morning_chief_officer_controller_p",
         "line": {
          "color": "black",
          "width": 1.5
         },
         "mode": "lines+lines",
         "name": "",
         "opacity": 0.1,
         "type": "scatter",
         "x": [
          1,
          2,
          3,
          4,
          5,
          6,
          7,
          8,
          9,
          10
         ],
         "y": [
          0.10175107289528135,
          0.09524627385951563,
          0.09162730257191895,
          0.08548243461783973,
          0.08540943751628045,
          0.08465775055520375,
          0.07971180070140044,
          0.07971180070140044,
          0.07579521641889007,
          0.07475323500613573
         ]
        },
        {
         "hovertext": "<b>Topic 35</b>:thank_great_much_thanks_right_you_",
         "line": {
          "color": "black",
          "width": 1.5
         },
         "mode": "lines+lines",
         "name": "",
         "opacity": 0.1,
         "type": "scatter",
         "x": [
          1,
          2,
          3,
          4,
          5,
          6,
          7,
          8,
          9,
          10
         ],
         "y": [
          0.49024258023368616,
          0.3622938899783201,
          0.3581574435888062,
          0.33382741298156693,
          0.33109528041536446,
          0.3207335992057417,
          0.296095807743815,
          0.248630383503292,
          0.17284637663683317,
          0.15870479649357633
         ]
        },
        {
         "hovertext": "<b>Topic 36</b>:hinrichs_cfo_chuck_stone_smurfit_j",
         "line": {
          "color": "black",
          "width": 1.5
         },
         "mode": "lines+lines",
         "name": "",
         "opacity": 0.1,
         "type": "scatter",
         "x": [
          1,
          2,
          3,
          4,
          5,
          6,
          7,
          8,
          9,
          10
         ],
         "y": [
          0.6097957350947706,
          0.5154451887259609,
          0.5144432095234399,
          0.37624774508261666,
          0.36978231351439944,
          0.33815295628233294,
          0.323632494941119,
          0.1127034062055832,
          0.10683013955985673,
          0.0926304096408542
         ]
        },
        {
         "hovertext": "<b>Topic 37</b>:svp_cfo_inc_cerniglia_lucchese_hil",
         "line": {
          "color": "black",
          "width": 1.5
         },
         "mode": "lines+lines",
         "name": "",
         "opacity": 0.1,
         "type": "scatter",
         "x": [
          1,
          2,
          3,
          4,
          5,
          6,
          7,
          8,
          9,
          10
         ],
         "y": [
          0.7071443817542601,
          0.5080816860298757,
          0.39390168388834046,
          0.27388184505141744,
          0.2527828945704117,
          0.23010701694959576,
          0.2144468130194087,
          0.2048611414878024,
          0.12055178043095145,
          0.09731815608518478
         ]
        },
        {
         "hovertext": "<b>Topic 38</b>:your_participation_happy_questions",
         "line": {
          "color": "black",
          "width": 1.5
         },
         "mode": "lines+lines",
         "name": "",
         "opacity": 0.1,
         "type": "scatter",
         "x": [
          1,
          2,
          3,
          4,
          5,
          6,
          7,
          8,
          9,
          10
         ],
         "y": [
          0.17371420157445175,
          0.1285047250084944,
          0.1232535550096952,
          0.10933679463012605,
          0.1053515789796778,
          0.08803825357835372,
          0.07229557774028925,
          0.06106527004986248,
          0.056112162471832185,
          0.0502129166753018
         ]
        },
        {
         "hovertext": "<b>Topic 39</b>:raver_mr_pleasure_executive_my_go_",
         "line": {
          "color": "black",
          "width": 1.5
         },
         "mode": "lines+lines",
         "name": "",
         "opacity": 0.1,
         "type": "scatter",
         "x": [
          1,
          2,
          3,
          4,
          5,
          6,
          7,
          8,
          9,
          10
         ],
         "y": [
          0.26333830143978676,
          0.16289174516594893,
          0.16177481296808266,
          0.15478165833818036,
          0.14702323821650604,
          0.1448805065510634,
          0.1385345075003454,
          0.13415645705467216,
          0.13339191835680483,
          0.11991908464865805
         ]
        },
        {
         "hovertext": "<b>Topic 40</b>:ken_camp_pleasure_my_turn_presiden",
         "line": {
          "color": "black",
          "width": 1.5
         },
         "mode": "lines+lines",
         "name": "",
         "opacity": 0.1,
         "type": "scatter",
         "x": [
          1,
          2,
          3,
          4,
          5,
          6,
          7,
          8,
          9,
          10
         ],
         "y": [
          0.29224048224588195,
          0.19417180244272456,
          0.18950763804832543,
          0.17222722191076423,
          0.13078390893352254,
          0.1296521806281621,
          0.11447563677848913,
          0.10234247522816665,
          0.10125502997083008,
          0.09878285981716224
         ]
        },
        {
         "hovertext": "<b>Topic 41</b>:ir_gordon_chris_inc_director_hille",
         "line": {
          "color": "black",
          "width": 1.5
         },
         "mode": "lines+lines",
         "name": "",
         "opacity": 0.1,
         "type": "scatter",
         "x": [
          1,
          2,
          3,
          4,
          5,
          6,
          7,
          8,
          9,
          10
         ],
         "y": [
          0.687947642842843,
          0.6600510814841573,
          0.6387896365485771,
          0.4886375319121186,
          0.43820411205591603,
          0.3092366451411234,
          0.1253167258805018,
          0.1245881378997855,
          0.10180871470254765,
          0.013719241792200399
         ]
        },
        {
         "hovertext": "<b>Topic 42</b>:vp_lanning_ir_mark_inc_treasury_co",
         "line": {
          "color": "black",
          "width": 1.5
         },
         "mode": "lines+lines",
         "name": "",
         "opacity": 0.1,
         "type": "scatter",
         "x": [
          1,
          2,
          3,
          4,
          5,
          6,
          7,
          8,
          9,
          10
         ],
         "y": [
          0.5177017256413491,
          0.44335418441815555,
          0.41429417992406836,
          0.3622922730405975,
          0.2898075452031334,
          0.2472386772281804,
          0.23498227935918028,
          0.22297345370629823,
          0.16929795541336626,
          0.14314140162316258
         ]
        },
        {
         "hovertext": "<b>Topic 43</b>:thank_chuck_thanks_you_ken_cindy_j",
         "line": {
          "color": "black",
          "width": 1.5
         },
         "mode": "lines+lines",
         "name": "",
         "opacity": 0.1,
         "type": "scatter",
         "x": [
          1,
          2,
          3,
          4,
          5,
          6,
          7,
          8,
          9,
          10
         ],
         "y": [
          0.7065260715132536,
          0.5220085508399611,
          0.4811042128263759,
          0.4108744146687932,
          0.2784879889637228,
          0.19682737123337876,
          0.16339517354665867,
          0.13677137295898453,
          0.00001,
          0.00001
         ]
        },
        {
         "hovertext": "<b>Topic 44</b>:uncertainties_risks_statements_sea",
         "line": {
          "color": "black",
          "width": 1.5
         },
         "mode": "lines+lines",
         "name": "",
         "opacity": 0.1,
         "type": "scatter",
         "x": [
          1,
          2,
          3,
          4,
          5,
          6,
          7,
          8,
          9,
          10
         ],
         "y": [
          0.09292623138104349,
          0.0869057776205215,
          0.05390916691485208,
          0.04981577722828495,
          0.049771663838445133,
          0.04948718810825825,
          0.04881275629367826,
          0.04770728621519126,
          0.047678006242073655,
          0.04345288881026075
         ]
        },
        {
         "hovertext": "<b>Topic 45</b>:chairman_corporation_moore_contain",
         "line": {
          "color": "black",
          "width": 1.5
         },
         "mode": "lines+lines",
         "name": "",
         "opacity": 0.1,
         "type": "scatter",
         "x": [
          1,
          2,
          3,
          4,
          5,
          6,
          7,
          8,
          9,
          10
         ],
         "y": [
          0.40987238416309585,
          0.35335875530618055,
          0.3518861758648005,
          0.2679541166804338,
          0.25637578753623946,
          0.25416872426877074,
          0.25123639752290855,
          0.24691915773380865,
          0.20164797678343188,
          0.19940917374317463
         ]
        },
        {
         "hovertext": "<b>Topic 46</b>:comes_question_next_from_please_go",
         "line": {
          "color": "black",
          "width": 1.5
         },
         "mode": "lines+lines",
         "name": "",
         "opacity": 0.1,
         "type": "scatter",
         "x": [
          1,
          2,
          3,
          4,
          5,
          6,
          7,
          8,
          9,
          10
         ],
         "y": [
          0.3015379538597574,
          0.27540572109234407,
          0.1839527637814064,
          0.17904331284224848,
          0.16443075149388664,
          0.15451129166861965,
          0.14774344875036838,
          0.1314378735201969,
          0.08189372511864157,
          0.07253092110495503
         ]
        },
        {
         "hovertext": "<b>Topic 47</b>:concluding_his_back_remarks_joe_tu",
         "line": {
          "color": "black",
          "width": 1.5
         },
         "mode": "lines+lines",
         "name": "",
         "opacity": 0.1,
         "type": "scatter",
         "x": [
          1,
          2,
          3,
          4,
          5,
          6,
          7,
          8,
          9,
          10
         ],
         "y": [
          0.3170071537310301,
          0.3066686426848732,
          0.2492582268992621,
          0.24351008613561537,
          0.19840842502094266,
          0.18016150720434226,
          0.1787566047787723,
          0.1394839698577761,
          0.12210608518019245,
          0.09680889569316102
         ]
        },
        {
         "hovertext": "<b>Topic 48</b>:questions_considerations_refrain_q",
         "line": {
          "color": "black",
          "width": 1.5
         },
         "mode": "lines+lines",
         "name": "",
         "opacity": 0.1,
         "type": "scatter",
         "x": [
          1,
          2,
          3,
          4,
          5,
          6,
          7,
          8,
          9,
          10
         ],
         "y": [
          0.1067599536437532,
          0.09434295920661037,
          0.08818631113400947,
          0.08354896495611794,
          0.08251651058947493,
          0.08143898677984537,
          0.08076953927434884,
          0.07547436736528829,
          0.07475738104027023,
          0.07443667715066932
         ]
        }
       ],
       "layout": {
        "height": 500,
        "hoverlabel": {
         "bgcolor": "white",
         "font": {
          "family": "Rockwell",
          "size": 16
         }
        },
        "showlegend": false,
        "template": {
         "data": {
          "bar": [
           {
            "error_x": {
             "color": "#2a3f5f"
            },
            "error_y": {
             "color": "#2a3f5f"
            },
            "marker": {
             "line": {
              "color": "white",
              "width": 0.5
             },
             "pattern": {
              "fillmode": "overlay",
              "size": 10,
              "solidity": 0.2
             }
            },
            "type": "bar"
           }
          ],
          "barpolar": [
           {
            "marker": {
             "line": {
              "color": "white",
              "width": 0.5
             },
             "pattern": {
              "fillmode": "overlay",
              "size": 10,
              "solidity": 0.2
             }
            },
            "type": "barpolar"
           }
          ],
          "carpet": [
           {
            "aaxis": {
             "endlinecolor": "#2a3f5f",
             "gridcolor": "#C8D4E3",
             "linecolor": "#C8D4E3",
             "minorgridcolor": "#C8D4E3",
             "startlinecolor": "#2a3f5f"
            },
            "baxis": {
             "endlinecolor": "#2a3f5f",
             "gridcolor": "#C8D4E3",
             "linecolor": "#C8D4E3",
             "minorgridcolor": "#C8D4E3",
             "startlinecolor": "#2a3f5f"
            },
            "type": "carpet"
           }
          ],
          "choropleth": [
           {
            "colorbar": {
             "outlinewidth": 0,
             "ticks": ""
            },
            "type": "choropleth"
           }
          ],
          "contour": [
           {
            "colorbar": {
             "outlinewidth": 0,
             "ticks": ""
            },
            "colorscale": [
             [
              0,
              "#0d0887"
             ],
             [
              0.1111111111111111,
              "#46039f"
             ],
             [
              0.2222222222222222,
              "#7201a8"
             ],
             [
              0.3333333333333333,
              "#9c179e"
             ],
             [
              0.4444444444444444,
              "#bd3786"
             ],
             [
              0.5555555555555556,
              "#d8576b"
             ],
             [
              0.6666666666666666,
              "#ed7953"
             ],
             [
              0.7777777777777778,
              "#fb9f3a"
             ],
             [
              0.8888888888888888,
              "#fdca26"
             ],
             [
              1,
              "#f0f921"
             ]
            ],
            "type": "contour"
           }
          ],
          "contourcarpet": [
           {
            "colorbar": {
             "outlinewidth": 0,
             "ticks": ""
            },
            "type": "contourcarpet"
           }
          ],
          "heatmap": [
           {
            "colorbar": {
             "outlinewidth": 0,
             "ticks": ""
            },
            "colorscale": [
             [
              0,
              "#0d0887"
             ],
             [
              0.1111111111111111,
              "#46039f"
             ],
             [
              0.2222222222222222,
              "#7201a8"
             ],
             [
              0.3333333333333333,
              "#9c179e"
             ],
             [
              0.4444444444444444,
              "#bd3786"
             ],
             [
              0.5555555555555556,
              "#d8576b"
             ],
             [
              0.6666666666666666,
              "#ed7953"
             ],
             [
              0.7777777777777778,
              "#fb9f3a"
             ],
             [
              0.8888888888888888,
              "#fdca26"
             ],
             [
              1,
              "#f0f921"
             ]
            ],
            "type": "heatmap"
           }
          ],
          "heatmapgl": [
           {
            "colorbar": {
             "outlinewidth": 0,
             "ticks": ""
            },
            "colorscale": [
             [
              0,
              "#0d0887"
             ],
             [
              0.1111111111111111,
              "#46039f"
             ],
             [
              0.2222222222222222,
              "#7201a8"
             ],
             [
              0.3333333333333333,
              "#9c179e"
             ],
             [
              0.4444444444444444,
              "#bd3786"
             ],
             [
              0.5555555555555556,
              "#d8576b"
             ],
             [
              0.6666666666666666,
              "#ed7953"
             ],
             [
              0.7777777777777778,
              "#fb9f3a"
             ],
             [
              0.8888888888888888,
              "#fdca26"
             ],
             [
              1,
              "#f0f921"
             ]
            ],
            "type": "heatmapgl"
           }
          ],
          "histogram": [
           {
            "marker": {
             "pattern": {
              "fillmode": "overlay",
              "size": 10,
              "solidity": 0.2
             }
            },
            "type": "histogram"
           }
          ],
          "histogram2d": [
           {
            "colorbar": {
             "outlinewidth": 0,
             "ticks": ""
            },
            "colorscale": [
             [
              0,
              "#0d0887"
             ],
             [
              0.1111111111111111,
              "#46039f"
             ],
             [
              0.2222222222222222,
              "#7201a8"
             ],
             [
              0.3333333333333333,
              "#9c179e"
             ],
             [
              0.4444444444444444,
              "#bd3786"
             ],
             [
              0.5555555555555556,
              "#d8576b"
             ],
             [
              0.6666666666666666,
              "#ed7953"
             ],
             [
              0.7777777777777778,
              "#fb9f3a"
             ],
             [
              0.8888888888888888,
              "#fdca26"
             ],
             [
              1,
              "#f0f921"
             ]
            ],
            "type": "histogram2d"
           }
          ],
          "histogram2dcontour": [
           {
            "colorbar": {
             "outlinewidth": 0,
             "ticks": ""
            },
            "colorscale": [
             [
              0,
              "#0d0887"
             ],
             [
              0.1111111111111111,
              "#46039f"
             ],
             [
              0.2222222222222222,
              "#7201a8"
             ],
             [
              0.3333333333333333,
              "#9c179e"
             ],
             [
              0.4444444444444444,
              "#bd3786"
             ],
             [
              0.5555555555555556,
              "#d8576b"
             ],
             [
              0.6666666666666666,
              "#ed7953"
             ],
             [
              0.7777777777777778,
              "#fb9f3a"
             ],
             [
              0.8888888888888888,
              "#fdca26"
             ],
             [
              1,
              "#f0f921"
             ]
            ],
            "type": "histogram2dcontour"
           }
          ],
          "mesh3d": [
           {
            "colorbar": {
             "outlinewidth": 0,
             "ticks": ""
            },
            "type": "mesh3d"
           }
          ],
          "parcoords": [
           {
            "line": {
             "colorbar": {
              "outlinewidth": 0,
              "ticks": ""
             }
            },
            "type": "parcoords"
           }
          ],
          "pie": [
           {
            "automargin": true,
            "type": "pie"
           }
          ],
          "scatter": [
           {
            "fillpattern": {
             "fillmode": "overlay",
             "size": 10,
             "solidity": 0.2
            },
            "type": "scatter"
           }
          ],
          "scatter3d": [
           {
            "line": {
             "colorbar": {
              "outlinewidth": 0,
              "ticks": ""
             }
            },
            "marker": {
             "colorbar": {
              "outlinewidth": 0,
              "ticks": ""
             }
            },
            "type": "scatter3d"
           }
          ],
          "scattercarpet": [
           {
            "marker": {
             "colorbar": {
              "outlinewidth": 0,
              "ticks": ""
             }
            },
            "type": "scattercarpet"
           }
          ],
          "scattergeo": [
           {
            "marker": {
             "colorbar": {
              "outlinewidth": 0,
              "ticks": ""
             }
            },
            "type": "scattergeo"
           }
          ],
          "scattergl": [
           {
            "marker": {
             "colorbar": {
              "outlinewidth": 0,
              "ticks": ""
             }
            },
            "type": "scattergl"
           }
          ],
          "scattermapbox": [
           {
            "marker": {
             "colorbar": {
              "outlinewidth": 0,
              "ticks": ""
             }
            },
            "type": "scattermapbox"
           }
          ],
          "scatterpolar": [
           {
            "marker": {
             "colorbar": {
              "outlinewidth": 0,
              "ticks": ""
             }
            },
            "type": "scatterpolar"
           }
          ],
          "scatterpolargl": [
           {
            "marker": {
             "colorbar": {
              "outlinewidth": 0,
              "ticks": ""
             }
            },
            "type": "scatterpolargl"
           }
          ],
          "scatterternary": [
           {
            "marker": {
             "colorbar": {
              "outlinewidth": 0,
              "ticks": ""
             }
            },
            "type": "scatterternary"
           }
          ],
          "surface": [
           {
            "colorbar": {
             "outlinewidth": 0,
             "ticks": ""
            },
            "colorscale": [
             [
              0,
              "#0d0887"
             ],
             [
              0.1111111111111111,
              "#46039f"
             ],
             [
              0.2222222222222222,
              "#7201a8"
             ],
             [
              0.3333333333333333,
              "#9c179e"
             ],
             [
              0.4444444444444444,
              "#bd3786"
             ],
             [
              0.5555555555555556,
              "#d8576b"
             ],
             [
              0.6666666666666666,
              "#ed7953"
             ],
             [
              0.7777777777777778,
              "#fb9f3a"
             ],
             [
              0.8888888888888888,
              "#fdca26"
             ],
             [
              1,
              "#f0f921"
             ]
            ],
            "type": "surface"
           }
          ],
          "table": [
           {
            "cells": {
             "fill": {
              "color": "#EBF0F8"
             },
             "line": {
              "color": "white"
             }
            },
            "header": {
             "fill": {
              "color": "#C8D4E3"
             },
             "line": {
              "color": "white"
             }
            },
            "type": "table"
           }
          ]
         },
         "layout": {
          "annotationdefaults": {
           "arrowcolor": "#2a3f5f",
           "arrowhead": 0,
           "arrowwidth": 1
          },
          "autotypenumbers": "strict",
          "coloraxis": {
           "colorbar": {
            "outlinewidth": 0,
            "ticks": ""
           }
          },
          "colorscale": {
           "diverging": [
            [
             0,
             "#8e0152"
            ],
            [
             0.1,
             "#c51b7d"
            ],
            [
             0.2,
             "#de77ae"
            ],
            [
             0.3,
             "#f1b6da"
            ],
            [
             0.4,
             "#fde0ef"
            ],
            [
             0.5,
             "#f7f7f7"
            ],
            [
             0.6,
             "#e6f5d0"
            ],
            [
             0.7,
             "#b8e186"
            ],
            [
             0.8,
             "#7fbc41"
            ],
            [
             0.9,
             "#4d9221"
            ],
            [
             1,
             "#276419"
            ]
           ],
           "sequential": [
            [
             0,
             "#0d0887"
            ],
            [
             0.1111111111111111,
             "#46039f"
            ],
            [
             0.2222222222222222,
             "#7201a8"
            ],
            [
             0.3333333333333333,
             "#9c179e"
            ],
            [
             0.4444444444444444,
             "#bd3786"
            ],
            [
             0.5555555555555556,
             "#d8576b"
            ],
            [
             0.6666666666666666,
             "#ed7953"
            ],
            [
             0.7777777777777778,
             "#fb9f3a"
            ],
            [
             0.8888888888888888,
             "#fdca26"
            ],
            [
             1,
             "#f0f921"
            ]
           ],
           "sequentialminus": [
            [
             0,
             "#0d0887"
            ],
            [
             0.1111111111111111,
             "#46039f"
            ],
            [
             0.2222222222222222,
             "#7201a8"
            ],
            [
             0.3333333333333333,
             "#9c179e"
            ],
            [
             0.4444444444444444,
             "#bd3786"
            ],
            [
             0.5555555555555556,
             "#d8576b"
            ],
            [
             0.6666666666666666,
             "#ed7953"
            ],
            [
             0.7777777777777778,
             "#fb9f3a"
            ],
            [
             0.8888888888888888,
             "#fdca26"
            ],
            [
             1,
             "#f0f921"
            ]
           ]
          },
          "colorway": [
           "#636efa",
           "#EF553B",
           "#00cc96",
           "#ab63fa",
           "#FFA15A",
           "#19d3f3",
           "#FF6692",
           "#B6E880",
           "#FF97FF",
           "#FECB52"
          ],
          "font": {
           "color": "#2a3f5f"
          },
          "geo": {
           "bgcolor": "white",
           "lakecolor": "white",
           "landcolor": "white",
           "showlakes": true,
           "showland": true,
           "subunitcolor": "#C8D4E3"
          },
          "hoverlabel": {
           "align": "left"
          },
          "hovermode": "closest",
          "mapbox": {
           "style": "light"
          },
          "paper_bgcolor": "white",
          "plot_bgcolor": "white",
          "polar": {
           "angularaxis": {
            "gridcolor": "#EBF0F8",
            "linecolor": "#EBF0F8",
            "ticks": ""
           },
           "bgcolor": "white",
           "radialaxis": {
            "gridcolor": "#EBF0F8",
            "linecolor": "#EBF0F8",
            "ticks": ""
           }
          },
          "scene": {
           "xaxis": {
            "backgroundcolor": "white",
            "gridcolor": "#DFE8F3",
            "gridwidth": 2,
            "linecolor": "#EBF0F8",
            "showbackground": true,
            "ticks": "",
            "zerolinecolor": "#EBF0F8"
           },
           "yaxis": {
            "backgroundcolor": "white",
            "gridcolor": "#DFE8F3",
            "gridwidth": 2,
            "linecolor": "#EBF0F8",
            "showbackground": true,
            "ticks": "",
            "zerolinecolor": "#EBF0F8"
           },
           "zaxis": {
            "backgroundcolor": "white",
            "gridcolor": "#DFE8F3",
            "gridwidth": 2,
            "linecolor": "#EBF0F8",
            "showbackground": true,
            "ticks": "",
            "zerolinecolor": "#EBF0F8"
           }
          },
          "shapedefaults": {
           "line": {
            "color": "#2a3f5f"
           }
          },
          "ternary": {
           "aaxis": {
            "gridcolor": "#DFE8F3",
            "linecolor": "#A2B1C6",
            "ticks": ""
           },
           "baxis": {
            "gridcolor": "#DFE8F3",
            "linecolor": "#A2B1C6",
            "ticks": ""
           },
           "bgcolor": "white",
           "caxis": {
            "gridcolor": "#DFE8F3",
            "linecolor": "#A2B1C6",
            "ticks": ""
           }
          },
          "title": {
           "x": 0.05
          },
          "xaxis": {
           "automargin": true,
           "gridcolor": "#EBF0F8",
           "linecolor": "#EBF0F8",
           "ticks": "",
           "title": {
            "standoff": 15
           },
           "zerolinecolor": "#EBF0F8",
           "zerolinewidth": 2
          },
          "yaxis": {
           "automargin": true,
           "gridcolor": "#EBF0F8",
           "linecolor": "#EBF0F8",
           "ticks": "",
           "title": {
            "standoff": 15
           },
           "zerolinecolor": "#EBF0F8",
           "zerolinewidth": 2
          }
         }
        },
        "title": {
         "font": {
          "color": "Black",
          "size": 22
         },
         "text": "<b>Term score decline per Topic</b>",
         "x": 0.5,
         "xanchor": "center",
         "y": 0.9,
         "yanchor": "top"
        },
        "width": 800,
        "xaxis": {
         "dtick": 2,
         "range": [
          0,
          10
         ],
         "tick0": 1,
         "title": {
          "text": "Term Rank"
         }
        },
        "yaxis": {
         "title": {
          "text": "c-TF-IDF score"
         }
        }
       }
      }
     },
     "metadata": {},
     "output_type": "display_data"
    }
   ],
   "source": [
    "topic_model.visualize_term_rank().show()"
   ]
  },
  {
   "cell_type": "code",
   "execution_count": 51,
   "metadata": {},
   "outputs": [
    {
     "ename": "TypeError",
     "evalue": "BERTopic.visualize_hierarchical_documents() missing 1 required positional argument: 'hierarchical_topics'",
     "output_type": "error",
     "traceback": [
      "\u001b[1;31m---------------------------------------------------------------------------\u001b[0m",
      "\u001b[1;31mTypeError\u001b[0m                                 Traceback (most recent call last)",
      "Cell \u001b[1;32mIn[51], line 1\u001b[0m\n\u001b[1;32m----> 1\u001b[0m \u001b[43mtopic_model\u001b[49m\u001b[38;5;241;43m.\u001b[39;49m\u001b[43mvisualize_hierarchical_documents\u001b[49m\u001b[43m(\u001b[49m\u001b[43mdocs\u001b[49m\u001b[38;5;241;43m=\u001b[39;49m\u001b[43mall_relevant_sections\u001b[49m\u001b[43m)\u001b[49m\u001b[38;5;241m.\u001b[39mshow()\n",
      "\u001b[1;31mTypeError\u001b[0m: BERTopic.visualize_hierarchical_documents() missing 1 required positional argument: 'hierarchical_topics'"
     ]
    }
   ],
   "source": [
    "#topic_model.visualize_hierarchical_documents(docs=all_relevant_sections, hierarchical_topics= dataframe).show()\n"
   ]
  }
 ],
 "metadata": {
  "kernelspec": {
   "display_name": "Python 3 (ipykernel)",
   "language": "python",
   "name": "python3"
  },
  "language_info": {
   "codemirror_mode": {
    "name": "ipython",
    "version": 3
   },
   "file_extension": ".py",
   "mimetype": "text/x-python",
   "name": "python",
   "nbconvert_exporter": "python",
   "pygments_lexer": "ipython3",
   "version": "3.12.4"
  }
 },
 "nbformat": 4,
 "nbformat_minor": 4
}
