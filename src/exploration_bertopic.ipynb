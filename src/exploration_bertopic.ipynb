{
 "cells": [
  {
   "cell_type": "code",
   "execution_count": 11,
   "metadata": {},
   "outputs": [],
   "source": [
    "from bertopic import BERTopic\n",
    "from file_handling import FileHandler  # Import the FileHandler class\n",
    "from text_processing import TextProcessor  # Import the TextProcessor class\n",
    "import json\n",
    "from sentence_transformers import SentenceTransformer\n",
    "from file_handling import FileHandler  # Import the FileHandler class\n",
    "from text_processing import TextProcessor  # Import the TextProcessor class\n",
    "import os "
   ]
  },
  {
   "cell_type": "code",
   "execution_count": 4,
   "metadata": {},
   "outputs": [],
   "source": [
    "# Load configuration from config.json  \n",
    "with open('C:/Users/nikla/OneDrive/Dokumente/winfoMaster/Masterarbeit/bertopic_ecc/config.json', 'r') as config_file:\n",
    "    config = json.load(config_file)\n",
    "\n",
    "\n",
    "# Extract variables from the config\n",
    "index_file_ecc_folder = config[\"index_file_ecc_folder\"]\n",
    "folderpath_ecc = config[\"folderpath_ecc\"]\n",
    "model_save_path = config[\"model_save_path\"]\n",
    "index_file_path = config[\"index_file_path\"]\n",
    "embeddings_path = config[\"embeddings_path\"]\n",
    "finbert_model_path = config[\"finbert_model_path\"]\n",
    "\n",
    "sample_size = config[\"sample_size\"]\n",
    "document_split = config[\"document_split\"]\n",
    "random_seed = config[\"random_seed\"]\n",
    "section_to_analyze = config[\"section_to_analyze\"]\n",
    "max_documents = config[\"max_documents\"]\n",
    "\n",
    "# Initialize FileHandler and TextProcessor with the imported configuration\n",
    "file_handler = FileHandler(index_file_path=index_file_path, folderpath_ecc=folderpath_ecc)\n",
    "text_processor = TextProcessor(method=document_split, section_to_analyze=section_to_analyze)"
   ]
  },
  {
   "cell_type": "code",
   "execution_count": 5,
   "metadata": {},
   "outputs": [
    {
     "name": "stdout",
     "output_type": "stream",
     "text": [
      "All files in directory: ['earnings_call_10053_1405785.txt', 'earnings_call_10053_3087559.txt', 'earnings_call_10053_3264115.txt', 'earnings_call_10053_3495328.txt', 'earnings_call_10053_3838748.txt', 'earnings_call_10053_3978736.txt', 'earnings_call_10053_4168241.txt', 'earnings_call_10053_4240123.txt', 'earnings_call_10053_4711496.txt', 'earnings_call_10053_4825244.txt']\n",
      "Starting to create ECC sample...\n",
      "Found 55 files for permco 21404\n",
      "Found 12 files for permco 52796\n",
      "Found 8 files for permco 16619\n",
      "Found 42 files for permco 17298\n",
      "Found 70 files for permco 20574\n",
      "Found 75 files for permco 12457\n",
      "Found 9 files for permco 44611\n",
      "Found 72 files for permco 21394\n",
      "Found 60 files for permco 14754\n",
      "Found 21 files for permco 55341\n",
      "No explicit section found for Presentation in company: 21404, call ID: earnings_call_21404_1224438. Using the first part as the Presentation section.\n",
      "No explicit section found for Presentation in company: 21404, call ID: earnings_call_21404_1327450. Using the first part as the Presentation section.\n",
      "No explicit section found for Presentation in company: 21404, call ID: earnings_call_21404_1327453. Using the first part as the Presentation section.\n",
      "No explicit section found for Presentation in company: 21404, call ID: earnings_call_21404_1330720. Using the first part as the Presentation section.\n",
      "No explicit section found for Presentation in company: 21404, call ID: earnings_call_21404_1463632. Using the first part as the Presentation section.\n",
      "No explicit section found for Presentation in company: 21404, call ID: earnings_call_21404_1463636. Using the first part as the Presentation section.\n",
      "No explicit section found for Presentation in company: 21404, call ID: earnings_call_21404_1463644. Using the first part as the Presentation section.\n",
      "No explicit section found for Presentation in company: 21404, call ID: earnings_call_21404_1463649. Using the first part as the Presentation section.\n",
      "No explicit section found for Presentation in company: 21404, call ID: earnings_call_21404_1782397. Using the first part as the Presentation section.\n",
      "No explicit section found for Presentation in company: 21404, call ID: earnings_call_21404_1864520. Using the first part as the Presentation section.\n",
      "No explicit section found for Presentation in company: 21404, call ID: earnings_call_21404_1968967. Using the first part as the Presentation section.\n",
      "No explicit section found for Presentation in company: 21404, call ID: earnings_call_21404_2055780. Using the first part as the Presentation section.\n",
      "No explicit section found for Presentation in company: 21404, call ID: earnings_call_21404_2115793. Using the first part as the Presentation section.\n",
      "No explicit section found for Presentation in company: 21404, call ID: earnings_call_21404_2246209. Using the first part as the Presentation section.\n",
      "No explicit section found for Presentation in company: 21404, call ID: earnings_call_21404_2408780. Using the first part as the Presentation section.\n",
      "No explicit section found for Presentation in company: 21404, call ID: earnings_call_21404_2626004. Using the first part as the Presentation section.\n",
      "No explicit section found for Presentation in company: 21404, call ID: earnings_call_21404_2776909. Using the first part as the Presentation section.\n",
      "No explicit section found for Presentation in company: 21404, call ID: earnings_call_21404_3121881. Using the first part as the Presentation section.\n",
      "No explicit section found for Presentation in company: 21404, call ID: earnings_call_21404_3328798. Using the first part as the Presentation section.\n",
      "No explicit section found for Presentation in company: 21404, call ID: earnings_call_21404_3602852. Using the first part as the Presentation section.\n",
      "No explicit section found for Presentation in company: 21404, call ID: earnings_call_21404_3793415. Using the first part as the Presentation section.\n",
      "No explicit section found for Presentation in company: 21404, call ID: earnings_call_21404_4113753. Using the first part as the Presentation section.\n",
      "No explicit section found for Presentation in company: 21404, call ID: earnings_call_21404_4190015. Using the first part as the Presentation section.\n",
      "No explicit section found for Presentation in company: 21404, call ID: earnings_call_21404_4689825. Using the first part as the Presentation section.\n",
      "No explicit section found for Presentation in company: 21404, call ID: earnings_call_21404_4745100. Using the first part as the Presentation section.\n",
      "No explicit section found for Presentation in company: 21404, call ID: earnings_call_21404_4835912. Using the first part as the Presentation section.\n",
      "No explicit section found for Presentation in company: 21404, call ID: earnings_call_21404_4895934. Using the first part as the Presentation section.\n",
      "No explicit section found for Presentation in company: 21404, call ID: earnings_call_21404_4972781. Using the first part as the Presentation section.\n",
      "No explicit section found for Presentation in company: 21404, call ID: earnings_call_21404_5023149. Using the first part as the Presentation section.\n",
      "No explicit section found for Presentation in company: 21404, call ID: earnings_call_21404_5106063. Using the first part as the Presentation section.\n",
      "No explicit section found for Presentation in company: 21404, call ID: earnings_call_21404_5169259. Using the first part as the Presentation section.\n",
      "No explicit section found for Presentation in company: 21404, call ID: earnings_call_21404_5251678. Using the first part as the Presentation section.\n",
      "No explicit section found for Presentation in company: 21404, call ID: earnings_call_21404_5304143. Using the first part as the Presentation section.\n",
      "No explicit section found for Presentation in company: 21404, call ID: earnings_call_21404_5390315. Using the first part as the Presentation section.\n",
      "No explicit section found for Presentation in company: 21404, call ID: earnings_call_21404_5477891. Using the first part as the Presentation section.\n",
      "No explicit section found for Presentation in company: 21404, call ID: earnings_call_21404_5568329. Using the first part as the Presentation section.\n",
      "No explicit section found for Presentation in company: 21404, call ID: earnings_call_21404_5639216. Using the first part as the Presentation section.\n",
      "No explicit section found for Presentation in company: 21404, call ID: earnings_call_21404_5738976. Using the first part as the Presentation section.\n",
      "No explicit section found for Presentation in company: 21404, call ID: earnings_call_21404_5804735. Using the first part as the Presentation section.\n",
      "No explicit section found for Presentation in company: 21404, call ID: earnings_call_21404_634391. Using the first part as the Presentation section.\n",
      "No explicit section found for Presentation in company: 21404, call ID: earnings_call_21404_655594. Using the first part as the Presentation section.\n",
      "No explicit section found for Presentation in company: 21404, call ID: earnings_call_21404_673128. Using the first part as the Presentation section.\n",
      "No explicit section found for Presentation in company: 21404, call ID: earnings_call_21404_688749. Using the first part as the Presentation section.\n",
      "No explicit section found for Presentation in company: 21404, call ID: earnings_call_21404_714406. Using the first part as the Presentation section.\n",
      "No explicit section found for Presentation in company: 21404, call ID: earnings_call_21404_748479. Using the first part as the Presentation section.\n",
      "No explicit section found for Presentation in company: 21404, call ID: earnings_call_21404_775751. Using the first part as the Presentation section.\n",
      "No explicit section found for Presentation in company: 21404, call ID: earnings_call_21404_791432. Using the first part as the Presentation section.\n",
      "No explicit section found for Presentation in company: 21404, call ID: earnings_call_21404_828596. Using the first part as the Presentation section.\n",
      "No explicit section found for Presentation in company: 21404, call ID: earnings_call_21404_901009. Using the first part as the Presentation section.\n",
      "No explicit section found for Presentation in company: 21404, call ID: earnings_call_21404_910875. Using the first part as the Presentation section.\n",
      "No explicit section found for Presentation in company: 21404, call ID: earnings_call_21404_910877. Using the first part as the Presentation section.\n",
      "No explicit section found for Presentation in company: 21404, call ID: earnings_call_21404_975942. Using the first part as the Presentation section.\n",
      "No explicit section found for Presentation in company: 21404, call ID: earnings_call_21404_975944. Using the first part as the Presentation section.\n",
      "No explicit section found for Presentation in company: 21404, call ID: earnings_call_21404_975946. Using the first part as the Presentation section.\n",
      "No explicit section found for Presentation in company: 21404, call ID: earnings_call_21404_975948. Using the first part as the Presentation section.\n",
      "No explicit section found for Presentation in company: 52796, call ID: earnings_call_52796_1688549. Using the first part as the Presentation section.\n",
      "No explicit section found for Presentation in company: 52796, call ID: earnings_call_52796_1755317. Using the first part as the Presentation section.\n",
      "No explicit section found for Presentation in company: 52796, call ID: earnings_call_52796_1907745. Using the first part as the Presentation section.\n",
      "No explicit section found for Presentation in company: 52796, call ID: earnings_call_52796_1992997. Using the first part as the Presentation section.\n",
      "No explicit section found for Presentation in company: 52796, call ID: earnings_call_52796_2079809. Using the first part as the Presentation section.\n",
      "No explicit section found for Presentation in company: 52796, call ID: earnings_call_52796_2321073. Using the first part as the Presentation section.\n",
      "No explicit section found for Presentation in company: 52796, call ID: earnings_call_52796_2482094. Using the first part as the Presentation section.\n",
      "No explicit section found for Presentation in company: 52796, call ID: earnings_call_52796_2705173. Using the first part as the Presentation section.\n",
      "No explicit section found for Presentation in company: 52796, call ID: earnings_call_52796_3007400. Using the first part as the Presentation section.\n",
      "No explicit section found for Presentation in company: 52796, call ID: earnings_call_52796_3022890. Using the first part as the Presentation section.\n",
      "No explicit section found for Presentation in company: 52796, call ID: earnings_call_52796_3225606. Using the first part as the Presentation section.\n",
      "No explicit section found for Presentation in company: 52796, call ID: earnings_call_52796_3419783. Using the first part as the Presentation section.\n",
      "No explicit section found for Presentation in company: 16619, call ID: earnings_call_16619_627419. Using the first part as the Presentation section.\n",
      "No explicit section found for Presentation in company: 16619, call ID: earnings_call_16619_660818. Using the first part as the Presentation section.\n",
      "No explicit section found for Presentation in company: 16619, call ID: earnings_call_16619_707983. Using the first part as the Presentation section.\n",
      "No explicit section found for Presentation in company: 16619, call ID: earnings_call_16619_735024. Using the first part as the Presentation section.\n",
      "No explicit section found for Presentation in company: 16619, call ID: earnings_call_16619_755631. Using the first part as the Presentation section.\n",
      "No explicit section found for Presentation in company: 16619, call ID: earnings_call_16619_809185. Using the first part as the Presentation section.\n",
      "No explicit section found for Presentation in company: 16619, call ID: earnings_call_16619_842916. Using the first part as the Presentation section.\n",
      "No explicit section found for Presentation in company: 16619, call ID: earnings_call_16619_872607. Using the first part as the Presentation section.\n",
      "No explicit section found for Presentation in company: 17298, call ID: earnings_call_17298_1022191. Using the first part as the Presentation section.\n",
      "No explicit section found for Presentation in company: 17298, call ID: earnings_call_17298_1059738. Using the first part as the Presentation section.\n",
      "No explicit section found for Presentation in company: 17298, call ID: earnings_call_17298_1111731. Using the first part as the Presentation section.\n",
      "No explicit section found for Presentation in company: 17298, call ID: earnings_call_17298_1158582. Using the first part as the Presentation section.\n",
      "No explicit section found for Presentation in company: 17298, call ID: earnings_call_17298_1202997. Using the first part as the Presentation section.\n",
      "No explicit section found for Presentation in company: 17298, call ID: earnings_call_17298_1310825. Using the first part as the Presentation section.\n",
      "No explicit section found for Presentation in company: 17298, call ID: earnings_call_17298_1361728. Using the first part as the Presentation section.\n",
      "No explicit section found for Presentation in company: 17298, call ID: earnings_call_17298_1414383. Using the first part as the Presentation section.\n",
      "No explicit section found for Presentation in company: 17298, call ID: earnings_call_17298_1499546. Using the first part as the Presentation section.\n",
      "No explicit section found for Presentation in company: 17298, call ID: earnings_call_17298_1550073. Using the first part as the Presentation section.\n",
      "No explicit section found for Presentation in company: 17298, call ID: earnings_call_17298_1620793. Using the first part as the Presentation section.\n",
      "No explicit section found for Presentation in company: 17298, call ID: earnings_call_17298_1685656. Using the first part as the Presentation section.\n",
      "No explicit section found for Presentation in company: 17298, call ID: earnings_call_17298_1787553. Using the first part as the Presentation section.\n",
      "No explicit section found for Presentation in company: 17298, call ID: earnings_call_17298_1845902. Using the first part as the Presentation section.\n",
      "No explicit section found for Presentation in company: 17298, call ID: earnings_call_17298_1914684. Using the first part as the Presentation section.\n",
      "No explicit section found for Presentation in company: 17298, call ID: earnings_call_17298_2016810. Using the first part as the Presentation section.\n",
      "No explicit section found for Presentation in company: 17298, call ID: earnings_call_17298_2123792. Using the first part as the Presentation section.\n",
      "No explicit section found for Presentation in company: 17298, call ID: earnings_call_17298_2203521. Using the first part as the Presentation section.\n",
      "No explicit section found for Presentation in company: 17298, call ID: earnings_call_17298_2360173. Using the first part as the Presentation section.\n",
      "No explicit section found for Presentation in company: 17298, call ID: earnings_call_17298_2525076. Using the first part as the Presentation section.\n",
      "No explicit section found for Presentation in company: 17298, call ID: earnings_call_17298_2788514. Using the first part as the Presentation section.\n",
      "No explicit section found for Presentation in company: 17298, call ID: earnings_call_17298_3062193. Using the first part as the Presentation section.\n",
      "No explicit section found for Presentation in company: 17298, call ID: earnings_call_17298_3261894. Using the first part as the Presentation section.\n",
      "No explicit section found for Presentation in company: 17298, call ID: earnings_call_17298_3478043. Using the first part as the Presentation section.\n",
      "No explicit section found for Presentation in company: 17298, call ID: earnings_call_17298_3801547. Using the first part as the Presentation section.\n",
      "No explicit section found for Presentation in company: 17298, call ID: earnings_call_17298_4018840. Using the first part as the Presentation section.\n",
      "No explicit section found for Presentation in company: 17298, call ID: earnings_call_17298_4168242. Using the first part as the Presentation section.\n",
      "No explicit section found for Presentation in company: 17298, call ID: earnings_call_17298_4230543. Using the first part as the Presentation section.\n",
      "No explicit section found for Presentation in company: 17298, call ID: earnings_call_17298_4757167. Using the first part as the Presentation section.\n",
      "No explicit section found for Presentation in company: 17298, call ID: earnings_call_17298_4807435. Using the first part as the Presentation section.\n",
      "No explicit section found for Presentation in company: 17298, call ID: earnings_call_17298_4879200. Using the first part as the Presentation section.\n",
      "No explicit section found for Presentation in company: 17298, call ID: earnings_call_17298_4940158. Using the first part as the Presentation section.\n",
      "No explicit section found for Presentation in company: 17298, call ID: earnings_call_17298_5036985. Using the first part as the Presentation section.\n",
      "No explicit section found for Presentation in company: 17298, call ID: earnings_call_17298_5079087. Using the first part as the Presentation section.\n",
      "No explicit section found for Presentation in company: 17298, call ID: earnings_call_17298_5147573. Using the first part as the Presentation section.\n",
      "No explicit section found for Presentation in company: 17298, call ID: earnings_call_17298_5206235. Using the first part as the Presentation section.\n",
      "No explicit section found for Presentation in company: 17298, call ID: earnings_call_17298_767844. Using the first part as the Presentation section.\n",
      "No explicit section found for Presentation in company: 17298, call ID: earnings_call_17298_799156. Using the first part as the Presentation section.\n",
      "No explicit section found for Presentation in company: 17298, call ID: earnings_call_17298_854183. Using the first part as the Presentation section.\n",
      "No explicit section found for Presentation in company: 17298, call ID: earnings_call_17298_884512. Using the first part as the Presentation section.\n",
      "No explicit section found for Presentation in company: 17298, call ID: earnings_call_17298_924914. Using the first part as the Presentation section.\n",
      "No explicit section found for Presentation in company: 17298, call ID: earnings_call_17298_957766. Using the first part as the Presentation section.\n",
      "No explicit section found for Presentation in company: 20574, call ID: earnings_call_20574_1006608. Using the first part as the Presentation section.\n",
      "No explicit section found for Presentation in company: 20574, call ID: earnings_call_20574_10216317. Using the first part as the Presentation section.\n",
      "No explicit section found for Presentation in company: 20574, call ID: earnings_call_20574_1036798. Using the first part as the Presentation section.\n",
      "No explicit section found for Presentation in company: 20574, call ID: earnings_call_20574_10728871. Using the first part as the Presentation section.\n",
      "No explicit section found for Presentation in company: 20574, call ID: earnings_call_20574_11010300. Using the first part as the Presentation section.\n",
      "No explicit section found for Presentation in company: 20574, call ID: earnings_call_20574_11240015. Using the first part as the Presentation section.\n",
      "No explicit section found for Presentation in company: 20574, call ID: earnings_call_20574_1134325. Using the first part as the Presentation section.\n",
      "No explicit section found for Presentation in company: 20574, call ID: earnings_call_20574_11473552. Using the first part as the Presentation section.\n",
      "No explicit section found for Presentation in company: 20574, call ID: earnings_call_20574_11649080. Using the first part as the Presentation section.\n",
      "No explicit section found for Presentation in company: 20574, call ID: earnings_call_20574_1197401. Using the first part as the Presentation section.\n",
      "No explicit section found for Presentation in company: 20574, call ID: earnings_call_20574_12089072. Using the first part as the Presentation section.\n",
      "No explicit section found for Presentation in company: 20574, call ID: earnings_call_20574_12284083. Using the first part as the Presentation section.\n",
      "No explicit section found for Presentation in company: 20574, call ID: earnings_call_20574_12472233. Using the first part as the Presentation section.\n",
      "No explicit section found for Presentation in company: 20574, call ID: earnings_call_20574_12613671. Using the first part as the Presentation section.\n",
      "No explicit section found for Presentation in company: 20574, call ID: earnings_call_20574_12808142. Using the first part as the Presentation section.\n",
      "No explicit section found for Presentation in company: 20574, call ID: earnings_call_20574_13002406. Using the first part as the Presentation section.\n",
      "No explicit section found for Presentation in company: 20574, call ID: earnings_call_20574_1302875. Using the first part as the Presentation section.\n",
      "No explicit section found for Presentation in company: 20574, call ID: earnings_call_20574_13088426. Using the first part as the Presentation section.\n",
      "No explicit section found for Presentation in company: 20574, call ID: earnings_call_20574_13272757. Using the first part as the Presentation section.\n",
      "No explicit section found for Presentation in company: 20574, call ID: earnings_call_20574_13450970. Using the first part as the Presentation section.\n",
      "No explicit section found for Presentation in company: 20574, call ID: earnings_call_20574_1349863. Using the first part as the Presentation section.\n",
      "No explicit section found for Presentation in company: 20574, call ID: earnings_call_20574_1410212. Using the first part as the Presentation section.\n",
      "No explicit section found for Presentation in company: 20574, call ID: earnings_call_20574_1474744. Using the first part as the Presentation section.\n",
      "No explicit section found for Presentation in company: 20574, call ID: earnings_call_20574_1532926. Using the first part as the Presentation section.\n",
      "No explicit section found for Presentation in company: 20574, call ID: earnings_call_20574_1614068. Using the first part as the Presentation section.\n",
      "No explicit section found for Presentation in company: 20574, call ID: earnings_call_20574_1682000. Using the first part as the Presentation section.\n",
      "No explicit section found for Presentation in company: 20574, call ID: earnings_call_20574_1768689. Using the first part as the Presentation section.\n",
      "No explicit section found for Presentation in company: 20574, call ID: earnings_call_20574_1833691. Using the first part as the Presentation section.\n",
      "No explicit section found for Presentation in company: 20574, call ID: earnings_call_20574_1908682. Using the first part as the Presentation section.\n",
      "No explicit section found for Presentation in company: 20574, call ID: earnings_call_20574_1988274. Using the first part as the Presentation section.\n",
      "No explicit section found for Presentation in company: 20574, call ID: earnings_call_20574_2102201. Using the first part as the Presentation section.\n",
      "No explicit section found for Presentation in company: 20574, call ID: earnings_call_20574_2145763. Using the first part as the Presentation section.\n",
      "No explicit section found for Presentation in company: 20574, call ID: earnings_call_20574_2340682. Using the first part as the Presentation section.\n",
      "No explicit section found for Presentation in company: 20574, call ID: earnings_call_20574_2455940. Using the first part as the Presentation section.\n",
      "No explicit section found for Presentation in company: 20574, call ID: earnings_call_20574_2717756. Using the first part as the Presentation section.\n",
      "No explicit section found for Presentation in company: 20574, call ID: earnings_call_20574_3040121. Using the first part as the Presentation section.\n",
      "No explicit section found for Presentation in company: 20574, call ID: earnings_call_20574_3208319. Using the first part as the Presentation section.\n",
      "No explicit section found for Presentation in company: 20574, call ID: earnings_call_20574_3408282. Using the first part as the Presentation section.\n",
      "No explicit section found for Presentation in company: 20574, call ID: earnings_call_20574_3704218. Using the first part as the Presentation section.\n",
      "No explicit section found for Presentation in company: 20574, call ID: earnings_call_20574_3967616. Using the first part as the Presentation section.\n",
      "No explicit section found for Presentation in company: 20574, call ID: earnings_call_20574_4151779. Using the first part as the Presentation section.\n",
      "No explicit section found for Presentation in company: 20574, call ID: earnings_call_20574_4225415. Using the first part as the Presentation section.\n",
      "No explicit section found for Presentation in company: 20574, call ID: earnings_call_20574_4711326. Using the first part as the Presentation section.\n",
      "No explicit section found for Presentation in company: 20574, call ID: earnings_call_20574_4783397. Using the first part as the Presentation section.\n",
      "No explicit section found for Presentation in company: 20574, call ID: earnings_call_20574_4860596. Using the first part as the Presentation section.\n",
      "No explicit section found for Presentation in company: 20574, call ID: earnings_call_20574_4918740. Using the first part as the Presentation section.\n",
      "No explicit section found for Presentation in company: 20574, call ID: earnings_call_20574_5005543. Using the first part as the Presentation section.\n",
      "No explicit section found for Presentation in company: 20574, call ID: earnings_call_20574_5053236. Using the first part as the Presentation section.\n",
      "No explicit section found for Presentation in company: 20574, call ID: earnings_call_20574_5128849. Using the first part as the Presentation section.\n",
      "No explicit section found for Presentation in company: 20574, call ID: earnings_call_20574_5199947. Using the first part as the Presentation section.\n",
      "No explicit section found for Presentation in company: 20574, call ID: earnings_call_20574_5279613. Using the first part as the Presentation section.\n",
      "No explicit section found for Presentation in company: 20574, call ID: earnings_call_20574_5342701. Using the first part as the Presentation section.\n",
      "No explicit section found for Presentation in company: 20574, call ID: earnings_call_20574_5433836. Using the first part as the Presentation section.\n",
      "No explicit section found for Presentation in company: 20574, call ID: earnings_call_20574_5506223. Using the first part as the Presentation section.\n",
      "No explicit section found for Presentation in company: 20574, call ID: earnings_call_20574_5609778. Using the first part as the Presentation section.\n",
      "No explicit section found for Presentation in company: 20574, call ID: earnings_call_20574_5682224. Using the first part as the Presentation section.\n",
      "No explicit section found for Presentation in company: 20574, call ID: earnings_call_20574_5764470. Using the first part as the Presentation section.\n",
      "No explicit section found for Presentation in company: 20574, call ID: earnings_call_20574_5832859. Using the first part as the Presentation section.\n",
      "No explicit section found for Presentation in company: 20574, call ID: earnings_call_20574_5908371. Using the first part as the Presentation section.\n",
      "No explicit section found for Presentation in company: 20574, call ID: earnings_call_20574_5979625. Using the first part as the Presentation section.\n",
      "No explicit section found for Presentation in company: 20574, call ID: earnings_call_20574_6056261. Using the first part as the Presentation section.\n",
      "No explicit section found for Presentation in company: 20574, call ID: earnings_call_20574_6126993. Using the first part as the Presentation section.\n",
      "No explicit section found for Presentation in company: 20574, call ID: earnings_call_20574_622476. Using the first part as the Presentation section.\n",
      "No explicit section found for Presentation in company: 20574, call ID: earnings_call_20574_672259. Using the first part as the Presentation section.\n",
      "No explicit section found for Presentation in company: 20574, call ID: earnings_call_20574_734322. Using the first part as the Presentation section.\n",
      "No explicit section found for Presentation in company: 20574, call ID: earnings_call_20574_7629471. Using the first part as the Presentation section.\n",
      "No explicit section found for Presentation in company: 20574, call ID: earnings_call_20574_797911. Using the first part as the Presentation section.\n",
      "No explicit section found for Presentation in company: 20574, call ID: earnings_call_20574_873408. Using the first part as the Presentation section.\n",
      "No explicit section found for Presentation in company: 20574, call ID: earnings_call_20574_912421. Using the first part as the Presentation section.\n",
      "No explicit section found for Presentation in company: 20574, call ID: earnings_call_20574_942723. Using the first part as the Presentation section.\n",
      "No explicit section found for Presentation in company: 12457, call ID: earnings_call_12457_1008183. Using the first part as the Presentation section.\n",
      "No explicit section found for Presentation in company: 12457, call ID: earnings_call_12457_10287404. Using the first part as the Presentation section.\n",
      "No explicit section found for Presentation in company: 12457, call ID: earnings_call_12457_1059453. Using the first part as the Presentation section.\n",
      "No explicit section found for Presentation in company: 12457, call ID: earnings_call_12457_10736666. Using the first part as the Presentation section.\n",
      "No explicit section found for Presentation in company: 12457, call ID: earnings_call_12457_11032032. Using the first part as the Presentation section.\n",
      "No explicit section found for Presentation in company: 12457, call ID: earnings_call_12457_1105443. Using the first part as the Presentation section.\n",
      "No explicit section found for Presentation in company: 12457, call ID: earnings_call_12457_11215084. Using the first part as the Presentation section.\n",
      "No explicit section found for Presentation in company: 12457, call ID: earnings_call_12457_11479872. Using the first part as the Presentation section.\n",
      "No explicit section found for Presentation in company: 12457, call ID: earnings_call_12457_1150339. Using the first part as the Presentation section.\n",
      "No explicit section found for Presentation in company: 12457, call ID: earnings_call_12457_11657370. Using the first part as the Presentation section.\n",
      "No explicit section found for Presentation in company: 12457, call ID: earnings_call_12457_1195692. Using the first part as the Presentation section.\n",
      "No explicit section found for Presentation in company: 12457, call ID: earnings_call_12457_12126084. Using the first part as the Presentation section.\n",
      "No explicit section found for Presentation in company: 12457, call ID: earnings_call_12457_12281859. Using the first part as the Presentation section.\n",
      "No explicit section found for Presentation in company: 12457, call ID: earnings_call_12457_12495345. Using the first part as the Presentation section.\n",
      "No explicit section found for Presentation in company: 12457, call ID: earnings_call_12457_12620738. Using the first part as the Presentation section.\n",
      "No explicit section found for Presentation in company: 12457, call ID: earnings_call_12457_12812274. Using the first part as the Presentation section.\n",
      "No explicit section found for Presentation in company: 12457, call ID: earnings_call_12457_1297861. Using the first part as the Presentation section.\n",
      "No explicit section found for Presentation in company: 12457, call ID: earnings_call_12457_13001273. Using the first part as the Presentation section.\n",
      "No explicit section found for Presentation in company: 12457, call ID: earnings_call_12457_13145157. Using the first part as the Presentation section.\n",
      "No explicit section found for Presentation in company: 12457, call ID: earnings_call_12457_13283470. Using the first part as the Presentation section.\n",
      "No explicit section found for Presentation in company: 12457, call ID: earnings_call_12457_13453484. Using the first part as the Presentation section.\n",
      "No explicit section found for Presentation in company: 12457, call ID: earnings_call_12457_1348103. Using the first part as the Presentation section.\n",
      "No explicit section found for Presentation in company: 12457, call ID: earnings_call_12457_1396916. Using the first part as the Presentation section.\n",
      "No explicit section found for Presentation in company: 12457, call ID: earnings_call_12457_1453120. Using the first part as the Presentation section.\n",
      "No explicit section found for Presentation in company: 12457, call ID: earnings_call_12457_1529919. Using the first part as the Presentation section.\n",
      "No explicit section found for Presentation in company: 12457, call ID: earnings_call_12457_1601790. Using the first part as the Presentation section.\n",
      "No explicit section found for Presentation in company: 12457, call ID: earnings_call_12457_1664996. Using the first part as the Presentation section.\n",
      "No explicit section found for Presentation in company: 12457, call ID: earnings_call_12457_1743806. Using the first part as the Presentation section.\n",
      "No explicit section found for Presentation in company: 12457, call ID: earnings_call_12457_1822486. Using the first part as the Presentation section.\n",
      "No explicit section found for Presentation in company: 12457, call ID: earnings_call_12457_1903409. Using the first part as the Presentation section.\n",
      "No explicit section found for Presentation in company: 12457, call ID: earnings_call_12457_1992922. Using the first part as the Presentation section.\n",
      "No explicit section found for Presentation in company: 12457, call ID: earnings_call_12457_2072348. Using the first part as the Presentation section.\n",
      "No explicit section found for Presentation in company: 12457, call ID: earnings_call_12457_2178205. Using the first part as the Presentation section.\n",
      "No explicit section found for Presentation in company: 12457, call ID: earnings_call_12457_2319659. Using the first part as the Presentation section.\n",
      "No explicit section found for Presentation in company: 12457, call ID: earnings_call_12457_2471274. Using the first part as the Presentation section.\n",
      "No explicit section found for Presentation in company: 12457, call ID: earnings_call_12457_2676047. Using the first part as the Presentation section.\n",
      "No explicit section found for Presentation in company: 12457, call ID: earnings_call_12457_3004100. Using the first part as the Presentation section.\n",
      "No explicit section found for Presentation in company: 12457, call ID: earnings_call_12457_3208053. Using the first part as the Presentation section.\n",
      "No explicit section found for Presentation in company: 12457, call ID: earnings_call_12457_3419730. Using the first part as the Presentation section.\n",
      "No explicit section found for Presentation in company: 12457, call ID: earnings_call_12457_3651848. Using the first part as the Presentation section.\n",
      "No explicit section found for Presentation in company: 12457, call ID: earnings_call_12457_3950590. Using the first part as the Presentation section.\n",
      "No explicit section found for Presentation in company: 12457, call ID: earnings_call_12457_4154877. Using the first part as the Presentation section.\n",
      "No explicit section found for Presentation in company: 12457, call ID: earnings_call_12457_4212236. Using the first part as the Presentation section.\n",
      "No explicit section found for Presentation in company: 12457, call ID: earnings_call_12457_4710163. Using the first part as the Presentation section.\n",
      "No explicit section found for Presentation in company: 12457, call ID: earnings_call_12457_4787948. Using the first part as the Presentation section.\n",
      "No explicit section found for Presentation in company: 12457, call ID: earnings_call_12457_4863178. Using the first part as the Presentation section.\n",
      "No explicit section found for Presentation in company: 12457, call ID: earnings_call_12457_4923751. Using the first part as the Presentation section.\n",
      "No explicit section found for Presentation in company: 12457, call ID: earnings_call_12457_4988617. Using the first part as the Presentation section.\n",
      "No explicit section found for Presentation in company: 12457, call ID: earnings_call_12457_5060262. Using the first part as the Presentation section.\n",
      "No explicit section found for Presentation in company: 12457, call ID: earnings_call_12457_5133011. Using the first part as the Presentation section.\n",
      "No explicit section found for Presentation in company: 12457, call ID: earnings_call_12457_5209642. Using the first part as the Presentation section.\n",
      "No explicit section found for Presentation in company: 12457, call ID: earnings_call_12457_5279450. Using the first part as the Presentation section.\n",
      "No explicit section found for Presentation in company: 12457, call ID: earnings_call_12457_5347799. Using the first part as the Presentation section.\n",
      "No explicit section found for Presentation in company: 12457, call ID: earnings_call_12457_5439360. Using the first part as the Presentation section.\n",
      "No explicit section found for Presentation in company: 12457, call ID: earnings_call_12457_5512437. Using the first part as the Presentation section.\n",
      "No explicit section found for Presentation in company: 12457, call ID: earnings_call_12457_5606103. Using the first part as the Presentation section.\n",
      "No explicit section found for Presentation in company: 12457, call ID: earnings_call_12457_5683289. Using the first part as the Presentation section.\n",
      "No explicit section found for Presentation in company: 12457, call ID: earnings_call_12457_5762254. Using the first part as the Presentation section.\n",
      "No explicit section found for Presentation in company: 12457, call ID: earnings_call_12457_5837881. Using the first part as the Presentation section.\n",
      "No explicit section found for Presentation in company: 12457, call ID: earnings_call_12457_5906956. Using the first part as the Presentation section.\n",
      "No explicit section found for Presentation in company: 12457, call ID: earnings_call_12457_5982917. Using the first part as the Presentation section.\n",
      "No explicit section found for Presentation in company: 12457, call ID: earnings_call_12457_6060650. Using the first part as the Presentation section.\n",
      "No explicit section found for Presentation in company: 12457, call ID: earnings_call_12457_6131600. Using the first part as the Presentation section.\n",
      "No explicit section found for Presentation in company: 12457, call ID: earnings_call_12457_620666. Using the first part as the Presentation section.\n",
      "No explicit section found for Presentation in company: 12457, call ID: earnings_call_12457_640772. Using the first part as the Presentation section.\n",
      "No explicit section found for Presentation in company: 12457, call ID: earnings_call_12457_667551. Using the first part as the Presentation section.\n",
      "No explicit section found for Presentation in company: 12457, call ID: earnings_call_12457_701935. Using the first part as the Presentation section.\n",
      "No explicit section found for Presentation in company: 12457, call ID: earnings_call_12457_733960. Using the first part as the Presentation section.\n",
      "No explicit section found for Presentation in company: 12457, call ID: earnings_call_12457_7551590. Using the first part as the Presentation section.\n",
      "No explicit section found for Presentation in company: 12457, call ID: earnings_call_12457_758638. Using the first part as the Presentation section.\n",
      "No explicit section found for Presentation in company: 12457, call ID: earnings_call_12457_784520. Using the first part as the Presentation section.\n",
      "No explicit section found for Presentation in company: 12457, call ID: earnings_call_12457_827627. Using the first part as the Presentation section.\n",
      "No explicit section found for Presentation in company: 12457, call ID: earnings_call_12457_885731. Using the first part as the Presentation section.\n",
      "No explicit section found for Presentation in company: 12457, call ID: earnings_call_12457_919144. Using the first part as the Presentation section.\n",
      "No explicit section found for Presentation in company: 12457, call ID: earnings_call_12457_942039. Using the first part as the Presentation section.\n",
      "No explicit section found for Presentation in company: 44611, call ID: earnings_call_44611_1317915. Using the first part as the Presentation section.\n",
      "No explicit section found for Presentation in company: 44611, call ID: earnings_call_44611_1369883. Using the first part as the Presentation section.\n",
      "No explicit section found for Presentation in company: 44611, call ID: earnings_call_44611_1468216. Using the first part as the Presentation section.\n",
      "No explicit section found for Presentation in company: 44611, call ID: earnings_call_44611_1621666. Using the first part as the Presentation section.\n",
      "No explicit section found for Presentation in company: 44611, call ID: earnings_call_44611_1690039. Using the first part as the Presentation section.\n",
      "No explicit section found for Presentation in company: 44611, call ID: earnings_call_44611_845723. Using the first part as the Presentation section.\n",
      "No explicit section found for Presentation in company: 44611, call ID: earnings_call_44611_881817. Using the first part as the Presentation section.\n",
      "No explicit section found for Presentation in company: 44611, call ID: earnings_call_44611_921144. Using the first part as the Presentation section.\n",
      "No explicit section found for Presentation in company: 44611, call ID: earnings_call_44611_962630. Using the first part as the Presentation section.\n",
      "No explicit section found for Presentation in company: 21394, call ID: earnings_call_21394_1001637. Using the first part as the Presentation section.\n",
      "No explicit section found for Presentation in company: 21394, call ID: earnings_call_21394_1053158. Using the first part as the Presentation section.\n",
      "No explicit section found for Presentation in company: 21394, call ID: earnings_call_21394_10666162. Using the first part as the Presentation section.\n",
      "No explicit section found for Presentation in company: 21394, call ID: earnings_call_21394_10964011. Using the first part as the Presentation section.\n",
      "No explicit section found for Presentation in company: 21394, call ID: earnings_call_21394_1102697. Using the first part as the Presentation section.\n",
      "No explicit section found for Presentation in company: 21394, call ID: earnings_call_21394_11162957. Using the first part as the Presentation section.\n",
      "No explicit section found for Presentation in company: 21394, call ID: earnings_call_21394_11449699. Using the first part as the Presentation section.\n",
      "No explicit section found for Presentation in company: 21394, call ID: earnings_call_21394_1149155. Using the first part as the Presentation section.\n",
      "No explicit section found for Presentation in company: 21394, call ID: earnings_call_21394_11565124. Using the first part as the Presentation section.\n",
      "No explicit section found for Presentation in company: 21394, call ID: earnings_call_21394_11948456. Using the first part as the Presentation section.\n",
      "No explicit section found for Presentation in company: 21394, call ID: earnings_call_21394_1197276. Using the first part as the Presentation section.\n",
      "No explicit section found for Presentation in company: 21394, call ID: earnings_call_21394_12236072. Using the first part as the Presentation section.\n",
      "No explicit section found for Presentation in company: 21394, call ID: earnings_call_21394_12426287. Using the first part as the Presentation section.\n",
      "No explicit section found for Presentation in company: 21394, call ID: earnings_call_21394_12598265. Using the first part as the Presentation section.\n",
      "No explicit section found for Presentation in company: 21394, call ID: earnings_call_21394_12735507. Using the first part as the Presentation section.\n",
      "No explicit section found for Presentation in company: 21394, call ID: earnings_call_21394_12959949. Using the first part as the Presentation section.\n",
      "No explicit section found for Presentation in company: 21394, call ID: earnings_call_21394_1299605. Using the first part as the Presentation section.\n",
      "No explicit section found for Presentation in company: 21394, call ID: earnings_call_21394_13082701. Using the first part as the Presentation section.\n",
      "No explicit section found for Presentation in company: 21394, call ID: earnings_call_21394_13233057. Using the first part as the Presentation section.\n",
      "No explicit section found for Presentation in company: 21394, call ID: earnings_call_21394_13413593. Using the first part as the Presentation section.\n",
      "No explicit section found for Presentation in company: 21394, call ID: earnings_call_21394_1351004. Using the first part as the Presentation section.\n",
      "No explicit section found for Presentation in company: 21394, call ID: earnings_call_21394_1404780. Using the first part as the Presentation section.\n",
      "No explicit section found for Presentation in company: 21394, call ID: earnings_call_21394_1538064. Using the first part as the Presentation section.\n",
      "No explicit section found for Presentation in company: 21394, call ID: earnings_call_21394_1595627. Using the first part as the Presentation section.\n",
      "No explicit section found for Presentation in company: 21394, call ID: earnings_call_21394_1665867. Using the first part as the Presentation section.\n",
      "No explicit section found for Presentation in company: 21394, call ID: earnings_call_21394_1742146. Using the first part as the Presentation section.\n",
      "No explicit section found for Presentation in company: 21394, call ID: earnings_call_21394_1822539. Using the first part as the Presentation section.\n",
      "No explicit section found for Presentation in company: 21394, call ID: earnings_call_21394_1885796. Using the first part as the Presentation section.\n",
      "No explicit section found for Presentation in company: 21394, call ID: earnings_call_21394_1988173. Using the first part as the Presentation section.\n",
      "No explicit section found for Presentation in company: 21394, call ID: earnings_call_21394_2149772. Using the first part as the Presentation section.\n",
      "No explicit section found for Presentation in company: 21394, call ID: earnings_call_21394_2284315. Using the first part as the Presentation section.\n",
      "No explicit section found for Presentation in company: 21394, call ID: earnings_call_21394_2433125. Using the first part as the Presentation section.\n",
      "No explicit section found for Presentation in company: 21394, call ID: earnings_call_21394_2642126. Using the first part as the Presentation section.\n",
      "No explicit section found for Presentation in company: 21394, call ID: earnings_call_21394_2986814. Using the first part as the Presentation section.\n",
      "No explicit section found for Presentation in company: 21394, call ID: earnings_call_21394_3193963. Using the first part as the Presentation section.\n",
      "No explicit section found for Presentation in company: 21394, call ID: earnings_call_21394_3414665. Using the first part as the Presentation section.\n",
      "No explicit section found for Presentation in company: 21394, call ID: earnings_call_21394_3646405. Using the first part as the Presentation section.\n",
      "No explicit section found for Presentation in company: 21394, call ID: earnings_call_21394_3947801. Using the first part as the Presentation section.\n",
      "No explicit section found for Presentation in company: 21394, call ID: earnings_call_21394_4145040. Using the first part as the Presentation section.\n",
      "No explicit section found for Presentation in company: 21394, call ID: earnings_call_21394_4211168. Using the first part as the Presentation section.\n",
      "No explicit section found for Presentation in company: 21394, call ID: earnings_call_21394_4691467. Using the first part as the Presentation section.\n",
      "No explicit section found for Presentation in company: 21394, call ID: earnings_call_21394_4770865. Using the first part as the Presentation section.\n",
      "No explicit section found for Presentation in company: 21394, call ID: earnings_call_21394_4851540. Using the first part as the Presentation section.\n",
      "No explicit section found for Presentation in company: 21394, call ID: earnings_call_21394_4912220. Using the first part as the Presentation section.\n",
      "No explicit section found for Presentation in company: 21394, call ID: earnings_call_21394_4973306. Using the first part as the Presentation section.\n",
      "No explicit section found for Presentation in company: 21394, call ID: earnings_call_21394_5046169. Using the first part as the Presentation section.\n",
      "No explicit section found for Presentation in company: 21394, call ID: earnings_call_21394_5121011. Using the first part as the Presentation section.\n",
      "No explicit section found for Presentation in company: 21394, call ID: earnings_call_21394_5194534. Using the first part as the Presentation section.\n",
      "No explicit section found for Presentation in company: 21394, call ID: earnings_call_21394_5255386. Using the first part as the Presentation section.\n",
      "No explicit section found for Presentation in company: 21394, call ID: earnings_call_21394_5332041. Using the first part as the Presentation section.\n",
      "No explicit section found for Presentation in company: 21394, call ID: earnings_call_21394_5409700. Using the first part as the Presentation section.\n",
      "No explicit section found for Presentation in company: 21394, call ID: earnings_call_21394_5495289. Using the first part as the Presentation section.\n",
      "No explicit section found for Presentation in company: 21394, call ID: earnings_call_21394_5569872. Using the first part as the Presentation section.\n",
      "No explicit section found for Presentation in company: 21394, call ID: earnings_call_21394_5665362. Using the first part as the Presentation section.\n",
      "No explicit section found for Presentation in company: 21394, call ID: earnings_call_21394_5754346. Using the first part as the Presentation section.\n",
      "No explicit section found for Presentation in company: 21394, call ID: earnings_call_21394_5819752. Using the first part as the Presentation section.\n",
      "No explicit section found for Presentation in company: 21394, call ID: earnings_call_21394_5891507. Using the first part as the Presentation section.\n",
      "No explicit section found for Presentation in company: 21394, call ID: earnings_call_21394_5965559. Using the first part as the Presentation section.\n",
      "No explicit section found for Presentation in company: 21394, call ID: earnings_call_21394_6046768. Using the first part as the Presentation section.\n",
      "No explicit section found for Presentation in company: 21394, call ID: earnings_call_21394_6108692. Using the first part as the Presentation section.\n",
      "No explicit section found for Presentation in company: 21394, call ID: earnings_call_21394_621325. Using the first part as the Presentation section.\n",
      "No explicit section found for Presentation in company: 21394, call ID: earnings_call_21394_668565. Using the first part as the Presentation section.\n",
      "No explicit section found for Presentation in company: 21394, call ID: earnings_call_21394_700206. Using the first part as the Presentation section.\n",
      "No explicit section found for Presentation in company: 21394, call ID: earnings_call_21394_734300. Using the first part as the Presentation section.\n",
      "No explicit section found for Presentation in company: 21394, call ID: earnings_call_21394_7435235. Using the first part as the Presentation section.\n",
      "No explicit section found for Presentation in company: 21394, call ID: earnings_call_21394_766119. Using the first part as the Presentation section.\n",
      "No explicit section found for Presentation in company: 21394, call ID: earnings_call_21394_798360. Using the first part as the Presentation section.\n",
      "No explicit section found for Presentation in company: 21394, call ID: earnings_call_21394_840272. Using the first part as the Presentation section.\n",
      "No explicit section found for Presentation in company: 21394, call ID: earnings_call_21394_878977. Using the first part as the Presentation section.\n",
      "No explicit section found for Presentation in company: 21394, call ID: earnings_call_21394_918283. Using the first part as the Presentation section.\n",
      "No explicit section found for Presentation in company: 21394, call ID: earnings_call_21394_956568. Using the first part as the Presentation section.\n",
      "No explicit section found for Presentation in company: 21394, call ID: earnings_call_21394_9729042. Using the first part as the Presentation section.\n",
      "No explicit section found for Presentation in company: 14754, call ID: earnings_call_14754_10086596. Using the first part as the Presentation section.\n",
      "No explicit section found for Presentation in company: 14754, call ID: earnings_call_14754_1014573. Using the first part as the Presentation section.\n",
      "No explicit section found for Presentation in company: 14754, call ID: earnings_call_14754_1058100. Using the first part as the Presentation section.\n",
      "No explicit section found for Presentation in company: 14754, call ID: earnings_call_14754_10715103. Using the first part as the Presentation section.\n",
      "No explicit section found for Presentation in company: 14754, call ID: earnings_call_14754_11005439. Using the first part as the Presentation section.\n",
      "No explicit section found for Presentation in company: 14754, call ID: earnings_call_14754_1104890. Using the first part as the Presentation section.\n",
      "No explicit section found for Presentation in company: 14754, call ID: earnings_call_14754_11196231. Using the first part as the Presentation section.\n",
      "No explicit section found for Presentation in company: 14754, call ID: earnings_call_14754_11477790. Using the first part as the Presentation section.\n",
      "No explicit section found for Presentation in company: 14754, call ID: earnings_call_14754_1151152. Using the first part as the Presentation section.\n",
      "No explicit section found for Presentation in company: 14754, call ID: earnings_call_14754_11635990. Using the first part as the Presentation section.\n",
      "No explicit section found for Presentation in company: 14754, call ID: earnings_call_14754_12048969. Using the first part as the Presentation section.\n",
      "No explicit section found for Presentation in company: 14754, call ID: earnings_call_14754_1211643. Using the first part as the Presentation section.\n",
      "No explicit section found for Presentation in company: 14754, call ID: earnings_call_14754_12259176. Using the first part as the Presentation section.\n",
      "No explicit section found for Presentation in company: 14754, call ID: earnings_call_14754_12456429. Using the first part as the Presentation section.\n",
      "No explicit section found for Presentation in company: 14754, call ID: earnings_call_14754_1306507. Using the first part as the Presentation section.\n",
      "No explicit section found for Presentation in company: 14754, call ID: earnings_call_14754_1355008. Using the first part as the Presentation section.\n",
      "No explicit section found for Presentation in company: 14754, call ID: earnings_call_14754_1404155. Using the first part as the Presentation section.\n",
      "No explicit section found for Presentation in company: 14754, call ID: earnings_call_14754_1466798. Using the first part as the Presentation section.\n",
      "No explicit section found for Presentation in company: 14754, call ID: earnings_call_14754_1533842. Using the first part as the Presentation section.\n",
      "No explicit section found for Presentation in company: 14754, call ID: earnings_call_14754_1600825. Using the first part as the Presentation section.\n",
      "No explicit section found for Presentation in company: 14754, call ID: earnings_call_14754_1671089. Using the first part as the Presentation section.\n",
      "No explicit section found for Presentation in company: 14754, call ID: earnings_call_14754_1750908. Using the first part as the Presentation section.\n",
      "No explicit section found for Presentation in company: 14754, call ID: earnings_call_14754_1819075. Using the first part as the Presentation section.\n",
      "No explicit section found for Presentation in company: 14754, call ID: earnings_call_14754_1902579. Using the first part as the Presentation section.\n",
      "No explicit section found for Presentation in company: 14754, call ID: earnings_call_14754_1995789. Using the first part as the Presentation section.\n",
      "No explicit section found for Presentation in company: 14754, call ID: earnings_call_14754_2077134. Using the first part as the Presentation section.\n",
      "No explicit section found for Presentation in company: 14754, call ID: earnings_call_14754_2172308. Using the first part as the Presentation section.\n",
      "No explicit section found for Presentation in company: 14754, call ID: earnings_call_14754_2327270. Using the first part as the Presentation section.\n",
      "No explicit section found for Presentation in company: 14754, call ID: earnings_call_14754_2503315. Using the first part as the Presentation section.\n",
      "No explicit section found for Presentation in company: 14754, call ID: earnings_call_14754_2689692. Using the first part as the Presentation section.\n",
      "No explicit section found for Presentation in company: 14754, call ID: earnings_call_14754_3025962. Using the first part as the Presentation section.\n",
      "No explicit section found for Presentation in company: 14754, call ID: earnings_call_14754_3231109. Using the first part as the Presentation section.\n",
      "No explicit section found for Presentation in company: 14754, call ID: earnings_call_14754_3437055. Using the first part as the Presentation section.\n",
      "No explicit section found for Presentation in company: 14754, call ID: earnings_call_14754_3687339. Using the first part as the Presentation section.\n",
      "No explicit section found for Presentation in company: 14754, call ID: earnings_call_14754_3960810. Using the first part as the Presentation section.\n",
      "No explicit section found for Presentation in company: 14754, call ID: earnings_call_14754_4154858. Using the first part as the Presentation section.\n",
      "No explicit section found for Presentation in company: 14754, call ID: earnings_call_14754_4217809. Using the first part as the Presentation section.\n",
      "No explicit section found for Presentation in company: 14754, call ID: earnings_call_14754_4711513. Using the first part as the Presentation section.\n",
      "No explicit section found for Presentation in company: 14754, call ID: earnings_call_14754_4785790. Using the first part as the Presentation section.\n",
      "No explicit section found for Presentation in company: 14754, call ID: earnings_call_14754_4861738. Using the first part as the Presentation section.\n",
      "No explicit section found for Presentation in company: 14754, call ID: earnings_call_14754_4929512. Using the first part as the Presentation section.\n",
      "No explicit section found for Presentation in company: 14754, call ID: earnings_call_14754_5002248. Using the first part as the Presentation section.\n",
      "No explicit section found for Presentation in company: 14754, call ID: earnings_call_14754_5063734. Using the first part as the Presentation section.\n",
      "No explicit section found for Presentation in company: 14754, call ID: earnings_call_14754_5135196. Using the first part as the Presentation section.\n",
      "No explicit section found for Presentation in company: 14754, call ID: earnings_call_14754_5205689. Using the first part as the Presentation section.\n",
      "No explicit section found for Presentation in company: 14754, call ID: earnings_call_14754_5281752. Using the first part as the Presentation section.\n",
      "No explicit section found for Presentation in company: 14754, call ID: earnings_call_14754_5350550. Using the first part as the Presentation section.\n",
      "No explicit section found for Presentation in company: 14754, call ID: earnings_call_14754_5437588. Using the first part as the Presentation section.\n",
      "No explicit section found for Presentation in company: 14754, call ID: earnings_call_14754_5508288. Using the first part as the Presentation section.\n",
      "No explicit section found for Presentation in company: 14754, call ID: earnings_call_14754_5608751. Using the first part as the Presentation section.\n",
      "No explicit section found for Presentation in company: 14754, call ID: earnings_call_14754_5688547. Using the first part as the Presentation section.\n",
      "No explicit section found for Presentation in company: 14754, call ID: earnings_call_14754_5765598. Using the first part as the Presentation section.\n",
      "No explicit section found for Presentation in company: 14754, call ID: earnings_call_14754_5830839. Using the first part as the Presentation section.\n",
      "No explicit section found for Presentation in company: 14754, call ID: earnings_call_14754_5897734. Using the first part as the Presentation section.\n",
      "No explicit section found for Presentation in company: 14754, call ID: earnings_call_14754_5974472. Using the first part as the Presentation section.\n",
      "No explicit section found for Presentation in company: 14754, call ID: earnings_call_14754_6053017. Using the first part as the Presentation section.\n",
      "No explicit section found for Presentation in company: 14754, call ID: earnings_call_14754_6129639. Using the first part as the Presentation section.\n",
      "No explicit section found for Presentation in company: 14754, call ID: earnings_call_14754_7466469. Using the first part as the Presentation section.\n",
      "No explicit section found for Presentation in company: 14754, call ID: earnings_call_14754_921014. Using the first part as the Presentation section.\n",
      "No explicit section found for Presentation in company: 14754, call ID: earnings_call_14754_946990. Using the first part as the Presentation section.\n",
      "No explicit section found for Presentation in company: 55341, call ID: earnings_call_55341_10276388. Using the first part as the Presentation section.\n",
      "No explicit section found for Presentation in company: 55341, call ID: earnings_call_55341_10723713. Using the first part as the Presentation section.\n",
      "No explicit section found for Presentation in company: 55341, call ID: earnings_call_55341_11000110. Using the first part as the Presentation section.\n",
      "No explicit section found for Presentation in company: 55341, call ID: earnings_call_55341_11203381. Using the first part as the Presentation section.\n",
      "No explicit section found for Presentation in company: 55341, call ID: earnings_call_55341_11477535. Using the first part as the Presentation section.\n",
      "No explicit section found for Presentation in company: 55341, call ID: earnings_call_55341_11648189. Using the first part as the Presentation section.\n",
      "No explicit section found for Presentation in company: 55341, call ID: earnings_call_55341_12041892. Using the first part as the Presentation section.\n",
      "No explicit section found for Presentation in company: 55341, call ID: earnings_call_55341_12258328. Using the first part as the Presentation section.\n",
      "No explicit section found for Presentation in company: 55341, call ID: earnings_call_55341_12460664. Using the first part as the Presentation section.\n",
      "No explicit section found for Presentation in company: 55341, call ID: earnings_call_55341_12612844. Using the first part as the Presentation section.\n",
      "No explicit section found for Presentation in company: 55341, call ID: earnings_call_55341_12783692. Using the first part as the Presentation section.\n",
      "No explicit section found for Presentation in company: 55341, call ID: earnings_call_55341_12986968. Using the first part as the Presentation section.\n",
      "No explicit section found for Presentation in company: 55341, call ID: earnings_call_55341_13136278. Using the first part as the Presentation section.\n",
      "No explicit section found for Presentation in company: 55341, call ID: earnings_call_55341_13236525. Using the first part as the Presentation section.\n",
      "No explicit section found for Presentation in company: 55341, call ID: earnings_call_55341_13440147. Using the first part as the Presentation section.\n",
      "No explicit section found for Presentation in company: 55341, call ID: earnings_call_55341_5821746. Using the first part as the Presentation section.\n",
      "No explicit section found for Presentation in company: 55341, call ID: earnings_call_55341_5890982. Using the first part as the Presentation section.\n",
      "No explicit section found for Presentation in company: 55341, call ID: earnings_call_55341_5933330. Using the first part as the Presentation section.\n",
      "No explicit section found for Presentation in company: 55341, call ID: earnings_call_55341_6054264. Using the first part as the Presentation section.\n",
      "No explicit section found for Presentation in company: 55341, call ID: earnings_call_55341_6118550. Using the first part as the Presentation section.\n",
      "No explicit section found for Presentation in company: 55341, call ID: earnings_call_55341_7466236. Using the first part as the Presentation section.\n",
      "Extracted 20635 relevant sections.\n",
      "['Welcome to the Piedmont Natural Gas first quarter earnings conference call. [OPERATOR INSTRUCTIONS] I would now like to turn the conference over to our host, Mr. Headen Thomas. Sir, please go ahead', \"Good afternoon. And thank you for joining us for our first quarter conference call. Our earnings release was issued on March 3 and the 10-Q was filed yesterday. Both are available on our Website at piedmontng.com. With me today on the conference call are; Tom Skains, our Chairman, President and CEO, Dave Dzuricky, our Senior Vice President and CFO, Frank Yoho, our Senior President of Commercial Operations, Kevin O'Hara, Vice President Business Development and Ventures and other members of our management team\", \"Before the discussions begin, I would like to advise you that our comments address Piedmont's business outlook and contain certain forward-looking statements. These forward-looking statements are subject to a number of risks and uncertainties and actual results may differ materially. Please refer to pages 31 and 32 of our 2005 annual report to shareholders and our most recent SEC filings for information about the risk factors that could cause actual results to differ. Now, I will turn the call over to our Chairman, President and CEO, Tom Skains\", 'Thank you Head and good afternoon everybody. And thanks for participating in our fiscal 2006 first quarter conference call. It was great to see many of you in Charlotte recently at our annual shareholders meeting. And if you were not there, my remarks to shareholders are archived at our Website piedmontng.com As you know, following the annual meeting we announced a dividend increase from $0.23 to $0.24 per share, the 28th consecutive year our Board has increased the dividend', 'Our first quarter earnings were shaped by the impacts of high and volatile natural gas prices, customer conservation and warmer than normal weather. With the $0.94 per share we realized, our expectations were met and we reaffirmed earnings guidance for this year of $1.20 to $1.35 per share in our first quarter press release. Notwithstanding the pricing pressure we are under, our markets and our customer base continue to grow at a healthy pace. This growth reflects the strength of our markets, the value of our relationships with key trade allies, and the intrinsic value that natural gas service provides in so many different customer applications', 'We are also continuing our proactive strategic approach to the key issues facing our industry and our Company by; Strongly advocating the need for greater access to domestic sources of natural gas supply. Pushing for greater fuel diversity in both new and existing electric generation facilities across our nation. And encouraging the development of additional LNG import capabilities to public policymakers and elected officials at the local, state, and federal levels', 'Closer to home we, continue to work to strengthen and improve the services we provide to our customers, which were severely challenged this year by high winter natural gas bills and the resulting stress on our customer service operations. This has been an extremely difficult winter for the natural gas industry, for Piedmont and for our customers. I am confident, however, that we and our industry will be successful in addressing the issues that face us.And that we can emerge even stronger, as we add value to the communities and customers we serve and to our shareholders. And now I would like to announce the agenda for the remaining portion of the conference call', \"Frank Yoho will address our commercial operations, Dave Dzuricky will conduct our financial review and Kevin O'Hara will cover our joint venture activities. After that, we'll open up the call for your questions. Now, I'd like to turn the call over to Frank Yoho. Frank?\", \"Thank you, Tom. Starting off, first quarter weather was 10% warmer than normal compared to last year, where it was approximately 9% warmer than normal. Our quarterly throughput for the first quarter was 66 Bcf, compared to last year's 71.7 Bcf. We saw lower volumes due to slightly warmer weather than last year, power generation load, which was down, conservation in our core markets. And in December with the price of natural gas, a small amount of alternate fuel loss in our industrial markets\", \"Margins were $209.4 million for the first quarter this year versus $202.6 million last year. This is due to continued strong growth in our residential and commercial markets and last year's North Carolina rate case. Also the rate case from North Carolina customer utilization tracker allows us to help our customers in their conservation efforts. Growth in the economy and our market territory is still very healthy. Specifically in the residential and commercial markets where we've seen, in the first quarter, over 9,300 additional customers versus last year, it was a also very strong number of over 9,500 additional customers. We continue to see success in our secondary marketing activities where we share these dollars achieved with our customers. This year the shareholders achieved 1.9 million in the first quarter versus last year's first quarter of $1.5 million\", \"Hedging, our hedging programs also created value in the upward pressure market we experienced and adds value through decreased gas cost of approximately $20 million for the winter period. Storage, as our numbers are also like the national numbers, where we're currently at a very strong storage position as we go into the spring and storage sell seasons in the summer. Also past week, Midwestern announced that -- and FERC approved and gave certificate for a Midwestern expansion project, of which we are significant customer of, that will bring gas from the Rockies and Canadian to the Chicago hub and move to our Tennessee and some to our North and South Carolina markets. That was approved by FERC this past week.\", 'Also, in the industrial market sector we have seen pricing pressure on these customers. We saw a small hiccup in December but most like -- to alternate fuel but most of that market has been recovered. And with the current spreads we see ourselves continuing to maintain the number two load, potentially capturing the number six load. With that, I will hand the call over to Dave', 'Good afternoon. Thank you, Frank and good afternoon everybody. High wholesale prices have affected us in areas other than margin. Frank has covered that part of the effect of high wholesale prices. Let me just cover a few others. We have had increase in several areas of our operation and maintenance expense associated with the price of gas at the wholesale level where it had been in the first quarter. Specifically, our customer service expenses associated with using third-party representatives as well as internal labor to beef up our contact center, had upward pressure on our operation and maintenance expenses. Also, we had an increase in regulatory expense due to the higher revenue levels compared to last year', 'Also, while not an operating and maintenance expense issue, we have had significantly greater borrowings this year related to receivables and storage and that also has put upward pressure on our interest expense. Notably, one of the regulatory initiatives in which we were involved in North Carolina is reflected in the fact that even with the very high prices, we did have lower provision for uncollectibles, due to the change in the recovery of gas costs in North Carolina, as reported in the Q and covered more deeply in the order in our rate case', \"The gas cost component of our uncollectible expense in North Carolina is now recovered through our PGA rather than through the base rate. So, the amount that we have at risk relates solely to the margin. We also had an increase in our lease expense for the new building. I feel like, while it's not a significant increase, just to remind those on the call, that we owned our old building. So, the offsets to the increase in the lease expense would be observable in our depreciation and property taxes, direct maintenance of the old building and an interest expense. So while there was a significant increase due to the new building, there were offsets in other non-operation and maintenance expense accounts\", \"Other than that, it was a fairly normal first quarter from a financial performance point of view, obviously high wholesale prices were the story for the quarter. And with that, I'm going to turn the call over to Kevin O'Hara\", \"Thanks, Dave. The earnings that I'm going to report are for our joint ventures and these are Piedmont's share of earnings from the ventures. Start with Cardinal. This is our North Carolina intrastate pipeline joint venture, of which Piedmont has a 21.5% ownership share. In the first quarter of '06 our earnings were $280,000 versus $270,000 for first quarter last year\", 'Pine Needle LNG. This is our FERC regulated 4 Bcf interstate LNG storage facility in Guilford County, North Carolina. We have a 40% ownership interest in Pine Needle. And in the first quarter our earnings were $600,000 versus $580,000 last year in the first quarter last year. Pursuant to our 2003 rate case settlement with FERC, we did agree to file a general rate case within three years of that order. That three years is up and we plan to have a filing into FERC by May 1 of this year', \"SouthStar, retail marketing joint venture with AGL Resources. Piedmont has a 30% ownership interest and a 25% share of the earnings. In the first quarter of '06, our earnings were 2.5 million versus $2.6 million for the first quarter in 2005. And our Hardy. This is our joint venture with Columbia Gas Transmission to build and operate a 12.4 Bcf natural gas storage facility in Hardy County, West Virginia. We have received authorization from FERC to proceed with construction and we are on schedule to go into operation in April of 2007. And with that, I will turn it back over to Headen\", 'Thank you, Kevin. And at this time we are ready for you to moderate the question-and-answer session', \"Ladies and Gentlemen, thank you for standing by. Welcome to the third quarter earnings conference call. At this time, all participants are in a listen-only mode. Later, we will conduct a question-and-answer session. The instructions will be given at that time. [OPERATOR INSTRUCTIONS] As a reminder, today's call is being recorded\", 'I would now like to turn the call over to Director of Investor Relations and Venture Administration, Margaret Griffith. Please go ahead', 'Thank you, Janine. Good afternoon and thank you for joining our third quarter fiscal year 2006 earnings conference call. This call is open to the general public and the media and is being Webcast live over the internet. If you would like to access the Webcast, please visit our Web site at www.piedmontng.com, click on the conference call link found under the Investor Relations page', 'We issued our third quarter fiscal year 2006 earnings release on September 1, 2006, and filed our Form 10-Q for the period ended July 31, 2006, with the Securities and Exchange Commission on September 8, 2006', 'On the call today, we have Tom Skains, our Chairman, Chief Executive Officer, and President; Dave Dzuricky, our Senior Vice President and Chief Financial Officer; and Frank Yoho, our Senior Vice President of Commercial Operations, who will present prepared remarks. We also have with us other members of our executive management team here to assist with questions as needed. And at the end of the prepared remarks, we will open the discussion to questions', 'Finally, this call may include forward-looking statements within the meaning of the Securities laws. Actual results may materially differ from those discussed in the forward-looking statements. And you should refer to the additional information contained in our earnings press release dated September 1, 2006, as well as our most recent Forms 10-Q and 10-K filed with the Securities and Exchange Commission for a more complete discussion of the risks and uncertainties that can cause actual results to vary materially from the forward-looking statements', \"And with that, I'll turn the call over to Tom\", 'Thank you, Margaret. Good afternoon, everybody, and thanks for taking the time to participate in our third quarter earnings conference call. As I said in my press release, our third quarter provided many challenges, but the business process improvement actions we have taken have strengthened our financial prospects for the future. In that regard, we narrowed our guidance range for 2006 to $1.25 to $1.35 per diluted share, compared to our prior guidance of $1.20 to $1.35 per diluted share', 'Now for a quick overview of our quarter. In the third quarter, we completed our previously announced management restructuring program. This restructuring will ensure that our leadership team is organized to deliver competitive services to customers in the most efficient manner possible', \"We also reached a settlement with the North Carolina Attorney General's office regarding their appeal of the Customer Utilization Tracker, or CUT, which was implemented as a part of our 2005 North Carolina rate case, effective November 1, 2005. The CUT is an innovative regulatory mechanism which decouples or separates the collection of utility margin from customer consumption. The settlement aligns both Piedmont and our customer's interests in the areas of energy conservation and the efficient use of natural gas\", 'Also during the quarter, we rolled out our Light Up Customer Care Program in response to the challenges we faced last winter. This initiative is designed to deliver best-in-class customer service, a goal for every employee in our Company. We are pleased with the progress thus far and look forward to the winter ahead', 'Finally, our Company continues to experience exceptional customer growth even in an environment of high wholesale gas prices. This growth demonstrates that our customers recognize the real value of natural gas as a clean, reliable, convenient and comfortable energy source. These outstanding accomplishments are the result of our dedicated and talented employees who work very hard to serve our customers and create value for our shareholders. My personal thank you to all my teammates at Piedmont and to our investors. My thanks for your continued confidence in our Company', 'I would now like to announce the agenda for the remaining portion of the conference call. Frank Yoho will address our Commercial Operations and provide a regulatory update and Dave Dzuricky will conduct our financial review and cover our joint venture activities. After that, we will open up the call for any of your questions', 'Now I would like to turn the call over to Frank Yoho. Frank?', 'Thank you, Tom. Volumes for the third quarter were approximately 38 BCF compared to 35 BCF last year. We experienced increases in the power generation market along with the industrial marketplace. Margins for the third quarter were $73 million versus $76.6 million last year. As we expected, our North Carolina rate case caused some summer margin to shift from the industrial class to the more seasonal, residential and commercial class. Also, our settlement with the Attorney General, as Tom mentioned, of $750,000 -- had a $750,000 impact in reducing margin to that affect', 'In our marketplace, our year-to-year customer additions still look very, very strong given the economy and our different communities we serve, with this year being over 25,000 customers added to date compared to just shy of 24,000 last year. In our wholesale and secondary marketing -- marketplace for the third quarter, we experienced $4.5 million compared to $3.8 million last year for the same quarter. The hot summer period has driven the power generation market and caused volatility, creating this opportunity for us. We are continuing our gas hedging plans as we had into the winter and as with the national picture, our storages are in very good shape going into the winter. In the industrial markets, we have had some success in recapturing much of the [number 620] market given the high price of oil', \"Lastly, I'll update some regulatory activities we have experienced. On the regulatory front, we are pleased to report on several key activities. In South Carolina, Piedmont and the ORS have filed a settlement with the South Carolina Public Service Commission on the RSA, which reflects an annual revenue increase of $6.5 million for the year commencing 11/01/06. This amount reflects 11.2% ROE. In addition, through our annual South Carolina PGA review, we have received commission approval to recover the gas cost portion of our uncollectibles\", 'In North Carolina, as we have mentioned before, we have settled with the Attorney General in appeal of our CUT mechanism and filed this with -- filed this settlement with the North Carolina Utilities Commission. The comment period has passed without any protests and we are now awaiting on the Commission for an order. In this settlement, the Company will contribute up to $1.5 million towards conservation efforts and reduction of gas bills. We have already allocated for these dollars during the third quarter of this year', \"With that, I'll turn the call over to Dave\", \"Thank you, Frank. Good afternoon, everybody. As you know, earnings per share for the third quarter was a loss of $0.16 compared to a loss of $0.06 in 2005's third quarter. Frank already discussed with you the margin situation, which equates to approximately $0.03 per share unfavorable variance to last year's third quarter\", \"O&amp;M expense in the quarter also reflects the final charge for our restructuring program. The $3.6 million one-time charge was partially offset by a reduction in incentive plan accruals that were also associated with the restructuring. We also spent $1.4 million more in the current quarter compared to last year's to enhance our customer service capabilities, reflecting our continued preparation for the upcoming winter heating season\", \"Also in last year's third quarter, we had a gain on the sale of the land underneath our old office building in the amount of $1.7 million that obviously did not occur in this year's third quarter. Also in the third quarter, our joint venture's performance was under last year by $2.1 million. That variance essentially relates to SouthStar, which reflects significantly warmer weather compared to last year. Looking at our nine month performance, earnings per share was off $0.02 per share on a diluted basis\", 'Operating and maintenance expenses are up significantly, reflecting two notable items. The first is our one-time restructuring cost of $8 million and the second is our customer service improvements that we have made and that accounts for an additional $3.3 million of the increase. Also relating to O&amp;M expense is the fact that our leases and rents were up $1.8 million. A significant portion of this increase relates to our new corporate office building lease', \"It's not really an apples-to-apples comparison since our former building was owned and had it's expenses reflected and embedded in our depreciation expense, our property taxes paid, interest expense, and other categories of operation and maintenance expense. For the nine months, our joint venture's income increased $3.4 million, primarily on the strength of SouthStar's performance in the first six months of this year compared to last\", \"And with that, I'll turn the call back over to Margaret\", 'Dave, thank you. Janine, this concludes our prepared remarks and we would now like to open the call up for questions', 'Welcome to the Piedmont Natural Gas Company fourth quarter earnings conference. [OPERATOR INSTRUCTIONS] And as a reminder, this conference is being recorded. I would now like to turn the conference over to the Director of Investor Relations and Venture Administration, Margaret Griffith. Please go ahead', 'Thank you. Good afternoon. Thank you, everyone, for joining our fourth quarter fiscal year-end 2006 earnings conference call. This call is open to the general public and the media and is being webcast live over the Internet. If you would like to access the webcast, please visit our website at www.piedmontng.com and click on the conference call link found under the investor relations page. We issued our fourth quarter fiscal year 2006 earnings release on Friday, December 15, 2006 subject to the completion of our annual audit', 'On the call today, we have Tom Skains, Chairman, Chief Executive Officer, and President; Dave Dzuricky, Senior Vice President and Chief Financial Officer; and Frank Yoho, Senior Vice President of Commercial Operations who will present prepared remarks. There are also other members of our executive management team here to assist with questions as needed. At the end of the prepared remarks, we will open the discussion to questions. And finally, this call may include forward-looking statements within the meaning of the securities laws. Actual results may materially differ from those discussed in the forward-looking statements and you should refer to the additional information contained in our earnings press release dated December 15, 2006 as well as our most recent Forms 10-Q and 10-K filed with the Securities and Exchange Commission for a more complete discussion of the risk and uncertainties that can cause actual results to vary materially from the forward-looking statements. And with that, I would like to turn the call over to Tom', \"Thank you, Margaret. Good afternoon, everybody, and thanks for taking the time to participate in our fourth quarter earnings conference call. As I said in our press release on Friday, we are proud of the operating performance in fiscal year 2006. A year of unprecedented challenges for our company and our industry. For Piedmont's 2006 fiscal year, the Company reported earnings per diluted share of $1.28, down slightly from the $1.32 per diluted share in fiscal year 2005\", 'Wholesale natural gas commodity prices a nd market volatility were at record levels last year following the devastating impacts of hurricanes Katrina and Rita. During this period of significant market challenges, we responded with many accomplishments that position us well for the future. Marketing the value of natural gas and natural gas service, we added over 34,400 new residential, commercial, and industrial customers to our distribution system and now serve more than 1 million customers across our three-state service area. Our customer growth rate was 3.5% in 2006', 'We resolved ongoing regulatory proceedings, that in North Carolina allow for the decoupling of our utility margin from customer consumption and in South Carolina implement annual rate stabilization adjustments along with a new gas costs uncollectibles tracker effective November 1, 2006. These regulatory settlements are both fair and reasonable for our customers and our shareholders. We successfully implemented our light up customer care program in 2006. A strategic program designed to deliver best in class customer service through the deployment of people, process, and technology. We captured organizational efficiencies with the successful completion of our management restructuring initiative in 2006. This program added $7.9 million of one-time costs in 2006, but will generate annual savings of 7 to $7.5 million a year in future fiscal years. And our joint ventures activities again continue their strong performance in 2007. Our newest joint venture, Hardy Storage, is now under construction and expected to go into service in April of 2007. Our equity contribution to Hardy Storage will be approximately $26 million', \"Our industry also experienced some legislative successes late in 2006, which are noteworthy. The House and Senate both passed the Gulf of Mexico Energy Security Act of 2006, which now awaits the President's signature which I understand may come as early as this Wednesday. A total of 8.3 million additional acres in the central and eastern Gulf of Mexico will be available for oil and gas leasing that experts say may hold as much as 6 Tcf of natural gas reserves. This is certainly good news for our nation's natural gas consumers and a good first step toward balancing supply and demand for our industry\", \"The Senate and House also recently approved the Pipeline Inspection, Protection, Enforcement, and Safety Act of 2006. This legislation also awaits the President's signature and includes provisions addressing safety enhancements of the country's 2.2 million miles of natural gas pipelines. This legislation includes new funding to strengthen state excavation damage prevention programs, a provision that will directly address the third party dig-ins, the single largest cause of damage to natural gas distribution lines. Stronger penalties for excavation safety violations and financial incentives to states that adopt excavation damage prevention programs. Mandatory installation of excess flow valves on new and wholly renewed single family service lines after June 1, 2008. This has been a practice for Piedmont, by the way, since April of 2006. And a Federal One call requirement to call before you dig. All of these new provisions in the safety legislation are well-received by the natural gas industry\", 'Looking ahead to 2007, Piedmont initiated its earnings guidance for fiscal year 2007 in the range of $1.35 to $1.45 per diluted share on October the 16th. We are not reaffirming or modifying that guidance today. But I will remind you that our October 16, guidance reflected margin growth from continued strong customer addition, the resolution of regulatory proceedings in North Carolina and South Carolina and the impact of several strategic initiatives including implementation of best in class customer service capabilities, the completion of our management restructuring program, and the projected completion of our automated meter reading project in 2007. That guidance also took into account a utility capital budget of $145 million for 2007 and our anticipated equity contribution to the Hardy Storage project I mentioned earlier', \"To conclude, I'm very proud of my teammates at the Company for our many accomplishments in 2006. And with that strong foundation, we look forward to the year ahead. I'm now going to turn the call over to Frank Yoho our Senior Vice President of Commercial Operations. Frank\", \"Thank you, Tom. Moving first to volumes on a year-to-year basis. Fiscal '06 volumes were 199 Bcf versus 204 Bcf in '05. This decrease was due to weather, which was warmer and conservation effects driven by higher gas costs. Margins were actually up to $523.5 million in '06 compared to $499 million in '05. This was driven by base rate increases in North Carolina and also in South Carolina along with continued strong customer growth\", \"Moving to customer growth, we saw customer additions of over 34,500 customers in '06 versus 32,750 customers last year. This was primarily driven by strong economies in the markets we serve, continued recognition by our customers as the value of natural gas, even given higher prices, and Piedmont's continued focus and efforts to maintain a strong relationship with our builder developer communities and the customers we serve. Wholesale and secondary marketing contribution to shareholders increase from 9.8 million in '05 to 11.3 million in '06\", \"From a regulatory perspective in South Carolina, we received an order granting us a $6.5 million revenue increase from a RSA filing which will affect fiscal year '07. And in North Carolina where we have a customer utilization tracker in place, an appeal of this mechanism has been settled and everything's clean going forward on that mechanism. But from an industrial marketing perspective, we've been very successful given the higher prices of oil even with higher gas prices in capturing almost all of our alternate fuel markets and volumes are actually slightly up for '06 versus '05. And lastly, we are finishing facilities for new power generation customer, which is approximately a $25 million capital investment, which will have a late winter start-up this year. With that, I'll turn the call over to Dave\", 'Thank you, Frank. And good afternoon, everybody. Talking about the financial results other than margin for the quarter, O&amp;M expense was essentially flat with the fourth quarter of 2005. Where we had increases associated with our customer service initiatives, they were offset by lower accruals for our incentive plan payments. Normal increases in the quarter for depreciation and general taxes reflect our continuing capital expenditures associated with our customer growth. Interest expense also was higher in the quarter compared to last year due to the issuance of $200 million of long term debt this past June', 'For the year, operation maintenance expense was up approximately $12 million, due essentially to two items. The previously mentioned one-time restructuring costs and increases in expenses related to our customer service enhancements. As with the fourth quarter, depreciation and general taxes rose in step with our capital programs. Interest expense was up because of previously mentioned long-term debt financing and higher short-term debt rate', \"Moving to our ventures. SouthStar had another good year, delivering 14 million of net income compared to last year's $13.5 million. SouthStar continues to be the market share leader in the Georgia market. Pine Needle and Cardinal are both charging rates designed on a straight fixed variable basis and thus are very similar to income annuities year on year. Hardy Storage continues to have construction proceed and it is still on track to commence service on April 1, of 2007. With that, I'll turn the call back over to Margaret\", \"Dave, thank you. At this point in the call we'd like to -- that concludes our prepared remarks and we'd now like to open up the call for questions\", 'Ladies and gentlemen thank you for standing by. Welcome to the second quarter earnings conference call. [OPERATOR INSTRUCTIONS] At this time all participants are in a listen-only mode. Later we will conduct a question and answer session with instructions given at that time. If you should require assistance during the call, please press star then zero. As a reminder, this conference is being recorded. I would now like to turn the conference over to Mr. Headen Thomas, please go ahead', \"Good morning. Thank you for joining us for our second quarter earnings conference call. Our earnings release was issued on June the 7 and the 10-Q was filed this past Friday. Both available on our website at PiedmontNG.com. With me today for the conference call our Dave Dzuricky our Senior Vice President and CFO; Frank Yoho our Senior Vice President for Commercial Operations; Kevin O'Hara our Senior Vice President of Corporate Community Affairs and other members of the management team. Before the discussions begin, I would like to advise you that our comments for Piedmont's business outlook and contain certain forward-looking statements. These forward-looking statements are subject to a number of risks and uncertainties and actual results may differ materially. Please refer to pages 31 and 32 of our 2005 annual report to shareholders and our most recent SEC filings for information about the risk factors that could cause actual results to differ. Now I will turn the call over to our Senior Vice President and CEO, Dave Dzuricky\", \"Thank you, Headen, and good morning and welcome to our second quarter earnings conference call. As many of you are aware Tom Skains our CEO normally hosts our earnings conference call; however, Tom's on vacation this week and will not be participating today. First off, I'd like to take this opportunity to introduce two new members of our executive management team. Michael Yount joined us on April 17, is is our Senior Vice President, Utility Operations. Michael has the responsibility for our distribution and utility services, field operations, engineering, environmental, construction, operation, support, and services, codes and standards, measurements, system design, and training, pipeline safety and gas control. Michael was formally a Vice President and Consultant with the Senn- Delaney Leadership Consulting Group where he worked with our management team developing leadership skills and creating a healthy high-performance culture throughout the Company. Michael has an extensive natural gas industry background with Williams/Transco, when he received his bachelor of Mechanical Engineering degree from Georgia Institute of Technology. Jane Lewis-Raymond joining us on April 27, as Vice President, General Council and Chief Compliance Officer. Jane is responsible for our legal affairs, corporate compliance issues and is our corporate secretary. She comes to us from the American Gas Association where most recently she was Vice President of Regulatory Affairs. She advised AGA's member company Board and Government relations policy committee on rate and regulatory matters pending before the FERC and state regulatory commissions. Jane received both her BA and her law degree from the University of Maryland. Jane and Michael both report directly to Tom Skains our CEO and our members of Piedmont's Executive Management Team. In addition, to Michael and Jane, the Executive Management Team is comprised of Kevin O'Hara, Senior Vice President, Corporate and Community Affairs; Frank Yoho, Senior Vice President, Commercial Operations; June Moore, Vice President, Customer Service; Tom Skains, CEO, and myself. I've just reviewed the responsibilities to Michael and Jane and would like to briefly review new responsibilities of the other members of the executive management team. In addition, to his commercial responsibilities, Frank Yoho will also add state regulatory affairs and gas accounting to his accountabilities. I will be assuming responsibility for investor relations business development, procurement and joint venture management. Kevin O'Hara's responsibility changed the most. He'll be handling legislative and community affairs, the PNG Foundation, corporate communications, media relations, human resources, as well as building services. You may have noticed that we added two members to our board of directors, effective July 1. They are Vickie Wilson Mackelreef, who will be retiring as the managing partner of Price Waterhouse Cooper in the Carolinas. And James Burton who was the Dean of the Jennings A. Jones College of Business at Middle State Tennessee University. We are pleased to have these leaders join our board and importantly both will be added to the audit committee of the board. As to the remainder of the conference call, Frank Yoho will address our commercial operations and then I will conduct a financial review and Kevin O'Hara will cover our joint venture activities and our management restructuring plan. After that, we will open the call to your questions and now I would like to turn the call over to Frank\", \"Thank you, Dave. Getting commercial operations throughput for the second quarter was 52.6 bcf, verses throughput last year which was 59.4 bcf This was driven primarily by weather which was 7% warmer than normal and warmer than last year, along with conservation experience to the high prices this past winter. Second quarter margin was approximately $154 million verses $140.7 million last year for the second quarter. The increase was driven by the North Carolina rate case, South Carolina rate stabilization and continued customer growth on our system. Secondary marketing activities resulted in increase in earnings for shareholders or increased dollars for shareholders of $2.6 million this year verses $1.5 million for the same second quarter period last year. Volatility in the market place created opportunities where we see an increase of values created there. As with the national picture, our storages are currently in very good shape before the fall season and the winter heating season kicks in, and we also are continuing our hedging plans, putting positions in place going forward. In the Industrial Market Sector, the good news here is with the high price of oil, we have been successful in recapturing much of the number 6 ultra fuel market we see in our marketplace. With that I'll give the call back over to Dave\", 'Thank you, Frank. Kevin, would you please review the joint venture activities for the quarter?', \"Thank you, Dave. I will cover our second quarter earnings from our Cardinal pipeline, Pine Needle LNG, South Star LLC, and our Hearty storage projects. In the earnings that I'm reporting are Piedmont's share of the earnings from these joint venture. Cardinal pipeline, this is our Intrastate pipeline joint venture of which Piedmont has a 21.5 % ownership interest. In the second quarter of '06, earnings were very close to '05 with $266,000 verses $238,000 for the second quarter of last year. For Pine Needle LNG, this is our first regulated 4bcf Interstate county storage facility, in Gilbert county, North Carolina. Piedmont has a 40% ownership interest and in the second quarter of '06 our earnings were $570,000 verses $497,000 last year in the second quarter. Year to date, earnings are $1.2 million in '06 verses $1.1 million in '05. And as was required in the last Pine Needle rate case, Pine Needle filed for rate case in May of this year. That proposes an overall rate of return of 11% and an ROE of 13.6%. The procedural schedule of that rate case has not been set as of today. South Star, this is our retail marketing joint venture with AGL Resources of which Piedmont had a 30% ownership interest and our share of the earnings is 25%. In the second quarter of '06, our earnings were $11.4 million verses $8.1 million in the second quarter of '05. That positive variance is mostly due to South Star's strong winter quarter with positive retail price spreads as well as 23% colder than normal weather. Year to date, earnings are $13.9 million verses $10.7 million for fiscal year '05. On Hearty, this is our joint venture between Piedmont and Columbia gas transmission to build and operate a 12.4 bcf natural gas storage facility in Hearty county, West Virginia. We had made a lot of progress with construction. We're finalizing our financing and should have that complete by the third quarter of '06 and we are still on schedule to go into service in April of 2007. With that Dave I will turn it back to you\", \"Thank you, Kevin. Let me the cover the remainder of the financial results and then turn it back to Kevin to talking about our management restructuring plan. For the quarter the 2 biggest items, -- while the 3 biggest items were our increase in margins, which Frank covered the increase in joint ventures and then the significant increase in operation and maintenance expenses. For the quarter earnings were up a little over 10% to $ 43.7 million. Operation and Maintenance expenses were up significantly in the quarter, in fact, $ 7.4 million higher than last second quarter, $4.4 million of that increase relates to a charge taken in the second quarter as part of our management restructuring plan. As we stated in the 8-K relating to the plan, our estimate for the one-time nonrecurring charge would be $7 to 8 million. So with 4.4 taken in the second quarter, the range that remains is $2.6 million to $3.6 million, if I'm doing the arithmetic correctly. We also had significant increases in outside services in order to bolster the resources available to our customer service area. We have done that, and that contributed significantly to the increase, as well. Partially offsetting that, was a decrease in our uncollectible expense because if you will recall, in our North Carolina rate case, that became effective November 1 of this year. We were permitted to include the gas cost component of our uncollectible expense in our PGA calculations and roll it through the unrecovered account, which made a significant difference in the accruals for this year verses last year, so actually our uncollectible expenses have been reduced year on year as a result of that regulatory change. A couple of items -- other items on the finance -- financial statement side. We have completed our 1 million share stock buy-back program. That is complete. And also, as you will have seen in the press release that we issued last Wednesday for our earnings announcement, we reaffirmed the guidance in the $1.20 to $1.35 range, but also have included in that reaffirmation the one-time, non recurring restructuring cost. So we were pleased with the quarter and the board, obviously, approved the payment of our -- of our dividends for the quarter at $0.24 a share. And with that, I'll turn it over to Kevin to talk about the management restructuring plan\", 'Thank you, Dave. In April, Piedmont offered a voluntary early retirement program, and it was offered to the members of Piedmont upper management who are of retirement age. There were 23 individuals who were offered this retirement package. And there were 22 individuals who accepted the package. Piedmont plans to complete the remaining organization restructuring effort by the middle of July. And as Dave mentioned, there are one-time costs of $7 to $8 million that will be recorded in the second and third quarter. Dave?', \"Thank you, Kevin. As part of the management restructuring plan Kevin just described, three key members decided to accept early voluntary retirement packages. And these individuals are well-known to many of you. They are Ted Coble , our Vice President and Chief Risk Officer; Barry Guy our Vice President and Controller, and Headen Thomas our Director of Investor Relations and Corporate Communications. Ted joined Piedmont in 1969 and progressed through many financial positions at the Company. Along the way, he makes significant contributions to the success of Piedmont, including the financing of our North Carolina acquisition. Gary has been with the Company for 28 years and has done an outstanding job as our controller providing clarity to our financials while navigating the required complexities of accounting and financial reporting. In his 23 years with the Company, Headen has filled a number of roles, including tax manger, investor relations and corporate communications. Most of you know Headen well, and I'm sure you will agree, he has done an outstanding job in the investors relations role that he's has been in for the last number of years. And I would like to express on behalf of our board and the whole management team our sincere appreciation to Barry, Ted and Headen. And at this time, I would now like to turn the call back over to Headen\", \"Thank you, Dave. I appreciate that. I've been fortunate to work with both Ted and Barry during my career here at my Piedmont. And I agree with Dave's phrase of both of these men. It's a great company and I really enjoyed working here. Additionally I've enjoyed working with many of you people that are on the conference call today. Finally, I would like to say that my thoughts with the family of Dave , many of you know he passed away suddenly last Wednesday. I had fond memories of working with him and meeting with him and his clients [inaudible] And now at this time, I'd like to turn the call over to Julie to conduct the Q&amp;A session\", 'Ladies and gentlemen, thank you for standing by. Welcome to the Piedmont Natural Gas Company conference call. At this time all participants are in a listen-only mode. Later we will conduct a question-and-answer session, instructions will be given at that time. [OPERATOR INSTRUCTIONS] As a reminder, this conference is being recorded', \"I would now like to turn the conference over to our host, Ms. Margaret Griffith. Please go ahead, ma'am\", 'Howard, thank you. Good afternoon and thank you for joining our first quarter 2007 earnings conference call. This call is open to the general public and the media and is being webcast live over the internet. If you would like to access the webcast, please visit our website at www.piedmontng.com and click on the conference call link found under the Investor Relations page. On the call today we have Tom Skains, our Chairman, Chief Executive Officer and President; and Dave Dzuricky, our Senior Vice President and Chief Financial Officer, who will present prepared remarks. There are also other members of our executive management team here to assist with questions as needed. At the end of the prepared remarks, we will open the discussion to questions', \"Finally, this call may include forward-looking statements within the meaning of the securities laws. Actual results may materially differ from those discussed in the forward-looking statements. More information about the risks and uncertainties relating to these forward-looking statement may be found in Piedmont's latest form 10-K and form 10-Q, which are available on the SEC's website at www.sec.gov. And with -- could someone mute their line, please? Thank you. And with that, I will turn the call over to Tom\", \"Okay. Thank you, Margaret. Good afternoon, everybody, and thanks for taking the time to participate in our first quarter 2007 earnings conference call. As I'm sure you're aware, we released earnings for our first quarter 2007 at our annual shareholder's meeting held here in Charlotte last Wednesday and filed our first quarter 2007 form 10-Q on Friday. At our annual shareholder's meeting I discussed the highlights of our fiscal year 2006, the results of our first quarter of 2007, and our goals and objectives for fiscal year 2007. I'm sure many of you either were here in Charlotte or participated on the webcast and for that I thank you. For our first quarter 2007, the Company reported earnings per diluted share of $0.94, the same as we reported in the prior year quarter of 2006\", \"We also reaffirmed our earnings guidance range of $1.35 to $1.45 per diluted share for fiscal year 2007, with emphasis at the upper end of that range. Also last Wednesday, Piedmont's Board of Directors increased the Company's dividend for the 29th consecutive year by 4.2%, from $0.24 per share to $0.25 per share. Now I would like to turn the call over to Dave Dzuricky, who will give you more detail on our first quarter 2007 financial results and who will also address some of our ongoing 2007 business activities. Dave?\", \"Thank you, Tom, and good afternoon, everyone. As Tom said, we're pleased with our first quarter results and we're particularly pleased to be able to report a decrease in our operating and maintenance expenses compared to last year's first quarter. The business process improvements that we have been telling you about are showing up in our financials as planned. Margin in the first quarter was down slightly from last year, but please note the extremely warm weather as we experienced in the quarter, this first quarter, can adversely affect margin recovery through the weather normalization adjustment clauses in South Carolina and Tennessee. That combined with a reduction in margin due to our settlement with the attorney general in North Carolina relating to our conservation tariff and minor gas accounting adjustments made up the shortfall\", \"Perhaps just as important as our first quarter results is what is still to come this year. As Tom mentioned -- as Tom mentioned at the annual meeting, our Hardy Storage project is scheduled to come online next month making immediate contributions to income. Also, we began serving the North Carolina Electric Membership Cooperative in February and that arrangement also will make immediate contributions to net income. So we look forward to the rest of the year and, as mentioned by Tom, we have directed our guidance to the upper end of our range of $1.35 to $1.45. With that I'll turn it over to Margaret\", \"Dave, thank you. And now I'd like to open the call up for a Q&amp;A session\", \"Ladies and gentlemen, thank you, very much, for standing by. We do appreciate your patience today, while the conference assembled, and good afternoon. Welcome to Piedmont Natural Gas Company's second quarter earnings conference call. Now at this point, and during the management's prepared remarks, all of your phone lines are muted or in a listen-only mode, however later there will be opportunities for your questions and those instructions will be given at that time. (OPERATOR INSTRUCTIONS) As a reminder, today's call is being recorded for replay purposes and that information will be announced at the conclusion of our call. So, with that being said, let's get right to this second quarter agenda, here with our opening remarks is Piedmont Natural Gas Company's Manager of Finance and Investor Relations, Mr. John Sutphin. Please go ahead, sir\", 'Thank you, Brent. Good afternoon, and thank you for joining our second quarter 2007 earnings conference call. This call is open to the general public and is being webcast live over the internet. If you would like to access the webcast of this call, please visit our website at www.piedmontng.com and choose the Investors link. On the right hand side of that page you will find a link to the webcast. Our first quarter earnings call was hosted by Margaret Griffith who, at the time was our Director of Investor Relations and Venture Administration. Since then, Margaret has elected to take early retirement. We would like to take this opportunity to thank her for our 28 years of service to this Company and wish her all the best. On the call today presenting prepared remarks with we have Tom Skains, President, Chairman, Chief Executive Officer and Dave Dzuricky, Senior Vice President and Chief Financial Officer. Other members of our executive management team are also in attendance to assist with questions. At the conclusion of the prepared remarks, we will open the discussion to questions', \"Finally, this call may include forward-looking statements within the meaning of the securities laws. Actual results may materially differ from those discussed in the forward-looking statements. More information about the risks and uncertainties relating to these forward-looking statements may be found in Piedmont's latest Form 10K and Form 10Q which are available on the SEC's website at www.sec.gov. With that I'll turn the call over to Tom\", \"Thanks, John. Good afternoon, everybody, and thank you for participating in our second quarter 2007 earnings conference call. As I'm sure you're aware we released our second quarter 2007 earnings following our quarterly board meeting last Wednesday and we filed our second quarter 2007 Form 10Q on Friday. At the AGA financial forum in April, I presented an overview of our strategic focus and business objectives. Last week, we were pleased to announce strong second quarter and year-to-date earnings as a result of those strategies and objectives. For the second quarter of 2007, our net income was $51.1 million, a $7.4 million increase from the second quarter 2006. This translates to diluted earnings per share of $0.69 for the quarter, a 21% increase over the second quarter of 2006\", 'As we pass the mid point of our 2007 fiscal year, our net income was $121.8 million, up $6.1 million from the same time period last year. This translates to diluting -- diluted earnings per share of $1.63 an 8% increase over the same time period in 2006. This earnings growth is primarily the result of increasing utility margin coupled with decreasing O&amp;M expenditures and strong joint venture income. The continued growth of our service territory, and our successful efforts to capture that growth in the form of customer additions is the main contributing factor to increased utility margin for the quarter. Similarly, we continue to see the positive impacts of our continuous business process improvement initiatives in the form of declining O&amp;M expenses which are down 8% quarter to quarter and 5% six months to six months', \"Taking into account our year-to-date performance and our outlook for the remainder of this year, we have raised our fiscal year 2007 guidance range from $1.35 to $1.45 per diluted share to $1.40 to $1.50 per diluted share. Also last Wednesday our Board of Directors declared a dividend of $0.25 per share for the quarter and elected Dr. Frankie T. Jones to the Board of the Company effective July 1st. Dr. Jones is President and Chief Operating Officer of DNC Associates and DNC International, a management consulting, marketing research and public relations firm headquartered in High Point, North Carolina. We're pleased to have Dr. Jones join our Board of Directors. For further discussion of our second quarter and year-to-date financial results, I'd like to turn the call now over to our Senior Vice President and Chief Financial Officer, Dave Dzuricky. Dave, it's all yours\", \"Thank you, Tom, and good afternoon. As Tom stated we were pleased with the results of our second quarter ended April 30th, with a nice pick up in earnings per share compared to the prior years quarter. Margin was up during the quarter in line with our customer growth. Our regulatory mechanisms that we put in place over time have assisted in maintaining margin growth in the face of customer conservation. Our business process improvement initiatives have also born fruit with operations and maintenance expenses down significantly for the quarter and for our first six months. Notably our AMR program and reorganization efforts have kept O&amp;M down. We also successfully exceeded our customer service objectives around what we call 80/20 which is answering 80% of our calls within 20 seconds or less. Notwithstanding those successes we continue to look at ways to better calibrate our expenses with business needs. Finally, as Tom mentioned we had strong performance from our ventures and most notably there, Hardy Storage went into service on April 1, and we are pleased with our newest venture from both a customer and investor perspective. We will see full quarter contributions from Hardy in our third and fourth quarters this year. And with that brief overview, I'll turn it back to John Sutphin to open it up for questions\", 'Thanks, Dave. This concludes our prepared remarks, and we now welcome your questions', 'Ladies and gentlemen, thank you very much for standing by. Welcome to your third quarter earnings conference call. At this time, all participants are in a listen-only mode, so later we will conduct a question and answer session. I will give instructions at that time. (OPERATOR INSTRUCTIONS) As a reminder, the conference is being recorded. I would now like to turn the conference over to our host and Manager of Finance and Investor Relations, Mr. John Sutphin. Please go ahead', 'Thanks, Bob. Good morning, and thank you for joining third quarter 2007 earnings conference call. The call is open to the general public and is being webcast live over the Internet. If you would like to access the webcast of this call please visit our website at www.piedmontng.com and choose the investors link. On the right-hand side of that page you will find a link to the webcast. On the call today presenting prepared remarks we have Tom Skains, President, Chairman, and Chief Executive Officer; and Dave Dzuricky, Senior Vice President and Chief Financial Officer. Other members of our executive management team are also in attendance to assist with questions. At the conclusion of the prepared remarks, we will open the discussion to questions', \"Finally, this call may include forward-looking statements within the meaning of the Securities laws. Actual results may materially differ from those discussed in the forward-looking statements. More information about the risks and uncertainties relating to these forward-looking statements may be found in Piedmont's latest Form 10-K and Form 10-Q which are available on the SEC's website at www.SEC.gov. With that, I will turn the call over to Tom\", \"Thank you, John. Good afternoon, everyone, and thank you for participating in our third quarter 2007 earnings conference call. As I'm sure you're aware, we filed our third quarter 10-Q and released our third quarter earnings following our quarterly Board meeting last Friday. At the conclusion of the second quarter of this year, we discussed the ongoing positive impact of our business strategies and objectives. Today we're pleased to present a similar message with regard to our third quarter results. As we concluded the third quarter of 2007, our net income was $112.7 million fiscal year-to-date, up $9.3 million from the same time period last year. This translates to diluted earnings per share of $1.51, an 11% increase over the same time period in 2006\", \"Within the third quarter of 2007, our seasonal loss was $9.1 million, an improvement of $3.3 million from our seasonal loss in the third quarter of 2006. These earnings results were driven by utility margins that surpassed last year's mark by $2.2 million and joint venture income, which was $3.8 million greater than the third quarter of 2006. The continued growth of our customer base within our service territories and our ability to acquire and retain these customers remains the key driver of our margin growth. While our organic growth remained strong, we continue to focus our attention on the improvement of core business processes that will deliver long-term value to our shareholders, customers, and the communities that we serve\", 'Our continuous process improvement initiatives remain a focal point as we further enhance the efficiency and the effectiveness of our internal processes and the structure of the organization as a whole. We continue to see the ongoing positive impact of these initiatives in the form of O&amp;M expenses, which are down $5.4 million year-to-date, while we simultaneously engage our organization in initiatives that will create long-term value for our stakeholders. Some examples include the successful completion of the full year of our 80/20 customer service initiative, the completion of full AMR installation across our system earlier this year, and the consolidation of our payment and collection functions currently underway, just to name a few of examples', 'Addressing the needs of our various stakeholder groups while simultaneously improving both financial and operational efficiency remain among the primary goals of the Company moving into the fourth quarter and beyond. For further discussion of our third quarter and year-to-date financial results, I would now like to turn the call over to our Senior Vice President and Chief Financial Officer, Dave Dzuricky. Dave', 'Thank you, Tom. Yes, 2007 has been satisfying from a financial point of view. We continue to see good top line growth in our margins for the quarter and the nine months reflecting the continued expansion of our markets as Tom had previously mentioned. And innovative regulatory mechanisms we have in place that protected those margins in the face of 12% warmer than normal weather and customer conservation', \"Our operation and maintenance expense in the quarter was essentially flat with last year and down 5.4 million for the nine months. In 2006, we did have severance costs associated with our management restructuring and the financial benefits of that action are reflected in the current year. Our joint ventures also performed well, increasing nearly $4 million for the quarter and $7 million for the nine months. Of course, Party Storage just went into service April 1 of this year, so was not in last year's results. SouthStar continues to show good year-on-year earnings growth\", \"The quarter and the year have not been without their challenges, however. We recognized in the third quarter $3.6 million relating to severance payments associated with further streamlining of our business operations. We also were ordered by the North Carolina Utilities Commission to discontinue an accounting convention relating to capitalizing and amortizing demand charges as we move gas in and out of storage. This is a practice that the Company adopted in the early 1980s and will have a negative impact on earnings in the third quarter of $2.5 million net of tax. In spite of these challenges, our September 7 earnings press release reaffirmed our guidance range of $1.40 to $1.50 per diluted share. Overall, we're pleased with the third quarter and nine-month results and look forward to the remainder of the year. With that, I am going to turn it back over to John Sutphin\", 'Thank you, Dave. This concludes our prepared remarks, and we now welcome your questions', \"Ladies and gentlemen, thank you for standing by and welcome to the Piedmont Natural Gas fourth-quarter earnings conference call. (OPERATOR INSTRUCTIONS). As a reminder, today's call is being recorded\", 'At this point, I would like to turn the conference now to the Manager of Finance and Investor Relations, Mr. John Sutphin. Please go ahead, sir', 'Thank you, John. Good afternoon. Thank you for joining our fiscal year 2007 earnings conference call. This call is open to the general public and is being webcast live over the Internet. If you would like to access the webcast of this call, please visit our website at piedmontng.com and choose the Investors link. On the right-hand side of that page, you will find a link to the webcast', 'On the call today presenting prepared remarks we have Tom Skains, President, Chairman and Chief Executive Officer, and Dave Dzuricky, Senior Vice President and Chief Financial Officer. Other members of our executive management team are also in attendance to assist with questions. At the conclusion of the prepared remarks, we will open the discussion to your questions', \"Finally, this call may include forward-looking statements within the meaning of the securities laws. Actual results may materially differ from those discussed in the forward-looking statements. More information about the risks and uncertainties relating to these forward-looking statements may be found in Piedmont's latest Form 10-K, which is available on the SEC's website at sec.gov\", 'With that, I will turn the call over to Tom', 'Thank you, John. Good afternoon and happy new year, everybody. Thank you for joining us on our fiscal year 2007 earnings conference call. We know that many of you are just getting back from your holiday break, and we appreciate the time you are taking to join us today', \"As I'm sure you are aware by now, we filed our 2007 10-K and issued our year-end earnings release last Friday. 2007 was another good year for Piedmont, a year in which we made substantial progress in many areas. We continued to invest in natural gas infrastructure to serve our growing market, streamline and consolidate our business processes and operations, and enhance our customer service and satisfaction levels\", 'Our nonutility joint venture investments, led by a strong performance from SouthStar Energy, and with Hardy Storage going into service last April, also made significant positive contributions to our earnings growth in 2007', 'Our net income in 2007 was $104.4 million, a 7% increase over $97.2 million in 2006. Our diluted earnings per share was $1.40 in 2007, up 9% from $1.28 in 2006. Even with these new record levels of net income and earnings per share, our full potential was not realized in 2007, largely due to two events that impacted our fiscal fourth quarter', 'A regulatory order that required us to discontinue a longstanding accounting practice had a $0.04 per share adverse impact on margin in the fourth quarter. And weather in the quarter, particularly in October, was substantially warmer than normal and the prior year, and had a $0.02 adverse impact on margin. As you may recall, our fiscal fourth quarter is not subject to weather normalization in our Tennessee and South Carolina markets. Dave will address our margin and other income statement line items in more details in just a few minutes', 'We are now turning to 2008. In our press release last week, we also reaffirmed our fiscal year 2008 earnings guidance of $1.45 to $1.55 per share. In 2008, we are seeing signs of slower growth in our residential new construction markets and will work harder on our conversion markets as we emphasize the energy efficiency and environmental benefits of the direct use of natural gas in homes and businesses in our market area. We still forecast good customer growth in 2008, but not at the same level as 2007, and this is factored into our earnings guidance for the year', \"Also in 2008, we intend to file a general rate case in North Carolina, our largest market area, in order to maintain our margin decoupling tariff, which would otherwise expire on October 31 of this year. This tariff has operated to the benefit of both Piedmont's customers and shareholders. We expect to make our filing on April 1 to be effective on November 1, 2008, the beginning of our 2009 fiscal year\", 'Finally, I would like to comment on our joint venture strategy. We are quite pleased with our portfolio of energy-related joint ventures, including our latest Hardy Storage venture with NiSource, and the value that they add for our shareholders. We believe that these businesses complement our core natural gas utility operations, and we will continue to pursue attractive joint venture investment opportunities in 2008 and beyond', 'Although it would be premature to give you the details, we are already in the early stages of project development on our next joint venture investment and will be working hard in 2008 to turn this project into reality. So stay tuned for more on that at a later date during the year', 'And with that, I would like to turn the call over to our Senior Vice President and Chief Financial Officer, Dave Dzuricky, for a more detailed discussion of our 2007 financial results. Dave?', 'Thank you, Tom, and good afternoon, everybody, and let me also wish all of you and yours a happy new year', 'As Tom mentioned, earnings per share on a diluted basis for the year was a record $1.40, up 9% over the prior year. Also, we were required by a regulatory order to discontinue an accounting practice that adversely affected our results for the fourth quarter and for the year by $0.04 per share. The accounting practice was called demand capitalization and had been used by the Company for over two decades. It capitalized upstream pipeline demand charges during storage injection periods and brought them back to the income statement during storage withdrawal periods. Obviously, this change during -- at the end of the injection season caused us to recognize the adverse impact to income in the fourth quarter', 'Because of the change in accounting for demand charges, coupled with the effects of weather mentioned by Tom, the growth in margin you would normally expect to see from our customer growth has been masked', 'Operations and maintenance expenses were $4.9 million lower in 2007 compared to 2006, reflecting the impact of our process improvement programs, which are ongoing. You also may have noted in our 10-K the depreciation expense was $1 million lower than 2006, even though we had $133 million of capital expenditures during 2007', 'At the end of 2006, we retired a significant amount of technology-related plant, and as you know, that type of plant has a relatively short life and can have quite an impact on depreciation expense', 'On the joint venture front, two items deserve attention. First, 2007 marked the initiation of service for Hardy Storage. Injections to Hardy were made during 2007 and now are available for withdrawal during this winter heating season. Second, SouthStar improved its performance in 2007 compared to 2006, and the remaining ventures were essentially flat during the year', 'Interest expense was up nearly $5 million compared to 2006. The increase reflects the issuance of long-term debt that occurred late in 2006 and is fully reflected in our 2007 results, along with interest associated with funding our 2007 capital budget', \"And with that, I'll turn it back over to John Sutphin\", 'Thank you, Dave. This concludes our prepared remarks, and we now welcome your questions', 'Ladies and gentlemen, thank you for standing by and welcome to the Piedmont Natural Gas first quarter earnings call. At this time, all participants are in a listen-only mode. Later we will conduct a question-and-answer session. Instructions will be given at that time', '(OPERATOR INSTRUCTIONS)\\n As a reminder, this conference is being recorded', 'I would now like to turn the conference over to our host, Mr. John Sutphin. Please go ahead', 'Thank you, Joyce', 'Good afternoon. Thank you for joining our first-quarter 2008 earnings conference call. This call is open to the general public and is being webcast live over the internet. If you would like to access the webcast of this call, please use our website at www.piedmontng.com and choose the Investors link. On the right-hand side of that page you will find a link to the webcast', 'On the call today presenting prepared remarks we have Tom Skains, President, Chairman, and Chief Executive Officer; and Dave Dzuricky, Senior Vice President and Chief Financial Officer. Other members of our executive management team are also in attendance. At the conclusion of the prepared remarks, we will open the discussion to questions', \"Finally, this call may include forward-looking statements within the meaning of the securities laws. Actual results may materially differ from those discussed in the forward-looking statements. More information about the risks and uncertainties relating to these forward-looking statements may be found in Piedmont's latest Form 10-Q, which is available on the SEC's website at www.sec.gov\", 'With that, I will turn the call over to Tom', 'Thank you, John', 'Good afternoon, everybody, and thank you for joining us for our first-quarter 2008 earnings call. I had the pleasure of seeing some of you last week at our annual shareholders meeting', \"As you already know, we filed our first-quarter 10-Q and issued an earnings release yesterday morning. We're pleased with our first-quarter performance, which resulted in net income growth of 16% compared to the first quarter of 2007, and diluted earnings per share growth of 19% over that same time period. This growth was generated by strong operating performance in virtually all areas of the company, including top line margin growth, flat O&amp;M expenses, and continued strong performance by our joint ventures. Dave will provide more detail on the financials in just a moment\", \"The Board last week also continued its commitment to long-term shareholder value by increasing our dividend for the 30th consecutive year. In yesterday's earnings release, we also reaffirmed our earnings guidance for 2008 from $1.45 to $1.55 a share. While we are pleased with this quarter and remain optimistic for this year we're going to wait and see how the rest of the winter plays out before making any further refinements to that guidance range. As we stated last quarter, we are filing a general rate case in North Carolina this year, in order to update our costs and revenues and to extend our margin decoupling tariff. We plan on filing that case on April 1, to be effective November 1, and don't have any further details to provide you today\", \"Finally, last quarter I alluded to Piedmont's next project investment opportunity, and I know many of you are interested in more details on that subject. Unfortunately, we're still early in the development phase and are not in a position to comment on any specifics, other than to say that our business strategy is to evaluate cost-effective energy infrastructure investments through both utility and non-utility avenues. We hope to be able to give you more details on this project by the third quarter of the year\", 'Now let me turn the call over to our Senior Vice President and CFO, Dave Dzuricky, for a more detailed discussion of our first-quarter results. Dave?', 'Thank you, Tom', \"As Tom said, we had a very gratifying first quarter in 2008. Margin was up $18.5 million over the first quarter of 2007, reflecting growth in our customer base in the residential, commercial, and power generation markets. Gas costs, inventory, supplier refund, and lost and unaccounted for adjustments went in our favor in the first quarter of 2008 compared to last year's first quarter, where we had adjustments to gas costs that were unfavorable\", 'We also had the effect of discontinuing demand capitalization charges as required by regulatory order. What that will do is it will positively affect quarters where gas is withdrawn from storage, typically our first and second quarters, and it will negatively affect quarters where gas is being injected into storage, typically our third and fourth quarters. Across the year, it should be neutral to the extent that inputs and withdrawals from storage are equal, but it does change the shape of our quarterly earnings', 'Our operating maintenance expenses were essentially flat quarter-on-quarter, reflecting our continuing process improvement initiatives. And our ventures provided good growth in the quarter, coming primarily from Hardy storage in Southstar. As you will recall, Hardy was not in service in the first quarter of 2007, since it commenced commercial operations in April last year. Southstar continues to perform well in managing both its basic retail business and its price risk management activities', \"And with that, Tom, I'll turn it back over to you\", 'Okay, John, the floor is yours to conduct the question-and-answer session', 'Thank you, Tom. This concludes our prepared remarks, and we now welcome your questions', 'Ladies and gentlemen, thank you for standing by and welcome to the Piedmont Natural Gas second quarter earnings call. At this time, all participants are in a listen only mode and later we will conduct a question and answer session with instructions being given at that time. (OPERATOR INSTRUCTIONS) As a reminder todays conference is being recorded', 'And I would now like to turn the conference over to your host, Mr. John Sutphin. Go ahead, sir', \"Thank you. Good afternoon and thank you for joining our second quarter 2008 earnings conference call. This call is open to the general public and is being webcast live over the Internet. If you'd like to access the webcast of this call please visit our website at www.Piedmontng.Com and choose the investors link. On the right hand side of that page you'll find a link to the webcast. On the call today presenting prepared remarks we have Tom Skains, President, Chairman and Chief Executive Officer; and Dave Dzuricky, Senior Vice President, Chief Financial Officer. Other members of our Executive Management team are also in attendance. At the conclusion of the prepared remarks we'll open the discussion for your questions\", \"Finally, this call may include forward-looking statements within the meaning of the securities law. Actual results may materially differ from those discussed in the forward-looking statements. More information about the risks and uncertainties relating to these forward-looking statements may be found in Piedmont 's latest Form 10-Q which is available on the SEC's website at SEC.gov. With that I will turn the call over to Tom\", \"Thanks, John. Good afternoon everyone and thank you for joining us for our second quarter 2008 earnings call. As you already know, we filed our second quarter Q and issued an earnings release on Monday of this week. In addition we issued a press release announcing our new LNG storage project. I'll get to that project in just a minute but let me first walk through our financial performance for the quarter\", 'Our net income for the quarter was $48.6 million, down 5% compared to the second quarter of 2007 and earnings per share of $0.66 was down $0.03 or 4%; however our year-to-date net income of $130.9 million was up 7% from the same period in 2007 and earnings per share of $1.78 was up $0.15 or 9%', 'Turning specifically to the second quarter we were very pleased by the utility operations of the Company. Margin was up 1% despite a quarter that was 4% warmer than last year and 5% warmer than normal. On the O&amp;M side we saw yet another quarter where expenses were lower than a year ago and that continues to be due to our process improvement initiatives. Income from our joint ventures was down this quarter as a result of lower earnings from SouthStar compared to a very strong quarter last year earnings were down due to rising commodity prices and reduced opportunities for the management of storage and transportation assets', \"Changing subjects as you know we filed a general rate case in North Carolina on March 31. In that filing we requested a permanent extension of our margin decoupling mechanism and sought $41 million in rate relief due to our growing customer base and related capital expenditures. New rates were supposed to be effective November 1, 2008, the beginning of our 2009 fiscal year and the hearing has been scheduled for September 9. Finally, on Monday, we held a press conference and issued a press release announcing our plans to own and operate a new LNG storage facility in Robeson County, North Carolina. The facility will be able to store approximately 1.25 bcf of natural gas and is expected to be in service for the 2012 - 2013 heating season. This core utility project will help us serve the peak demands of our rapidly growing customer base in the Carolinas and while we're still very early in the process we expect our capital investment to be in the range of $300 million to $350 million. We're very excited to be working with the Robeson County officials and developers and look forward to being a positive catalyst in their community\", 'Now let me turn the call over to our Senior Vice President and CFO, Dave Dzuricky, for a more detailed discussion of our second quarter results. Dave?', 'Thank you, Tom, and good afternoon, everyone. As you know, earnings per share for the quarter were $0.66 compared to $0.69 last year. SouthStar was nearly $6 million lower in pre-tax earnings in the current quarter compared to last years second quarter. There were a number of factors affecting their performance, most notably rising commodity prices and reduced opportunities from the management of storage and transportation assets and price slides. SouthStar also accrued their liability relating to their consent order with the Georgia Commission', 'In April of 2007, taking you back to last year, we had much cooler weather than this year and that adversely affected margin, and we continue to see conservation in our South Carolina and Tennessee markets while the effects of conservation are protected in the North Carolina market', \"We continue to see positive benefits from our process improvement work, as seen in the quarter on quarter decline of $1.6 million in O&amp;M expense. Interest expense also declined slightly due to lower short-term interest rates and good cash flow from our operations. All other expense categories followed their normal trends. On the capital side, while we have had a slowdown in capital spending relating to customer growth, we continue to move forward with a variety of system strengthening programs to be able to serve our future customer base. Most notably we're expanding our deliverability in the Eastern part of North Carolina where growth continues. That's all I have at this point and we'll turn the call back now to John Sutphin\", 'Thank you, Dave. This concludes our prepared remarks. We now welcome your questions', 'Welcome to the Piedmont Natural Gas third quarter earnings conference. (OPERATOR INSTRUCTIONS). And as a reminder, this conference is being recorded', \"I'll now turn the conference over to John Sutphin, Manager of Finance and Investor Relations. Please go ahead, sir\", \"Thank you, Kathy. Good afternoon. Thank you for joining our third quarter 2008 earnings conference call. This call is open to the general public and is being webcast live over the Internet. If you would like to access the webcast of this call, please visit our website at piedmontng.com and choose the investor's link. On the right-hand side of the page you will find a link to the webcast\", \"On the call today presenting prepared remarks we have Tom Skains, President, Chairman and Chief Executive Officer, and Dave Dzuricky, Senior Vice President and Chief Financial Officer. Other members of our executive management team are also in attendance. At the conclusion of the prepared remarks, we will open the discussion to questions. Finally, this call may include forward-looking statements within the meaning of the securities laws. Actual results may materially differ from those discussed in the forward-looking statements. More information about the risks and uncertainties relating to these forward-looking statements may be found in Piedmont's latest Form 10-Q which is available on the SEC's website at sec.gov. With that, I will turn the call over to Tom\", \"Thanks, John. Before we begin today, I would ask that we first take a brief moment of silence in remembrance of this day seven years ago. Thank you. Good afternoon, everybody and thank you for joining us for our third quarter 2008 conference call. As you already know, we filed our third quarter 10-Q and issued our earnings release on Monday. I know many of you are interested in the progress of our North Carolina rate case as well as any new developments on our Robeson LNG storage project, and I'll get to those in just a moment but let me first walk through our financial performance\", \"Due to the seasonality of our business, we typically experience losses in the summer months which make up our third quarter. This quarter our net loss of $7.7 million, was $1.5 million or 16% improved from the third quarter of 2007. Losses per share were $0.10, which were $0.02 or 17% improved from the third quarter of 2007. Year-to-date, our net income of $123.2 million has increased $10.5 million or 9% compared to the same period in 2007, and our earnings per share of $1.68 is 11% improved from $1.52 last year. Dave will walk through the specifics of the income statement in just a moment, but I want to take a note of our exceptionally strong third quarter in that we had 3% growth in margin resulting from continued growth in our residential and commercial markets as well as wholesale marketing activities and increased power generation margins. At the same time, O&amp;M expenses fell 6% from last year's quarter and are down 3% year-to-date compared to the same period in 2007 as a result of our process improvement and cost reduction initiatives\", \"Regarding our North Carolina rate case, on August the 25 we, the North Carolina public staff and other interveners with the exception of the Attorney General's office, filed a settlement with the North Carolina Utilities Commission stipulating to an annual margin increase of 15.7 million along with the permanent extension of our margin decoupling mechanism. A hearing took place on Tuesday and we anticipate a decision from the North Carolina Utilities Commission in October so that new rates can be effective for the start of our fiscal 2009 year on November 1, 2008\", \"On last quarter's call we announced our intention to construct, own and operate a new LNG storage facility in Robeson County, North Carolina. I'm pleased to report that we have made substantial progress on that front, including securing purchase agreements for the land, rezoning the site for use as an LNG storage facility, and engaging Chicago Bridge and Iron as design contractor for the project. We have been enthusiastically received by local officials in the county and we continue our project development work. It is obviously still very early in the process, but we are optimistic that we can complete this project on time and within our previously stated capital expenditure range of $300 to $350 million\", \"Finally, you can see in our earnings release that we reaffirmed our guidance of $1.45 to $1.55 per share, but we're now emphasizing the upper range of that guidance in light of our strong year-to-date performance. We anticipate issuing our earnings guidance and capital budget for fiscal year 2009 which begins November 1 in late October. With that, let me turn the call over to Dave for a more detailed discussion of our third quarter financial results. Dave\", \"Thank you, Tom, and good afternoon, everybody. As you know, earnings per share was a loss of $0.10 for the quarter compared to a loss of $0.12 in last year's third quarter, as Tom had mentioned earlier. Specifically, margin for the quarter was up nearly $2 million due to continued growth in our markets. And while we have seen our growth slow somewhat, we're still having year-on-year improvement in our top line. Income from our equity investments declined by $1.6 million compared to last year, primarily due to higher operating costs of Hardy Storage. As you will recall, Hardy was in a startup mode last year and with underground storage there are typically startup expenses that end up being incurred early in the first few cycles of that storage operation\", \"We also had a slight unfavorable variance at SouthStar due to warmer weather this year compared to last year. Our O&amp;M expense in the third quarter declined by $3.1 million compared to last year. If you will recall, we had accrued severance benefits in last year's second quarter that were not incurred this year, and we continue to see the benefits of our process improvement initiatives. Our interest expense was down 8% this quarter compared to last year's quarter, primarily due to greater AFUDC accruals this year. All other expense categories tracked along their normal trends\", \"Relative to capital expenditures in the third quarter of 2008 our utility capital expenditures totaled $58.2 million or $25.3 million more than in last year's third quarter. As I mentioned during our last call, we had many infrastructure improvement projects this year compared to last, and the third quarter is a peak construction period for these types of investments and that's why we've experienced the uptick. So far the investments we have made in the Robeson project have been minimal. With that, I will turn the call over to John\", 'Thank you, Dave. This concludes are prepared remarks and we now welcome your questions', \"Ladies and gentlemen, thank you for standing by. Welcome to the Piedmont Natural Gas year-end 2008 earnings conference call. At this time, all participants are in a listen-only mode. Later we will conduct a question session. (Operator Instructions). As a reminder, today's conference is being recorded\", 'I would now like to turn the conference over to John Sutphin. Please go ahead', 'Thank you Gloria. Good afternoon everyone. Thank you for joining our 2008 year-end earnings conference call. This call is open to the general public, and is being webcast live over the internet. If you would like to access the webcast of this call, please visit our website at PiedmontNG.com, and choose the Investors link. On the right hand side of that page, you will find a link to the webcast', 'On the call today presenting prepared remarks we have Tom Skains, President, Chairman, and Chief Executive Officer, and Dave Dzuricky, Senior Vice President and Chief Financial Officer. Other members of our executive management team are also in attendance. At the conclusion of the prepared remarks, we will open the discussion to questions', \"Finally this call may include forward-looking statements within the meaning of the Securities Laws. Actual results may differ materially from those discussed in the forward-looking statements. For more information about the risks and uncertainties relating to these forward-looking statements, may be found in Piedmont's latest Form 10-K, which is available on the SEC's website at SEC.gov\", 'With that I will turn the call over to Tom', 'Thanks John. Good afternoon everybody, and thank you for joining us for our year-end 2008 conference call. We know many of you are just getting back from your holiday break, and we appreciate your time with us today. As you already know, we filed our 10-K, and issued our year-end earnings release last Monday', 'I am going to walk through some of our highlights for 2008, talk about the year ahead in 2009, and then I will pass the call over to Dave for a more detailed discussion of our financial results. 2008 was another excellent year for Piedmont, with record net income of $110 million, compared to $104.3 million in 2007. That translates to EPS growth of more than 6%, as we grew diluted earnings per share from $1.40 in 2007, to a record level of $1.49 in 2008. In addition to EPS growth, we increased the quarterly dividend in 2008 for the 30th straight year, and provided shareholders with a 34% total return for the fiscal year, in a difficult and uncertain economic climate', 'During our last conference call we guided you to the upper end of our original $1.45 to $1.55 earnings guidance range for 2008. We fell a little short of that projection, largely because of the decline in the wholesale natural gas prices, and the increase in our stock price after the date of our guidance. The subsequent decline in natural gas commodity prices, led to a greater gas storage valuation write-down than we expected at SouthStar, and the subsequent stock price appreciation led to greater stock-based incentive plan accrual than we expected. Dave will give more details on those two items in just a moment', 'Overall, 2008 was still an outstanding year, characterized by solid margin growth and lower O&amp;M expenses. Margin grew 5% in 2008. We added 20,500 new customers to our distribution systems in 2008, a gross customer addition growth rate of 2%, and we remain one of the fastest growing natural gas utilities in the nation', \"For the year, we added 16,280 residential new construction customers, 2,360 new commercial customers, and 1,860 new residential conversion customers. Our conversion market was actually up 17% from 2007, due to the hard work and persistence of our sales and marketing team. O&amp;M expenses were down 2% from 2007 as a result of our continued focus on cost control and business process improvements, primarily due to lower pension expenses from the Company's restructuring of it's defined pension program\", 'In 2009 we continue to look for ways to more efficiently operate our systems, and keep expenses down without sacrificing quality customer service, safety, or reliability. As to our joint venture performances, we benefited from the first full year of service at Hardy Storage, and from ongoing business operations at Cardinal Pipeline and Pine Needle LNG. SouthStar turned in lower performance in 2008 than 2007 for a variety of reasons that Dave will discuss in a moment, including the fourth quarter lower of cost or markets storage inventory write-down I mentioned just a few minutes earlier', 'Let me now turn to some general comments about our fiscal year ahead in 2009. While we experienced 2% growth in gross customer additions in 2008, our fourth quarter 2008 growth figure came in slightly lower, at an annualized rate of about 1.9%. This tapered growth and the state of our national and regional economy, suggest the possibility that our customer growth in 2009, will be lower than previously forecasted. We will be closely monitoring our rate of customer growth over the 2008/2009 winter period, and will be prepared to give you a further update at our first quarter 2009 conference call in March', \"Of course slower growth in new customer additions would reduce our capital requirements and our depreciation expense. In that regard one of our power generation customers has delayed the development of one of it's new gas-fired power generation projects in North Carolina. Their revised development schedule will reduce our capital requirements in 2009 for related pipeline infrastructure by about $20 million\", 'In addition as you know, wholesale commodity prices and short-term interest rates have both declined since we first provided our 2009 guidance in early November. All of that being said, we are still comfortable with and have reaffirmed our previously issued 2009 guidance range of $1.55 to $1.65 per share, even in light of this these fluctuations, and economic and market conditions', 'In short, our projection for 2009 earnings per share remains unchanged, even though the factors and related assumptions to achieving that level of performance are fluctuating, relative to our initial expectations. And finally, I would like to provide you with an update on the status of our Robeson LNG project, the project remains slightly ahead of schedule and on budget. After successfully rezoning the project site, we closed on the purchase of the land in November, and we continue to enjoy a positive relationship with the county and the local community', 'We are in the project design and engineering phase, and continue to work with our consultants and the contractor on the project scope and costs. Although we are still working toward q 2012 in-service date, as we monitor our system design performance, and our customer growth rate this winter, we will again review our project timeline and development schedule, and we anticipate making an assessment towards the end of our first quarter of 2009', 'With that, let me turn the call over to our Senior Vice President and Chief Financial Officer, Dave Dzuricky. Dave', 'Thank you Tom. Good afternoon, everyone. I hope all of you had a great holiday season. First, I would like to point out those items that led us to earn slightly lower than the upper end of the guidance range we pointed to you last quarter. Then as Tom mentioned, I will walk through the income statement, and finally, give an update on the general state of our liquidity', 'First item Tom touched upon was the $4.5 million lower of cost to market accounting adjustment recognized by SouthStar. Essentially when this adjustment was made, storage is revalued at the end of the fiscal period price, and if that repricing yields a lower inventory than is on the books, a write-down is required. In effect, we are recognizing a noncash charge to earnings in advance of our normal storage withdrawal schedule', 'The total earnings per share reduction associated with the lower of cost or market accounting adjustment was $0.04, but we have anticipated taking a $0.02 write-down last quarter when we updated guidance. The additional $0.02 came as a result of gas prices falling below our original forecasts', 'The second unexpected item was higher accruals for our stock-based incentive plans during the year. From the time before we updated guidance to the end of the quarter, Piedmont stock rose almost $5 per share, or an 18% increase. As a result, our incentive accruals needed to be about $2.3 million higher than expected, which translates into another $0.02 in earnings per share. Taking those two together the $1.49 could have been $1.53, which was at the higher end of our range', 'Now let me turn to the income statement. Margin in 2008 grew $28.8 million, or 5.5%, to $553 million, this was due to 2% customer growth for the year, as well as some positive regulatory account adjustments related to gas costs. The same time, O&amp;M expense decreased $3.7 million, or 1.7% in 2008, due primarily to reductions in pension expanse accruals from our restructuring of the pension program', 'This was offset somewhat by higher incentive accruals I just mentioned, as well as an increase in our contract labor. As expected, depreciation expense increased $4.5 million during the year, or year-over-year due to continued capital expenditures for our utility operations. Our joint venture income decreased $9.4 million in 2008 to $27.7 million. This was almost exclusively due to the lower income from SouthStar', \"In addition to the $4.5 million write-down from lower of cost or market accounting adjustments, SouthStar's income was down due to lower contributions from the management of storage and transportation assets, a slight loss on weather derivatives, and a Georgia Public Service Commission consent agreement. However, remember this compares to an extremely strong performance by SouthStar in 2007. The weaker performance during 2008 was partially offset by higher income from Hardy Storage, since it was in it's first full year of operations\", 'Finally, utility interest expense increased $2 million in 2008. So it was primarily due to higher regulatory interest expense, resulting from annual year-end true-ups we recognized in the fourth quarter. Otherwise interest expense was lower than in 2007. With regard to our liquidly, I am pleased to report that Piedmont remains in a stable position, despite volatile commodity prices, and tight credit markets', 'Like the rest of the industry, we experienced a steep run-up in commodity prices in the summer, and then saw prices decline during our fourth quarter. This combination of events ultimately led to a need for additional short term debt capacity on a seasonal basis. Interestingly we had already started work on this well in advance of the credit crisis, thinking at the time that sustained high commodity prices may stretch our short term debt capacity', 'Even at the height of the crisis, credit markets remained open to Piedmont, due to our ability to maintain investment grade ratings, and strong long-term relationships with our banking partners. Suffice it to say that we are very comfortable with our liquidity position at this point in time', 'With that, I will turn it over to John Sutphin', 'Thank you Dave. This concludes our prepared remarks, and we now welcome your questions', \"Welcome to the Piedmont Natural Gas first quarter 2009 earnings conference call. At that time, all participants are in a listen-only mode. Later, we will conduct a question and answer session, instructions will be given at that time. (Operator Instructions). As a reminder, today's call is being recorded. Your hosting speaker is John Sutphin. Go ahead, sir\", \"Thank you, Kevin. Good afternoon, everyone, and thank you for joining our 2009 earnings conference call. This call is open to the general public and is being webcast live over the internet. If you would like to access to the webcast of this call, please visit our website at Piedmontng.com and choose the investors' link. On the right hand side of that page, you will find a link to the web cast. On the call today, presenting prepared remarks, we have Tom Skains, President, Chairman and Chief Executive Officer, and Dave Dzuricky, Senior Vice President and Chief Financial Officer. Other members of our Executive Management Team are also in attendance. At the conclusion of the prepared remarks, we will open the discussion for your questions\", \"Finally, this call may include forward-looking statements within the meaning of the securities laws. Actual results may materially differ from those discussed in the forward-looking statements. More information about the risks and uncertainties relating to these forward-looking statements may be found in Piedmont 's latest form 10-Q, which is available on the SEC's website, at SEC.gov. With that, I will turn the call over to Tom\", \"Thanks, John, and good afternoon, everybody, and thank you for joining us for our first quarter 2009 conference call. I enjoyed seeing some of you at our annual shareholders' meeting last week in Charlotte. As you know, we filed our first quarter 10-Q and issued our earnings release Monday. I'm going to give a brief overview of our first quarter results and then provide an update on our customer growth, our Robeson LNG project and our revised 2009 earnings guidance. Then I will hand the call over to Dave for a more detailed discussion of our financial performance\", 'Net income for the first quarter of 2009 was $80.9 million, or $1.10 per diluted share. This was 2% lower than the first quarter of 2008 net income of $82.3 million or $1.12 per share. Margin was $6.3 million lower this quarter, but recall that in 2008 we had $5.8 million in adjustments to regulatory gas cost accounts. With those amounts removed, we were essentially flat year to year. While we saw an increase in in margin from our growing residential customer base in 2009, this was offset by a decrease in margin from our commercial and industrial customers from the deepening economic recession, especially noticeable in the month of January', \"O&amp;M for the quarter was $1.9 million lower than last year, due to expense reductions across the entire company from our process improvement and cost management initiatives and lower incentive plan accruals. As always, we will continue to look for ways to operate more efficiently and keep expenses down, without sacrificing quality customer service, safety or reliability. We believe our competency in this area is increasingly valuable during this period of economic recession. Pretax income from our joint ventures improved $1.1 million over last year's quarter, led by strong first quarter operating performance from our investment in South Star Energy\", 'In our last conference call, I mentioned that we would be closely monitoring our customer growth over the winter period. During the first quarter, we added 3900 new customers to our distribution systems, which translates to an annualized gross customer growth rate of about 1.5%. While the weak economy has impacted our regional growth, Piedmont continues to grow at levels better than the national average', 'Based upon our first quarter experience and our projections for the rest of the year, we are now forecasting growth customer addition growth of 1 to 1.5% for fiscal year 2009, with net growth in the range of 0.5% to 1%. As you know, based upon our lower customer growth projections and an uncertain economic outlook, we decided to defer construction of the Robeson LNG storage facility. We still see the need for the project over the long-term and our revised growth projections are such that we may need to resume development of the project in 2011 to prepare for construction in 2012 and service in 2015. We will continue to monitor our customer growth trends and will resume the project when needed to meet the service requirements of our customers', 'In light of the economic recession, we also revised our 2009 guidance to the range of $1.45 to $1.60 per share. I will let Dave get to the details of how we get to that range, but lower customer growth, continued energy conservation, lower industrial and power generation demand, and the Robeson project deferral all drove the decision. Given the level of uncertainty in the economy, you also noticed that we decided to widen the range of our guidance from $0.10 to $0.15. Despite these economic pressures and the uncertainty in the marketplace, Piedmont remains committed to delivering shareholder value through this down economic cycle. To that end, last week our Board voted to increase our quarterly dividend to $0.27, a 3.8% increase and the 31st consecutive year we raised the dividend', 'With that, let me turn the call over to our Senior Vice President and Chief Financial Officer, Dave Dzuricky. Dave?', 'Thank you, Tom. Good afternoon everyone', \"As Tom mentioned, earnings per share were $1.10 for the quarter compared to $1.12 in last year's quarter. Margin for the quarter decreased $6.3 million, primarily due to the fact that we had $5.8 million GAAP cost accounting adjustments in the first quarter of 2008. We had no such adjustments in the current quarter. We also experienced decline in margin of $4.9 million in our commercial and industrial markets due to the downturn in the economy. We did see about $3.5 million of increase year on year in residential margin due to growth of our customer base. Our operation and maintenance expenses in the quarter declined by $1.9 million compared to last year. Contributing to the underrun, we're lowering incentive accruals under our various plans and the lower employee head count\", \"Income from our equity investments increased $1.1 million compared to last year's first quarter. SouthStar's earnings were up $1.6 million due to improved retail margins and lower operating costs. SouthStar also had a lower of cost market write down in the quarter that adversely affected earnings by approximately $1 million. Hardy storage had an unfavorable variance to last year of $0.5 million due primarily to higher operating expenses and property taxes. Our interest expense for the quarter was down nearly 15% compared the last year. The bulk of the decline was due to the fact we were borrowing under our short term credit facility at a rate approximately 350 basis points lower than last year\", \"We did have larger balances outstanding under our facility, which partially offset the decline in interest rates. All other expense categories tracked along their normal trends. Relative to capital expenditures in the first quarter of 2009, our utility CapEx totaled $29.9 million, or $4.7 million less than in last year's first quarter. The decline in capital expenditures reflect a lower level of system infrastructure investments in the quarter and lower growth. As you will recall, we reported last year that we had a significant system strengthening program under way and it is continuing this year, but at a slightly reduced level\", 'With that, I will turn it back to John Sutphin', 'Thank you, Dave. This concludes our prepared remarks and we now welcome your questions', \"Ladies and gentlemen, thank you for standing by, and welcome to the Piedmont Natural Gas second quarter 2009 earnings conference call call. As you may know. ll participants are in a listen-only mode. Later we will conduct a question-and-answer session. We'll give you instructions at that time. (Operator Instructions)\\n As a reminder, the conference is being recorded and we will turn the call over to our host, Mr. John Sutphin. Go ahead, sir\", \"Thank you, Bob. Good afternoon, everyone, and thank you for joining our second quarter 2009 earnings conference call. This call is open to the general public and is being webcast live over the internet. If you would like to access the webcast of this call, please visit our website at Piedmontng.com and choose the investors link. On the right hand side of that page, you will find a link to the webcast. On the call today presenting prepared remarks we have: Tom Skains, President, Chairman and Chief Executive Officer, and Dave Dzuricky, Senior Vice President and Chief Financial Officer, other members of our executive management team are also in attendance. At the conclusion of the prepared remarks we will open the discussion to your questions. Finally, this call may include forward-looking statements within the meaning of the securities laws. Actual results may materially differ from those discussed in the forward looking statements. More information about the risks and uncertainties relating to these forward looking statements may be found in Piedmont's latest Form 10Q which is available on the SEC's website at SEC.gov. With that I will turn it over to Tom\", 'Thank, John. And good afternoon, everybody, and thank you for joining us for our second quarter 2009 conference call. It was great to see many of you last month at the AGA financial forum. As you know we filed our second quarter 10Q and issued our earnings guidance on Friday. I will give a brief overview of our second quarter results and then provide an update on our customer growth outlook and our fiscal year 2009 guidance, then I will hand the call over to Dave for a more detailed discussion of our financial performance', \"First let me say that despite a sluggish economy we had an extremely strong second quarter characterized by margin growth and flat expenses. Net income for the quarter was $53.5 million or $0.73 per diluted share, this was 10% higher than second quarter of 2008, and net income of $48.6 million or $0.66 per share. Margin was $8.7 million higher this quarter, even with lower energy consumption from our industrial customers compared to last year. This was more than offset by period to period changes and adjustments to gas costs accounts, increased margin from our 2008 rate case in North Carolina and growth in our company's residential and commercial customer base. O&amp;M was flat compared to the second quarter of 2008. As always we continue to look for ways to operate more efficiently and keep expenses down without sacrificing quality customer service, safety or reliability. Pretax income from our joint ventures was also basically flat this quarter, SouthStar's operating results were improved from last year, but this was offset lower of costs or market storage valuation adjustment due to wholesale commodity gas prices that declined again this quarter\", 'I mentioned in the previous call that we would be providing updates of our customer growth trends based on our experience this winter. Year-to-date we have added 6,250 customers which translate into a gross customer addition growth rate of about 1.2%. We are still forecasting gross customer additions of 1% to 1.5% for fiscal year 2009 with a net growth in the range of .5% to 1%. As mentioned in our earnings release, we are reaffirming our fiscal year 2009 guidance range of $1.45 to $1.60 per share. We are pleased with our year-to-date work in growing margin and controlling expenses while strategically spending our capital to take advantage of the customer growth that we are able to cultivate in this weakened economy. We are still very optimistic about our long term prospects for regional customer growth as the economy recovers. With that let me turn the call over to our Senior Vice President and Chief Financial Officer, Dave Dzuricky', \"Thank you, Tom, and let me also say good afternoon to everybody. As you know earnings per share were $0.73 for the quarter compared to $0.66 in last year's second quarter. Our year to date earnings per share are $1.83 compared to $1.78 in the last half of fiscal 2008. Margin for the quarter increased $8.7 million, primarily due to the effect of our North Carolina rate case that went into effect in November, growth in our core residential and commercial markets and the fact that we had negative gas cost accounting adjustments in the second quarter of 2008 in the amount of $3.3 million. We continue to be adversely effected by the economy as it relates to our industrial markets. Our O&amp;M expense in the quarter was essentially flat compared to last year and we recognized that operation and maintenance expenses are a powerful lever to use in times like these\", \"As Tom notes we will not allow customer service to decline and safety is always our top priority. Income from our equity investments in the quarter were also flat compared to last year, and SouthStar's earnings were adversely affected by a lower cost of market write down this quarter, but still had earnings level with last year's second quarter. Our interest expense was down $1.6 million this quarter compared to last year. The bulk of the decline was due to the fact we were borrowing under our short-term credit facility at a rate approximately 250 basis points lower than last year. We did have larger balances outstanding, however, under that credit facility and that partially offset the decline in interest rates. All other expense categories tracked along their normal trends. Relative to capital expenditures in the second quarter of 2009 our utility capital expenditures totalled $22.5 million, significantly less than in last year's second quarter. The decline in CapEx reflects a lower level of system infrastructure investments in the quarter and a slow down in our growth. If you'll recall in 2008 we had a significant systems strengthening program underway that is not occuring this year. And with that, Tom, I'll turn it back over to John Sutphin\", 'Thank you, Dave. This concludes our prepared remarks and we now welcome your questions', 'Good morning and thank you for joining our third quarter 2009 earnings conference call', 'This call is open to the general public and is being webcast live over the Internet. If you would like to access the webcast of this call, please visit www.piedmontng.com. and choose the \"Investors\" link. On the right hand side of that page you will find a link to the webcast', 'On the call today presenting prepared remarks, we have Tom Skains, President Chairman and Chief Executive Officer, and Dave Dzuricky, Senior Vice President and Chief Financial Officer. Other members of our executive management team are also in attendance. At the conclusion of the prepared remarks, we will open the discussion to questions', \"Finally this call may include forward-looking statements within the meaning of the Securities laws; actual results may materially different from those discussed in forward-looking statements. More information about the risks and uncertainties relating to these forward-looking statements may be found in Piedmont's latest Form 10Q, which is available at the SEC website at www.sec.gov\", 'With that I will turn the call over to Tom', 'Thanks, John and good morning to everyone in the States and good afternoon to those listening abroad. Thanks for joining us for our third quarter 2009 conference call', \"As you know, we filed our third quarter 10Q and issued our earnings release last Friday. I'm going to give a brief overview of our third quarter results and provide and update on several Company matters, including the SouthStar restructuring, our residential energy efficiency and conservation program and rate de-coupling filing in Tennessee, our customer growth projections and our revised fiscal year 2009 earnings guidance. Then I'll hand the call over to Dave for a more detailed discussion of our financial performance\", 'Due to the seasonal nature of our business, we typically experience losses in the summer months, which make up our third quarter. We had a good third quarter characterized by margin growth and flat expenses. The net loss for the quarter was $7.3 million, which was 5% improved from the third quarter of 2008. For the nine months year-to-date our net income was $127 million. This was 3% better than the same period in 2008. Margin was $3 million higher due mostly to the 2008 North Carolina rate case', \"In addition, we've seen improvement in our industrial customer margins compared to the first part of this year. Industrial margins account for about 7.5% of our annual utility margins. O&amp;M this quarter was essentially flat, compared to the third quarter 2008. We continued to focus on ways to operate more efficiently and manage our expenses without sacrificing quality customer service, safety, or reliability\", \"As you already know, on July the 31st, we issued a joint announcement with AGL Resources about our agreement to restructure our ownership interest in SouthStar Energy Services. Under the terms of the agreement, we will sell half of our interest in SouthStar to AGLR for $57.5 million on January 1, 2010 and retain a 15% ownership in earnings interest in the venture going forward. AGLR will no longer have an option to purchase our remaining [undership] interest in SouthStar. The agreement has been submitted to the Georgia Public Service Commission for approval. With this new agreement we will have a mix of regulated and unregulated earnings that will further demonstrate our pure play LDC business model. We value our relationship with AGLR and we feel this agreement better aligns the interest of the partners in SouthStar's business and investment strategies\", 'On July 16th, we filed in Tennessee to de-couple our residential rates and to introduce new energy efficiency and conservation programs to our residential customers there. On August 24th, the TRA suspended our tariff filing and announced its intention to set the matter for hearing. Consistent with recent energy policy pronouncements by the federal government and the State of Tennessee, we feel that a margin de-coupling tariff in Tennessee would better align the interest of our customers and Piedmont shareholders', \"On the subject of customer growth, our sales and marketing team continues to generate positive results in difficult economic conditions. Year-to-date, we've added 9,024 customers, which translates into an annualized growth customer addition growth rate of about 1.2%. We are sell forecasting growth customer additions of 1% to 1.5% for fiscal year 2009, with net growth of about .05%\", \"Finally, as mentioned in our earnings release, we are narrowing our fiscal year 2009 earnings guidance to a range of $1.50 to $1.60 per share, with emphasis on the upper end of that range. You'll remember that we revised and widened our 2009 guidance range after the first quarter to $1.45 to $1.60 per share because of the uncertainty in the economy at the beginning of the year. While uncertainty still exists, we demonstrated a year to date track record of margin growth, O&amp;M expense control and improved capital spending. We believe we are poised to set another record year of earnings per share for our customers in 2009\", 'With that let me turn the call over to our Senior Vice President and Chief Financial Officer, Dave Dzuricky', 'Thank you Tom and good morning everyone here in the states and good afternoon to our friends in Europe', \"Earnings per share for the quarter were a loss of $0.10 compared to an identical $0.10 loss in last year's third quarter. Our year-to-date earnings per share are $1.73 compared to $1.67 in the first nine months of fiscal 2008. Margin for the quarter increased $3.8 million, primarily due to the impact of our North Carolina rate case that went into effect this past November, offset in part by lower secondary market margins\", 'We continue to be impacted by the economy as it relates to our industrial markets, although to a much lesser degree than we experienced earlier in the year. Our operating and maintenance expense in the quarter was essentially flat compared to last year. We did see an uptick of $1.1 million in our bad debt expense in the quarter, but it was offset by other expense categories', \"Our third quarter typically is the quarter in which we have the greatest volatility in our bad debt expense. Income from equity investments in the quarter were essentially flat from last year's third quarter performance. Our interest expense was down $1.8 million this quarter compared to last year. We benefited, as did others, from lower short-term interest rates and also had a favorable variance in the net interest expense due from our customers. All other expense categories tracked along their normal trends\", \"Relative to capital expenditures in the second quarter of 2009, our utility capital expenditures totaled $31.2 million, significantly less than last year's second quarter of $58.2 million. This decline in capital expenditures reflects the lower level of system infrastructure investments in the quarter, consistent with the slowdown in our growth. In 2008 we also had a significant system strengthening program under way that is not occurring this year. We will be issuing earnings guidance for fiscal 2010 in the first week in November. At that time, we also will be addressing our capital expenditures for the coming year as well as how the funds from the sale of a portion of our investment in SouthStar will be utilized\", \"And with that I'll turn the call back over to John Sutphin\", 'Thank you Dave. This concludes our prepared remarks and we now welcome your questions', 'Ladies and gentlemen, thank you for standing by. Welcome to the Piedmont Natural Gas year-end 2009 earnings call. At this time, all participants are in a listen-only mode. Later, we will conduct a question-and-answer session. Instructions will be given at that time. (Operator Instructions). As a reminder, this conference is being recorded. I would now like to turn the conference over to your host, Nick Giaimo. Please go ahead', 'Thank you, Linda. Happy new year, everyone, and thank you for joining our year-end 2009 earnings conference call. This call is open to the general public and is being webcast live over the Internet. If you would like to access the webcast of this call, please visit our website at piedmontng.com and choose the Investors link. On the right-hand side of that page, you will find a link to the webcast', 'On the call today presenting prepared remarks, we have Tom Skains, President, Chairman and Chief Executive Officer, and Dave Dzuricky, Senior Vice President and Chief Financial Officer. Other officers of the Company are also in attendance. At the conclusion of the prepared remarks, we will open the call to your questions', \"And finally, as a reminder, this call may include forward-looking statements and our actual results may materially differ from those statements. More information about the risks and uncertainties relating to these forward-looking statements may be found in Piedmont's latest Form 10-K. With that, I will turn the call over to Tom\", 'Thank you, Nick. Good morning and happy new year, everybody. Thank you for joining us for our year-end 2009 earnings conference call. We know many of you are just getting back from your holiday break and we appreciate your time with us today', 'As you know, we filed our 2009 10-K and issued our year-end earnings release on December 23. To begin the new year, we have included a slide presentation in conjunction with our call today, which we hope will provide you with additional clarity and detail around our results', \"This morning, I'm going to talk about our 2009 accomplishments and then provide you with a general update on the Company. Then I will turn the call over today for a more detailed discussion of our 2009 financial results and our 2010 guidance\", \"Since Nick has already covered slide 1, let's turn right to slide 2. I am very proud of our team's accomplishments in 2009. During a year of ongoing economic challenges, we were able to once again achieve record net income and earnings per share\", 'While the housing market remains weak during this economic recession, we added more than 12,600 customers and improved our residential conversion efforts. We also worked with AGL Resources to restructure our SouthStar ownership on mutually beneficial terms', \"Soon after that, we announced a pipeline infrastructure expansion to serve Progress Energy's recently announced Wayne County project. And finally, we demonstrated our financial strength again by raising our dividend in 2009 for the 31st consecutive year\", 'Allow me to speak to each of these accomplishments in a bit more detail. On slide 3, you can see that our 2009 net income grew 12% to $123 million. This translates to diluted earnings per share of $1.67, which was above the upper end of our guidance range', 'Several factors led to our record results in 2009, including the impact of our 2008 North Carolina rate case, increased contributions from our SouthStar venture, lower O&amp;M expense for the third year in a row and lower interest expense. I will let Dave speak to these details in just a moment, but as you can see, 2009 was an excellent year for our Company', \"On the next slide, we have highlighted our gross customer additions for the year. As we have discussed with you earlier in the year, the economic recession has slowed down our new construction growth levels. However, we've worked very hard to mitigate this slowdown by focusing even more on residential conversions\", 'In 2009, we converted over 3000 new customers, which was 62% higher than 2008. Overall, we have added over 12,600 new customers to our system in 2009, which is a gross customer addition growth rate of 1.3%. We expect that customer growth rate again at that level again in 2010', 'Moving to slide 5, as I have discussed in our last call, we reached an agreement with AGL Resources in July to restructure our ownership interest in SouthStar Energy Services. As expected, effective January 1, we sold half of our 30% ownership share to AGL for $57.5 million', \"The new agreement eliminates AGLR's option to buy out our remaining 15% ownership and earnings interest in SouthStar. We continue to have an excellent working relationship with AGLR and feel that this new ownership structure better aligns our interest in SouthStar while enhancing Piedmont's pure play LDC business model\", \"The timing of the SouthStar deal dovetails nicely with our October announcement of an agreement to provide natural gas service to Progress Energy's Wayne County, North Carolina gas-fired power generation project. Our total capital expenditures are estimated at $85 million over 2011 and 2012 to add about 38 miles of pipeline and associated compression facilities to our system. This project is supported by a long-term service agreement with Progress and we expect an in-service date in July of 2012\", 'On slide 6, you will see that our consistent financial performance allows us to reward our shareholders with a growing dividend. In 2009, we raised our dividend for the 31st consecutive year. We are committed to long-term shareholder value and fully understand the importance of a growing dividend to our shareholders', 'Finally, I would like to express my appreciation to all of our employees who are dedicated to performance excellence, high quality customer service and safe and reliable utility operations. It is their effort that led us to record performance levels in 2009', 'And with that, I would like to turn the call over to our Senior Vice President and Chief Financial Officer, Dave Dzuricky', 'Thank you, Tom and good morning, everyone. As Tom said, we had a record year in 2009. Net income of $123 million and diluted earnings per share of $1.67 were about 12% higher than 2008 results', \"Let me walk you through the major line items in our 2009 income statement and review our 2010 guidance and then I'll turn the call back over to Nick to take your questions\", 'Picking back up on slide 7, margin of $562 million was almost 2% higher than 2008. This year, we had the benefit of the 2008 North Carolina rate case, but this was offset by net gas cost adjustments for the year, as well as lower volumes delivered to industrial customers. We saw the most severe impact from lower industrial volumes in the beginning of the year with some recovery in the second half of 2009', 'On slide 8, we illustrate the magnitude of the margin stabilizing factors of our utility natural gas tariffs. For 2009, 70% of our margin was fixed to decoupled residential and commercial margin in North Carolina, facilities charges and fixed-rate contracts with large volume customers. Another 18% of margin was what we call semi-fixed. This includes the volumetric portion of margin in South Carolina and Tennessee that is normalized by a rate stabilization tariff in South Carolina and a weather normalization adjustment clause in both South Carolina and Tennessee. Only 12% of our 2009 margin was fully volumetric', 'We continue to look for ways to match our margin recovery with the fixed cost nature of our business, including a proposed residential margin decoupling tariff that is pending before the Tennessee regulatory authority', 'On the expense side, O&amp;M of $208 million decreased a little over 1% from 2008. This was mostly due to lower pension and medical expenses and lower contract labor. Our bad debt ratio, as shown on slide 10, remains extremely manageable at 31 basis points. And remember, we calculate our bad debt ratio as net gas charge-offs over gas revenue', 'So to the extent that gas revenues declined due to lower commodity costs, our ratio necessarily goes up. In fact, if you calculate the ratio using 2009 charge-offs and 2008 gas revenues as the denominator, the normalized bad debt ratio is 24 basis points', 'Income from joint ventures was over $33 million this year, 21% higher than 2008. The increase was due to contributions from SouthStar and that was a function of higher revenues from the management of storage and transportation assets, the lower cost market adjustment we experienced in 2008 and the associated benefit in 2009, as well as better margins in our Ohio market', 'On slide 13, we have shown our utility interest charges for the year at about $47 million, 21% lower than 2008. This decline was due to lower net interest expense on amounts due from customers and lower interest on short-term debt despite higher borrowing due to more favorable short-term interest rates. All other income statement categories tracked along their normal trends', 'Finally, as a reminder, in November, we announced our fiscal 2010 earnings per share guidance of $1.90 to $2 per share. We reaffirmed that guidance in our 2009 year-end earnings release. The guidance range includes a $0.42 per share gain on the sale of one-half of our interest in SouthStar, gross customer additions forecasted at 1.3%, and a $1.1 million margin increase as a result of the South Carolina RSA', 'Capital expenditures are projected at $195.4 million and include $46 million for pipelines to serve two gas-fired power generation projects in North Carolina. You will remember that last year we mentioned these projects had been delayed at the request of the customers and that delay was from 2009 to 2010. There is no capital expenditure related to the Progress Energy Wayne County project in 2010. The guidance also includes stock buybacks forecasted at 1.8 million shares and does not include any new long-term debt issuance for fiscal 2010. And with that, I will turn the call back over to Nick', 'All right, thanks, Dave. Linda, I believe we are ready to take some questions', 'Welcome to the Piedmont Natural Gas first quarter 2010 earnings conference call. At this time all participants are in a listen-only mode and later we will be conducting a question and answer session. Instructions will be given at that time. (Operator Instructions). As a reminder, this conference is being recorded', 'I would like to turn the conference over to our host, Mr. Nick Giaimo. Please go ahead', \"Thank you, Ann. Good morning, everyone, and thank you for joining the Piedmont Natural Gas first quarter 2010 earnings conference call. This call is open to the general public and is being webcast live over the Internet. If you would like to access the webcast for this call, please visit our website at www.piedmontng.com and choose the investors link; on then right-hand side of that page, you'll find a link to the webcast\", 'On the call today presenting prepared remarks, we have Tom Skains, President, Chairman, and Chief Executive Officer, and Dave Dzuricky, Senior Vice President and Chief Financial Officer. Other officers of the company are also in attendance. At the conclusion of the prepared remarks, we will open the call to your questions', \"And finally, this call may include forward-looking statements, and our actual results may differ materially from those statements. More information about the risks and uncertainties relating to these forward-looking statements may be found in Piedmont's latest form 10-K\", \"With that I'll turn the call over to Tom\", \"Thanks, Nick. Good morning, everybody, and thank you for joining us for our first quarter 2010 earning conference call. As you know, we filled our 10-Q and issued our first quarter earnings release earlier this morning. I'm going to provide you the highlights for the quarter and then turn the call over to Dave for a more detailed discussion of our financial results\", \"Nick has already been over slide one, so let's turn to slide two. We're off to a good start with the first quarter of the new year. We achieved net income of $113.7 million which translates to $1.55 in diluted earnings per share. This includes a $30.2 million after tax gain, or $0.41 per share from the SouthStar restructuring. Net of this gain, we achieved net income of $83.5 million or $1.14 per share. We continue to grow our core utility business by adding over 3,000 new customers to our system in the quarter at the growth rate of about 1.2%, which is a testament to the strength of our regional markets, even in a weakened economy\", \"I'm pleased to report that our Board voted to raise the quarterly dividend to $0.28 a 3.7% increase in the thirty-second consecutive year we've raised the dividend. We have also initiated and included the buy back of 1.8 million shares of common stock during the month of January and February. Finally, we reaffirmed or EPS guidance from the $1.90 to $2 per share including the gain from the SouthStar restructuring\", \"On slide three, you can see that our first quarter net income grew 41% when compared to the first quarter of 2009. In addition to the SouthStar gain, earnings were supported by top line margin growth, increased contributions from our joint ventures, and lower interest expense. O &amp; M expenses were up this quarter due to higher labor and employee benefit expenses. I'll let Dave speak to all of the details of our income statement in just a moment\", \"On the next slide, we've highlighted our gross customer additions for the quarter. As you can see, we continue to feel constraint in resident and new instruction markets, but nevertheless our continuing focus on the conversion market is encouraging. This quarter, we converted 748 energy consumers to clean, efficient natural gas, a 19% increase from the first quarter of 2009. We remain committed to our efforts to bring the many benefits of natural gas to more energy consumers and to help mitigate the slowdown in new construction. Everything considered, we're forecasting a gross customer addition growth rate in the range of 1% to 1.2% to for the year\", \"Before I turn the call over to Dave, let me make a brief comment on our Tennessee regulatory strategy. As most of you know, we filed a petition with the Tennessee regulatory authority last year for rate decoupling and energy efficiency programs for our residential customers. We believe this rate design or some other form of non-volumetric rate design is required by state law in order to align the financial interests of energy utilities and consumers on energy efficiency. Our intention was to expedite our compliance with the energy policy of the state and bring the benefits of energy efficiency and conservation programs to our Tennessee customers outside of a lengthy general rate case proceeding. In January, the TRA voted to deny our petition and filed that general rate cases be appropriate forum to propose a decoupled rate design. So we're still in the process of evaluating a general rate case in Tennessee and have not yet competed our work, but we will able to give you full details on our plan by the second quarter call\", 'And with that, I would like to turn the call over to our Senior Vice-President and Chief Financial Officer, David Dzuricky', \"Thank you, Tom, and good morning everyone. As Tom indicated, we had an excellent first quarter with earnings per share of $1.14, excluding the gain from the SouthStar restructuring. Let me walk you through the major line items of our first quarter income statement and then I'm turn the call back over to Nick to take your questions\", \"Picking back up on slide five, margin of $223 million was 1% higher than the first quarter of 2009. In addition, to some net gas cost adjustments, we saw an increase in residential margins due to customer growth and an increase in industrial margins due to more volumes delivered. Last year, we talked about how we felt industrial through-put bottomed out in the first quarter of 2009. This quarters improvement, although moderate, is further indication to us that we're seeing some economic recovery in our service territory\", 'On slide six on the expense side, O&amp;M expense of $52 million increased 2.6% from last year. This was due to higher incentive plan accruals and other group insurance and other employee benefit expenses. However, the was offset by $3.7 million in lower pension expense due to the finding of funding and regulatory deferral of the Tennessee portion of our $22 million pension funding during the quarter. As a result, you should expect to see this deferral reverse itself later in 2010 because the funding occurred in the third quarter last year', \"On slide seven, income from joint ventures was just under $12 million this quarter, 20% higher than in the first quarter of 2009. The increase was due to contributions from SouthStar, and that was a function of a lower cost of market adjustment we experienced back in 2009, as well as more favorable retail pricing plan that's chosen by SouthStar's customers. We have recorded the gain from the ownership restructuring of SouthStar on a separate line item. Pre-tax, this gain was $49.7 million; after tax it was $30.2 million or $0.41 per share. Now, we bought back shares late in the first quarter and into the second quarter, which should bring our diluted share countdown enough that the full year impact of the gain will be the $0.42 per share per our initial guidance\", \"On slide eight, we've shown our utility interest charges for the quarter of about $12 million, 13.8% lower than last year. This decline was due to lower interest on short-term debt from fewer borrowings at a lower rate, as well as lower interest on long term debt due to lower amounts being outstanding. All other income statement categories tracked along their normal trend\", \"And with that, I'll turn the call back over to Nick\", 'Thank you, Dave. Ann, we are now ready to open the call for questions', \"Good day, everyone and welcome to the Piedmont Natural Gas Second Quarter Earnings Conference Call. Today's conference is being recorded\", \"At this time, I'd like to turn the conference over to Mr. Robert Pritchard, Vice President, Treasurer, and Chief Risk Officer. Please go ahead, sir\", 'Thank you, Robbie', \"Good morning everyone and thank you for joining the Piedmont Natural Gas Second Quarter 2010 Earnings Conference Call. This call is open to the general public and is being webcast live over the internet. If you would like to access the webcast of this call, please visit our website at piedmontnaturalgas.com and choose the investor's link. On the right hand side of the page, you'll find a link to the webcast\", 'On the call today, presenting prepared remarks, we have Tom Skains, President, Chairman, Chief Executive Officer, Dave Dzuricky, Senior Vice President, Chief Financial Officer. Other officers of the Company are also in attendance. At the conclusion of the prepared remarks we will also open the call to your questions', \"Finally, this call may include forward-looking statements and our actual results may materially differ from those statements. More information about the risks and uncertainties related to these forward-looking statements may be found at Piedmont's latest Form 10-K\", \"With that I'll turn the call over to Tom\", \"Thank you, Rob and good morning everybody and thank you for joining us for our second quarter 2010 earnings conference call. We saw many of you at the AGA Financial Forum just a few weeks ago, and I appreciate you taking the time to join us again today. As you know, we filed our second quarter 10-Q this morning and issued our second quarter earnings release late yesterday. I'm going to provide you the highlights for the quarter and then turn the call over to Dave for a more detailed discussion of our financial results\", \"Let's start on slide two, since Rob has already covered the forward-looking statements advisory on slide one. This quarter we earned net income of $46.8 million, or $0.65 per share. We added 2,362 new customers during the quarter and 5,428 new customers for the year-to-date, for an annualized growth rate of about 1.1%. As you know, we also announced during the quarter a project to provide natural gas service to Progress Energy's proposed Sutton Power Generation Plant in eastern North Carolina. Also in our release we reaffirmed our fiscal year 2010 earnings guidance of $1.90 to $2 per share, including the gain on the sale of our half interest in SouthStar energy that we recognized in the first quarter\", \"On slide three you can see that our second quarter net income decreased about 13% compared to the second quarter of 2009. This was in large part due to the decreased contributions from SouthStar as a result of our lower 15% ownership interest. In addition, net income declined as a result of gas cost adjustments to margin, increased O&amp;M due to higher payroll and pension expenses, and higher interest expense. I'll let Dave speak to details of our income statement in just a moment\", \"On slide four we've highlighted our gross customer additions for the quarter and for the year-to-date. As you can see, the year-to-date comparison shows slower customer growth due to pressure in the residential and commercial new construction markets. However, we're encouraged that our residential new construction additions were higher this quarter than they were a year ago. We are cautiously optimistic that this is a sign of stabilization in a new housing market. In addition, our sales force continues to focus on the conversion market, and our customer additions there exceeded last year's totals for both the quarter and for the year-to-date. Everything considered, we still see forecasted gross customer addition growth of about 1% to 1.2% for 2010\", \"As we discussed at the AGA Financial Forum, another source of growth for our Company is in the power generation market. We've executed five contracts, two with Duke and three with Progress Energy, to provide natural gas service to new combined cycle power generation plants in North Carolina during the 2011 to 2013 time frame. We will be investing about $360 million in transmission pipelines and compression to provide long-term natural gas transportation service to these plants\", \"On slide five, we've updated our capital expenditure forecast for fiscal years 2010 through 2013. We now anticipate spending about $224 million in utility CapEx in fiscal year 2010, compared to our latest estimate of about $212 million. You'll also notice that the CapEx figures for 2011 through 2013 have been updated since our presentation at the AGA Financial Forum. While the total CapEx for power generation remains the same, we anticipate that more spending will occur in 2011 than was originally forecasted. Due to the size and nature of these projects, it's not uncommon to see capital spending revisions as these projects move through the project development phases to completion\", \"Finally, before I turn the call over to Dave, let me briefly update you on our regulatory strategy in Tennessee as I promised on last quarter's call. During this quarter, we examined our business in Tennessee, including our forecasted cost and revenues, and have decided not to pursue a rate case there this year. As we do each year, we will again evaluate the need for rate cases in all our jurisdictions in 2011\", \"And with that, I'd now like to turn the call over to our Senior Vice President and CFO, Dave Dzuricky\", 'Thank you, Tom, and good day to everyone', \"As Tom indicated, our second quarter net income was $46.8 million, or $0.65 per share. Let me walk you through the major line items of our second quarter income statement, and then I'll turn the call back over to Rob to take your questions. Picking back up on slide six, margin of $169 million was 1% lower than in the second quarter of 2009. The decline was due to period to period net gas cost adjustments, which offset our increased margin from industrial customers. We had positive adjustments in the second quarter of 2009 that gave some uplift to that quarter. We remain encouraged with the rebound in industrial volumes and view this as a leading indicator of economic recovery in our service territory\", 'On the expense side, operation and maintenance expense of $58 million increased 8% from last year. This was due to higher payroll and pension expense. Regarding future expenses, during the quarter we started analyzing how the recently signed healthcare legislation will affect our run rate on O&amp;M. Based on our analysis, and we did have a third party assisting us in that, we do not at this time believe legislation will have any material effect on employee expenses going forward', \"On slide eight, income from joint ventures was $13 million this quarter, 25% lower than in the second quarter of 2009. While earnings at SouthStar were basically flat, this is the first quarter we've operated with a 15% earnings and ownership interest, compared to a 30% ownership and 25% earnings interest in prior periods, so hence the decline\", \"On slide nine, we've shown our utility interest charges for the quarter at $13 million, 9% higher than last year. Interest on long-term debt was lower due to lower amounts outstanding, and interest on short-term debt was lower because of lower borrowings and a lower average rate. However, these two decreases were more than offset by lower net interest income due to lower amounts due from customers to the Company. All other income statement categories tracked along their normal trends\", \"Finally, on slide ten, we've shown a historical trend of our annual earnings per share breaking out the earnings related to our utility and non-utility businesses. Not only have we grown overall earnings per share, but we've also been able to grow our core utility earnings. Looking to the future, the utility returns we'll gain from the five new power generation projects Tom mentioned will help us continue to grow our utility business. Given the reaffirmation of our 2010 guidance of $1.90 to $2.00 per share, including the gain from the SouthStar sale, we anticipate another excellent year at Piedmont\", \"With that, Rob, I'll turn it back to you\", 'Thank you, Dave. Robert, we are now ready to open the call for questions', \"Thank you for standing by everyone. Welcome to the Piedmont Natural Gas third quarter 2010 earnings conference call. Just a quick reminder, today's conference is being recorded\", \"Now at this time, I'd like to turn the conference over to the head of Investor Relations, Mr. Nick Giaimo. Please go ahead, sir\", \"Thank you, Micah. Good morning, everyone and thank you for joining the Piedmont Natural Gas third quarter 2010 earnings conference call. This call is open to the general public and is being webcast live over the Internet. If you'd like to access the webcast for this call or view the slides of the accompanying presentation, please visit our website at piedmontng.com and choose the investors link. On the right hand side of that page, you will find the appropriate links\", 'On the call today presenting prepared remarks, we have Tom Skains, President, Chairman and Chief Executive Officer; and Dave Dzuricky, Senior Vice President and Chief Financial Officer. Other Officers of the Company are also in attendance. At the conclusion of the prepared remarks, we will open the call to your questions', \"And finally, this call may include forward-looking statements and our actual results may materially differ from those statements. More information about the risks and uncertainties relating to these forward-looking statements may be found in Piedmont's latest Form 10-K. And with that, I will turn the call over to Tom\", \"Thanks, Nick. Good morning, everybody, and thank you for joining us for our third quarter 2010 earnings conference call. As you know, we filed our third quarter 10-Q and issued our earnings release earlier this morning. I'm going to provide you with the highlights for the quarter and then turn the call over to Dave Dzuricky for a more detailed discussion of our financial results\", \"I'll begin on slide two, since Nick has already covered slide one. Due to the seasonal nature of our business, we typically experience losses in the summer months that make up our third quarter. This quarter, we recorded a net loss of $9.5 million, or $0.13 per share. During the quarter, we added 2,679 new customers and we've added 8,107 customers year-to-date, for an annualized growth rate of about 1.1%. Last week, we filed an RSA settlement agreement in South Carolina that gives us a slight increase in margin and the opportunity to earn a return on equity of 11.3%. That settlement agreement is subject to approval by the South Carolina Public Service Commission and we expect a ruling before the November 1 effective date for the rate changes\", \"Last quarter, we discussed the major power generation pipeline projects that we're constructing for Progress Energy and Duke Energy. We continue to work diligently on these projects, including the Wayne County and Sutton projects, with targeted in-service dates of July 2012 for Wayne County and June 2013 for Sutton. I'll speak in more detail on the progress of all of our power generation projects in just a moment. Finally, in this morning's release we again reaffirmed our fiscal year 2010 earnings guidance of $1.90 to $2 per share, including the $0.42 gain on the sale of half our interest in SouthStar Energy that we recognized in the first quarter\", 'On slide three, you can see that our third quarter seasonal loss of $9.5 million was $2.2 million greater than the third quarter of last year. While interest expense was lower for the quarter, this was more than offset by lower margin due to gas cost adjustments, higher expenses due to the timing of our funding of our defined benefit pension plan and lower contributions from SouthStar. Dave will speak in greater detail about our income statement in his remarks', \"The final slide I'll cover is slide four, where we highlight our gross customer additions for the quarter and for the year-to-date. Similar to last quarter, the year-to-date comparison shows continued pressure in the residential and commercial new construction markets. However, we are encouraged since our residential new construction additions were higher in the current quarter than they were a year ago. Two straight quarters of slight improvement over last year and residential new construction has left us cautiously optimistic about the stabilization of the new housing market in our service territories. In addition, our sales force continues to focus on the residential conversion market, which has resulted in the year-to-date improvement of 12% compared to last year. Everything considered, we are still forecasting a gross customer addition growth rate of 1% to 1.2% for 2010\", \"Before I turn the call over to Dave, let me give you a brief update on our power generation projects. While construction for the Wayne County and Sutton projects don't begin until 2011, we and our customers have made great progress this quarter on planning, permitting and regulatory approvals. In early June, the North Carolina Utilities Commission issued an order approving Progress Energy's need certificate for the Sutton plant. Additionally, in late July and early August, the Wayne County plant received its water quality and air permits. In June, the North Carolina Utilities Commission approved our Dan River contract with Duke Energy, paving the way for a targeted in-service date of November 2011. All of our power generation pipeline projects continue on schedule and together remain a great opportunity for utility investment growth for our Company. With that, I'll now turn the call over to our Senior Vice President and Chief Financial Officer, Dave Dzuricky\", \"Thank you, Tom and good morning, everyone. As Tom indicated, our third quarter seasonal net loss was $9.5 million, or $0.13 per share. Let me walk you through the major line items of our third quarter income statement and then I'll turn the call back over to Nick to take your questions\", 'Picking back up on slide five, margin of $78 million was $3 million lower than the third quarter of 2009. That decline was due to period-to-period net GAAP cost adjustments. On the expense side, operation and maintenance expense of $55 million increased $5 million compared to last year. This was due to higher payroll and benefits expense, primarily a result of the regulatory deferral of the Tennessee portion of our pension plan funding. This year in 2010, we funded the Tennessee portion in the first quarter compared to the third quarter in 2009. In regard to this item, the nine-month results will provide more of an apples-to-apples comparison of pension expense for the year-to-date. These higher expenses were somewhat offset by lower bad debt expense', 'On slide seven, income from joint ventures was $3 million this quarter, just over $1 million lower than in the third quarter of 2009. Lower contributions from SouthStar were a function of decreased average customer usage, a change in the customer retail pricing plan mix and fewer average customers', \"On slide eight, we've shown our interest -- our utility interest charges for the quarter at $8 million, or $3 million lower than last year. The decline in net interest expense was due to higher allowance for funds used during construction on several major projects, as well as lower interest expense on long-term debt due to lower amounts being outstanding. This was partially offset by a decrease in interest income due to lower amounts due from our customers. All other income statement categories tracked along their normal trends\", \"Finally, as Tom mentioned, this morning we reaffirmed our fiscal year 2010 guidance of $1.90 to $2 per share, including the gain on sale of SouthStar. In early November, we anticipate initiating our fiscal year 2011 guidance, including an update on our utility capital expenditures forecast. And with that, I'll turn the call back over to Nick\", \"All right. Thanks, Dave. Micah, we're now ready to open the call for questions\", \"Good day, ladies and gentlemen. Welcome to this Piedmont Natural Gas year-end 2010 earnings conference. Just a reminder that today's call is being recorded. At this time I would like to turn the call over to Mr. Nick Giaimo, head of investor relations. Please go ahead, sir\", 'Thank you, Lisa. Good morning, everyone, and thank you for joining the Piedmont Natural Gas year-end 2010 conference call. This call is open to the general public and is being webcast live over the Internet', 'If you would like to access the webcast of this all or view the slides of the accompanying presentation, please visit our website at PiedmontNG.com and choose the For Investors link. On the right-hand side of that page (technical difficulty) appropriate links', 'On the call today presenting prepared remarks we have Dave Dzuricky, Senior Vice President and Chief Financial Officer. Other officers of the Company are also in attendance to take your questions. At the conclusion of the prepared remarks, we will open the call to take your questions', \"Finally, this call may include forward-looking statements and actual results may materially differ from those statements. More information about the risks and uncertainties relating to these forward-looking statements may be found in Piedmont's latest Form 10-K. With that, I will turn the call over to Dave\", \"Thanks, Nick, and happy New Year to everybody. Good morning and thank you for joining us for our year-end 2010 earnings conference call. Before we begin, let me give you a brief update on Tom Skains, our Chairman, President and Chief Executive Officer. As you all know, Tom underwent surgery yesterday to repair a genetic abnormality in a cerebral blood vessel. I'm very pleased to report that the surgery was a success. Tom is recovering at the moment, and we expect him back in three to four weeks\", \"In the interim, I have been delegated Tom's managerial responsibilities while Malcolm Everett, Piedmont's Independent Lead Director, has assumed the Board Chairman role. Tom asked me to take a moment thank you all for the support and well wishes he has received over the last few weeks\", \"At Piedmont, we filed our 2010 10-K and issued our year-end earnings release on December 23. This morning, I'm going to talk about our 2010 accomplishments and provide you with a general update on the Company. Then, I will move into a more detailed discussion of our 2010 financial results and our 2011 guidance\", \"I will begin on slide two, since Nick has already covered the first slide. Very proud of our team's accomplishments in 2010. During a year of continuing economic challenges, we were able once again to achieve record net income and earnings per share, including the gain on the sale of half our ownership interest in SouthStar to AGL Resources. While the housing markets remain stagnant, we added nearly 11,000 customers, of which almost 20% were residential conversions. We also announced a $379 million project portfolio with Progress Energy and Duke Energy to provide natural gas transportation service to five power generation facilities in North Carolina\", 'In addition, we used proceeds from our sale of SouthStar to reduce average shares outstanding for the year by 1 million. And then, finally, we once again demonstrated our financial strength by raising our quarterly dividend in 2010 for the 32nd consecutive year. Allow me to speak to these accomplishments in a bit more detail', 'Slide three shows our 2010 earnings of $142 million, which were 16% higher than in 2009. The $49.7 million pre-tax gain from the sale of SouthStar, as well as lower interest expense, were somewhat offset by lower margin due mostly to gas cost adjustments, higher expenses due to higher employee expenses and lower contributions from SouthStar. Excluding the gain on the sale of SouthStar, earnings for 2010 appear substantially lower than in 2009. However, adjusting for the [ownership] change in SouthStar for normalized level of amounts due from customers that benefited interest expense in 2009 and for weather and accounting adjustments that affected margin, earnings were slightly higher in 2010 than in 2009', 'On slide four, we highlighted our gross customer additions for the year. While new customer additions were lower than last year, we are very pleased to have added 10,975 customers in this environment, a gross growth rate of 1.1%. In addition to our continued work on residential conversions, we have seen some stabilization in our [residential] new construction markets. (technical difficulty) is the first step toward an overall improvement in the economy of our service territory. As a result, we are forecasting a gross customer addition growth rate in 2011 of 1.2%', \"Moving to slide five, back in May we introduced our power generation project portfolio, which consists of five executed contracts to provide Duke Energy and Progress Energy with natural gas transportation service to new combined-cycle generation plants in North Carolina. These projects will total $379 million in capital expenditures from 2010 to 2013. Since our last update, we have completed work at Progress's Richmond facility and Duke's Buck facility. All of the other projects in the portfolio are progressing well and remain on track (technical difficulty) targeted completion dates\", 'On slide six, we have updated our capital expenditure forecast for 2011 through 2013, including the breakout of when we will spend the $379 million associated with our power generation project portfolio. As you can see, most of that spend will occur in 2011 and 2012. These forecasted figures include AFUDC balances and may be subject to some further refinement. Overall, these projects and the associated expenditures will allow us to grow the Company even during this period of muted small-volume customer growth', 'Slide seven demonstrates how our consistent financial performance allows us to reward our shareholders. In 2010 we raised our dividend for the 32nd consecutive year. We are committed to long-term shareholder value and understand the importance of a growing dividend to our shareholders', \"As for details on the income statement, let's start with slide 8. Margin of $553 million decreased almost 2% compared to 2009 due to net gas cost adjustments, lower margin from secondary market transactions and lower contribution from residential and commercial customers due to warmer weather in months not covered by our weather normalization adjustment clauses in South Carolina and Tennessee. This was somewhat offset by customer growth\", 'On the expense side, slide 9, O&amp;M of $220 million was 6% higher than last year due to various increases in employee-related expenses, including higher payroll and incentive expense and higher pension expense. Contract labor was also higher, mostly due to the rebranding effort we announced at the beginning of the year', 'On slide 10, income from (technical difficulty) joint ventures was $29 million in 2010, 14% lower than in 2009 due to the change in our ownership percentage of SouthStar effective January 1 of this year. However, excluding the effect of the ownership change, income from joint ventures would have been higher than in 2009', 'Slide 11 shows utility interest charges for the year at $44 million, 6% lower than last year. The decline in net interest expense was due to higher AFUDC on several major projects, lower interest expense on long-term debt due to lower amounts outstanding and lower interest expense on short-term debt due to lower rates and borrowings. This was partially offset by a decrease in interest income due to lower amounts due from our [customers]. All other income statement categories tracked along their normal trends', 'Finally, in the earnings release we reaffirmed our fiscal year 2011 guidance of $1.50 to $1.60 per share that we initially issued in November. Our guidance range includes gross customer additions of (technical difficulty) [1.2%], a $1 million margin increase in South Carolina under the Rate Stabilization Act mechanism and a 2.3% increase in O&amp;M expense due to higher payroll, pension and medical costs. Capital expenditures are expected to be $313 million in 2011, $146 million of which will be for power generation projects', \"On the financing side, we are planning to close on our new $650 million, three-year revolving credit facility later this month. In addition, we will be refinancing our 6.25% long-term insured quarterly notes in June of this year with lower-cost long-term debt. We don't anticipate the need to issue any additional long-term debt until 2012\", \"Finally, on behalf of Tom and the entire executive management team, I would like to express my appreciation to all of our employees who are dedicated to performance excellence, high-quality customer service and safe and reliable utility operations. It's their effort that led us to a successful 2010. And with that, I'll turn the call back over to Nick\", 'Thanks, Dave. Lisa, we are now ready to open the call for questions', \"Good day, and welcome to the Piedmont Natural Gas first quarter 2011 earnings call. Today's conference is being recorded. At this time, I would like to turn the conference over to Mr. Nick Giaimo. Please go ahead sir\", 'Thank you, John. Good morning, everyone, and thank you for joining the Piedmont Natural Gas first quarter 2011 earnings conference call. This call is open to the general public and is being webcast live over the Internet. If you would like to access the webcast of this call, or view the slides of the accompanying presentation, please visit our web site at PiedmontNG.com and choose the For Investors link. On the right-hand side of that page, you will find the appropriate links', 'On the call today presenting prepared remarks we have Tom Skains, President, Chairman and Chief Executive Officer, and Dave Dzuricky, Senior Vice President and Chief Financial Officer. Other officers of the Company are also in attendance. At the conclusion of the prepared remarks, we will open the call to your questions', \"Finally, this call may include forward-looking statements and our actual results may materially differ from those statements. More information about the risks and uncertainties relating to these forward-looking statements may be found in Piedmont's latest Form 10-K. And with that, I will turn the call over to Tom\", 'Thanks, Nick. And good morning, everybody. And thank you for joining us for our first quarter 2011 earnings conference call. Before we begin, I would like to take a moment to express my gratitude to so many of you who offered your support and well wishes to me during my time away in January. I would also like to thank Dave Dzuricky and the rest of the executive management team, who did an excellent job running the Company in my absence', \"I'm excited to be back. And look forward to continuing what has already been a great start to our fiscal year 2011. As you know, we filed our 10-Q and issued our first quarter earnings release last Friday. This morning I am going to talk about our first quarter accomplishments, and provide you with a general update on the Company. Then I will turn the call over to Dave for a more detailed discussion of our first quarter financial results\", \"I will begin on slide two, since Nick has already covered slide one. As you read in our press release, we're off to a very good start in 2011. Net income of $84 million, or $1.16 per diluted share, was an improvement over last year, when you exclude the gain in 2010 related to the sale of half our ownership interest in SouthStar Energy. Our first quarter results are especially impressive when you remember that we had a 30% ownership interest and a 25% earnings interest in SouthStar during the first quarter of 2010, compared to the 15% ownership and earnings interest this quarter. We continued to grow our core utility business by adding 2,857 new customers during the first quarter of 2011\", \"On March 4, our Board increased the quarterly dividend by 3.6%, to $0.29 per share. This is the 33rd consecutive year we've raised our dividend. In January, we put into place a new $650 million three-year syndicated credit facility, which will support the construction of our power generation service project portfolio. Also, in January, we concluded the buyback of 800,000 common shares. And finally, last week, we reaffirmed our 2011 earnings per share guidance of $1.50 to $1.60 per share\", \"Slide three shows our first quarter net income of $84 million, which is 1% higher than the first quarter of 2010, when you exclude the $30.3 million after-tax gain from last year's SouthStar sale. Increased margin, lower O&amp;M expense, and lower interest expense all served to more than offset the lower contribution from SouthStar at our new ownership percentage. I will let Dave speak to these items in more detail in just a moment\", \"On slide four, we have highlighted our gross customer additions for the first quarter. As you can see, we continue to witness a weak residential new construction market. However, we're encouraged by the improvement in both residential conversions and commercial additions, on a quarter-to-quarter basis. As a result, we are still forecasting a gross customer addition growth rate of 1.2% in 2011\", 'Moving to slide five, last year, we introduced our power generation service project portfolio, which consists of five separate contracts to provide Progress Energy and Duke Energy with natural gas delivery service to new combined-cycle generation plants in North Carolina. We forecasted our capital investment in pipeline and compression facilities for these projects to total $382 million, from 2010 to 2013. As you can see, we placed our facilities into service for the Progress Richmond and the Duke Buck facility in December of 2010. All of the other projects in the portfolio were progressing well, and remain on track for their targeted completion dates. The Duke Dan River and Progress Wayne and Sutton projects are all parts of the Duke Progress fleet modernization capital investment plan announced with their merger earlier this year. And we believe the projects will go forward as planned', \"On slide six, we've updated our capital expenditures forecast for 2011 through 2013. Including the breakdown of when we expect to spend the $382 million associated with our power generation service project portfolio. Since our last update in January, you will notice that we pushed back the timing of some of these capital expenditures, but most of our spend related to these projects will still occur in 2011 and 2012. In addition, lower utility CapEx in 2011 and 2012 relate to the timing of certain information systems expenditures and are not a function of forecasted customer growth\", \"Finally, power generation forecasts include AFUDC balances, and may be subject to some further refinement in the future. Overall, these projects and the associated expenditure will allow us to grow the Company even during this period of weaker general economic growth. Finally, slide seven demonstrates how our consistent financial performance allows us to reward our shareholders. As I mentioned earlier this month, we have raised our dividend for 33rd consecutive year. We're committed to long-term shareholder value, and we understand the importance of the growing dividend to our shareholders. With that, I would now like to turn the call over to our Senior Vice President and Chief Financial Officer, Dave Dzuricky\", 'Thank you, Tom. And let me add my good morning to you. As Tom indicated, we have a good first quarter with earnings per diluted share of $1.16, 2% higher than last year, excluding the gain to the SouthStar restructuring. Let me walk you through the major line items of our first quarter income statement, and then I will turn the call back over to Nick to take your questions', 'Picking back up on slide eight, margin of $230 million grew more than 3% compared to last year, due to increased wholesale marketing activity, a higher contribution from residential and commercial customers, and increased volumes from industrial customers. On the expense side, on slide nine, O&amp;M expense of $51 million was 2% lower than the first quarter of 2010, due to lower bad debt expense and lower payroll expense. On slide 10, income from joint ventures was $8 million in the first quarter, $4 million lower than last year, due to the change in our ownership percentage of SouthStar, effective January 1 of 2010. However, excluding the effect of the ownership change, income from joint ventures was slightly higher than last year', 'Slide 11 shows utility interest charges for the quarter at $11 million, almost 3% lower than in the first quarter of 2010. The decline in net interest expense was due to higher AFUDC on several major projects, and lower interest expense on long-term debt due to lower amounts outstanding. This was partially offset by the interest impact of having lower amounts due from customers, and increased interest on deferred income taxes and sales taxes. You will also notice from the income statement the general taxes were $2.5 million higher than in the first quarter of 2010. This was primarily due to an accrual of an estimated liability for sales tax on certain customer accounts', 'All other income statement categories tracked along their normal trends. And with that, I will turn the call back over to Nick', \"Thank you, Dave. John, we're now ready to open the call for questions\", \"Ladies and gentlemen, good day. Welcome to the Piedmont Natural Gas second quarter 2011 earnings conference call. Today's conference is being recorded. At this time I would like to turn the call over to Nick Giaimo, Head of Investor Relations. Please go ahead\", \"Thank you, Peter. Good morning, everyone. Thank you for joining the Piedmont Natural Gas second quarter 2011 earnings conference call. This call is open to the general public and is being webcast live over the Internet. If you would like to access the webcast of this call, or view the slides of the accompanying presentation; please visit our website at PiedmontNG.com and choose the for investors link. On the right-hand side of that page, you'll find the appropriate links\", 'On the call today presenting prepared remarks we have Tom Skains, President, Chairman, and Chief Executive Officer; and Dave Dzuricky, Senior Vice President and Chief Financial Officer. Other officers of the Company are also in attendance to take your questions following the prepared remarks', \"Finally, this call may include forward-looking statements and our actual results may materially differ from those statements. More information about the risks and uncertainties relating to these forward-looking statements may be found in Piedmont's latest Form 10-Q. With that I will turn the call over to Tom\", 'Thank you, Nick. Good morning, everybody. Thank you for joining us for our second quarter 2011 earnings conference call. We saw many of you at the AGA financial forum just a few weeks ago and I appreciate you taking the time to join us again today', 'As you know, earlier today we filed our 10-Q and issued our second quarter earnings release. This morning I am going to talk about our recent accomplishments and provide you with a general update on the Company. Then I will turn the call over to Dave for a more detailed discussion of our second quarter financial results', \"I will begin on slide 2, since Nick has already covered slide 1. As you saw in our press release, we had another good quarter. Net income of $47 million or $0.66 per diluted share was modestly higher than the second quarter of 2010. We also added 2,141 new customers during the quarter and have added nearly 5,000 new customers year-to-date. Earlier this month, we called approximately $200 million of long-term debt and re-financed it with lower-cost long-term debt saving over $4 million a year in interest expense. Finally, this morning, we've reaffirmed our 2011 earnings per share guidance of $1.50 to $1.60 per diluted share\", \"Slide 3 shows our second quarter net income of $47 million, which was 1% higher than the second quarter of 2010. Increases in margin and slightly lower interest expense more than offset increased O&amp;M expense and lower contributions from our joint ventures. I'll let Dave speak to those items in more detail in just a moment\", \"On slide 4 we've highlighted our gross customer additions for the quarter and for the year-to-date. While we have witnessed year-to-date improvement in commercial additions and residential conversions, and higher industrial and power generation energy consumption; weakness in the residential new construction market continues. For fiscal year 2011, we are forecasting gross customer additions of approximately 1%; about the same as fiscal year 2010\", 'Moving to slide 5. Last year we introduced our power generation service project portfolio which consists of five separate contracts to provide Progress Energy and Duke Energy with natural gas delivery service to new combined cycle generation plants in North Carolina. We now forecast that our capital investment at pipeline and compression facilities for these projects will total between $471 million and $521 million from 2010 to 2013. You will notice that the upper-end of this revised forecast is about $140 million higher than what we provided to you last quarter', 'The estimated increases are related to further project development work on the Wayne and Sutton projects and are primarily due to projected increases in contract labor, steel, fuel, and environmental costs compared to our original estimates which were all based upon 2009 costs. Based upon the terms of our contracts and the regulatory environment in which we operate, we believe we will earn reasonable rates of return on the revised cost projections. All of these projects remain on track for their targeted completion date', \"On slide 6 we've updated our capital expenditures forecast for 2011 through 2013 for this increased spending associated with the power generation project portfolio. Note that the figures at the top of the bars in 2011 through 2013 represent the upper end of our current forecast. In addition, the power generation project forecast include AFUDC balances which are also subject to further refinement\", \"Before I turn the call over to Dave, let me say a few words about the man who has been my partner and confidant at Piedmont Natural Gas for more than 16 years. As you know, last week we issued a press release announcing that Dave has decided to retire at the end of this fiscal year. While we celebrate his career, we're saddened to see him leave; as Dave has not only been an excellent CFO, but a well-respected member of our executive management team and a close, personal friend of mine. He has spent a career working with passion and integrity for our shareholders, customers and employees and his experience and wisdom will definitely be missed. We wish Dave nothing but the best in his retirement\", 'However, we are at the same time excited that Karl Newlin will be assuming the role of CFO effective November 1, 2011. Karl joined us just a little over a year ago and brings him with a fervent enthusiasm and unique industry experience to our executive management team. We are extremely fortunate to have someone of his caliber help us position our Company to be successful in a new energy economy. With that I would now like to turn the call over to our Senior Vice President and Chief Financial Officer, Dave Dzuricky', \"Good morning, everyone. Thank you, Tom, for those very kind words. It really has been my distinct pleasure to work at Piedmont Natural Gas for more than 16 years as Chief Financial Officer. I've witnessed incredible growth at the Company and also have had the privilege of working with talented co-workers and lifelong friends at Piedmont, in the industry and in the financial community. Thanks to all of you for your steadfast support over the last 16 years. While there is also a part of me that is sad to leave, I know that our Company is in excellent hands with Tom's continued leadership and Karl as CFO\", 'Turning back to the presentation, as Tom indicated, we had a good second quarter with earnings per diluted share of $0.66, 1% higher than last year. Let me walk you through the major line items of our second quarter income statement and then I will turn the call back over to Nick to take your questions. Picking back up on slide 7, margin of $173 million grew 2.5% compared to last year. This was due to increased volumes and services delivered to industrial and power generation customers, residential customer growth, net gas cost adjustments and increased wholesale marketing activity', 'On the expense side on slide 8, O&amp;M of $59 million was 2% higher than in the second quarter of 2010 due to increases in contract labor and transportation related expense, which was partially offset by lower utility interest expense. On slide 9, income from joint ventures was $12 million in the second quarter, $1 million lower than last year due to a lower contribution from SouthStar Energy Services. This was a function of warmer weather, lower customer usage and some customers switching to fixed price plans', 'Slide 10 shows utility interest charges for the quarter at $13 million, which was just slightly lower than in the second quarter of 2010. The decline in net interest expense was due to lower long-term debt balances as well as lower net interest expense due to increased AFUDC', \"Finally as you all know, the Internal Revenue Service recently issued regulations to provide guidance on 2010 legislation that would extend and increase bonus depreciation. While we are still in the process of studying the full impact of the law, our initial assessment is that we will have a $130 million to $170 million benefit associated with bonus depreciation between 2010 and 2014. At the same time, Tom discussed our revised forecasted power generation capital expenditures that could increase our spend by up to $140 million through 2013. As we work through our 2012 budget and our long range forecast, we will evaluate the impact of these two items on our financing requirements and we will let you know of our final determination when we issue 2012 earnings guidance in the fall. With that, I'll turn the call back over to Nick\", \"Thank you, Dave. Peter, we're now ready to open the call for questions\", \"Good day, everyone, and welcome to the Piedmont Natural Gas third quarter 2011 earnings call. This call is being recorded. Now I'd like to turn the conference over to Mr. Nick Giaimo. Please go ahead, sir\", \"Thank you, Jennifer. Good morning, everyone, and thank you for joining the Piedmont Natural Gas third quarter 2011 earnings conference call. This call is open to the general public and is being webcast live over the Internet. If you would like to access the webcast of this call or view the slides of the accompanying presentation, please visit our website at PiedmontNG.com and choose the For Investors link. On the right-hand side of that page you'll find the appropriate links\", 'On the call today presenting prepared remarks we have Tom Skains, President, Chairman and Chief Executive Officer and Dave Dzuricky, Senior Vice President and Chief Financial Officer. Other officers of the Company are also in attendance to take your questions', \"Finally, this call may include forward-looking statements, and our actual results may materially differ from those statements. More information about the risks and uncertainties relating to these forward-looking statements may be found in Piedmont's latest Form 10-Q\", \"And with that I'll turn the call to Tom\", \"Thank you, Nick. And good morning, everybody, and thank you for joining us for our third quarter 2011 earnings conference call. As you know, earlier today we filed our 10-Q and issued our third-quarter earnings release. This morning I'm going to talk about our recent accomplishments and provide you with a general update on the Company. Then I'll turn the call over to Dave for a more detailed discussion of our third-quarter financial results\", \"I'll begin with slide 2. Due to the seasonal nature of our business, we typically experience losses during the summer months that make up our third quarter. This quarter we recorded a net loss of $8.7 million, or $0.12 per share, which was improved from a net loss of $9.5 million or $0.13 per share in the third quarter of 2010. We also added 2,245 new customers during the quarter and have added more than 7,000 customers year-to-date\", \"Regarding our large Wayne and Sutton projects, we continue to execute both on schedule. And I'll provide a highlight of some of the progress we've made on those projects in just a moment. Last week we filed a general rate case in Tennessee for the first time since 2003 to recover the investment we have made in that state since that time. I will also highlight some of the details of that rate case later in my remarks\", \"You may have seen a press release we issued during the quarter announcing a realignment of our executive management teams. We believe these changes position our Company to meet our strategic directives which place an emphasis on customer service and operational excellence. The realignment was also implemented as a part of our professional development and succession plans in light of 2 upcoming key executive retirements. While we will miss Dave Dzuricky and Michael Yount when they retire later this year and next, and wish them the very best in their retirement, I'm confident that our newly-assembled team will do great things for our customers and our shareholders\", 'Finally, this morning we reaffirmed our 2011 earnings per share guidance of $1.50 to $1.60 per diluted share. Slide 3 shows our seasonal net loss of $8.7 million which was about $1 million improved from our third quarter of last year. Increases in margin and lower operating expenses served to offset higher interest expense. Results from our joint ventures remained relatively unchanged compared to last year. I will let Dave speak to these items in more detail in just a moment', \"On slide 4 we've highlighted our gross customer additions for the quarter and for the year-to-date. Similar to prior quarters, we've seen both year-to-date and quarter-to-quarter improvements in commercial additions and residential conversions. As well as higher industrial and power generation throughput. However, weakness in the residential new construction market continues. And for the fiscal year of 2011 we are still forecasting gross customer additions of 1%\", \"Moving to slide 5. Last year we introduced our power generation service project portfolio, which consists of 5 contracts to provide Progress Energy and Duke Energy with natural gas delivery service to new combined-cycle generation plants in North Carolina. We've completed our work on the Duke Buck facility, as well as the Progress Richmond facility. And we're nearing completion of the Duke Dan River project which is scheduled to go into service in November\", \"We also continue to make good strides on our 2 largest contracts, Progress's Wayne County and Sutton projects. We've completed all design work for both projects. We're currently receiving pipe deliveries for Wayne and should be receiving pipe deliveries for Sutton later this month. The construction bid process is underway at Wayne and will follow with Sutton towards the end of our fiscal year\", \"While the total forecasted capital expenditures for each project are unchanged since our last update, you'll notice that we shifted about $45 million of CapEx to 2012 that was originally scheduled for 2011. This shift was due to a refinement in our forecasting schedule. Both projects remain on track for their targeted completion dates in June 2012 and June 2013\", \"On slide 6 we've highlighted some of the details of our general rate case in Tennessee. Our filing requests a revenue increase of $16.7 million based upon a return on equity of 11.25% and an equity capital structure component of 52.7%. In addition, we're proposing to alter our rate design to increase the fixed component of our cost recovery. We are also seeking recovery of pipeline integrity and safety related investments, the amortization of regulatory assets and deferred cost, and lower depreciation rates. Finally, our filing introduces a new school-based energy efficiency education program. While we cannot predict the outcome of this rate case, we do anticipate the new rates to be effective on March 1, 2012\", \"Before I turn the call over to Dave, let me comment on Hurricane Irene and its impact on our system and customers in east North Carolina. During the week before the storm, we implemented our comprehensive hurricane preparedness plan. Our team did a great job of preparing our facilities for the storm, as well as communicating and coordinating with our customers and local emergency responders. Fortunately for us, Irene made landfall over a less populated part of our service territory. When it was safe to do so, our team immediately responded to our customers' needs, and assessed the impact to our system\", \"While there was widespread flooding and wind damage and electric power outages along the coast of North Carolina, Piedmont's natural gas facility sustained virtually no damage, and our employees remained safe. We assisted our customers in making their flood-damaged houses safe. And so far have replaced about 30 meter regulator sets for customers in the communities of New Bern and Tarboro. We continue to aid the communities we serve by providing safe drinking water and assistance in clearing away the debris\", \"With that, I'd like to now turn the call over to our Senior Vice President and Chief Financial Officer, Dave Dzuricky\", 'Thank you, Tom, and good morning, everyone. As Tom indicated, our third quarter seasonal net loss was $8.7 million or $0.12 per share. It was a fairly straightforward quarter but let me walk you through the major line items of our third quarter income statement, and then I will turn the call back over to Nick to take your questions', 'Picking back up on slide 7, margin of $82 million grew $4 million compared to last year. This was due to increased volumes in services to industrial and power generation customers, as well as net gas cost adjustments that occurred in 2010, partially offset by a decrease in wholesale marketing activity', 'On the expense side, on slide 8, operating and maintenance expense of $53 million was $2 million lower than the third quarter of 2010 due to a decrease in payroll and incentive expense and lower contract labor. Joint venture income of $2 million was relatively unchanged from the year-ago period', 'Finally, slide 9 shows utility interest charges for the quarter at $11 million, which was almost $4 million higher than in the third quarter of 2010. The increase in net interest expense was due in part to decreased AFUDC because of the deferment of large capital expenditures under our Wayne and Sutton projects, partially offset by lower long-term debt balances', \"Let me comment briefly on our revised capital expenditures forecast for 2011, as well as the release of our 2012 earnings guidance. Due to the timing shift of our capital expenditures related to Wayne and Sutton from 2011 into 2012, our revised capital expenditure forecast for 2011 is now $280 million. In early November when we issue our 2012 earnings guidance, we will forecast our total capital expenditures for 2012. We're still in the process of putting together our budgets for next year and refining our estimates, but given the increase in power generation spending, as well as new expenditures related to pipeline integrity programs and systems, you should expect a total CapEx figure for 2012 that is substantially higher than what you have previously seen from us. In addition, our guidance for 2012 will also provide an earnings per share range, customer growth forecast, and our long-term financing plans\", \"Before I turn the call back to Nick, I'd like to thank all of you in the financial community for your support and friendship over the last 16 years. This is my last call with you and I want you to know it has truly been a privilege to be CFO of Piedmont. On your next call, Karl Newlin will be sitting in the CFO seat, and I'm sure he'll do a fantastic job. He is going to be a great CFO and will help Tom and the rest of the management team at Piedmont take the Company to new heights in profitability, customer service, and community service\", \"And with that, I'll turn the call back to Nick\", \"All right. Thank you, Dave. Jennifer, we're now ready to open the call for questions\", \"Good day, and welcome to the Piedmont Natural Gas year-end 2011 conference call. Today's conference is being recorded. At this time, I would like to turn the conference over to Mr. Nick Giaimo. Please go ahead, sir\", 'Thank you, Jennifer. Good morning, everyone, and thank you for joining the Piedmont Natural Gas year-end 2011 earnings conference call', 'This call is open to the general public and is being webcast live over the Internet. If you would like to access the webcast of this call or view the slides of the accompanying presentation, please visit our website at PiedmontNG.com and choose the for investors link. On the right-hand side of that page, you will find the appropriate links', 'On the call today presenting prepared remarks, we have Tom Skains, President, Chairman, and Chief Executive Officer; and Karl Newlin, Senior Vice President and Chief Financial Officer. Other officers of the Company are also in attendance to take your questions', 'During the prepared remarks and in the accompanying presentation, references are made to certain non-GAAP items. A reconciliation to GAAP is available at the end of the presentation', \"And finally, this call may include forward-looking statements and our actual results may materially differ from those statements. More information about the risks and uncertainties relating to these forward-looking statements may be found in Piedmont's 2011 Form 10-K filed with the SEC on December 23. And with that, I will turn the call over to Tom\", 'Thanks, Nick, and good morning, everybody, and thank you for joining us for our year-end 2011 earnings conference call. I know many of you are just getting back into the office after the holidays, and we appreciate you taking the time to be with us today', \"As you know, we filed our 2011 10-K and issued our year-end earnings release on December 23. This morning, I'm going to begin on slide two and talk about our 2011 accomplishments and provide you with a general update on the Company. Then I'll turn it over to Karl to give a more detailed discussion of our 2011 financial results and our 2012 guidance\", \"I'm extremely proud of our team's accomplishments in 2011. During another year of continuing economic challenges, we were able to deliver net income of $114 million and diluted earnings per share of $1.57, towards the upper end of our guidance range. While the housing market has remained stagnant, we added over 10,500 customers to our distribution system, more than 20% of which came from residential conversions to clean, affordable, natural gas\", \"We also completed two of our power generation delivery projects during the fiscal year at Duke's Buck's facility and Progress's Richmond facility. And in early fiscal 2012, we completed a third project at Duke's Dan River facility\", \"Our remaining two large projects are for Progress's Wayne County and Sutton plants, both of which remain on their respective June 2012 and June 2013 delivery schedules. I'll speak to those projects in greater detail in just a moment\", 'Last September, we filed a general rate case in Tennessee for the first time since 2003. Our filing requested a revenue increase of $16.7 million, based upon a return on equity of 11.25% and an equity capital structure component of 52.7%. In addition, we proposed to alter our rate design to increase the fixed component of our cost recovery', \"Last month, we entered into a settlement of the case with the Attorney General's Consumer Advocate Office that would increase revenues by $11.9 million at an ROE of 10.2% with an equity capital component of 52.7%. Of course, this settlement is subject to approval by the Tennessee regulatory authority, and we cannot predict the outcome of their deliberations. But a hearing in the case has been set for January 23, and our new rates will become effective on March 1\", 'During the year, we also refinanced $200 million of long-term debt at lower rates, which will translate to annual savings of $4.3 million', 'And finally, our Board once again demonstrated its confidence in the Company by raising our quarterly dividend in 2011 for the 33rd consecutive year', 'Slide three shows our 2011 earnings of $114 million, which were 2% higher than the 2010 level when you exclude the one-time gain associated with the 2010 sale of half our ownership stake in SouthStar. Higher margin was offset somewhat by increased O&amp;M expense, higher depreciation expense, higher general taxes, and lower contributions from SouthStar. I will let Karl speak to these items in more detail in just a moment', \"On slide four, we've highlighted our gross customer additions for the year. While new customer additions were slightly lower than last year, we're pleased to have added 10,522 customers in this economic environment, a gross growth rate of more than 1%\", \"We're also encouraged by the year-over-year improvement in residential conversions and commercial additions. Interestingly, on a net basis at year-end, our actual customers billed were 11,522 customers higher in 2011 than 2010. A lower and more stable wholesale commodity cost of gas has benefited our customer acquisition efforts\", 'Included in the commercial additions are 28 new industrial customers added during 2011 that contributed approximately $0.01 to earnings per share. Our throughput to our industrial customers was up 10% in 2011 and our throughput to power generation customers was up 33%. We are again forecasting a gross customer addition growth rate of about 1% in 2012', \"Moving to slide five, we continued to make good strides on our two largest projects, Progress's Wayne County and Sutton projects. We've completed all design work for both. We have received all pipe deliveries for Wayne and are currently receiving pipe deliveries for Sutton\", 'In addition, the construction bid process is complete for both projects, and construction for Wayne County is currently underway, while construction for Sutton should begin in May or June', 'You will notice that we made a slight adjustment to our power generation CapEx schedule for 2012, compared to our guidance release in November. But this is just a timing adjustment, and both projects remain well on track for their targeted completion dates by June 2012 and June 2013', 'Slide six demonstrates how our consistent financial performance allows us to reward our shareholders. In 2011, our Board raised the dividend for the 33rd consecutive year. We remain committed to long-term shareholder value, and our Board understands the importance of a growing dividend to our shareholders', \"Before I turn the call over to Karl, you've probably noticed a press release we issued last month announcing that Victor Gaglio will join our executive management team next month as our new Senior Vice President and Chief Utility Operations Officer. Victor is currently Senior Vice President of Operations with NiSource Gas Transmission &amp; Storage\", 'He will be replacing Michael Yount, who announced his intention to retire at the end of February. Michael has been a valued member of our team over the last six years and we wish him nothing but the best in his retirement', \"Like Michael, Victor has a wealth of experience in utility operations, having over 30 years of experience in natural gas pipeline, compression, and storage operations with NiSource and Columbia Gas Transmission. So while we will miss Michael, we are excited to have someone of Victor's caliber join our team\", \"With that, I'd now like to turn the call over to our Senior Vice President and Chief Financial Officer, Karl Newlin. Karl?\", 'Thank you, Tom, and good morning, everyone', 'As Tom mentioned, we had a great year in 2011 with net income of $114 million and diluted earnings per share of $1.57. This was a 2% improvement from last year when you exclude the one-time gain from our sale of a portion of SouthStar in 2010', 'As a reminder, a reconciliation to GAAP earnings can be found on the last slide of the presentation', \"As for the details of the income statement, let's start with slide seven. Margin of $574 million increased nearly 4% compared to 2010, due to increased volumes and services to industrial and power generation customers, residential and commercial customer growth, net gas cost adjustments and increased wholesale marketing activity\", 'On the expense side, slide eight, O&amp;M of $225 million was 2.5% higher than last year, due to higher vehicle and transportation expense, a regulatory disallowance of certain Tennessee franchise fees that led to a one-time charge, and higher materials expense', 'Slide nine shows depreciation expense of $103 million and general taxes of $38 million, up 4% and 13%, respectively. The increased depreciation was due to growth in utility investment and plant in service. Higher general taxes were a function of the accrual for and payment of sales tax on certain customer accounts, as well as higher property taxes in our jurisdictions', 'On slide 10, income from joint ventures was $24 million in 2011, 17% lower than in 2010, due primarily to a lower ownership percentage of SouthStar during the entire fiscal year of 2011. Due to the timing of the sale, the first quarter of 2010 had a 30% ownership in SouthStar, while the first quarter of 2011 represented our current 15% ownership. All other income statement categories tracked along their normal trends', \"Finally, on slide 11, we've outlined our 2012 earnings guidance of $1.58 to $1.68 per share that we reaffirmed in our December 23 earnings release. Our guidance range assumes gross customer additions of 1%; the Wayne County project being in service on June 1, 2012; a $3.1 million margin decrease under the South Carolina Rate Stabilization Act, or RSA; and a 9% increase in O&amp;M expense. Capital expenditures are expected to be between $540 million and $600 million, with $240 million to $280 million associated with our power generation delivery projects. $70 million to $80 million will be related to transmission and pipeline integrity expenditures\", 'On the financing side, we anticipate issuing $300 million of long-term debt during the third quarter. We will also repurchase common shares to offset issuances from our DRIP and other stock-based programs. We do not anticipate the need to issue any equity in 2012', 'With that, I will turn the call back over to Nick', 'Thank you, Karl. Jennifer, we are now ready to open the call to questions', \"Good day, everyone. Welcome to the Piedmont Natural Gas first-quarter 2012 earnings conference call. Today's event is being recorded. I will now turn the conference over to Mr. Nick Giaimo\", 'Thank you, Felicia. Good morning, everyone, and thank you for joining the Piedmont Natural Gas first-quarter 2012 earnings conference call. This call is open to the general public and is being webcast live over the Internet. If you would like to access the webcast of this call or read the slides of the accompanying presentation, please visit our website at piedmontng.com and choose the For Investors link. On the right-hand side of that page, you will find the appropriate links', 'On the call today presenting prepared remarks, we have Tom Skains, President, Chairman, and Chief Executive Officer; and Karl Newlin, Senior Vice President and Chief Financial Officer. Other officers of the Company are also in attendance to take your questions', \"Finally, this call may include forward-looking statements and our actual results may materially differ from those statements. More information about the risks and uncertainties relating to these forward-looking statements may be found in Piedmont's first-quarter 2012 Form 10-Q filed with the SEC on March 9\", \"And with that, I'll turn the call over to Tom\", \"Thank you, Nick. Good morning, everybody, and thank you for joining us for our first-quarter 2012 earnings conference call. As you know, we filed our first-quarter 10-Q and issued our earnings release on Friday. This morning, I'm going to talk about our year-to-date accomplishments and provide you with a general update on the Company. Then I'll turn the call over to Karl to give you a more detailed discussion of our first-quarter financial results and our updated view on 2012 guidance\", \"I'll begin on slide 2, since Nick has already covered slide 1. As you read in our press release, we reported net income of $76.2 million and diluted earnings per share of $1.05. This compares to $84.4 million and diluted EPS of $1.16 in the first quarter of 2011. Results are lower due to weather during the quarter that was 16% warmer than normal and 31% warmer than last year\", \"We were pleased to see strong customer growth during the quarter, with the addition of more than 3,400 new customers, a 20% improvement in customer gains from last year. We also resolved our general rate case in Tennessee and were granted $11.9 million in annual rate relief by the Tennessee Regulatory Authority. I'll speak to the rate case details in greater detail in just a moment\", \"We continue to work diligently in our two large power generation delivery projects for Progress Energy at their Wayne County and Sutton plants. Both projects remain on schedule for the respective June 2012 and June 2013 in-service dates. Again, I'll elaborate on the progress of both of those projects shortly\", 'Earlier this year, we took advantage of the favorable interest rate environment by pricing $300 million of 15-year long-term debt at a blended interest rate of 3.54%. We expect this deal to close at the end of March, and our plan is to draw $100 million in July and $200 million in October to support our capital expansion programs. We also completed a buyback of 800,000 common shares in January to offset stock issuances under our DRIP and other stock-based programs. Last Thursday, our Board demonstrated its confidence in the Company by increasing the quarterly dividend 3.4% to $0.30 per share. This is the 34th consecutive year our Board has raised the dividend', \"Finally, we reaffirmed our 2012 earnings per share guidance range of $1.58 to $1.68, although we're pointing investors to the lower end of that range. Karl will provide you with more details on our guidance range after my remarks\", \"Slide 3 shows our first-quarter earnings of $76 million, which were $8 million lower than the first quarter of last year. Lower general taxes and interest expense were more than offset by lower margin, higher O&amp;M expense, higher depreciation expense, and a lower contribution from SouthStar. Again, I'll let Karl speak to these items in more detail in just a moment, but I will note that all line items reported are at or better than our expectations, with the exception of margin and SouthStar. Both of those were negatively impacted by the extremely warm weather we saw during the quarter\", \"On slide 4, we've highlighted our gross customer additions for the quarter. As you can see, our customer gains of 3,438 were 20% higher than the first quarter of last year, and we're pleased to see improvement across all categories. We are viewing these figures with cautious optimism and believe they may be the indication of improving new construction markets in our service territory\", \"In the conversion markets, they certainly reflect the new competitive pricing environment for natural gas service. However, after several quarters of slower growth, we want to wait and see if this level of activity continues before jumping to any conclusions. As a result, we're still forecasting a gross customer addition growth rate of about 1% in 2012\", 'Turning to slide 5, on January the 23rd, the Tennessee Regulatory Authority approved the rate case settlement agreement we reached with the Tennessee Consumer Advocate back in December. The table on this slide compares our original request to that that was granted by the TRA', 'In addition to annual rate relief of $11.9 million, with an ROE of 10.2%, we were successful in shifting the fixed component of our overall margin from 29% under prior rates to 37% under the new rates. We were also granted amortization of our regulatory assets, such as pension assets, environmental costs, flood recovery costs, and rate case expenses. We extended the coverage of our WNA to include the months of October and April in addition to the months of November through March. The settlement rates went into effect on March 1, and our higher base rates are more than offset by recent reductions in the wholesale cost of gas', \"Moving to slide 6, we continue to make good strides in our two largest capital expansion projects, the Progress' new Wayne County and Sutton combined cycle power plants. At Wayne County, construction began in November and is proceeding on schedule. At the end of the quarter, we are approximately 2/3 complete, and we still forecast an in-service date by June of this year. For Sutton, we received all pipe deliveries and anticipate construction to begin in May. Our expected completion date of June 2013 for Sutton is also unchanged\", \"With that, I'd now like to turn the call over to our Senior Vice President and Chief Financial Officer, Karl Newlin\", 'Thank you, Tom, and good morning, everyone. As Tom mentioned, we reported first-quarter net income of $76.2 million and diluted EPS of $1.05 compared to $84.4 million and $1.16 in the first quarter of 2011', \"Let me walk you through the major line items of our first-quarter income statement, and then I'll turn the call back over to Nick to take your questions\", 'On slide 7, margin of $220 million decreased $10 million compared to last year. The margin decline was due exclusively to weather, which was 16% warmer than normal, and 31% warmer than the first-quarter of 2011. This resulted in lower margin from wholesale marketing activities and from lower volumes delivered to residential and commercial customers in South Carolina and Tennessee', 'Over the last several years, we have seen normalized full-year wholesale marketing margins in the range of $10 million to $12 million. Last year was an extraordinary year, as we generated $14 million in secondary wholesale marketing margins. That variance from normal all occurred in the first quarter, and accounts for much of the $5.5 million negative variance in wholesale marketing revenue in first-quarter of 2012. This year, with lower and more stable wholesale commodity and basis values, we are expecting lower secondary marketing margins than we have seen historically', 'In the residential and commercial markets, we received $13.6 million in incremental margin from the WNA in Tennessee and South Carolina during the first quarter. However, the WNA is an imperfect mechanism that does not fully protect us when weather variances are extreme, such as we witnessed in the first quarter. As a result, margin from residential and commercial customers in those states was $4.3 million lower than last year. I would note that as a result of margin decoupling, weather had virtually no impact on margin from residential and commercial customers in North Carolina', 'On the expense side, slide 8, O&amp;M of $58 million was $7 million higher than last year, due to higher pension expense, including the absence of a regulatory deferral in 2012, higher medical costs, increased contract labor, higher payroll expense, and increased material costs. This higher O&amp;M level during the quarter was consistent with our expectations and with our guidance disclosure back in November', 'Slide 9 shows depreciation expense of $26 million and general taxes of $9 million, up $1 million and down $2.5 million, respectively. The increase in depreciation was due to growth in plant and service. Lower general taxes were a function of the accrual for sales tax on certain customer accounts in 2011 that did not recur in the most recent period', 'On slide 10, income from joint ventures was $6 million during the first quarter, $1.5 million lower than 2010, due primarily to a decreased contribution from SouthStar from lower customer usage as a result of warmer weather, as well as the lower of cost or market storage adjustment. This was partially offset by improved performance at our other joint ventures', 'Finally, on slide 11, interest expense of $7 million was nearly $4 million lower than the first quarter of 2011, due to increased AFUDC offsets and lower interest expense on long-term debt, as a result of lower balances and a lower average rate. This was partially offset by higher interest expense on short-term debt due to higher balances at a higher average rate', 'Before I turn the call back over to Nick, let me briefly touch on our 2012 earnings guidance. As Tom indicated, on Friday, we reaffirmed our guidance range of $1.58 to $1.68 per share, but we are now pointing towards the lower end of that range. While we are encouraged by our operating performance compared to plan, weather so far this year has been extremely warm, and has softened our outlook on margin and on our contributions from SouthStar. Outside of weather variations, the Company continues to perform as expected', \"With that, I'll turn the call back over to Nick\", \"Thank you, Karl. Felicia, we're now ready to open the call for questions\", \"Good day, and welcome to the Piedmont Natural Gas second-quarter 2012 earnings conference call. Today's conference is being recorded. At this time, it is my pleasure to turn the conference over to Mr. Nick Giaimo. Please begin\", 'Thank you. Good afternoon, everyone, and thank you for joining the Piedmont Natural Gas second-quarter 2012 earnings conference call. This call is open to the general public, and is being Webcast live over the Internet. If you would like to access the webcast of this call, or view the slides of the accompanying presentation, please visit our website at www.PiedmontNG.com and choose the \"for investors\" link. On the right hand side of that page, you will find the appropriate links', 'On the call today presenting prepared remarks, we have Tom Skains, President, Chairman and Chief Executive Officer, and Karl Newlin, Senior Vice President and Chief Financial Officer. Other officers of the Company are also in attendance to take your questions', \"Finally, this call may include forward-looking statements, and our actual results may materially differ from those statements. More information about the risks and uncertainties relating to these forward-looking statements may be found in Piedmont's second-quarter 2012 Form 10-Q, filed yesterday with the SEC\", 'With that, I will turn the call over to Tom']\n"
     ]
    }
   ],
   "source": [
    "# Create the sample and extract relevant sections\n",
    "index_file = file_handler.read_index_file()\n",
    "ecc_sample = file_handler.create_ecc_sample(sample_size)\n",
    "all_relevant_sections = text_processor.extract_all_relevant_sections(ecc_sample, max_documents)\n",
    "print(all_relevant_sections[:500])\n"
   ]
  },
  {
   "cell_type": "code",
   "execution_count": 15,
   "metadata": {},
   "outputs": [],
   "source": [
    "#Initialize model\n",
    "model_path = config.get(\"finbert_model_path\")\n",
    "\n",
    "if model_path is None:\n",
    "    raise ValueError(\"Model path not found in the configuration file.\")\n",
    "\n",
    "# Ensure that the model path is correct\n",
    "if not os.path.exists(model_path):\n",
    "    raise ValueError(f\"The specified model path does not exist: {model_path}\")\n",
    "\n",
    "model = SentenceTransformer(model_path)\n",
    "topic_model = BERTopic(embedding_model=model)\n"
   ]
  },
  {
   "cell_type": "code",
   "execution_count": 17,
   "metadata": {},
   "outputs": [
    {
     "ename": "KeyboardInterrupt",
     "evalue": "",
     "output_type": "error",
     "traceback": [
      "\u001b[1;31m---------------------------------------------------------------------------\u001b[0m",
      "\u001b[1;31mKeyboardInterrupt\u001b[0m                         Traceback (most recent call last)",
      "Cell \u001b[1;32mIn[17], line 1\u001b[0m\n\u001b[1;32m----> 1\u001b[0m topics, probs \u001b[38;5;241m=\u001b[39m \u001b[43mtopic_model\u001b[49m\u001b[38;5;241;43m.\u001b[39;49m\u001b[43mfit_transform\u001b[49m\u001b[43m(\u001b[49m\u001b[43mall_relevant_sections\u001b[49m\u001b[43m)\u001b[49m\n",
      "File \u001b[1;32mc:\\Users\\nikla\\miniconda3\\envs\\bert_ma\\Lib\\site-packages\\bertopic\\_bertopic.py:387\u001b[0m, in \u001b[0;36mBERTopic.fit_transform\u001b[1;34m(self, documents, embeddings, images, y)\u001b[0m\n\u001b[0;32m    384\u001b[0m     logger\u001b[38;5;241m.\u001b[39minfo(\u001b[38;5;124m\"\u001b[39m\u001b[38;5;124mEmbedding - Transforming documents to embeddings.\u001b[39m\u001b[38;5;124m\"\u001b[39m)\n\u001b[0;32m    385\u001b[0m     \u001b[38;5;28mself\u001b[39m\u001b[38;5;241m.\u001b[39membedding_model \u001b[38;5;241m=\u001b[39m select_backend(\u001b[38;5;28mself\u001b[39m\u001b[38;5;241m.\u001b[39membedding_model,\n\u001b[0;32m    386\u001b[0m                                           language\u001b[38;5;241m=\u001b[39m\u001b[38;5;28mself\u001b[39m\u001b[38;5;241m.\u001b[39mlanguage)\n\u001b[1;32m--> 387\u001b[0m     embeddings \u001b[38;5;241m=\u001b[39m \u001b[38;5;28;43mself\u001b[39;49m\u001b[38;5;241;43m.\u001b[39;49m\u001b[43m_extract_embeddings\u001b[49m\u001b[43m(\u001b[49m\u001b[43mdocuments\u001b[49m\u001b[38;5;241;43m.\u001b[39;49m\u001b[43mDocument\u001b[49m\u001b[38;5;241;43m.\u001b[39;49m\u001b[43mvalues\u001b[49m\u001b[38;5;241;43m.\u001b[39;49m\u001b[43mtolist\u001b[49m\u001b[43m(\u001b[49m\u001b[43m)\u001b[49m\u001b[43m,\u001b[49m\n\u001b[0;32m    388\u001b[0m \u001b[43m                                          \u001b[49m\u001b[43mimages\u001b[49m\u001b[38;5;241;43m=\u001b[39;49m\u001b[43mimages\u001b[49m\u001b[43m,\u001b[49m\n\u001b[0;32m    389\u001b[0m \u001b[43m                                          \u001b[49m\u001b[43mmethod\u001b[49m\u001b[38;5;241;43m=\u001b[39;49m\u001b[38;5;124;43m\"\u001b[39;49m\u001b[38;5;124;43mdocument\u001b[39;49m\u001b[38;5;124;43m\"\u001b[39;49m\u001b[43m,\u001b[49m\n\u001b[0;32m    390\u001b[0m \u001b[43m                                          \u001b[49m\u001b[43mverbose\u001b[49m\u001b[38;5;241;43m=\u001b[39;49m\u001b[38;5;28;43mself\u001b[39;49m\u001b[38;5;241;43m.\u001b[39;49m\u001b[43mverbose\u001b[49m\u001b[43m)\u001b[49m\n\u001b[0;32m    391\u001b[0m     logger\u001b[38;5;241m.\u001b[39minfo(\u001b[38;5;124m\"\u001b[39m\u001b[38;5;124mEmbedding - Completed \u001b[39m\u001b[38;5;130;01m\\u2713\u001b[39;00m\u001b[38;5;124m\"\u001b[39m)\n\u001b[0;32m    392\u001b[0m \u001b[38;5;28;01melse\u001b[39;00m:\n",
      "File \u001b[1;32mc:\\Users\\nikla\\miniconda3\\envs\\bert_ma\\Lib\\site-packages\\bertopic\\_bertopic.py:3410\u001b[0m, in \u001b[0;36mBERTopic._extract_embeddings\u001b[1;34m(self, documents, images, method, verbose)\u001b[0m\n\u001b[0;32m   3408\u001b[0m     embeddings \u001b[38;5;241m=\u001b[39m \u001b[38;5;28mself\u001b[39m\u001b[38;5;241m.\u001b[39membedding_model\u001b[38;5;241m.\u001b[39membed_words(words\u001b[38;5;241m=\u001b[39mdocuments, verbose\u001b[38;5;241m=\u001b[39mverbose)\n\u001b[0;32m   3409\u001b[0m \u001b[38;5;28;01melif\u001b[39;00m method \u001b[38;5;241m==\u001b[39m \u001b[38;5;124m\"\u001b[39m\u001b[38;5;124mdocument\u001b[39m\u001b[38;5;124m\"\u001b[39m:\n\u001b[1;32m-> 3410\u001b[0m     embeddings \u001b[38;5;241m=\u001b[39m \u001b[38;5;28;43mself\u001b[39;49m\u001b[38;5;241;43m.\u001b[39;49m\u001b[43membedding_model\u001b[49m\u001b[38;5;241;43m.\u001b[39;49m\u001b[43membed_documents\u001b[49m\u001b[43m(\u001b[49m\u001b[43mdocuments\u001b[49m\u001b[43m,\u001b[49m\u001b[43m \u001b[49m\u001b[43mverbose\u001b[49m\u001b[38;5;241;43m=\u001b[39;49m\u001b[43mverbose\u001b[49m\u001b[43m)\u001b[49m\n\u001b[0;32m   3411\u001b[0m \u001b[38;5;28;01melif\u001b[39;00m documents[\u001b[38;5;241m0\u001b[39m] \u001b[38;5;129;01mis\u001b[39;00m \u001b[38;5;28;01mNone\u001b[39;00m \u001b[38;5;129;01mand\u001b[39;00m images \u001b[38;5;129;01mis\u001b[39;00m \u001b[38;5;28;01mNone\u001b[39;00m:\n\u001b[0;32m   3412\u001b[0m     \u001b[38;5;28;01mraise\u001b[39;00m \u001b[38;5;167;01mValueError\u001b[39;00m(\u001b[38;5;124m\"\u001b[39m\u001b[38;5;124mMake sure to use an embedding model that can either embed documents\u001b[39m\u001b[38;5;124m\"\u001b[39m\n\u001b[0;32m   3413\u001b[0m                      \u001b[38;5;124m\"\u001b[39m\u001b[38;5;124mor images depending on which you want to embed.\u001b[39m\u001b[38;5;124m\"\u001b[39m)\n",
      "File \u001b[1;32mc:\\Users\\nikla\\miniconda3\\envs\\bert_ma\\Lib\\site-packages\\bertopic\\backend\\_base.py:69\u001b[0m, in \u001b[0;36mBaseEmbedder.embed_documents\u001b[1;34m(self, document, verbose)\u001b[0m\n\u001b[0;32m     55\u001b[0m \u001b[38;5;28;01mdef\u001b[39;00m \u001b[38;5;21membed_documents\u001b[39m(\u001b[38;5;28mself\u001b[39m,\n\u001b[0;32m     56\u001b[0m                     document: List[\u001b[38;5;28mstr\u001b[39m],\n\u001b[0;32m     57\u001b[0m                     verbose: \u001b[38;5;28mbool\u001b[39m \u001b[38;5;241m=\u001b[39m \u001b[38;5;28;01mFalse\u001b[39;00m) \u001b[38;5;241m-\u001b[39m\u001b[38;5;241m>\u001b[39m np\u001b[38;5;241m.\u001b[39mndarray:\n\u001b[0;32m     58\u001b[0m \u001b[38;5;250m    \u001b[39m\u001b[38;5;124;03m\"\"\" Embed a list of n words into an n-dimensional\u001b[39;00m\n\u001b[0;32m     59\u001b[0m \u001b[38;5;124;03m    matrix of embeddings\u001b[39;00m\n\u001b[0;32m     60\u001b[0m \n\u001b[1;32m   (...)\u001b[0m\n\u001b[0;32m     67\u001b[0m \u001b[38;5;124;03m        that each have an embeddings size of `m`\u001b[39;00m\n\u001b[0;32m     68\u001b[0m \u001b[38;5;124;03m    \"\"\"\u001b[39;00m\n\u001b[1;32m---> 69\u001b[0m     \u001b[38;5;28;01mreturn\u001b[39;00m \u001b[38;5;28;43mself\u001b[39;49m\u001b[38;5;241;43m.\u001b[39;49m\u001b[43membed\u001b[49m\u001b[43m(\u001b[49m\u001b[43mdocument\u001b[49m\u001b[43m,\u001b[49m\u001b[43m \u001b[49m\u001b[43mverbose\u001b[49m\u001b[43m)\u001b[49m\n",
      "File \u001b[1;32mc:\\Users\\nikla\\miniconda3\\envs\\bert_ma\\Lib\\site-packages\\bertopic\\backend\\_sentencetransformers.py:65\u001b[0m, in \u001b[0;36mSentenceTransformerBackend.embed\u001b[1;34m(self, documents, verbose)\u001b[0m\n\u001b[0;32m     51\u001b[0m \u001b[38;5;28;01mdef\u001b[39;00m \u001b[38;5;21membed\u001b[39m(\u001b[38;5;28mself\u001b[39m,\n\u001b[0;32m     52\u001b[0m           documents: List[\u001b[38;5;28mstr\u001b[39m],\n\u001b[0;32m     53\u001b[0m           verbose: \u001b[38;5;28mbool\u001b[39m \u001b[38;5;241m=\u001b[39m \u001b[38;5;28;01mFalse\u001b[39;00m) \u001b[38;5;241m-\u001b[39m\u001b[38;5;241m>\u001b[39m np\u001b[38;5;241m.\u001b[39mndarray:\n\u001b[0;32m     54\u001b[0m \u001b[38;5;250m    \u001b[39m\u001b[38;5;124;03m\"\"\" Embed a list of n documents/words into an n-dimensional\u001b[39;00m\n\u001b[0;32m     55\u001b[0m \u001b[38;5;124;03m    matrix of embeddings\u001b[39;00m\n\u001b[0;32m     56\u001b[0m \n\u001b[1;32m   (...)\u001b[0m\n\u001b[0;32m     63\u001b[0m \u001b[38;5;124;03m        that each have an embeddings size of `m`\u001b[39;00m\n\u001b[0;32m     64\u001b[0m \u001b[38;5;124;03m    \"\"\"\u001b[39;00m\n\u001b[1;32m---> 65\u001b[0m     embeddings \u001b[38;5;241m=\u001b[39m \u001b[38;5;28;43mself\u001b[39;49m\u001b[38;5;241;43m.\u001b[39;49m\u001b[43membedding_model\u001b[49m\u001b[38;5;241;43m.\u001b[39;49m\u001b[43mencode\u001b[49m\u001b[43m(\u001b[49m\u001b[43mdocuments\u001b[49m\u001b[43m,\u001b[49m\u001b[43m \u001b[49m\u001b[43mshow_progress_bar\u001b[49m\u001b[38;5;241;43m=\u001b[39;49m\u001b[43mverbose\u001b[49m\u001b[43m)\u001b[49m\n\u001b[0;32m     66\u001b[0m     \u001b[38;5;28;01mreturn\u001b[39;00m embeddings\n",
      "File \u001b[1;32mc:\\Users\\nikla\\miniconda3\\envs\\bert_ma\\Lib\\site-packages\\sentence_transformers\\SentenceTransformer.py:517\u001b[0m, in \u001b[0;36mSentenceTransformer.encode\u001b[1;34m(self, sentences, prompt_name, prompt, batch_size, show_progress_bar, output_value, precision, convert_to_numpy, convert_to_tensor, device, normalize_embeddings)\u001b[0m\n\u001b[0;32m    514\u001b[0m features\u001b[38;5;241m.\u001b[39mupdate(extra_features)\n\u001b[0;32m    516\u001b[0m \u001b[38;5;28;01mwith\u001b[39;00m torch\u001b[38;5;241m.\u001b[39mno_grad():\n\u001b[1;32m--> 517\u001b[0m     out_features \u001b[38;5;241m=\u001b[39m \u001b[38;5;28;43mself\u001b[39;49m\u001b[38;5;241;43m.\u001b[39;49m\u001b[43mforward\u001b[49m\u001b[43m(\u001b[49m\u001b[43mfeatures\u001b[49m\u001b[43m)\u001b[49m\n\u001b[0;32m    518\u001b[0m     \u001b[38;5;28;01mif\u001b[39;00m \u001b[38;5;28mself\u001b[39m\u001b[38;5;241m.\u001b[39mdevice\u001b[38;5;241m.\u001b[39mtype \u001b[38;5;241m==\u001b[39m \u001b[38;5;124m\"\u001b[39m\u001b[38;5;124mhpu\u001b[39m\u001b[38;5;124m\"\u001b[39m:\n\u001b[0;32m    519\u001b[0m         out_features \u001b[38;5;241m=\u001b[39m copy\u001b[38;5;241m.\u001b[39mdeepcopy(out_features)\n",
      "File \u001b[1;32mc:\\Users\\nikla\\miniconda3\\envs\\bert_ma\\Lib\\site-packages\\torch\\nn\\modules\\container.py:217\u001b[0m, in \u001b[0;36mSequential.forward\u001b[1;34m(self, input)\u001b[0m\n\u001b[0;32m    215\u001b[0m \u001b[38;5;28;01mdef\u001b[39;00m \u001b[38;5;21mforward\u001b[39m(\u001b[38;5;28mself\u001b[39m, \u001b[38;5;28minput\u001b[39m):\n\u001b[0;32m    216\u001b[0m     \u001b[38;5;28;01mfor\u001b[39;00m module \u001b[38;5;129;01min\u001b[39;00m \u001b[38;5;28mself\u001b[39m:\n\u001b[1;32m--> 217\u001b[0m         \u001b[38;5;28minput\u001b[39m \u001b[38;5;241m=\u001b[39m \u001b[43mmodule\u001b[49m\u001b[43m(\u001b[49m\u001b[38;5;28;43minput\u001b[39;49m\u001b[43m)\u001b[49m\n\u001b[0;32m    218\u001b[0m     \u001b[38;5;28;01mreturn\u001b[39;00m \u001b[38;5;28minput\u001b[39m\n",
      "File \u001b[1;32mc:\\Users\\nikla\\miniconda3\\envs\\bert_ma\\Lib\\site-packages\\torch\\nn\\modules\\module.py:1532\u001b[0m, in \u001b[0;36mModule._wrapped_call_impl\u001b[1;34m(self, *args, **kwargs)\u001b[0m\n\u001b[0;32m   1530\u001b[0m     \u001b[38;5;28;01mreturn\u001b[39;00m \u001b[38;5;28mself\u001b[39m\u001b[38;5;241m.\u001b[39m_compiled_call_impl(\u001b[38;5;241m*\u001b[39margs, \u001b[38;5;241m*\u001b[39m\u001b[38;5;241m*\u001b[39mkwargs)  \u001b[38;5;66;03m# type: ignore[misc]\u001b[39;00m\n\u001b[0;32m   1531\u001b[0m \u001b[38;5;28;01melse\u001b[39;00m:\n\u001b[1;32m-> 1532\u001b[0m     \u001b[38;5;28;01mreturn\u001b[39;00m \u001b[38;5;28;43mself\u001b[39;49m\u001b[38;5;241;43m.\u001b[39;49m\u001b[43m_call_impl\u001b[49m\u001b[43m(\u001b[49m\u001b[38;5;241;43m*\u001b[39;49m\u001b[43margs\u001b[49m\u001b[43m,\u001b[49m\u001b[43m \u001b[49m\u001b[38;5;241;43m*\u001b[39;49m\u001b[38;5;241;43m*\u001b[39;49m\u001b[43mkwargs\u001b[49m\u001b[43m)\u001b[49m\n",
      "File \u001b[1;32mc:\\Users\\nikla\\miniconda3\\envs\\bert_ma\\Lib\\site-packages\\torch\\nn\\modules\\module.py:1541\u001b[0m, in \u001b[0;36mModule._call_impl\u001b[1;34m(self, *args, **kwargs)\u001b[0m\n\u001b[0;32m   1536\u001b[0m \u001b[38;5;66;03m# If we don't have any hooks, we want to skip the rest of the logic in\u001b[39;00m\n\u001b[0;32m   1537\u001b[0m \u001b[38;5;66;03m# this function, and just call forward.\u001b[39;00m\n\u001b[0;32m   1538\u001b[0m \u001b[38;5;28;01mif\u001b[39;00m \u001b[38;5;129;01mnot\u001b[39;00m (\u001b[38;5;28mself\u001b[39m\u001b[38;5;241m.\u001b[39m_backward_hooks \u001b[38;5;129;01mor\u001b[39;00m \u001b[38;5;28mself\u001b[39m\u001b[38;5;241m.\u001b[39m_backward_pre_hooks \u001b[38;5;129;01mor\u001b[39;00m \u001b[38;5;28mself\u001b[39m\u001b[38;5;241m.\u001b[39m_forward_hooks \u001b[38;5;129;01mor\u001b[39;00m \u001b[38;5;28mself\u001b[39m\u001b[38;5;241m.\u001b[39m_forward_pre_hooks\n\u001b[0;32m   1539\u001b[0m         \u001b[38;5;129;01mor\u001b[39;00m _global_backward_pre_hooks \u001b[38;5;129;01mor\u001b[39;00m _global_backward_hooks\n\u001b[0;32m   1540\u001b[0m         \u001b[38;5;129;01mor\u001b[39;00m _global_forward_hooks \u001b[38;5;129;01mor\u001b[39;00m _global_forward_pre_hooks):\n\u001b[1;32m-> 1541\u001b[0m     \u001b[38;5;28;01mreturn\u001b[39;00m \u001b[43mforward_call\u001b[49m\u001b[43m(\u001b[49m\u001b[38;5;241;43m*\u001b[39;49m\u001b[43margs\u001b[49m\u001b[43m,\u001b[49m\u001b[43m \u001b[49m\u001b[38;5;241;43m*\u001b[39;49m\u001b[38;5;241;43m*\u001b[39;49m\u001b[43mkwargs\u001b[49m\u001b[43m)\u001b[49m\n\u001b[0;32m   1543\u001b[0m \u001b[38;5;28;01mtry\u001b[39;00m:\n\u001b[0;32m   1544\u001b[0m     result \u001b[38;5;241m=\u001b[39m \u001b[38;5;28;01mNone\u001b[39;00m\n",
      "File \u001b[1;32mc:\\Users\\nikla\\miniconda3\\envs\\bert_ma\\Lib\\site-packages\\sentence_transformers\\models\\Transformer.py:118\u001b[0m, in \u001b[0;36mTransformer.forward\u001b[1;34m(self, features)\u001b[0m\n\u001b[0;32m    115\u001b[0m \u001b[38;5;28;01mif\u001b[39;00m \u001b[38;5;124m\"\u001b[39m\u001b[38;5;124mtoken_type_ids\u001b[39m\u001b[38;5;124m\"\u001b[39m \u001b[38;5;129;01min\u001b[39;00m features:\n\u001b[0;32m    116\u001b[0m     trans_features[\u001b[38;5;124m\"\u001b[39m\u001b[38;5;124mtoken_type_ids\u001b[39m\u001b[38;5;124m\"\u001b[39m] \u001b[38;5;241m=\u001b[39m features[\u001b[38;5;124m\"\u001b[39m\u001b[38;5;124mtoken_type_ids\u001b[39m\u001b[38;5;124m\"\u001b[39m]\n\u001b[1;32m--> 118\u001b[0m output_states \u001b[38;5;241m=\u001b[39m \u001b[38;5;28;43mself\u001b[39;49m\u001b[38;5;241;43m.\u001b[39;49m\u001b[43mauto_model\u001b[49m\u001b[43m(\u001b[49m\u001b[38;5;241;43m*\u001b[39;49m\u001b[38;5;241;43m*\u001b[39;49m\u001b[43mtrans_features\u001b[49m\u001b[43m,\u001b[49m\u001b[43m \u001b[49m\u001b[43mreturn_dict\u001b[49m\u001b[38;5;241;43m=\u001b[39;49m\u001b[38;5;28;43;01mFalse\u001b[39;49;00m\u001b[43m)\u001b[49m\n\u001b[0;32m    119\u001b[0m output_tokens \u001b[38;5;241m=\u001b[39m output_states[\u001b[38;5;241m0\u001b[39m]\n\u001b[0;32m    121\u001b[0m features\u001b[38;5;241m.\u001b[39mupdate({\u001b[38;5;124m\"\u001b[39m\u001b[38;5;124mtoken_embeddings\u001b[39m\u001b[38;5;124m\"\u001b[39m: output_tokens, \u001b[38;5;124m\"\u001b[39m\u001b[38;5;124mattention_mask\u001b[39m\u001b[38;5;124m\"\u001b[39m: features[\u001b[38;5;124m\"\u001b[39m\u001b[38;5;124mattention_mask\u001b[39m\u001b[38;5;124m\"\u001b[39m]})\n",
      "File \u001b[1;32mc:\\Users\\nikla\\miniconda3\\envs\\bert_ma\\Lib\\site-packages\\torch\\nn\\modules\\module.py:1532\u001b[0m, in \u001b[0;36mModule._wrapped_call_impl\u001b[1;34m(self, *args, **kwargs)\u001b[0m\n\u001b[0;32m   1530\u001b[0m     \u001b[38;5;28;01mreturn\u001b[39;00m \u001b[38;5;28mself\u001b[39m\u001b[38;5;241m.\u001b[39m_compiled_call_impl(\u001b[38;5;241m*\u001b[39margs, \u001b[38;5;241m*\u001b[39m\u001b[38;5;241m*\u001b[39mkwargs)  \u001b[38;5;66;03m# type: ignore[misc]\u001b[39;00m\n\u001b[0;32m   1531\u001b[0m \u001b[38;5;28;01melse\u001b[39;00m:\n\u001b[1;32m-> 1532\u001b[0m     \u001b[38;5;28;01mreturn\u001b[39;00m \u001b[38;5;28;43mself\u001b[39;49m\u001b[38;5;241;43m.\u001b[39;49m\u001b[43m_call_impl\u001b[49m\u001b[43m(\u001b[49m\u001b[38;5;241;43m*\u001b[39;49m\u001b[43margs\u001b[49m\u001b[43m,\u001b[49m\u001b[43m \u001b[49m\u001b[38;5;241;43m*\u001b[39;49m\u001b[38;5;241;43m*\u001b[39;49m\u001b[43mkwargs\u001b[49m\u001b[43m)\u001b[49m\n",
      "File \u001b[1;32mc:\\Users\\nikla\\miniconda3\\envs\\bert_ma\\Lib\\site-packages\\torch\\nn\\modules\\module.py:1541\u001b[0m, in \u001b[0;36mModule._call_impl\u001b[1;34m(self, *args, **kwargs)\u001b[0m\n\u001b[0;32m   1536\u001b[0m \u001b[38;5;66;03m# If we don't have any hooks, we want to skip the rest of the logic in\u001b[39;00m\n\u001b[0;32m   1537\u001b[0m \u001b[38;5;66;03m# this function, and just call forward.\u001b[39;00m\n\u001b[0;32m   1538\u001b[0m \u001b[38;5;28;01mif\u001b[39;00m \u001b[38;5;129;01mnot\u001b[39;00m (\u001b[38;5;28mself\u001b[39m\u001b[38;5;241m.\u001b[39m_backward_hooks \u001b[38;5;129;01mor\u001b[39;00m \u001b[38;5;28mself\u001b[39m\u001b[38;5;241m.\u001b[39m_backward_pre_hooks \u001b[38;5;129;01mor\u001b[39;00m \u001b[38;5;28mself\u001b[39m\u001b[38;5;241m.\u001b[39m_forward_hooks \u001b[38;5;129;01mor\u001b[39;00m \u001b[38;5;28mself\u001b[39m\u001b[38;5;241m.\u001b[39m_forward_pre_hooks\n\u001b[0;32m   1539\u001b[0m         \u001b[38;5;129;01mor\u001b[39;00m _global_backward_pre_hooks \u001b[38;5;129;01mor\u001b[39;00m _global_backward_hooks\n\u001b[0;32m   1540\u001b[0m         \u001b[38;5;129;01mor\u001b[39;00m _global_forward_hooks \u001b[38;5;129;01mor\u001b[39;00m _global_forward_pre_hooks):\n\u001b[1;32m-> 1541\u001b[0m     \u001b[38;5;28;01mreturn\u001b[39;00m \u001b[43mforward_call\u001b[49m\u001b[43m(\u001b[49m\u001b[38;5;241;43m*\u001b[39;49m\u001b[43margs\u001b[49m\u001b[43m,\u001b[49m\u001b[43m \u001b[49m\u001b[38;5;241;43m*\u001b[39;49m\u001b[38;5;241;43m*\u001b[39;49m\u001b[43mkwargs\u001b[49m\u001b[43m)\u001b[49m\n\u001b[0;32m   1543\u001b[0m \u001b[38;5;28;01mtry\u001b[39;00m:\n\u001b[0;32m   1544\u001b[0m     result \u001b[38;5;241m=\u001b[39m \u001b[38;5;28;01mNone\u001b[39;00m\n",
      "File \u001b[1;32mc:\\Users\\nikla\\miniconda3\\envs\\bert_ma\\Lib\\site-packages\\transformers\\models\\bert\\modeling_bert.py:1141\u001b[0m, in \u001b[0;36mBertModel.forward\u001b[1;34m(self, input_ids, attention_mask, token_type_ids, position_ids, head_mask, inputs_embeds, encoder_hidden_states, encoder_attention_mask, past_key_values, use_cache, output_attentions, output_hidden_states, return_dict)\u001b[0m\n\u001b[0;32m   1134\u001b[0m \u001b[38;5;66;03m# Prepare head mask if needed\u001b[39;00m\n\u001b[0;32m   1135\u001b[0m \u001b[38;5;66;03m# 1.0 in head_mask indicate we keep the head\u001b[39;00m\n\u001b[0;32m   1136\u001b[0m \u001b[38;5;66;03m# attention_probs has shape bsz x n_heads x N x N\u001b[39;00m\n\u001b[0;32m   1137\u001b[0m \u001b[38;5;66;03m# input head_mask has shape [num_heads] or [num_hidden_layers x num_heads]\u001b[39;00m\n\u001b[0;32m   1138\u001b[0m \u001b[38;5;66;03m# and head_mask is converted to shape [num_hidden_layers x batch x num_heads x seq_length x seq_length]\u001b[39;00m\n\u001b[0;32m   1139\u001b[0m head_mask \u001b[38;5;241m=\u001b[39m \u001b[38;5;28mself\u001b[39m\u001b[38;5;241m.\u001b[39mget_head_mask(head_mask, \u001b[38;5;28mself\u001b[39m\u001b[38;5;241m.\u001b[39mconfig\u001b[38;5;241m.\u001b[39mnum_hidden_layers)\n\u001b[1;32m-> 1141\u001b[0m encoder_outputs \u001b[38;5;241m=\u001b[39m \u001b[38;5;28;43mself\u001b[39;49m\u001b[38;5;241;43m.\u001b[39;49m\u001b[43mencoder\u001b[49m\u001b[43m(\u001b[49m\n\u001b[0;32m   1142\u001b[0m \u001b[43m    \u001b[49m\u001b[43membedding_output\u001b[49m\u001b[43m,\u001b[49m\n\u001b[0;32m   1143\u001b[0m \u001b[43m    \u001b[49m\u001b[43mattention_mask\u001b[49m\u001b[38;5;241;43m=\u001b[39;49m\u001b[43mextended_attention_mask\u001b[49m\u001b[43m,\u001b[49m\n\u001b[0;32m   1144\u001b[0m \u001b[43m    \u001b[49m\u001b[43mhead_mask\u001b[49m\u001b[38;5;241;43m=\u001b[39;49m\u001b[43mhead_mask\u001b[49m\u001b[43m,\u001b[49m\n\u001b[0;32m   1145\u001b[0m \u001b[43m    \u001b[49m\u001b[43mencoder_hidden_states\u001b[49m\u001b[38;5;241;43m=\u001b[39;49m\u001b[43mencoder_hidden_states\u001b[49m\u001b[43m,\u001b[49m\n\u001b[0;32m   1146\u001b[0m \u001b[43m    \u001b[49m\u001b[43mencoder_attention_mask\u001b[49m\u001b[38;5;241;43m=\u001b[39;49m\u001b[43mencoder_extended_attention_mask\u001b[49m\u001b[43m,\u001b[49m\n\u001b[0;32m   1147\u001b[0m \u001b[43m    \u001b[49m\u001b[43mpast_key_values\u001b[49m\u001b[38;5;241;43m=\u001b[39;49m\u001b[43mpast_key_values\u001b[49m\u001b[43m,\u001b[49m\n\u001b[0;32m   1148\u001b[0m \u001b[43m    \u001b[49m\u001b[43muse_cache\u001b[49m\u001b[38;5;241;43m=\u001b[39;49m\u001b[43muse_cache\u001b[49m\u001b[43m,\u001b[49m\n\u001b[0;32m   1149\u001b[0m \u001b[43m    \u001b[49m\u001b[43moutput_attentions\u001b[49m\u001b[38;5;241;43m=\u001b[39;49m\u001b[43moutput_attentions\u001b[49m\u001b[43m,\u001b[49m\n\u001b[0;32m   1150\u001b[0m \u001b[43m    \u001b[49m\u001b[43moutput_hidden_states\u001b[49m\u001b[38;5;241;43m=\u001b[39;49m\u001b[43moutput_hidden_states\u001b[49m\u001b[43m,\u001b[49m\n\u001b[0;32m   1151\u001b[0m \u001b[43m    \u001b[49m\u001b[43mreturn_dict\u001b[49m\u001b[38;5;241;43m=\u001b[39;49m\u001b[43mreturn_dict\u001b[49m\u001b[43m,\u001b[49m\n\u001b[0;32m   1152\u001b[0m \u001b[43m\u001b[49m\u001b[43m)\u001b[49m\n\u001b[0;32m   1153\u001b[0m sequence_output \u001b[38;5;241m=\u001b[39m encoder_outputs[\u001b[38;5;241m0\u001b[39m]\n\u001b[0;32m   1154\u001b[0m pooled_output \u001b[38;5;241m=\u001b[39m \u001b[38;5;28mself\u001b[39m\u001b[38;5;241m.\u001b[39mpooler(sequence_output) \u001b[38;5;28;01mif\u001b[39;00m \u001b[38;5;28mself\u001b[39m\u001b[38;5;241m.\u001b[39mpooler \u001b[38;5;129;01mis\u001b[39;00m \u001b[38;5;129;01mnot\u001b[39;00m \u001b[38;5;28;01mNone\u001b[39;00m \u001b[38;5;28;01melse\u001b[39;00m \u001b[38;5;28;01mNone\u001b[39;00m\n",
      "File \u001b[1;32mc:\\Users\\nikla\\miniconda3\\envs\\bert_ma\\Lib\\site-packages\\torch\\nn\\modules\\module.py:1532\u001b[0m, in \u001b[0;36mModule._wrapped_call_impl\u001b[1;34m(self, *args, **kwargs)\u001b[0m\n\u001b[0;32m   1530\u001b[0m     \u001b[38;5;28;01mreturn\u001b[39;00m \u001b[38;5;28mself\u001b[39m\u001b[38;5;241m.\u001b[39m_compiled_call_impl(\u001b[38;5;241m*\u001b[39margs, \u001b[38;5;241m*\u001b[39m\u001b[38;5;241m*\u001b[39mkwargs)  \u001b[38;5;66;03m# type: ignore[misc]\u001b[39;00m\n\u001b[0;32m   1531\u001b[0m \u001b[38;5;28;01melse\u001b[39;00m:\n\u001b[1;32m-> 1532\u001b[0m     \u001b[38;5;28;01mreturn\u001b[39;00m \u001b[38;5;28;43mself\u001b[39;49m\u001b[38;5;241;43m.\u001b[39;49m\u001b[43m_call_impl\u001b[49m\u001b[43m(\u001b[49m\u001b[38;5;241;43m*\u001b[39;49m\u001b[43margs\u001b[49m\u001b[43m,\u001b[49m\u001b[43m \u001b[49m\u001b[38;5;241;43m*\u001b[39;49m\u001b[38;5;241;43m*\u001b[39;49m\u001b[43mkwargs\u001b[49m\u001b[43m)\u001b[49m\n",
      "File \u001b[1;32mc:\\Users\\nikla\\miniconda3\\envs\\bert_ma\\Lib\\site-packages\\torch\\nn\\modules\\module.py:1541\u001b[0m, in \u001b[0;36mModule._call_impl\u001b[1;34m(self, *args, **kwargs)\u001b[0m\n\u001b[0;32m   1536\u001b[0m \u001b[38;5;66;03m# If we don't have any hooks, we want to skip the rest of the logic in\u001b[39;00m\n\u001b[0;32m   1537\u001b[0m \u001b[38;5;66;03m# this function, and just call forward.\u001b[39;00m\n\u001b[0;32m   1538\u001b[0m \u001b[38;5;28;01mif\u001b[39;00m \u001b[38;5;129;01mnot\u001b[39;00m (\u001b[38;5;28mself\u001b[39m\u001b[38;5;241m.\u001b[39m_backward_hooks \u001b[38;5;129;01mor\u001b[39;00m \u001b[38;5;28mself\u001b[39m\u001b[38;5;241m.\u001b[39m_backward_pre_hooks \u001b[38;5;129;01mor\u001b[39;00m \u001b[38;5;28mself\u001b[39m\u001b[38;5;241m.\u001b[39m_forward_hooks \u001b[38;5;129;01mor\u001b[39;00m \u001b[38;5;28mself\u001b[39m\u001b[38;5;241m.\u001b[39m_forward_pre_hooks\n\u001b[0;32m   1539\u001b[0m         \u001b[38;5;129;01mor\u001b[39;00m _global_backward_pre_hooks \u001b[38;5;129;01mor\u001b[39;00m _global_backward_hooks\n\u001b[0;32m   1540\u001b[0m         \u001b[38;5;129;01mor\u001b[39;00m _global_forward_hooks \u001b[38;5;129;01mor\u001b[39;00m _global_forward_pre_hooks):\n\u001b[1;32m-> 1541\u001b[0m     \u001b[38;5;28;01mreturn\u001b[39;00m \u001b[43mforward_call\u001b[49m\u001b[43m(\u001b[49m\u001b[38;5;241;43m*\u001b[39;49m\u001b[43margs\u001b[49m\u001b[43m,\u001b[49m\u001b[43m \u001b[49m\u001b[38;5;241;43m*\u001b[39;49m\u001b[38;5;241;43m*\u001b[39;49m\u001b[43mkwargs\u001b[49m\u001b[43m)\u001b[49m\n\u001b[0;32m   1543\u001b[0m \u001b[38;5;28;01mtry\u001b[39;00m:\n\u001b[0;32m   1544\u001b[0m     result \u001b[38;5;241m=\u001b[39m \u001b[38;5;28;01mNone\u001b[39;00m\n",
      "File \u001b[1;32mc:\\Users\\nikla\\miniconda3\\envs\\bert_ma\\Lib\\site-packages\\transformers\\models\\bert\\modeling_bert.py:694\u001b[0m, in \u001b[0;36mBertEncoder.forward\u001b[1;34m(self, hidden_states, attention_mask, head_mask, encoder_hidden_states, encoder_attention_mask, past_key_values, use_cache, output_attentions, output_hidden_states, return_dict)\u001b[0m\n\u001b[0;32m    683\u001b[0m     layer_outputs \u001b[38;5;241m=\u001b[39m \u001b[38;5;28mself\u001b[39m\u001b[38;5;241m.\u001b[39m_gradient_checkpointing_func(\n\u001b[0;32m    684\u001b[0m         layer_module\u001b[38;5;241m.\u001b[39m\u001b[38;5;21m__call__\u001b[39m,\n\u001b[0;32m    685\u001b[0m         hidden_states,\n\u001b[1;32m   (...)\u001b[0m\n\u001b[0;32m    691\u001b[0m         output_attentions,\n\u001b[0;32m    692\u001b[0m     )\n\u001b[0;32m    693\u001b[0m \u001b[38;5;28;01melse\u001b[39;00m:\n\u001b[1;32m--> 694\u001b[0m     layer_outputs \u001b[38;5;241m=\u001b[39m \u001b[43mlayer_module\u001b[49m\u001b[43m(\u001b[49m\n\u001b[0;32m    695\u001b[0m \u001b[43m        \u001b[49m\u001b[43mhidden_states\u001b[49m\u001b[43m,\u001b[49m\n\u001b[0;32m    696\u001b[0m \u001b[43m        \u001b[49m\u001b[43mattention_mask\u001b[49m\u001b[43m,\u001b[49m\n\u001b[0;32m    697\u001b[0m \u001b[43m        \u001b[49m\u001b[43mlayer_head_mask\u001b[49m\u001b[43m,\u001b[49m\n\u001b[0;32m    698\u001b[0m \u001b[43m        \u001b[49m\u001b[43mencoder_hidden_states\u001b[49m\u001b[43m,\u001b[49m\n\u001b[0;32m    699\u001b[0m \u001b[43m        \u001b[49m\u001b[43mencoder_attention_mask\u001b[49m\u001b[43m,\u001b[49m\n\u001b[0;32m    700\u001b[0m \u001b[43m        \u001b[49m\u001b[43mpast_key_value\u001b[49m\u001b[43m,\u001b[49m\n\u001b[0;32m    701\u001b[0m \u001b[43m        \u001b[49m\u001b[43moutput_attentions\u001b[49m\u001b[43m,\u001b[49m\n\u001b[0;32m    702\u001b[0m \u001b[43m    \u001b[49m\u001b[43m)\u001b[49m\n\u001b[0;32m    704\u001b[0m hidden_states \u001b[38;5;241m=\u001b[39m layer_outputs[\u001b[38;5;241m0\u001b[39m]\n\u001b[0;32m    705\u001b[0m \u001b[38;5;28;01mif\u001b[39;00m use_cache:\n",
      "File \u001b[1;32mc:\\Users\\nikla\\miniconda3\\envs\\bert_ma\\Lib\\site-packages\\torch\\nn\\modules\\module.py:1532\u001b[0m, in \u001b[0;36mModule._wrapped_call_impl\u001b[1;34m(self, *args, **kwargs)\u001b[0m\n\u001b[0;32m   1530\u001b[0m     \u001b[38;5;28;01mreturn\u001b[39;00m \u001b[38;5;28mself\u001b[39m\u001b[38;5;241m.\u001b[39m_compiled_call_impl(\u001b[38;5;241m*\u001b[39margs, \u001b[38;5;241m*\u001b[39m\u001b[38;5;241m*\u001b[39mkwargs)  \u001b[38;5;66;03m# type: ignore[misc]\u001b[39;00m\n\u001b[0;32m   1531\u001b[0m \u001b[38;5;28;01melse\u001b[39;00m:\n\u001b[1;32m-> 1532\u001b[0m     \u001b[38;5;28;01mreturn\u001b[39;00m \u001b[38;5;28;43mself\u001b[39;49m\u001b[38;5;241;43m.\u001b[39;49m\u001b[43m_call_impl\u001b[49m\u001b[43m(\u001b[49m\u001b[38;5;241;43m*\u001b[39;49m\u001b[43margs\u001b[49m\u001b[43m,\u001b[49m\u001b[43m \u001b[49m\u001b[38;5;241;43m*\u001b[39;49m\u001b[38;5;241;43m*\u001b[39;49m\u001b[43mkwargs\u001b[49m\u001b[43m)\u001b[49m\n",
      "File \u001b[1;32mc:\\Users\\nikla\\miniconda3\\envs\\bert_ma\\Lib\\site-packages\\torch\\nn\\modules\\module.py:1541\u001b[0m, in \u001b[0;36mModule._call_impl\u001b[1;34m(self, *args, **kwargs)\u001b[0m\n\u001b[0;32m   1536\u001b[0m \u001b[38;5;66;03m# If we don't have any hooks, we want to skip the rest of the logic in\u001b[39;00m\n\u001b[0;32m   1537\u001b[0m \u001b[38;5;66;03m# this function, and just call forward.\u001b[39;00m\n\u001b[0;32m   1538\u001b[0m \u001b[38;5;28;01mif\u001b[39;00m \u001b[38;5;129;01mnot\u001b[39;00m (\u001b[38;5;28mself\u001b[39m\u001b[38;5;241m.\u001b[39m_backward_hooks \u001b[38;5;129;01mor\u001b[39;00m \u001b[38;5;28mself\u001b[39m\u001b[38;5;241m.\u001b[39m_backward_pre_hooks \u001b[38;5;129;01mor\u001b[39;00m \u001b[38;5;28mself\u001b[39m\u001b[38;5;241m.\u001b[39m_forward_hooks \u001b[38;5;129;01mor\u001b[39;00m \u001b[38;5;28mself\u001b[39m\u001b[38;5;241m.\u001b[39m_forward_pre_hooks\n\u001b[0;32m   1539\u001b[0m         \u001b[38;5;129;01mor\u001b[39;00m _global_backward_pre_hooks \u001b[38;5;129;01mor\u001b[39;00m _global_backward_hooks\n\u001b[0;32m   1540\u001b[0m         \u001b[38;5;129;01mor\u001b[39;00m _global_forward_hooks \u001b[38;5;129;01mor\u001b[39;00m _global_forward_pre_hooks):\n\u001b[1;32m-> 1541\u001b[0m     \u001b[38;5;28;01mreturn\u001b[39;00m \u001b[43mforward_call\u001b[49m\u001b[43m(\u001b[49m\u001b[38;5;241;43m*\u001b[39;49m\u001b[43margs\u001b[49m\u001b[43m,\u001b[49m\u001b[43m \u001b[49m\u001b[38;5;241;43m*\u001b[39;49m\u001b[38;5;241;43m*\u001b[39;49m\u001b[43mkwargs\u001b[49m\u001b[43m)\u001b[49m\n\u001b[0;32m   1543\u001b[0m \u001b[38;5;28;01mtry\u001b[39;00m:\n\u001b[0;32m   1544\u001b[0m     result \u001b[38;5;241m=\u001b[39m \u001b[38;5;28;01mNone\u001b[39;00m\n",
      "File \u001b[1;32mc:\\Users\\nikla\\miniconda3\\envs\\bert_ma\\Lib\\site-packages\\transformers\\models\\bert\\modeling_bert.py:584\u001b[0m, in \u001b[0;36mBertLayer.forward\u001b[1;34m(self, hidden_states, attention_mask, head_mask, encoder_hidden_states, encoder_attention_mask, past_key_value, output_attentions)\u001b[0m\n\u001b[0;32m    572\u001b[0m \u001b[38;5;28;01mdef\u001b[39;00m \u001b[38;5;21mforward\u001b[39m(\n\u001b[0;32m    573\u001b[0m     \u001b[38;5;28mself\u001b[39m,\n\u001b[0;32m    574\u001b[0m     hidden_states: torch\u001b[38;5;241m.\u001b[39mTensor,\n\u001b[1;32m   (...)\u001b[0m\n\u001b[0;32m    581\u001b[0m ) \u001b[38;5;241m-\u001b[39m\u001b[38;5;241m>\u001b[39m Tuple[torch\u001b[38;5;241m.\u001b[39mTensor]:\n\u001b[0;32m    582\u001b[0m     \u001b[38;5;66;03m# decoder uni-directional self-attention cached key/values tuple is at positions 1,2\u001b[39;00m\n\u001b[0;32m    583\u001b[0m     self_attn_past_key_value \u001b[38;5;241m=\u001b[39m past_key_value[:\u001b[38;5;241m2\u001b[39m] \u001b[38;5;28;01mif\u001b[39;00m past_key_value \u001b[38;5;129;01mis\u001b[39;00m \u001b[38;5;129;01mnot\u001b[39;00m \u001b[38;5;28;01mNone\u001b[39;00m \u001b[38;5;28;01melse\u001b[39;00m \u001b[38;5;28;01mNone\u001b[39;00m\n\u001b[1;32m--> 584\u001b[0m     self_attention_outputs \u001b[38;5;241m=\u001b[39m \u001b[38;5;28;43mself\u001b[39;49m\u001b[38;5;241;43m.\u001b[39;49m\u001b[43mattention\u001b[49m\u001b[43m(\u001b[49m\n\u001b[0;32m    585\u001b[0m \u001b[43m        \u001b[49m\u001b[43mhidden_states\u001b[49m\u001b[43m,\u001b[49m\n\u001b[0;32m    586\u001b[0m \u001b[43m        \u001b[49m\u001b[43mattention_mask\u001b[49m\u001b[43m,\u001b[49m\n\u001b[0;32m    587\u001b[0m \u001b[43m        \u001b[49m\u001b[43mhead_mask\u001b[49m\u001b[43m,\u001b[49m\n\u001b[0;32m    588\u001b[0m \u001b[43m        \u001b[49m\u001b[43moutput_attentions\u001b[49m\u001b[38;5;241;43m=\u001b[39;49m\u001b[43moutput_attentions\u001b[49m\u001b[43m,\u001b[49m\n\u001b[0;32m    589\u001b[0m \u001b[43m        \u001b[49m\u001b[43mpast_key_value\u001b[49m\u001b[38;5;241;43m=\u001b[39;49m\u001b[43mself_attn_past_key_value\u001b[49m\u001b[43m,\u001b[49m\n\u001b[0;32m    590\u001b[0m \u001b[43m    \u001b[49m\u001b[43m)\u001b[49m\n\u001b[0;32m    591\u001b[0m     attention_output \u001b[38;5;241m=\u001b[39m self_attention_outputs[\u001b[38;5;241m0\u001b[39m]\n\u001b[0;32m    593\u001b[0m     \u001b[38;5;66;03m# if decoder, the last output is tuple of self-attn cache\u001b[39;00m\n",
      "File \u001b[1;32mc:\\Users\\nikla\\miniconda3\\envs\\bert_ma\\Lib\\site-packages\\torch\\nn\\modules\\module.py:1532\u001b[0m, in \u001b[0;36mModule._wrapped_call_impl\u001b[1;34m(self, *args, **kwargs)\u001b[0m\n\u001b[0;32m   1530\u001b[0m     \u001b[38;5;28;01mreturn\u001b[39;00m \u001b[38;5;28mself\u001b[39m\u001b[38;5;241m.\u001b[39m_compiled_call_impl(\u001b[38;5;241m*\u001b[39margs, \u001b[38;5;241m*\u001b[39m\u001b[38;5;241m*\u001b[39mkwargs)  \u001b[38;5;66;03m# type: ignore[misc]\u001b[39;00m\n\u001b[0;32m   1531\u001b[0m \u001b[38;5;28;01melse\u001b[39;00m:\n\u001b[1;32m-> 1532\u001b[0m     \u001b[38;5;28;01mreturn\u001b[39;00m \u001b[38;5;28;43mself\u001b[39;49m\u001b[38;5;241;43m.\u001b[39;49m\u001b[43m_call_impl\u001b[49m\u001b[43m(\u001b[49m\u001b[38;5;241;43m*\u001b[39;49m\u001b[43margs\u001b[49m\u001b[43m,\u001b[49m\u001b[43m \u001b[49m\u001b[38;5;241;43m*\u001b[39;49m\u001b[38;5;241;43m*\u001b[39;49m\u001b[43mkwargs\u001b[49m\u001b[43m)\u001b[49m\n",
      "File \u001b[1;32mc:\\Users\\nikla\\miniconda3\\envs\\bert_ma\\Lib\\site-packages\\torch\\nn\\modules\\module.py:1541\u001b[0m, in \u001b[0;36mModule._call_impl\u001b[1;34m(self, *args, **kwargs)\u001b[0m\n\u001b[0;32m   1536\u001b[0m \u001b[38;5;66;03m# If we don't have any hooks, we want to skip the rest of the logic in\u001b[39;00m\n\u001b[0;32m   1537\u001b[0m \u001b[38;5;66;03m# this function, and just call forward.\u001b[39;00m\n\u001b[0;32m   1538\u001b[0m \u001b[38;5;28;01mif\u001b[39;00m \u001b[38;5;129;01mnot\u001b[39;00m (\u001b[38;5;28mself\u001b[39m\u001b[38;5;241m.\u001b[39m_backward_hooks \u001b[38;5;129;01mor\u001b[39;00m \u001b[38;5;28mself\u001b[39m\u001b[38;5;241m.\u001b[39m_backward_pre_hooks \u001b[38;5;129;01mor\u001b[39;00m \u001b[38;5;28mself\u001b[39m\u001b[38;5;241m.\u001b[39m_forward_hooks \u001b[38;5;129;01mor\u001b[39;00m \u001b[38;5;28mself\u001b[39m\u001b[38;5;241m.\u001b[39m_forward_pre_hooks\n\u001b[0;32m   1539\u001b[0m         \u001b[38;5;129;01mor\u001b[39;00m _global_backward_pre_hooks \u001b[38;5;129;01mor\u001b[39;00m _global_backward_hooks\n\u001b[0;32m   1540\u001b[0m         \u001b[38;5;129;01mor\u001b[39;00m _global_forward_hooks \u001b[38;5;129;01mor\u001b[39;00m _global_forward_pre_hooks):\n\u001b[1;32m-> 1541\u001b[0m     \u001b[38;5;28;01mreturn\u001b[39;00m \u001b[43mforward_call\u001b[49m\u001b[43m(\u001b[49m\u001b[38;5;241;43m*\u001b[39;49m\u001b[43margs\u001b[49m\u001b[43m,\u001b[49m\u001b[43m \u001b[49m\u001b[38;5;241;43m*\u001b[39;49m\u001b[38;5;241;43m*\u001b[39;49m\u001b[43mkwargs\u001b[49m\u001b[43m)\u001b[49m\n\u001b[0;32m   1543\u001b[0m \u001b[38;5;28;01mtry\u001b[39;00m:\n\u001b[0;32m   1544\u001b[0m     result \u001b[38;5;241m=\u001b[39m \u001b[38;5;28;01mNone\u001b[39;00m\n",
      "File \u001b[1;32mc:\\Users\\nikla\\miniconda3\\envs\\bert_ma\\Lib\\site-packages\\transformers\\models\\bert\\modeling_bert.py:514\u001b[0m, in \u001b[0;36mBertAttention.forward\u001b[1;34m(self, hidden_states, attention_mask, head_mask, encoder_hidden_states, encoder_attention_mask, past_key_value, output_attentions)\u001b[0m\n\u001b[0;32m    504\u001b[0m \u001b[38;5;28;01mdef\u001b[39;00m \u001b[38;5;21mforward\u001b[39m(\n\u001b[0;32m    505\u001b[0m     \u001b[38;5;28mself\u001b[39m,\n\u001b[0;32m    506\u001b[0m     hidden_states: torch\u001b[38;5;241m.\u001b[39mTensor,\n\u001b[1;32m   (...)\u001b[0m\n\u001b[0;32m    512\u001b[0m     output_attentions: Optional[\u001b[38;5;28mbool\u001b[39m] \u001b[38;5;241m=\u001b[39m \u001b[38;5;28;01mFalse\u001b[39;00m,\n\u001b[0;32m    513\u001b[0m ) \u001b[38;5;241m-\u001b[39m\u001b[38;5;241m>\u001b[39m Tuple[torch\u001b[38;5;241m.\u001b[39mTensor]:\n\u001b[1;32m--> 514\u001b[0m     self_outputs \u001b[38;5;241m=\u001b[39m \u001b[38;5;28;43mself\u001b[39;49m\u001b[38;5;241;43m.\u001b[39;49m\u001b[43mself\u001b[49m\u001b[43m(\u001b[49m\n\u001b[0;32m    515\u001b[0m \u001b[43m        \u001b[49m\u001b[43mhidden_states\u001b[49m\u001b[43m,\u001b[49m\n\u001b[0;32m    516\u001b[0m \u001b[43m        \u001b[49m\u001b[43mattention_mask\u001b[49m\u001b[43m,\u001b[49m\n\u001b[0;32m    517\u001b[0m \u001b[43m        \u001b[49m\u001b[43mhead_mask\u001b[49m\u001b[43m,\u001b[49m\n\u001b[0;32m    518\u001b[0m \u001b[43m        \u001b[49m\u001b[43mencoder_hidden_states\u001b[49m\u001b[43m,\u001b[49m\n\u001b[0;32m    519\u001b[0m \u001b[43m        \u001b[49m\u001b[43mencoder_attention_mask\u001b[49m\u001b[43m,\u001b[49m\n\u001b[0;32m    520\u001b[0m \u001b[43m        \u001b[49m\u001b[43mpast_key_value\u001b[49m\u001b[43m,\u001b[49m\n\u001b[0;32m    521\u001b[0m \u001b[43m        \u001b[49m\u001b[43moutput_attentions\u001b[49m\u001b[43m,\u001b[49m\n\u001b[0;32m    522\u001b[0m \u001b[43m    \u001b[49m\u001b[43m)\u001b[49m\n\u001b[0;32m    523\u001b[0m     attention_output \u001b[38;5;241m=\u001b[39m \u001b[38;5;28mself\u001b[39m\u001b[38;5;241m.\u001b[39moutput(self_outputs[\u001b[38;5;241m0\u001b[39m], hidden_states)\n\u001b[0;32m    524\u001b[0m     outputs \u001b[38;5;241m=\u001b[39m (attention_output,) \u001b[38;5;241m+\u001b[39m self_outputs[\u001b[38;5;241m1\u001b[39m:]  \u001b[38;5;66;03m# add attentions if we output them\u001b[39;00m\n",
      "File \u001b[1;32mc:\\Users\\nikla\\miniconda3\\envs\\bert_ma\\Lib\\site-packages\\torch\\nn\\modules\\module.py:1532\u001b[0m, in \u001b[0;36mModule._wrapped_call_impl\u001b[1;34m(self, *args, **kwargs)\u001b[0m\n\u001b[0;32m   1530\u001b[0m     \u001b[38;5;28;01mreturn\u001b[39;00m \u001b[38;5;28mself\u001b[39m\u001b[38;5;241m.\u001b[39m_compiled_call_impl(\u001b[38;5;241m*\u001b[39margs, \u001b[38;5;241m*\u001b[39m\u001b[38;5;241m*\u001b[39mkwargs)  \u001b[38;5;66;03m# type: ignore[misc]\u001b[39;00m\n\u001b[0;32m   1531\u001b[0m \u001b[38;5;28;01melse\u001b[39;00m:\n\u001b[1;32m-> 1532\u001b[0m     \u001b[38;5;28;01mreturn\u001b[39;00m \u001b[38;5;28;43mself\u001b[39;49m\u001b[38;5;241;43m.\u001b[39;49m\u001b[43m_call_impl\u001b[49m\u001b[43m(\u001b[49m\u001b[38;5;241;43m*\u001b[39;49m\u001b[43margs\u001b[49m\u001b[43m,\u001b[49m\u001b[43m \u001b[49m\u001b[38;5;241;43m*\u001b[39;49m\u001b[38;5;241;43m*\u001b[39;49m\u001b[43mkwargs\u001b[49m\u001b[43m)\u001b[49m\n",
      "File \u001b[1;32mc:\\Users\\nikla\\miniconda3\\envs\\bert_ma\\Lib\\site-packages\\torch\\nn\\modules\\module.py:1541\u001b[0m, in \u001b[0;36mModule._call_impl\u001b[1;34m(self, *args, **kwargs)\u001b[0m\n\u001b[0;32m   1536\u001b[0m \u001b[38;5;66;03m# If we don't have any hooks, we want to skip the rest of the logic in\u001b[39;00m\n\u001b[0;32m   1537\u001b[0m \u001b[38;5;66;03m# this function, and just call forward.\u001b[39;00m\n\u001b[0;32m   1538\u001b[0m \u001b[38;5;28;01mif\u001b[39;00m \u001b[38;5;129;01mnot\u001b[39;00m (\u001b[38;5;28mself\u001b[39m\u001b[38;5;241m.\u001b[39m_backward_hooks \u001b[38;5;129;01mor\u001b[39;00m \u001b[38;5;28mself\u001b[39m\u001b[38;5;241m.\u001b[39m_backward_pre_hooks \u001b[38;5;129;01mor\u001b[39;00m \u001b[38;5;28mself\u001b[39m\u001b[38;5;241m.\u001b[39m_forward_hooks \u001b[38;5;129;01mor\u001b[39;00m \u001b[38;5;28mself\u001b[39m\u001b[38;5;241m.\u001b[39m_forward_pre_hooks\n\u001b[0;32m   1539\u001b[0m         \u001b[38;5;129;01mor\u001b[39;00m _global_backward_pre_hooks \u001b[38;5;129;01mor\u001b[39;00m _global_backward_hooks\n\u001b[0;32m   1540\u001b[0m         \u001b[38;5;129;01mor\u001b[39;00m _global_forward_hooks \u001b[38;5;129;01mor\u001b[39;00m _global_forward_pre_hooks):\n\u001b[1;32m-> 1541\u001b[0m     \u001b[38;5;28;01mreturn\u001b[39;00m \u001b[43mforward_call\u001b[49m\u001b[43m(\u001b[49m\u001b[38;5;241;43m*\u001b[39;49m\u001b[43margs\u001b[49m\u001b[43m,\u001b[49m\u001b[43m \u001b[49m\u001b[38;5;241;43m*\u001b[39;49m\u001b[38;5;241;43m*\u001b[39;49m\u001b[43mkwargs\u001b[49m\u001b[43m)\u001b[49m\n\u001b[0;32m   1543\u001b[0m \u001b[38;5;28;01mtry\u001b[39;00m:\n\u001b[0;32m   1544\u001b[0m     result \u001b[38;5;241m=\u001b[39m \u001b[38;5;28;01mNone\u001b[39;00m\n",
      "File \u001b[1;32mc:\\Users\\nikla\\miniconda3\\envs\\bert_ma\\Lib\\site-packages\\transformers\\models\\bert\\modeling_bert.py:408\u001b[0m, in \u001b[0;36mBertSdpaSelfAttention.forward\u001b[1;34m(self, hidden_states, attention_mask, head_mask, encoder_hidden_states, encoder_attention_mask, past_key_value, output_attentions)\u001b[0m\n\u001b[0;32m    406\u001b[0m \u001b[38;5;28;01melse\u001b[39;00m:\n\u001b[0;32m    407\u001b[0m     key_layer \u001b[38;5;241m=\u001b[39m \u001b[38;5;28mself\u001b[39m\u001b[38;5;241m.\u001b[39mtranspose_for_scores(\u001b[38;5;28mself\u001b[39m\u001b[38;5;241m.\u001b[39mkey(current_states))\n\u001b[1;32m--> 408\u001b[0m     value_layer \u001b[38;5;241m=\u001b[39m \u001b[38;5;28mself\u001b[39m\u001b[38;5;241m.\u001b[39mtranspose_for_scores(\u001b[38;5;28;43mself\u001b[39;49m\u001b[38;5;241;43m.\u001b[39;49m\u001b[43mvalue\u001b[49m\u001b[43m(\u001b[49m\u001b[43mcurrent_states\u001b[49m\u001b[43m)\u001b[49m)\n\u001b[0;32m    409\u001b[0m     \u001b[38;5;28;01mif\u001b[39;00m past_key_value \u001b[38;5;129;01mis\u001b[39;00m \u001b[38;5;129;01mnot\u001b[39;00m \u001b[38;5;28;01mNone\u001b[39;00m \u001b[38;5;129;01mand\u001b[39;00m \u001b[38;5;129;01mnot\u001b[39;00m is_cross_attention:\n\u001b[0;32m    410\u001b[0m         key_layer \u001b[38;5;241m=\u001b[39m torch\u001b[38;5;241m.\u001b[39mcat([past_key_value[\u001b[38;5;241m0\u001b[39m], key_layer], dim\u001b[38;5;241m=\u001b[39m\u001b[38;5;241m2\u001b[39m)\n",
      "File \u001b[1;32mc:\\Users\\nikla\\miniconda3\\envs\\bert_ma\\Lib\\site-packages\\torch\\nn\\modules\\module.py:1532\u001b[0m, in \u001b[0;36mModule._wrapped_call_impl\u001b[1;34m(self, *args, **kwargs)\u001b[0m\n\u001b[0;32m   1530\u001b[0m     \u001b[38;5;28;01mreturn\u001b[39;00m \u001b[38;5;28mself\u001b[39m\u001b[38;5;241m.\u001b[39m_compiled_call_impl(\u001b[38;5;241m*\u001b[39margs, \u001b[38;5;241m*\u001b[39m\u001b[38;5;241m*\u001b[39mkwargs)  \u001b[38;5;66;03m# type: ignore[misc]\u001b[39;00m\n\u001b[0;32m   1531\u001b[0m \u001b[38;5;28;01melse\u001b[39;00m:\n\u001b[1;32m-> 1532\u001b[0m     \u001b[38;5;28;01mreturn\u001b[39;00m \u001b[38;5;28;43mself\u001b[39;49m\u001b[38;5;241;43m.\u001b[39;49m\u001b[43m_call_impl\u001b[49m\u001b[43m(\u001b[49m\u001b[38;5;241;43m*\u001b[39;49m\u001b[43margs\u001b[49m\u001b[43m,\u001b[49m\u001b[43m \u001b[49m\u001b[38;5;241;43m*\u001b[39;49m\u001b[38;5;241;43m*\u001b[39;49m\u001b[43mkwargs\u001b[49m\u001b[43m)\u001b[49m\n",
      "File \u001b[1;32mc:\\Users\\nikla\\miniconda3\\envs\\bert_ma\\Lib\\site-packages\\torch\\nn\\modules\\module.py:1541\u001b[0m, in \u001b[0;36mModule._call_impl\u001b[1;34m(self, *args, **kwargs)\u001b[0m\n\u001b[0;32m   1536\u001b[0m \u001b[38;5;66;03m# If we don't have any hooks, we want to skip the rest of the logic in\u001b[39;00m\n\u001b[0;32m   1537\u001b[0m \u001b[38;5;66;03m# this function, and just call forward.\u001b[39;00m\n\u001b[0;32m   1538\u001b[0m \u001b[38;5;28;01mif\u001b[39;00m \u001b[38;5;129;01mnot\u001b[39;00m (\u001b[38;5;28mself\u001b[39m\u001b[38;5;241m.\u001b[39m_backward_hooks \u001b[38;5;129;01mor\u001b[39;00m \u001b[38;5;28mself\u001b[39m\u001b[38;5;241m.\u001b[39m_backward_pre_hooks \u001b[38;5;129;01mor\u001b[39;00m \u001b[38;5;28mself\u001b[39m\u001b[38;5;241m.\u001b[39m_forward_hooks \u001b[38;5;129;01mor\u001b[39;00m \u001b[38;5;28mself\u001b[39m\u001b[38;5;241m.\u001b[39m_forward_pre_hooks\n\u001b[0;32m   1539\u001b[0m         \u001b[38;5;129;01mor\u001b[39;00m _global_backward_pre_hooks \u001b[38;5;129;01mor\u001b[39;00m _global_backward_hooks\n\u001b[0;32m   1540\u001b[0m         \u001b[38;5;129;01mor\u001b[39;00m _global_forward_hooks \u001b[38;5;129;01mor\u001b[39;00m _global_forward_pre_hooks):\n\u001b[1;32m-> 1541\u001b[0m     \u001b[38;5;28;01mreturn\u001b[39;00m \u001b[43mforward_call\u001b[49m\u001b[43m(\u001b[49m\u001b[38;5;241;43m*\u001b[39;49m\u001b[43margs\u001b[49m\u001b[43m,\u001b[49m\u001b[43m \u001b[49m\u001b[38;5;241;43m*\u001b[39;49m\u001b[38;5;241;43m*\u001b[39;49m\u001b[43mkwargs\u001b[49m\u001b[43m)\u001b[49m\n\u001b[0;32m   1543\u001b[0m \u001b[38;5;28;01mtry\u001b[39;00m:\n\u001b[0;32m   1544\u001b[0m     result \u001b[38;5;241m=\u001b[39m \u001b[38;5;28;01mNone\u001b[39;00m\n",
      "File \u001b[1;32mc:\\Users\\nikla\\miniconda3\\envs\\bert_ma\\Lib\\site-packages\\torch\\nn\\modules\\linear.py:116\u001b[0m, in \u001b[0;36mLinear.forward\u001b[1;34m(self, input)\u001b[0m\n\u001b[0;32m    115\u001b[0m \u001b[38;5;28;01mdef\u001b[39;00m \u001b[38;5;21mforward\u001b[39m(\u001b[38;5;28mself\u001b[39m, \u001b[38;5;28minput\u001b[39m: Tensor) \u001b[38;5;241m-\u001b[39m\u001b[38;5;241m>\u001b[39m Tensor:\n\u001b[1;32m--> 116\u001b[0m     \u001b[38;5;28;01mreturn\u001b[39;00m \u001b[43mF\u001b[49m\u001b[38;5;241;43m.\u001b[39;49m\u001b[43mlinear\u001b[49m\u001b[43m(\u001b[49m\u001b[38;5;28;43minput\u001b[39;49m\u001b[43m,\u001b[49m\u001b[43m \u001b[49m\u001b[38;5;28;43mself\u001b[39;49m\u001b[38;5;241;43m.\u001b[39;49m\u001b[43mweight\u001b[49m\u001b[43m,\u001b[49m\u001b[43m \u001b[49m\u001b[38;5;28;43mself\u001b[39;49m\u001b[38;5;241;43m.\u001b[39;49m\u001b[43mbias\u001b[49m\u001b[43m)\u001b[49m\n",
      "\u001b[1;31mKeyboardInterrupt\u001b[0m: "
     ]
    }
   ],
   "source": [
    "topics, probs = topic_model.fit_transform(all_relevant_sections)"
   ]
  },
  {
   "cell_type": "code",
   "execution_count": 57,
   "metadata": {},
   "outputs": [
    {
     "data": {
      "application/vnd.plotly.v1+json": {
       "config": {
        "plotlyServerURL": "https://plot.ly"
       },
       "data": [
        {
         "customdata": [
          [
           0,
           "the | in | to | of | we",
           2895
          ],
          [
           1,
           "then | will | ll | results | call",
           71
          ],
          [
           2,
           "camp | inc | ceo | ken | president",
           51
          ],
          [
           3,
           "corporation | smurfit | stone | container | haudrich",
           47
          ],
          [
           4,
           "corporation | container | stone | smurfit | president",
           39
          ],
          [
           5,
           "conference | ladies | gentlemen | conduct | mode",
           33
          ],
          [
           6,
           "replay | internationally | midnight | eastern | dialing",
           32
          ],
          [
           7,
           "recording | any | consent | text | permitted",
           31
          ],
          [
           8,
           "director | raver | inc | ceo | joe",
           31
          ],
          [
           9,
           "statements | securities | looking | laws | harbor",
           29
          ],
          [
           10,
           "analyst | suisse | klein | bruce | deutsche",
           28
          ],
          [
           11,
           "relations | investor | go | mr | ahead",
           26
          ],
          [
           12,
           "ready | open | questions | operator | concludes",
           24
          ],
          [
           13,
           "concluding | ken | his | back | remarks",
           22
          ],
          [
           14,
           "moore | pat | ceo | stone | smurfit",
           21
          ],
          [
           15,
           "measures | gaap | non | discussing | encourage",
           21
          ],
          [
           16,
           "kristina | detail | turn | more | let",
           20
          ],
          [
           17,
           "turn | joe | call | back | ll",
           20
          ],
          [
           18,
           "statements | actual | measures | looking | forward",
           20
          ],
          [
           19,
           "moore | pat | ceo | stone | smurfit",
           20
          ],
          [
           20,
           "ceo | inc | president | corp | raver",
           20
          ],
          [
           21,
           "me | if | please | call | 812",
           19
          ],
          [
           22,
           "turn | now | chuck | review | over",
           19
          ],
          [
           23,
           "corporation | moore | chairman | ceo | container",
           18
          ],
          [
           24,
           "officer | chief | lucchese | president | camp",
           18
          ],
          [
           25,
           "ken | call | prepared | will | cindy",
           18
          ],
          [
           26,
           "operator | unidentified | 119 | representative | 125",
           17
          ],
          [
           27,
           "ready | open | joined | session | kim",
           17
          ],
          [
           28,
           "recording | or | any | replay | be",
           17
          ],
          [
           29,
           "cfo | lucchese | inc | cindy | svp",
           17
          ],
          [
           30,
           "joined | call | joining | morning | cerniglia",
           16
          ],
          [
           31,
           "warburg | ubs | analyst | hoffman | bill",
           16
          ],
          [
           32,
           "cindy | lucchese | cfo | turn | now",
           16
          ],
          [
           33,
           "morning | good | thank | tim | you",
           16
          ],
          [
           34,
           "morning | chief | officer | controller | president",
           15
          ],
          [
           35,
           "thank | great | much | thanks | right",
           14
          ],
          [
           36,
           "hinrichs | cfo | chuck | stone | smurfit",
           14
          ],
          [
           37,
           "svp | cfo | inc | cerniglia | lucchese",
           14
          ],
          [
           38,
           "your | participation | happy | questions | take",
           14
          ],
          [
           39,
           "raver | mr | pleasure | executive | my",
           14
          ],
          [
           40,
           "ken | camp | pleasure | my | turn",
           14
          ],
          [
           41,
           "ir | gordon | chris | inc | director",
           13
          ],
          [
           42,
           "vp | lanning | ir | mark | inc",
           13
          ],
          [
           43,
           "thank | chuck | thanks | you | ken",
           13
          ],
          [
           44,
           "uncertainties | risks | statements | seasonality | contains",
           13
          ],
          [
           45,
           "chairman | corporation | moore | container | amp",
           12
          ],
          [
           46,
           "comes | question | next | from | please",
           11
          ],
          [
           47,
           "concluding | his | back | remarks | joe",
           11
          ],
          [
           48,
           "questions | considerations | refrain | question | legal",
           11
          ]
         ],
         "hovertemplate": "<b>Topic %{customdata[0]}</b><br>%{customdata[1]}<br>Size: %{customdata[2]}",
         "legendgroup": "",
         "marker": {
          "color": "#B0BEC5",
          "line": {
           "color": "DarkSlateGrey",
           "width": 2
          },
          "size": [
           2895,
           71,
           51,
           47,
           39,
           33,
           32,
           31,
           31,
           29,
           28,
           26,
           24,
           22,
           21,
           21,
           20,
           20,
           20,
           20,
           20,
           19,
           19,
           18,
           18,
           18,
           17,
           17,
           17,
           17,
           16,
           16,
           16,
           16,
           15,
           14,
           14,
           14,
           14,
           14,
           14,
           13,
           13,
           13,
           13,
           12,
           11,
           11,
           11
          ],
          "sizemode": "area",
          "sizeref": 1.809375,
          "symbol": "circle"
         },
         "mode": "markers",
         "name": "",
         "orientation": "v",
         "showlegend": false,
         "type": "scatter",
         "x": [
          9.05030345916748,
          8.960424423217773,
          -2.6853086948394775,
          20.952028274536133,
          20.486995697021484,
          1.455647349357605,
          -3.38763165473938,
          -3.184345245361328,
          20.00659942626953,
          -3.4813473224639893,
          16.037010192871094,
          1.4839824438095093,
          8.084993362426758,
          -1.863089680671692,
          1.980912446975708,
          -3.2572946548461914,
          -14.303418159484863,
          -1.8697926998138428,
          -3.3438355922698975,
          14.696617126464844,
          20.12525749206543,
          9.206564903259277,
          -14.30345630645752,
          14.659628868103027,
          0.23328374326229095,
          9.024154663085938,
          15.935348510742188,
          8.644683837890625,
          -3.3693249225616455,
          -2.6806910037994385,
          0.28531622886657715,
          15.860636711120605,
          0.26156675815582275,
          -8.366249084472656,
          0.04586920514702797,
          7.700741767883301,
          1.980928897857666,
          4.835174083709717,
          7.812094688415527,
          1.3621230125427246,
          0.16556568443775177,
          20.723068237304688,
          4.9118971824646,
          -8.301738739013672,
          -3.5955560207366943,
          14.569350242614746,
          8.768891334533691,
          -1.9190250635147095,
          8.556306838989258
         ],
         "xaxis": "x",
         "y": [
          6.927997589111328,
          7.014743804931641,
          19.11899757385254,
          -0.3027454912662506,
          0.16317923367023468,
          -1.335868239402771,
          -10.505846977233887,
          -10.299029350280762,
          0.6441379189491272,
          -0.2689339816570282,
          -7.6159539222717285,
          -1.3072876930236816,
          7.452147483825684,
          5.756472587585449,
          18.82363510131836,
          -0.4924880564212799,
          -5.085676193237305,
          5.777049541473389,
          -0.40652939677238464,
          5.938822269439697,
          0.5254861116409302,
          7.399045944213867,
          -5.08567476272583,
          5.9760308265686035,
          -6.233707427978516,
          7.162198066711426,
          -7.514204502105713,
          7.555466175079346,
          -10.486933708190918,
          19.11886215209961,
          -6.181755542755127,
          -7.439283847808838,
          11.444180488586426,
          5.866185665130615,
          -6.420978546142578,
          7.078108787536621,
          18.82364273071289,
          -6.267385959625244,
          7.2221808433532715,
          -1.4288440942764282,
          11.540492057800293,
          -0.07345348596572876,
          -6.202648162841797,
          5.801973342895508,
          -0.15475398302078247,
          6.066271781921387,
          7.7265849113464355,
          5.818821907043457,
          7.812098979949951
         ],
         "yaxis": "y"
        }
       ],
       "layout": {
        "annotations": [
         {
          "showarrow": false,
          "text": "D1",
          "x": -16.448974752426146,
          "y": 4.952561593055726,
          "yshift": 10
         },
         {
          "showarrow": false,
          "text": "D2",
          "x": 3.822928881645204,
          "xshift": 10,
          "y": 21.98684720993042
         }
        ],
        "height": 650,
        "hoverlabel": {
         "bgcolor": "white",
         "font": {
          "family": "Rockwell",
          "size": 16
         }
        },
        "legend": {
         "itemsizing": "constant",
         "tracegroupgap": 0
        },
        "margin": {
         "t": 60
        },
        "shapes": [
         {
          "line": {
           "color": "#CFD8DC",
           "width": 2
          },
          "type": "line",
          "x0": 3.822928881645204,
          "x1": 3.822928881645204,
          "y0": -12.08172402381897,
          "y1": 21.98684720993042
         },
         {
          "line": {
           "color": "#9E9E9E",
           "width": 2
          },
          "type": "line",
          "x0": -16.448974752426146,
          "x1": 24.094832515716554,
          "y0": 4.952561593055726,
          "y1": 4.952561593055726
         }
        ],
        "sliders": [
         {
          "active": 0,
          "pad": {
           "t": 50
          },
          "steps": [
           {
            "args": [
             {
              "marker.color": [
               [
                "red",
                "#B0BEC5",
                "#B0BEC5",
                "#B0BEC5",
                "#B0BEC5",
                "#B0BEC5",
                "#B0BEC5",
                "#B0BEC5",
                "#B0BEC5",
                "#B0BEC5",
                "#B0BEC5",
                "#B0BEC5",
                "#B0BEC5",
                "#B0BEC5",
                "#B0BEC5",
                "#B0BEC5",
                "#B0BEC5",
                "#B0BEC5",
                "#B0BEC5",
                "#B0BEC5",
                "#B0BEC5",
                "#B0BEC5",
                "#B0BEC5",
                "#B0BEC5",
                "#B0BEC5",
                "#B0BEC5",
                "#B0BEC5",
                "#B0BEC5",
                "#B0BEC5",
                "#B0BEC5",
                "#B0BEC5",
                "#B0BEC5",
                "#B0BEC5",
                "#B0BEC5",
                "#B0BEC5",
                "#B0BEC5",
                "#B0BEC5",
                "#B0BEC5",
                "#B0BEC5",
                "#B0BEC5",
                "#B0BEC5",
                "#B0BEC5",
                "#B0BEC5",
                "#B0BEC5",
                "#B0BEC5",
                "#B0BEC5",
                "#B0BEC5",
                "#B0BEC5",
                "#B0BEC5"
               ]
              ]
             }
            ],
            "label": "Topic 0",
            "method": "update"
           },
           {
            "args": [
             {
              "marker.color": [
               [
                "#B0BEC5",
                "red",
                "#B0BEC5",
                "#B0BEC5",
                "#B0BEC5",
                "#B0BEC5",
                "#B0BEC5",
                "#B0BEC5",
                "#B0BEC5",
                "#B0BEC5",
                "#B0BEC5",
                "#B0BEC5",
                "#B0BEC5",
                "#B0BEC5",
                "#B0BEC5",
                "#B0BEC5",
                "#B0BEC5",
                "#B0BEC5",
                "#B0BEC5",
                "#B0BEC5",
                "#B0BEC5",
                "#B0BEC5",
                "#B0BEC5",
                "#B0BEC5",
                "#B0BEC5",
                "#B0BEC5",
                "#B0BEC5",
                "#B0BEC5",
                "#B0BEC5",
                "#B0BEC5",
                "#B0BEC5",
                "#B0BEC5",
                "#B0BEC5",
                "#B0BEC5",
                "#B0BEC5",
                "#B0BEC5",
                "#B0BEC5",
                "#B0BEC5",
                "#B0BEC5",
                "#B0BEC5",
                "#B0BEC5",
                "#B0BEC5",
                "#B0BEC5",
                "#B0BEC5",
                "#B0BEC5",
                "#B0BEC5",
                "#B0BEC5",
                "#B0BEC5",
                "#B0BEC5"
               ]
              ]
             }
            ],
            "label": "Topic 1",
            "method": "update"
           },
           {
            "args": [
             {
              "marker.color": [
               [
                "#B0BEC5",
                "#B0BEC5",
                "red",
                "#B0BEC5",
                "#B0BEC5",
                "#B0BEC5",
                "#B0BEC5",
                "#B0BEC5",
                "#B0BEC5",
                "#B0BEC5",
                "#B0BEC5",
                "#B0BEC5",
                "#B0BEC5",
                "#B0BEC5",
                "#B0BEC5",
                "#B0BEC5",
                "#B0BEC5",
                "#B0BEC5",
                "#B0BEC5",
                "#B0BEC5",
                "#B0BEC5",
                "#B0BEC5",
                "#B0BEC5",
                "#B0BEC5",
                "#B0BEC5",
                "#B0BEC5",
                "#B0BEC5",
                "#B0BEC5",
                "#B0BEC5",
                "#B0BEC5",
                "#B0BEC5",
                "#B0BEC5",
                "#B0BEC5",
                "#B0BEC5",
                "#B0BEC5",
                "#B0BEC5",
                "#B0BEC5",
                "#B0BEC5",
                "#B0BEC5",
                "#B0BEC5",
                "#B0BEC5",
                "#B0BEC5",
                "#B0BEC5",
                "#B0BEC5",
                "#B0BEC5",
                "#B0BEC5",
                "#B0BEC5",
                "#B0BEC5",
                "#B0BEC5"
               ]
              ]
             }
            ],
            "label": "Topic 2",
            "method": "update"
           },
           {
            "args": [
             {
              "marker.color": [
               [
                "#B0BEC5",
                "#B0BEC5",
                "#B0BEC5",
                "red",
                "#B0BEC5",
                "#B0BEC5",
                "#B0BEC5",
                "#B0BEC5",
                "#B0BEC5",
                "#B0BEC5",
                "#B0BEC5",
                "#B0BEC5",
                "#B0BEC5",
                "#B0BEC5",
                "#B0BEC5",
                "#B0BEC5",
                "#B0BEC5",
                "#B0BEC5",
                "#B0BEC5",
                "#B0BEC5",
                "#B0BEC5",
                "#B0BEC5",
                "#B0BEC5",
                "#B0BEC5",
                "#B0BEC5",
                "#B0BEC5",
                "#B0BEC5",
                "#B0BEC5",
                "#B0BEC5",
                "#B0BEC5",
                "#B0BEC5",
                "#B0BEC5",
                "#B0BEC5",
                "#B0BEC5",
                "#B0BEC5",
                "#B0BEC5",
                "#B0BEC5",
                "#B0BEC5",
                "#B0BEC5",
                "#B0BEC5",
                "#B0BEC5",
                "#B0BEC5",
                "#B0BEC5",
                "#B0BEC5",
                "#B0BEC5",
                "#B0BEC5",
                "#B0BEC5",
                "#B0BEC5",
                "#B0BEC5"
               ]
              ]
             }
            ],
            "label": "Topic 3",
            "method": "update"
           },
           {
            "args": [
             {
              "marker.color": [
               [
                "#B0BEC5",
                "#B0BEC5",
                "#B0BEC5",
                "#B0BEC5",
                "red",
                "#B0BEC5",
                "#B0BEC5",
                "#B0BEC5",
                "#B0BEC5",
                "#B0BEC5",
                "#B0BEC5",
                "#B0BEC5",
                "#B0BEC5",
                "#B0BEC5",
                "#B0BEC5",
                "#B0BEC5",
                "#B0BEC5",
                "#B0BEC5",
                "#B0BEC5",
                "#B0BEC5",
                "#B0BEC5",
                "#B0BEC5",
                "#B0BEC5",
                "#B0BEC5",
                "#B0BEC5",
                "#B0BEC5",
                "#B0BEC5",
                "#B0BEC5",
                "#B0BEC5",
                "#B0BEC5",
                "#B0BEC5",
                "#B0BEC5",
                "#B0BEC5",
                "#B0BEC5",
                "#B0BEC5",
                "#B0BEC5",
                "#B0BEC5",
                "#B0BEC5",
                "#B0BEC5",
                "#B0BEC5",
                "#B0BEC5",
                "#B0BEC5",
                "#B0BEC5",
                "#B0BEC5",
                "#B0BEC5",
                "#B0BEC5",
                "#B0BEC5",
                "#B0BEC5",
                "#B0BEC5"
               ]
              ]
             }
            ],
            "label": "Topic 4",
            "method": "update"
           },
           {
            "args": [
             {
              "marker.color": [
               [
                "#B0BEC5",
                "#B0BEC5",
                "#B0BEC5",
                "#B0BEC5",
                "#B0BEC5",
                "red",
                "#B0BEC5",
                "#B0BEC5",
                "#B0BEC5",
                "#B0BEC5",
                "#B0BEC5",
                "#B0BEC5",
                "#B0BEC5",
                "#B0BEC5",
                "#B0BEC5",
                "#B0BEC5",
                "#B0BEC5",
                "#B0BEC5",
                "#B0BEC5",
                "#B0BEC5",
                "#B0BEC5",
                "#B0BEC5",
                "#B0BEC5",
                "#B0BEC5",
                "#B0BEC5",
                "#B0BEC5",
                "#B0BEC5",
                "#B0BEC5",
                "#B0BEC5",
                "#B0BEC5",
                "#B0BEC5",
                "#B0BEC5",
                "#B0BEC5",
                "#B0BEC5",
                "#B0BEC5",
                "#B0BEC5",
                "#B0BEC5",
                "#B0BEC5",
                "#B0BEC5",
                "#B0BEC5",
                "#B0BEC5",
                "#B0BEC5",
                "#B0BEC5",
                "#B0BEC5",
                "#B0BEC5",
                "#B0BEC5",
                "#B0BEC5",
                "#B0BEC5",
                "#B0BEC5"
               ]
              ]
             }
            ],
            "label": "Topic 5",
            "method": "update"
           },
           {
            "args": [
             {
              "marker.color": [
               [
                "#B0BEC5",
                "#B0BEC5",
                "#B0BEC5",
                "#B0BEC5",
                "#B0BEC5",
                "#B0BEC5",
                "red",
                "#B0BEC5",
                "#B0BEC5",
                "#B0BEC5",
                "#B0BEC5",
                "#B0BEC5",
                "#B0BEC5",
                "#B0BEC5",
                "#B0BEC5",
                "#B0BEC5",
                "#B0BEC5",
                "#B0BEC5",
                "#B0BEC5",
                "#B0BEC5",
                "#B0BEC5",
                "#B0BEC5",
                "#B0BEC5",
                "#B0BEC5",
                "#B0BEC5",
                "#B0BEC5",
                "#B0BEC5",
                "#B0BEC5",
                "#B0BEC5",
                "#B0BEC5",
                "#B0BEC5",
                "#B0BEC5",
                "#B0BEC5",
                "#B0BEC5",
                "#B0BEC5",
                "#B0BEC5",
                "#B0BEC5",
                "#B0BEC5",
                "#B0BEC5",
                "#B0BEC5",
                "#B0BEC5",
                "#B0BEC5",
                "#B0BEC5",
                "#B0BEC5",
                "#B0BEC5",
                "#B0BEC5",
                "#B0BEC5",
                "#B0BEC5",
                "#B0BEC5"
               ]
              ]
             }
            ],
            "label": "Topic 6",
            "method": "update"
           },
           {
            "args": [
             {
              "marker.color": [
               [
                "#B0BEC5",
                "#B0BEC5",
                "#B0BEC5",
                "#B0BEC5",
                "#B0BEC5",
                "#B0BEC5",
                "#B0BEC5",
                "red",
                "#B0BEC5",
                "#B0BEC5",
                "#B0BEC5",
                "#B0BEC5",
                "#B0BEC5",
                "#B0BEC5",
                "#B0BEC5",
                "#B0BEC5",
                "#B0BEC5",
                "#B0BEC5",
                "#B0BEC5",
                "#B0BEC5",
                "#B0BEC5",
                "#B0BEC5",
                "#B0BEC5",
                "#B0BEC5",
                "#B0BEC5",
                "#B0BEC5",
                "#B0BEC5",
                "#B0BEC5",
                "#B0BEC5",
                "#B0BEC5",
                "#B0BEC5",
                "#B0BEC5",
                "#B0BEC5",
                "#B0BEC5",
                "#B0BEC5",
                "#B0BEC5",
                "#B0BEC5",
                "#B0BEC5",
                "#B0BEC5",
                "#B0BEC5",
                "#B0BEC5",
                "#B0BEC5",
                "#B0BEC5",
                "#B0BEC5",
                "#B0BEC5",
                "#B0BEC5",
                "#B0BEC5",
                "#B0BEC5",
                "#B0BEC5"
               ]
              ]
             }
            ],
            "label": "Topic 7",
            "method": "update"
           },
           {
            "args": [
             {
              "marker.color": [
               [
                "#B0BEC5",
                "#B0BEC5",
                "#B0BEC5",
                "#B0BEC5",
                "#B0BEC5",
                "#B0BEC5",
                "#B0BEC5",
                "#B0BEC5",
                "red",
                "#B0BEC5",
                "#B0BEC5",
                "#B0BEC5",
                "#B0BEC5",
                "#B0BEC5",
                "#B0BEC5",
                "#B0BEC5",
                "#B0BEC5",
                "#B0BEC5",
                "#B0BEC5",
                "#B0BEC5",
                "#B0BEC5",
                "#B0BEC5",
                "#B0BEC5",
                "#B0BEC5",
                "#B0BEC5",
                "#B0BEC5",
                "#B0BEC5",
                "#B0BEC5",
                "#B0BEC5",
                "#B0BEC5",
                "#B0BEC5",
                "#B0BEC5",
                "#B0BEC5",
                "#B0BEC5",
                "#B0BEC5",
                "#B0BEC5",
                "#B0BEC5",
                "#B0BEC5",
                "#B0BEC5",
                "#B0BEC5",
                "#B0BEC5",
                "#B0BEC5",
                "#B0BEC5",
                "#B0BEC5",
                "#B0BEC5",
                "#B0BEC5",
                "#B0BEC5",
                "#B0BEC5",
                "#B0BEC5"
               ]
              ]
             }
            ],
            "label": "Topic 8",
            "method": "update"
           },
           {
            "args": [
             {
              "marker.color": [
               [
                "#B0BEC5",
                "#B0BEC5",
                "#B0BEC5",
                "#B0BEC5",
                "#B0BEC5",
                "#B0BEC5",
                "#B0BEC5",
                "#B0BEC5",
                "#B0BEC5",
                "red",
                "#B0BEC5",
                "#B0BEC5",
                "#B0BEC5",
                "#B0BEC5",
                "#B0BEC5",
                "#B0BEC5",
                "#B0BEC5",
                "#B0BEC5",
                "#B0BEC5",
                "#B0BEC5",
                "#B0BEC5",
                "#B0BEC5",
                "#B0BEC5",
                "#B0BEC5",
                "#B0BEC5",
                "#B0BEC5",
                "#B0BEC5",
                "#B0BEC5",
                "#B0BEC5",
                "#B0BEC5",
                "#B0BEC5",
                "#B0BEC5",
                "#B0BEC5",
                "#B0BEC5",
                "#B0BEC5",
                "#B0BEC5",
                "#B0BEC5",
                "#B0BEC5",
                "#B0BEC5",
                "#B0BEC5",
                "#B0BEC5",
                "#B0BEC5",
                "#B0BEC5",
                "#B0BEC5",
                "#B0BEC5",
                "#B0BEC5",
                "#B0BEC5",
                "#B0BEC5",
                "#B0BEC5"
               ]
              ]
             }
            ],
            "label": "Topic 9",
            "method": "update"
           },
           {
            "args": [
             {
              "marker.color": [
               [
                "#B0BEC5",
                "#B0BEC5",
                "#B0BEC5",
                "#B0BEC5",
                "#B0BEC5",
                "#B0BEC5",
                "#B0BEC5",
                "#B0BEC5",
                "#B0BEC5",
                "#B0BEC5",
                "red",
                "#B0BEC5",
                "#B0BEC5",
                "#B0BEC5",
                "#B0BEC5",
                "#B0BEC5",
                "#B0BEC5",
                "#B0BEC5",
                "#B0BEC5",
                "#B0BEC5",
                "#B0BEC5",
                "#B0BEC5",
                "#B0BEC5",
                "#B0BEC5",
                "#B0BEC5",
                "#B0BEC5",
                "#B0BEC5",
                "#B0BEC5",
                "#B0BEC5",
                "#B0BEC5",
                "#B0BEC5",
                "#B0BEC5",
                "#B0BEC5",
                "#B0BEC5",
                "#B0BEC5",
                "#B0BEC5",
                "#B0BEC5",
                "#B0BEC5",
                "#B0BEC5",
                "#B0BEC5",
                "#B0BEC5",
                "#B0BEC5",
                "#B0BEC5",
                "#B0BEC5",
                "#B0BEC5",
                "#B0BEC5",
                "#B0BEC5",
                "#B0BEC5",
                "#B0BEC5"
               ]
              ]
             }
            ],
            "label": "Topic 10",
            "method": "update"
           },
           {
            "args": [
             {
              "marker.color": [
               [
                "#B0BEC5",
                "#B0BEC5",
                "#B0BEC5",
                "#B0BEC5",
                "#B0BEC5",
                "#B0BEC5",
                "#B0BEC5",
                "#B0BEC5",
                "#B0BEC5",
                "#B0BEC5",
                "#B0BEC5",
                "red",
                "#B0BEC5",
                "#B0BEC5",
                "#B0BEC5",
                "#B0BEC5",
                "#B0BEC5",
                "#B0BEC5",
                "#B0BEC5",
                "#B0BEC5",
                "#B0BEC5",
                "#B0BEC5",
                "#B0BEC5",
                "#B0BEC5",
                "#B0BEC5",
                "#B0BEC5",
                "#B0BEC5",
                "#B0BEC5",
                "#B0BEC5",
                "#B0BEC5",
                "#B0BEC5",
                "#B0BEC5",
                "#B0BEC5",
                "#B0BEC5",
                "#B0BEC5",
                "#B0BEC5",
                "#B0BEC5",
                "#B0BEC5",
                "#B0BEC5",
                "#B0BEC5",
                "#B0BEC5",
                "#B0BEC5",
                "#B0BEC5",
                "#B0BEC5",
                "#B0BEC5",
                "#B0BEC5",
                "#B0BEC5",
                "#B0BEC5",
                "#B0BEC5"
               ]
              ]
             }
            ],
            "label": "Topic 11",
            "method": "update"
           },
           {
            "args": [
             {
              "marker.color": [
               [
                "#B0BEC5",
                "#B0BEC5",
                "#B0BEC5",
                "#B0BEC5",
                "#B0BEC5",
                "#B0BEC5",
                "#B0BEC5",
                "#B0BEC5",
                "#B0BEC5",
                "#B0BEC5",
                "#B0BEC5",
                "#B0BEC5",
                "red",
                "#B0BEC5",
                "#B0BEC5",
                "#B0BEC5",
                "#B0BEC5",
                "#B0BEC5",
                "#B0BEC5",
                "#B0BEC5",
                "#B0BEC5",
                "#B0BEC5",
                "#B0BEC5",
                "#B0BEC5",
                "#B0BEC5",
                "#B0BEC5",
                "#B0BEC5",
                "#B0BEC5",
                "#B0BEC5",
                "#B0BEC5",
                "#B0BEC5",
                "#B0BEC5",
                "#B0BEC5",
                "#B0BEC5",
                "#B0BEC5",
                "#B0BEC5",
                "#B0BEC5",
                "#B0BEC5",
                "#B0BEC5",
                "#B0BEC5",
                "#B0BEC5",
                "#B0BEC5",
                "#B0BEC5",
                "#B0BEC5",
                "#B0BEC5",
                "#B0BEC5",
                "#B0BEC5",
                "#B0BEC5",
                "#B0BEC5"
               ]
              ]
             }
            ],
            "label": "Topic 12",
            "method": "update"
           },
           {
            "args": [
             {
              "marker.color": [
               [
                "#B0BEC5",
                "#B0BEC5",
                "#B0BEC5",
                "#B0BEC5",
                "#B0BEC5",
                "#B0BEC5",
                "#B0BEC5",
                "#B0BEC5",
                "#B0BEC5",
                "#B0BEC5",
                "#B0BEC5",
                "#B0BEC5",
                "#B0BEC5",
                "red",
                "#B0BEC5",
                "#B0BEC5",
                "#B0BEC5",
                "#B0BEC5",
                "#B0BEC5",
                "#B0BEC5",
                "#B0BEC5",
                "#B0BEC5",
                "#B0BEC5",
                "#B0BEC5",
                "#B0BEC5",
                "#B0BEC5",
                "#B0BEC5",
                "#B0BEC5",
                "#B0BEC5",
                "#B0BEC5",
                "#B0BEC5",
                "#B0BEC5",
                "#B0BEC5",
                "#B0BEC5",
                "#B0BEC5",
                "#B0BEC5",
                "#B0BEC5",
                "#B0BEC5",
                "#B0BEC5",
                "#B0BEC5",
                "#B0BEC5",
                "#B0BEC5",
                "#B0BEC5",
                "#B0BEC5",
                "#B0BEC5",
                "#B0BEC5",
                "#B0BEC5",
                "#B0BEC5",
                "#B0BEC5"
               ]
              ]
             }
            ],
            "label": "Topic 13",
            "method": "update"
           },
           {
            "args": [
             {
              "marker.color": [
               [
                "#B0BEC5",
                "#B0BEC5",
                "#B0BEC5",
                "#B0BEC5",
                "#B0BEC5",
                "#B0BEC5",
                "#B0BEC5",
                "#B0BEC5",
                "#B0BEC5",
                "#B0BEC5",
                "#B0BEC5",
                "#B0BEC5",
                "#B0BEC5",
                "#B0BEC5",
                "red",
                "#B0BEC5",
                "#B0BEC5",
                "#B0BEC5",
                "#B0BEC5",
                "#B0BEC5",
                "#B0BEC5",
                "#B0BEC5",
                "#B0BEC5",
                "#B0BEC5",
                "#B0BEC5",
                "#B0BEC5",
                "#B0BEC5",
                "#B0BEC5",
                "#B0BEC5",
                "#B0BEC5",
                "#B0BEC5",
                "#B0BEC5",
                "#B0BEC5",
                "#B0BEC5",
                "#B0BEC5",
                "#B0BEC5",
                "#B0BEC5",
                "#B0BEC5",
                "#B0BEC5",
                "#B0BEC5",
                "#B0BEC5",
                "#B0BEC5",
                "#B0BEC5",
                "#B0BEC5",
                "#B0BEC5",
                "#B0BEC5",
                "#B0BEC5",
                "#B0BEC5",
                "#B0BEC5"
               ]
              ]
             }
            ],
            "label": "Topic 14",
            "method": "update"
           },
           {
            "args": [
             {
              "marker.color": [
               [
                "#B0BEC5",
                "#B0BEC5",
                "#B0BEC5",
                "#B0BEC5",
                "#B0BEC5",
                "#B0BEC5",
                "#B0BEC5",
                "#B0BEC5",
                "#B0BEC5",
                "#B0BEC5",
                "#B0BEC5",
                "#B0BEC5",
                "#B0BEC5",
                "#B0BEC5",
                "#B0BEC5",
                "red",
                "#B0BEC5",
                "#B0BEC5",
                "#B0BEC5",
                "#B0BEC5",
                "#B0BEC5",
                "#B0BEC5",
                "#B0BEC5",
                "#B0BEC5",
                "#B0BEC5",
                "#B0BEC5",
                "#B0BEC5",
                "#B0BEC5",
                "#B0BEC5",
                "#B0BEC5",
                "#B0BEC5",
                "#B0BEC5",
                "#B0BEC5",
                "#B0BEC5",
                "#B0BEC5",
                "#B0BEC5",
                "#B0BEC5",
                "#B0BEC5",
                "#B0BEC5",
                "#B0BEC5",
                "#B0BEC5",
                "#B0BEC5",
                "#B0BEC5",
                "#B0BEC5",
                "#B0BEC5",
                "#B0BEC5",
                "#B0BEC5",
                "#B0BEC5",
                "#B0BEC5"
               ]
              ]
             }
            ],
            "label": "Topic 15",
            "method": "update"
           },
           {
            "args": [
             {
              "marker.color": [
               [
                "#B0BEC5",
                "#B0BEC5",
                "#B0BEC5",
                "#B0BEC5",
                "#B0BEC5",
                "#B0BEC5",
                "#B0BEC5",
                "#B0BEC5",
                "#B0BEC5",
                "#B0BEC5",
                "#B0BEC5",
                "#B0BEC5",
                "#B0BEC5",
                "#B0BEC5",
                "#B0BEC5",
                "#B0BEC5",
                "red",
                "#B0BEC5",
                "#B0BEC5",
                "#B0BEC5",
                "#B0BEC5",
                "#B0BEC5",
                "#B0BEC5",
                "#B0BEC5",
                "#B0BEC5",
                "#B0BEC5",
                "#B0BEC5",
                "#B0BEC5",
                "#B0BEC5",
                "#B0BEC5",
                "#B0BEC5",
                "#B0BEC5",
                "#B0BEC5",
                "#B0BEC5",
                "#B0BEC5",
                "#B0BEC5",
                "#B0BEC5",
                "#B0BEC5",
                "#B0BEC5",
                "#B0BEC5",
                "#B0BEC5",
                "#B0BEC5",
                "#B0BEC5",
                "#B0BEC5",
                "#B0BEC5",
                "#B0BEC5",
                "#B0BEC5",
                "#B0BEC5",
                "#B0BEC5"
               ]
              ]
             }
            ],
            "label": "Topic 16",
            "method": "update"
           },
           {
            "args": [
             {
              "marker.color": [
               [
                "#B0BEC5",
                "#B0BEC5",
                "#B0BEC5",
                "#B0BEC5",
                "#B0BEC5",
                "#B0BEC5",
                "#B0BEC5",
                "#B0BEC5",
                "#B0BEC5",
                "#B0BEC5",
                "#B0BEC5",
                "#B0BEC5",
                "#B0BEC5",
                "#B0BEC5",
                "#B0BEC5",
                "#B0BEC5",
                "#B0BEC5",
                "red",
                "#B0BEC5",
                "#B0BEC5",
                "#B0BEC5",
                "#B0BEC5",
                "#B0BEC5",
                "#B0BEC5",
                "#B0BEC5",
                "#B0BEC5",
                "#B0BEC5",
                "#B0BEC5",
                "#B0BEC5",
                "#B0BEC5",
                "#B0BEC5",
                "#B0BEC5",
                "#B0BEC5",
                "#B0BEC5",
                "#B0BEC5",
                "#B0BEC5",
                "#B0BEC5",
                "#B0BEC5",
                "#B0BEC5",
                "#B0BEC5",
                "#B0BEC5",
                "#B0BEC5",
                "#B0BEC5",
                "#B0BEC5",
                "#B0BEC5",
                "#B0BEC5",
                "#B0BEC5",
                "#B0BEC5",
                "#B0BEC5"
               ]
              ]
             }
            ],
            "label": "Topic 17",
            "method": "update"
           },
           {
            "args": [
             {
              "marker.color": [
               [
                "#B0BEC5",
                "#B0BEC5",
                "#B0BEC5",
                "#B0BEC5",
                "#B0BEC5",
                "#B0BEC5",
                "#B0BEC5",
                "#B0BEC5",
                "#B0BEC5",
                "#B0BEC5",
                "#B0BEC5",
                "#B0BEC5",
                "#B0BEC5",
                "#B0BEC5",
                "#B0BEC5",
                "#B0BEC5",
                "#B0BEC5",
                "#B0BEC5",
                "red",
                "#B0BEC5",
                "#B0BEC5",
                "#B0BEC5",
                "#B0BEC5",
                "#B0BEC5",
                "#B0BEC5",
                "#B0BEC5",
                "#B0BEC5",
                "#B0BEC5",
                "#B0BEC5",
                "#B0BEC5",
                "#B0BEC5",
                "#B0BEC5",
                "#B0BEC5",
                "#B0BEC5",
                "#B0BEC5",
                "#B0BEC5",
                "#B0BEC5",
                "#B0BEC5",
                "#B0BEC5",
                "#B0BEC5",
                "#B0BEC5",
                "#B0BEC5",
                "#B0BEC5",
                "#B0BEC5",
                "#B0BEC5",
                "#B0BEC5",
                "#B0BEC5",
                "#B0BEC5",
                "#B0BEC5"
               ]
              ]
             }
            ],
            "label": "Topic 18",
            "method": "update"
           },
           {
            "args": [
             {
              "marker.color": [
               [
                "#B0BEC5",
                "#B0BEC5",
                "#B0BEC5",
                "#B0BEC5",
                "#B0BEC5",
                "#B0BEC5",
                "#B0BEC5",
                "#B0BEC5",
                "#B0BEC5",
                "#B0BEC5",
                "#B0BEC5",
                "#B0BEC5",
                "#B0BEC5",
                "#B0BEC5",
                "#B0BEC5",
                "#B0BEC5",
                "#B0BEC5",
                "#B0BEC5",
                "#B0BEC5",
                "red",
                "#B0BEC5",
                "#B0BEC5",
                "#B0BEC5",
                "#B0BEC5",
                "#B0BEC5",
                "#B0BEC5",
                "#B0BEC5",
                "#B0BEC5",
                "#B0BEC5",
                "#B0BEC5",
                "#B0BEC5",
                "#B0BEC5",
                "#B0BEC5",
                "#B0BEC5",
                "#B0BEC5",
                "#B0BEC5",
                "#B0BEC5",
                "#B0BEC5",
                "#B0BEC5",
                "#B0BEC5",
                "#B0BEC5",
                "#B0BEC5",
                "#B0BEC5",
                "#B0BEC5",
                "#B0BEC5",
                "#B0BEC5",
                "#B0BEC5",
                "#B0BEC5",
                "#B0BEC5"
               ]
              ]
             }
            ],
            "label": "Topic 19",
            "method": "update"
           },
           {
            "args": [
             {
              "marker.color": [
               [
                "#B0BEC5",
                "#B0BEC5",
                "#B0BEC5",
                "#B0BEC5",
                "#B0BEC5",
                "#B0BEC5",
                "#B0BEC5",
                "#B0BEC5",
                "#B0BEC5",
                "#B0BEC5",
                "#B0BEC5",
                "#B0BEC5",
                "#B0BEC5",
                "#B0BEC5",
                "#B0BEC5",
                "#B0BEC5",
                "#B0BEC5",
                "#B0BEC5",
                "#B0BEC5",
                "#B0BEC5",
                "red",
                "#B0BEC5",
                "#B0BEC5",
                "#B0BEC5",
                "#B0BEC5",
                "#B0BEC5",
                "#B0BEC5",
                "#B0BEC5",
                "#B0BEC5",
                "#B0BEC5",
                "#B0BEC5",
                "#B0BEC5",
                "#B0BEC5",
                "#B0BEC5",
                "#B0BEC5",
                "#B0BEC5",
                "#B0BEC5",
                "#B0BEC5",
                "#B0BEC5",
                "#B0BEC5",
                "#B0BEC5",
                "#B0BEC5",
                "#B0BEC5",
                "#B0BEC5",
                "#B0BEC5",
                "#B0BEC5",
                "#B0BEC5",
                "#B0BEC5",
                "#B0BEC5"
               ]
              ]
             }
            ],
            "label": "Topic 20",
            "method": "update"
           },
           {
            "args": [
             {
              "marker.color": [
               [
                "#B0BEC5",
                "#B0BEC5",
                "#B0BEC5",
                "#B0BEC5",
                "#B0BEC5",
                "#B0BEC5",
                "#B0BEC5",
                "#B0BEC5",
                "#B0BEC5",
                "#B0BEC5",
                "#B0BEC5",
                "#B0BEC5",
                "#B0BEC5",
                "#B0BEC5",
                "#B0BEC5",
                "#B0BEC5",
                "#B0BEC5",
                "#B0BEC5",
                "#B0BEC5",
                "#B0BEC5",
                "#B0BEC5",
                "red",
                "#B0BEC5",
                "#B0BEC5",
                "#B0BEC5",
                "#B0BEC5",
                "#B0BEC5",
                "#B0BEC5",
                "#B0BEC5",
                "#B0BEC5",
                "#B0BEC5",
                "#B0BEC5",
                "#B0BEC5",
                "#B0BEC5",
                "#B0BEC5",
                "#B0BEC5",
                "#B0BEC5",
                "#B0BEC5",
                "#B0BEC5",
                "#B0BEC5",
                "#B0BEC5",
                "#B0BEC5",
                "#B0BEC5",
                "#B0BEC5",
                "#B0BEC5",
                "#B0BEC5",
                "#B0BEC5",
                "#B0BEC5",
                "#B0BEC5"
               ]
              ]
             }
            ],
            "label": "Topic 21",
            "method": "update"
           },
           {
            "args": [
             {
              "marker.color": [
               [
                "#B0BEC5",
                "#B0BEC5",
                "#B0BEC5",
                "#B0BEC5",
                "#B0BEC5",
                "#B0BEC5",
                "#B0BEC5",
                "#B0BEC5",
                "#B0BEC5",
                "#B0BEC5",
                "#B0BEC5",
                "#B0BEC5",
                "#B0BEC5",
                "#B0BEC5",
                "#B0BEC5",
                "#B0BEC5",
                "#B0BEC5",
                "#B0BEC5",
                "#B0BEC5",
                "#B0BEC5",
                "#B0BEC5",
                "#B0BEC5",
                "red",
                "#B0BEC5",
                "#B0BEC5",
                "#B0BEC5",
                "#B0BEC5",
                "#B0BEC5",
                "#B0BEC5",
                "#B0BEC5",
                "#B0BEC5",
                "#B0BEC5",
                "#B0BEC5",
                "#B0BEC5",
                "#B0BEC5",
                "#B0BEC5",
                "#B0BEC5",
                "#B0BEC5",
                "#B0BEC5",
                "#B0BEC5",
                "#B0BEC5",
                "#B0BEC5",
                "#B0BEC5",
                "#B0BEC5",
                "#B0BEC5",
                "#B0BEC5",
                "#B0BEC5",
                "#B0BEC5",
                "#B0BEC5"
               ]
              ]
             }
            ],
            "label": "Topic 22",
            "method": "update"
           },
           {
            "args": [
             {
              "marker.color": [
               [
                "#B0BEC5",
                "#B0BEC5",
                "#B0BEC5",
                "#B0BEC5",
                "#B0BEC5",
                "#B0BEC5",
                "#B0BEC5",
                "#B0BEC5",
                "#B0BEC5",
                "#B0BEC5",
                "#B0BEC5",
                "#B0BEC5",
                "#B0BEC5",
                "#B0BEC5",
                "#B0BEC5",
                "#B0BEC5",
                "#B0BEC5",
                "#B0BEC5",
                "#B0BEC5",
                "#B0BEC5",
                "#B0BEC5",
                "#B0BEC5",
                "#B0BEC5",
                "red",
                "#B0BEC5",
                "#B0BEC5",
                "#B0BEC5",
                "#B0BEC5",
                "#B0BEC5",
                "#B0BEC5",
                "#B0BEC5",
                "#B0BEC5",
                "#B0BEC5",
                "#B0BEC5",
                "#B0BEC5",
                "#B0BEC5",
                "#B0BEC5",
                "#B0BEC5",
                "#B0BEC5",
                "#B0BEC5",
                "#B0BEC5",
                "#B0BEC5",
                "#B0BEC5",
                "#B0BEC5",
                "#B0BEC5",
                "#B0BEC5",
                "#B0BEC5",
                "#B0BEC5",
                "#B0BEC5"
               ]
              ]
             }
            ],
            "label": "Topic 23",
            "method": "update"
           },
           {
            "args": [
             {
              "marker.color": [
               [
                "#B0BEC5",
                "#B0BEC5",
                "#B0BEC5",
                "#B0BEC5",
                "#B0BEC5",
                "#B0BEC5",
                "#B0BEC5",
                "#B0BEC5",
                "#B0BEC5",
                "#B0BEC5",
                "#B0BEC5",
                "#B0BEC5",
                "#B0BEC5",
                "#B0BEC5",
                "#B0BEC5",
                "#B0BEC5",
                "#B0BEC5",
                "#B0BEC5",
                "#B0BEC5",
                "#B0BEC5",
                "#B0BEC5",
                "#B0BEC5",
                "#B0BEC5",
                "#B0BEC5",
                "red",
                "#B0BEC5",
                "#B0BEC5",
                "#B0BEC5",
                "#B0BEC5",
                "#B0BEC5",
                "#B0BEC5",
                "#B0BEC5",
                "#B0BEC5",
                "#B0BEC5",
                "#B0BEC5",
                "#B0BEC5",
                "#B0BEC5",
                "#B0BEC5",
                "#B0BEC5",
                "#B0BEC5",
                "#B0BEC5",
                "#B0BEC5",
                "#B0BEC5",
                "#B0BEC5",
                "#B0BEC5",
                "#B0BEC5",
                "#B0BEC5",
                "#B0BEC5",
                "#B0BEC5"
               ]
              ]
             }
            ],
            "label": "Topic 24",
            "method": "update"
           },
           {
            "args": [
             {
              "marker.color": [
               [
                "#B0BEC5",
                "#B0BEC5",
                "#B0BEC5",
                "#B0BEC5",
                "#B0BEC5",
                "#B0BEC5",
                "#B0BEC5",
                "#B0BEC5",
                "#B0BEC5",
                "#B0BEC5",
                "#B0BEC5",
                "#B0BEC5",
                "#B0BEC5",
                "#B0BEC5",
                "#B0BEC5",
                "#B0BEC5",
                "#B0BEC5",
                "#B0BEC5",
                "#B0BEC5",
                "#B0BEC5",
                "#B0BEC5",
                "#B0BEC5",
                "#B0BEC5",
                "#B0BEC5",
                "#B0BEC5",
                "red",
                "#B0BEC5",
                "#B0BEC5",
                "#B0BEC5",
                "#B0BEC5",
                "#B0BEC5",
                "#B0BEC5",
                "#B0BEC5",
                "#B0BEC5",
                "#B0BEC5",
                "#B0BEC5",
                "#B0BEC5",
                "#B0BEC5",
                "#B0BEC5",
                "#B0BEC5",
                "#B0BEC5",
                "#B0BEC5",
                "#B0BEC5",
                "#B0BEC5",
                "#B0BEC5",
                "#B0BEC5",
                "#B0BEC5",
                "#B0BEC5",
                "#B0BEC5"
               ]
              ]
             }
            ],
            "label": "Topic 25",
            "method": "update"
           },
           {
            "args": [
             {
              "marker.color": [
               [
                "#B0BEC5",
                "#B0BEC5",
                "#B0BEC5",
                "#B0BEC5",
                "#B0BEC5",
                "#B0BEC5",
                "#B0BEC5",
                "#B0BEC5",
                "#B0BEC5",
                "#B0BEC5",
                "#B0BEC5",
                "#B0BEC5",
                "#B0BEC5",
                "#B0BEC5",
                "#B0BEC5",
                "#B0BEC5",
                "#B0BEC5",
                "#B0BEC5",
                "#B0BEC5",
                "#B0BEC5",
                "#B0BEC5",
                "#B0BEC5",
                "#B0BEC5",
                "#B0BEC5",
                "#B0BEC5",
                "#B0BEC5",
                "red",
                "#B0BEC5",
                "#B0BEC5",
                "#B0BEC5",
                "#B0BEC5",
                "#B0BEC5",
                "#B0BEC5",
                "#B0BEC5",
                "#B0BEC5",
                "#B0BEC5",
                "#B0BEC5",
                "#B0BEC5",
                "#B0BEC5",
                "#B0BEC5",
                "#B0BEC5",
                "#B0BEC5",
                "#B0BEC5",
                "#B0BEC5",
                "#B0BEC5",
                "#B0BEC5",
                "#B0BEC5",
                "#B0BEC5",
                "#B0BEC5"
               ]
              ]
             }
            ],
            "label": "Topic 26",
            "method": "update"
           },
           {
            "args": [
             {
              "marker.color": [
               [
                "#B0BEC5",
                "#B0BEC5",
                "#B0BEC5",
                "#B0BEC5",
                "#B0BEC5",
                "#B0BEC5",
                "#B0BEC5",
                "#B0BEC5",
                "#B0BEC5",
                "#B0BEC5",
                "#B0BEC5",
                "#B0BEC5",
                "#B0BEC5",
                "#B0BEC5",
                "#B0BEC5",
                "#B0BEC5",
                "#B0BEC5",
                "#B0BEC5",
                "#B0BEC5",
                "#B0BEC5",
                "#B0BEC5",
                "#B0BEC5",
                "#B0BEC5",
                "#B0BEC5",
                "#B0BEC5",
                "#B0BEC5",
                "#B0BEC5",
                "red",
                "#B0BEC5",
                "#B0BEC5",
                "#B0BEC5",
                "#B0BEC5",
                "#B0BEC5",
                "#B0BEC5",
                "#B0BEC5",
                "#B0BEC5",
                "#B0BEC5",
                "#B0BEC5",
                "#B0BEC5",
                "#B0BEC5",
                "#B0BEC5",
                "#B0BEC5",
                "#B0BEC5",
                "#B0BEC5",
                "#B0BEC5",
                "#B0BEC5",
                "#B0BEC5",
                "#B0BEC5",
                "#B0BEC5"
               ]
              ]
             }
            ],
            "label": "Topic 27",
            "method": "update"
           },
           {
            "args": [
             {
              "marker.color": [
               [
                "#B0BEC5",
                "#B0BEC5",
                "#B0BEC5",
                "#B0BEC5",
                "#B0BEC5",
                "#B0BEC5",
                "#B0BEC5",
                "#B0BEC5",
                "#B0BEC5",
                "#B0BEC5",
                "#B0BEC5",
                "#B0BEC5",
                "#B0BEC5",
                "#B0BEC5",
                "#B0BEC5",
                "#B0BEC5",
                "#B0BEC5",
                "#B0BEC5",
                "#B0BEC5",
                "#B0BEC5",
                "#B0BEC5",
                "#B0BEC5",
                "#B0BEC5",
                "#B0BEC5",
                "#B0BEC5",
                "#B0BEC5",
                "#B0BEC5",
                "#B0BEC5",
                "red",
                "#B0BEC5",
                "#B0BEC5",
                "#B0BEC5",
                "#B0BEC5",
                "#B0BEC5",
                "#B0BEC5",
                "#B0BEC5",
                "#B0BEC5",
                "#B0BEC5",
                "#B0BEC5",
                "#B0BEC5",
                "#B0BEC5",
                "#B0BEC5",
                "#B0BEC5",
                "#B0BEC5",
                "#B0BEC5",
                "#B0BEC5",
                "#B0BEC5",
                "#B0BEC5",
                "#B0BEC5"
               ]
              ]
             }
            ],
            "label": "Topic 28",
            "method": "update"
           },
           {
            "args": [
             {
              "marker.color": [
               [
                "#B0BEC5",
                "#B0BEC5",
                "#B0BEC5",
                "#B0BEC5",
                "#B0BEC5",
                "#B0BEC5",
                "#B0BEC5",
                "#B0BEC5",
                "#B0BEC5",
                "#B0BEC5",
                "#B0BEC5",
                "#B0BEC5",
                "#B0BEC5",
                "#B0BEC5",
                "#B0BEC5",
                "#B0BEC5",
                "#B0BEC5",
                "#B0BEC5",
                "#B0BEC5",
                "#B0BEC5",
                "#B0BEC5",
                "#B0BEC5",
                "#B0BEC5",
                "#B0BEC5",
                "#B0BEC5",
                "#B0BEC5",
                "#B0BEC5",
                "#B0BEC5",
                "#B0BEC5",
                "red",
                "#B0BEC5",
                "#B0BEC5",
                "#B0BEC5",
                "#B0BEC5",
                "#B0BEC5",
                "#B0BEC5",
                "#B0BEC5",
                "#B0BEC5",
                "#B0BEC5",
                "#B0BEC5",
                "#B0BEC5",
                "#B0BEC5",
                "#B0BEC5",
                "#B0BEC5",
                "#B0BEC5",
                "#B0BEC5",
                "#B0BEC5",
                "#B0BEC5",
                "#B0BEC5"
               ]
              ]
             }
            ],
            "label": "Topic 29",
            "method": "update"
           },
           {
            "args": [
             {
              "marker.color": [
               [
                "#B0BEC5",
                "#B0BEC5",
                "#B0BEC5",
                "#B0BEC5",
                "#B0BEC5",
                "#B0BEC5",
                "#B0BEC5",
                "#B0BEC5",
                "#B0BEC5",
                "#B0BEC5",
                "#B0BEC5",
                "#B0BEC5",
                "#B0BEC5",
                "#B0BEC5",
                "#B0BEC5",
                "#B0BEC5",
                "#B0BEC5",
                "#B0BEC5",
                "#B0BEC5",
                "#B0BEC5",
                "#B0BEC5",
                "#B0BEC5",
                "#B0BEC5",
                "#B0BEC5",
                "#B0BEC5",
                "#B0BEC5",
                "#B0BEC5",
                "#B0BEC5",
                "#B0BEC5",
                "#B0BEC5",
                "red",
                "#B0BEC5",
                "#B0BEC5",
                "#B0BEC5",
                "#B0BEC5",
                "#B0BEC5",
                "#B0BEC5",
                "#B0BEC5",
                "#B0BEC5",
                "#B0BEC5",
                "#B0BEC5",
                "#B0BEC5",
                "#B0BEC5",
                "#B0BEC5",
                "#B0BEC5",
                "#B0BEC5",
                "#B0BEC5",
                "#B0BEC5",
                "#B0BEC5"
               ]
              ]
             }
            ],
            "label": "Topic 30",
            "method": "update"
           },
           {
            "args": [
             {
              "marker.color": [
               [
                "#B0BEC5",
                "#B0BEC5",
                "#B0BEC5",
                "#B0BEC5",
                "#B0BEC5",
                "#B0BEC5",
                "#B0BEC5",
                "#B0BEC5",
                "#B0BEC5",
                "#B0BEC5",
                "#B0BEC5",
                "#B0BEC5",
                "#B0BEC5",
                "#B0BEC5",
                "#B0BEC5",
                "#B0BEC5",
                "#B0BEC5",
                "#B0BEC5",
                "#B0BEC5",
                "#B0BEC5",
                "#B0BEC5",
                "#B0BEC5",
                "#B0BEC5",
                "#B0BEC5",
                "#B0BEC5",
                "#B0BEC5",
                "#B0BEC5",
                "#B0BEC5",
                "#B0BEC5",
                "#B0BEC5",
                "#B0BEC5",
                "red",
                "#B0BEC5",
                "#B0BEC5",
                "#B0BEC5",
                "#B0BEC5",
                "#B0BEC5",
                "#B0BEC5",
                "#B0BEC5",
                "#B0BEC5",
                "#B0BEC5",
                "#B0BEC5",
                "#B0BEC5",
                "#B0BEC5",
                "#B0BEC5",
                "#B0BEC5",
                "#B0BEC5",
                "#B0BEC5",
                "#B0BEC5"
               ]
              ]
             }
            ],
            "label": "Topic 31",
            "method": "update"
           },
           {
            "args": [
             {
              "marker.color": [
               [
                "#B0BEC5",
                "#B0BEC5",
                "#B0BEC5",
                "#B0BEC5",
                "#B0BEC5",
                "#B0BEC5",
                "#B0BEC5",
                "#B0BEC5",
                "#B0BEC5",
                "#B0BEC5",
                "#B0BEC5",
                "#B0BEC5",
                "#B0BEC5",
                "#B0BEC5",
                "#B0BEC5",
                "#B0BEC5",
                "#B0BEC5",
                "#B0BEC5",
                "#B0BEC5",
                "#B0BEC5",
                "#B0BEC5",
                "#B0BEC5",
                "#B0BEC5",
                "#B0BEC5",
                "#B0BEC5",
                "#B0BEC5",
                "#B0BEC5",
                "#B0BEC5",
                "#B0BEC5",
                "#B0BEC5",
                "#B0BEC5",
                "#B0BEC5",
                "red",
                "#B0BEC5",
                "#B0BEC5",
                "#B0BEC5",
                "#B0BEC5",
                "#B0BEC5",
                "#B0BEC5",
                "#B0BEC5",
                "#B0BEC5",
                "#B0BEC5",
                "#B0BEC5",
                "#B0BEC5",
                "#B0BEC5",
                "#B0BEC5",
                "#B0BEC5",
                "#B0BEC5",
                "#B0BEC5"
               ]
              ]
             }
            ],
            "label": "Topic 32",
            "method": "update"
           },
           {
            "args": [
             {
              "marker.color": [
               [
                "#B0BEC5",
                "#B0BEC5",
                "#B0BEC5",
                "#B0BEC5",
                "#B0BEC5",
                "#B0BEC5",
                "#B0BEC5",
                "#B0BEC5",
                "#B0BEC5",
                "#B0BEC5",
                "#B0BEC5",
                "#B0BEC5",
                "#B0BEC5",
                "#B0BEC5",
                "#B0BEC5",
                "#B0BEC5",
                "#B0BEC5",
                "#B0BEC5",
                "#B0BEC5",
                "#B0BEC5",
                "#B0BEC5",
                "#B0BEC5",
                "#B0BEC5",
                "#B0BEC5",
                "#B0BEC5",
                "#B0BEC5",
                "#B0BEC5",
                "#B0BEC5",
                "#B0BEC5",
                "#B0BEC5",
                "#B0BEC5",
                "#B0BEC5",
                "#B0BEC5",
                "red",
                "#B0BEC5",
                "#B0BEC5",
                "#B0BEC5",
                "#B0BEC5",
                "#B0BEC5",
                "#B0BEC5",
                "#B0BEC5",
                "#B0BEC5",
                "#B0BEC5",
                "#B0BEC5",
                "#B0BEC5",
                "#B0BEC5",
                "#B0BEC5",
                "#B0BEC5",
                "#B0BEC5"
               ]
              ]
             }
            ],
            "label": "Topic 33",
            "method": "update"
           },
           {
            "args": [
             {
              "marker.color": [
               [
                "#B0BEC5",
                "#B0BEC5",
                "#B0BEC5",
                "#B0BEC5",
                "#B0BEC5",
                "#B0BEC5",
                "#B0BEC5",
                "#B0BEC5",
                "#B0BEC5",
                "#B0BEC5",
                "#B0BEC5",
                "#B0BEC5",
                "#B0BEC5",
                "#B0BEC5",
                "#B0BEC5",
                "#B0BEC5",
                "#B0BEC5",
                "#B0BEC5",
                "#B0BEC5",
                "#B0BEC5",
                "#B0BEC5",
                "#B0BEC5",
                "#B0BEC5",
                "#B0BEC5",
                "#B0BEC5",
                "#B0BEC5",
                "#B0BEC5",
                "#B0BEC5",
                "#B0BEC5",
                "#B0BEC5",
                "#B0BEC5",
                "#B0BEC5",
                "#B0BEC5",
                "#B0BEC5",
                "red",
                "#B0BEC5",
                "#B0BEC5",
                "#B0BEC5",
                "#B0BEC5",
                "#B0BEC5",
                "#B0BEC5",
                "#B0BEC5",
                "#B0BEC5",
                "#B0BEC5",
                "#B0BEC5",
                "#B0BEC5",
                "#B0BEC5",
                "#B0BEC5",
                "#B0BEC5"
               ]
              ]
             }
            ],
            "label": "Topic 34",
            "method": "update"
           },
           {
            "args": [
             {
              "marker.color": [
               [
                "#B0BEC5",
                "#B0BEC5",
                "#B0BEC5",
                "#B0BEC5",
                "#B0BEC5",
                "#B0BEC5",
                "#B0BEC5",
                "#B0BEC5",
                "#B0BEC5",
                "#B0BEC5",
                "#B0BEC5",
                "#B0BEC5",
                "#B0BEC5",
                "#B0BEC5",
                "#B0BEC5",
                "#B0BEC5",
                "#B0BEC5",
                "#B0BEC5",
                "#B0BEC5",
                "#B0BEC5",
                "#B0BEC5",
                "#B0BEC5",
                "#B0BEC5",
                "#B0BEC5",
                "#B0BEC5",
                "#B0BEC5",
                "#B0BEC5",
                "#B0BEC5",
                "#B0BEC5",
                "#B0BEC5",
                "#B0BEC5",
                "#B0BEC5",
                "#B0BEC5",
                "#B0BEC5",
                "#B0BEC5",
                "red",
                "#B0BEC5",
                "#B0BEC5",
                "#B0BEC5",
                "#B0BEC5",
                "#B0BEC5",
                "#B0BEC5",
                "#B0BEC5",
                "#B0BEC5",
                "#B0BEC5",
                "#B0BEC5",
                "#B0BEC5",
                "#B0BEC5",
                "#B0BEC5"
               ]
              ]
             }
            ],
            "label": "Topic 35",
            "method": "update"
           },
           {
            "args": [
             {
              "marker.color": [
               [
                "#B0BEC5",
                "#B0BEC5",
                "#B0BEC5",
                "#B0BEC5",
                "#B0BEC5",
                "#B0BEC5",
                "#B0BEC5",
                "#B0BEC5",
                "#B0BEC5",
                "#B0BEC5",
                "#B0BEC5",
                "#B0BEC5",
                "#B0BEC5",
                "#B0BEC5",
                "#B0BEC5",
                "#B0BEC5",
                "#B0BEC5",
                "#B0BEC5",
                "#B0BEC5",
                "#B0BEC5",
                "#B0BEC5",
                "#B0BEC5",
                "#B0BEC5",
                "#B0BEC5",
                "#B0BEC5",
                "#B0BEC5",
                "#B0BEC5",
                "#B0BEC5",
                "#B0BEC5",
                "#B0BEC5",
                "#B0BEC5",
                "#B0BEC5",
                "#B0BEC5",
                "#B0BEC5",
                "#B0BEC5",
                "#B0BEC5",
                "red",
                "#B0BEC5",
                "#B0BEC5",
                "#B0BEC5",
                "#B0BEC5",
                "#B0BEC5",
                "#B0BEC5",
                "#B0BEC5",
                "#B0BEC5",
                "#B0BEC5",
                "#B0BEC5",
                "#B0BEC5",
                "#B0BEC5"
               ]
              ]
             }
            ],
            "label": "Topic 36",
            "method": "update"
           },
           {
            "args": [
             {
              "marker.color": [
               [
                "#B0BEC5",
                "#B0BEC5",
                "#B0BEC5",
                "#B0BEC5",
                "#B0BEC5",
                "#B0BEC5",
                "#B0BEC5",
                "#B0BEC5",
                "#B0BEC5",
                "#B0BEC5",
                "#B0BEC5",
                "#B0BEC5",
                "#B0BEC5",
                "#B0BEC5",
                "#B0BEC5",
                "#B0BEC5",
                "#B0BEC5",
                "#B0BEC5",
                "#B0BEC5",
                "#B0BEC5",
                "#B0BEC5",
                "#B0BEC5",
                "#B0BEC5",
                "#B0BEC5",
                "#B0BEC5",
                "#B0BEC5",
                "#B0BEC5",
                "#B0BEC5",
                "#B0BEC5",
                "#B0BEC5",
                "#B0BEC5",
                "#B0BEC5",
                "#B0BEC5",
                "#B0BEC5",
                "#B0BEC5",
                "#B0BEC5",
                "#B0BEC5",
                "red",
                "#B0BEC5",
                "#B0BEC5",
                "#B0BEC5",
                "#B0BEC5",
                "#B0BEC5",
                "#B0BEC5",
                "#B0BEC5",
                "#B0BEC5",
                "#B0BEC5",
                "#B0BEC5",
                "#B0BEC5"
               ]
              ]
             }
            ],
            "label": "Topic 37",
            "method": "update"
           },
           {
            "args": [
             {
              "marker.color": [
               [
                "#B0BEC5",
                "#B0BEC5",
                "#B0BEC5",
                "#B0BEC5",
                "#B0BEC5",
                "#B0BEC5",
                "#B0BEC5",
                "#B0BEC5",
                "#B0BEC5",
                "#B0BEC5",
                "#B0BEC5",
                "#B0BEC5",
                "#B0BEC5",
                "#B0BEC5",
                "#B0BEC5",
                "#B0BEC5",
                "#B0BEC5",
                "#B0BEC5",
                "#B0BEC5",
                "#B0BEC5",
                "#B0BEC5",
                "#B0BEC5",
                "#B0BEC5",
                "#B0BEC5",
                "#B0BEC5",
                "#B0BEC5",
                "#B0BEC5",
                "#B0BEC5",
                "#B0BEC5",
                "#B0BEC5",
                "#B0BEC5",
                "#B0BEC5",
                "#B0BEC5",
                "#B0BEC5",
                "#B0BEC5",
                "#B0BEC5",
                "#B0BEC5",
                "#B0BEC5",
                "red",
                "#B0BEC5",
                "#B0BEC5",
                "#B0BEC5",
                "#B0BEC5",
                "#B0BEC5",
                "#B0BEC5",
                "#B0BEC5",
                "#B0BEC5",
                "#B0BEC5",
                "#B0BEC5"
               ]
              ]
             }
            ],
            "label": "Topic 38",
            "method": "update"
           },
           {
            "args": [
             {
              "marker.color": [
               [
                "#B0BEC5",
                "#B0BEC5",
                "#B0BEC5",
                "#B0BEC5",
                "#B0BEC5",
                "#B0BEC5",
                "#B0BEC5",
                "#B0BEC5",
                "#B0BEC5",
                "#B0BEC5",
                "#B0BEC5",
                "#B0BEC5",
                "#B0BEC5",
                "#B0BEC5",
                "#B0BEC5",
                "#B0BEC5",
                "#B0BEC5",
                "#B0BEC5",
                "#B0BEC5",
                "#B0BEC5",
                "#B0BEC5",
                "#B0BEC5",
                "#B0BEC5",
                "#B0BEC5",
                "#B0BEC5",
                "#B0BEC5",
                "#B0BEC5",
                "#B0BEC5",
                "#B0BEC5",
                "#B0BEC5",
                "#B0BEC5",
                "#B0BEC5",
                "#B0BEC5",
                "#B0BEC5",
                "#B0BEC5",
                "#B0BEC5",
                "#B0BEC5",
                "#B0BEC5",
                "#B0BEC5",
                "red",
                "#B0BEC5",
                "#B0BEC5",
                "#B0BEC5",
                "#B0BEC5",
                "#B0BEC5",
                "#B0BEC5",
                "#B0BEC5",
                "#B0BEC5",
                "#B0BEC5"
               ]
              ]
             }
            ],
            "label": "Topic 39",
            "method": "update"
           },
           {
            "args": [
             {
              "marker.color": [
               [
                "#B0BEC5",
                "#B0BEC5",
                "#B0BEC5",
                "#B0BEC5",
                "#B0BEC5",
                "#B0BEC5",
                "#B0BEC5",
                "#B0BEC5",
                "#B0BEC5",
                "#B0BEC5",
                "#B0BEC5",
                "#B0BEC5",
                "#B0BEC5",
                "#B0BEC5",
                "#B0BEC5",
                "#B0BEC5",
                "#B0BEC5",
                "#B0BEC5",
                "#B0BEC5",
                "#B0BEC5",
                "#B0BEC5",
                "#B0BEC5",
                "#B0BEC5",
                "#B0BEC5",
                "#B0BEC5",
                "#B0BEC5",
                "#B0BEC5",
                "#B0BEC5",
                "#B0BEC5",
                "#B0BEC5",
                "#B0BEC5",
                "#B0BEC5",
                "#B0BEC5",
                "#B0BEC5",
                "#B0BEC5",
                "#B0BEC5",
                "#B0BEC5",
                "#B0BEC5",
                "#B0BEC5",
                "#B0BEC5",
                "red",
                "#B0BEC5",
                "#B0BEC5",
                "#B0BEC5",
                "#B0BEC5",
                "#B0BEC5",
                "#B0BEC5",
                "#B0BEC5",
                "#B0BEC5"
               ]
              ]
             }
            ],
            "label": "Topic 40",
            "method": "update"
           },
           {
            "args": [
             {
              "marker.color": [
               [
                "#B0BEC5",
                "#B0BEC5",
                "#B0BEC5",
                "#B0BEC5",
                "#B0BEC5",
                "#B0BEC5",
                "#B0BEC5",
                "#B0BEC5",
                "#B0BEC5",
                "#B0BEC5",
                "#B0BEC5",
                "#B0BEC5",
                "#B0BEC5",
                "#B0BEC5",
                "#B0BEC5",
                "#B0BEC5",
                "#B0BEC5",
                "#B0BEC5",
                "#B0BEC5",
                "#B0BEC5",
                "#B0BEC5",
                "#B0BEC5",
                "#B0BEC5",
                "#B0BEC5",
                "#B0BEC5",
                "#B0BEC5",
                "#B0BEC5",
                "#B0BEC5",
                "#B0BEC5",
                "#B0BEC5",
                "#B0BEC5",
                "#B0BEC5",
                "#B0BEC5",
                "#B0BEC5",
                "#B0BEC5",
                "#B0BEC5",
                "#B0BEC5",
                "#B0BEC5",
                "#B0BEC5",
                "#B0BEC5",
                "#B0BEC5",
                "red",
                "#B0BEC5",
                "#B0BEC5",
                "#B0BEC5",
                "#B0BEC5",
                "#B0BEC5",
                "#B0BEC5",
                "#B0BEC5"
               ]
              ]
             }
            ],
            "label": "Topic 41",
            "method": "update"
           },
           {
            "args": [
             {
              "marker.color": [
               [
                "#B0BEC5",
                "#B0BEC5",
                "#B0BEC5",
                "#B0BEC5",
                "#B0BEC5",
                "#B0BEC5",
                "#B0BEC5",
                "#B0BEC5",
                "#B0BEC5",
                "#B0BEC5",
                "#B0BEC5",
                "#B0BEC5",
                "#B0BEC5",
                "#B0BEC5",
                "#B0BEC5",
                "#B0BEC5",
                "#B0BEC5",
                "#B0BEC5",
                "#B0BEC5",
                "#B0BEC5",
                "#B0BEC5",
                "#B0BEC5",
                "#B0BEC5",
                "#B0BEC5",
                "#B0BEC5",
                "#B0BEC5",
                "#B0BEC5",
                "#B0BEC5",
                "#B0BEC5",
                "#B0BEC5",
                "#B0BEC5",
                "#B0BEC5",
                "#B0BEC5",
                "#B0BEC5",
                "#B0BEC5",
                "#B0BEC5",
                "#B0BEC5",
                "#B0BEC5",
                "#B0BEC5",
                "#B0BEC5",
                "#B0BEC5",
                "#B0BEC5",
                "red",
                "#B0BEC5",
                "#B0BEC5",
                "#B0BEC5",
                "#B0BEC5",
                "#B0BEC5",
                "#B0BEC5"
               ]
              ]
             }
            ],
            "label": "Topic 42",
            "method": "update"
           },
           {
            "args": [
             {
              "marker.color": [
               [
                "#B0BEC5",
                "#B0BEC5",
                "#B0BEC5",
                "#B0BEC5",
                "#B0BEC5",
                "#B0BEC5",
                "#B0BEC5",
                "#B0BEC5",
                "#B0BEC5",
                "#B0BEC5",
                "#B0BEC5",
                "#B0BEC5",
                "#B0BEC5",
                "#B0BEC5",
                "#B0BEC5",
                "#B0BEC5",
                "#B0BEC5",
                "#B0BEC5",
                "#B0BEC5",
                "#B0BEC5",
                "#B0BEC5",
                "#B0BEC5",
                "#B0BEC5",
                "#B0BEC5",
                "#B0BEC5",
                "#B0BEC5",
                "#B0BEC5",
                "#B0BEC5",
                "#B0BEC5",
                "#B0BEC5",
                "#B0BEC5",
                "#B0BEC5",
                "#B0BEC5",
                "#B0BEC5",
                "#B0BEC5",
                "#B0BEC5",
                "#B0BEC5",
                "#B0BEC5",
                "#B0BEC5",
                "#B0BEC5",
                "#B0BEC5",
                "#B0BEC5",
                "#B0BEC5",
                "red",
                "#B0BEC5",
                "#B0BEC5",
                "#B0BEC5",
                "#B0BEC5",
                "#B0BEC5"
               ]
              ]
             }
            ],
            "label": "Topic 43",
            "method": "update"
           },
           {
            "args": [
             {
              "marker.color": [
               [
                "#B0BEC5",
                "#B0BEC5",
                "#B0BEC5",
                "#B0BEC5",
                "#B0BEC5",
                "#B0BEC5",
                "#B0BEC5",
                "#B0BEC5",
                "#B0BEC5",
                "#B0BEC5",
                "#B0BEC5",
                "#B0BEC5",
                "#B0BEC5",
                "#B0BEC5",
                "#B0BEC5",
                "#B0BEC5",
                "#B0BEC5",
                "#B0BEC5",
                "#B0BEC5",
                "#B0BEC5",
                "#B0BEC5",
                "#B0BEC5",
                "#B0BEC5",
                "#B0BEC5",
                "#B0BEC5",
                "#B0BEC5",
                "#B0BEC5",
                "#B0BEC5",
                "#B0BEC5",
                "#B0BEC5",
                "#B0BEC5",
                "#B0BEC5",
                "#B0BEC5",
                "#B0BEC5",
                "#B0BEC5",
                "#B0BEC5",
                "#B0BEC5",
                "#B0BEC5",
                "#B0BEC5",
                "#B0BEC5",
                "#B0BEC5",
                "#B0BEC5",
                "#B0BEC5",
                "#B0BEC5",
                "red",
                "#B0BEC5",
                "#B0BEC5",
                "#B0BEC5",
                "#B0BEC5"
               ]
              ]
             }
            ],
            "label": "Topic 44",
            "method": "update"
           },
           {
            "args": [
             {
              "marker.color": [
               [
                "#B0BEC5",
                "#B0BEC5",
                "#B0BEC5",
                "#B0BEC5",
                "#B0BEC5",
                "#B0BEC5",
                "#B0BEC5",
                "#B0BEC5",
                "#B0BEC5",
                "#B0BEC5",
                "#B0BEC5",
                "#B0BEC5",
                "#B0BEC5",
                "#B0BEC5",
                "#B0BEC5",
                "#B0BEC5",
                "#B0BEC5",
                "#B0BEC5",
                "#B0BEC5",
                "#B0BEC5",
                "#B0BEC5",
                "#B0BEC5",
                "#B0BEC5",
                "#B0BEC5",
                "#B0BEC5",
                "#B0BEC5",
                "#B0BEC5",
                "#B0BEC5",
                "#B0BEC5",
                "#B0BEC5",
                "#B0BEC5",
                "#B0BEC5",
                "#B0BEC5",
                "#B0BEC5",
                "#B0BEC5",
                "#B0BEC5",
                "#B0BEC5",
                "#B0BEC5",
                "#B0BEC5",
                "#B0BEC5",
                "#B0BEC5",
                "#B0BEC5",
                "#B0BEC5",
                "#B0BEC5",
                "#B0BEC5",
                "red",
                "#B0BEC5",
                "#B0BEC5",
                "#B0BEC5"
               ]
              ]
             }
            ],
            "label": "Topic 45",
            "method": "update"
           },
           {
            "args": [
             {
              "marker.color": [
               [
                "#B0BEC5",
                "#B0BEC5",
                "#B0BEC5",
                "#B0BEC5",
                "#B0BEC5",
                "#B0BEC5",
                "#B0BEC5",
                "#B0BEC5",
                "#B0BEC5",
                "#B0BEC5",
                "#B0BEC5",
                "#B0BEC5",
                "#B0BEC5",
                "#B0BEC5",
                "#B0BEC5",
                "#B0BEC5",
                "#B0BEC5",
                "#B0BEC5",
                "#B0BEC5",
                "#B0BEC5",
                "#B0BEC5",
                "#B0BEC5",
                "#B0BEC5",
                "#B0BEC5",
                "#B0BEC5",
                "#B0BEC5",
                "#B0BEC5",
                "#B0BEC5",
                "#B0BEC5",
                "#B0BEC5",
                "#B0BEC5",
                "#B0BEC5",
                "#B0BEC5",
                "#B0BEC5",
                "#B0BEC5",
                "#B0BEC5",
                "#B0BEC5",
                "#B0BEC5",
                "#B0BEC5",
                "#B0BEC5",
                "#B0BEC5",
                "#B0BEC5",
                "#B0BEC5",
                "#B0BEC5",
                "#B0BEC5",
                "#B0BEC5",
                "red",
                "#B0BEC5",
                "#B0BEC5"
               ]
              ]
             }
            ],
            "label": "Topic 46",
            "method": "update"
           },
           {
            "args": [
             {
              "marker.color": [
               [
                "#B0BEC5",
                "#B0BEC5",
                "#B0BEC5",
                "#B0BEC5",
                "#B0BEC5",
                "#B0BEC5",
                "#B0BEC5",
                "#B0BEC5",
                "#B0BEC5",
                "#B0BEC5",
                "#B0BEC5",
                "#B0BEC5",
                "#B0BEC5",
                "#B0BEC5",
                "#B0BEC5",
                "#B0BEC5",
                "#B0BEC5",
                "#B0BEC5",
                "#B0BEC5",
                "#B0BEC5",
                "#B0BEC5",
                "#B0BEC5",
                "#B0BEC5",
                "#B0BEC5",
                "#B0BEC5",
                "#B0BEC5",
                "#B0BEC5",
                "#B0BEC5",
                "#B0BEC5",
                "#B0BEC5",
                "#B0BEC5",
                "#B0BEC5",
                "#B0BEC5",
                "#B0BEC5",
                "#B0BEC5",
                "#B0BEC5",
                "#B0BEC5",
                "#B0BEC5",
                "#B0BEC5",
                "#B0BEC5",
                "#B0BEC5",
                "#B0BEC5",
                "#B0BEC5",
                "#B0BEC5",
                "#B0BEC5",
                "#B0BEC5",
                "#B0BEC5",
                "red",
                "#B0BEC5"
               ]
              ]
             }
            ],
            "label": "Topic 47",
            "method": "update"
           },
           {
            "args": [
             {
              "marker.color": [
               [
                "#B0BEC5",
                "#B0BEC5",
                "#B0BEC5",
                "#B0BEC5",
                "#B0BEC5",
                "#B0BEC5",
                "#B0BEC5",
                "#B0BEC5",
                "#B0BEC5",
                "#B0BEC5",
                "#B0BEC5",
                "#B0BEC5",
                "#B0BEC5",
                "#B0BEC5",
                "#B0BEC5",
                "#B0BEC5",
                "#B0BEC5",
                "#B0BEC5",
                "#B0BEC5",
                "#B0BEC5",
                "#B0BEC5",
                "#B0BEC5",
                "#B0BEC5",
                "#B0BEC5",
                "#B0BEC5",
                "#B0BEC5",
                "#B0BEC5",
                "#B0BEC5",
                "#B0BEC5",
                "#B0BEC5",
                "#B0BEC5",
                "#B0BEC5",
                "#B0BEC5",
                "#B0BEC5",
                "#B0BEC5",
                "#B0BEC5",
                "#B0BEC5",
                "#B0BEC5",
                "#B0BEC5",
                "#B0BEC5",
                "#B0BEC5",
                "#B0BEC5",
                "#B0BEC5",
                "#B0BEC5",
                "#B0BEC5",
                "#B0BEC5",
                "#B0BEC5",
                "#B0BEC5",
                "red"
               ]
              ]
             }
            ],
            "label": "Topic 48",
            "method": "update"
           }
          ]
         }
        ],
        "template": {
         "data": {
          "bar": [
           {
            "error_x": {
             "color": "rgb(36,36,36)"
            },
            "error_y": {
             "color": "rgb(36,36,36)"
            },
            "marker": {
             "line": {
              "color": "white",
              "width": 0.5
             },
             "pattern": {
              "fillmode": "overlay",
              "size": 10,
              "solidity": 0.2
             }
            },
            "type": "bar"
           }
          ],
          "barpolar": [
           {
            "marker": {
             "line": {
              "color": "white",
              "width": 0.5
             },
             "pattern": {
              "fillmode": "overlay",
              "size": 10,
              "solidity": 0.2
             }
            },
            "type": "barpolar"
           }
          ],
          "carpet": [
           {
            "aaxis": {
             "endlinecolor": "rgb(36,36,36)",
             "gridcolor": "white",
             "linecolor": "white",
             "minorgridcolor": "white",
             "startlinecolor": "rgb(36,36,36)"
            },
            "baxis": {
             "endlinecolor": "rgb(36,36,36)",
             "gridcolor": "white",
             "linecolor": "white",
             "minorgridcolor": "white",
             "startlinecolor": "rgb(36,36,36)"
            },
            "type": "carpet"
           }
          ],
          "choropleth": [
           {
            "colorbar": {
             "outlinewidth": 1,
             "tickcolor": "rgb(36,36,36)",
             "ticks": "outside"
            },
            "type": "choropleth"
           }
          ],
          "contour": [
           {
            "colorbar": {
             "outlinewidth": 1,
             "tickcolor": "rgb(36,36,36)",
             "ticks": "outside"
            },
            "colorscale": [
             [
              0,
              "#440154"
             ],
             [
              0.1111111111111111,
              "#482878"
             ],
             [
              0.2222222222222222,
              "#3e4989"
             ],
             [
              0.3333333333333333,
              "#31688e"
             ],
             [
              0.4444444444444444,
              "#26828e"
             ],
             [
              0.5555555555555556,
              "#1f9e89"
             ],
             [
              0.6666666666666666,
              "#35b779"
             ],
             [
              0.7777777777777778,
              "#6ece58"
             ],
             [
              0.8888888888888888,
              "#b5de2b"
             ],
             [
              1,
              "#fde725"
             ]
            ],
            "type": "contour"
           }
          ],
          "contourcarpet": [
           {
            "colorbar": {
             "outlinewidth": 1,
             "tickcolor": "rgb(36,36,36)",
             "ticks": "outside"
            },
            "type": "contourcarpet"
           }
          ],
          "heatmap": [
           {
            "colorbar": {
             "outlinewidth": 1,
             "tickcolor": "rgb(36,36,36)",
             "ticks": "outside"
            },
            "colorscale": [
             [
              0,
              "#440154"
             ],
             [
              0.1111111111111111,
              "#482878"
             ],
             [
              0.2222222222222222,
              "#3e4989"
             ],
             [
              0.3333333333333333,
              "#31688e"
             ],
             [
              0.4444444444444444,
              "#26828e"
             ],
             [
              0.5555555555555556,
              "#1f9e89"
             ],
             [
              0.6666666666666666,
              "#35b779"
             ],
             [
              0.7777777777777778,
              "#6ece58"
             ],
             [
              0.8888888888888888,
              "#b5de2b"
             ],
             [
              1,
              "#fde725"
             ]
            ],
            "type": "heatmap"
           }
          ],
          "heatmapgl": [
           {
            "colorbar": {
             "outlinewidth": 1,
             "tickcolor": "rgb(36,36,36)",
             "ticks": "outside"
            },
            "colorscale": [
             [
              0,
              "#440154"
             ],
             [
              0.1111111111111111,
              "#482878"
             ],
             [
              0.2222222222222222,
              "#3e4989"
             ],
             [
              0.3333333333333333,
              "#31688e"
             ],
             [
              0.4444444444444444,
              "#26828e"
             ],
             [
              0.5555555555555556,
              "#1f9e89"
             ],
             [
              0.6666666666666666,
              "#35b779"
             ],
             [
              0.7777777777777778,
              "#6ece58"
             ],
             [
              0.8888888888888888,
              "#b5de2b"
             ],
             [
              1,
              "#fde725"
             ]
            ],
            "type": "heatmapgl"
           }
          ],
          "histogram": [
           {
            "marker": {
             "line": {
              "color": "white",
              "width": 0.6
             }
            },
            "type": "histogram"
           }
          ],
          "histogram2d": [
           {
            "colorbar": {
             "outlinewidth": 1,
             "tickcolor": "rgb(36,36,36)",
             "ticks": "outside"
            },
            "colorscale": [
             [
              0,
              "#440154"
             ],
             [
              0.1111111111111111,
              "#482878"
             ],
             [
              0.2222222222222222,
              "#3e4989"
             ],
             [
              0.3333333333333333,
              "#31688e"
             ],
             [
              0.4444444444444444,
              "#26828e"
             ],
             [
              0.5555555555555556,
              "#1f9e89"
             ],
             [
              0.6666666666666666,
              "#35b779"
             ],
             [
              0.7777777777777778,
              "#6ece58"
             ],
             [
              0.8888888888888888,
              "#b5de2b"
             ],
             [
              1,
              "#fde725"
             ]
            ],
            "type": "histogram2d"
           }
          ],
          "histogram2dcontour": [
           {
            "colorbar": {
             "outlinewidth": 1,
             "tickcolor": "rgb(36,36,36)",
             "ticks": "outside"
            },
            "colorscale": [
             [
              0,
              "#440154"
             ],
             [
              0.1111111111111111,
              "#482878"
             ],
             [
              0.2222222222222222,
              "#3e4989"
             ],
             [
              0.3333333333333333,
              "#31688e"
             ],
             [
              0.4444444444444444,
              "#26828e"
             ],
             [
              0.5555555555555556,
              "#1f9e89"
             ],
             [
              0.6666666666666666,
              "#35b779"
             ],
             [
              0.7777777777777778,
              "#6ece58"
             ],
             [
              0.8888888888888888,
              "#b5de2b"
             ],
             [
              1,
              "#fde725"
             ]
            ],
            "type": "histogram2dcontour"
           }
          ],
          "mesh3d": [
           {
            "colorbar": {
             "outlinewidth": 1,
             "tickcolor": "rgb(36,36,36)",
             "ticks": "outside"
            },
            "type": "mesh3d"
           }
          ],
          "parcoords": [
           {
            "line": {
             "colorbar": {
              "outlinewidth": 1,
              "tickcolor": "rgb(36,36,36)",
              "ticks": "outside"
             }
            },
            "type": "parcoords"
           }
          ],
          "pie": [
           {
            "automargin": true,
            "type": "pie"
           }
          ],
          "scatter": [
           {
            "fillpattern": {
             "fillmode": "overlay",
             "size": 10,
             "solidity": 0.2
            },
            "type": "scatter"
           }
          ],
          "scatter3d": [
           {
            "line": {
             "colorbar": {
              "outlinewidth": 1,
              "tickcolor": "rgb(36,36,36)",
              "ticks": "outside"
             }
            },
            "marker": {
             "colorbar": {
              "outlinewidth": 1,
              "tickcolor": "rgb(36,36,36)",
              "ticks": "outside"
             }
            },
            "type": "scatter3d"
           }
          ],
          "scattercarpet": [
           {
            "marker": {
             "colorbar": {
              "outlinewidth": 1,
              "tickcolor": "rgb(36,36,36)",
              "ticks": "outside"
             }
            },
            "type": "scattercarpet"
           }
          ],
          "scattergeo": [
           {
            "marker": {
             "colorbar": {
              "outlinewidth": 1,
              "tickcolor": "rgb(36,36,36)",
              "ticks": "outside"
             }
            },
            "type": "scattergeo"
           }
          ],
          "scattergl": [
           {
            "marker": {
             "colorbar": {
              "outlinewidth": 1,
              "tickcolor": "rgb(36,36,36)",
              "ticks": "outside"
             }
            },
            "type": "scattergl"
           }
          ],
          "scattermapbox": [
           {
            "marker": {
             "colorbar": {
              "outlinewidth": 1,
              "tickcolor": "rgb(36,36,36)",
              "ticks": "outside"
             }
            },
            "type": "scattermapbox"
           }
          ],
          "scatterpolar": [
           {
            "marker": {
             "colorbar": {
              "outlinewidth": 1,
              "tickcolor": "rgb(36,36,36)",
              "ticks": "outside"
             }
            },
            "type": "scatterpolar"
           }
          ],
          "scatterpolargl": [
           {
            "marker": {
             "colorbar": {
              "outlinewidth": 1,
              "tickcolor": "rgb(36,36,36)",
              "ticks": "outside"
             }
            },
            "type": "scatterpolargl"
           }
          ],
          "scatterternary": [
           {
            "marker": {
             "colorbar": {
              "outlinewidth": 1,
              "tickcolor": "rgb(36,36,36)",
              "ticks": "outside"
             }
            },
            "type": "scatterternary"
           }
          ],
          "surface": [
           {
            "colorbar": {
             "outlinewidth": 1,
             "tickcolor": "rgb(36,36,36)",
             "ticks": "outside"
            },
            "colorscale": [
             [
              0,
              "#440154"
             ],
             [
              0.1111111111111111,
              "#482878"
             ],
             [
              0.2222222222222222,
              "#3e4989"
             ],
             [
              0.3333333333333333,
              "#31688e"
             ],
             [
              0.4444444444444444,
              "#26828e"
             ],
             [
              0.5555555555555556,
              "#1f9e89"
             ],
             [
              0.6666666666666666,
              "#35b779"
             ],
             [
              0.7777777777777778,
              "#6ece58"
             ],
             [
              0.8888888888888888,
              "#b5de2b"
             ],
             [
              1,
              "#fde725"
             ]
            ],
            "type": "surface"
           }
          ],
          "table": [
           {
            "cells": {
             "fill": {
              "color": "rgb(237,237,237)"
             },
             "line": {
              "color": "white"
             }
            },
            "header": {
             "fill": {
              "color": "rgb(217,217,217)"
             },
             "line": {
              "color": "white"
             }
            },
            "type": "table"
           }
          ]
         },
         "layout": {
          "annotationdefaults": {
           "arrowhead": 0,
           "arrowwidth": 1
          },
          "autotypenumbers": "strict",
          "coloraxis": {
           "colorbar": {
            "outlinewidth": 1,
            "tickcolor": "rgb(36,36,36)",
            "ticks": "outside"
           }
          },
          "colorscale": {
           "diverging": [
            [
             0,
             "rgb(103,0,31)"
            ],
            [
             0.1,
             "rgb(178,24,43)"
            ],
            [
             0.2,
             "rgb(214,96,77)"
            ],
            [
             0.3,
             "rgb(244,165,130)"
            ],
            [
             0.4,
             "rgb(253,219,199)"
            ],
            [
             0.5,
             "rgb(247,247,247)"
            ],
            [
             0.6,
             "rgb(209,229,240)"
            ],
            [
             0.7,
             "rgb(146,197,222)"
            ],
            [
             0.8,
             "rgb(67,147,195)"
            ],
            [
             0.9,
             "rgb(33,102,172)"
            ],
            [
             1,
             "rgb(5,48,97)"
            ]
           ],
           "sequential": [
            [
             0,
             "#440154"
            ],
            [
             0.1111111111111111,
             "#482878"
            ],
            [
             0.2222222222222222,
             "#3e4989"
            ],
            [
             0.3333333333333333,
             "#31688e"
            ],
            [
             0.4444444444444444,
             "#26828e"
            ],
            [
             0.5555555555555556,
             "#1f9e89"
            ],
            [
             0.6666666666666666,
             "#35b779"
            ],
            [
             0.7777777777777778,
             "#6ece58"
            ],
            [
             0.8888888888888888,
             "#b5de2b"
            ],
            [
             1,
             "#fde725"
            ]
           ],
           "sequentialminus": [
            [
             0,
             "#440154"
            ],
            [
             0.1111111111111111,
             "#482878"
            ],
            [
             0.2222222222222222,
             "#3e4989"
            ],
            [
             0.3333333333333333,
             "#31688e"
            ],
            [
             0.4444444444444444,
             "#26828e"
            ],
            [
             0.5555555555555556,
             "#1f9e89"
            ],
            [
             0.6666666666666666,
             "#35b779"
            ],
            [
             0.7777777777777778,
             "#6ece58"
            ],
            [
             0.8888888888888888,
             "#b5de2b"
            ],
            [
             1,
             "#fde725"
            ]
           ]
          },
          "colorway": [
           "#1F77B4",
           "#FF7F0E",
           "#2CA02C",
           "#D62728",
           "#9467BD",
           "#8C564B",
           "#E377C2",
           "#7F7F7F",
           "#BCBD22",
           "#17BECF"
          ],
          "font": {
           "color": "rgb(36,36,36)"
          },
          "geo": {
           "bgcolor": "white",
           "lakecolor": "white",
           "landcolor": "white",
           "showlakes": true,
           "showland": true,
           "subunitcolor": "white"
          },
          "hoverlabel": {
           "align": "left"
          },
          "hovermode": "closest",
          "mapbox": {
           "style": "light"
          },
          "paper_bgcolor": "white",
          "plot_bgcolor": "white",
          "polar": {
           "angularaxis": {
            "gridcolor": "rgb(232,232,232)",
            "linecolor": "rgb(36,36,36)",
            "showgrid": false,
            "showline": true,
            "ticks": "outside"
           },
           "bgcolor": "white",
           "radialaxis": {
            "gridcolor": "rgb(232,232,232)",
            "linecolor": "rgb(36,36,36)",
            "showgrid": false,
            "showline": true,
            "ticks": "outside"
           }
          },
          "scene": {
           "xaxis": {
            "backgroundcolor": "white",
            "gridcolor": "rgb(232,232,232)",
            "gridwidth": 2,
            "linecolor": "rgb(36,36,36)",
            "showbackground": true,
            "showgrid": false,
            "showline": true,
            "ticks": "outside",
            "zeroline": false,
            "zerolinecolor": "rgb(36,36,36)"
           },
           "yaxis": {
            "backgroundcolor": "white",
            "gridcolor": "rgb(232,232,232)",
            "gridwidth": 2,
            "linecolor": "rgb(36,36,36)",
            "showbackground": true,
            "showgrid": false,
            "showline": true,
            "ticks": "outside",
            "zeroline": false,
            "zerolinecolor": "rgb(36,36,36)"
           },
           "zaxis": {
            "backgroundcolor": "white",
            "gridcolor": "rgb(232,232,232)",
            "gridwidth": 2,
            "linecolor": "rgb(36,36,36)",
            "showbackground": true,
            "showgrid": false,
            "showline": true,
            "ticks": "outside",
            "zeroline": false,
            "zerolinecolor": "rgb(36,36,36)"
           }
          },
          "shapedefaults": {
           "fillcolor": "black",
           "line": {
            "width": 0
           },
           "opacity": 0.3
          },
          "ternary": {
           "aaxis": {
            "gridcolor": "rgb(232,232,232)",
            "linecolor": "rgb(36,36,36)",
            "showgrid": false,
            "showline": true,
            "ticks": "outside"
           },
           "baxis": {
            "gridcolor": "rgb(232,232,232)",
            "linecolor": "rgb(36,36,36)",
            "showgrid": false,
            "showline": true,
            "ticks": "outside"
           },
           "bgcolor": "white",
           "caxis": {
            "gridcolor": "rgb(232,232,232)",
            "linecolor": "rgb(36,36,36)",
            "showgrid": false,
            "showline": true,
            "ticks": "outside"
           }
          },
          "title": {
           "x": 0.05
          },
          "xaxis": {
           "automargin": true,
           "gridcolor": "rgb(232,232,232)",
           "linecolor": "rgb(36,36,36)",
           "showgrid": false,
           "showline": true,
           "ticks": "outside",
           "title": {
            "standoff": 15
           },
           "zeroline": false,
           "zerolinecolor": "rgb(36,36,36)"
          },
          "yaxis": {
           "automargin": true,
           "gridcolor": "rgb(232,232,232)",
           "linecolor": "rgb(36,36,36)",
           "showgrid": false,
           "showline": true,
           "ticks": "outside",
           "title": {
            "standoff": 15
           },
           "zeroline": false,
           "zerolinecolor": "rgb(36,36,36)"
          }
         }
        },
        "title": {
         "font": {
          "color": "Black",
          "size": 22
         },
         "text": "<b>Intertopic Distance Map</b>",
         "x": 0.5,
         "xanchor": "center",
         "y": 0.95,
         "yanchor": "top"
        },
        "width": 650,
        "xaxis": {
         "anchor": "y",
         "domain": [
          0,
          1
         ],
         "range": [
          -16.448974752426146,
          24.094832515716554
         ],
         "title": {
          "text": ""
         },
         "visible": false
        },
        "yaxis": {
         "anchor": "x",
         "domain": [
          0,
          1
         ],
         "range": [
          -12.08172402381897,
          21.98684720993042
         ],
         "title": {
          "text": ""
         },
         "visible": false
        }
       }
      }
     },
     "metadata": {},
     "output_type": "display_data"
    }
   ],
   "source": [
    "topic_model.visualize_topics().show()"
   ]
  },
  {
   "cell_type": "code",
   "execution_count": 58,
   "metadata": {},
   "outputs": [
    {
     "data": {
      "text/html": [
       "<div>\n",
       "<style scoped>\n",
       "    .dataframe tbody tr th:only-of-type {\n",
       "        vertical-align: middle;\n",
       "    }\n",
       "\n",
       "    .dataframe tbody tr th {\n",
       "        vertical-align: top;\n",
       "    }\n",
       "\n",
       "    .dataframe thead th {\n",
       "        text-align: right;\n",
       "    }\n",
       "</style>\n",
       "<table border=\"1\" class=\"dataframe\">\n",
       "  <thead>\n",
       "    <tr style=\"text-align: right;\">\n",
       "      <th></th>\n",
       "      <th>Topic</th>\n",
       "      <th>Count</th>\n",
       "      <th>Name</th>\n",
       "      <th>Representation</th>\n",
       "      <th>Representative_Docs</th>\n",
       "    </tr>\n",
       "  </thead>\n",
       "  <tbody>\n",
       "    <tr>\n",
       "      <th>0</th>\n",
       "      <td>-1</td>\n",
       "      <td>147</td>\n",
       "      <td>-1_call_dudley_cerniglia_inc</td>\n",
       "      <td>[call, dudley, cerniglia, inc, morning, financ...</td>\n",
       "      <td>[Joining me today are Pat Moore, Chairman and ...</td>\n",
       "    </tr>\n",
       "    <tr>\n",
       "      <th>1</th>\n",
       "      <td>0</td>\n",
       "      <td>2895</td>\n",
       "      <td>0_the_in_to_of</td>\n",
       "      <td>[the, in, to, of, we, and, our, year, quarter,...</td>\n",
       "      <td>[Our fourth quarter 2006 segment operating pro...</td>\n",
       "    </tr>\n",
       "    <tr>\n",
       "      <th>2</th>\n",
       "      <td>1</td>\n",
       "      <td>71</td>\n",
       "      <td>1_then_will_ll_results</td>\n",
       "      <td>[then, will, ll, results, call, update, discus...</td>\n",
       "      <td>[We will be talking about a number of items, s...</td>\n",
       "    </tr>\n",
       "    <tr>\n",
       "      <th>3</th>\n",
       "      <td>2</td>\n",
       "      <td>51</td>\n",
       "      <td>2_camp_inc_ceo_ken</td>\n",
       "      <td>[camp, inc, ceo, ken, president, hillenbrand, ...</td>\n",
       "      <td>[Ken Camp,  Hillenbrand Inc - President, CEO  ...</td>\n",
       "    </tr>\n",
       "    <tr>\n",
       "      <th>4</th>\n",
       "      <td>3</td>\n",
       "      <td>47</td>\n",
       "      <td>3_corporation_smurfit_stone_container</td>\n",
       "      <td>[corporation, smurfit, stone, container, haudr...</td>\n",
       "      <td>[---------------------------------------------...</td>\n",
       "    </tr>\n",
       "    <tr>\n",
       "      <th>5</th>\n",
       "      <td>4</td>\n",
       "      <td>39</td>\n",
       "      <td>4_corporation_container_stone_smurfit</td>\n",
       "      <td>[corporation, container, stone, smurfit, presi...</td>\n",
       "      <td>[---------------------------------------------...</td>\n",
       "    </tr>\n",
       "    <tr>\n",
       "      <th>6</th>\n",
       "      <td>5</td>\n",
       "      <td>33</td>\n",
       "      <td>5_conference_ladies_gentlemen_conduct</td>\n",
       "      <td>[conference, ladies, gentlemen, conduct, mode,...</td>\n",
       "      <td>[Ladies and gentlemen thank you for standing b...</td>\n",
       "    </tr>\n",
       "    <tr>\n",
       "      <th>7</th>\n",
       "      <td>6</td>\n",
       "      <td>32</td>\n",
       "      <td>6_replay_internationally_midnight_eastern</td>\n",
       "      <td>[replay, internationally, midnight, eastern, d...</td>\n",
       "      <td>[Good morning everyone and welcome to the Hill...</td>\n",
       "    </tr>\n",
       "    <tr>\n",
       "      <th>8</th>\n",
       "      <td>7</td>\n",
       "      <td>31</td>\n",
       "      <td>7_recording_any_consent_text</td>\n",
       "      <td>[recording, any, consent, text, permitted, wri...</td>\n",
       "      <td>[If you ask a question during today's call, it...</td>\n",
       "    </tr>\n",
       "    <tr>\n",
       "      <th>9</th>\n",
       "      <td>8</td>\n",
       "      <td>31</td>\n",
       "      <td>8_director_raver_inc_ceo</td>\n",
       "      <td>[director, raver, inc, ceo, joe, amp, presiden...</td>\n",
       "      <td>[---------------------------------------------...</td>\n",
       "    </tr>\n",
       "    <tr>\n",
       "      <th>10</th>\n",
       "      <td>9</td>\n",
       "      <td>29</td>\n",
       "      <td>9_statements_securities_looking_laws</td>\n",
       "      <td>[statements, securities, looking, laws, harbor...</td>\n",
       "      <td>[Prior to getting into our prepared remarks ab...</td>\n",
       "    </tr>\n",
       "    <tr>\n",
       "      <th>11</th>\n",
       "      <td>10</td>\n",
       "      <td>28</td>\n",
       "      <td>10_analyst_suisse_klein_bruce</td>\n",
       "      <td>[analyst, suisse, klein, bruce, deutsche, banc...</td>\n",
       "      <td>[---------------------------------------------...</td>\n",
       "    </tr>\n",
       "    <tr>\n",
       "      <th>12</th>\n",
       "      <td>11</td>\n",
       "      <td>26</td>\n",
       "      <td>11_relations_investor_go_mr</td>\n",
       "      <td>[relations, investor, go, mr, ahead, conferenc...</td>\n",
       "      <td>[Now at this time it's my pleasure to turn the...</td>\n",
       "    </tr>\n",
       "    <tr>\n",
       "      <th>13</th>\n",
       "      <td>12</td>\n",
       "      <td>24</td>\n",
       "      <td>12_ready_open_questions_operator</td>\n",
       "      <td>[ready, open, questions, operator, concludes, ...</td>\n",
       "      <td>[That concludes our prepared remarks. We're re...</td>\n",
       "    </tr>\n",
       "    <tr>\n",
       "      <th>14</th>\n",
       "      <td>13</td>\n",
       "      <td>22</td>\n",
       "      <td>13_concluding_ken_his_back</td>\n",
       "      <td>[concluding, ken, his, back, remarks, turn, no...</td>\n",
       "      <td>[Now I'll turn the call back to Ken for his co...</td>\n",
       "    </tr>\n",
       "    <tr>\n",
       "      <th>15</th>\n",
       "      <td>14</td>\n",
       "      <td>21</td>\n",
       "      <td>14_moore_pat_ceo_stone</td>\n",
       "      <td>[moore, pat, ceo, stone, smurfit, president, a...</td>\n",
       "      <td>[Pat Moore,  Smurfit-Stone - President and CEO...</td>\n",
       "    </tr>\n",
       "    <tr>\n",
       "      <th>16</th>\n",
       "      <td>15</td>\n",
       "      <td>21</td>\n",
       "      <td>15_measures_gaap_non_discussing</td>\n",
       "      <td>[measures, gaap, non, discussing, encourage, d...</td>\n",
       "      <td>[Also during the course of this call, we will ...</td>\n",
       "    </tr>\n",
       "    <tr>\n",
       "      <th>17</th>\n",
       "      <td>16</td>\n",
       "      <td>20</td>\n",
       "      <td>16_kristina_detail_turn_more</td>\n",
       "      <td>[kristina, detail, turn, more, let, bit, me, c...</td>\n",
       "      <td>[With that, let me turn the call over to Krist...</td>\n",
       "    </tr>\n",
       "    <tr>\n",
       "      <th>18</th>\n",
       "      <td>17</td>\n",
       "      <td>20</td>\n",
       "      <td>17_turn_joe_call_back</td>\n",
       "      <td>[turn, joe, call, back, ll, over, now, time, l...</td>\n",
       "      <td>[At this time, I'll turn the call back over to...</td>\n",
       "    </tr>\n",
       "    <tr>\n",
       "      <th>19</th>\n",
       "      <td>18</td>\n",
       "      <td>20</td>\n",
       "      <td>18_statements_actual_measures_looking</td>\n",
       "      <td>[statements, actual, measures, looking, forwar...</td>\n",
       "      <td>[Before I turn the call over to Joe, let me re...</td>\n",
       "    </tr>\n",
       "    <tr>\n",
       "      <th>20</th>\n",
       "      <td>19</td>\n",
       "      <td>20</td>\n",
       "      <td>19_moore_pat_ceo_stone</td>\n",
       "      <td>[moore, pat, ceo, stone, smurfit, president, c...</td>\n",
       "      <td>[---------------------------------------------...</td>\n",
       "    </tr>\n",
       "    <tr>\n",
       "      <th>21</th>\n",
       "      <td>20</td>\n",
       "      <td>20</td>\n",
       "      <td>20_ceo_inc_president_corp</td>\n",
       "      <td>[ceo, inc, president, corp, raver, joe, hillen...</td>\n",
       "      <td>[---------------------------------------------...</td>\n",
       "    </tr>\n",
       "    <tr>\n",
       "      <th>22</th>\n",
       "      <td>21</td>\n",
       "      <td>19</td>\n",
       "      <td>21_me_if_please_call</td>\n",
       "      <td>[me, if, please, call, 812, mail, hesitate, di...</td>\n",
       "      <td>[Now, let me provide some information regardin...</td>\n",
       "    </tr>\n",
       "    <tr>\n",
       "      <th>23</th>\n",
       "      <td>22</td>\n",
       "      <td>19</td>\n",
       "      <td>22_turn_now_chuck_review</td>\n",
       "      <td>[turn, now, chuck, review, over, discussion, f...</td>\n",
       "      <td>[Now I'd like to turn the discussion over to C...</td>\n",
       "    </tr>\n",
       "    <tr>\n",
       "      <th>24</th>\n",
       "      <td>23</td>\n",
       "      <td>18</td>\n",
       "      <td>23_corporation_moore_chairman_ceo</td>\n",
       "      <td>[corporation, moore, chairman, ceo, container,...</td>\n",
       "      <td>[---------------------------------------------...</td>\n",
       "    </tr>\n",
       "    <tr>\n",
       "      <th>25</th>\n",
       "      <td>24</td>\n",
       "      <td>18</td>\n",
       "      <td>24_officer_chief_lucchese_president</td>\n",
       "      <td>[officer, chief, lucchese, president, camp, ci...</td>\n",
       "      <td>[With me on today's call are Hillenbrand Presi...</td>\n",
       "    </tr>\n",
       "    <tr>\n",
       "      <th>26</th>\n",
       "      <td>25</td>\n",
       "      <td>18</td>\n",
       "      <td>25_ken_call_prepared_will</td>\n",
       "      <td>[ken, call, prepared, will, cindy, start, foll...</td>\n",
       "      <td>[Now let me provide some information regarding...</td>\n",
       "    </tr>\n",
       "    <tr>\n",
       "      <th>27</th>\n",
       "      <td>26</td>\n",
       "      <td>17</td>\n",
       "      <td>26_operator_unidentified_119_representative</td>\n",
       "      <td>[operator, unidentified, 119, representative, ...</td>\n",
       "      <td>[---------------------------------------------...</td>\n",
       "    </tr>\n",
       "    <tr>\n",
       "      <th>28</th>\n",
       "      <td>27</td>\n",
       "      <td>17</td>\n",
       "      <td>27_ready_open_joined_session</td>\n",
       "      <td>[ready, open, joined, session, kim, questions,...</td>\n",
       "      <td>[That concludes our prepared remarks. For toda...</td>\n",
       "    </tr>\n",
       "    <tr>\n",
       "      <th>29</th>\n",
       "      <td>28</td>\n",
       "      <td>17</td>\n",
       "      <td>28_recording_or_any_replay</td>\n",
       "      <td>[recording, or, any, replay, be, audio, hillen...</td>\n",
       "      <td>[Good morning everyone, and welcome to Hillenb...</td>\n",
       "    </tr>\n",
       "    <tr>\n",
       "      <th>30</th>\n",
       "      <td>29</td>\n",
       "      <td>17</td>\n",
       "      <td>29_cfo_lucchese_inc_cindy</td>\n",
       "      <td>[cfo, lucchese, inc, cindy, svp, hillenbrand, ...</td>\n",
       "      <td>[Cindy Lucchese,  Hillenbrand, Inc. - SVP and ...</td>\n",
       "    </tr>\n",
       "    <tr>\n",
       "      <th>31</th>\n",
       "      <td>30</td>\n",
       "      <td>16</td>\n",
       "      <td>30_joined_call_joining_morning</td>\n",
       "      <td>[joined, call, joining, morning, cerniglia, po...</td>\n",
       "      <td>[Thank you, operator. Good morning and thanks ...</td>\n",
       "    </tr>\n",
       "    <tr>\n",
       "      <th>32</th>\n",
       "      <td>31</td>\n",
       "      <td>16</td>\n",
       "      <td>31_warburg_ubs_analyst_hoffman</td>\n",
       "      <td>[warburg, ubs, analyst, hoffman, bill, schneid...</td>\n",
       "      <td>[---------------------------------------------...</td>\n",
       "    </tr>\n",
       "    <tr>\n",
       "      <th>33</th>\n",
       "      <td>32</td>\n",
       "      <td>16</td>\n",
       "      <td>32_cindy_lucchese_cfo_turn</td>\n",
       "      <td>[cindy, lucchese, cfo, turn, now, over, call, ...</td>\n",
       "      <td>[Now I'll turn the call over to our CFO, Cindy...</td>\n",
       "    </tr>\n",
       "    <tr>\n",
       "      <th>34</th>\n",
       "      <td>33</td>\n",
       "      <td>16</td>\n",
       "      <td>33_morning_good_thank_tim</td>\n",
       "      <td>[morning, good, thank, tim, you, thanks, pat, ...</td>\n",
       "      <td>[Thank you, Pat. Good morning, Thank you, Pat....</td>\n",
       "    </tr>\n",
       "    <tr>\n",
       "      <th>35</th>\n",
       "      <td>34</td>\n",
       "      <td>15</td>\n",
       "      <td>34_morning_chief_officer_controller</td>\n",
       "      <td>[morning, chief, officer, controller, presiden...</td>\n",
       "      <td>[Thanks. Good morning. Welcome to Smurfit-Ston...</td>\n",
       "    </tr>\n",
       "    <tr>\n",
       "      <th>36</th>\n",
       "      <td>35</td>\n",
       "      <td>14</td>\n",
       "      <td>35_thank_great_much_thanks</td>\n",
       "      <td>[thank, great, much, thanks, right, you, very,...</td>\n",
       "      <td>[Thank you very much, All right, great. Thank ...</td>\n",
       "    </tr>\n",
       "    <tr>\n",
       "      <th>37</th>\n",
       "      <td>36</td>\n",
       "      <td>14</td>\n",
       "      <td>36_hinrichs_cfo_chuck_stone</td>\n",
       "      <td>[hinrichs, cfo, chuck, stone, smurfit, jeffrey...</td>\n",
       "      <td>[Chuck Hinrichs,  Smurfit-Stone - CFO   [9], C...</td>\n",
       "    </tr>\n",
       "    <tr>\n",
       "      <th>38</th>\n",
       "      <td>37</td>\n",
       "      <td>14</td>\n",
       "      <td>37_svp_cfo_inc_cerniglia</td>\n",
       "      <td>[svp, cfo, inc, cerniglia, lucchese, hillenbra...</td>\n",
       "      <td>[---------------------------------------------...</td>\n",
       "    </tr>\n",
       "    <tr>\n",
       "      <th>39</th>\n",
       "      <td>38</td>\n",
       "      <td>14</td>\n",
       "      <td>38_your_participation_happy_questions</td>\n",
       "      <td>[your, participation, happy, questions, take, ...</td>\n",
       "      <td>[I appreciate your participation this morning....</td>\n",
       "    </tr>\n",
       "    <tr>\n",
       "      <th>40</th>\n",
       "      <td>39</td>\n",
       "      <td>14</td>\n",
       "      <td>39_raver_mr_pleasure_executive</td>\n",
       "      <td>[raver, mr, pleasure, executive, my, go, ahead...</td>\n",
       "      <td>[At this time, it is my pleasure to turn the c...</td>\n",
       "    </tr>\n",
       "    <tr>\n",
       "      <th>41</th>\n",
       "      <td>40</td>\n",
       "      <td>14</td>\n",
       "      <td>40_ken_camp_pleasure_my</td>\n",
       "      <td>[ken, camp, pleasure, my, turn, president, ceo...</td>\n",
       "      <td>[Now it is my pleasure to turn the call over t...</td>\n",
       "    </tr>\n",
       "    <tr>\n",
       "      <th>42</th>\n",
       "      <td>41</td>\n",
       "      <td>13</td>\n",
       "      <td>41_ir_gordon_chris_inc</td>\n",
       "      <td>[ir, gordon, chris, inc, director, hillenbrand...</td>\n",
       "      <td>[---------------------------------------------...</td>\n",
       "    </tr>\n",
       "    <tr>\n",
       "      <th>43</th>\n",
       "      <td>42</td>\n",
       "      <td>13</td>\n",
       "      <td>42_vp_lanning_ir_mark</td>\n",
       "      <td>[vp, lanning, ir, mark, inc, treasury, communi...</td>\n",
       "      <td>[---------------------------------------------...</td>\n",
       "    </tr>\n",
       "    <tr>\n",
       "      <th>44</th>\n",
       "      <td>43</td>\n",
       "      <td>13</td>\n",
       "      <td>43_thank_chuck_thanks_you</td>\n",
       "      <td>[thank, chuck, thanks, you, ken, cindy, joe, s...</td>\n",
       "      <td>[Thank you, Chuck, Thank you, Chuck, Thank you...</td>\n",
       "    </tr>\n",
       "    <tr>\n",
       "      <th>45</th>\n",
       "      <td>44</td>\n",
       "      <td>13</td>\n",
       "      <td>44_uncertainties_risks_statements_seasonality</td>\n",
       "      <td>[uncertainties, risks, statements, seasonality...</td>\n",
       "      <td>[I need to remind you that this call contains ...</td>\n",
       "    </tr>\n",
       "    <tr>\n",
       "      <th>46</th>\n",
       "      <td>45</td>\n",
       "      <td>12</td>\n",
       "      <td>45_chairman_corporation_moore_container</td>\n",
       "      <td>[chairman, corporation, moore, container, amp,...</td>\n",
       "      <td>[---------------------------------------------...</td>\n",
       "    </tr>\n",
       "    <tr>\n",
       "      <th>47</th>\n",
       "      <td>46</td>\n",
       "      <td>11</td>\n",
       "      <td>46_comes_question_next_from</td>\n",
       "      <td>[comes, question, next, from, please, go, ahea...</td>\n",
       "      <td>[The first question comes in the line of Rich ...</td>\n",
       "    </tr>\n",
       "    <tr>\n",
       "      <th>48</th>\n",
       "      <td>47</td>\n",
       "      <td>11</td>\n",
       "      <td>47_concluding_his_back_remarks</td>\n",
       "      <td>[concluding, his, back, remarks, joe, turn, ti...</td>\n",
       "      <td>[At this time, I will turn the call back to Jo...</td>\n",
       "    </tr>\n",
       "    <tr>\n",
       "      <th>49</th>\n",
       "      <td>48</td>\n",
       "      <td>11</td>\n",
       "      <td>48_questions_considerations_refrain_question</td>\n",
       "      <td>[questions, considerations, refrain, question,...</td>\n",
       "      <td>[Thanks, Pat. That concludes our prepared rema...</td>\n",
       "    </tr>\n",
       "  </tbody>\n",
       "</table>\n",
       "</div>"
      ],
      "text/plain": [
       "    Topic  Count                                           Name  \\\n",
       "0      -1    147                   -1_call_dudley_cerniglia_inc   \n",
       "1       0   2895                                 0_the_in_to_of   \n",
       "2       1     71                         1_then_will_ll_results   \n",
       "3       2     51                             2_camp_inc_ceo_ken   \n",
       "4       3     47          3_corporation_smurfit_stone_container   \n",
       "5       4     39          4_corporation_container_stone_smurfit   \n",
       "6       5     33          5_conference_ladies_gentlemen_conduct   \n",
       "7       6     32      6_replay_internationally_midnight_eastern   \n",
       "8       7     31                   7_recording_any_consent_text   \n",
       "9       8     31                       8_director_raver_inc_ceo   \n",
       "10      9     29           9_statements_securities_looking_laws   \n",
       "11     10     28                  10_analyst_suisse_klein_bruce   \n",
       "12     11     26                    11_relations_investor_go_mr   \n",
       "13     12     24               12_ready_open_questions_operator   \n",
       "14     13     22                     13_concluding_ken_his_back   \n",
       "15     14     21                         14_moore_pat_ceo_stone   \n",
       "16     15     21                15_measures_gaap_non_discussing   \n",
       "17     16     20                   16_kristina_detail_turn_more   \n",
       "18     17     20                          17_turn_joe_call_back   \n",
       "19     18     20          18_statements_actual_measures_looking   \n",
       "20     19     20                         19_moore_pat_ceo_stone   \n",
       "21     20     20                      20_ceo_inc_president_corp   \n",
       "22     21     19                           21_me_if_please_call   \n",
       "23     22     19                       22_turn_now_chuck_review   \n",
       "24     23     18              23_corporation_moore_chairman_ceo   \n",
       "25     24     18            24_officer_chief_lucchese_president   \n",
       "26     25     18                      25_ken_call_prepared_will   \n",
       "27     26     17    26_operator_unidentified_119_representative   \n",
       "28     27     17                   27_ready_open_joined_session   \n",
       "29     28     17                     28_recording_or_any_replay   \n",
       "30     29     17                      29_cfo_lucchese_inc_cindy   \n",
       "31     30     16                 30_joined_call_joining_morning   \n",
       "32     31     16                 31_warburg_ubs_analyst_hoffman   \n",
       "33     32     16                     32_cindy_lucchese_cfo_turn   \n",
       "34     33     16                      33_morning_good_thank_tim   \n",
       "35     34     15            34_morning_chief_officer_controller   \n",
       "36     35     14                     35_thank_great_much_thanks   \n",
       "37     36     14                    36_hinrichs_cfo_chuck_stone   \n",
       "38     37     14                       37_svp_cfo_inc_cerniglia   \n",
       "39     38     14          38_your_participation_happy_questions   \n",
       "40     39     14                 39_raver_mr_pleasure_executive   \n",
       "41     40     14                        40_ken_camp_pleasure_my   \n",
       "42     41     13                         41_ir_gordon_chris_inc   \n",
       "43     42     13                          42_vp_lanning_ir_mark   \n",
       "44     43     13                      43_thank_chuck_thanks_you   \n",
       "45     44     13  44_uncertainties_risks_statements_seasonality   \n",
       "46     45     12        45_chairman_corporation_moore_container   \n",
       "47     46     11                    46_comes_question_next_from   \n",
       "48     47     11                 47_concluding_his_back_remarks   \n",
       "49     48     11   48_questions_considerations_refrain_question   \n",
       "\n",
       "                                       Representation  \\\n",
       "0   [call, dudley, cerniglia, inc, morning, financ...   \n",
       "1   [the, in, to, of, we, and, our, year, quarter,...   \n",
       "2   [then, will, ll, results, call, update, discus...   \n",
       "3   [camp, inc, ceo, ken, president, hillenbrand, ...   \n",
       "4   [corporation, smurfit, stone, container, haudr...   \n",
       "5   [corporation, container, stone, smurfit, presi...   \n",
       "6   [conference, ladies, gentlemen, conduct, mode,...   \n",
       "7   [replay, internationally, midnight, eastern, d...   \n",
       "8   [recording, any, consent, text, permitted, wri...   \n",
       "9   [director, raver, inc, ceo, joe, amp, presiden...   \n",
       "10  [statements, securities, looking, laws, harbor...   \n",
       "11  [analyst, suisse, klein, bruce, deutsche, banc...   \n",
       "12  [relations, investor, go, mr, ahead, conferenc...   \n",
       "13  [ready, open, questions, operator, concludes, ...   \n",
       "14  [concluding, ken, his, back, remarks, turn, no...   \n",
       "15  [moore, pat, ceo, stone, smurfit, president, a...   \n",
       "16  [measures, gaap, non, discussing, encourage, d...   \n",
       "17  [kristina, detail, turn, more, let, bit, me, c...   \n",
       "18  [turn, joe, call, back, ll, over, now, time, l...   \n",
       "19  [statements, actual, measures, looking, forwar...   \n",
       "20  [moore, pat, ceo, stone, smurfit, president, c...   \n",
       "21  [ceo, inc, president, corp, raver, joe, hillen...   \n",
       "22  [me, if, please, call, 812, mail, hesitate, di...   \n",
       "23  [turn, now, chuck, review, over, discussion, f...   \n",
       "24  [corporation, moore, chairman, ceo, container,...   \n",
       "25  [officer, chief, lucchese, president, camp, ci...   \n",
       "26  [ken, call, prepared, will, cindy, start, foll...   \n",
       "27  [operator, unidentified, 119, representative, ...   \n",
       "28  [ready, open, joined, session, kim, questions,...   \n",
       "29  [recording, or, any, replay, be, audio, hillen...   \n",
       "30  [cfo, lucchese, inc, cindy, svp, hillenbrand, ...   \n",
       "31  [joined, call, joining, morning, cerniglia, po...   \n",
       "32  [warburg, ubs, analyst, hoffman, bill, schneid...   \n",
       "33  [cindy, lucchese, cfo, turn, now, over, call, ...   \n",
       "34  [morning, good, thank, tim, you, thanks, pat, ...   \n",
       "35  [morning, chief, officer, controller, presiden...   \n",
       "36  [thank, great, much, thanks, right, you, very,...   \n",
       "37  [hinrichs, cfo, chuck, stone, smurfit, jeffrey...   \n",
       "38  [svp, cfo, inc, cerniglia, lucchese, hillenbra...   \n",
       "39  [your, participation, happy, questions, take, ...   \n",
       "40  [raver, mr, pleasure, executive, my, go, ahead...   \n",
       "41  [ken, camp, pleasure, my, turn, president, ceo...   \n",
       "42  [ir, gordon, chris, inc, director, hillenbrand...   \n",
       "43  [vp, lanning, ir, mark, inc, treasury, communi...   \n",
       "44  [thank, chuck, thanks, you, ken, cindy, joe, s...   \n",
       "45  [uncertainties, risks, statements, seasonality...   \n",
       "46  [chairman, corporation, moore, container, amp,...   \n",
       "47  [comes, question, next, from, please, go, ahea...   \n",
       "48  [concluding, his, back, remarks, joe, turn, ti...   \n",
       "49  [questions, considerations, refrain, question,...   \n",
       "\n",
       "                                  Representative_Docs  \n",
       "0   [Joining me today are Pat Moore, Chairman and ...  \n",
       "1   [Our fourth quarter 2006 segment operating pro...  \n",
       "2   [We will be talking about a number of items, s...  \n",
       "3   [Ken Camp,  Hillenbrand Inc - President, CEO  ...  \n",
       "4   [---------------------------------------------...  \n",
       "5   [---------------------------------------------...  \n",
       "6   [Ladies and gentlemen thank you for standing b...  \n",
       "7   [Good morning everyone and welcome to the Hill...  \n",
       "8   [If you ask a question during today's call, it...  \n",
       "9   [---------------------------------------------...  \n",
       "10  [Prior to getting into our prepared remarks ab...  \n",
       "11  [---------------------------------------------...  \n",
       "12  [Now at this time it's my pleasure to turn the...  \n",
       "13  [That concludes our prepared remarks. We're re...  \n",
       "14  [Now I'll turn the call back to Ken for his co...  \n",
       "15  [Pat Moore,  Smurfit-Stone - President and CEO...  \n",
       "16  [Also during the course of this call, we will ...  \n",
       "17  [With that, let me turn the call over to Krist...  \n",
       "18  [At this time, I'll turn the call back over to...  \n",
       "19  [Before I turn the call over to Joe, let me re...  \n",
       "20  [---------------------------------------------...  \n",
       "21  [---------------------------------------------...  \n",
       "22  [Now, let me provide some information regardin...  \n",
       "23  [Now I'd like to turn the discussion over to C...  \n",
       "24  [---------------------------------------------...  \n",
       "25  [With me on today's call are Hillenbrand Presi...  \n",
       "26  [Now let me provide some information regarding...  \n",
       "27  [---------------------------------------------...  \n",
       "28  [That concludes our prepared remarks. For toda...  \n",
       "29  [Good morning everyone, and welcome to Hillenb...  \n",
       "30  [Cindy Lucchese,  Hillenbrand, Inc. - SVP and ...  \n",
       "31  [Thank you, operator. Good morning and thanks ...  \n",
       "32  [---------------------------------------------...  \n",
       "33  [Now I'll turn the call over to our CFO, Cindy...  \n",
       "34  [Thank you, Pat. Good morning, Thank you, Pat....  \n",
       "35  [Thanks. Good morning. Welcome to Smurfit-Ston...  \n",
       "36  [Thank you very much, All right, great. Thank ...  \n",
       "37  [Chuck Hinrichs,  Smurfit-Stone - CFO   [9], C...  \n",
       "38  [---------------------------------------------...  \n",
       "39  [I appreciate your participation this morning....  \n",
       "40  [At this time, it is my pleasure to turn the c...  \n",
       "41  [Now it is my pleasure to turn the call over t...  \n",
       "42  [---------------------------------------------...  \n",
       "43  [---------------------------------------------...  \n",
       "44  [Thank you, Chuck, Thank you, Chuck, Thank you...  \n",
       "45  [I need to remind you that this call contains ...  \n",
       "46  [---------------------------------------------...  \n",
       "47  [The first question comes in the line of Rich ...  \n",
       "48  [At this time, I will turn the call back to Jo...  \n",
       "49  [Thanks, Pat. That concludes our prepared rema...  "
      ]
     },
     "execution_count": 58,
     "metadata": {},
     "output_type": "execute_result"
    }
   ],
   "source": [
    "topic_model.get_topic_info()"
   ]
  },
  {
   "cell_type": "code",
   "execution_count": 59,
   "metadata": {},
   "outputs": [
    {
     "data": {
      "application/vnd.plotly.v1+json": {
       "config": {
        "plotlyServerURL": "https://plot.ly"
       },
       "data": [
        {
         "marker": {
          "color": "#D55E00"
         },
         "orientation": "h",
         "type": "bar",
         "x": [
          0.012071148579100192,
          0.012707408374379586,
          0.012928099148641408,
          0.014579595151239367,
          0.014850078916326373,
          0.015441296234445704,
          0.01549357897710391,
          0.016055070381938426,
          0.016360601551061,
          0.01761896666720122
         ],
         "xaxis": "x",
         "y": [
          "million  ",
          "quarter  ",
          "year  ",
          "our  ",
          "and  ",
          "we  ",
          "of  ",
          "to  ",
          "in  ",
          "the  "
         ],
         "yaxis": "y"
        },
        {
         "marker": {
          "color": "#0072B2"
         },
         "orientation": "h",
         "type": "bar",
         "x": [
          0.024844365535341754,
          0.02565826687694641,
          0.026675094728325938,
          0.027507759883980767,
          0.03119272696558093,
          0.03234820937201975,
          0.03387708987739666,
          0.03639061995251739,
          0.03690575701401783,
          0.040337897929299135
         ],
         "xaxis": "x2",
         "y": [
          "today  ",
          "our  ",
          "provide  ",
          "discuss  ",
          "update  ",
          "call  ",
          "results  ",
          "ll  ",
          "will  ",
          "then  "
         ],
         "yaxis": "y2"
        },
        {
         "marker": {
          "color": "#CC79A7"
         },
         "orientation": "h",
         "type": "bar",
         "x": [
          0.06631824684371143,
          0.07308183368849125,
          0.0798194813302643,
          0.09972478779893403,
          0.25380098660676204,
          0.3233321007044684,
          0.3355726916823403,
          0.35526921758841457,
          0.4159737610027734,
          0.4287746035373161
         ],
         "xaxis": "x3",
         "y": [
          "director  ",
          "amp  ",
          "joe  ",
          "raver  ",
          "hillenbrand  ",
          "president  ",
          "ken  ",
          "ceo  ",
          "inc  ",
          "camp  "
         ],
         "yaxis": "y3"
        },
        {
         "marker": {
          "color": "#E69F00"
         },
         "orientation": "h",
         "type": "bar",
         "x": [
          0.1538869138314336,
          0.18240999590262644,
          0.1850239665889143,
          0.22957078966365216,
          0.24564932345170484,
          0.2509727273833182,
          0.2960918803780901,
          0.33014108499156763,
          0.33184222065381797,
          0.3376993114294134
         ],
         "xaxis": "x4",
         "y": [
          "chuck  ",
          "hinrichs  ",
          "cfo  ",
          "ir  ",
          "john  ",
          "haudrich  ",
          "container  ",
          "stone  ",
          "smurfit  ",
          "corporation  "
         ],
         "yaxis": "y4"
        },
        {
         "marker": {
          "color": "#56B4E9"
         },
         "orientation": "h",
         "type": "bar",
         "x": [
          0.10890109622322784,
          0.12334931105927618,
          0.13840291798215254,
          0.14001569514415008,
          0.1580886631156096,
          0.16621388144114094,
          0.2138538755324605,
          0.21759298783535141,
          0.22406953109693306,
          0.29548689750073676
         ],
         "xaxis": "x5",
         "y": [
          "klinger  ",
          "cfo  ",
          "vp  ",
          "coo  ",
          "hinrichs  ",
          "president  ",
          "smurfit  ",
          "stone  ",
          "container  ",
          "corporation  "
         ],
         "yaxis": "y5"
        },
        {
         "marker": {
          "color": "#009E73"
         },
         "orientation": "h",
         "type": "bar",
         "x": [
          0.06033423316055469,
          0.06069182195969521,
          0.061843427112074155,
          0.06816110037453639,
          0.07042081143566115,
          0.07173233979439476,
          0.07225216899963716,
          0.07309298808676815,
          0.07590425685933615,
          0.10686866525855279
         ],
         "xaxis": "x6",
         "y": [
          "question  ",
          "standing  ",
          "answer  ",
          "listen  ",
          "participants  ",
          "mode  ",
          "conduct  ",
          "gentlemen  ",
          "ladies  ",
          "conference  "
         ],
         "yaxis": "y6"
        },
        {
         "marker": {
          "color": "#F0E442"
         },
         "orientation": "h",
         "type": "bar",
         "x": [
          0.05395242677102207,
          0.05542407397282457,
          0.056488493445588976,
          0.0578806193448621,
          0.05812999291266435,
          0.060943350473198446,
          0.06344101394645395,
          0.06663417481461813,
          0.06860495964653648,
          0.08986122173395086
         ],
         "xaxis": "x7",
         "y": [
          "id  ",
          "until  ",
          "available  ",
          "states  ",
          "united  ",
          "dialing  ",
          "eastern  ",
          "midnight  ",
          "internationally  ",
          "replay  "
         ],
         "yaxis": "y7"
        },
        {
         "marker": {
          "color": "#D55E00"
         },
         "orientation": "h",
         "type": "bar",
         "x": [
          0.09527777335129299,
          0.09565329875913088,
          0.09706366520628396,
          0.09706366520628396,
          0.09983173621798455,
          0.09983173621798455,
          0.09983173621798455,
          0.10029912071316008,
          0.13025990809420773,
          0.16756385421281003
         ],
         "xaxis": "x8",
         "y": [
          "ask  ",
          "audio  ",
          "transcript  ",
          "transmission  ",
          "written  ",
          "permitted  ",
          "text  ",
          "consent  ",
          "any  ",
          "recording  "
         ],
         "yaxis": "y8"
        },
        {
         "marker": {
          "color": "#0072B2"
         },
         "orientation": "h",
         "type": "bar",
         "x": [
          0.014703256797283563,
          0.021445520371791024,
          0.23209333250095351,
          0.30881865448426776,
          0.34197057237901585,
          0.3430647667692794,
          0.36942336968357053,
          0.39730189762708445,
          0.4286179325796416,
          0.45973605381696375
         ],
         "xaxis": "x9",
         "y": [
          "casket  ",
          "coo  ",
          "hillenbrand  ",
          "president  ",
          "amp  ",
          "joe  ",
          "ceo  ",
          "inc  ",
          "raver  ",
          "director  "
         ],
         "yaxis": "y9"
        },
        {
         "marker": {
          "color": "#CC79A7"
         },
         "orientation": "h",
         "type": "bar",
         "x": [
          0.05875285333915223,
          0.05892220299889322,
          0.05998601630362,
          0.06115226191239145,
          0.06205751981316081,
          0.06274764113819446,
          0.0651196168450582,
          0.06655958218187721,
          0.06837998799781857,
          0.11475660630733545
         ],
         "xaxis": "x10",
         "y": [
          "subject  ",
          "provisions  ",
          "materially  ",
          "safe  ",
          "forward  ",
          "harbor  ",
          "laws  ",
          "looking  ",
          "securities  ",
          "statements  "
         ],
         "yaxis": "y10"
        }
       ],
       "layout": {
        "annotations": [
         {
          "font": {
           "size": 16
          },
          "showarrow": false,
          "text": "Topic 0",
          "x": 0.0875,
          "xanchor": "center",
          "xref": "paper",
          "y": 1,
          "yanchor": "bottom",
          "yref": "paper"
         },
         {
          "font": {
           "size": 16
          },
          "showarrow": false,
          "text": "Topic 1",
          "x": 0.36250000000000004,
          "xanchor": "center",
          "xref": "paper",
          "y": 1,
          "yanchor": "bottom",
          "yref": "paper"
         },
         {
          "font": {
           "size": 16
          },
          "showarrow": false,
          "text": "Topic 2",
          "x": 0.6375000000000001,
          "xanchor": "center",
          "xref": "paper",
          "y": 1,
          "yanchor": "bottom",
          "yref": "paper"
         },
         {
          "font": {
           "size": 16
          },
          "showarrow": false,
          "text": "Topic 3",
          "x": 0.9125,
          "xanchor": "center",
          "xref": "paper",
          "y": 1,
          "yanchor": "bottom",
          "yref": "paper"
         },
         {
          "font": {
           "size": 16
          },
          "showarrow": false,
          "text": "Topic 4",
          "x": 0.0875,
          "xanchor": "center",
          "xref": "paper",
          "y": 0.6222222222222222,
          "yanchor": "bottom",
          "yref": "paper"
         },
         {
          "font": {
           "size": 16
          },
          "showarrow": false,
          "text": "Topic 5",
          "x": 0.36250000000000004,
          "xanchor": "center",
          "xref": "paper",
          "y": 0.6222222222222222,
          "yanchor": "bottom",
          "yref": "paper"
         },
         {
          "font": {
           "size": 16
          },
          "showarrow": false,
          "text": "Topic 6",
          "x": 0.6375000000000001,
          "xanchor": "center",
          "xref": "paper",
          "y": 0.6222222222222222,
          "yanchor": "bottom",
          "yref": "paper"
         },
         {
          "font": {
           "size": 16
          },
          "showarrow": false,
          "text": "Topic 7",
          "x": 0.9125,
          "xanchor": "center",
          "xref": "paper",
          "y": 0.6222222222222222,
          "yanchor": "bottom",
          "yref": "paper"
         },
         {
          "font": {
           "size": 16
          },
          "showarrow": false,
          "text": "Topic 8",
          "x": 0.0875,
          "xanchor": "center",
          "xref": "paper",
          "y": 0.24444444444444446,
          "yanchor": "bottom",
          "yref": "paper"
         },
         {
          "font": {
           "size": 16
          },
          "showarrow": false,
          "text": "Topic 9",
          "x": 0.36250000000000004,
          "xanchor": "center",
          "xref": "paper",
          "y": 0.24444444444444446,
          "yanchor": "bottom",
          "yref": "paper"
         }
        ],
        "height": 1200,
        "hoverlabel": {
         "bgcolor": "white",
         "font": {
          "family": "Rockwell",
          "size": 16
         }
        },
        "showlegend": false,
        "template": {
         "data": {
          "bar": [
           {
            "error_x": {
             "color": "#2a3f5f"
            },
            "error_y": {
             "color": "#2a3f5f"
            },
            "marker": {
             "line": {
              "color": "white",
              "width": 0.5
             },
             "pattern": {
              "fillmode": "overlay",
              "size": 10,
              "solidity": 0.2
             }
            },
            "type": "bar"
           }
          ],
          "barpolar": [
           {
            "marker": {
             "line": {
              "color": "white",
              "width": 0.5
             },
             "pattern": {
              "fillmode": "overlay",
              "size": 10,
              "solidity": 0.2
             }
            },
            "type": "barpolar"
           }
          ],
          "carpet": [
           {
            "aaxis": {
             "endlinecolor": "#2a3f5f",
             "gridcolor": "#C8D4E3",
             "linecolor": "#C8D4E3",
             "minorgridcolor": "#C8D4E3",
             "startlinecolor": "#2a3f5f"
            },
            "baxis": {
             "endlinecolor": "#2a3f5f",
             "gridcolor": "#C8D4E3",
             "linecolor": "#C8D4E3",
             "minorgridcolor": "#C8D4E3",
             "startlinecolor": "#2a3f5f"
            },
            "type": "carpet"
           }
          ],
          "choropleth": [
           {
            "colorbar": {
             "outlinewidth": 0,
             "ticks": ""
            },
            "type": "choropleth"
           }
          ],
          "contour": [
           {
            "colorbar": {
             "outlinewidth": 0,
             "ticks": ""
            },
            "colorscale": [
             [
              0,
              "#0d0887"
             ],
             [
              0.1111111111111111,
              "#46039f"
             ],
             [
              0.2222222222222222,
              "#7201a8"
             ],
             [
              0.3333333333333333,
              "#9c179e"
             ],
             [
              0.4444444444444444,
              "#bd3786"
             ],
             [
              0.5555555555555556,
              "#d8576b"
             ],
             [
              0.6666666666666666,
              "#ed7953"
             ],
             [
              0.7777777777777778,
              "#fb9f3a"
             ],
             [
              0.8888888888888888,
              "#fdca26"
             ],
             [
              1,
              "#f0f921"
             ]
            ],
            "type": "contour"
           }
          ],
          "contourcarpet": [
           {
            "colorbar": {
             "outlinewidth": 0,
             "ticks": ""
            },
            "type": "contourcarpet"
           }
          ],
          "heatmap": [
           {
            "colorbar": {
             "outlinewidth": 0,
             "ticks": ""
            },
            "colorscale": [
             [
              0,
              "#0d0887"
             ],
             [
              0.1111111111111111,
              "#46039f"
             ],
             [
              0.2222222222222222,
              "#7201a8"
             ],
             [
              0.3333333333333333,
              "#9c179e"
             ],
             [
              0.4444444444444444,
              "#bd3786"
             ],
             [
              0.5555555555555556,
              "#d8576b"
             ],
             [
              0.6666666666666666,
              "#ed7953"
             ],
             [
              0.7777777777777778,
              "#fb9f3a"
             ],
             [
              0.8888888888888888,
              "#fdca26"
             ],
             [
              1,
              "#f0f921"
             ]
            ],
            "type": "heatmap"
           }
          ],
          "heatmapgl": [
           {
            "colorbar": {
             "outlinewidth": 0,
             "ticks": ""
            },
            "colorscale": [
             [
              0,
              "#0d0887"
             ],
             [
              0.1111111111111111,
              "#46039f"
             ],
             [
              0.2222222222222222,
              "#7201a8"
             ],
             [
              0.3333333333333333,
              "#9c179e"
             ],
             [
              0.4444444444444444,
              "#bd3786"
             ],
             [
              0.5555555555555556,
              "#d8576b"
             ],
             [
              0.6666666666666666,
              "#ed7953"
             ],
             [
              0.7777777777777778,
              "#fb9f3a"
             ],
             [
              0.8888888888888888,
              "#fdca26"
             ],
             [
              1,
              "#f0f921"
             ]
            ],
            "type": "heatmapgl"
           }
          ],
          "histogram": [
           {
            "marker": {
             "pattern": {
              "fillmode": "overlay",
              "size": 10,
              "solidity": 0.2
             }
            },
            "type": "histogram"
           }
          ],
          "histogram2d": [
           {
            "colorbar": {
             "outlinewidth": 0,
             "ticks": ""
            },
            "colorscale": [
             [
              0,
              "#0d0887"
             ],
             [
              0.1111111111111111,
              "#46039f"
             ],
             [
              0.2222222222222222,
              "#7201a8"
             ],
             [
              0.3333333333333333,
              "#9c179e"
             ],
             [
              0.4444444444444444,
              "#bd3786"
             ],
             [
              0.5555555555555556,
              "#d8576b"
             ],
             [
              0.6666666666666666,
              "#ed7953"
             ],
             [
              0.7777777777777778,
              "#fb9f3a"
             ],
             [
              0.8888888888888888,
              "#fdca26"
             ],
             [
              1,
              "#f0f921"
             ]
            ],
            "type": "histogram2d"
           }
          ],
          "histogram2dcontour": [
           {
            "colorbar": {
             "outlinewidth": 0,
             "ticks": ""
            },
            "colorscale": [
             [
              0,
              "#0d0887"
             ],
             [
              0.1111111111111111,
              "#46039f"
             ],
             [
              0.2222222222222222,
              "#7201a8"
             ],
             [
              0.3333333333333333,
              "#9c179e"
             ],
             [
              0.4444444444444444,
              "#bd3786"
             ],
             [
              0.5555555555555556,
              "#d8576b"
             ],
             [
              0.6666666666666666,
              "#ed7953"
             ],
             [
              0.7777777777777778,
              "#fb9f3a"
             ],
             [
              0.8888888888888888,
              "#fdca26"
             ],
             [
              1,
              "#f0f921"
             ]
            ],
            "type": "histogram2dcontour"
           }
          ],
          "mesh3d": [
           {
            "colorbar": {
             "outlinewidth": 0,
             "ticks": ""
            },
            "type": "mesh3d"
           }
          ],
          "parcoords": [
           {
            "line": {
             "colorbar": {
              "outlinewidth": 0,
              "ticks": ""
             }
            },
            "type": "parcoords"
           }
          ],
          "pie": [
           {
            "automargin": true,
            "type": "pie"
           }
          ],
          "scatter": [
           {
            "fillpattern": {
             "fillmode": "overlay",
             "size": 10,
             "solidity": 0.2
            },
            "type": "scatter"
           }
          ],
          "scatter3d": [
           {
            "line": {
             "colorbar": {
              "outlinewidth": 0,
              "ticks": ""
             }
            },
            "marker": {
             "colorbar": {
              "outlinewidth": 0,
              "ticks": ""
             }
            },
            "type": "scatter3d"
           }
          ],
          "scattercarpet": [
           {
            "marker": {
             "colorbar": {
              "outlinewidth": 0,
              "ticks": ""
             }
            },
            "type": "scattercarpet"
           }
          ],
          "scattergeo": [
           {
            "marker": {
             "colorbar": {
              "outlinewidth": 0,
              "ticks": ""
             }
            },
            "type": "scattergeo"
           }
          ],
          "scattergl": [
           {
            "marker": {
             "colorbar": {
              "outlinewidth": 0,
              "ticks": ""
             }
            },
            "type": "scattergl"
           }
          ],
          "scattermapbox": [
           {
            "marker": {
             "colorbar": {
              "outlinewidth": 0,
              "ticks": ""
             }
            },
            "type": "scattermapbox"
           }
          ],
          "scatterpolar": [
           {
            "marker": {
             "colorbar": {
              "outlinewidth": 0,
              "ticks": ""
             }
            },
            "type": "scatterpolar"
           }
          ],
          "scatterpolargl": [
           {
            "marker": {
             "colorbar": {
              "outlinewidth": 0,
              "ticks": ""
             }
            },
            "type": "scatterpolargl"
           }
          ],
          "scatterternary": [
           {
            "marker": {
             "colorbar": {
              "outlinewidth": 0,
              "ticks": ""
             }
            },
            "type": "scatterternary"
           }
          ],
          "surface": [
           {
            "colorbar": {
             "outlinewidth": 0,
             "ticks": ""
            },
            "colorscale": [
             [
              0,
              "#0d0887"
             ],
             [
              0.1111111111111111,
              "#46039f"
             ],
             [
              0.2222222222222222,
              "#7201a8"
             ],
             [
              0.3333333333333333,
              "#9c179e"
             ],
             [
              0.4444444444444444,
              "#bd3786"
             ],
             [
              0.5555555555555556,
              "#d8576b"
             ],
             [
              0.6666666666666666,
              "#ed7953"
             ],
             [
              0.7777777777777778,
              "#fb9f3a"
             ],
             [
              0.8888888888888888,
              "#fdca26"
             ],
             [
              1,
              "#f0f921"
             ]
            ],
            "type": "surface"
           }
          ],
          "table": [
           {
            "cells": {
             "fill": {
              "color": "#EBF0F8"
             },
             "line": {
              "color": "white"
             }
            },
            "header": {
             "fill": {
              "color": "#C8D4E3"
             },
             "line": {
              "color": "white"
             }
            },
            "type": "table"
           }
          ]
         },
         "layout": {
          "annotationdefaults": {
           "arrowcolor": "#2a3f5f",
           "arrowhead": 0,
           "arrowwidth": 1
          },
          "autotypenumbers": "strict",
          "coloraxis": {
           "colorbar": {
            "outlinewidth": 0,
            "ticks": ""
           }
          },
          "colorscale": {
           "diverging": [
            [
             0,
             "#8e0152"
            ],
            [
             0.1,
             "#c51b7d"
            ],
            [
             0.2,
             "#de77ae"
            ],
            [
             0.3,
             "#f1b6da"
            ],
            [
             0.4,
             "#fde0ef"
            ],
            [
             0.5,
             "#f7f7f7"
            ],
            [
             0.6,
             "#e6f5d0"
            ],
            [
             0.7,
             "#b8e186"
            ],
            [
             0.8,
             "#7fbc41"
            ],
            [
             0.9,
             "#4d9221"
            ],
            [
             1,
             "#276419"
            ]
           ],
           "sequential": [
            [
             0,
             "#0d0887"
            ],
            [
             0.1111111111111111,
             "#46039f"
            ],
            [
             0.2222222222222222,
             "#7201a8"
            ],
            [
             0.3333333333333333,
             "#9c179e"
            ],
            [
             0.4444444444444444,
             "#bd3786"
            ],
            [
             0.5555555555555556,
             "#d8576b"
            ],
            [
             0.6666666666666666,
             "#ed7953"
            ],
            [
             0.7777777777777778,
             "#fb9f3a"
            ],
            [
             0.8888888888888888,
             "#fdca26"
            ],
            [
             1,
             "#f0f921"
            ]
           ],
           "sequentialminus": [
            [
             0,
             "#0d0887"
            ],
            [
             0.1111111111111111,
             "#46039f"
            ],
            [
             0.2222222222222222,
             "#7201a8"
            ],
            [
             0.3333333333333333,
             "#9c179e"
            ],
            [
             0.4444444444444444,
             "#bd3786"
            ],
            [
             0.5555555555555556,
             "#d8576b"
            ],
            [
             0.6666666666666666,
             "#ed7953"
            ],
            [
             0.7777777777777778,
             "#fb9f3a"
            ],
            [
             0.8888888888888888,
             "#fdca26"
            ],
            [
             1,
             "#f0f921"
            ]
           ]
          },
          "colorway": [
           "#636efa",
           "#EF553B",
           "#00cc96",
           "#ab63fa",
           "#FFA15A",
           "#19d3f3",
           "#FF6692",
           "#B6E880",
           "#FF97FF",
           "#FECB52"
          ],
          "font": {
           "color": "#2a3f5f"
          },
          "geo": {
           "bgcolor": "white",
           "lakecolor": "white",
           "landcolor": "white",
           "showlakes": true,
           "showland": true,
           "subunitcolor": "#C8D4E3"
          },
          "hoverlabel": {
           "align": "left"
          },
          "hovermode": "closest",
          "mapbox": {
           "style": "light"
          },
          "paper_bgcolor": "white",
          "plot_bgcolor": "white",
          "polar": {
           "angularaxis": {
            "gridcolor": "#EBF0F8",
            "linecolor": "#EBF0F8",
            "ticks": ""
           },
           "bgcolor": "white",
           "radialaxis": {
            "gridcolor": "#EBF0F8",
            "linecolor": "#EBF0F8",
            "ticks": ""
           }
          },
          "scene": {
           "xaxis": {
            "backgroundcolor": "white",
            "gridcolor": "#DFE8F3",
            "gridwidth": 2,
            "linecolor": "#EBF0F8",
            "showbackground": true,
            "ticks": "",
            "zerolinecolor": "#EBF0F8"
           },
           "yaxis": {
            "backgroundcolor": "white",
            "gridcolor": "#DFE8F3",
            "gridwidth": 2,
            "linecolor": "#EBF0F8",
            "showbackground": true,
            "ticks": "",
            "zerolinecolor": "#EBF0F8"
           },
           "zaxis": {
            "backgroundcolor": "white",
            "gridcolor": "#DFE8F3",
            "gridwidth": 2,
            "linecolor": "#EBF0F8",
            "showbackground": true,
            "ticks": "",
            "zerolinecolor": "#EBF0F8"
           }
          },
          "shapedefaults": {
           "line": {
            "color": "#2a3f5f"
           }
          },
          "ternary": {
           "aaxis": {
            "gridcolor": "#DFE8F3",
            "linecolor": "#A2B1C6",
            "ticks": ""
           },
           "baxis": {
            "gridcolor": "#DFE8F3",
            "linecolor": "#A2B1C6",
            "ticks": ""
           },
           "bgcolor": "white",
           "caxis": {
            "gridcolor": "#DFE8F3",
            "linecolor": "#A2B1C6",
            "ticks": ""
           }
          },
          "title": {
           "x": 0.05
          },
          "xaxis": {
           "automargin": true,
           "gridcolor": "#EBF0F8",
           "linecolor": "#EBF0F8",
           "ticks": "",
           "title": {
            "standoff": 15
           },
           "zerolinecolor": "#EBF0F8",
           "zerolinewidth": 2
          },
          "yaxis": {
           "automargin": true,
           "gridcolor": "#EBF0F8",
           "linecolor": "#EBF0F8",
           "ticks": "",
           "title": {
            "standoff": 15
           },
           "zerolinecolor": "#EBF0F8",
           "zerolinewidth": 2
          }
         }
        },
        "title": {
         "font": {
          "color": "Black",
          "size": 22
         },
         "text": "Topic Word Scores",
         "x": 0.5,
         "xanchor": "center",
         "yanchor": "top"
        },
        "width": 2000,
        "xaxis": {
         "anchor": "y",
         "domain": [
          0,
          0.175
         ],
         "showgrid": true
        },
        "xaxis10": {
         "anchor": "y10",
         "domain": [
          0.275,
          0.45
         ],
         "showgrid": true
        },
        "xaxis11": {
         "anchor": "y11",
         "domain": [
          0.55,
          0.7250000000000001
         ],
         "showgrid": true
        },
        "xaxis12": {
         "anchor": "y12",
         "domain": [
          0.825,
          1
         ],
         "showgrid": true
        },
        "xaxis2": {
         "anchor": "y2",
         "domain": [
          0.275,
          0.45
         ],
         "showgrid": true
        },
        "xaxis3": {
         "anchor": "y3",
         "domain": [
          0.55,
          0.7250000000000001
         ],
         "showgrid": true
        },
        "xaxis4": {
         "anchor": "y4",
         "domain": [
          0.825,
          1
         ],
         "showgrid": true
        },
        "xaxis5": {
         "anchor": "y5",
         "domain": [
          0,
          0.175
         ],
         "showgrid": true
        },
        "xaxis6": {
         "anchor": "y6",
         "domain": [
          0.275,
          0.45
         ],
         "showgrid": true
        },
        "xaxis7": {
         "anchor": "y7",
         "domain": [
          0.55,
          0.7250000000000001
         ],
         "showgrid": true
        },
        "xaxis8": {
         "anchor": "y8",
         "domain": [
          0.825,
          1
         ],
         "showgrid": true
        },
        "xaxis9": {
         "anchor": "y9",
         "domain": [
          0,
          0.175
         ],
         "showgrid": true
        },
        "yaxis": {
         "anchor": "x",
         "domain": [
          0.7555555555555555,
          1
         ],
         "showgrid": true
        },
        "yaxis10": {
         "anchor": "x10",
         "domain": [
          0,
          0.24444444444444446
         ],
         "showgrid": true
        },
        "yaxis11": {
         "anchor": "x11",
         "domain": [
          0,
          0.24444444444444446
         ],
         "showgrid": true
        },
        "yaxis12": {
         "anchor": "x12",
         "domain": [
          0,
          0.24444444444444446
         ],
         "showgrid": true
        },
        "yaxis2": {
         "anchor": "x2",
         "domain": [
          0.7555555555555555,
          1
         ],
         "showgrid": true
        },
        "yaxis3": {
         "anchor": "x3",
         "domain": [
          0.7555555555555555,
          1
         ],
         "showgrid": true
        },
        "yaxis4": {
         "anchor": "x4",
         "domain": [
          0.7555555555555555,
          1
         ],
         "showgrid": true
        },
        "yaxis5": {
         "anchor": "x5",
         "domain": [
          0.37777777777777777,
          0.6222222222222222
         ],
         "showgrid": true
        },
        "yaxis6": {
         "anchor": "x6",
         "domain": [
          0.37777777777777777,
          0.6222222222222222
         ],
         "showgrid": true
        },
        "yaxis7": {
         "anchor": "x7",
         "domain": [
          0.37777777777777777,
          0.6222222222222222
         ],
         "showgrid": true
        },
        "yaxis8": {
         "anchor": "x8",
         "domain": [
          0.37777777777777777,
          0.6222222222222222
         ],
         "showgrid": true
        },
        "yaxis9": {
         "anchor": "x9",
         "domain": [
          0,
          0.24444444444444446
         ],
         "showgrid": true
        }
       }
      }
     },
     "metadata": {},
     "output_type": "display_data"
    }
   ],
   "source": [
    "topic_model.visualize_barchart(top_n_topics=10,n_words=10,height=400, width=500).show()"
   ]
  },
  {
   "cell_type": "code",
   "execution_count": 60,
   "metadata": {},
   "outputs": [
    {
     "data": {
      "application/vnd.plotly.v1+json": {
       "config": {
        "plotlyServerURL": "https://plot.ly"
       },
       "data": [
        {
         "hoverinfo": "text",
         "marker": {
          "color": "rgb(61,153,112)"
         },
         "mode": "lines",
         "type": "scatter",
         "x": [
          0,
          0.2975204801566643,
          0.2975204801566643,
          0
         ],
         "xaxis": "x",
         "y": [
          -25,
          -25,
          -35,
          -35
         ],
         "yaxis": "y"
        },
        {
         "hoverinfo": "text",
         "marker": {
          "color": "rgb(61,153,112)"
         },
         "mode": "lines",
         "type": "scatter",
         "x": [
          0,
          0.5940356394888536,
          0.5940356394888536,
          0.2975204801566643
         ],
         "xaxis": "x",
         "y": [
          -15,
          -15,
          -30,
          -30
         ],
         "yaxis": "y"
        },
        {
         "hoverinfo": "text",
         "marker": {
          "color": "rgb(61,153,112)"
         },
         "mode": "lines",
         "type": "scatter",
         "x": [
          0.5940356394888536,
          0.7510457080699229,
          0.7510457080699229,
          0
         ],
         "xaxis": "x",
         "y": [
          -22.5,
          -22.5,
          -45,
          -45
         ],
         "yaxis": "y"
        },
        {
         "hoverinfo": "text",
         "marker": {
          "color": "rgb(0,116,217)"
         },
         "mode": "lines",
         "type": "scatter",
         "x": [
          0,
          1.0113121794387685,
          1.0113121794387685,
          0.7510457080699229
         ],
         "xaxis": "x",
         "y": [
          -5,
          -5,
          -33.75,
          -33.75
         ],
         "yaxis": "y"
        },
        {
         "hoverinfo": "text",
         "marker": {
          "color": "rgb(255,65,54)"
         },
         "mode": "lines",
         "type": "scatter",
         "x": [
          0,
          0.7181688853344577,
          0.7181688853344577,
          0
         ],
         "xaxis": "x",
         "y": [
          -65,
          -65,
          -75,
          -75
         ],
         "yaxis": "y"
        },
        {
         "hoverinfo": "text",
         "marker": {
          "color": "rgb(255,65,54)"
         },
         "mode": "lines",
         "type": "scatter",
         "x": [
          0,
          0.8283353917651937,
          0.8283353917651937,
          0.7181688853344577
         ],
         "xaxis": "x",
         "y": [
          -55,
          -55,
          -70,
          -70
         ],
         "yaxis": "y"
        },
        {
         "hoverinfo": "text",
         "marker": {
          "color": "rgb(0,116,217)"
         },
         "mode": "lines",
         "type": "scatter",
         "x": [
          1.0113121794387685,
          1.426704252180506,
          1.426704252180506,
          0.8283353917651937
         ],
         "xaxis": "x",
         "y": [
          -19.375,
          -19.375,
          -62.5,
          -62.5
         ],
         "yaxis": "y"
        },
        {
         "hoverinfo": "text",
         "marker": {
          "color": "rgb(35,205,205)"
         },
         "mode": "lines",
         "type": "scatter",
         "x": [
          0,
          0.46222094302380756,
          0.46222094302380756,
          0
         ],
         "xaxis": "x",
         "y": [
          -95,
          -95,
          -105,
          -105
         ],
         "yaxis": "y"
        },
        {
         "hoverinfo": "text",
         "marker": {
          "color": "rgb(35,205,205)"
         },
         "mode": "lines",
         "type": "scatter",
         "x": [
          0,
          0.6530945731453377,
          0.6530945731453377,
          0.46222094302380756
         ],
         "xaxis": "x",
         "y": [
          -85,
          -85,
          -100,
          -100
         ],
         "yaxis": "y"
        },
        {
         "hoverinfo": "text",
         "marker": {
          "color": "rgb(0,116,217)"
         },
         "mode": "lines",
         "type": "scatter",
         "x": [
          1.426704252180506,
          1.4492098647545628,
          1.4492098647545628,
          0.6530945731453377
         ],
         "xaxis": "x",
         "y": [
          -40.9375,
          -40.9375,
          -92.5,
          -92.5
         ],
         "yaxis": "y"
        },
        {
         "hoverinfo": "text",
         "marker": {
          "color": "rgb(133,20,75)"
         },
         "mode": "lines",
         "type": "scatter",
         "x": [
          0,
          0.2547027471317237,
          0.2547027471317237,
          0
         ],
         "xaxis": "x",
         "y": [
          -125,
          -125,
          -135,
          -135
         ],
         "yaxis": "y"
        },
        {
         "hoverinfo": "text",
         "marker": {
          "color": "rgb(133,20,75)"
         },
         "mode": "lines",
         "type": "scatter",
         "x": [
          0,
          0.7120851901297314,
          0.7120851901297314,
          0.2547027471317237
         ],
         "xaxis": "x",
         "y": [
          -115,
          -115,
          -130,
          -130
         ],
         "yaxis": "y"
        },
        {
         "hoverinfo": "text",
         "marker": {
          "color": "rgb(255,220,0)"
         },
         "mode": "lines",
         "type": "scatter",
         "x": [
          0,
          0.4597245055919301,
          0.4597245055919301,
          0
         ],
         "xaxis": "x",
         "y": [
          -155,
          -155,
          -165,
          -165
         ],
         "yaxis": "y"
        },
        {
         "hoverinfo": "text",
         "marker": {
          "color": "rgb(255,220,0)"
         },
         "mode": "lines",
         "type": "scatter",
         "x": [
          0,
          0.7877026344096556,
          0.7877026344096556,
          0.4597245055919301
         ],
         "xaxis": "x",
         "y": [
          -145,
          -145,
          -160,
          -160
         ],
         "yaxis": "y"
        },
        {
         "hoverinfo": "text",
         "marker": {
          "color": "rgb(0,116,217)"
         },
         "mode": "lines",
         "type": "scatter",
         "x": [
          0.7120851901297314,
          1.234786048576748,
          1.234786048576748,
          0.7877026344096556
         ],
         "xaxis": "x",
         "y": [
          -122.5,
          -122.5,
          -152.5,
          -152.5
         ],
         "yaxis": "y"
        },
        {
         "hoverinfo": "text",
         "marker": {
          "color": "rgb(40,35,35)"
         },
         "mode": "lines",
         "type": "scatter",
         "x": [
          0,
          0.41472585751969726,
          0.41472585751969726,
          0
         ],
         "xaxis": "x",
         "y": [
          -185,
          -185,
          -195,
          -195
         ],
         "yaxis": "y"
        },
        {
         "hoverinfo": "text",
         "marker": {
          "color": "rgb(40,35,35)"
         },
         "mode": "lines",
         "type": "scatter",
         "x": [
          0,
          0.5912224642878936,
          0.5912224642878936,
          0.41472585751969726
         ],
         "xaxis": "x",
         "y": [
          -175,
          -175,
          -190,
          -190
         ],
         "yaxis": "y"
        },
        {
         "hoverinfo": "text",
         "marker": {
          "color": "rgb(61,153,112)"
         },
         "mode": "lines",
         "type": "scatter",
         "x": [
          0,
          0.5255428987015134,
          0.5255428987015134,
          0
         ],
         "xaxis": "x",
         "y": [
          -205,
          -205,
          -215,
          -215
         ],
         "yaxis": "y"
        },
        {
         "hoverinfo": "text",
         "marker": {
          "color": "rgb(61,153,112)"
         },
         "mode": "lines",
         "type": "scatter",
         "x": [
          0,
          0.30868915650350115,
          0.30868915650350115,
          0
         ],
         "xaxis": "x",
         "y": [
          -225,
          -225,
          -235,
          -235
         ],
         "yaxis": "y"
        },
        {
         "hoverinfo": "text",
         "marker": {
          "color": "rgb(61,153,112)"
         },
         "mode": "lines",
         "type": "scatter",
         "x": [
          0.5255428987015134,
          0.8852031678131695,
          0.8852031678131695,
          0.30868915650350115
         ],
         "xaxis": "x",
         "y": [
          -210,
          -210,
          -230,
          -230
         ],
         "yaxis": "y"
        },
        {
         "hoverinfo": "text",
         "marker": {
          "color": "rgb(0,116,217)"
         },
         "mode": "lines",
         "type": "scatter",
         "x": [
          0.5912224642878936,
          1.0982156398270564,
          1.0982156398270564,
          0.8852031678131695
         ],
         "xaxis": "x",
         "y": [
          -182.5,
          -182.5,
          -220,
          -220
         ],
         "yaxis": "y"
        },
        {
         "hoverinfo": "text",
         "marker": {
          "color": "rgb(0,116,217)"
         },
         "mode": "lines",
         "type": "scatter",
         "x": [
          1.234786048576748,
          1.3313706556113538,
          1.3313706556113538,
          1.0982156398270564
         ],
         "xaxis": "x",
         "y": [
          -137.5,
          -137.5,
          -201.25,
          -201.25
         ],
         "yaxis": "y"
        },
        {
         "hoverinfo": "text",
         "marker": {
          "color": "rgb(255,65,54)"
         },
         "mode": "lines",
         "type": "scatter",
         "x": [
          0,
          0.22863454727360133,
          0.22863454727360133,
          0
         ],
         "xaxis": "x",
         "y": [
          -255,
          -255,
          -265,
          -265
         ],
         "yaxis": "y"
        },
        {
         "hoverinfo": "text",
         "marker": {
          "color": "rgb(255,65,54)"
         },
         "mode": "lines",
         "type": "scatter",
         "x": [
          0,
          0.5944120198358015,
          0.5944120198358015,
          0.22863454727360133
         ],
         "xaxis": "x",
         "y": [
          -245,
          -245,
          -260,
          -260
         ],
         "yaxis": "y"
        },
        {
         "hoverinfo": "text",
         "marker": {
          "color": "rgb(255,65,54)"
         },
         "mode": "lines",
         "type": "scatter",
         "x": [
          0.5944120198358015,
          0.7805824160981485,
          0.7805824160981485,
          0
         ],
         "xaxis": "x",
         "y": [
          -252.5,
          -252.5,
          -275,
          -275
         ],
         "yaxis": "y"
        },
        {
         "hoverinfo": "text",
         "marker": {
          "color": "rgb(0,116,217)"
         },
         "mode": "lines",
         "type": "scatter",
         "x": [
          1.3313706556113538,
          1.4394220403856484,
          1.4394220403856484,
          0.7805824160981485
         ],
         "xaxis": "x",
         "y": [
          -169.375,
          -169.375,
          -263.75,
          -263.75
         ],
         "yaxis": "y"
        },
        {
         "hoverinfo": "text",
         "marker": {
          "color": "rgb(35,205,205)"
         },
         "mode": "lines",
         "type": "scatter",
         "x": [
          0,
          0.5334990693893753,
          0.5334990693893753,
          0
         ],
         "xaxis": "x",
         "y": [
          -295,
          -295,
          -305,
          -305
         ],
         "yaxis": "y"
        },
        {
         "hoverinfo": "text",
         "marker": {
          "color": "rgb(35,205,205)"
         },
         "mode": "lines",
         "type": "scatter",
         "x": [
          0,
          0.6847075991314912,
          0.6847075991314912,
          0.5334990693893753
         ],
         "xaxis": "x",
         "y": [
          -285,
          -285,
          -300,
          -300
         ],
         "yaxis": "y"
        },
        {
         "hoverinfo": "text",
         "marker": {
          "color": "rgb(35,205,205)"
         },
         "mode": "lines",
         "type": "scatter",
         "x": [
          0,
          0.19258443997351704,
          0.19258443997351704,
          0
         ],
         "xaxis": "x",
         "y": [
          -315,
          -315,
          -325,
          -325
         ],
         "yaxis": "y"
        },
        {
         "hoverinfo": "text",
         "marker": {
          "color": "rgb(35,205,205)"
         },
         "mode": "lines",
         "type": "scatter",
         "x": [
          0.6847075991314912,
          0.8967408596287123,
          0.8967408596287123,
          0.19258443997351704
         ],
         "xaxis": "x",
         "y": [
          -292.5,
          -292.5,
          -320,
          -320
         ],
         "yaxis": "y"
        },
        {
         "hoverinfo": "text",
         "marker": {
          "color": "rgb(0,116,217)"
         },
         "mode": "lines",
         "type": "scatter",
         "x": [
          1.4394220403856484,
          1.5099786638987884,
          1.5099786638987884,
          0.8967408596287123
         ],
         "xaxis": "x",
         "y": [
          -216.5625,
          -216.5625,
          -306.25,
          -306.25
         ],
         "yaxis": "y"
        },
        {
         "hoverinfo": "text",
         "marker": {
          "color": "rgb(0,116,217)"
         },
         "mode": "lines",
         "type": "scatter",
         "x": [
          1.4492098647545628,
          1.6067595405981718,
          1.6067595405981718,
          1.5099786638987884
         ],
         "xaxis": "x",
         "y": [
          -66.71875,
          -66.71875,
          -261.40625,
          -261.40625
         ],
         "yaxis": "y"
        },
        {
         "hoverinfo": "text",
         "marker": {
          "color": "rgb(61,153,112)"
         },
         "mode": "lines",
         "type": "scatter",
         "x": [
          0,
          0.5860337854579101,
          0.5860337854579101,
          0
         ],
         "xaxis": "x",
         "y": [
          -335,
          -335,
          -345,
          -345
         ],
         "yaxis": "y"
        },
        {
         "hoverinfo": "text",
         "marker": {
          "color": "rgb(255,65,54)"
         },
         "mode": "lines",
         "type": "scatter",
         "x": [
          0,
          0.25626017435860615,
          0.25626017435860615,
          0
         ],
         "xaxis": "x",
         "y": [
          -365,
          -365,
          -375,
          -375
         ],
         "yaxis": "y"
        },
        {
         "hoverinfo": "text",
         "marker": {
          "color": "rgb(255,65,54)"
         },
         "mode": "lines",
         "type": "scatter",
         "x": [
          0,
          0.35588363063428363,
          0.35588363063428363,
          0.25626017435860615
         ],
         "xaxis": "x",
         "y": [
          -355,
          -355,
          -370,
          -370
         ],
         "yaxis": "y"
        },
        {
         "hoverinfo": "text",
         "marker": {
          "color": "rgb(255,65,54)"
         },
         "mode": "lines",
         "type": "scatter",
         "x": [
          0.35588363063428363,
          0.7027329596879355,
          0.7027329596879355,
          0
         ],
         "xaxis": "x",
         "y": [
          -362.5,
          -362.5,
          -385,
          -385
         ],
         "yaxis": "y"
        },
        {
         "hoverinfo": "text",
         "marker": {
          "color": "rgb(0,116,217)"
         },
         "mode": "lines",
         "type": "scatter",
         "x": [
          0.5860337854579101,
          1.1684189773245637,
          1.1684189773245637,
          0.7027329596879355
         ],
         "xaxis": "x",
         "y": [
          -340,
          -340,
          -373.75,
          -373.75
         ],
         "yaxis": "y"
        },
        {
         "hoverinfo": "text",
         "marker": {
          "color": "rgb(35,205,205)"
         },
         "mode": "lines",
         "type": "scatter",
         "x": [
          0,
          0.17674455845576886,
          0.17674455845576886,
          0
         ],
         "xaxis": "x",
         "y": [
          -405,
          -405,
          -415,
          -415
         ],
         "yaxis": "y"
        },
        {
         "hoverinfo": "text",
         "marker": {
          "color": "rgb(35,205,205)"
         },
         "mode": "lines",
         "type": "scatter",
         "x": [
          0,
          0.5916735579997203,
          0.5916735579997203,
          0.17674455845576886
         ],
         "xaxis": "x",
         "y": [
          -395,
          -395,
          -410,
          -410
         ],
         "yaxis": "y"
        },
        {
         "hoverinfo": "text",
         "marker": {
          "color": "rgb(0,116,217)"
         },
         "mode": "lines",
         "type": "scatter",
         "x": [
          1.1684189773245637,
          1.3737860427369222,
          1.3737860427369222,
          0.5916735579997203
         ],
         "xaxis": "x",
         "y": [
          -356.875,
          -356.875,
          -402.5,
          -402.5
         ],
         "yaxis": "y"
        },
        {
         "hoverinfo": "text",
         "marker": {
          "color": "rgb(133,20,75)"
         },
         "mode": "lines",
         "type": "scatter",
         "x": [
          0,
          0.2744254186988322,
          0.2744254186988322,
          0
         ],
         "xaxis": "x",
         "y": [
          -435,
          -435,
          -445,
          -445
         ],
         "yaxis": "y"
        },
        {
         "hoverinfo": "text",
         "marker": {
          "color": "rgb(133,20,75)"
         },
         "mode": "lines",
         "type": "scatter",
         "x": [
          0,
          0.5703023773109337,
          0.5703023773109337,
          0.2744254186988322
         ],
         "xaxis": "x",
         "y": [
          -425,
          -425,
          -440,
          -440
         ],
         "yaxis": "y"
        },
        {
         "hoverinfo": "text",
         "marker": {
          "color": "rgb(255,220,0)"
         },
         "mode": "lines",
         "type": "scatter",
         "x": [
          0,
          0.0963818679260936,
          0.0963818679260936,
          0
         ],
         "xaxis": "x",
         "y": [
          -455,
          -455,
          -465,
          -465
         ],
         "yaxis": "y"
        },
        {
         "hoverinfo": "text",
         "marker": {
          "color": "rgb(255,220,0)"
         },
         "mode": "lines",
         "type": "scatter",
         "x": [
          0,
          0.03532056360418856,
          0.03532056360418856,
          0
         ],
         "xaxis": "x",
         "y": [
          -475,
          -475,
          -485,
          -485
         ],
         "yaxis": "y"
        },
        {
         "hoverinfo": "text",
         "marker": {
          "color": "rgb(255,220,0)"
         },
         "mode": "lines",
         "type": "scatter",
         "x": [
          0.0963818679260936,
          0.4083815826747384,
          0.4083815826747384,
          0.03532056360418856
         ],
         "xaxis": "x",
         "y": [
          -460,
          -460,
          -480,
          -480
         ],
         "yaxis": "y"
        },
        {
         "hoverinfo": "text",
         "marker": {
          "color": "rgb(0,116,217)"
         },
         "mode": "lines",
         "type": "scatter",
         "x": [
          0.5703023773109337,
          1.0796218916217946,
          1.0796218916217946,
          0.4083815826747384
         ],
         "xaxis": "x",
         "y": [
          -432.5,
          -432.5,
          -470,
          -470
         ],
         "yaxis": "y"
        },
        {
         "hoverinfo": "text",
         "marker": {
          "color": "rgb(0,116,217)"
         },
         "mode": "lines",
         "type": "scatter",
         "x": [
          1.3737860427369222,
          1.6951008114919095,
          1.6951008114919095,
          1.0796218916217946
         ],
         "xaxis": "x",
         "y": [
          -379.6875,
          -379.6875,
          -451.25,
          -451.25
         ],
         "yaxis": "y"
        },
        {
         "hoverinfo": "text",
         "marker": {
          "color": "rgb(0,116,217)"
         },
         "mode": "lines",
         "type": "scatter",
         "x": [
          1.6067595405981718,
          2.250818423977564,
          2.250818423977564,
          1.6951008114919095
         ],
         "xaxis": "x",
         "y": [
          -164.0625,
          -164.0625,
          -415.46875,
          -415.46875
         ],
         "yaxis": "y"
        }
       ],
       "layout": {
        "autosize": false,
        "height": 935,
        "hoverlabel": {
         "bgcolor": "white",
         "font": {
          "family": "Rockwell",
          "size": 16
         }
        },
        "hovermode": "closest",
        "plot_bgcolor": "#ECEFF1",
        "showlegend": false,
        "template": {
         "data": {
          "bar": [
           {
            "error_x": {
             "color": "#2a3f5f"
            },
            "error_y": {
             "color": "#2a3f5f"
            },
            "marker": {
             "line": {
              "color": "white",
              "width": 0.5
             },
             "pattern": {
              "fillmode": "overlay",
              "size": 10,
              "solidity": 0.2
             }
            },
            "type": "bar"
           }
          ],
          "barpolar": [
           {
            "marker": {
             "line": {
              "color": "white",
              "width": 0.5
             },
             "pattern": {
              "fillmode": "overlay",
              "size": 10,
              "solidity": 0.2
             }
            },
            "type": "barpolar"
           }
          ],
          "carpet": [
           {
            "aaxis": {
             "endlinecolor": "#2a3f5f",
             "gridcolor": "#C8D4E3",
             "linecolor": "#C8D4E3",
             "minorgridcolor": "#C8D4E3",
             "startlinecolor": "#2a3f5f"
            },
            "baxis": {
             "endlinecolor": "#2a3f5f",
             "gridcolor": "#C8D4E3",
             "linecolor": "#C8D4E3",
             "minorgridcolor": "#C8D4E3",
             "startlinecolor": "#2a3f5f"
            },
            "type": "carpet"
           }
          ],
          "choropleth": [
           {
            "colorbar": {
             "outlinewidth": 0,
             "ticks": ""
            },
            "type": "choropleth"
           }
          ],
          "contour": [
           {
            "colorbar": {
             "outlinewidth": 0,
             "ticks": ""
            },
            "colorscale": [
             [
              0,
              "#0d0887"
             ],
             [
              0.1111111111111111,
              "#46039f"
             ],
             [
              0.2222222222222222,
              "#7201a8"
             ],
             [
              0.3333333333333333,
              "#9c179e"
             ],
             [
              0.4444444444444444,
              "#bd3786"
             ],
             [
              0.5555555555555556,
              "#d8576b"
             ],
             [
              0.6666666666666666,
              "#ed7953"
             ],
             [
              0.7777777777777778,
              "#fb9f3a"
             ],
             [
              0.8888888888888888,
              "#fdca26"
             ],
             [
              1,
              "#f0f921"
             ]
            ],
            "type": "contour"
           }
          ],
          "contourcarpet": [
           {
            "colorbar": {
             "outlinewidth": 0,
             "ticks": ""
            },
            "type": "contourcarpet"
           }
          ],
          "heatmap": [
           {
            "colorbar": {
             "outlinewidth": 0,
             "ticks": ""
            },
            "colorscale": [
             [
              0,
              "#0d0887"
             ],
             [
              0.1111111111111111,
              "#46039f"
             ],
             [
              0.2222222222222222,
              "#7201a8"
             ],
             [
              0.3333333333333333,
              "#9c179e"
             ],
             [
              0.4444444444444444,
              "#bd3786"
             ],
             [
              0.5555555555555556,
              "#d8576b"
             ],
             [
              0.6666666666666666,
              "#ed7953"
             ],
             [
              0.7777777777777778,
              "#fb9f3a"
             ],
             [
              0.8888888888888888,
              "#fdca26"
             ],
             [
              1,
              "#f0f921"
             ]
            ],
            "type": "heatmap"
           }
          ],
          "heatmapgl": [
           {
            "colorbar": {
             "outlinewidth": 0,
             "ticks": ""
            },
            "colorscale": [
             [
              0,
              "#0d0887"
             ],
             [
              0.1111111111111111,
              "#46039f"
             ],
             [
              0.2222222222222222,
              "#7201a8"
             ],
             [
              0.3333333333333333,
              "#9c179e"
             ],
             [
              0.4444444444444444,
              "#bd3786"
             ],
             [
              0.5555555555555556,
              "#d8576b"
             ],
             [
              0.6666666666666666,
              "#ed7953"
             ],
             [
              0.7777777777777778,
              "#fb9f3a"
             ],
             [
              0.8888888888888888,
              "#fdca26"
             ],
             [
              1,
              "#f0f921"
             ]
            ],
            "type": "heatmapgl"
           }
          ],
          "histogram": [
           {
            "marker": {
             "pattern": {
              "fillmode": "overlay",
              "size": 10,
              "solidity": 0.2
             }
            },
            "type": "histogram"
           }
          ],
          "histogram2d": [
           {
            "colorbar": {
             "outlinewidth": 0,
             "ticks": ""
            },
            "colorscale": [
             [
              0,
              "#0d0887"
             ],
             [
              0.1111111111111111,
              "#46039f"
             ],
             [
              0.2222222222222222,
              "#7201a8"
             ],
             [
              0.3333333333333333,
              "#9c179e"
             ],
             [
              0.4444444444444444,
              "#bd3786"
             ],
             [
              0.5555555555555556,
              "#d8576b"
             ],
             [
              0.6666666666666666,
              "#ed7953"
             ],
             [
              0.7777777777777778,
              "#fb9f3a"
             ],
             [
              0.8888888888888888,
              "#fdca26"
             ],
             [
              1,
              "#f0f921"
             ]
            ],
            "type": "histogram2d"
           }
          ],
          "histogram2dcontour": [
           {
            "colorbar": {
             "outlinewidth": 0,
             "ticks": ""
            },
            "colorscale": [
             [
              0,
              "#0d0887"
             ],
             [
              0.1111111111111111,
              "#46039f"
             ],
             [
              0.2222222222222222,
              "#7201a8"
             ],
             [
              0.3333333333333333,
              "#9c179e"
             ],
             [
              0.4444444444444444,
              "#bd3786"
             ],
             [
              0.5555555555555556,
              "#d8576b"
             ],
             [
              0.6666666666666666,
              "#ed7953"
             ],
             [
              0.7777777777777778,
              "#fb9f3a"
             ],
             [
              0.8888888888888888,
              "#fdca26"
             ],
             [
              1,
              "#f0f921"
             ]
            ],
            "type": "histogram2dcontour"
           }
          ],
          "mesh3d": [
           {
            "colorbar": {
             "outlinewidth": 0,
             "ticks": ""
            },
            "type": "mesh3d"
           }
          ],
          "parcoords": [
           {
            "line": {
             "colorbar": {
              "outlinewidth": 0,
              "ticks": ""
             }
            },
            "type": "parcoords"
           }
          ],
          "pie": [
           {
            "automargin": true,
            "type": "pie"
           }
          ],
          "scatter": [
           {
            "fillpattern": {
             "fillmode": "overlay",
             "size": 10,
             "solidity": 0.2
            },
            "type": "scatter"
           }
          ],
          "scatter3d": [
           {
            "line": {
             "colorbar": {
              "outlinewidth": 0,
              "ticks": ""
             }
            },
            "marker": {
             "colorbar": {
              "outlinewidth": 0,
              "ticks": ""
             }
            },
            "type": "scatter3d"
           }
          ],
          "scattercarpet": [
           {
            "marker": {
             "colorbar": {
              "outlinewidth": 0,
              "ticks": ""
             }
            },
            "type": "scattercarpet"
           }
          ],
          "scattergeo": [
           {
            "marker": {
             "colorbar": {
              "outlinewidth": 0,
              "ticks": ""
             }
            },
            "type": "scattergeo"
           }
          ],
          "scattergl": [
           {
            "marker": {
             "colorbar": {
              "outlinewidth": 0,
              "ticks": ""
             }
            },
            "type": "scattergl"
           }
          ],
          "scattermapbox": [
           {
            "marker": {
             "colorbar": {
              "outlinewidth": 0,
              "ticks": ""
             }
            },
            "type": "scattermapbox"
           }
          ],
          "scatterpolar": [
           {
            "marker": {
             "colorbar": {
              "outlinewidth": 0,
              "ticks": ""
             }
            },
            "type": "scatterpolar"
           }
          ],
          "scatterpolargl": [
           {
            "marker": {
             "colorbar": {
              "outlinewidth": 0,
              "ticks": ""
             }
            },
            "type": "scatterpolargl"
           }
          ],
          "scatterternary": [
           {
            "marker": {
             "colorbar": {
              "outlinewidth": 0,
              "ticks": ""
             }
            },
            "type": "scatterternary"
           }
          ],
          "surface": [
           {
            "colorbar": {
             "outlinewidth": 0,
             "ticks": ""
            },
            "colorscale": [
             [
              0,
              "#0d0887"
             ],
             [
              0.1111111111111111,
              "#46039f"
             ],
             [
              0.2222222222222222,
              "#7201a8"
             ],
             [
              0.3333333333333333,
              "#9c179e"
             ],
             [
              0.4444444444444444,
              "#bd3786"
             ],
             [
              0.5555555555555556,
              "#d8576b"
             ],
             [
              0.6666666666666666,
              "#ed7953"
             ],
             [
              0.7777777777777778,
              "#fb9f3a"
             ],
             [
              0.8888888888888888,
              "#fdca26"
             ],
             [
              1,
              "#f0f921"
             ]
            ],
            "type": "surface"
           }
          ],
          "table": [
           {
            "cells": {
             "fill": {
              "color": "#EBF0F8"
             },
             "line": {
              "color": "white"
             }
            },
            "header": {
             "fill": {
              "color": "#C8D4E3"
             },
             "line": {
              "color": "white"
             }
            },
            "type": "table"
           }
          ]
         },
         "layout": {
          "annotationdefaults": {
           "arrowcolor": "#2a3f5f",
           "arrowhead": 0,
           "arrowwidth": 1
          },
          "autotypenumbers": "strict",
          "coloraxis": {
           "colorbar": {
            "outlinewidth": 0,
            "ticks": ""
           }
          },
          "colorscale": {
           "diverging": [
            [
             0,
             "#8e0152"
            ],
            [
             0.1,
             "#c51b7d"
            ],
            [
             0.2,
             "#de77ae"
            ],
            [
             0.3,
             "#f1b6da"
            ],
            [
             0.4,
             "#fde0ef"
            ],
            [
             0.5,
             "#f7f7f7"
            ],
            [
             0.6,
             "#e6f5d0"
            ],
            [
             0.7,
             "#b8e186"
            ],
            [
             0.8,
             "#7fbc41"
            ],
            [
             0.9,
             "#4d9221"
            ],
            [
             1,
             "#276419"
            ]
           ],
           "sequential": [
            [
             0,
             "#0d0887"
            ],
            [
             0.1111111111111111,
             "#46039f"
            ],
            [
             0.2222222222222222,
             "#7201a8"
            ],
            [
             0.3333333333333333,
             "#9c179e"
            ],
            [
             0.4444444444444444,
             "#bd3786"
            ],
            [
             0.5555555555555556,
             "#d8576b"
            ],
            [
             0.6666666666666666,
             "#ed7953"
            ],
            [
             0.7777777777777778,
             "#fb9f3a"
            ],
            [
             0.8888888888888888,
             "#fdca26"
            ],
            [
             1,
             "#f0f921"
            ]
           ],
           "sequentialminus": [
            [
             0,
             "#0d0887"
            ],
            [
             0.1111111111111111,
             "#46039f"
            ],
            [
             0.2222222222222222,
             "#7201a8"
            ],
            [
             0.3333333333333333,
             "#9c179e"
            ],
            [
             0.4444444444444444,
             "#bd3786"
            ],
            [
             0.5555555555555556,
             "#d8576b"
            ],
            [
             0.6666666666666666,
             "#ed7953"
            ],
            [
             0.7777777777777778,
             "#fb9f3a"
            ],
            [
             0.8888888888888888,
             "#fdca26"
            ],
            [
             1,
             "#f0f921"
            ]
           ]
          },
          "colorway": [
           "#636efa",
           "#EF553B",
           "#00cc96",
           "#ab63fa",
           "#FFA15A",
           "#19d3f3",
           "#FF6692",
           "#B6E880",
           "#FF97FF",
           "#FECB52"
          ],
          "font": {
           "color": "#2a3f5f"
          },
          "geo": {
           "bgcolor": "white",
           "lakecolor": "white",
           "landcolor": "white",
           "showlakes": true,
           "showland": true,
           "subunitcolor": "#C8D4E3"
          },
          "hoverlabel": {
           "align": "left"
          },
          "hovermode": "closest",
          "mapbox": {
           "style": "light"
          },
          "paper_bgcolor": "white",
          "plot_bgcolor": "white",
          "polar": {
           "angularaxis": {
            "gridcolor": "#EBF0F8",
            "linecolor": "#EBF0F8",
            "ticks": ""
           },
           "bgcolor": "white",
           "radialaxis": {
            "gridcolor": "#EBF0F8",
            "linecolor": "#EBF0F8",
            "ticks": ""
           }
          },
          "scene": {
           "xaxis": {
            "backgroundcolor": "white",
            "gridcolor": "#DFE8F3",
            "gridwidth": 2,
            "linecolor": "#EBF0F8",
            "showbackground": true,
            "ticks": "",
            "zerolinecolor": "#EBF0F8"
           },
           "yaxis": {
            "backgroundcolor": "white",
            "gridcolor": "#DFE8F3",
            "gridwidth": 2,
            "linecolor": "#EBF0F8",
            "showbackground": true,
            "ticks": "",
            "zerolinecolor": "#EBF0F8"
           },
           "zaxis": {
            "backgroundcolor": "white",
            "gridcolor": "#DFE8F3",
            "gridwidth": 2,
            "linecolor": "#EBF0F8",
            "showbackground": true,
            "ticks": "",
            "zerolinecolor": "#EBF0F8"
           }
          },
          "shapedefaults": {
           "line": {
            "color": "#2a3f5f"
           }
          },
          "ternary": {
           "aaxis": {
            "gridcolor": "#DFE8F3",
            "linecolor": "#A2B1C6",
            "ticks": ""
           },
           "baxis": {
            "gridcolor": "#DFE8F3",
            "linecolor": "#A2B1C6",
            "ticks": ""
           },
           "bgcolor": "white",
           "caxis": {
            "gridcolor": "#DFE8F3",
            "linecolor": "#A2B1C6",
            "ticks": ""
           }
          },
          "title": {
           "x": 0.05
          },
          "xaxis": {
           "automargin": true,
           "gridcolor": "#EBF0F8",
           "linecolor": "#EBF0F8",
           "ticks": "",
           "title": {
            "standoff": 15
           },
           "zerolinecolor": "#EBF0F8",
           "zerolinewidth": 2
          },
          "yaxis": {
           "automargin": true,
           "gridcolor": "#EBF0F8",
           "linecolor": "#EBF0F8",
           "ticks": "",
           "title": {
            "standoff": 15
           },
           "zerolinecolor": "#EBF0F8",
           "zerolinewidth": 2
          }
         }
        },
        "title": {
         "font": {
          "color": "Black",
          "size": 22
         },
         "text": "<b>Hierarchical Clustering</b>",
         "x": 0.5,
         "xanchor": "center",
         "yanchor": "top"
        },
        "width": 1000,
        "xaxis": {
         "mirror": "allticks",
         "rangemode": "tozero",
         "showgrid": false,
         "showline": true,
         "showticklabels": true,
         "ticks": "outside",
         "type": "linear",
         "zeroline": false
        },
        "yaxis": {
         "mirror": "allticks",
         "range": [
          -490,
          0
         ],
         "rangemode": "tozero",
         "showgrid": false,
         "showline": true,
         "showticklabels": true,
         "tickmode": "array",
         "ticks": "outside",
         "ticktext": [
          "26_operator_unidentified_119",
          "38_your_participation_happy",
          "12_ready_open_questions",
          "27_ready_open_joined",
          "48_questions_considerations...",
          "46_comes_question_next",
          "10_analyst_suisse_klein",
          "31_warburg_ubs_analyst",
          "33_morning_good_thank",
          "43_thank_chuck_thanks",
          "35_thank_great_much",
          "7_recording_any_consent",
          "28_recording_or_any",
          "6_replay_internationally_mi...",
          "5_conference_ladies_gentlemen",
          "11_relations_investor_go",
          "39_raver_mr_pleasure",
          "34_morning_chief_officer",
          "24_officer_chief_lucchese",
          "30_joined_call_joining",
          "0_the_in_to",
          "1_then_will_ll",
          "25_ken_call_prepared",
          "21_me_if_please",
          "44_uncertainties_risks_stat...",
          "18_statements_actual_measures",
          "9_statements_securities_loo...",
          "15_measures_gaap_non",
          "16_kristina_detail_turn",
          "17_turn_joe_call",
          "22_turn_now_chuck",
          "47_concluding_his_back",
          "13_concluding_ken_his",
          "42_vp_lanning_ir",
          "41_ir_gordon_chris",
          "8_director_raver_inc",
          "20_ceo_inc_president",
          "2_camp_inc_ceo",
          "40_ken_camp_pleasure",
          "32_cindy_lucchese_cfo",
          "29_cfo_lucchese_inc",
          "37_svp_cfo_inc",
          "36_hinrichs_cfo_chuck",
          "3_corporation_smurfit_stone",
          "4_corporation_container_stone",
          "45_chairman_corporation_moore",
          "23_corporation_moore_chairman",
          "19_moore_pat_ceo",
          "14_moore_pat_ceo"
         ],
         "tickvals": [
          -5,
          -15,
          -25,
          -35,
          -45,
          -55,
          -65,
          -75,
          -85,
          -95,
          -105,
          -115,
          -125,
          -135,
          -145,
          -155,
          -165,
          -175,
          -185,
          -195,
          -205,
          -215,
          -225,
          -235,
          -245,
          -255,
          -265,
          -275,
          -285,
          -295,
          -305,
          -315,
          -325,
          -335,
          -345,
          -355,
          -365,
          -375,
          -385,
          -395,
          -405,
          -415,
          -425,
          -435,
          -445,
          -455,
          -465,
          -475,
          -485
         ],
         "type": "linear",
         "zeroline": false
        }
       }
      }
     },
     "metadata": {},
     "output_type": "display_data"
    }
   ],
   "source": [
    "topic_model.visualize_hierarchy().show()"
   ]
  },
  {
   "cell_type": "code",
   "execution_count": 61,
   "metadata": {},
   "outputs": [
    {
     "data": {
      "application/vnd.plotly.v1+json": {
       "config": {
        "plotlyServerURL": "https://plot.ly"
       },
       "data": [
        {
         "coloraxis": "coloraxis",
         "hovertemplate": "x: %{x}<br>y: %{y}<br>Similarity Score: %{z}<extra></extra>",
         "name": "0",
         "type": "heatmap",
         "x": [
          "0_the_in_to",
          "1_then_will_ll",
          "2_camp_inc_ceo",
          "3_corporation_smurfit_stone",
          "4_corporation_container_stone",
          "5_conference_ladies_gentlemen",
          "6_replay_internationally_mi...",
          "7_recording_any_consent",
          "8_director_raver_inc",
          "9_statements_securities_loo...",
          "10_analyst_suisse_klein",
          "11_relations_investor_go",
          "12_ready_open_questions",
          "13_concluding_ken_his",
          "14_moore_pat_ceo",
          "15_measures_gaap_non",
          "16_kristina_detail_turn",
          "17_turn_joe_call",
          "18_statements_actual_measures",
          "19_moore_pat_ceo",
          "20_ceo_inc_president",
          "21_me_if_please",
          "22_turn_now_chuck",
          "23_corporation_moore_chairman",
          "24_officer_chief_lucchese",
          "25_ken_call_prepared",
          "26_operator_unidentified_119",
          "27_ready_open_joined",
          "28_recording_or_any",
          "29_cfo_lucchese_inc",
          "30_joined_call_joining",
          "31_warburg_ubs_analyst",
          "32_cindy_lucchese_cfo",
          "33_morning_good_thank",
          "34_morning_chief_officer",
          "35_thank_great_much",
          "36_hinrichs_cfo_chuck",
          "37_svp_cfo_inc",
          "38_your_participation_happy",
          "39_raver_mr_pleasure",
          "40_ken_camp_pleasure",
          "41_ir_gordon_chris",
          "42_vp_lanning_ir",
          "43_thank_chuck_thanks",
          "44_uncertainties_risks_stat...",
          "45_chairman_corporation_moore",
          "46_comes_question_next",
          "47_concluding_his_back",
          "48_questions_considerations..."
         ],
         "xaxis": "x",
         "y": [
          "0_the_in_to",
          "1_then_will_ll",
          "2_camp_inc_ceo",
          "3_corporation_smurfit_stone",
          "4_corporation_container_stone",
          "5_conference_ladies_gentlemen",
          "6_replay_internationally_mi...",
          "7_recording_any_consent",
          "8_director_raver_inc",
          "9_statements_securities_loo...",
          "10_analyst_suisse_klein",
          "11_relations_investor_go",
          "12_ready_open_questions",
          "13_concluding_ken_his",
          "14_moore_pat_ceo",
          "15_measures_gaap_non",
          "16_kristina_detail_turn",
          "17_turn_joe_call",
          "18_statements_actual_measures",
          "19_moore_pat_ceo",
          "20_ceo_inc_president",
          "21_me_if_please",
          "22_turn_now_chuck",
          "23_corporation_moore_chairman",
          "24_officer_chief_lucchese",
          "25_ken_call_prepared",
          "26_operator_unidentified_119",
          "27_ready_open_joined",
          "28_recording_or_any",
          "29_cfo_lucchese_inc",
          "30_joined_call_joining",
          "31_warburg_ubs_analyst",
          "32_cindy_lucchese_cfo",
          "33_morning_good_thank",
          "34_morning_chief_officer",
          "35_thank_great_much",
          "36_hinrichs_cfo_chuck",
          "37_svp_cfo_inc",
          "38_your_participation_happy",
          "39_raver_mr_pleasure",
          "40_ken_camp_pleasure",
          "41_ir_gordon_chris",
          "42_vp_lanning_ir",
          "43_thank_chuck_thanks",
          "44_uncertainties_risks_stat...",
          "45_chairman_corporation_moore",
          "46_comes_question_next",
          "47_concluding_his_back",
          "48_questions_considerations..."
         ],
         "yaxis": "y",
         "z": [
          [
           1.0000001192092896,
           0.7380819320678711,
           0.5683290958404541,
           0.38215386867523193,
           0.393169105052948,
           0.6066297292709351,
           0.6107494235038757,
           0.5912543535232544,
           0.3987880051136017,
           0.667468249797821,
           0.37438803911209106,
           0.5179388523101807,
           0.5437861680984497,
           0.5288500785827637,
           0.5640817284584045,
           0.6872057914733887,
           0.6413934230804443,
           0.5408735871315002,
           0.7060166001319885,
           0.3885696530342102,
           0.39726412296295166,
           0.6133737564086914,
           0.6101464629173279,
           0.3965603709220886,
           0.6873226761817932,
           0.6514957547187805,
           0.279863566160202,
           0.6050735712051392,
           0.6171841025352478,
           0.5612403750419617,
           0.7039026021957397,
           0.3820125162601471,
           0.5812379121780396,
           0.5671161413192749,
           0.6891469955444336,
           0.4969724714756012,
           0.49730002880096436,
           0.40479576587677,
           0.6283259391784668,
           0.5537579655647278,
           0.6211057901382446,
           0.3716020882129669,
           0.37720009684562683,
           0.5127161145210266,
           0.6656103134155273,
           0.39513787627220154,
           0.4841838479042053,
           0.4911406636238098,
           0.660541296005249
          ],
          [
           0.7380819320678711,
           1.000000238418579,
           0.6463266015052795,
           0.3871443271636963,
           0.4190056025981903,
           0.7494034767150879,
           0.722407877445221,
           0.687098503112793,
           0.43164515495300293,
           0.719783365726471,
           0.4010656177997589,
           0.6788089871406555,
           0.7322449684143066,
           0.7844957709312439,
           0.6255495548248291,
           0.8556634187698364,
           0.912600040435791,
           0.7163220643997192,
           0.8564567565917969,
           0.40467938780784607,
           0.41494220495224,
           0.8361728191375732,
           0.8870216608047485,
           0.40238749980926514,
           0.8508224487304688,
           0.9474129676818848,
           0.3099513351917267,
           0.8411895036697388,
           0.7475361227989197,
           0.6538832783699036,
           0.9022060036659241,
           0.39017629623413086,
           0.7890122532844543,
           0.617935061454773,
           0.8480052351951599,
           0.44194719195365906,
           0.6164698600769043,
           0.4286545515060425,
           0.6847862005233765,
           0.7136165499687195,
           0.7996163964271545,
           0.39277297258377075,
           0.40674668550491333,
           0.5828462243080139,
           0.6913297772407532,
           0.4105531573295593,
           0.5872136354446411,
           0.7253943681716919,
           0.8252502679824829
          ],
          [
           0.5683290958404541,
           0.6463266015052795,
           1.0000003576278687,
           0.37571945786476135,
           0.42789602279663086,
           0.6177834272384644,
           0.5628483295440674,
           0.5856946110725403,
           0.43877288699150085,
           0.5140188932418823,
           0.40020307898521423,
           0.6127387881278992,
           0.5434765219688416,
           0.5703576803207397,
           0.882047176361084,
           0.5551341772079468,
           0.6019331216812134,
           0.5345128774642944,
           0.6261453628540039,
           0.40505048632621765,
           0.4219519793987274,
           0.6436535120010376,
           0.5826475620269775,
           0.41639479994773865,
           0.7274253964424133,
           0.6529777646064758,
           0.2652832865715027,
           0.6560450792312622,
           0.6206346750259399,
           0.9589107632637024,
           0.6620684862136841,
           0.38763564825057983,
           0.6346243619918823,
           0.5044814348220825,
           0.706386923789978,
           0.40729808807373047,
           0.8567569851875305,
           0.43314772844314575,
           0.5250746607780457,
           0.6506032943725586,
           0.6833726763725281,
           0.3881928026676178,
           0.4072396457195282,
           0.5182729363441467,
           0.5354493260383606,
           0.4271027445793152,
           0.5448956489562988,
           0.5312873721122742,
           0.6261277794837952
          ],
          [
           0.38215386867523193,
           0.3871443271636963,
           0.37571945786476135,
           1,
           0.9867503643035889,
           0.4121170938014984,
           0.4121425747871399,
           0.32472214102745056,
           0.9714505672454834,
           0.38875800371170044,
           0.9612444043159485,
           0.33678871393203735,
           0.3163868188858032,
           0.2936621904373169,
           0.36667007207870483,
           0.4041396975517273,
           0.3441833555698395,
           0.29611942172050476,
           0.4065176248550415,
           0.9853848218917847,
           0.9827794432640076,
           0.4053599238395691,
           0.3140195906162262,
           0.9847841262817383,
           0.3675404191017151,
           0.3703240156173706,
           0.8822540044784546,
           0.35132747888565063,
           0.3997410535812378,
           0.37274378538131714,
           0.3869533836841583,
           0.9575818181037903,
           0.29329314827919006,
           0.2523361146450043,
           0.38873207569122314,
           0.2509113550186157,
           0.385586142539978,
           0.9685026407241821,
           0.33997029066085815,
           0.34762659668922424,
           0.34822216629981995,
           0.9876242280006409,
           0.969948947429657,
           0.21050313115119934,
           0.4050995707511902,
           0.9803515672683716,
           0.3347088694572449,
           0.31113776564598083,
           0.3735288083553314
          ],
          [
           0.393169105052948,
           0.4190056025981903,
           0.42789602279663086,
           0.9867503643035889,
           1.0000001192092896,
           0.45063531398773193,
           0.44143152236938477,
           0.3562299609184265,
           0.9840003252029419,
           0.40811267495155334,
           0.976272702217102,
           0.3897458016872406,
           0.34477686882019043,
           0.3321422338485718,
           0.40966424345970154,
           0.4272605776786804,
           0.38082069158554077,
           0.3342994451522827,
           0.4384130537509918,
           0.9881687164306641,
           0.9898850917816162,
           0.44072696566581726,
           0.3524845838546753,
           0.9855186939239502,
           0.4090735614299774,
           0.408447802066803,
           0.890109658241272,
           0.38693469762802124,
           0.4347628355026245,
           0.41884422302246094,
           0.42270708084106445,
           0.9704614281654358,
           0.33721646666526794,
           0.2771592140197754,
           0.4259408116340637,
           0.26570481061935425,
           0.4247337281703949,
           0.9859859347343445,
           0.36095666885375977,
           0.398741215467453,
           0.3943710923194885,
           0.9886454343795776,
           0.9847801923751831,
           0.24437710642814636,
           0.43655088543891907,
           0.9879132509231567,
           0.3631002902984619,
           0.3478122055530548,
           0.4079434275627136
          ],
          [
           0.6066297292709351,
           0.7494034767150879,
           0.6177834272384644,
           0.4121170938014984,
           0.45063531398773193,
           1.0000001192092896,
           0.7944308519363403,
           0.7598496675491333,
           0.4452649652957916,
           0.6889129281044006,
           0.42645713686943054,
           0.8721117973327637,
           0.7840981483459473,
           0.6788504719734192,
           0.6232898235321045,
           0.7236456871032715,
           0.6959682106971741,
           0.7103356122970581,
           0.7606227397918701,
           0.44021010398864746,
           0.43447503447532654,
           0.8215183615684509,
           0.6554784178733826,
           0.4304000437259674,
           0.7985075116157532,
           0.7877225875854492,
           0.3643011450767517,
           0.8182891607284546,
           0.814371645450592,
           0.6285293698310852,
           0.8288562893867493,
           0.41093873977661133,
           0.7204967141151428,
           0.5767032504081726,
           0.7995603680610657,
           0.5309401154518127,
           0.636968731880188,
           0.44872134923934937,
           0.7704340815544128,
           0.8529566526412964,
           0.7606290578842163,
           0.4238560199737549,
           0.44773024320602417,
           0.49865108728408813,
           0.6303485631942749,
           0.4380796551704407,
           0.6669663190841675,
           0.7191042900085449,
           0.7758159637451172
          ],
          [
           0.6107494235038757,
           0.722407877445221,
           0.5628483295440674,
           0.4121425747871399,
           0.44143152236938477,
           0.7944308519363403,
           0.9999998807907104,
           0.7830727100372314,
           0.4349571466445923,
           0.6533183455467224,
           0.4211335778236389,
           0.6763682961463928,
           0.6766368746757507,
           0.5969744324684143,
           0.5490471720695496,
           0.7595687508583069,
           0.6378784775733948,
           0.5980042815208435,
           0.7394746541976929,
           0.42674052715301514,
           0.4257687032222748,
           0.8524602055549622,
           0.5754902362823486,
           0.42661070823669434,
           0.7489926815032959,
           0.7605903148651123,
           0.34733256697654724,
           0.7452770471572876,
           0.9503200054168701,
           0.5822315812110901,
           0.8004820346832275,
           0.4084636867046356,
           0.6176538467407227,
           0.46308380365371704,
           0.7551651000976562,
           0.40193459391593933,
           0.558148205280304,
           0.43511825799942017,
           0.668265700340271,
           0.6858165264129639,
           0.6456165313720703,
           0.41896533966064453,
           0.4307187497615814,
           0.39981555938720703,
           0.6140942573547363,
           0.4364495873451233,
           0.5488189458847046,
           0.6218039393424988,
           0.6858309507369995
          ],
          [
           0.5912543535232544,
           0.687098503112793,
           0.5856946110725403,
           0.32472214102745056,
           0.3562299609184265,
           0.7598496675491333,
           0.7830727100372314,
           1,
           0.35300612449645996,
           0.6798228621482849,
           0.34098488092422485,
           0.6772557497024536,
           0.6665061712265015,
           0.5950711965560913,
           0.5619365572929382,
           0.768275260925293,
           0.6190441250801086,
           0.5987017154693604,
           0.7849509716033936,
           0.35023874044418335,
           0.34250032901763916,
           0.8220577836036682,
           0.5777713060379028,
           0.3466107249259949,
           0.6752614974975586,
           0.7366812229156494,
           0.25540345907211304,
           0.740185022354126,
           0.8812964558601379,
           0.5903815627098083,
           0.7151302099227905,
           0.3284602463245392,
           0.6058099865913391,
           0.41764014959335327,
           0.6673220992088318,
           0.42927971482276917,
           0.5837583541870117,
           0.3466428518295288,
           0.6446287035942078,
           0.6854545474052429,
           0.6437234878540039,
           0.32707589864730835,
           0.33598148822784424,
           0.41488948464393616,
           0.642392635345459,
           0.35110488533973694,
           0.5438904762268066,
           0.6284506320953369,
           0.7574115991592407
          ],
          [
           0.3987880051136017,
           0.43164515495300293,
           0.43877288699150085,
           0.9714505672454834,
           0.9840003252029419,
           0.4452649652957916,
           0.4349571466445923,
           0.35300612449645996,
           1.0000001192092896,
           0.40746915340423584,
           0.959318995475769,
           0.3867986798286438,
           0.3402312695980072,
           0.33560803532600403,
           0.4084224998950958,
           0.4323868155479431,
           0.38930895924568176,
           0.3370668888092041,
           0.44368213415145874,
           0.9771554470062256,
           0.994925320148468,
           0.44273483753204346,
           0.3629273474216461,
           0.9761239290237427,
           0.41555309295654297,
           0.4171745181083679,
           0.8558733463287354,
           0.39070338010787964,
           0.43026837706565857,
           0.4277374744415283,
           0.4298272132873535,
           0.9533268213272095,
           0.3433488607406616,
           0.28432387113571167,
           0.434990793466568,
           0.26192739605903625,
           0.41556257009506226,
           0.9862529635429382,
           0.35789066553115845,
           0.40042388439178467,
           0.4026162326335907,
           0.9799802303314209,
           0.9770891666412354,
           0.2540464699268341,
           0.44050130248069763,
           0.9809688329696655,
           0.35136255621910095,
           0.34710395336151123,
           0.4143938422203064
          ],
          [
           0.667468249797821,
           0.719783365726471,
           0.5140188932418823,
           0.38875800371170044,
           0.40811267495155334,
           0.6889129281044006,
           0.6533183455467224,
           0.6798228621482849,
           0.40746915340423584,
           1.0000001192092896,
           0.38150298595428467,
           0.6075284481048584,
           0.6024333238601685,
           0.5430204272270203,
           0.5236909985542297,
           0.8331998586654663,
           0.6330684423446655,
           0.5654267072677612,
           0.9065002799034119,
           0.4069323241710663,
           0.40735745429992676,
           0.6892629861831665,
           0.5925940871238708,
           0.40862348675727844,
           0.7096527814865112,
           0.6916767358779907,
           0.306436687707901,
           0.6538301110267639,
           0.6726210117340088,
           0.522425651550293,
           0.7312476634979248,
           0.37501922249794006,
           0.5975585579872131,
           0.4604108929634094,
           0.7036432027816772,
           0.3591907024383545,
           0.5042350888252258,
           0.41046464443206787,
           0.6152439117431641,
           0.6413609981536865,
           0.6501968502998352,
           0.38134223222732544,
           0.39138543605804443,
           0.4015517830848694,
           0.8421368598937988,
           0.4079943895339966,
           0.5393590927124023,
           0.5557234287261963,
           0.7288215756416321
          ],
          [
           0.37438803911209106,
           0.4010656177997589,
           0.40020307898521423,
           0.9612444043159485,
           0.976272702217102,
           0.42645713686943054,
           0.4211335778236389,
           0.34098488092422485,
           0.959318995475769,
           0.38150298595428467,
           1,
           0.3672775626182556,
           0.3316560685634613,
           0.31838905811309814,
           0.3801429867744446,
           0.40428486466407776,
           0.364268034696579,
           0.3084271252155304,
           0.4193841516971588,
           0.9625627398490906,
           0.9675521850585938,
           0.42297786474227905,
           0.33694568276405334,
           0.9493613243103027,
           0.3789559602737427,
           0.39514225721359253,
           0.9185061454772949,
           0.3696114122867584,
           0.42106175422668457,
           0.3869989514350891,
           0.3988354802131653,
           0.9958490133285522,
           0.3184927701950073,
           0.25670281052589417,
           0.3948019742965698,
           0.25985100865364075,
           0.3923184275627136,
           0.9776961803436279,
           0.3451913297176361,
           0.36728397011756897,
           0.3677636981010437,
           0.9712170362472534,
           0.976381242275238,
           0.22318115830421448,
           0.41928690671920776,
           0.950273334980011,
           0.36603933572769165,
           0.328393816947937,
           0.39404231309890747
          ],
          [
           0.5179388523101807,
           0.6788089871406555,
           0.6127387881278992,
           0.33678871393203735,
           0.3897458016872406,
           0.8721117973327637,
           0.6763682961463928,
           0.6772557497024536,
           0.3867986798286438,
           0.6075284481048584,
           0.3672775626182556,
           1.000000238418579,
           0.7385103106498718,
           0.7465495467185974,
           0.5991305112838745,
           0.6111971735954285,
           0.7182382345199585,
           0.7940372824668884,
           0.6744588613510132,
           0.3746485710144043,
           0.3696744740009308,
           0.7539516687393188,
           0.7041964530944824,
           0.36287426948547363,
           0.7794920802116394,
           0.731592059135437,
           0.3045540153980255,
           0.7766594886779785,
           0.7155027985572815,
           0.6134140491485596,
           0.773582935333252,
           0.3507474660873413,
           0.8240423798561096,
           0.5576162934303284,
           0.7531260251998901,
           0.4612850844860077,
           0.6337854266166687,
           0.38691169023513794,
           0.6700409054756165,
           0.9515512585639954,
           0.8615154027938843,
           0.3605281412601471,
           0.39016368985176086,
           0.5177252292633057,
           0.5842524766921997,
           0.3755566477775574,
           0.7021198868751526,
           0.7582426071166992,
           0.7194550633430481
          ],
          [
           0.5437861680984497,
           0.7322449684143066,
           0.5434765219688416,
           0.3163868188858032,
           0.34477686882019043,
           0.7840981483459473,
           0.6766368746757507,
           0.6665061712265015,
           0.3402312695980072,
           0.6024333238601685,
           0.3316560685634613,
           0.7385103106498718,
           1.000000238418579,
           0.7955728769302368,
           0.5454245805740356,
           0.654069721698761,
           0.7454559206962585,
           0.7911322116851807,
           0.6959567070007324,
           0.34243014454841614,
           0.3319018483161926,
           0.8405753374099731,
           0.7059242725372314,
           0.3352210819721222,
           0.676280677318573,
           0.8202232122421265,
           0.2615601420402527,
           0.9240497350692749,
           0.7357051372528076,
           0.5299679040908813,
           0.7301861643791199,
           0.318917453289032,
           0.7534592747688293,
           0.5280791521072388,
           0.7064672112464905,
           0.5955553650856018,
           0.5729495286941528,
           0.3385751247406006,
           0.8569722771644592,
           0.7129412889480591,
           0.7301653623580933,
           0.32385510206222534,
           0.3238394856452942,
           0.530001699924469,
           0.5269062519073486,
           0.34241950511932373,
           0.6965879201889038,
           0.8093066811561584,
           0.877139687538147
          ],
          [
           0.5288500785827637,
           0.7844957709312439,
           0.5703576803207397,
           0.2936621904373169,
           0.3321422338485718,
           0.6788504719734192,
           0.5969744324684143,
           0.5950711965560913,
           0.33560803532600403,
           0.5430204272270203,
           0.31838905811309814,
           0.7465495467185974,
           0.7955728769302368,
           0.9999996423721313,
           0.544407844543457,
           0.6414127349853516,
           0.8981609344482422,
           0.9095421433448792,
           0.6650015711784363,
           0.3151414096355438,
           0.3195634186267853,
           0.7786788940429688,
           0.895967960357666,
           0.3087646961212158,
           0.7031399607658386,
           0.8369671702384949,
           0.2450554370880127,
           0.8148894309997559,
           0.6458112001419067,
           0.5602474212646484,
           0.7259594202041626,
           0.29860642552375793,
           0.8912655711174011,
           0.5079960227012634,
           0.6853595972061157,
           0.4504677951335907,
           0.57557213306427,
           0.33737289905548096,
           0.6549454927444458,
           0.7560687065124512,
           0.8750075697898865,
           0.30718350410461426,
           0.32026439905166626,
           0.5697989463806152,
           0.5470797419548035,
           0.3204708397388458,
           0.5986214876174927,
           0.9279934167861938,
           0.7998318076133728
          ],
          [
           0.5640817284584045,
           0.6255495548248291,
           0.882047176361084,
           0.36667007207870483,
           0.40966424345970154,
           0.6232898235321045,
           0.5490471720695496,
           0.5619365572929382,
           0.4084224998950958,
           0.5236909985542297,
           0.3801429867744446,
           0.5991305112838745,
           0.5454245805740356,
           0.544407844543457,
           1.0000001192092896,
           0.5460124015808105,
           0.5775027871131897,
           0.5463900566101074,
           0.6373935341835022,
           0.41306325793266296,
           0.3963666260242462,
           0.6250489950180054,
           0.5559288859367371,
           0.41064319014549255,
           0.7201612591743469,
           0.6436951160430908,
           0.23504573106765747,
           0.6466458439826965,
           0.6063613891601562,
           0.8421149849891663,
           0.6539784669876099,
           0.3676171600818634,
           0.6231972575187683,
           0.49166202545166016,
           0.7077919840812683,
           0.42434629797935486,
           0.9128738045692444,
           0.4036642909049988,
           0.5484210848808289,
           0.6426612138748169,
           0.6584749221801758,
           0.36807647347450256,
           0.3805106580257416,
           0.5190395712852478,
           0.5433474779129028,
           0.41828298568725586,
           0.5456767082214355,
           0.5278642177581787,
           0.6271229386329651
          ],
          [
           0.6872057914733887,
           0.8556634187698364,
           0.5551341772079468,
           0.4041396975517273,
           0.4272605776786804,
           0.7236456871032715,
           0.7595687508583069,
           0.768275260925293,
           0.4323868155479431,
           0.8331998586654663,
           0.40428486466407776,
           0.6111971735954285,
           0.654069721698761,
           0.6414127349853516,
           0.5460124015808105,
           1,
           0.76070636510849,
           0.6064390540122986,
           0.9365110397338867,
           0.4171827733516693,
           0.4252634048461914,
           0.8077419400215149,
           0.7043246626853943,
           0.4164022207260132,
           0.7412556409835815,
           0.8323056697845459,
           0.3262551724910736,
           0.7416925430297852,
           0.7883378863334656,
           0.5667853355407715,
           0.806221067905426,
           0.3929806351661682,
           0.6410697102546692,
           0.4879646897315979,
           0.7509276270866394,
           0.3810688257217407,
           0.528401255607605,
           0.4306010603904724,
           0.6147713661193848,
           0.6294824481010437,
           0.6699455976486206,
           0.4048382043838501,
           0.41613638401031494,
           0.4498826265335083,
           0.7898316383361816,
           0.41965290904045105,
           0.5352860689163208,
           0.6211029887199402,
           0.776400625705719
          ],
          [
           0.6413934230804443,
           0.912600040435791,
           0.6019331216812134,
           0.3441833555698395,
           0.38082069158554077,
           0.6959682106971741,
           0.6378784775733948,
           0.6190441250801086,
           0.38930895924568176,
           0.6330684423446655,
           0.364268034696579,
           0.7182382345199585,
           0.7454559206962585,
           0.8981609344482422,
           0.5775027871131897,
           0.76070636510849,
           0.9999997615814209,
           0.8380712270736694,
           0.7590051293373108,
           0.3619726896286011,
           0.37277162075042725,
           0.7935515642166138,
           0.9538135528564453,
           0.3572775423526764,
           0.7733288407325745,
           0.8903573155403137,
           0.28593015670776367,
           0.8036996722221375,
           0.6677584648132324,
           0.6095097064971924,
           0.8093961477279663,
           0.3482583165168762,
           0.8738424777984619,
           0.5690053701400757,
           0.7504428029060364,
           0.43735915422439575,
           0.584433913230896,
           0.3902756869792938,
           0.6268157958984375,
           0.740662693977356,
           0.8493037819862366,
           0.3586564362049103,
           0.37259018421173096,
           0.593622624874115,
           0.6234719753265381,
           0.3666157126426697,
           0.6140902042388916,
           0.8207120895385742,
           0.7972059845924377
          ],
          [
           0.5408735871315002,
           0.7163220643997192,
           0.5345128774642944,
           0.29611942172050476,
           0.3342994451522827,
           0.7103356122970581,
           0.5980042815208435,
           0.5987017154693604,
           0.3370668888092041,
           0.5654267072677612,
           0.3084271252155304,
           0.7940372824668884,
           0.7911322116851807,
           0.9095421433448792,
           0.5463900566101074,
           0.6064390540122986,
           0.8380712270736694,
           1,
           0.6396992802619934,
           0.3247286081314087,
           0.3224574029445648,
           0.7357070446014404,
           0.8579071760177612,
           0.31609177589416504,
           0.6852360963821411,
           0.7631431221961975,
           0.24045592546463013,
           0.7707683444023132,
           0.639761745929718,
           0.5131036043167114,
           0.687955379486084,
           0.2911246120929718,
           0.8897348642349243,
           0.489177942276001,
           0.6528005599975586,
           0.4541322886943817,
           0.5538910627365112,
           0.3340110778808594,
           0.6630165576934814,
           0.8110584020614624,
           0.8728482723236084,
           0.310173898935318,
           0.3219969868659973,
           0.5598605871200562,
           0.5455220937728882,
           0.3273501396179199,
           0.5923519134521484,
           0.911365807056427,
           0.7555296421051025
          ],
          [
           0.7060166001319885,
           0.8564567565917969,
           0.6261453628540039,
           0.4065176248550415,
           0.4384130537509918,
           0.7606227397918701,
           0.7394746541976929,
           0.7849509716033936,
           0.44368213415145874,
           0.9065002799034119,
           0.4193841516971588,
           0.6744588613510132,
           0.6959567070007324,
           0.6650015711784363,
           0.6373935341835022,
           0.9365110397338867,
           0.7590051293373108,
           0.6396992802619934,
           1.0000001192092896,
           0.4346325993537903,
           0.4351625442504883,
           0.8212915062904358,
           0.7097418308258057,
           0.4305570125579834,
           0.8078427314758301,
           0.8598402738571167,
           0.3168279826641083,
           0.7945645451545715,
           0.8109796047210693,
           0.6266453862190247,
           0.8433713912963867,
           0.41112542152404785,
           0.690072774887085,
           0.5489635467529297,
           0.8049725294113159,
           0.44515103101730347,
           0.6199505925178528,
           0.4434046149253845,
           0.674407422542572,
           0.6984063386917114,
           0.7290339469909668,
           0.4089512228965759,
           0.4201743006706238,
           0.5051402449607849,
           0.8407135605812073,
           0.43450728058815,
           0.5869545936584473,
           0.6502209901809692,
           0.8289909362792969
          ],
          [
           0.3885696530342102,
           0.40467938780784607,
           0.40505048632621765,
           0.9853848218917847,
           0.9881687164306641,
           0.44021010398864746,
           0.42674052715301514,
           0.35023874044418335,
           0.9771554470062256,
           0.4069323241710663,
           0.9625627398490906,
           0.3746485710144043,
           0.34243014454841614,
           0.3151414096355438,
           0.41306325793266296,
           0.4171827733516693,
           0.3619726896286011,
           0.3247286081314087,
           0.4346325993537903,
           1.000000238418579,
           0.9859398007392883,
           0.4328063726425171,
           0.33694353699684143,
           0.9933526515960693,
           0.397407591342926,
           0.39583948254585266,
           0.8637539148330688,
           0.37962448596954346,
           0.424068421125412,
           0.39643505215644836,
           0.4104892611503601,
           0.9566654562950134,
           0.3240273594856262,
           0.2707839608192444,
           0.41296184062957764,
           0.2676619291305542,
           0.41816791892051697,
           0.9694742560386658,
           0.35960572957992554,
           0.38562914729118347,
           0.38238561153411865,
           0.9804812669754028,
           0.9627333879470825,
           0.23677338659763336,
           0.43061408400535583,
           0.9909812808036804,
           0.35860878229141235,
           0.3334287405014038,
           0.40293166041374207
          ],
          [
           0.39726412296295166,
           0.41494220495224,
           0.4219519793987274,
           0.9827794432640076,
           0.9898850917816162,
           0.43447503447532654,
           0.4257687032222748,
           0.34250032901763916,
           0.994925320148468,
           0.40735745429992676,
           0.9675521850585938,
           0.3696744740009308,
           0.3319018483161926,
           0.3195634186267853,
           0.3963666260242462,
           0.4252634048461914,
           0.37277162075042725,
           0.3224574029445648,
           0.4351625442504883,
           0.9859398007392883,
           0.9999998807907104,
           0.4284369647502899,
           0.34493088722229004,
           0.9848247766494751,
           0.3961293697357178,
           0.397830992937088,
           0.8696056604385376,
           0.37343156337738037,
           0.41914689540863037,
           0.41289180517196655,
           0.41215255856513977,
           0.9632351398468018,
           0.3254312574863434,
           0.2731182873249054,
           0.4164031147956848,
           0.25888001918792725,
           0.4010167419910431,
           0.9885754585266113,
           0.35332030057907104,
           0.3805534243583679,
           0.38378918170928955,
           0.9881789684295654,
           0.9809067845344543,
           0.2385234832763672,
           0.43390971422195435,
           0.9853414297103882,
           0.34845030307769775,
           0.3326951265335083,
           0.40278053283691406
          ],
          [
           0.6133737564086914,
           0.8361728191375732,
           0.6436535120010376,
           0.4053599238395691,
           0.44072696566581726,
           0.8215183615684509,
           0.8524602055549622,
           0.8220577836036682,
           0.44273483753204346,
           0.6892629861831665,
           0.42297786474227905,
           0.7539516687393188,
           0.8405753374099731,
           0.7786788940429688,
           0.6250489950180054,
           0.8077419400215149,
           0.7935515642166138,
           0.7357070446014404,
           0.8212915062904358,
           0.4328063726425171,
           0.4284369647502899,
           0.9999998807907104,
           0.7503228783607483,
           0.42953142523765564,
           0.7782520055770874,
           0.9246023893356323,
           0.32330894470214844,
           0.9106466770172119,
           0.9021494388580322,
           0.6561033725738525,
           0.8348425030708313,
           0.405480295419693,
           0.7722824811935425,
           0.5137962102890015,
           0.7912901639938354,
           0.4454694390296936,
           0.6624660491943359,
           0.4352796673774719,
           0.7256338000297546,
           0.7567239999771118,
           0.7687366008758545,
           0.412431001663208,
           0.4203417897224426,
           0.4945361018180847,
           0.6467524766921997,
           0.43890380859375,
           0.6816095113754272,
           0.761906623840332,
           0.8780001997947693
          ],
          [
           0.6101464629173279,
           0.8870216608047485,
           0.5826475620269775,
           0.3140195906162262,
           0.3524845838546753,
           0.6554784178733826,
           0.5754902362823486,
           0.5777713060379028,
           0.3629273474216461,
           0.5925940871238708,
           0.33694568276405334,
           0.7041964530944824,
           0.7059242725372314,
           0.895967960357666,
           0.5559288859367371,
           0.7043246626853943,
           0.9538135528564453,
           0.8579071760177612,
           0.7097418308258057,
           0.33694353699684143,
           0.34493088722229004,
           0.7503228783607483,
           0.9999997615814209,
           0.33073946833610535,
           0.7327360510826111,
           0.8522535562515259,
           0.25782209634780884,
           0.7594099044799805,
           0.6134071350097656,
           0.5781897902488708,
           0.7519840598106384,
           0.3217359781265259,
           0.8806659579277039,
           0.5322839617729187,
           0.7055298089981079,
           0.36822307109832764,
           0.5618776082992554,
           0.3619522452354431,
           0.5786688327789307,
           0.7252908945083618,
           0.8526548743247986,
           0.32999667525291443,
           0.344246506690979,
           0.5708469152450562,
           0.5878504514694214,
           0.33977487683296204,
           0.5696491003036499,
           0.8140149116516113,
           0.7623057961463928
          ],
          [
           0.3965603709220886,
           0.40238749980926514,
           0.41639479994773865,
           0.9847841262817383,
           0.9855186939239502,
           0.4304000437259674,
           0.42661070823669434,
           0.3466107249259949,
           0.9761239290237427,
           0.40862348675727844,
           0.9493613243103027,
           0.36287426948547363,
           0.3352210819721222,
           0.3087646961212158,
           0.41064319014549255,
           0.4164022207260132,
           0.3572775423526764,
           0.31609177589416504,
           0.4305570125579834,
           0.9933526515960693,
           0.9848247766494751,
           0.42953142523765564,
           0.33073946833610535,
           1,
           0.39353322982788086,
           0.39021170139312744,
           0.8419572710990906,
           0.3724682927131653,
           0.4190552830696106,
           0.40854477882385254,
           0.4068969488143921,
           0.9439203143119812,
           0.31905853748321533,
           0.26931536197662354,
           0.41444188356399536,
           0.2583637833595276,
           0.41544240713119507,
           0.9634153842926025,
           0.3534339666366577,
           0.3763692080974579,
           0.37713146209716797,
           0.9746837615966797,
           0.9539489150047302,
           0.23228737711906433,
           0.43082404136657715,
           0.9959395527839661,
           0.3555942177772522,
           0.325978547334671,
           0.3987570106983185
          ],
          [
           0.6873226761817932,
           0.8508224487304688,
           0.7274253964424133,
           0.3675404191017151,
           0.4090735614299774,
           0.7985075116157532,
           0.7489926815032959,
           0.6752614974975586,
           0.41555309295654297,
           0.7096527814865112,
           0.3789559602737427,
           0.7794920802116394,
           0.676280677318573,
           0.7031399607658386,
           0.7201612591743469,
           0.7412556409835815,
           0.7733288407325745,
           0.6852360963821411,
           0.8078427314758301,
           0.397407591342926,
           0.3961293697357178,
           0.7782520055770874,
           0.7327360510826111,
           0.39353322982788086,
           1.0000001192092896,
           0.8488830327987671,
           0.2918812930583954,
           0.8156853914260864,
           0.7521952390670776,
           0.7470093965530396,
           0.9593648314476013,
           0.3663107454776764,
           0.8153930306434631,
           0.7146755456924438,
           0.9543079733848572,
           0.5069206357002258,
           0.7177061438560486,
           0.4092880189418793,
           0.7014754414558411,
           0.8208385109901428,
           0.8417683243751526,
           0.37190982699394226,
           0.3935672342777252,
           0.6707639694213867,
           0.6695683598518372,
           0.40783464908599854,
           0.5892543792724609,
           0.6802331805229187,
           0.7347347736358643
          ],
          [
           0.6514957547187805,
           0.9474129676818848,
           0.6529777646064758,
           0.3703240156173706,
           0.408447802066803,
           0.7877225875854492,
           0.7605903148651123,
           0.7366812229156494,
           0.4171745181083679,
           0.6916767358779907,
           0.39514225721359253,
           0.731592059135437,
           0.8202232122421265,
           0.8369671702384949,
           0.6436951160430908,
           0.8323056697845459,
           0.8903573155403137,
           0.7631431221961975,
           0.8598402738571167,
           0.39583948254585266,
           0.397830992937088,
           0.9246023893356323,
           0.8522535562515259,
           0.39021170139312744,
           0.8488830327987671,
           1.0000003576278687,
           0.2980917990207672,
           0.9283373355865479,
           0.814659595489502,
           0.6598898768424988,
           0.9069118499755859,
           0.37918180227279663,
           0.828431248664856,
           0.598571240901947,
           0.8559369444847107,
           0.45912349224090576,
           0.6576867699623108,
           0.41149529814720154,
           0.7179392576217651,
           0.7543054819107056,
           0.8214244842529297,
           0.3759094178676605,
           0.3902716636657715,
           0.5799469947814941,
           0.6574090123176575,
           0.4018210172653198,
           0.6414676904678345,
           0.7849628925323486,
           0.8717331290245056
          ],
          [
           0.279863566160202,
           0.3099513351917267,
           0.2652832865715027,
           0.8822540044784546,
           0.890109658241272,
           0.3643011450767517,
           0.34733256697654724,
           0.25540345907211304,
           0.8558733463287354,
           0.306436687707901,
           0.9185061454772949,
           0.3045540153980255,
           0.2615601420402527,
           0.2450554370880127,
           0.23504573106765747,
           0.3262551724910736,
           0.28593015670776367,
           0.24045592546463013,
           0.3168279826641083,
           0.8637539148330688,
           0.8696056604385376,
           0.32330894470214844,
           0.25782209634780884,
           0.8419572710990906,
           0.2918812930583954,
           0.2980917990207672,
           1.000000238418579,
           0.2799578309059143,
           0.3304707407951355,
           0.2525659501552582,
           0.31693235039711,
           0.9100455641746521,
           0.23528233170509338,
           0.18918588757514954,
           0.3026652932167053,
           0.20947548747062683,
           0.25404542684555054,
           0.8810123205184937,
           0.26905322074890137,
           0.3053615987300873,
           0.28902730345726013,
           0.8944307565689087,
           0.9092827439308167,
           0.15849652886390686,
           0.3327888250350952,
           0.8449467420578003,
           0.277621865272522,
           0.25818371772766113,
           0.2887987196445465
          ],
          [
           0.6050735712051392,
           0.8411895036697388,
           0.6560450792312622,
           0.35132747888565063,
           0.38693469762802124,
           0.8182891607284546,
           0.7452770471572876,
           0.740185022354126,
           0.39070338010787964,
           0.6538301110267639,
           0.3696114122867584,
           0.7766594886779785,
           0.9240497350692749,
           0.8148894309997559,
           0.6466458439826965,
           0.7416925430297852,
           0.8036996722221375,
           0.7707683444023132,
           0.7945645451545715,
           0.37962448596954346,
           0.37343156337738037,
           0.9106466770172119,
           0.7594099044799805,
           0.3724682927131653,
           0.8156853914260864,
           0.9283373355865479,
           0.2799578309059143,
           1,
           0.8079403638839722,
           0.6517695784568787,
           0.8714660406112671,
           0.3537810444831848,
           0.8067662715911865,
           0.5916002988815308,
           0.8303080797195435,
           0.5535664558410645,
           0.6823168396949768,
           0.3810166120529175,
           0.8119058609008789,
           0.7756600379943848,
           0.8074702024459839,
           0.3564390242099762,
           0.3640424907207489,
           0.5781232118606567,
           0.6122372150421143,
           0.3843160569667816,
           0.7179446220397949,
           0.7982913255691528,
           0.8993654847145081
          ],
          [
           0.6171841025352478,
           0.7475361227989197,
           0.6206346750259399,
           0.3997410535812378,
           0.4347628355026245,
           0.814371645450592,
           0.9503200054168701,
           0.8812964558601379,
           0.43026837706565857,
           0.6726210117340088,
           0.42106175422668457,
           0.7155027985572815,
           0.7357051372528076,
           0.6458112001419067,
           0.6063613891601562,
           0.7883378863334656,
           0.6677584648132324,
           0.639761745929718,
           0.8109796047210693,
           0.424068421125412,
           0.41914689540863037,
           0.9021494388580322,
           0.6134071350097656,
           0.4190552830696106,
           0.7521952390670776,
           0.814659595489502,
           0.3304707407951355,
           0.8079403638839722,
           1.0000001192092896,
           0.6276339292526245,
           0.8015149831771851,
           0.4089198112487793,
           0.652327835559845,
           0.4741206169128418,
           0.7517758011817932,
           0.44900381565093994,
           0.6217592358589172,
           0.4288245439529419,
           0.7014818787574768,
           0.7164075970649719,
           0.6803849339485168,
           0.4089740812778473,
           0.4197446405887604,
           0.43423792719841003,
           0.6381637454032898,
           0.42744651436805725,
           0.5846831202507019,
           0.6720279455184937,
           0.7626494765281677
          ],
          [
           0.5612403750419617,
           0.6538832783699036,
           0.9589107632637024,
           0.37274378538131714,
           0.41884422302246094,
           0.6285293698310852,
           0.5822315812110901,
           0.5903815627098083,
           0.4277374744415283,
           0.522425651550293,
           0.3869989514350891,
           0.6134140491485596,
           0.5299679040908813,
           0.5602474212646484,
           0.8421149849891663,
           0.5667853355407715,
           0.6095097064971924,
           0.5131036043167114,
           0.6266453862190247,
           0.39643505215644836,
           0.41289180517196655,
           0.6561033725738525,
           0.5781897902488708,
           0.40854477882385254,
           0.7470093965530396,
           0.6598898768424988,
           0.2525659501552582,
           0.6517695784568787,
           0.6276339292526245,
           1,
           0.6826337575912476,
           0.37255698442459106,
           0.6692126989364624,
           0.49707499146461487,
           0.7230895757675171,
           0.38528236746788025,
           0.8633226156234741,
           0.42739564180374146,
           0.5086060166358948,
           0.6376360058784485,
           0.6610418558120728,
           0.38152647018432617,
           0.39969319105148315,
           0.5131837725639343,
           0.5358600616455078,
           0.4160163998603821,
           0.5546293258666992,
           0.5268272161483765,
           0.611919105052948
          ],
          [
           0.7039026021957397,
           0.9022060036659241,
           0.6620684862136841,
           0.3869533836841583,
           0.42270708084106445,
           0.8288562893867493,
           0.8004820346832275,
           0.7151302099227905,
           0.4298272132873535,
           0.7312476634979248,
           0.3988354802131653,
           0.773582935333252,
           0.7301861643791199,
           0.7259594202041626,
           0.6539784669876099,
           0.806221067905426,
           0.8093961477279663,
           0.687955379486084,
           0.8433713912963867,
           0.4104892611503601,
           0.41215255856513977,
           0.8348425030708313,
           0.7519840598106384,
           0.4068969488143921,
           0.9593648314476013,
           0.9069118499755859,
           0.31693235039711,
           0.8714660406112671,
           0.8015149831771851,
           0.6826337575912476,
           0.9999998211860657,
           0.3876861035823822,
           0.7920502424240112,
           0.7085691690444946,
           0.9506170153617859,
           0.5128998756408691,
           0.6565807461738586,
           0.42358237504959106,
           0.7453279495239258,
           0.7962446808815002,
           0.8215203285217285,
           0.39233726263046265,
           0.41076770424842834,
           0.636726975440979,
           0.669945478439331,
           0.41945528984069824,
           0.6089665293693542,
           0.6952579617500305,
           0.7774019241333008
          ],
          [
           0.3820125162601471,
           0.39017629623413086,
           0.38763564825057983,
           0.9575818181037903,
           0.9704614281654358,
           0.41093873977661133,
           0.4084636867046356,
           0.3284602463245392,
           0.9533268213272095,
           0.37501922249794006,
           0.9958490133285522,
           0.3507474660873413,
           0.318917453289032,
           0.29860642552375793,
           0.3676171600818634,
           0.3929806351661682,
           0.3482583165168762,
           0.2911246120929718,
           0.41112542152404785,
           0.9566654562950134,
           0.9632351398468018,
           0.405480295419693,
           0.3217359781265259,
           0.9439203143119812,
           0.3663107454776764,
           0.37918180227279663,
           0.9100455641746521,
           0.3537810444831848,
           0.4089198112487793,
           0.37255698442459106,
           0.3876861035823822,
           0.9999998807907104,
           0.30058372020721436,
           0.25774481892585754,
           0.38345807790756226,
           0.26309847831726074,
           0.3732941150665283,
           0.9754760265350342,
           0.34583422541618347,
           0.3489406406879425,
           0.35123464465141296,
           0.9671615362167358,
           0.9719347357749939,
           0.21699127554893494,
           0.40853920578956604,
           0.9445520639419556,
           0.35017451643943787,
           0.30838465690612793,
           0.3783737123012543
          ],
          [
           0.5812379121780396,
           0.7890122532844543,
           0.6346243619918823,
           0.29329314827919006,
           0.33721646666526794,
           0.7204967141151428,
           0.6176538467407227,
           0.6058099865913391,
           0.3433488607406616,
           0.5975585579872131,
           0.3184927701950073,
           0.8240423798561096,
           0.7534592747688293,
           0.8912655711174011,
           0.6231972575187683,
           0.6410697102546692,
           0.8738424777984619,
           0.8897348642349243,
           0.690072774887085,
           0.3240273594856262,
           0.3254312574863434,
           0.7722824811935425,
           0.8806659579277039,
           0.31905853748321533,
           0.8153930306434631,
           0.828431248664856,
           0.23528233170509338,
           0.8067662715911865,
           0.652327835559845,
           0.6692126989364624,
           0.7920502424240112,
           0.30058372020721436,
           1.0000001192092896,
           0.5794593095779419,
           0.7864083051681519,
           0.4204083979129791,
           0.6445852518081665,
           0.3445785939693451,
           0.6268479228019714,
           0.823789656162262,
           0.9067983627319336,
           0.305050790309906,
           0.3245616853237152,
           0.6262156367301941,
           0.5783004760742188,
           0.3313005268573761,
           0.674618661403656,
           0.8342293500900269,
           0.7557247877120972
          ],
          [
           0.5671161413192749,
           0.617935061454773,
           0.5044814348220825,
           0.2523361146450043,
           0.2771592140197754,
           0.5767032504081726,
           0.46308380365371704,
           0.41764014959335327,
           0.28432387113571167,
           0.4604108929634094,
           0.25670281052589417,
           0.5576162934303284,
           0.5280791521072388,
           0.5079960227012634,
           0.49166202545166016,
           0.4879646897315979,
           0.5690053701400757,
           0.489177942276001,
           0.5489635467529297,
           0.2707839608192444,
           0.2731182873249054,
           0.5137962102890015,
           0.5322839617729187,
           0.26931536197662354,
           0.7146755456924438,
           0.598571240901947,
           0.18918588757514954,
           0.5916002988815308,
           0.4741206169128418,
           0.49707499146461487,
           0.7085691690444946,
           0.25774481892585754,
           0.5794593095779419,
           1.0000001192092896,
           0.7133630514144897,
           0.7122484445571899,
           0.47905147075653076,
           0.2792779505252838,
           0.6175291538238525,
           0.5529069900512695,
           0.5776710510253906,
           0.2648940086364746,
           0.27198585867881775,
           0.8450155854225159,
           0.42998969554901123,
           0.27556565403938293,
           0.45456328988075256,
           0.4546423852443695,
           0.558092474937439
          ],
          [
           0.6891469955444336,
           0.8480052351951599,
           0.706386923789978,
           0.38873207569122314,
           0.4259408116340637,
           0.7995603680610657,
           0.7551651000976562,
           0.6673220992088318,
           0.434990793466568,
           0.7036432027816772,
           0.3948019742965698,
           0.7531260251998901,
           0.7064672112464905,
           0.6853595972061157,
           0.7077919840812683,
           0.7509276270866394,
           0.7504428029060364,
           0.6528005599975586,
           0.8049725294113159,
           0.41296184062957764,
           0.4164031147956848,
           0.7912901639938354,
           0.7055298089981079,
           0.41444188356399536,
           0.9543079733848572,
           0.8559369444847107,
           0.3026652932167053,
           0.8303080797195435,
           0.7517758011817932,
           0.7230895757675171,
           0.9506170153617859,
           0.38345807790756226,
           0.7864083051681519,
           0.7133630514144897,
           1,
           0.5181350708007812,
           0.7065047025680542,
           0.42604193091392517,
           0.7408959865570068,
           0.7792925834655762,
           0.8034707307815552,
           0.3909209072589874,
           0.410380482673645,
           0.6515116691589355,
           0.6561188697814941,
           0.42782682180404663,
           0.598442018032074,
           0.6541104316711426,
           0.7554811835289001
          ],
          [
           0.4969724714756012,
           0.44194719195365906,
           0.40729808807373047,
           0.2509113550186157,
           0.26570481061935425,
           0.5309401154518127,
           0.40193459391593933,
           0.42927971482276917,
           0.26192739605903625,
           0.3591907024383545,
           0.25985100865364075,
           0.4612850844860077,
           0.5955553650856018,
           0.4504677951335907,
           0.42434629797935486,
           0.3810688257217407,
           0.43735915422439575,
           0.4541322886943817,
           0.44515103101730347,
           0.2676619291305542,
           0.25888001918792725,
           0.4454694390296936,
           0.36822307109832764,
           0.2583637833595276,
           0.5069206357002258,
           0.45912349224090576,
           0.20947548747062683,
           0.5535664558410645,
           0.44900381565093994,
           0.38528236746788025,
           0.5128998756408691,
           0.26309847831726074,
           0.4204083979129791,
           0.7122484445571899,
           0.5181350708007812,
           1,
           0.42809510231018066,
           0.26585450768470764,
           0.753301739692688,
           0.4426787495613098,
           0.4334248900413513,
           0.25739845633506775,
           0.2557314336299896,
           0.7154731154441833,
           0.34265172481536865,
           0.26191484928131104,
           0.40208956599235535,
           0.46979066729545593,
           0.5453923940658569
          ],
          [
           0.49730002880096436,
           0.6164698600769043,
           0.8567569851875305,
           0.385586142539978,
           0.4247337281703949,
           0.636968731880188,
           0.558148205280304,
           0.5837583541870117,
           0.41556257009506226,
           0.5042350888252258,
           0.3923184275627136,
           0.6337854266166687,
           0.5729495286941528,
           0.57557213306427,
           0.9128738045692444,
           0.528401255607605,
           0.584433913230896,
           0.5538910627365112,
           0.6199505925178528,
           0.41816791892051697,
           0.4010167419910431,
           0.6624660491943359,
           0.5618776082992554,
           0.41544240713119507,
           0.7177061438560486,
           0.6576867699623108,
           0.25404542684555054,
           0.6823168396949768,
           0.6217592358589172,
           0.8633226156234741,
           0.6565807461738586,
           0.3732941150665283,
           0.6445852518081665,
           0.47905147075653076,
           0.7065047025680542,
           0.42809510231018066,
           1.0000001192092896,
           0.4115034341812134,
           0.5404878258705139,
           0.6472406387329102,
           0.644255518913269,
           0.38367828726768494,
           0.394497275352478,
           0.5201095938682556,
           0.5344081521034241,
           0.4236227869987488,
           0.6059287786483765,
           0.5724428296089172,
           0.6565253734588623
          ],
          [
           0.40479576587677,
           0.4286545515060425,
           0.43314772844314575,
           0.9685026407241821,
           0.9859859347343445,
           0.44872134923934937,
           0.43511825799942017,
           0.3466428518295288,
           0.9862529635429382,
           0.41046464443206787,
           0.9776961803436279,
           0.38691169023513794,
           0.3385751247406006,
           0.33737289905548096,
           0.4036642909049988,
           0.4306010603904724,
           0.3902756869792938,
           0.3340110778808594,
           0.4434046149253845,
           0.9694742560386658,
           0.9885754585266113,
           0.4352796673774719,
           0.3619522452354431,
           0.9634153842926025,
           0.4092880189418793,
           0.41149529814720154,
           0.8810123205184937,
           0.3810166120529175,
           0.4288245439529419,
           0.42739564180374146,
           0.42358237504959106,
           0.9754760265350342,
           0.3445785939693451,
           0.2792779505252838,
           0.42604193091392517,
           0.26585450768470764,
           0.4115034341812134,
           0.9999999403953552,
           0.36235737800598145,
           0.3918025493621826,
           0.3942664563655853,
           0.982017993927002,
           0.9898526072502136,
           0.2507105767726898,
           0.441328763961792,
           0.9685263633728027,
           0.3564470410346985,
           0.34925511479377747,
           0.409135639667511
          ],
          [
           0.6283259391784668,
           0.6847862005233765,
           0.5250746607780457,
           0.33997029066085815,
           0.36095666885375977,
           0.7704340815544128,
           0.668265700340271,
           0.6446287035942078,
           0.35789066553115845,
           0.6152439117431641,
           0.3451913297176361,
           0.6700409054756165,
           0.8569722771644592,
           0.6549454927444458,
           0.5484210848808289,
           0.6147713661193848,
           0.6268157958984375,
           0.6630165576934814,
           0.674407422542572,
           0.35960572957992554,
           0.35332030057907104,
           0.7256338000297546,
           0.5786688327789307,
           0.3534339666366577,
           0.7014754414558411,
           0.7179392576217651,
           0.26905322074890137,
           0.8119058609008789,
           0.7014818787574768,
           0.5086060166358948,
           0.7453279495239258,
           0.34583422541618347,
           0.6268479228019714,
           0.6175291538238525,
           0.7408959865570068,
           0.753301739692688,
           0.5404878258705139,
           0.36235737800598145,
           1.000000238418579,
           0.6604470014572144,
           0.6512085795402527,
           0.3445783257484436,
           0.34681907296180725,
           0.5891309976577759,
           0.5279636979103088,
           0.3583422899246216,
           0.5489714741706848,
           0.7077447175979614,
           0.7798465490341187
          ],
          [
           0.5537579655647278,
           0.7136165499687195,
           0.6506032943725586,
           0.34762659668922424,
           0.398741215467453,
           0.8529566526412964,
           0.6858165264129639,
           0.6854545474052429,
           0.40042388439178467,
           0.6413609981536865,
           0.36728397011756897,
           0.9515512585639954,
           0.7129412889480591,
           0.7560687065124512,
           0.6426612138748169,
           0.6294824481010437,
           0.740662693977356,
           0.8110584020614624,
           0.6984063386917114,
           0.38562914729118347,
           0.3805534243583679,
           0.7567239999771118,
           0.7252908945083618,
           0.3763692080974579,
           0.8208385109901428,
           0.7543054819107056,
           0.3053615987300873,
           0.7756600379943848,
           0.7164075970649719,
           0.6376360058784485,
           0.7962446808815002,
           0.3489406406879425,
           0.823789656162262,
           0.5529069900512695,
           0.7792925834655762,
           0.4426787495613098,
           0.6472406387329102,
           0.3918025493621826,
           0.6604470014572144,
           0.9999995231628418,
           0.9057823419570923,
           0.3630860149860382,
           0.38844209909439087,
           0.5267776250839233,
           0.6185703873634338,
           0.38921937346458435,
           0.6516249179840088,
           0.7813315391540527,
           0.7211616635322571
          ],
          [
           0.6211057901382446,
           0.7996163964271545,
           0.6833726763725281,
           0.34822216629981995,
           0.3943710923194885,
           0.7606290578842163,
           0.6456165313720703,
           0.6437234878540039,
           0.4026162326335907,
           0.6501968502998352,
           0.3677636981010437,
           0.8615154027938843,
           0.7301653623580933,
           0.8750075697898865,
           0.6584749221801758,
           0.6699455976486206,
           0.8493037819862366,
           0.8728482723236084,
           0.7290339469909668,
           0.38238561153411865,
           0.38378918170928955,
           0.7687366008758545,
           0.8526548743247986,
           0.37713146209716797,
           0.8417683243751526,
           0.8214244842529297,
           0.28902730345726013,
           0.8074702024459839,
           0.6803849339485168,
           0.6610418558120728,
           0.8215203285217285,
           0.35123464465141296,
           0.9067983627319336,
           0.5776710510253906,
           0.8034707307815552,
           0.4334248900413513,
           0.644255518913269,
           0.3942664563655853,
           0.6512085795402527,
           0.9057823419570923,
           1,
           0.3604728877544403,
           0.3789721429347992,
           0.5873894691467285,
           0.6260889768600464,
           0.38929876685142517,
           0.6317486763000488,
           0.8116657137870789,
           0.7603919506072998
          ],
          [
           0.3716020882129669,
           0.39277297258377075,
           0.3881928026676178,
           0.9876242280006409,
           0.9886454343795776,
           0.4238560199737549,
           0.41896533966064453,
           0.32707589864730835,
           0.9799802303314209,
           0.38134223222732544,
           0.9712170362472534,
           0.3605281412601471,
           0.32385510206222534,
           0.30718350410461426,
           0.36807647347450256,
           0.4048382043838501,
           0.3586564362049103,
           0.310173898935318,
           0.4089512228965759,
           0.9804812669754028,
           0.9881789684295654,
           0.412431001663208,
           0.32999667525291443,
           0.9746837615966797,
           0.37190982699394226,
           0.3759094178676605,
           0.8944307565689087,
           0.3564390242099762,
           0.4089740812778473,
           0.38152647018432617,
           0.39233726263046265,
           0.9671615362167358,
           0.305050790309906,
           0.2648940086364746,
           0.3909209072589874,
           0.25739845633506775,
           0.38367828726768494,
           0.982017993927002,
           0.3445783257484436,
           0.3630860149860382,
           0.3604728877544403,
           1,
           0.9871581792831421,
           0.22211462259292603,
           0.405355840921402,
           0.9739274978637695,
           0.3357475996017456,
           0.3233371675014496,
           0.3822660446166992
          ],
          [
           0.37720009684562683,
           0.40674668550491333,
           0.4072396457195282,
           0.969948947429657,
           0.9847801923751831,
           0.44773024320602417,
           0.4307187497615814,
           0.33598148822784424,
           0.9770891666412354,
           0.39138543605804443,
           0.976381242275238,
           0.39016368985176086,
           0.3238394856452942,
           0.32026439905166626,
           0.3805106580257416,
           0.41613638401031494,
           0.37259018421173096,
           0.3219969868659973,
           0.4201743006706238,
           0.9627333879470825,
           0.9809067845344543,
           0.4203417897224426,
           0.344246506690979,
           0.9539489150047302,
           0.3935672342777252,
           0.3902716636657715,
           0.9092827439308167,
           0.3640424907207489,
           0.4197446405887604,
           0.39969319105148315,
           0.41076770424842834,
           0.9719347357749939,
           0.3245616853237152,
           0.27198585867881775,
           0.410380482673645,
           0.2557314336299896,
           0.394497275352478,
           0.9898526072502136,
           0.34681907296180725,
           0.38844209909439087,
           0.3789721429347992,
           0.9871581792831421,
           1,
           0.23639288544654846,
           0.42140814661979675,
           0.9588639736175537,
           0.3416884243488312,
           0.33543896675109863,
           0.38617315888404846
          ],
          [
           0.5127161145210266,
           0.5828462243080139,
           0.5182729363441467,
           0.21050313115119934,
           0.24437710642814636,
           0.49865108728408813,
           0.39981555938720703,
           0.41488948464393616,
           0.2540464699268341,
           0.4015517830848694,
           0.22318115830421448,
           0.5177252292633057,
           0.530001699924469,
           0.5697989463806152,
           0.5190395712852478,
           0.4498826265335083,
           0.593622624874115,
           0.5598605871200562,
           0.5051402449607849,
           0.23677338659763336,
           0.2385234832763672,
           0.4945361018180847,
           0.5708469152450562,
           0.23228737711906433,
           0.6707639694213867,
           0.5799469947814941,
           0.15849652886390686,
           0.5781232118606567,
           0.43423792719841003,
           0.5131837725639343,
           0.636726975440979,
           0.21699127554893494,
           0.6262156367301941,
           0.8450155854225159,
           0.6515116691589355,
           0.7154731154441833,
           0.5201095938682556,
           0.2507105767726898,
           0.5891309976577759,
           0.5267776250839233,
           0.5873894691467285,
           0.22211462259292603,
           0.23639288544654846,
           0.9999999403953552,
           0.3994687795639038,
           0.24399548768997192,
           0.3777267038822174,
           0.5313163995742798,
           0.5622472167015076
          ],
          [
           0.6656103134155273,
           0.6913297772407532,
           0.5354493260383606,
           0.4050995707511902,
           0.43655088543891907,
           0.6303485631942749,
           0.6140942573547363,
           0.642392635345459,
           0.44050130248069763,
           0.8421368598937988,
           0.41928690671920776,
           0.5842524766921997,
           0.5269062519073486,
           0.5470797419548035,
           0.5433474779129028,
           0.7898316383361816,
           0.6234719753265381,
           0.5455220937728882,
           0.8407135605812073,
           0.43061408400535583,
           0.43390971422195435,
           0.6467524766921997,
           0.5878504514694214,
           0.43082404136657715,
           0.6695683598518372,
           0.6574090123176575,
           0.3327888250350952,
           0.6122372150421143,
           0.6381637454032898,
           0.5358600616455078,
           0.669945478439331,
           0.40853920578956604,
           0.5783004760742188,
           0.42998969554901123,
           0.6561188697814941,
           0.34265172481536865,
           0.5344081521034241,
           0.441328763961792,
           0.5279636979103088,
           0.6185703873634338,
           0.6260889768600464,
           0.405355840921402,
           0.42140814661979675,
           0.3994687795639038,
           1.000000238418579,
           0.43192344903945923,
           0.5163765549659729,
           0.5520747303962708,
           0.7114163637161255
          ],
          [
           0.39513787627220154,
           0.4105531573295593,
           0.4271027445793152,
           0.9803515672683716,
           0.9879132509231567,
           0.4380796551704407,
           0.4364495873451233,
           0.35110488533973694,
           0.9809688329696655,
           0.4079943895339966,
           0.950273334980011,
           0.3755566477775574,
           0.34241950511932373,
           0.3204708397388458,
           0.41828298568725586,
           0.41965290904045105,
           0.3666157126426697,
           0.3273501396179199,
           0.43450728058815,
           0.9909812808036804,
           0.9853414297103882,
           0.43890380859375,
           0.33977487683296204,
           0.9959395527839661,
           0.40783464908599854,
           0.4018210172653198,
           0.8449467420578003,
           0.3843160569667816,
           0.42744651436805725,
           0.4160163998603821,
           0.41945528984069824,
           0.9445520639419556,
           0.3313005268573761,
           0.27556565403938293,
           0.42782682180404663,
           0.26191484928131104,
           0.4236227869987488,
           0.9685263633728027,
           0.3583422899246216,
           0.38921937346458435,
           0.38929876685142517,
           0.9739274978637695,
           0.9588639736175537,
           0.24399548768997192,
           0.43192344903945923,
           1.000000238418579,
           0.35917210578918457,
           0.3377705514431,
           0.4038859009742737
          ],
          [
           0.4841838479042053,
           0.5872136354446411,
           0.5448956489562988,
           0.3347088694572449,
           0.3631002902984619,
           0.6669663190841675,
           0.5488189458847046,
           0.5438904762268066,
           0.35136255621910095,
           0.5393590927124023,
           0.36603933572769165,
           0.7021198868751526,
           0.6965879201889038,
           0.5986214876174927,
           0.5456767082214355,
           0.5352860689163208,
           0.6140902042388916,
           0.5923519134521484,
           0.5869545936584473,
           0.35860878229141235,
           0.34845030307769775,
           0.6816095113754272,
           0.5696491003036499,
           0.3555942177772522,
           0.5892543792724609,
           0.6414676904678345,
           0.277621865272522,
           0.7179446220397949,
           0.5846831202507019,
           0.5546293258666992,
           0.6089665293693542,
           0.35017451643943787,
           0.674618661403656,
           0.45456328988075256,
           0.598442018032074,
           0.40208956599235535,
           0.6059287786483765,
           0.3564470410346985,
           0.5489714741706848,
           0.6516249179840088,
           0.6317486763000488,
           0.3357475996017456,
           0.3416884243488312,
           0.3777267038822174,
           0.5163765549659729,
           0.35917210578918457,
           1,
           0.5768494009971619,
           0.6835360527038574
          ],
          [
           0.4911406636238098,
           0.7253943681716919,
           0.5312873721122742,
           0.31113776564598083,
           0.3478122055530548,
           0.7191042900085449,
           0.6218039393424988,
           0.6284506320953369,
           0.34710395336151123,
           0.5557234287261963,
           0.328393816947937,
           0.7582426071166992,
           0.8093066811561584,
           0.9279934167861938,
           0.5278642177581787,
           0.6211029887199402,
           0.8207120895385742,
           0.911365807056427,
           0.6502209901809692,
           0.3334287405014038,
           0.3326951265335083,
           0.761906623840332,
           0.8140149116516113,
           0.325978547334671,
           0.6802331805229187,
           0.7849628925323486,
           0.25818371772766113,
           0.7982913255691528,
           0.6720279455184937,
           0.5268272161483765,
           0.6952579617500305,
           0.30838465690612793,
           0.8342293500900269,
           0.4546423852443695,
           0.6541104316711426,
           0.46979066729545593,
           0.5724428296089172,
           0.34925511479377747,
           0.7077447175979614,
           0.7813315391540527,
           0.8116657137870789,
           0.3233371675014496,
           0.33543896675109863,
           0.5313163995742798,
           0.5520747303962708,
           0.3377705514431,
           0.5768494009971619,
           0.9999995231628418,
           0.7890335917472839
          ],
          [
           0.660541296005249,
           0.8252502679824829,
           0.6261277794837952,
           0.3735288083553314,
           0.4079434275627136,
           0.7758159637451172,
           0.6858309507369995,
           0.7574115991592407,
           0.4143938422203064,
           0.7288215756416321,
           0.39404231309890747,
           0.7194550633430481,
           0.877139687538147,
           0.7998318076133728,
           0.6271229386329651,
           0.776400625705719,
           0.7972059845924377,
           0.7555296421051025,
           0.8289909362792969,
           0.40293166041374207,
           0.40278053283691406,
           0.8780001997947693,
           0.7623057961463928,
           0.3987570106983185,
           0.7347347736358643,
           0.8717331290245056,
           0.2887987196445465,
           0.8993654847145081,
           0.7626494765281677,
           0.611919105052948,
           0.7774019241333008,
           0.3783737123012543,
           0.7557247877120972,
           0.558092474937439,
           0.7554811835289001,
           0.5453923940658569,
           0.6565253734588623,
           0.409135639667511,
           0.7798465490341187,
           0.7211616635322571,
           0.7603919506072998,
           0.3822660446166992,
           0.38617315888404846,
           0.5622472167015076,
           0.7114163637161255,
           0.4038859009742737,
           0.6835360527038574,
           0.7890335917472839,
           1
          ]
         ]
        }
       ],
       "layout": {
        "coloraxis": {
         "colorbar": {
          "title": {
           "text": "Similarity Score"
          }
         },
         "colorscale": [
          [
           0,
           "rgb(247,252,240)"
          ],
          [
           0.125,
           "rgb(224,243,219)"
          ],
          [
           0.25,
           "rgb(204,235,197)"
          ],
          [
           0.375,
           "rgb(168,221,181)"
          ],
          [
           0.5,
           "rgb(123,204,196)"
          ],
          [
           0.625,
           "rgb(78,179,211)"
          ],
          [
           0.75,
           "rgb(43,140,190)"
          ],
          [
           0.875,
           "rgb(8,104,172)"
          ],
          [
           1,
           "rgb(8,64,129)"
          ]
         ]
        },
        "height": 800,
        "hoverlabel": {
         "bgcolor": "white",
         "font": {
          "family": "Rockwell",
          "size": 16
         }
        },
        "legend": {
         "title": {
          "text": "Trend"
         }
        },
        "margin": {
         "t": 60
        },
        "showlegend": true,
        "template": {
         "data": {
          "bar": [
           {
            "error_x": {
             "color": "#2a3f5f"
            },
            "error_y": {
             "color": "#2a3f5f"
            },
            "marker": {
             "line": {
              "color": "#E5ECF6",
              "width": 0.5
             },
             "pattern": {
              "fillmode": "overlay",
              "size": 10,
              "solidity": 0.2
             }
            },
            "type": "bar"
           }
          ],
          "barpolar": [
           {
            "marker": {
             "line": {
              "color": "#E5ECF6",
              "width": 0.5
             },
             "pattern": {
              "fillmode": "overlay",
              "size": 10,
              "solidity": 0.2
             }
            },
            "type": "barpolar"
           }
          ],
          "carpet": [
           {
            "aaxis": {
             "endlinecolor": "#2a3f5f",
             "gridcolor": "white",
             "linecolor": "white",
             "minorgridcolor": "white",
             "startlinecolor": "#2a3f5f"
            },
            "baxis": {
             "endlinecolor": "#2a3f5f",
             "gridcolor": "white",
             "linecolor": "white",
             "minorgridcolor": "white",
             "startlinecolor": "#2a3f5f"
            },
            "type": "carpet"
           }
          ],
          "choropleth": [
           {
            "colorbar": {
             "outlinewidth": 0,
             "ticks": ""
            },
            "type": "choropleth"
           }
          ],
          "contour": [
           {
            "colorbar": {
             "outlinewidth": 0,
             "ticks": ""
            },
            "colorscale": [
             [
              0,
              "#0d0887"
             ],
             [
              0.1111111111111111,
              "#46039f"
             ],
             [
              0.2222222222222222,
              "#7201a8"
             ],
             [
              0.3333333333333333,
              "#9c179e"
             ],
             [
              0.4444444444444444,
              "#bd3786"
             ],
             [
              0.5555555555555556,
              "#d8576b"
             ],
             [
              0.6666666666666666,
              "#ed7953"
             ],
             [
              0.7777777777777778,
              "#fb9f3a"
             ],
             [
              0.8888888888888888,
              "#fdca26"
             ],
             [
              1,
              "#f0f921"
             ]
            ],
            "type": "contour"
           }
          ],
          "contourcarpet": [
           {
            "colorbar": {
             "outlinewidth": 0,
             "ticks": ""
            },
            "type": "contourcarpet"
           }
          ],
          "heatmap": [
           {
            "colorbar": {
             "outlinewidth": 0,
             "ticks": ""
            },
            "colorscale": [
             [
              0,
              "#0d0887"
             ],
             [
              0.1111111111111111,
              "#46039f"
             ],
             [
              0.2222222222222222,
              "#7201a8"
             ],
             [
              0.3333333333333333,
              "#9c179e"
             ],
             [
              0.4444444444444444,
              "#bd3786"
             ],
             [
              0.5555555555555556,
              "#d8576b"
             ],
             [
              0.6666666666666666,
              "#ed7953"
             ],
             [
              0.7777777777777778,
              "#fb9f3a"
             ],
             [
              0.8888888888888888,
              "#fdca26"
             ],
             [
              1,
              "#f0f921"
             ]
            ],
            "type": "heatmap"
           }
          ],
          "heatmapgl": [
           {
            "colorbar": {
             "outlinewidth": 0,
             "ticks": ""
            },
            "colorscale": [
             [
              0,
              "#0d0887"
             ],
             [
              0.1111111111111111,
              "#46039f"
             ],
             [
              0.2222222222222222,
              "#7201a8"
             ],
             [
              0.3333333333333333,
              "#9c179e"
             ],
             [
              0.4444444444444444,
              "#bd3786"
             ],
             [
              0.5555555555555556,
              "#d8576b"
             ],
             [
              0.6666666666666666,
              "#ed7953"
             ],
             [
              0.7777777777777778,
              "#fb9f3a"
             ],
             [
              0.8888888888888888,
              "#fdca26"
             ],
             [
              1,
              "#f0f921"
             ]
            ],
            "type": "heatmapgl"
           }
          ],
          "histogram": [
           {
            "marker": {
             "pattern": {
              "fillmode": "overlay",
              "size": 10,
              "solidity": 0.2
             }
            },
            "type": "histogram"
           }
          ],
          "histogram2d": [
           {
            "colorbar": {
             "outlinewidth": 0,
             "ticks": ""
            },
            "colorscale": [
             [
              0,
              "#0d0887"
             ],
             [
              0.1111111111111111,
              "#46039f"
             ],
             [
              0.2222222222222222,
              "#7201a8"
             ],
             [
              0.3333333333333333,
              "#9c179e"
             ],
             [
              0.4444444444444444,
              "#bd3786"
             ],
             [
              0.5555555555555556,
              "#d8576b"
             ],
             [
              0.6666666666666666,
              "#ed7953"
             ],
             [
              0.7777777777777778,
              "#fb9f3a"
             ],
             [
              0.8888888888888888,
              "#fdca26"
             ],
             [
              1,
              "#f0f921"
             ]
            ],
            "type": "histogram2d"
           }
          ],
          "histogram2dcontour": [
           {
            "colorbar": {
             "outlinewidth": 0,
             "ticks": ""
            },
            "colorscale": [
             [
              0,
              "#0d0887"
             ],
             [
              0.1111111111111111,
              "#46039f"
             ],
             [
              0.2222222222222222,
              "#7201a8"
             ],
             [
              0.3333333333333333,
              "#9c179e"
             ],
             [
              0.4444444444444444,
              "#bd3786"
             ],
             [
              0.5555555555555556,
              "#d8576b"
             ],
             [
              0.6666666666666666,
              "#ed7953"
             ],
             [
              0.7777777777777778,
              "#fb9f3a"
             ],
             [
              0.8888888888888888,
              "#fdca26"
             ],
             [
              1,
              "#f0f921"
             ]
            ],
            "type": "histogram2dcontour"
           }
          ],
          "mesh3d": [
           {
            "colorbar": {
             "outlinewidth": 0,
             "ticks": ""
            },
            "type": "mesh3d"
           }
          ],
          "parcoords": [
           {
            "line": {
             "colorbar": {
              "outlinewidth": 0,
              "ticks": ""
             }
            },
            "type": "parcoords"
           }
          ],
          "pie": [
           {
            "automargin": true,
            "type": "pie"
           }
          ],
          "scatter": [
           {
            "fillpattern": {
             "fillmode": "overlay",
             "size": 10,
             "solidity": 0.2
            },
            "type": "scatter"
           }
          ],
          "scatter3d": [
           {
            "line": {
             "colorbar": {
              "outlinewidth": 0,
              "ticks": ""
             }
            },
            "marker": {
             "colorbar": {
              "outlinewidth": 0,
              "ticks": ""
             }
            },
            "type": "scatter3d"
           }
          ],
          "scattercarpet": [
           {
            "marker": {
             "colorbar": {
              "outlinewidth": 0,
              "ticks": ""
             }
            },
            "type": "scattercarpet"
           }
          ],
          "scattergeo": [
           {
            "marker": {
             "colorbar": {
              "outlinewidth": 0,
              "ticks": ""
             }
            },
            "type": "scattergeo"
           }
          ],
          "scattergl": [
           {
            "marker": {
             "colorbar": {
              "outlinewidth": 0,
              "ticks": ""
             }
            },
            "type": "scattergl"
           }
          ],
          "scattermapbox": [
           {
            "marker": {
             "colorbar": {
              "outlinewidth": 0,
              "ticks": ""
             }
            },
            "type": "scattermapbox"
           }
          ],
          "scatterpolar": [
           {
            "marker": {
             "colorbar": {
              "outlinewidth": 0,
              "ticks": ""
             }
            },
            "type": "scatterpolar"
           }
          ],
          "scatterpolargl": [
           {
            "marker": {
             "colorbar": {
              "outlinewidth": 0,
              "ticks": ""
             }
            },
            "type": "scatterpolargl"
           }
          ],
          "scatterternary": [
           {
            "marker": {
             "colorbar": {
              "outlinewidth": 0,
              "ticks": ""
             }
            },
            "type": "scatterternary"
           }
          ],
          "surface": [
           {
            "colorbar": {
             "outlinewidth": 0,
             "ticks": ""
            },
            "colorscale": [
             [
              0,
              "#0d0887"
             ],
             [
              0.1111111111111111,
              "#46039f"
             ],
             [
              0.2222222222222222,
              "#7201a8"
             ],
             [
              0.3333333333333333,
              "#9c179e"
             ],
             [
              0.4444444444444444,
              "#bd3786"
             ],
             [
              0.5555555555555556,
              "#d8576b"
             ],
             [
              0.6666666666666666,
              "#ed7953"
             ],
             [
              0.7777777777777778,
              "#fb9f3a"
             ],
             [
              0.8888888888888888,
              "#fdca26"
             ],
             [
              1,
              "#f0f921"
             ]
            ],
            "type": "surface"
           }
          ],
          "table": [
           {
            "cells": {
             "fill": {
              "color": "#EBF0F8"
             },
             "line": {
              "color": "white"
             }
            },
            "header": {
             "fill": {
              "color": "#C8D4E3"
             },
             "line": {
              "color": "white"
             }
            },
            "type": "table"
           }
          ]
         },
         "layout": {
          "annotationdefaults": {
           "arrowcolor": "#2a3f5f",
           "arrowhead": 0,
           "arrowwidth": 1
          },
          "autotypenumbers": "strict",
          "coloraxis": {
           "colorbar": {
            "outlinewidth": 0,
            "ticks": ""
           }
          },
          "colorscale": {
           "diverging": [
            [
             0,
             "#8e0152"
            ],
            [
             0.1,
             "#c51b7d"
            ],
            [
             0.2,
             "#de77ae"
            ],
            [
             0.3,
             "#f1b6da"
            ],
            [
             0.4,
             "#fde0ef"
            ],
            [
             0.5,
             "#f7f7f7"
            ],
            [
             0.6,
             "#e6f5d0"
            ],
            [
             0.7,
             "#b8e186"
            ],
            [
             0.8,
             "#7fbc41"
            ],
            [
             0.9,
             "#4d9221"
            ],
            [
             1,
             "#276419"
            ]
           ],
           "sequential": [
            [
             0,
             "#0d0887"
            ],
            [
             0.1111111111111111,
             "#46039f"
            ],
            [
             0.2222222222222222,
             "#7201a8"
            ],
            [
             0.3333333333333333,
             "#9c179e"
            ],
            [
             0.4444444444444444,
             "#bd3786"
            ],
            [
             0.5555555555555556,
             "#d8576b"
            ],
            [
             0.6666666666666666,
             "#ed7953"
            ],
            [
             0.7777777777777778,
             "#fb9f3a"
            ],
            [
             0.8888888888888888,
             "#fdca26"
            ],
            [
             1,
             "#f0f921"
            ]
           ],
           "sequentialminus": [
            [
             0,
             "#0d0887"
            ],
            [
             0.1111111111111111,
             "#46039f"
            ],
            [
             0.2222222222222222,
             "#7201a8"
            ],
            [
             0.3333333333333333,
             "#9c179e"
            ],
            [
             0.4444444444444444,
             "#bd3786"
            ],
            [
             0.5555555555555556,
             "#d8576b"
            ],
            [
             0.6666666666666666,
             "#ed7953"
            ],
            [
             0.7777777777777778,
             "#fb9f3a"
            ],
            [
             0.8888888888888888,
             "#fdca26"
            ],
            [
             1,
             "#f0f921"
            ]
           ]
          },
          "colorway": [
           "#636efa",
           "#EF553B",
           "#00cc96",
           "#ab63fa",
           "#FFA15A",
           "#19d3f3",
           "#FF6692",
           "#B6E880",
           "#FF97FF",
           "#FECB52"
          ],
          "font": {
           "color": "#2a3f5f"
          },
          "geo": {
           "bgcolor": "white",
           "lakecolor": "white",
           "landcolor": "#E5ECF6",
           "showlakes": true,
           "showland": true,
           "subunitcolor": "white"
          },
          "hoverlabel": {
           "align": "left"
          },
          "hovermode": "closest",
          "mapbox": {
           "style": "light"
          },
          "paper_bgcolor": "white",
          "plot_bgcolor": "#E5ECF6",
          "polar": {
           "angularaxis": {
            "gridcolor": "white",
            "linecolor": "white",
            "ticks": ""
           },
           "bgcolor": "#E5ECF6",
           "radialaxis": {
            "gridcolor": "white",
            "linecolor": "white",
            "ticks": ""
           }
          },
          "scene": {
           "xaxis": {
            "backgroundcolor": "#E5ECF6",
            "gridcolor": "white",
            "gridwidth": 2,
            "linecolor": "white",
            "showbackground": true,
            "ticks": "",
            "zerolinecolor": "white"
           },
           "yaxis": {
            "backgroundcolor": "#E5ECF6",
            "gridcolor": "white",
            "gridwidth": 2,
            "linecolor": "white",
            "showbackground": true,
            "ticks": "",
            "zerolinecolor": "white"
           },
           "zaxis": {
            "backgroundcolor": "#E5ECF6",
            "gridcolor": "white",
            "gridwidth": 2,
            "linecolor": "white",
            "showbackground": true,
            "ticks": "",
            "zerolinecolor": "white"
           }
          },
          "shapedefaults": {
           "line": {
            "color": "#2a3f5f"
           }
          },
          "ternary": {
           "aaxis": {
            "gridcolor": "white",
            "linecolor": "white",
            "ticks": ""
           },
           "baxis": {
            "gridcolor": "white",
            "linecolor": "white",
            "ticks": ""
           },
           "bgcolor": "#E5ECF6",
           "caxis": {
            "gridcolor": "white",
            "linecolor": "white",
            "ticks": ""
           }
          },
          "title": {
           "x": 0.05
          },
          "xaxis": {
           "automargin": true,
           "gridcolor": "white",
           "linecolor": "white",
           "ticks": "",
           "title": {
            "standoff": 15
           },
           "zerolinecolor": "white",
           "zerolinewidth": 2
          },
          "yaxis": {
           "automargin": true,
           "gridcolor": "white",
           "linecolor": "white",
           "ticks": "",
           "title": {
            "standoff": 15
           },
           "zerolinecolor": "white",
           "zerolinewidth": 2
          }
         }
        },
        "title": {
         "font": {
          "color": "Black",
          "size": 22
         },
         "text": "<b>Similarity Matrix</b>",
         "x": 0.55,
         "xanchor": "center",
         "y": 0.95,
         "yanchor": "top"
        },
        "width": 800,
        "xaxis": {
         "anchor": "y",
         "constrain": "domain",
         "domain": [
          0,
          1
         ],
         "scaleanchor": "y"
        },
        "yaxis": {
         "anchor": "x",
         "autorange": "reversed",
         "constrain": "domain",
         "domain": [
          0,
          1
         ]
        }
       }
      }
     },
     "metadata": {},
     "output_type": "display_data"
    }
   ],
   "source": [
    "topic_model.visualize_heatmap().show()"
   ]
  },
  {
   "cell_type": "code",
   "execution_count": 62,
   "metadata": {},
   "outputs": [
    {
     "data": {
      "application/vnd.plotly.v1+json": {
       "config": {
        "plotlyServerURL": "https://plot.ly"
       },
       "data": [
        {
         "hovertext": "<b>Topic -1</b>:call_dudley_cerniglia_inc_morning_",
         "line": {
          "color": "black",
          "width": 1.5
         },
         "mode": "lines+lines",
         "name": "",
         "opacity": 0.1,
         "type": "scatter",
         "x": [
          1,
          2,
          3,
          4,
          5,
          6,
          7,
          8,
          9,
          10
         ],
         "y": [
          0.03764386656402633,
          0.03668197687579699,
          0.03018199931008391,
          0.02868047200359684,
          0.027530921853181872,
          0.02717843874601971,
          0.026275687245004363,
          0.025710157606331063,
          0.025463076580593155,
          0.024896912462469802
         ]
        },
        {
         "hovertext": "<b>Topic 0</b>:the_in_to_of_we_and_our_year_quarte",
         "line": {
          "color": "black",
          "width": 1.5
         },
         "mode": "lines+lines",
         "name": "",
         "opacity": 0.1,
         "type": "scatter",
         "x": [
          1,
          2,
          3,
          4,
          5,
          6,
          7,
          8,
          9,
          10
         ],
         "y": [
          0.01761896666720122,
          0.016360601551061,
          0.016055070381938426,
          0.01549357897710391,
          0.015441296234445704,
          0.014850078916326373,
          0.014579595151239367,
          0.012928099148641408,
          0.012707408374379586,
          0.012071148579100192
         ]
        },
        {
         "hovertext": "<b>Topic 1</b>:then_will_ll_results_call_update_di",
         "line": {
          "color": "black",
          "width": 1.5
         },
         "mode": "lines+lines",
         "name": "",
         "opacity": 0.1,
         "type": "scatter",
         "x": [
          1,
          2,
          3,
          4,
          5,
          6,
          7,
          8,
          9,
          10
         ],
         "y": [
          0.040337897929299135,
          0.03690575701401783,
          0.03639061995251739,
          0.03387708987739666,
          0.03234820937201975,
          0.03119272696558093,
          0.027507759883980767,
          0.026675094728325938,
          0.02565826687694641,
          0.024844365535341754
         ]
        },
        {
         "hovertext": "<b>Topic 2</b>:camp_inc_ceo_ken_president_hillenbr",
         "line": {
          "color": "black",
          "width": 1.5
         },
         "mode": "lines+lines",
         "name": "",
         "opacity": 0.1,
         "type": "scatter",
         "x": [
          1,
          2,
          3,
          4,
          5,
          6,
          7,
          8,
          9,
          10
         ],
         "y": [
          0.4287746035373161,
          0.4159737610027734,
          0.35526921758841457,
          0.3355726916823403,
          0.3233321007044684,
          0.25380098660676204,
          0.09972478779893403,
          0.0798194813302643,
          0.07308183368849125,
          0.06631824684371143
         ]
        },
        {
         "hovertext": "<b>Topic 3</b>:corporation_smurfit_stone_container",
         "line": {
          "color": "black",
          "width": 1.5
         },
         "mode": "lines+lines",
         "name": "",
         "opacity": 0.1,
         "type": "scatter",
         "x": [
          1,
          2,
          3,
          4,
          5,
          6,
          7,
          8,
          9,
          10
         ],
         "y": [
          0.3376993114294134,
          0.33184222065381797,
          0.33014108499156763,
          0.2960918803780901,
          0.2509727273833182,
          0.24564932345170484,
          0.22957078966365216,
          0.1850239665889143,
          0.18240999590262644,
          0.1538869138314336
         ]
        },
        {
         "hovertext": "<b>Topic 4</b>:corporation_container_stone_smurfit",
         "line": {
          "color": "black",
          "width": 1.5
         },
         "mode": "lines+lines",
         "name": "",
         "opacity": 0.1,
         "type": "scatter",
         "x": [
          1,
          2,
          3,
          4,
          5,
          6,
          7,
          8,
          9,
          10
         ],
         "y": [
          0.29548689750073676,
          0.22406953109693306,
          0.21759298783535141,
          0.2138538755324605,
          0.16621388144114094,
          0.1580886631156096,
          0.14001569514415008,
          0.13840291798215254,
          0.12334931105927618,
          0.10890109622322784
         ]
        },
        {
         "hovertext": "<b>Topic 5</b>:conference_ladies_gentlemen_conduct",
         "line": {
          "color": "black",
          "width": 1.5
         },
         "mode": "lines+lines",
         "name": "",
         "opacity": 0.1,
         "type": "scatter",
         "x": [
          1,
          2,
          3,
          4,
          5,
          6,
          7,
          8,
          9,
          10
         ],
         "y": [
          0.10686866525855279,
          0.07590425685933615,
          0.07309298808676815,
          0.07225216899963716,
          0.07173233979439476,
          0.07042081143566115,
          0.06816110037453639,
          0.061843427112074155,
          0.06069182195969521,
          0.06033423316055469
         ]
        },
        {
         "hovertext": "<b>Topic 6</b>:replay_internationally_midnight_eas",
         "line": {
          "color": "black",
          "width": 1.5
         },
         "mode": "lines+lines",
         "name": "",
         "opacity": 0.1,
         "type": "scatter",
         "x": [
          1,
          2,
          3,
          4,
          5,
          6,
          7,
          8,
          9,
          10
         ],
         "y": [
          0.08986122173395086,
          0.06860495964653648,
          0.06663417481461813,
          0.06344101394645395,
          0.060943350473198446,
          0.05812999291266435,
          0.0578806193448621,
          0.056488493445588976,
          0.05542407397282457,
          0.05395242677102207
         ]
        },
        {
         "hovertext": "<b>Topic 7</b>:recording_any_consent_text_permitte",
         "line": {
          "color": "black",
          "width": 1.5
         },
         "mode": "lines+lines",
         "name": "",
         "opacity": 0.1,
         "type": "scatter",
         "x": [
          1,
          2,
          3,
          4,
          5,
          6,
          7,
          8,
          9,
          10
         ],
         "y": [
          0.16756385421281003,
          0.13025990809420773,
          0.10029912071316008,
          0.09983173621798455,
          0.09983173621798455,
          0.09983173621798455,
          0.09706366520628396,
          0.09706366520628396,
          0.09565329875913088,
          0.09527777335129299
         ]
        },
        {
         "hovertext": "<b>Topic 8</b>:director_raver_inc_ceo_joe_amp_pres",
         "line": {
          "color": "black",
          "width": 1.5
         },
         "mode": "lines+lines",
         "name": "",
         "opacity": 0.1,
         "type": "scatter",
         "x": [
          1,
          2,
          3,
          4,
          5,
          6,
          7,
          8,
          9,
          10
         ],
         "y": [
          0.45973605381696375,
          0.4286179325796416,
          0.39730189762708445,
          0.36942336968357053,
          0.3430647667692794,
          0.34197057237901585,
          0.30881865448426776,
          0.23209333250095351,
          0.021445520371791024,
          0.014703256797283563
         ]
        },
        {
         "hovertext": "<b>Topic 9</b>:statements_securities_looking_laws_",
         "line": {
          "color": "black",
          "width": 1.5
         },
         "mode": "lines+lines",
         "name": "",
         "opacity": 0.1,
         "type": "scatter",
         "x": [
          1,
          2,
          3,
          4,
          5,
          6,
          7,
          8,
          9,
          10
         ],
         "y": [
          0.11475660630733545,
          0.06837998799781857,
          0.06655958218187721,
          0.0651196168450582,
          0.06274764113819446,
          0.06205751981316081,
          0.06115226191239145,
          0.05998601630362,
          0.05892220299889322,
          0.05875285333915223
         ]
        },
        {
         "hovertext": "<b>Topic 10</b>:analyst_suisse_klein_bruce_deutsch",
         "line": {
          "color": "black",
          "width": 1.5
         },
         "mode": "lines+lines",
         "name": "",
         "opacity": 0.1,
         "type": "scatter",
         "x": [
          1,
          2,
          3,
          4,
          5,
          6,
          7,
          8,
          9,
          10
         ],
         "y": [
          0.6967493022451369,
          0.2458268563545746,
          0.2458268563545746,
          0.2458268563545746,
          0.24130479521456197,
          0.24130479521456197,
          0.23726052161839972,
          0.2107087340182068,
          0.2107087340182068,
          0.2107087340182068
         ]
        },
        {
         "hovertext": "<b>Topic 11</b>:relations_investor_go_mr_ahead_con",
         "line": {
          "color": "black",
          "width": 1.5
         },
         "mode": "lines+lines",
         "name": "",
         "opacity": 0.1,
         "type": "scatter",
         "x": [
          1,
          2,
          3,
          4,
          5,
          6,
          7,
          8,
          9,
          10
         ],
         "y": [
          0.15262525849150743,
          0.14722916888514279,
          0.1454718555573943,
          0.14311203325294083,
          0.13909995446973458,
          0.13122308897393725,
          0.12498365579788005,
          0.12040855030028524,
          0.11509055407011784,
          0.10008972622463459
         ]
        },
        {
         "hovertext": "<b>Topic 12</b>:ready_open_questions_operator_conc",
         "line": {
          "color": "black",
          "width": 1.5
         },
         "mode": "lines+lines",
         "name": "",
         "opacity": 0.1,
         "type": "scatter",
         "x": [
          1,
          2,
          3,
          4,
          5,
          6,
          7,
          8,
          9,
          10
         ],
         "y": [
          0.21430748044582754,
          0.20596837247845357,
          0.1977221406557358,
          0.18259692375355893,
          0.1803592676926214,
          0.16064016153448973,
          0.13584535373429046,
          0.1298968421451001,
          0.12494234786015868,
          0.11695398567847949
         ]
        },
        {
         "hovertext": "<b>Topic 13</b>:concluding_ken_his_back_remarks_tu",
         "line": {
          "color": "black",
          "width": 1.5
         },
         "mode": "lines+lines",
         "name": "",
         "opacity": 0.1,
         "type": "scatter",
         "x": [
          1,
          2,
          3,
          4,
          5,
          6,
          7,
          8,
          9,
          10
         ],
         "y": [
          0.3227709201625034,
          0.2869270189323205,
          0.2810199925694111,
          0.2664797043941203,
          0.24793754224717202,
          0.18343717097169396,
          0.17004595884064613,
          0.134919039935158,
          0.11040354237902199,
          0.09090713291868648
         ]
        },
        {
         "hovertext": "<b>Topic 14</b>:moore_pat_ceo_stone_smurfit_presid",
         "line": {
          "color": "black",
          "width": 1.5
         },
         "mode": "lines+lines",
         "name": "",
         "opacity": 0.1,
         "type": "scatter",
         "x": [
          1,
          2,
          3,
          4,
          5,
          6,
          7,
          8,
          9,
          10
         ],
         "y": [
          0.4572413183392916,
          0.39632057365022694,
          0.38866877876289424,
          0.32645687582318056,
          0.3208470492708771,
          0.3144259470323692,
          0.06320440082801336,
          0.04241800732193112,
          0.04241800732193112,
          0.039992582718501514
         ]
        },
        {
         "hovertext": "<b>Topic 15</b>:measures_gaap_non_discussing_encou",
         "line": {
          "color": "black",
          "width": 1.5
         },
         "mode": "lines+lines",
         "name": "",
         "opacity": 0.1,
         "type": "scatter",
         "x": [
          1,
          2,
          3,
          4,
          5,
          6,
          7,
          8,
          9,
          10
         ],
         "y": [
          0.1526799732285831,
          0.13238461412177366,
          0.09215459831361539,
          0.07047180433049384,
          0.06750423518956948,
          0.06657827431713191,
          0.06522959747859511,
          0.0630797425217399,
          0.06061120945032479,
          0.06023574963904888
         ]
        },
        {
         "hovertext": "<b>Topic 16</b>:kristina_detail_turn_more_let_bit_",
         "line": {
          "color": "black",
          "width": 1.5
         },
         "mode": "lines+lines",
         "name": "",
         "opacity": 0.1,
         "type": "scatter",
         "x": [
          1,
          2,
          3,
          4,
          5,
          6,
          7,
          8,
          9,
          10
         ],
         "y": [
          0.2221180811274201,
          0.13709351859202515,
          0.11073341418413232,
          0.09467601455532691,
          0.08890985996047986,
          0.08728592134972002,
          0.08061335396348017,
          0.07620587621498012,
          0.0738454896482425,
          0.06397647237435157
         ]
        },
        {
         "hovertext": "<b>Topic 17</b>:turn_joe_call_back_ll_over_now_tim",
         "line": {
          "color": "black",
          "width": 1.5
         },
         "mode": "lines+lines",
         "name": "",
         "opacity": 0.1,
         "type": "scatter",
         "x": [
          1,
          2,
          3,
          4,
          5,
          6,
          7,
          8,
          9,
          10
         ],
         "y": [
          0.2460742537425163,
          0.21679749855946906,
          0.1809889560105778,
          0.15320261750881475,
          0.13463846631588047,
          0.12307581608040417,
          0.09331790424181799,
          0.07324660878739939,
          0.05844164849468232,
          0.05439840334104543
         ]
        },
        {
         "hovertext": "<b>Topic 18</b>:statements_actual_measures_looking",
         "line": {
          "color": "black",
          "width": 1.5
         },
         "mode": "lines+lines",
         "name": "",
         "opacity": 0.1,
         "type": "scatter",
         "x": [
          1,
          2,
          3,
          4,
          5,
          6,
          7,
          8,
          9,
          10
         ],
         "y": [
          0.05918225869290286,
          0.0370783170849054,
          0.036733631189664336,
          0.036660658114828125,
          0.034180946495543284,
          0.03402048045311613,
          0.03185072336274728,
          0.030887080309820486,
          0.03075023213377263,
          0.03034123286202387
         ]
        },
        {
         "hovertext": "<b>Topic 19</b>:moore_pat_ceo_stone_smurfit_presid",
         "line": {
          "color": "black",
          "width": 1.5
         },
         "mode": "lines+lines",
         "name": "",
         "opacity": 0.1,
         "type": "scatter",
         "x": [
          1,
          2,
          3,
          4,
          5,
          6,
          7,
          8,
          9,
          10
         ],
         "y": [
          0.4545196438253673,
          0.3939615226165947,
          0.38635527412740084,
          0.32451368013375687,
          0.3189372454061695,
          0.3125543640143194,
          0.1058836992421331,
          0.06922148014244539,
          0.05654536574077624,
          0.04427379514226561
         ]
        },
        {
         "hovertext": "<b>Topic 20</b>:ceo_inc_president_corp_raver_joe_h",
         "line": {
          "color": "black",
          "width": 1.5
         },
         "mode": "lines+lines",
         "name": "",
         "opacity": 0.1,
         "type": "scatter",
         "x": [
          1,
          2,
          3,
          4,
          5,
          6,
          7,
          8,
          9,
          10
         ],
         "y": [
          0.3890570592611589,
          0.3149377099620065,
          0.26228338238963866,
          0.24784771641048764,
          0.2426868961820213,
          0.19424601051001383,
          0.18397833756109871,
          0.11847127187930977,
          0.11617591072857968,
          0.11280556570099112
         ]
        },
        {
         "hovertext": "<b>Topic 21</b>:me_if_please_call_812_mail_hesitat",
         "line": {
          "color": "black",
          "width": 1.5
         },
         "mode": "lines+lines",
         "name": "",
         "opacity": 0.1,
         "type": "scatter",
         "x": [
          1,
          2,
          3,
          4,
          5,
          6,
          7,
          8,
          9,
          10
         ],
         "y": [
          0.09072406601042002,
          0.07249103360189944,
          0.06940780032089922,
          0.06927075530099017,
          0.06763407117077863,
          0.06364827583317033,
          0.06258473862763544,
          0.05785959775046558,
          0.05761926909509158,
          0.056726469870566114
         ]
        },
        {
         "hovertext": "<b>Topic 22</b>:turn_now_chuck_review_over_discuss",
         "line": {
          "color": "black",
          "width": 1.5
         },
         "mode": "lines+lines",
         "name": "",
         "opacity": 0.1,
         "type": "scatter",
         "x": [
          1,
          2,
          3,
          4,
          5,
          6,
          7,
          8,
          9,
          10
         ],
         "y": [
          0.1609953894166463,
          0.12813746898452943,
          0.1258744023302034,
          0.12044654385576928,
          0.10139934256269706,
          0.09742552746048805,
          0.09301543855845441,
          0.07666167842707353,
          0.07612342194305365,
          0.07226199571936201
         ]
        },
        {
         "hovertext": "<b>Topic 23</b>:corporation_moore_chairman_ceo_con",
         "line": {
          "color": "black",
          "width": 1.5
         },
         "mode": "lines+lines",
         "name": "",
         "opacity": 0.1,
         "type": "scatter",
         "x": [
          1,
          2,
          3,
          4,
          5,
          6,
          7,
          8,
          9,
          10
         ],
         "y": [
          0.3959320993189734,
          0.372377539519578,
          0.3316838771440314,
          0.31653203181521994,
          0.3002377451961487,
          0.28150584300759635,
          0.2766684538463157,
          0.21639291607582245,
          0.20884707223048393,
          0.1807543309962329
         ]
        },
        {
         "hovertext": "<b>Topic 24</b>:officer_chief_lucchese_president_c",
         "line": {
          "color": "black",
          "width": 1.5
         },
         "mode": "lines+lines",
         "name": "",
         "opacity": 0.1,
         "type": "scatter",
         "x": [
          1,
          2,
          3,
          4,
          5,
          6,
          7,
          8,
          9,
          10
         ],
         "y": [
          0.1496984616206514,
          0.14884535123421988,
          0.09643882693099891,
          0.09490701856201231,
          0.08242216880780447,
          0.07815627003719565,
          0.07411994894632191,
          0.07146748520557485,
          0.07014731978159434,
          0.0658408398863077
         ]
        },
        {
         "hovertext": "<b>Topic 25</b>:ken_call_prepared_will_cindy_start",
         "line": {
          "color": "black",
          "width": 1.5
         },
         "mode": "lines+lines",
         "name": "",
         "opacity": 0.1,
         "type": "scatter",
         "x": [
          1,
          2,
          3,
          4,
          5,
          6,
          7,
          8,
          9,
          10
         ],
         "y": [
          0.05701754863398675,
          0.05576107419722286,
          0.051841084042456506,
          0.050893813168981235,
          0.04874803774719463,
          0.0487247115538821,
          0.04770714308292897,
          0.041314383132875394,
          0.04012659664557457,
          0.03943783146590266
         ]
        },
        {
         "hovertext": "<b>Topic 27</b>:ready_open_joined_session_kim_ques",
         "line": {
          "color": "black",
          "width": 1.5
         },
         "mode": "lines+lines",
         "name": "",
         "opacity": 0.1,
         "type": "scatter",
         "x": [
          1,
          2,
          3,
          4,
          5,
          6,
          7,
          8,
          9,
          10
         ],
         "y": [
          0.10760443944572307,
          0.10341734790584813,
          0.1026638791675554,
          0.09117195881982251,
          0.09017520002251708,
          0.08122654616843748,
          0.08065791496605557,
          0.07826592066155874,
          0.07762194711421966,
          0.07113313562823162
         ]
        },
        {
         "hovertext": "<b>Topic 28</b>:recording_or_any_replay_be_audio_h",
         "line": {
          "color": "black",
          "width": 1.5
         },
         "mode": "lines+lines",
         "name": "",
         "opacity": 0.1,
         "type": "scatter",
         "x": [
          1,
          2,
          3,
          4,
          5,
          6,
          7,
          8,
          9,
          10
         ],
         "y": [
          0.06509726803905487,
          0.050886485025685664,
          0.04812913735576554,
          0.04543272694652978,
          0.042926284564103426,
          0.041436034056948276,
          0.04009249720921568,
          0.03851966134448751,
          0.038336961859374734,
          0.038336961859374734
         ]
        },
        {
         "hovertext": "<b>Topic 29</b>:cfo_lucchese_inc_cindy_svp_hillenb",
         "line": {
          "color": "black",
          "width": 1.5
         },
         "mode": "lines+lines",
         "name": "",
         "opacity": 0.1,
         "type": "scatter",
         "x": [
          1,
          2,
          3,
          4,
          5,
          6,
          7,
          8,
          9,
          10
         ],
         "y": [
          0.5578936160328047,
          0.5262179864096478,
          0.5046060787066322,
          0.4264593043389873,
          0.3397066147643015,
          0.31320121751472757,
          0.15248107898402433,
          0.1309561041958775,
          0.12095634435447829,
          0.119091622364541
         ]
        },
        {
         "hovertext": "<b>Topic 30</b>:joined_call_joining_morning_cernig",
         "line": {
          "color": "black",
          "width": 1.5
         },
         "mode": "lines+lines",
         "name": "",
         "opacity": 0.1,
         "type": "scatter",
         "x": [
          1,
          2,
          3,
          4,
          5,
          6,
          7,
          8,
          9,
          10
         ],
         "y": [
          0.07339128895529824,
          0.07018432309968439,
          0.06708826270635226,
          0.06186046097831177,
          0.05674507571889832,
          0.055262975686848015,
          0.05022015151181453,
          0.04761208991434452,
          0.04485388038644581,
          0.044598264458164595
         ]
        },
        {
         "hovertext": "<b>Topic 31</b>:warburg_ubs_analyst_hoffman_bill_s",
         "line": {
          "color": "black",
          "width": 1.5
         },
         "mode": "lines+lines",
         "name": "",
         "opacity": 0.1,
         "type": "scatter",
         "x": [
          1,
          2,
          3,
          4,
          5,
          6,
          7,
          8,
          9,
          10
         ],
         "y": [
          0.8314600800880877,
          0.8085948353549702,
          0.7708715684414279,
          0.5169083183482205,
          0.4661887655246236,
          0.4164778830606755,
          0.3218143912989522,
          0.150719302611968,
          0.150719302611968,
          0.09517879721645002
         ]
        },
        {
         "hovertext": "<b>Topic 32</b>:cindy_lucchese_cfo_turn_now_over_c",
         "line": {
          "color": "black",
          "width": 1.5
         },
         "mode": "lines+lines",
         "name": "",
         "opacity": 0.1,
         "type": "scatter",
         "x": [
          1,
          2,
          3,
          4,
          5,
          6,
          7,
          8,
          9,
          10
         ],
         "y": [
          0.3791108480406458,
          0.2847439502057511,
          0.21024069766753478,
          0.19879890450134322,
          0.15706215410158203,
          0.13257427807675723,
          0.1154350095374699,
          0.0951754675681224,
          0.0885261424242109,
          0.05800281226711673
         ]
        },
        {
         "hovertext": "<b>Topic 33</b>:morning_good_thank_tim_you_thanks_",
         "line": {
          "color": "black",
          "width": 1.5
         },
         "mode": "lines+lines",
         "name": "",
         "opacity": 0.1,
         "type": "scatter",
         "x": [
          1,
          2,
          3,
          4,
          5,
          6,
          7,
          8,
          9,
          10
         ],
         "y": [
          0.5184495777229938,
          0.4975342008417277,
          0.38407085864237916,
          0.25036398201486265,
          0.22335324285774516,
          0.15216319289392352,
          0.14659033399687244,
          0.1185122655461702,
          0.1081448065257087,
          0.10403263881798026
         ]
        },
        {
         "hovertext": "<b>Topic 34</b>:morning_chief_officer_controller_p",
         "line": {
          "color": "black",
          "width": 1.5
         },
         "mode": "lines+lines",
         "name": "",
         "opacity": 0.1,
         "type": "scatter",
         "x": [
          1,
          2,
          3,
          4,
          5,
          6,
          7,
          8,
          9,
          10
         ],
         "y": [
          0.10175107289528135,
          0.09524627385951563,
          0.09162730257191895,
          0.08548243461783973,
          0.08540943751628045,
          0.08465775055520375,
          0.07971180070140044,
          0.07971180070140044,
          0.07579521641889007,
          0.07475323500613573
         ]
        },
        {
         "hovertext": "<b>Topic 35</b>:thank_great_much_thanks_right_you_",
         "line": {
          "color": "black",
          "width": 1.5
         },
         "mode": "lines+lines",
         "name": "",
         "opacity": 0.1,
         "type": "scatter",
         "x": [
          1,
          2,
          3,
          4,
          5,
          6,
          7,
          8,
          9,
          10
         ],
         "y": [
          0.49024258023368616,
          0.3622938899783201,
          0.3581574435888062,
          0.33382741298156693,
          0.33109528041536446,
          0.3207335992057417,
          0.296095807743815,
          0.248630383503292,
          0.17284637663683317,
          0.15870479649357633
         ]
        },
        {
         "hovertext": "<b>Topic 36</b>:hinrichs_cfo_chuck_stone_smurfit_j",
         "line": {
          "color": "black",
          "width": 1.5
         },
         "mode": "lines+lines",
         "name": "",
         "opacity": 0.1,
         "type": "scatter",
         "x": [
          1,
          2,
          3,
          4,
          5,
          6,
          7,
          8,
          9,
          10
         ],
         "y": [
          0.6097957350947706,
          0.5154451887259609,
          0.5144432095234399,
          0.37624774508261666,
          0.36978231351439944,
          0.33815295628233294,
          0.323632494941119,
          0.1127034062055832,
          0.10683013955985673,
          0.0926304096408542
         ]
        },
        {
         "hovertext": "<b>Topic 37</b>:svp_cfo_inc_cerniglia_lucchese_hil",
         "line": {
          "color": "black",
          "width": 1.5
         },
         "mode": "lines+lines",
         "name": "",
         "opacity": 0.1,
         "type": "scatter",
         "x": [
          1,
          2,
          3,
          4,
          5,
          6,
          7,
          8,
          9,
          10
         ],
         "y": [
          0.7071443817542601,
          0.5080816860298757,
          0.39390168388834046,
          0.27388184505141744,
          0.2527828945704117,
          0.23010701694959576,
          0.2144468130194087,
          0.2048611414878024,
          0.12055178043095145,
          0.09731815608518478
         ]
        },
        {
         "hovertext": "<b>Topic 38</b>:your_participation_happy_questions",
         "line": {
          "color": "black",
          "width": 1.5
         },
         "mode": "lines+lines",
         "name": "",
         "opacity": 0.1,
         "type": "scatter",
         "x": [
          1,
          2,
          3,
          4,
          5,
          6,
          7,
          8,
          9,
          10
         ],
         "y": [
          0.17371420157445175,
          0.1285047250084944,
          0.1232535550096952,
          0.10933679463012605,
          0.1053515789796778,
          0.08803825357835372,
          0.07229557774028925,
          0.06106527004986248,
          0.056112162471832185,
          0.0502129166753018
         ]
        },
        {
         "hovertext": "<b>Topic 39</b>:raver_mr_pleasure_executive_my_go_",
         "line": {
          "color": "black",
          "width": 1.5
         },
         "mode": "lines+lines",
         "name": "",
         "opacity": 0.1,
         "type": "scatter",
         "x": [
          1,
          2,
          3,
          4,
          5,
          6,
          7,
          8,
          9,
          10
         ],
         "y": [
          0.26333830143978676,
          0.16289174516594893,
          0.16177481296808266,
          0.15478165833818036,
          0.14702323821650604,
          0.1448805065510634,
          0.1385345075003454,
          0.13415645705467216,
          0.13339191835680483,
          0.11991908464865805
         ]
        },
        {
         "hovertext": "<b>Topic 40</b>:ken_camp_pleasure_my_turn_presiden",
         "line": {
          "color": "black",
          "width": 1.5
         },
         "mode": "lines+lines",
         "name": "",
         "opacity": 0.1,
         "type": "scatter",
         "x": [
          1,
          2,
          3,
          4,
          5,
          6,
          7,
          8,
          9,
          10
         ],
         "y": [
          0.29224048224588195,
          0.19417180244272456,
          0.18950763804832543,
          0.17222722191076423,
          0.13078390893352254,
          0.1296521806281621,
          0.11447563677848913,
          0.10234247522816665,
          0.10125502997083008,
          0.09878285981716224
         ]
        },
        {
         "hovertext": "<b>Topic 41</b>:ir_gordon_chris_inc_director_hille",
         "line": {
          "color": "black",
          "width": 1.5
         },
         "mode": "lines+lines",
         "name": "",
         "opacity": 0.1,
         "type": "scatter",
         "x": [
          1,
          2,
          3,
          4,
          5,
          6,
          7,
          8,
          9,
          10
         ],
         "y": [
          0.687947642842843,
          0.6600510814841573,
          0.6387896365485771,
          0.4886375319121186,
          0.43820411205591603,
          0.3092366451411234,
          0.1253167258805018,
          0.1245881378997855,
          0.10180871470254765,
          0.013719241792200399
         ]
        },
        {
         "hovertext": "<b>Topic 42</b>:vp_lanning_ir_mark_inc_treasury_co",
         "line": {
          "color": "black",
          "width": 1.5
         },
         "mode": "lines+lines",
         "name": "",
         "opacity": 0.1,
         "type": "scatter",
         "x": [
          1,
          2,
          3,
          4,
          5,
          6,
          7,
          8,
          9,
          10
         ],
         "y": [
          0.5177017256413491,
          0.44335418441815555,
          0.41429417992406836,
          0.3622922730405975,
          0.2898075452031334,
          0.2472386772281804,
          0.23498227935918028,
          0.22297345370629823,
          0.16929795541336626,
          0.14314140162316258
         ]
        },
        {
         "hovertext": "<b>Topic 43</b>:thank_chuck_thanks_you_ken_cindy_j",
         "line": {
          "color": "black",
          "width": 1.5
         },
         "mode": "lines+lines",
         "name": "",
         "opacity": 0.1,
         "type": "scatter",
         "x": [
          1,
          2,
          3,
          4,
          5,
          6,
          7,
          8,
          9,
          10
         ],
         "y": [
          0.7065260715132536,
          0.5220085508399611,
          0.4811042128263759,
          0.4108744146687932,
          0.2784879889637228,
          0.19682737123337876,
          0.16339517354665867,
          0.13677137295898453,
          0.00001,
          0.00001
         ]
        },
        {
         "hovertext": "<b>Topic 44</b>:uncertainties_risks_statements_sea",
         "line": {
          "color": "black",
          "width": 1.5
         },
         "mode": "lines+lines",
         "name": "",
         "opacity": 0.1,
         "type": "scatter",
         "x": [
          1,
          2,
          3,
          4,
          5,
          6,
          7,
          8,
          9,
          10
         ],
         "y": [
          0.09292623138104349,
          0.0869057776205215,
          0.05390916691485208,
          0.04981577722828495,
          0.049771663838445133,
          0.04948718810825825,
          0.04881275629367826,
          0.04770728621519126,
          0.047678006242073655,
          0.04345288881026075
         ]
        },
        {
         "hovertext": "<b>Topic 45</b>:chairman_corporation_moore_contain",
         "line": {
          "color": "black",
          "width": 1.5
         },
         "mode": "lines+lines",
         "name": "",
         "opacity": 0.1,
         "type": "scatter",
         "x": [
          1,
          2,
          3,
          4,
          5,
          6,
          7,
          8,
          9,
          10
         ],
         "y": [
          0.40987238416309585,
          0.35335875530618055,
          0.3518861758648005,
          0.2679541166804338,
          0.25637578753623946,
          0.25416872426877074,
          0.25123639752290855,
          0.24691915773380865,
          0.20164797678343188,
          0.19940917374317463
         ]
        },
        {
         "hovertext": "<b>Topic 46</b>:comes_question_next_from_please_go",
         "line": {
          "color": "black",
          "width": 1.5
         },
         "mode": "lines+lines",
         "name": "",
         "opacity": 0.1,
         "type": "scatter",
         "x": [
          1,
          2,
          3,
          4,
          5,
          6,
          7,
          8,
          9,
          10
         ],
         "y": [
          0.3015379538597574,
          0.27540572109234407,
          0.1839527637814064,
          0.17904331284224848,
          0.16443075149388664,
          0.15451129166861965,
          0.14774344875036838,
          0.1314378735201969,
          0.08189372511864157,
          0.07253092110495503
         ]
        },
        {
         "hovertext": "<b>Topic 47</b>:concluding_his_back_remarks_joe_tu",
         "line": {
          "color": "black",
          "width": 1.5
         },
         "mode": "lines+lines",
         "name": "",
         "opacity": 0.1,
         "type": "scatter",
         "x": [
          1,
          2,
          3,
          4,
          5,
          6,
          7,
          8,
          9,
          10
         ],
         "y": [
          0.3170071537310301,
          0.3066686426848732,
          0.2492582268992621,
          0.24351008613561537,
          0.19840842502094266,
          0.18016150720434226,
          0.1787566047787723,
          0.1394839698577761,
          0.12210608518019245,
          0.09680889569316102
         ]
        },
        {
         "hovertext": "<b>Topic 48</b>:questions_considerations_refrain_q",
         "line": {
          "color": "black",
          "width": 1.5
         },
         "mode": "lines+lines",
         "name": "",
         "opacity": 0.1,
         "type": "scatter",
         "x": [
          1,
          2,
          3,
          4,
          5,
          6,
          7,
          8,
          9,
          10
         ],
         "y": [
          0.1067599536437532,
          0.09434295920661037,
          0.08818631113400947,
          0.08354896495611794,
          0.08251651058947493,
          0.08143898677984537,
          0.08076953927434884,
          0.07547436736528829,
          0.07475738104027023,
          0.07443667715066932
         ]
        }
       ],
       "layout": {
        "height": 500,
        "hoverlabel": {
         "bgcolor": "white",
         "font": {
          "family": "Rockwell",
          "size": 16
         }
        },
        "showlegend": false,
        "template": {
         "data": {
          "bar": [
           {
            "error_x": {
             "color": "#2a3f5f"
            },
            "error_y": {
             "color": "#2a3f5f"
            },
            "marker": {
             "line": {
              "color": "white",
              "width": 0.5
             },
             "pattern": {
              "fillmode": "overlay",
              "size": 10,
              "solidity": 0.2
             }
            },
            "type": "bar"
           }
          ],
          "barpolar": [
           {
            "marker": {
             "line": {
              "color": "white",
              "width": 0.5
             },
             "pattern": {
              "fillmode": "overlay",
              "size": 10,
              "solidity": 0.2
             }
            },
            "type": "barpolar"
           }
          ],
          "carpet": [
           {
            "aaxis": {
             "endlinecolor": "#2a3f5f",
             "gridcolor": "#C8D4E3",
             "linecolor": "#C8D4E3",
             "minorgridcolor": "#C8D4E3",
             "startlinecolor": "#2a3f5f"
            },
            "baxis": {
             "endlinecolor": "#2a3f5f",
             "gridcolor": "#C8D4E3",
             "linecolor": "#C8D4E3",
             "minorgridcolor": "#C8D4E3",
             "startlinecolor": "#2a3f5f"
            },
            "type": "carpet"
           }
          ],
          "choropleth": [
           {
            "colorbar": {
             "outlinewidth": 0,
             "ticks": ""
            },
            "type": "choropleth"
           }
          ],
          "contour": [
           {
            "colorbar": {
             "outlinewidth": 0,
             "ticks": ""
            },
            "colorscale": [
             [
              0,
              "#0d0887"
             ],
             [
              0.1111111111111111,
              "#46039f"
             ],
             [
              0.2222222222222222,
              "#7201a8"
             ],
             [
              0.3333333333333333,
              "#9c179e"
             ],
             [
              0.4444444444444444,
              "#bd3786"
             ],
             [
              0.5555555555555556,
              "#d8576b"
             ],
             [
              0.6666666666666666,
              "#ed7953"
             ],
             [
              0.7777777777777778,
              "#fb9f3a"
             ],
             [
              0.8888888888888888,
              "#fdca26"
             ],
             [
              1,
              "#f0f921"
             ]
            ],
            "type": "contour"
           }
          ],
          "contourcarpet": [
           {
            "colorbar": {
             "outlinewidth": 0,
             "ticks": ""
            },
            "type": "contourcarpet"
           }
          ],
          "heatmap": [
           {
            "colorbar": {
             "outlinewidth": 0,
             "ticks": ""
            },
            "colorscale": [
             [
              0,
              "#0d0887"
             ],
             [
              0.1111111111111111,
              "#46039f"
             ],
             [
              0.2222222222222222,
              "#7201a8"
             ],
             [
              0.3333333333333333,
              "#9c179e"
             ],
             [
              0.4444444444444444,
              "#bd3786"
             ],
             [
              0.5555555555555556,
              "#d8576b"
             ],
             [
              0.6666666666666666,
              "#ed7953"
             ],
             [
              0.7777777777777778,
              "#fb9f3a"
             ],
             [
              0.8888888888888888,
              "#fdca26"
             ],
             [
              1,
              "#f0f921"
             ]
            ],
            "type": "heatmap"
           }
          ],
          "heatmapgl": [
           {
            "colorbar": {
             "outlinewidth": 0,
             "ticks": ""
            },
            "colorscale": [
             [
              0,
              "#0d0887"
             ],
             [
              0.1111111111111111,
              "#46039f"
             ],
             [
              0.2222222222222222,
              "#7201a8"
             ],
             [
              0.3333333333333333,
              "#9c179e"
             ],
             [
              0.4444444444444444,
              "#bd3786"
             ],
             [
              0.5555555555555556,
              "#d8576b"
             ],
             [
              0.6666666666666666,
              "#ed7953"
             ],
             [
              0.7777777777777778,
              "#fb9f3a"
             ],
             [
              0.8888888888888888,
              "#fdca26"
             ],
             [
              1,
              "#f0f921"
             ]
            ],
            "type": "heatmapgl"
           }
          ],
          "histogram": [
           {
            "marker": {
             "pattern": {
              "fillmode": "overlay",
              "size": 10,
              "solidity": 0.2
             }
            },
            "type": "histogram"
           }
          ],
          "histogram2d": [
           {
            "colorbar": {
             "outlinewidth": 0,
             "ticks": ""
            },
            "colorscale": [
             [
              0,
              "#0d0887"
             ],
             [
              0.1111111111111111,
              "#46039f"
             ],
             [
              0.2222222222222222,
              "#7201a8"
             ],
             [
              0.3333333333333333,
              "#9c179e"
             ],
             [
              0.4444444444444444,
              "#bd3786"
             ],
             [
              0.5555555555555556,
              "#d8576b"
             ],
             [
              0.6666666666666666,
              "#ed7953"
             ],
             [
              0.7777777777777778,
              "#fb9f3a"
             ],
             [
              0.8888888888888888,
              "#fdca26"
             ],
             [
              1,
              "#f0f921"
             ]
            ],
            "type": "histogram2d"
           }
          ],
          "histogram2dcontour": [
           {
            "colorbar": {
             "outlinewidth": 0,
             "ticks": ""
            },
            "colorscale": [
             [
              0,
              "#0d0887"
             ],
             [
              0.1111111111111111,
              "#46039f"
             ],
             [
              0.2222222222222222,
              "#7201a8"
             ],
             [
              0.3333333333333333,
              "#9c179e"
             ],
             [
              0.4444444444444444,
              "#bd3786"
             ],
             [
              0.5555555555555556,
              "#d8576b"
             ],
             [
              0.6666666666666666,
              "#ed7953"
             ],
             [
              0.7777777777777778,
              "#fb9f3a"
             ],
             [
              0.8888888888888888,
              "#fdca26"
             ],
             [
              1,
              "#f0f921"
             ]
            ],
            "type": "histogram2dcontour"
           }
          ],
          "mesh3d": [
           {
            "colorbar": {
             "outlinewidth": 0,
             "ticks": ""
            },
            "type": "mesh3d"
           }
          ],
          "parcoords": [
           {
            "line": {
             "colorbar": {
              "outlinewidth": 0,
              "ticks": ""
             }
            },
            "type": "parcoords"
           }
          ],
          "pie": [
           {
            "automargin": true,
            "type": "pie"
           }
          ],
          "scatter": [
           {
            "fillpattern": {
             "fillmode": "overlay",
             "size": 10,
             "solidity": 0.2
            },
            "type": "scatter"
           }
          ],
          "scatter3d": [
           {
            "line": {
             "colorbar": {
              "outlinewidth": 0,
              "ticks": ""
             }
            },
            "marker": {
             "colorbar": {
              "outlinewidth": 0,
              "ticks": ""
             }
            },
            "type": "scatter3d"
           }
          ],
          "scattercarpet": [
           {
            "marker": {
             "colorbar": {
              "outlinewidth": 0,
              "ticks": ""
             }
            },
            "type": "scattercarpet"
           }
          ],
          "scattergeo": [
           {
            "marker": {
             "colorbar": {
              "outlinewidth": 0,
              "ticks": ""
             }
            },
            "type": "scattergeo"
           }
          ],
          "scattergl": [
           {
            "marker": {
             "colorbar": {
              "outlinewidth": 0,
              "ticks": ""
             }
            },
            "type": "scattergl"
           }
          ],
          "scattermapbox": [
           {
            "marker": {
             "colorbar": {
              "outlinewidth": 0,
              "ticks": ""
             }
            },
            "type": "scattermapbox"
           }
          ],
          "scatterpolar": [
           {
            "marker": {
             "colorbar": {
              "outlinewidth": 0,
              "ticks": ""
             }
            },
            "type": "scatterpolar"
           }
          ],
          "scatterpolargl": [
           {
            "marker": {
             "colorbar": {
              "outlinewidth": 0,
              "ticks": ""
             }
            },
            "type": "scatterpolargl"
           }
          ],
          "scatterternary": [
           {
            "marker": {
             "colorbar": {
              "outlinewidth": 0,
              "ticks": ""
             }
            },
            "type": "scatterternary"
           }
          ],
          "surface": [
           {
            "colorbar": {
             "outlinewidth": 0,
             "ticks": ""
            },
            "colorscale": [
             [
              0,
              "#0d0887"
             ],
             [
              0.1111111111111111,
              "#46039f"
             ],
             [
              0.2222222222222222,
              "#7201a8"
             ],
             [
              0.3333333333333333,
              "#9c179e"
             ],
             [
              0.4444444444444444,
              "#bd3786"
             ],
             [
              0.5555555555555556,
              "#d8576b"
             ],
             [
              0.6666666666666666,
              "#ed7953"
             ],
             [
              0.7777777777777778,
              "#fb9f3a"
             ],
             [
              0.8888888888888888,
              "#fdca26"
             ],
             [
              1,
              "#f0f921"
             ]
            ],
            "type": "surface"
           }
          ],
          "table": [
           {
            "cells": {
             "fill": {
              "color": "#EBF0F8"
             },
             "line": {
              "color": "white"
             }
            },
            "header": {
             "fill": {
              "color": "#C8D4E3"
             },
             "line": {
              "color": "white"
             }
            },
            "type": "table"
           }
          ]
         },
         "layout": {
          "annotationdefaults": {
           "arrowcolor": "#2a3f5f",
           "arrowhead": 0,
           "arrowwidth": 1
          },
          "autotypenumbers": "strict",
          "coloraxis": {
           "colorbar": {
            "outlinewidth": 0,
            "ticks": ""
           }
          },
          "colorscale": {
           "diverging": [
            [
             0,
             "#8e0152"
            ],
            [
             0.1,
             "#c51b7d"
            ],
            [
             0.2,
             "#de77ae"
            ],
            [
             0.3,
             "#f1b6da"
            ],
            [
             0.4,
             "#fde0ef"
            ],
            [
             0.5,
             "#f7f7f7"
            ],
            [
             0.6,
             "#e6f5d0"
            ],
            [
             0.7,
             "#b8e186"
            ],
            [
             0.8,
             "#7fbc41"
            ],
            [
             0.9,
             "#4d9221"
            ],
            [
             1,
             "#276419"
            ]
           ],
           "sequential": [
            [
             0,
             "#0d0887"
            ],
            [
             0.1111111111111111,
             "#46039f"
            ],
            [
             0.2222222222222222,
             "#7201a8"
            ],
            [
             0.3333333333333333,
             "#9c179e"
            ],
            [
             0.4444444444444444,
             "#bd3786"
            ],
            [
             0.5555555555555556,
             "#d8576b"
            ],
            [
             0.6666666666666666,
             "#ed7953"
            ],
            [
             0.7777777777777778,
             "#fb9f3a"
            ],
            [
             0.8888888888888888,
             "#fdca26"
            ],
            [
             1,
             "#f0f921"
            ]
           ],
           "sequentialminus": [
            [
             0,
             "#0d0887"
            ],
            [
             0.1111111111111111,
             "#46039f"
            ],
            [
             0.2222222222222222,
             "#7201a8"
            ],
            [
             0.3333333333333333,
             "#9c179e"
            ],
            [
             0.4444444444444444,
             "#bd3786"
            ],
            [
             0.5555555555555556,
             "#d8576b"
            ],
            [
             0.6666666666666666,
             "#ed7953"
            ],
            [
             0.7777777777777778,
             "#fb9f3a"
            ],
            [
             0.8888888888888888,
             "#fdca26"
            ],
            [
             1,
             "#f0f921"
            ]
           ]
          },
          "colorway": [
           "#636efa",
           "#EF553B",
           "#00cc96",
           "#ab63fa",
           "#FFA15A",
           "#19d3f3",
           "#FF6692",
           "#B6E880",
           "#FF97FF",
           "#FECB52"
          ],
          "font": {
           "color": "#2a3f5f"
          },
          "geo": {
           "bgcolor": "white",
           "lakecolor": "white",
           "landcolor": "white",
           "showlakes": true,
           "showland": true,
           "subunitcolor": "#C8D4E3"
          },
          "hoverlabel": {
           "align": "left"
          },
          "hovermode": "closest",
          "mapbox": {
           "style": "light"
          },
          "paper_bgcolor": "white",
          "plot_bgcolor": "white",
          "polar": {
           "angularaxis": {
            "gridcolor": "#EBF0F8",
            "linecolor": "#EBF0F8",
            "ticks": ""
           },
           "bgcolor": "white",
           "radialaxis": {
            "gridcolor": "#EBF0F8",
            "linecolor": "#EBF0F8",
            "ticks": ""
           }
          },
          "scene": {
           "xaxis": {
            "backgroundcolor": "white",
            "gridcolor": "#DFE8F3",
            "gridwidth": 2,
            "linecolor": "#EBF0F8",
            "showbackground": true,
            "ticks": "",
            "zerolinecolor": "#EBF0F8"
           },
           "yaxis": {
            "backgroundcolor": "white",
            "gridcolor": "#DFE8F3",
            "gridwidth": 2,
            "linecolor": "#EBF0F8",
            "showbackground": true,
            "ticks": "",
            "zerolinecolor": "#EBF0F8"
           },
           "zaxis": {
            "backgroundcolor": "white",
            "gridcolor": "#DFE8F3",
            "gridwidth": 2,
            "linecolor": "#EBF0F8",
            "showbackground": true,
            "ticks": "",
            "zerolinecolor": "#EBF0F8"
           }
          },
          "shapedefaults": {
           "line": {
            "color": "#2a3f5f"
           }
          },
          "ternary": {
           "aaxis": {
            "gridcolor": "#DFE8F3",
            "linecolor": "#A2B1C6",
            "ticks": ""
           },
           "baxis": {
            "gridcolor": "#DFE8F3",
            "linecolor": "#A2B1C6",
            "ticks": ""
           },
           "bgcolor": "white",
           "caxis": {
            "gridcolor": "#DFE8F3",
            "linecolor": "#A2B1C6",
            "ticks": ""
           }
          },
          "title": {
           "x": 0.05
          },
          "xaxis": {
           "automargin": true,
           "gridcolor": "#EBF0F8",
           "linecolor": "#EBF0F8",
           "ticks": "",
           "title": {
            "standoff": 15
           },
           "zerolinecolor": "#EBF0F8",
           "zerolinewidth": 2
          },
          "yaxis": {
           "automargin": true,
           "gridcolor": "#EBF0F8",
           "linecolor": "#EBF0F8",
           "ticks": "",
           "title": {
            "standoff": 15
           },
           "zerolinecolor": "#EBF0F8",
           "zerolinewidth": 2
          }
         }
        },
        "title": {
         "font": {
          "color": "Black",
          "size": 22
         },
         "text": "<b>Term score decline per Topic</b>",
         "x": 0.5,
         "xanchor": "center",
         "y": 0.9,
         "yanchor": "top"
        },
        "width": 800,
        "xaxis": {
         "dtick": 2,
         "range": [
          0,
          10
         ],
         "tick0": 1,
         "title": {
          "text": "Term Rank"
         }
        },
        "yaxis": {
         "title": {
          "text": "c-TF-IDF score"
         }
        }
       }
      }
     },
     "metadata": {},
     "output_type": "display_data"
    }
   ],
   "source": [
    "topic_model.visualize_term_rank().show()"
   ]
  },
  {
   "cell_type": "code",
   "execution_count": 51,
   "metadata": {},
   "outputs": [
    {
     "ename": "TypeError",
     "evalue": "BERTopic.visualize_hierarchical_documents() missing 1 required positional argument: 'hierarchical_topics'",
     "output_type": "error",
     "traceback": [
      "\u001b[1;31m---------------------------------------------------------------------------\u001b[0m",
      "\u001b[1;31mTypeError\u001b[0m                                 Traceback (most recent call last)",
      "Cell \u001b[1;32mIn[51], line 1\u001b[0m\n\u001b[1;32m----> 1\u001b[0m \u001b[43mtopic_model\u001b[49m\u001b[38;5;241;43m.\u001b[39;49m\u001b[43mvisualize_hierarchical_documents\u001b[49m\u001b[43m(\u001b[49m\u001b[43mdocs\u001b[49m\u001b[38;5;241;43m=\u001b[39;49m\u001b[43mall_relevant_sections\u001b[49m\u001b[43m)\u001b[49m\u001b[38;5;241m.\u001b[39mshow()\n",
      "\u001b[1;31mTypeError\u001b[0m: BERTopic.visualize_hierarchical_documents() missing 1 required positional argument: 'hierarchical_topics'"
     ]
    }
   ],
   "source": [
    "#topic_model.visualize_hierarchical_documents(docs=all_relevant_sections, hierarchical_topics= dataframe).show()\n"
   ]
  }
 ],
 "metadata": {
  "kernelspec": {
   "display_name": "Python 3 (ipykernel)",
   "language": "python",
   "name": "python3"
  },
  "language_info": {
   "codemirror_mode": {
    "name": "ipython",
    "version": 3
   },
   "file_extension": ".py",
   "mimetype": "text/x-python",
   "name": "python",
   "nbconvert_exporter": "python",
   "pygments_lexer": "ipython3",
   "version": "3.12.4"
  }
 },
 "nbformat": 4,
 "nbformat_minor": 4
}
