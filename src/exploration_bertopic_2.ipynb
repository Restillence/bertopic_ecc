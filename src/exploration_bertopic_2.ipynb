{
 "cells": [
  {
   "cell_type": "code",
   "execution_count": 12,
   "metadata": {},
   "outputs": [],
   "source": [
    "import json\n",
    "from bertopic import BERTopic\n",
    "\n",
    "# Load configuration from config.json\n",
    "config_file_path = r'C:\\Users\\nikla\\OneDrive\\Dokumente\\winfoMaster\\Masterarbeit\\bertopic_ecc\\config.json'\n",
    "with open(config_file_path, 'r') as f:\n",
    "    config = json.load(f)\n",
    "\n",
    "# Extract the model load path from the config\n",
    "model_load_path = config[\"model_load_path\"]\n",
    "\n",
    "# Load the trained BERTopic model\n",
    "topic_model = BERTopic.load(model_load_path)"
   ]
  },
  {
   "cell_type": "code",
   "execution_count": 13,
   "metadata": {},
   "outputs": [
    {
     "name": "stdout",
     "output_type": "stream",
     "text": [
      "Topic 0:\n",
      "[['questions', 0.5835496187210083], ['quarter', 0.5803259611129761], ['like', 0.5740369558334351], ['comments', 0.5671558976173401], ['company', 0.5612442493438721], ['point', 0.5600501298904419], ['presentation', 0.5578855276107788], ['results', 0.5560699105262756], ['time', 0.5535725355148315], ['remarks', 0.5514792799949646]]\n",
      "\n",
      "\n",
      "Topic 1:\n",
      "[['quarter', 0.505996584892273], ['questions', 0.5014277696609497], ['conference', 0.4992397427558899], ['comments', 0.49837660789489746], ['company', 0.4913133382797241], ['presentation', 0.48922887444496155], ['remarks', 0.48106276988983154], ['like turn', 0.47833412885665894], ['thank', 0.47468677163124084], ['like', 0.4709622263908386]]\n",
      "\n",
      "\n",
      "Topic 2:\n",
      "[['amp', 0.5221938490867615], ['questions', 0.519222617149353], ['like', 0.4945813715457916], ['company', 0.49049273133277893], ['judy', 0.49018433690071106], ['thanks', 0.4889897108078003], ['presentation', 0.48894357681274414], ['remarks', 0.4788931608200073], ['thank', 0.4758763015270233], ['time', 0.47314462065696716]]\n",
      "\n",
      "\n",
      "Topic 3:\n",
      "[['conference', 0.6464168429374695], ['thank', 0.5633776783943176], ['like turn', 0.5290237069129944], ['questions', 0.5228676795959473], ['thanks', 0.5227660536766052], ['judy', 0.5014429688453674], ['ll turn', 0.5005288124084473], ['michelle', 0.4942440986633301], ['remarks', 0.48085829615592957], ['keith', 0.48038503527641296]]\n",
      "\n",
      "\n",
      "Topic 4:\n",
      "[['thanks', 0.6199187636375427], ['conference', 0.6180669069290161], ['thank', 0.6060258150100708], ['quarter', 0.5699779987335205], ['judy', 0.5660478472709656], ['keith', 0.5591294765472412], ['questions', 0.5586957931518555], ['jim', 0.5570497512817383], ['michelle', 0.5551966428756714], ['paul', 0.5465734004974365]]\n",
      "\n",
      "\n",
      "Topic 5:\n",
      "[['questions', 0.6926112174987793], ['ll turn', 0.6755562424659729], ['thank', 0.6669368743896484], ['like turn', 0.6298553347587585], ['thanks', 0.6177252531051636], ['judy', 0.5952518582344055], ['michelle', 0.5939569473266602], ['remarks', 0.5920373797416687], ['ll', 0.5906447172164917], ['like', 0.5809191465377808]]\n",
      "\n",
      "\n",
      "Topic 6:\n",
      "[['ll turn', 0.6530429124832153], ['like turn', 0.5307181477546692], ['thanks', 0.5036329030990601], ['paul', 0.5029593706130981], ['keith', 0.49402299523353577], ['turn', 0.4913408160209656], ['jim', 0.4877658486366272], ['ll', 0.4830400347709656], ['michelle', 0.4810384511947632], ['thank', 0.47596269845962524]]\n",
      "\n",
      "\n",
      "Topic 7:\n",
      "[['ll turn', 0.6113292574882507], ['like turn', 0.4893026053905487], ['jim', 0.4832545518875122], ['paul', 0.47945404052734375], ['turn', 0.4779883027076721], ['keith', 0.4687965512275696], ['thank', 0.46522802114486694], ['questions', 0.45923078060150146], ['judy', 0.45796942710876465], ['mark', 0.4573863446712494]]\n",
      "\n",
      "\n",
      "Topic 8:\n"
     ]
    },
    {
     "ename": "TypeError",
     "evalue": "'bool' object is not subscriptable",
     "output_type": "error",
     "traceback": [
      "\u001b[1;31m---------------------------------------------------------------------------\u001b[0m",
      "\u001b[1;31mTypeError\u001b[0m                                 Traceback (most recent call last)",
      "Cell \u001b[1;32mIn[13], line 7\u001b[0m\n\u001b[0;32m      5\u001b[0m \u001b[38;5;28;01mfor\u001b[39;00m topic_id \u001b[38;5;129;01min\u001b[39;00m \u001b[38;5;28mrange\u001b[39m(\u001b[38;5;28mlen\u001b[39m(topic_model\u001b[38;5;241m.\u001b[39mget_topics())):\n\u001b[0;32m      6\u001b[0m     \u001b[38;5;28mprint\u001b[39m(\u001b[38;5;124mf\u001b[39m\u001b[38;5;124m\"\u001b[39m\u001b[38;5;124mTopic \u001b[39m\u001b[38;5;132;01m{\u001b[39;00mtopic_id\u001b[38;5;132;01m}\u001b[39;00m\u001b[38;5;124m:\u001b[39m\u001b[38;5;124m\"\u001b[39m)\n\u001b[1;32m----> 7\u001b[0m     \u001b[38;5;28mprint\u001b[39m(\u001b[43mtopic_model\u001b[49m\u001b[38;5;241;43m.\u001b[39;49m\u001b[43mget_topic\u001b[49m\u001b[43m(\u001b[49m\u001b[43mtopic_id\u001b[49m\u001b[43m)\u001b[49m\u001b[43m[\u001b[49m\u001b[43m:\u001b[49m\u001b[43mn_words\u001b[49m\u001b[43m]\u001b[49m)  \u001b[38;5;66;03m# Show top n words for each topic\u001b[39;00m\n\u001b[0;32m      8\u001b[0m     \u001b[38;5;28mprint\u001b[39m(\u001b[38;5;124m\"\u001b[39m\u001b[38;5;130;01m\\n\u001b[39;00m\u001b[38;5;124m\"\u001b[39m)\n",
      "\u001b[1;31mTypeError\u001b[0m: 'bool' object is not subscriptable"
     ]
    }
   ],
   "source": [
    "# Define the number of words you want to see for each topic\n",
    "n_words = 20  # Change this to any number of words you want to see\n",
    "\n",
    "# Get the topics with the specified number of words\n",
    "for topic_id in range(len(topic_model.get_topics())):\n",
    "    print(f\"Topic {topic_id}:\")\n",
    "    print(topic_model.get_topic(topic_id)[:n_words])  # Show top n words for each topic\n",
    "    print(\"\\n\")"
   ]
  },
  {
   "cell_type": "code",
   "execution_count": 14,
   "metadata": {},
   "outputs": [
    {
     "name": "stdout",
     "output_type": "stream",
     "text": [
      "   Topic  Count                                     Name  \\\n",
      "0     -1   1200  -1_conference_thank_questions_like turn   \n",
      "1      0  20596        0_questions_quarter_like_comments   \n",
      "2      1   1193  1_quarter_questions_conference_comments   \n",
      "3      2   1112             2_amp_questions_like_company   \n",
      "4      3    562   3_conference_thank_like turn_questions   \n",
      "5      4    501        4_thanks_conference_thank_quarter   \n",
      "6      5    385      5_questions_ll turn_thank_like turn   \n",
      "7      6    360          6_ll turn_like turn_thanks_paul   \n",
      "8      7    333             7_ll turn_like turn_jim_paul   \n",
      "\n",
      "                                      Representation  Representative_Docs  \n",
      "0  [conference, thank, questions, like turn, ll t...                  NaN  \n",
      "1  [questions, quarter, like, comments, company, ...                  NaN  \n",
      "2  [quarter, questions, conference, comments, com...                  NaN  \n",
      "3  [amp, questions, like, company, judy, thanks, ...                  NaN  \n",
      "4  [conference, thank, like turn, questions, than...                  NaN  \n",
      "5  [thanks, conference, thank, quarter, judy, kei...                  NaN  \n",
      "6  [questions, ll turn, thank, like turn, thanks,...                  NaN  \n",
      "7  [ll turn, like turn, thanks, paul, keith, turn...                  NaN  \n",
      "8  [ll turn, like turn, jim, paul, turn, keith, t...                  NaN  \n"
     ]
    }
   ],
   "source": [
    "# Get the topic information\n",
    "topic_info = topic_model.get_topic_info()\n",
    "print(topic_info)\n"
   ]
  },
  {
   "cell_type": "code",
   "execution_count": null,
   "metadata": {},
   "outputs": [],
   "source": [
    "# Visualize the frequency of the topics\n",
    "topic_model.visualize_barchart()\n"
   ]
  },
  {
   "cell_type": "code",
   "execution_count": null,
   "metadata": {},
   "outputs": [],
   "source": [
    "# Visualize the topic similarity\n",
    "topic_model.visualize_topics()\n"
   ]
  },
  {
   "cell_type": "code",
   "execution_count": null,
   "metadata": {},
   "outputs": [],
   "source": [
    "# Visualize the score distribution of the terms within each topic\n",
    "topic_model.visualize_term_rank()\n"
   ]
  },
  {
   "cell_type": "code",
   "execution_count": null,
   "metadata": {},
   "outputs": [],
   "source": [
    "# Visualize the documents in UMAP space\n",
    "topic_model.visualize_documents()\n"
   ]
  },
  {
   "cell_type": "code",
   "execution_count": null,
   "metadata": {},
   "outputs": [],
   "source": [
    "# Access terms for a specific topic\n",
    "topic_id = 0  # Change to the topic ID you want to explore\n",
    "topic_terms = topic_model.get_topic(topic_id)\n",
    "print(topic_terms)\n"
   ]
  }
 ],
 "metadata": {
  "kernelspec": {
   "display_name": "bert_ma",
   "language": "python",
   "name": "python3"
  },
  "language_info": {
   "codemirror_mode": {
    "name": "ipython",
    "version": 3
   },
   "file_extension": ".py",
   "mimetype": "text/x-python",
   "name": "python",
   "nbconvert_exporter": "python",
   "pygments_lexer": "ipython3",
   "version": "3.12.4"
  }
 },
 "nbformat": 4,
 "nbformat_minor": 2
}
