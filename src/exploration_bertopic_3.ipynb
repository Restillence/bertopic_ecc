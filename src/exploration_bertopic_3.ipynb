{
 "cells": [
  {
   "cell_type": "code",
   "execution_count": 1,
   "metadata": {},
   "outputs": [],
   "source": [
    "import json\n",
    "from bertopic import BERTopic\n",
    "import matplotlib.pyplot as plt\n"
   ]
  },
  {
   "cell_type": "code",
   "execution_count": null,
   "metadata": {},
   "outputs": [],
   "source": [
    "# Load configuration from config.json\n",
    "config_file_path = r'C:\\Users\\nikla\\OneDrive\\Dokumente\\winfoMaster\\Masterarbeit\\bertopic_ecc\\config.json'\n",
    "with open(config_file_path, 'r') as f:\n",
    "    config = json.load(f)\n",
    "\n",
    "# Get the correct model path from the config\n",
    "model_load_path_with_data = config[\"model_load_path_with_data\"]\n",
    "\n",
    "# Load the model from the local path\n",
    "topic_model = BERTopic.load(model_load_path_with_data)\n"
   ]
  },
  {
   "cell_type": "code",
   "execution_count": null,
   "metadata": {},
   "outputs": [],
   "source": [
    "def explore_basic_info(topic_model):\n",
    "    \"\"\"\n",
    "    Explore the basic information about the BERTopic model.\n",
    "    \"\"\"\n",
    "    print(\"Exploring Basic Information about the Model...\")\n",
    "    # Get the number of topics\n",
    "    num_topics = len(topic_model.get_topic_info())\n",
    "    print(f\"Number of Topics: {num_topics}\")\n",
    "    \n",
    "    # Get topic frequency (number of documents per topic)\n",
    "    topic_info = topic_model.get_topic_info()\n",
    "    print(\"Top 5 Topics by Frequency:\")\n",
    "    print(topic_info.head(5))\n",
    "    \n",
    "    # Get top words for a specific topic (example: topic 0)\n",
    "    example_topic = 0\n",
    "    top_words = topic_model.get_topic(example_topic)\n",
    "    print(f\"Top words for Topic {example_topic}:\")\n",
    "    for word, score in top_words:\n",
    "        print(f\"  - {word}: {score}\")\n",
    "    \n",
    "    print(\"\\n\" + \"-\"*50 + \"\\n\")\n",
    "\n",
    "# Call this function\n",
    "explore_basic_info(topic_model)\n"
   ]
  },
  {
   "cell_type": "code",
   "execution_count": null,
   "metadata": {},
   "outputs": [],
   "source": [
    "def reduce_and_explore(topic_model, nr_topics):\n",
    "    \"\"\"\n",
    "    Reduce the number of topics in the model and explore the new model.\n",
    "    \"\"\"\n",
    "    print(f\"Reducing number of topics to {nr_topics}...\")\n",
    "    reduced_model = topic_model.reduce_topics(topic_model.original_documents_, nr_topics=nr_topics)\n",
    "    \n",
    "    # Print reduced model info\n",
    "    explore_basic_info(reduced_model)\n",
    "    \n",
    "    return reduced_model\n",
    "\n",
    "# Example: Reduce topics to 30\n",
    "reduced_model = reduce_and_explore(topic_model, nr_topics=30)\n"
   ]
  },
  {
   "cell_type": "code",
   "execution_count": null,
   "metadata": {},
   "outputs": [],
   "source": [
    "def visualize_topics_distribution(topic_model):\n",
    "    \"\"\"\n",
    "    Visualize the distribution of topics.\n",
    "    \"\"\"\n",
    "    print(\"Visualizing Topic Distribution...\")\n",
    "    topic_info = topic_model.get_topic_info()\n",
    "    fig, ax = plt.subplots()\n",
    "    ax.bar(topic_info['Topic'], topic_info['Count'])\n",
    "    ax.set_xlabel('Topic')\n",
    "    ax.set_ylabel('Number of Documents')\n",
    "    ax.set_title('Topic Distribution')\n",
    "    plt.show()\n",
    "\n",
    "# Visualize topic distribution of the reduced model\n",
    "visualize_topics_distribution(reduced_model)\n"
   ]
  },
  {
   "cell_type": "code",
   "execution_count": null,
   "metadata": {},
   "outputs": [],
   "source": [
    "def explore_topic_diversity(topic_model):\n",
    "    \"\"\"\n",
    "    Explore the diversity of topics.\n",
    "    \"\"\"\n",
    "    print(\"Exploring Topic Diversity...\")\n",
    "    diversity_scores = topic_model.topic_diversity(topic_model.topics_)\n",
    "    print(f\"Average Topic Diversity: {sum(diversity_scores)/len(diversity_scores)}\")\n",
    "    \n",
    "    # Print diversity of the first few topics\n",
    "    for i in range(5):\n",
    "        print(f\"Topic {i} Diversity: {diversity_scores[i]}\")\n",
    "    \n",
    "    print(\"\\n\" + \"-\"*50 + \"\\n\")\n",
    "\n",
    "# Call the function to explore topic diversity\n",
    "explore_topic_diversity(reduced_model)\n"
   ]
  },
  {
   "cell_type": "code",
   "execution_count": null,
   "metadata": {},
   "outputs": [],
   "source": [
    "# Try reducing to a different number of topics\n",
    "nr_topics = 50\n",
    "reduced_model_50 = reduce_and_explore(topic_model, nr_topics=nr_topics)\n",
    "\n",
    "# Visualize topic distribution after further reduction\n",
    "visualize_topics_distribution(reduced_model_50)\n"
   ]
  },
  {
   "cell_type": "code",
   "execution_count": null,
   "metadata": {},
   "outputs": [],
   "source": [
    "# Save the reduced model\n",
    "reduced_model.save(\"path_to_save_reduced_model\")\n",
    "print(\"Reduced model saved.\")\n"
   ]
  }
 ],
 "metadata": {
  "kernelspec": {
   "display_name": "bert_ma",
   "language": "python",
   "name": "python3"
  },
  "language_info": {
   "codemirror_mode": {
    "name": "ipython",
    "version": 3
   },
   "file_extension": ".py",
   "mimetype": "text/x-python",
   "name": "python",
   "nbconvert_exporter": "python",
   "pygments_lexer": "ipython3",
   "version": "3.12.4"
  }
 },
 "nbformat": 4,
 "nbformat_minor": 2
}
