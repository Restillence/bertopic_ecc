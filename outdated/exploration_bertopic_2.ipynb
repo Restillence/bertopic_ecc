{
 "cells": [
  {
   "cell_type": "code",
   "execution_count": 6,
   "metadata": {},
   "outputs": [],
   "source": [
    "#exploration erstes zeroshot model mit 7 topics + outlier sehr aufschlussreich! bertopic_model_dir_400_100_zeroshot\n",
    "import json\n",
    "from bertopic import BERTopic\n",
    "from sentence_transformers import SentenceTransformer\n",
    "\n",
    "\n",
    "# Load configuration from config.json\n",
    "config_file_path = r'C:\\Users\\nikla\\OneDrive\\Dokumente\\winfoMaster\\Masterarbeit\\bertopic_ecc\\config.json'\n",
    "with open(config_file_path, 'r') as f:\n",
    "    config = json.load(f)\n",
    "\n",
    "# Extract the model load path from the config\n",
    "model_load_path = config[\"model_load_path\"]\n",
    "embedding_model= config[\"embedding_model_choice\"]\n",
    "embedding_model = SentenceTransformer(embedding_model)\n",
    "\n",
    "# Load the trained BERTopic model\n",
    "topic_model = BERTopic.load(model_load_path, embedding_model=embedding_model)"
   ]
  },
  {
   "cell_type": "code",
   "execution_count": null,
   "metadata": {},
   "outputs": [],
   "source": [
    "# Define the number of words you want to see for each topic\n",
    "n_words = 20  # Change this to any number of words you want to see\n",
    "\n",
    "# Get the topics with the specified number of words\n",
    "for topic_id in range(len(topic_model.get_topics())):\n",
    "    print(f\"Topic {topic_id}:\")\n",
    "    print(topic_model.get_topic(topic_id)[:n_words])  # Show top n words for each topic\n",
    "    print(\"\\n\")"
   ]
  },
  {
   "cell_type": "code",
   "execution_count": 7,
   "metadata": {},
   "outputs": [
    {
     "name": "stdout",
     "output_type": "stream",
     "text": [
      "     Topic    Count                                               Name  \\\n",
      "0       -1  1699758             -1_earnings_revenues_revenue_financial   \n",
      "1        0    41247         0_cash flow_cash_balance sheet_investments   \n",
      "2        1    23519              1_open_questions_closing_look forward   \n",
      "3        2    18485         2_strategic_success_profitability_business   \n",
      "4        3    15369            3_financial results_future_risk_results   \n",
      "..     ...      ...                                                ...   \n",
      "305    304      308  304_results quarter_quarter results_conference...   \n",
      "306    305      308               305_production_decrease_sales_demand   \n",
      "307    306      307                306_sales_profit_production_markets   \n",
      "308    307      306  307_cash flow_production_profitable_financial ...   \n",
      "309    308      303              308_changes_anticipated_technology_30   \n",
      "\n",
      "                                        Representation  Representative_Docs  \n",
      "0    [earnings, revenues, revenue, financial, expen...                  NaN  \n",
      "1    [cash flow, cash, balance sheet, investments, ...                  NaN  \n",
      "2    [open, questions, closing, look forward, calls...                  NaN  \n",
      "3    [strategic, success, profitability, business, ...                  NaN  \n",
      "4    [financial results, future, risk, results, ant...                  NaN  \n",
      "..                                                 ...                  ...  \n",
      "305  [results quarter, quarter results, conference,...                  NaN  \n",
      "306  [production, decrease, sales, demand, increase...                  NaN  \n",
      "307  [sales, profit, production, markets, gains, ma...                  NaN  \n",
      "308  [cash flow, production, profitable, financial ...                  NaN  \n",
      "309  [changes, anticipated, technology, 30, improve...                  NaN  \n",
      "\n",
      "[310 rows x 5 columns]\n"
     ]
    }
   ],
   "source": [
    "# Get the topic information\n",
    "topic_info = topic_model.get_topic_info()\n",
    "print(topic_info)\n"
   ]
  },
  {
   "cell_type": "code",
   "execution_count": null,
   "metadata": {},
   "outputs": [],
   "source": [
    "# Visualize the frequency of the topics\n",
    "topic_model.visualize_barchart()\n"
   ]
  },
  {
   "cell_type": "code",
   "execution_count": null,
   "metadata": {},
   "outputs": [],
   "source": [
    "topic_model.visualize_hierarchy()"
   ]
  },
  {
   "cell_type": "code",
   "execution_count": 73,
   "metadata": {},
   "outputs": [],
   "source": [
    "fig = topic_model.visualize_hierarchy()\n",
    "\n",
    "# Save it as an HTML file\n",
    "fig.write_html(\"hierarchy_visualization.html\")\n"
   ]
  },
  {
   "cell_type": "code",
   "execution_count": 5,
   "metadata": {},
   "outputs": [
    {
     "ename": "TypeError",
     "evalue": "BERTopic.reduce_topics() missing 1 required positional argument: 'docs'",
     "output_type": "error",
     "traceback": [
      "\u001b[1;31m---------------------------------------------------------------------------\u001b[0m",
      "\u001b[1;31mTypeError\u001b[0m                                 Traceback (most recent call last)",
      "Cell \u001b[1;32mIn[5], line 2\u001b[0m\n\u001b[0;32m      1\u001b[0m \u001b[38;5;66;03m#reduce the number of topics\u001b[39;00m\n\u001b[1;32m----> 2\u001b[0m reduced_model \u001b[38;5;241m=\u001b[39m \u001b[43mtopic_model\u001b[49m\u001b[38;5;241;43m.\u001b[39;49m\u001b[43mreduce_topics\u001b[49m\u001b[43m(\u001b[49m\u001b[43mnr_topics\u001b[49m\u001b[38;5;241;43m=\u001b[39;49m\u001b[38;5;241;43m50\u001b[39;49m\u001b[43m)\u001b[49m\n",
      "\u001b[1;31mTypeError\u001b[0m: BERTopic.reduce_topics() missing 1 required positional argument: 'docs'"
     ]
    }
   ],
   "source": [
    "#reduce the number of topics\n",
    "reduced_model = topic_model.reduce_topics(nr_topics=50)\n"
   ]
  },
  {
   "cell_type": "code",
   "execution_count": null,
   "metadata": {},
   "outputs": [],
   "source": [
    "# Visualize the topic similarity\n",
    "topic_model.visualize_topics()\n"
   ]
  },
  {
   "cell_type": "code",
   "execution_count": null,
   "metadata": {},
   "outputs": [],
   "source": [
    "# Visualize the score distribution of the terms within each topic\n",
    "topic_model.visualize_term_rank()\n"
   ]
  },
  {
   "cell_type": "code",
   "execution_count": null,
   "metadata": {},
   "outputs": [],
   "source": [
    "# Visualize the documents in UMAP space\n",
    "topic_model.visualize_documents()\n"
   ]
  },
  {
   "cell_type": "code",
   "execution_count": null,
   "metadata": {},
   "outputs": [],
   "source": [
    "# Access terms for a specific topic\n",
    "topic_id = 6  # Change to the topic ID you want to explore\n",
    "topic_terms = topic_model.get_topic(topic_id)\n",
    "print(topic_terms)\n"
   ]
  }
 ],
 "metadata": {
  "kernelspec": {
   "display_name": "bert_ma",
   "language": "python",
   "name": "python3"
  },
  "language_info": {
   "codemirror_mode": {
    "name": "ipython",
    "version": 3
   },
   "file_extension": ".py",
   "mimetype": "text/x-python",
   "name": "python",
   "nbconvert_exporter": "python",
   "pygments_lexer": "ipython3",
   "version": "3.12.4"
  }
 },
 "nbformat": 4,
 "nbformat_minor": 2
}
