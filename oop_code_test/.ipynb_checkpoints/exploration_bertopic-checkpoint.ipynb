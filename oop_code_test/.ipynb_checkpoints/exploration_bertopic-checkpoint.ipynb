{
 "cells": [
  {
   "cell_type": "code",
   "execution_count": null,
   "metadata": {},
   "outputs": [],
   "source": [
    "from bertopic import BERTopic\n",
    "import json\n",
    "from file_handling import FileHandler  # Import the FileHandler class\n",
    "from text_processing import TextProcessor  # Import the TextProcessor class"
   ]
  },
  {
   "cell_type": "code",
   "execution_count": null,
   "metadata": {},
   "outputs": [],
   "source": [
    "# Setup\n",
    "# Load configuration\n",
    "with open('config.json', 'r') as config_file:\n",
    "    config = json.load(config_file)\n",
    "\n",
    "# Extract variables from the config\n",
    "folderpath_ecc = config[\"folderpath_ecc\"]\n",
    "index_file_path = config[\"index_file_path\"]\n",
    "embeddings_path = config[\"embeddings_path\"]\n",
    "sample_size = config[\"sample_size\"]\n",
    "document_split = config[\"document_split\"]\n",
    "random_seed = config[\"random_seed\"]\n",
    "section_to_analyze = config[\"section_to_analyze\"]\n",
    "max_documents = config[\"max_documents\"]\n",
    "model_save_path = config[\"model_save_path\"]\n",
    "file_handler = FileHandler(index_file_path=index_file_path, folderpath_ecc=folderpath_ecc)\n",
    "text_processor = TextProcessor(method=document_split, section_to_analyze=section_to_analyze)\n"
   ]
  },
  {
   "cell_type": "code",
   "execution_count": null,
   "metadata": {},
   "outputs": [],
   "source": [
    "# Create the sample and extract relevant sections\n",
    "index_file = self.file_handler.read_index_file()\n",
    "ecc_sample = self.file_handler.create_ecc_sample(sample_size)\n",
    "all_relevant_sections = self.text_processor.extract_all_relevant_sections(ecc_sample, max_documents)"
   ]
  }
 ],
 "metadata": {
  "language_info": {
   "name": "python"
  }
 },
 "nbformat": 4,
 "nbformat_minor": 2
}
