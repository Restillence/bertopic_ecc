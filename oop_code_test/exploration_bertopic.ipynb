{
 "cells": [
  {
   "cell_type": "code",
   "execution_count": 2,
   "metadata": {},
   "outputs": [],
   "source": [
    "from bertopic import BERTopic\n",
    "from file_handling import FileHandler  # Import the FileHandler class\n",
    "from text_processing import TextProcessor  # Import the TextProcessor class"
   ]
  },
  {
   "cell_type": "code",
   "execution_count": 31,
   "metadata": {},
   "outputs": [],
   "source": [
    "# Setup\n",
    "# Paths\n",
    "index_file_ecc_folder = \"D:/daten_masterarbeit/\"\n",
    "folderpath_ecc = \"D:/daten_masterarbeit/Transcripts_Masterarbeit_full/\"\n",
    "model_save_path = \"D:/daten_masterarbeit/bertopic_model.pkl\"\n",
    "index_file_path = \"D:/daten_masterarbeit/list_earnings_call_transcripts.csv\"\n",
    "embeddings_path = \"D:/daten_masterarbeit/finbert_embeddings.npy\"\n",
    "\n",
    "# Configuration\n",
    "sample_size = 300\n",
    "document_split = \"paragraphs\"\n",
    "random_seed = 42\n",
    "section_to_analyze = \"Presentation\"\n",
    "max_documents = 30000\n",
    "\n",
    "\n",
    "\n",
    "file_handler = FileHandler(index_file_path=index_file_path, folderpath_ecc=folderpath_ecc)\n",
    "text_processor = TextProcessor(method=document_split, section_to_analyze=section_to_analyze)\n"
   ]
  },
  {
   "cell_type": "code",
   "execution_count": 32,
   "metadata": {},
   "outputs": [
    {
     "name": "stdout",
     "output_type": "stream",
     "text": [
      "All files in directory: ['earnings_call_10053_1405785.txt', 'earnings_call_10053_3087559.txt', 'earnings_call_10053_3264115.txt', 'earnings_call_10053_3495328.txt', 'earnings_call_10053_3838748.txt', 'earnings_call_10053_3978736.txt', 'earnings_call_10053_4168241.txt', 'earnings_call_10053_4240123.txt', 'earnings_call_10053_4711496.txt', 'earnings_call_10053_4825244.txt']\n",
      "Starting to create ECC sample...\n",
      "Found 2 files for permco 40975\n",
      "Found 18 files for permco 53351\n",
      "Found 73 files for permco 2191\n",
      "Found 22 files for permco 54299\n",
      "Found 24 files for permco 15963\n",
      "Found 7 files for permco 7099\n",
      "Found 61 files for permco 7343\n",
      "Found 74 files for permco 43332\n",
      "Found 20 files for permco 15052\n",
      "Found 30 files for permco 4211\n",
      "Found 41 files for permco 43910\n",
      "Found 46 files for permco 7459\n",
      "Found 34 files for permco 13181\n",
      "Found 25 files for permco 11830\n",
      "Found 16 files for permco 16412\n",
      "Found 24 files for permco 20252\n",
      "Found 7 files for permco 44712\n",
      "Found 3 files for permco 44905\n",
      "Found 23 files for permco 32051\n",
      "Found 70 files for permco 11606\n",
      "Found 64 files for permco 15037\n",
      "Found 14 files for permco 55527\n",
      "Found 8 files for permco 7922\n",
      "Found 29 files for permco 54561\n",
      "Found 7 files for permco 56679\n",
      "Found 54 files for permco 30922\n",
      "Found 28 files for permco 11724\n",
      "Found 15 files for permco 6282\n",
      "Found 55 files for permco 44999\n",
      "Found 7 files for permco 37135\n",
      "Found 15 files for permco 53291\n",
      "Found 75 files for permco 781\n",
      "Found 45 files for permco 14432\n",
      "Found 74 files for permco 14659\n",
      "Found 7 files for permco 55238\n",
      "Found 5 files for permco 56860\n",
      "Found 12 files for permco 47449\n",
      "Found 19 files for permco 54780\n",
      "Found 40 files for permco 53554\n",
      "Found 3 files for permco 9478\n",
      "Found 13 files for permco 54899\n",
      "Found 72 files for permco 20518\n",
      "Found 77 files for permco 7863\n",
      "Found 52 files for permco 3682\n",
      "Found 71 files for permco 4761\n",
      "Found 34 files for permco 12321\n",
      "Found 67 files for permco 10467\n",
      "Found 69 files for permco 16182\n",
      "Found 10 files for permco 26082\n",
      "Found 60 files for permco 48778\n",
      "Found 11 files for permco 48802\n",
      "Found 16 files for permco 38418\n",
      "Found 1 files for permco 7050\n",
      "Found 16 files for permco 55718\n",
      "Found 17 files for permco 34698\n",
      "Found 75 files for permco 16402\n",
      "Found 20 files for permco 13340\n",
      "Found 12 files for permco 15961\n",
      "Found 16 files for permco 15022\n",
      "Found 4 files for permco 51559\n",
      "Found 47 files for permco 1807\n",
      "Found 5 files for permco 56773\n",
      "Found 1 files for permco 44879\n",
      "Found 12 files for permco 21266\n",
      "Found 37 files for permco 53678\n",
      "Found 55 files for permco 52115\n",
      "Found 18 files for permco 15670\n",
      "Found 22 files for permco 54825\n",
      "Found 3 files for permco 1519\n",
      "Found 2 files for permco 11852\n",
      "Found 55 files for permco 9847\n",
      "Found 1 files for permco 12118\n",
      "Found 9 files for permco 18347\n",
      "Found 62 files for permco 1425\n",
      "Found 49 files for permco 45196\n",
      "Found 9 files for permco 47881\n",
      "Found 21 files for permco 20837\n",
      "Found 40 files for permco 9058\n",
      "Found 18 files for permco 29794\n",
      "Found 75 files for permco 2709\n",
      "Found 2 files for permco 55621\n",
      "Found 1 files for permco 57265\n",
      "Found 2 files for permco 57223\n",
      "Found 41 files for permco 12978\n",
      "Found 45 files for permco 53108\n",
      "Found 2 files for permco 16477\n",
      "Found 32 files for permco 20819\n",
      "Found 25 files for permco 55114\n",
      "Found 24 files for permco 55026\n",
      "Found 27 files for permco 14039\n",
      "Found 39 files for permco 52874\n",
      "Found 2 files for permco 14045\n",
      "Found 8 files for permco 9999\n",
      "Found 16 files for permco 55452\n",
      "Found 19 files for permco 6295\n",
      "Found 18 files for permco 55601\n",
      "Found 75 files for permco 20557\n",
      "Found 75 files for permco 21322\n",
      "Found 75 files for permco 35222\n",
      "Found 19 files for permco 16212\n",
      "Found 12 files for permco 52522\n",
      "Found 7 files for permco 2111\n",
      "Found 36 files for permco 53989\n",
      "Found 31 files for permco 15932\n",
      "Found 37 files for permco 53810\n",
      "Found 12 files for permco 13735\n",
      "Found 4 files for permco 13012\n",
      "Found 2 files for permco 57180\n",
      "Found 42 files for permco 53467\n",
      "Found 52 files for permco 21949\n",
      "Found 2 files for permco 53193\n",
      "Found 26 files for permco 47448\n",
      "Found 12 files for permco 52679\n",
      "Found 20 files for permco 15372\n",
      "Found 14 files for permco 54219\n",
      "Found 14 files for permco 54849\n",
      "Found 14 files for permco 41271\n",
      "Found 51 files for permco 11248\n",
      "Found 35 files for permco 53931\n",
      "Found 16 files for permco 21090\n",
      "Found 14 files for permco 55581\n",
      "Found 43 files for permco 53332\n",
      "Found 7 files for permco 56708\n",
      "Found 40 files for permco 53622\n",
      "Found 41 files for permco 20397\n",
      "Found 3 files for permco 13226\n",
      "Found 51 files for permco 16422\n",
      "Found 71 files for permco 14801\n",
      "Found 17 files for permco 29493\n",
      "Found 29 files for permco 11066\n",
      "Found 35 files for permco 16864\n",
      "Found 40 files for permco 53185\n",
      "Found 1 files for permco 57241\n",
      "Found 14 files for permco 55994\n",
      "Found 1 files for permco 20102\n",
      "Found 71 files for permco 42915\n",
      "Found 3 files for permco 54158\n",
      "Found 79 files for permco 20950\n",
      "Found 15 files for permco 55124\n",
      "Found 7 files for permco 44378\n",
      "Found 71 files for permco 5957\n",
      "Found 5 files for permco 53838\n",
      "Found 8 files for permco 34784\n",
      "Found 20 files for permco 54817\n",
      "Found 8 files for permco 53043\n",
      "Found 27 files for permco 54772\n",
      "Found 8 files for permco 44990\n",
      "Found 1 files for permco 8727\n",
      "Found 19 files for permco 8127\n",
      "Found 15 files for permco 52880\n",
      "Found 10 files for permco 16744\n",
      "Found 17 files for permco 15680\n",
      "Found 17 files for permco 55701\n",
      "Found 31 files for permco 21049\n",
      "Found 10 files for permco 6301\n",
      "Found 3 files for permco 40977\n",
      "Found 13 files for permco 53853\n",
      "Found 52 files for permco 12147\n",
      "Found 7 files for permco 11004\n",
      "Found 76 files for permco 45379\n",
      "Found 1 files for permco 16598\n",
      "Found 18 files for permco 55623\n",
      "Found 58 files for permco 14262\n",
      "Found 42 files for permco 53383\n",
      "Found 9 files for permco 16473\n",
      "Found 75 files for permco 12011\n",
      "Found 2 files for permco 37151\n",
      "Found 74 files for permco 4234\n",
      "Found 4 files for permco 2427\n",
      "Found 17 files for permco 3719\n",
      "Found 30 files for permco 22168\n",
      "Found 19 files for permco 16368\n",
      "Found 1 files for permco 45992\n",
      "Found 18 files for permco 52885\n",
      "Found 3 files for permco 57037\n",
      "Found 5 files for permco 52552\n",
      "Found 21 files for permco 1768\n",
      "Found 58 files for permco 13991\n",
      "Found 12 files for permco 11207\n",
      "Found 1 files for permco 21214\n",
      "Found 21 files for permco 55400\n",
      "Found 63 files for permco 4096\n",
      "Found 1 files for permco 11055\n",
      "Found 5 files for permco 15707\n",
      "Found 21 files for permco 1405\n",
      "Found 26 files for permco 11467\n",
      "Found 17 files for permco 55705\n",
      "Found 16 files for permco 54808\n",
      "Found 19 files for permco 8290\n",
      "Found 69 files for permco 11479\n",
      "Found 55 files for permco 51811\n",
      "Found 18 files for permco 54400\n",
      "Found 2 files for permco 55478\n",
      "Found 14 files for permco 39166\n",
      "Found 12 files for permco 27553\n",
      "Found 18 files for permco 21696\n",
      "Found 30 files for permco 51111\n",
      "Found 12 files for permco 56210\n",
      "Found 73 files for permco 7094\n",
      "Found 41 files for permco 52674\n",
      "Found 75 files for permco 21177\n",
      "Found 24 files for permco 10741\n",
      "Found 25 files for permco 15547\n",
      "Found 63 files for permco 43857\n",
      "Found 69 files for permco 20997\n",
      "Found 29 files for permco 15534\n",
      "Found 57 files for permco 16123\n",
      "Found 22 files for permco 54939\n",
      "Found 13 files for permco 53424\n",
      "Found 9 files for permco 16400\n",
      "Found 2 files for permco 17204\n",
      "Found 19 files for permco 55537\n",
      "Found 7 files for permco 44522\n",
      "Found 75 files for permco 21294\n",
      "Found 6 files for permco 52667\n",
      "Found 15 files for permco 38438\n",
      "Found 75 files for permco 21224\n",
      "Found 20 files for permco 4373\n",
      "Found 15 files for permco 55542\n",
      "Found 68 files for permco 29930\n",
      "Found 1 files for permco 9205\n",
      "Found 27 files for permco 16488\n",
      "Found 60 files for permco 50184\n",
      "Found 74 files for permco 12608\n",
      "Found 69 files for permco 31386\n",
      "Found 8 files for permco 53417\n",
      "Found 39 files for permco 21164\n",
      "Found 72 files for permco 3219\n",
      "Found 35 files for permco 53284\n"
     ]
    },
    {
     "ename": "KeyboardInterrupt",
     "evalue": "",
     "output_type": "error",
     "traceback": [
      "\u001b[1;31m---------------------------------------------------------------------------\u001b[0m",
      "\u001b[1;31mKeyboardInterrupt\u001b[0m                         Traceback (most recent call last)",
      "Cell \u001b[1;32mIn[32], line 3\u001b[0m\n\u001b[0;32m      1\u001b[0m \u001b[38;5;66;03m# Create the sample and extract relevant sections\u001b[39;00m\n\u001b[0;32m      2\u001b[0m index_file \u001b[38;5;241m=\u001b[39m file_handler\u001b[38;5;241m.\u001b[39mread_index_file()\n\u001b[1;32m----> 3\u001b[0m ecc_sample \u001b[38;5;241m=\u001b[39m \u001b[43mfile_handler\u001b[49m\u001b[38;5;241;43m.\u001b[39;49m\u001b[43mcreate_ecc_sample\u001b[49m\u001b[43m(\u001b[49m\u001b[43msample_size\u001b[49m\u001b[43m)\u001b[49m\n\u001b[0;32m      4\u001b[0m all_relevant_sections \u001b[38;5;241m=\u001b[39m text_processor\u001b[38;5;241m.\u001b[39mextract_all_relevant_sections(ecc_sample, max_documents)\n",
      "File \u001b[1;32mc:\\Users\\nikla\\OneDrive\\Dokumente\\winfoMaster\\Masterarbeit\\bertopic_ecc\\oop_code_test\\file_handling.py:54\u001b[0m, in \u001b[0;36mFileHandler.create_ecc_sample\u001b[1;34m(self, sample_size)\u001b[0m\n\u001b[0;32m     51\u001b[0m     date \u001b[38;5;241m=\u001b[39m \u001b[38;5;124m'\u001b[39m\u001b[38;5;124mUnknown\u001b[39m\u001b[38;5;124m'\u001b[39m\n\u001b[0;32m     52\u001b[0m     \u001b[38;5;28mprint\u001b[39m(\u001b[38;5;124mf\u001b[39m\u001b[38;5;124m\"\u001b[39m\u001b[38;5;124mSE_ID \u001b[39m\u001b[38;5;132;01m{\u001b[39;00mse_id\u001b[38;5;132;01m}\u001b[39;00m\u001b[38;5;124m not found in index file for permco \u001b[39m\u001b[38;5;132;01m{\u001b[39;00mpermco\u001b[38;5;132;01m}\u001b[39;00m\u001b[38;5;124m\"\u001b[39m)\n\u001b[1;32m---> 54\u001b[0m \u001b[38;5;28;01mwith\u001b[39;00m \u001b[38;5;28;43mopen\u001b[39;49m\u001b[43m(\u001b[49m\u001b[43mos\u001b[49m\u001b[38;5;241;43m.\u001b[39;49m\u001b[43mpath\u001b[49m\u001b[38;5;241;43m.\u001b[39;49m\u001b[43mjoin\u001b[49m\u001b[43m(\u001b[49m\u001b[38;5;28;43mself\u001b[39;49m\u001b[38;5;241;43m.\u001b[39;49m\u001b[43mfolderpath_ecc\u001b[49m\u001b[43m,\u001b[49m\u001b[43m \u001b[49m\u001b[43mecc_file\u001b[49m\u001b[43m)\u001b[49m\u001b[43m,\u001b[49m\u001b[43m \u001b[49m\u001b[38;5;124;43m'\u001b[39;49m\u001b[38;5;124;43mr\u001b[39;49m\u001b[38;5;124;43m'\u001b[39;49m\u001b[43m,\u001b[49m\u001b[43m \u001b[49m\u001b[43mencoding\u001b[49m\u001b[38;5;241;43m=\u001b[39;49m\u001b[38;5;124;43m'\u001b[39;49m\u001b[38;5;124;43mutf-8\u001b[39;49m\u001b[38;5;124;43m'\u001b[39;49m\u001b[43m)\u001b[49m \u001b[38;5;28;01mas\u001b[39;00m file:\n\u001b[0;32m     55\u001b[0m     text_content \u001b[38;5;241m=\u001b[39m file\u001b[38;5;241m.\u001b[39mread()\n\u001b[0;32m     57\u001b[0m \u001b[38;5;28;01mif\u001b[39;00m permco \u001b[38;5;129;01mnot\u001b[39;00m \u001b[38;5;129;01min\u001b[39;00m ecc_sample:\n",
      "File \u001b[1;32m<frozen codecs>:309\u001b[0m, in \u001b[0;36m__init__\u001b[1;34m(self, errors)\u001b[0m\n",
      "\u001b[1;31mKeyboardInterrupt\u001b[0m: "
     ]
    }
   ],
   "source": [
    "# Create the sample and extract relevant sections\n",
    "index_file = file_handler.read_index_file()\n",
    "ecc_sample = file_handler.create_ecc_sample(sample_size)\n",
    "all_relevant_sections = text_processor.extract_all_relevant_sections(ecc_sample, max_documents)\n",
    "\n"
   ]
  },
  {
   "cell_type": "code",
   "execution_count": 15,
   "metadata": {},
   "outputs": [
    {
     "name": "stdout",
     "output_type": "stream",
     "text": [
      "['================================================================================\\nPresentation', 'Operator   [1]', \"Good afternoon, ladies and gentlemen. Thank you for standing by. Welcome to the Raven Industries fourth-quarter 2005 earnings conference call. Today's call is being recorded. At this time all participants are in a listen-only mode. Following the presentation we will conduct a question-and-answer session. Instructions will be provided at that time for you to queue up for questions. I would like to remind everyone that this conference is being recorded. And now I would like to turn the conference over to Leslie Loyet of the Financial Relations Board. Please go ahead, ma'am\", '--------------------------------------------------------------------------------\\n Leslie Loyet,  Raven Industries, Inc. - IR   [2]', \"I would like to thank everyone for joining us today. Earlier today we sent out a press release outlining the results for the fourth-quarter and year end. If anyone has not received the release, please call Cemir Patel (ph) at 312-640-6771 and he will send you a copy immediately or visit Ravens' website at www.RavenIND.com to retrieve a copy. Joining us today from management of Raven Industries we have Ron Moquist, President and Chief Executive Officer and Tom Iacarella, Vice President, Chief Financial Officer. Management will provide an overview of the quarter and the year, and then we open the call up to your questions\"]\n"
     ]
    }
   ],
   "source": [
    "print(all_relevant_sections[:5])"
   ]
  },
  {
   "cell_type": "code",
   "execution_count": 28,
   "metadata": {},
   "outputs": [],
   "source": [
    "topic_model = BERTopic(embedding_model = \"all-MiniLM-L6-v2\")"
   ]
  },
  {
   "cell_type": "code",
   "execution_count": 29,
   "metadata": {},
   "outputs": [],
   "source": [
    "topics, probs = topic_model.fit_transform(all_relevant_sections[:1000])"
   ]
  },
  {
   "cell_type": "code",
   "execution_count": 30,
   "metadata": {},
   "outputs": [
    {
     "data": {
      "application/vnd.plotly.v1+json": {
       "config": {
        "plotlyServerURL": "https://plot.ly"
       },
       "data": [
        {
         "customdata": [
          [
           0,
           "conference | call | raven | welcome | recorded",
           74
          ],
          [
           1,
           "and | raven | the | of | our",
           64
          ],
          [
           2,
           "electronic | and | we | systems | business",
           61
          ],
          [
           3,
           "cash | we | dividend | to | million",
           40
          ],
          [
           4,
           "sales | film | disaster | million | films",
           32
          ],
          [
           5,
           "aerostar | balloon | and | altitude | for",
           31
          ],
          [
           6,
           "turn | call | questions | comments | to",
           30
          ],
          [
           7,
           "our | in | atd | we | ag",
           30
          ],
          [
           8,
           "operator |  |  |  | ",
           30
          ],
          [
           9,
           "presentation |  |  |  | ",
           30
          ],
          [
           10,
           "you | thank | we | and | thanks",
           30
          ],
          [
           11,
           " |  |  |  | ",
           29
          ],
          [
           12,
           "flow | controls | sales | and | in",
           29
          ],
          [
           13,
           "quarter | fourth | year | the | will",
           26
          ],
          [
           14,
           "president | rykhus | chief | officer | daniel",
           25
          ],
          [
           15,
           "vp | relations | board | industries | treasurer",
           25
          ],
          [
           16,
           "efd | cli | market | geomembrane | the",
           23
          ],
          [
           17,
           "statements | call | forward | looking | made",
           23
          ],
          [
           18,
           "contract | parachute | parachutes | aerostar | we",
           23
          ],
          [
           19,
           "ceo | moquist | ron | incorporated | industries",
           22
          ],
          [
           20,
           "barrier | and | radon | new | product",
           20
          ],
          [
           21,
           "steering | tractor | gps | products | and",
           19
          ],
          [
           22,
           "aerostar | division | year | sales | million",
           19
          ],
          [
           23,
           "copy | release | thank | retrieve | outlining",
           18
          ],
          [
           24,
           "resin | raw | price | plastic | increases",
           18
          ],
          [
           25,
           "films | markets | we | capacity | equipment",
           17
          ],
          [
           26,
           "operating | we | sales | divisions | margins",
           13
          ]
         ],
         "hovertemplate": "<b>Topic %{customdata[0]}</b><br>%{customdata[1]}<br>Size: %{customdata[2]}",
         "legendgroup": "",
         "marker": {
          "color": "#B0BEC5",
          "line": {
           "color": "DarkSlateGrey",
           "width": 2
          },
          "size": [
           74,
           64,
           61,
           40,
           32,
           31,
           30,
           30,
           30,
           30,
           30,
           29,
           29,
           26,
           25,
           25,
           23,
           23,
           23,
           22,
           20,
           19,
           19,
           18,
           18,
           17,
           13
          ],
          "sizemode": "area",
          "sizeref": 0.04625,
          "symbol": "circle"
         },
         "mode": "markers",
         "name": "",
         "orientation": "v",
         "showlegend": false,
         "type": "scatter",
         "x": [
          15.492609024047852,
          14.776029586791992,
          1.4261713027954102,
          2.2662012577056885,
          15.78476333618164,
          9.343116760253906,
          15.838764190673828,
          7.951889991760254,
          16.089244842529297,
          19.81363868713379,
          14.916807174682617,
          19.640419006347656,
          1.4555561542510986,
          2.0924324989318848,
          11.298948287963867,
          11.249128341674805,
          8.10808277130127,
          15.299034118652344,
          9.093273162841797,
          10.974316596984863,
          16.248050689697266,
          8.029698371887207,
          9.456463813781738,
          14.738182067871094,
          16.359844207763672,
          15.993678092956543,
          1.8550435304641724
         ],
         "xaxis": "x",
         "y": [
          -16.02777099609375,
          -15.356466293334961,
          5.7356719970703125,
          5.65350341796875,
          22.512056350708008,
          -2.909057140350342,
          -16.105079650878906,
          13.27739143371582,
          -16.275793075561523,
          7.693894863128662,
          -15.60875415802002,
          7.867133140563965,
          5.828317165374756,
          5.1686930656433105,
          4.340792655944824,
          4.388346195220947,
          13.12115478515625,
          -16.249258041381836,
          -2.6588807106018066,
          4.663389682769775,
          22.97541618347168,
          13.199446678161621,
          -3.022627353668213,
          -15.709620475769043,
          23.08717155456543,
          22.721172332763672,
          5.370568752288818
         ],
         "yaxis": "y"
        }
       ],
       "layout": {
        "annotations": [
         {
          "showarrow": false,
          "text": "D1",
          "x": 1.2122456073760985,
          "y": 3.9165426254272475,
          "yshift": 10
         },
         {
          "showarrow": false,
          "text": "D2",
          "x": 11.998965048789977,
          "xshift": 10,
          "y": 26.550247287750246
         }
        ],
        "height": 650,
        "hoverlabel": {
         "bgcolor": "white",
         "font": {
          "family": "Rockwell",
          "size": 16
         }
        },
        "legend": {
         "itemsizing": "constant",
         "tracegroupgap": 0
        },
        "margin": {
         "t": 60
        },
        "shapes": [
         {
          "line": {
           "color": "#CFD8DC",
           "width": 2
          },
          "type": "line",
          "x0": 11.998965048789977,
          "x1": 11.998965048789977,
          "y0": -18.71716203689575,
          "y1": 26.550247287750246
         },
         {
          "line": {
           "color": "#9E9E9E",
           "width": 2
          },
          "type": "line",
          "x0": 1.2122456073760985,
          "x1": 22.785684490203856,
          "y0": 3.9165426254272475,
          "y1": 3.9165426254272475
         }
        ],
        "sliders": [
         {
          "active": 0,
          "pad": {
           "t": 50
          },
          "steps": [
           {
            "args": [
             {
              "marker.color": [
               [
                "red",
                "#B0BEC5",
                "#B0BEC5",
                "#B0BEC5",
                "#B0BEC5",
                "#B0BEC5",
                "#B0BEC5",
                "#B0BEC5",
                "#B0BEC5",
                "#B0BEC5",
                "#B0BEC5",
                "#B0BEC5",
                "#B0BEC5",
                "#B0BEC5",
                "#B0BEC5",
                "#B0BEC5",
                "#B0BEC5",
                "#B0BEC5",
                "#B0BEC5",
                "#B0BEC5",
                "#B0BEC5",
                "#B0BEC5",
                "#B0BEC5",
                "#B0BEC5",
                "#B0BEC5",
                "#B0BEC5",
                "#B0BEC5"
               ]
              ]
             }
            ],
            "label": "Topic 0",
            "method": "update"
           },
           {
            "args": [
             {
              "marker.color": [
               [
                "#B0BEC5",
                "red",
                "#B0BEC5",
                "#B0BEC5",
                "#B0BEC5",
                "#B0BEC5",
                "#B0BEC5",
                "#B0BEC5",
                "#B0BEC5",
                "#B0BEC5",
                "#B0BEC5",
                "#B0BEC5",
                "#B0BEC5",
                "#B0BEC5",
                "#B0BEC5",
                "#B0BEC5",
                "#B0BEC5",
                "#B0BEC5",
                "#B0BEC5",
                "#B0BEC5",
                "#B0BEC5",
                "#B0BEC5",
                "#B0BEC5",
                "#B0BEC5",
                "#B0BEC5",
                "#B0BEC5",
                "#B0BEC5"
               ]
              ]
             }
            ],
            "label": "Topic 1",
            "method": "update"
           },
           {
            "args": [
             {
              "marker.color": [
               [
                "#B0BEC5",
                "#B0BEC5",
                "red",
                "#B0BEC5",
                "#B0BEC5",
                "#B0BEC5",
                "#B0BEC5",
                "#B0BEC5",
                "#B0BEC5",
                "#B0BEC5",
                "#B0BEC5",
                "#B0BEC5",
                "#B0BEC5",
                "#B0BEC5",
                "#B0BEC5",
                "#B0BEC5",
                "#B0BEC5",
                "#B0BEC5",
                "#B0BEC5",
                "#B0BEC5",
                "#B0BEC5",
                "#B0BEC5",
                "#B0BEC5",
                "#B0BEC5",
                "#B0BEC5",
                "#B0BEC5",
                "#B0BEC5"
               ]
              ]
             }
            ],
            "label": "Topic 2",
            "method": "update"
           },
           {
            "args": [
             {
              "marker.color": [
               [
                "#B0BEC5",
                "#B0BEC5",
                "#B0BEC5",
                "red",
                "#B0BEC5",
                "#B0BEC5",
                "#B0BEC5",
                "#B0BEC5",
                "#B0BEC5",
                "#B0BEC5",
                "#B0BEC5",
                "#B0BEC5",
                "#B0BEC5",
                "#B0BEC5",
                "#B0BEC5",
                "#B0BEC5",
                "#B0BEC5",
                "#B0BEC5",
                "#B0BEC5",
                "#B0BEC5",
                "#B0BEC5",
                "#B0BEC5",
                "#B0BEC5",
                "#B0BEC5",
                "#B0BEC5",
                "#B0BEC5",
                "#B0BEC5"
               ]
              ]
             }
            ],
            "label": "Topic 3",
            "method": "update"
           },
           {
            "args": [
             {
              "marker.color": [
               [
                "#B0BEC5",
                "#B0BEC5",
                "#B0BEC5",
                "#B0BEC5",
                "red",
                "#B0BEC5",
                "#B0BEC5",
                "#B0BEC5",
                "#B0BEC5",
                "#B0BEC5",
                "#B0BEC5",
                "#B0BEC5",
                "#B0BEC5",
                "#B0BEC5",
                "#B0BEC5",
                "#B0BEC5",
                "#B0BEC5",
                "#B0BEC5",
                "#B0BEC5",
                "#B0BEC5",
                "#B0BEC5",
                "#B0BEC5",
                "#B0BEC5",
                "#B0BEC5",
                "#B0BEC5",
                "#B0BEC5",
                "#B0BEC5"
               ]
              ]
             }
            ],
            "label": "Topic 4",
            "method": "update"
           },
           {
            "args": [
             {
              "marker.color": [
               [
                "#B0BEC5",
                "#B0BEC5",
                "#B0BEC5",
                "#B0BEC5",
                "#B0BEC5",
                "red",
                "#B0BEC5",
                "#B0BEC5",
                "#B0BEC5",
                "#B0BEC5",
                "#B0BEC5",
                "#B0BEC5",
                "#B0BEC5",
                "#B0BEC5",
                "#B0BEC5",
                "#B0BEC5",
                "#B0BEC5",
                "#B0BEC5",
                "#B0BEC5",
                "#B0BEC5",
                "#B0BEC5",
                "#B0BEC5",
                "#B0BEC5",
                "#B0BEC5",
                "#B0BEC5",
                "#B0BEC5",
                "#B0BEC5"
               ]
              ]
             }
            ],
            "label": "Topic 5",
            "method": "update"
           },
           {
            "args": [
             {
              "marker.color": [
               [
                "#B0BEC5",
                "#B0BEC5",
                "#B0BEC5",
                "#B0BEC5",
                "#B0BEC5",
                "#B0BEC5",
                "red",
                "#B0BEC5",
                "#B0BEC5",
                "#B0BEC5",
                "#B0BEC5",
                "#B0BEC5",
                "#B0BEC5",
                "#B0BEC5",
                "#B0BEC5",
                "#B0BEC5",
                "#B0BEC5",
                "#B0BEC5",
                "#B0BEC5",
                "#B0BEC5",
                "#B0BEC5",
                "#B0BEC5",
                "#B0BEC5",
                "#B0BEC5",
                "#B0BEC5",
                "#B0BEC5",
                "#B0BEC5"
               ]
              ]
             }
            ],
            "label": "Topic 6",
            "method": "update"
           },
           {
            "args": [
             {
              "marker.color": [
               [
                "#B0BEC5",
                "#B0BEC5",
                "#B0BEC5",
                "#B0BEC5",
                "#B0BEC5",
                "#B0BEC5",
                "#B0BEC5",
                "red",
                "#B0BEC5",
                "#B0BEC5",
                "#B0BEC5",
                "#B0BEC5",
                "#B0BEC5",
                "#B0BEC5",
                "#B0BEC5",
                "#B0BEC5",
                "#B0BEC5",
                "#B0BEC5",
                "#B0BEC5",
                "#B0BEC5",
                "#B0BEC5",
                "#B0BEC5",
                "#B0BEC5",
                "#B0BEC5",
                "#B0BEC5",
                "#B0BEC5",
                "#B0BEC5"
               ]
              ]
             }
            ],
            "label": "Topic 7",
            "method": "update"
           },
           {
            "args": [
             {
              "marker.color": [
               [
                "#B0BEC5",
                "#B0BEC5",
                "#B0BEC5",
                "#B0BEC5",
                "#B0BEC5",
                "#B0BEC5",
                "#B0BEC5",
                "#B0BEC5",
                "red",
                "#B0BEC5",
                "#B0BEC5",
                "#B0BEC5",
                "#B0BEC5",
                "#B0BEC5",
                "#B0BEC5",
                "#B0BEC5",
                "#B0BEC5",
                "#B0BEC5",
                "#B0BEC5",
                "#B0BEC5",
                "#B0BEC5",
                "#B0BEC5",
                "#B0BEC5",
                "#B0BEC5",
                "#B0BEC5",
                "#B0BEC5",
                "#B0BEC5"
               ]
              ]
             }
            ],
            "label": "Topic 8",
            "method": "update"
           },
           {
            "args": [
             {
              "marker.color": [
               [
                "#B0BEC5",
                "#B0BEC5",
                "#B0BEC5",
                "#B0BEC5",
                "#B0BEC5",
                "#B0BEC5",
                "#B0BEC5",
                "#B0BEC5",
                "#B0BEC5",
                "red",
                "#B0BEC5",
                "#B0BEC5",
                "#B0BEC5",
                "#B0BEC5",
                "#B0BEC5",
                "#B0BEC5",
                "#B0BEC5",
                "#B0BEC5",
                "#B0BEC5",
                "#B0BEC5",
                "#B0BEC5",
                "#B0BEC5",
                "#B0BEC5",
                "#B0BEC5",
                "#B0BEC5",
                "#B0BEC5",
                "#B0BEC5"
               ]
              ]
             }
            ],
            "label": "Topic 9",
            "method": "update"
           },
           {
            "args": [
             {
              "marker.color": [
               [
                "#B0BEC5",
                "#B0BEC5",
                "#B0BEC5",
                "#B0BEC5",
                "#B0BEC5",
                "#B0BEC5",
                "#B0BEC5",
                "#B0BEC5",
                "#B0BEC5",
                "#B0BEC5",
                "red",
                "#B0BEC5",
                "#B0BEC5",
                "#B0BEC5",
                "#B0BEC5",
                "#B0BEC5",
                "#B0BEC5",
                "#B0BEC5",
                "#B0BEC5",
                "#B0BEC5",
                "#B0BEC5",
                "#B0BEC5",
                "#B0BEC5",
                "#B0BEC5",
                "#B0BEC5",
                "#B0BEC5",
                "#B0BEC5"
               ]
              ]
             }
            ],
            "label": "Topic 10",
            "method": "update"
           },
           {
            "args": [
             {
              "marker.color": [
               [
                "#B0BEC5",
                "#B0BEC5",
                "#B0BEC5",
                "#B0BEC5",
                "#B0BEC5",
                "#B0BEC5",
                "#B0BEC5",
                "#B0BEC5",
                "#B0BEC5",
                "#B0BEC5",
                "#B0BEC5",
                "red",
                "#B0BEC5",
                "#B0BEC5",
                "#B0BEC5",
                "#B0BEC5",
                "#B0BEC5",
                "#B0BEC5",
                "#B0BEC5",
                "#B0BEC5",
                "#B0BEC5",
                "#B0BEC5",
                "#B0BEC5",
                "#B0BEC5",
                "#B0BEC5",
                "#B0BEC5",
                "#B0BEC5"
               ]
              ]
             }
            ],
            "label": "Topic 11",
            "method": "update"
           },
           {
            "args": [
             {
              "marker.color": [
               [
                "#B0BEC5",
                "#B0BEC5",
                "#B0BEC5",
                "#B0BEC5",
                "#B0BEC5",
                "#B0BEC5",
                "#B0BEC5",
                "#B0BEC5",
                "#B0BEC5",
                "#B0BEC5",
                "#B0BEC5",
                "#B0BEC5",
                "red",
                "#B0BEC5",
                "#B0BEC5",
                "#B0BEC5",
                "#B0BEC5",
                "#B0BEC5",
                "#B0BEC5",
                "#B0BEC5",
                "#B0BEC5",
                "#B0BEC5",
                "#B0BEC5",
                "#B0BEC5",
                "#B0BEC5",
                "#B0BEC5",
                "#B0BEC5"
               ]
              ]
             }
            ],
            "label": "Topic 12",
            "method": "update"
           },
           {
            "args": [
             {
              "marker.color": [
               [
                "#B0BEC5",
                "#B0BEC5",
                "#B0BEC5",
                "#B0BEC5",
                "#B0BEC5",
                "#B0BEC5",
                "#B0BEC5",
                "#B0BEC5",
                "#B0BEC5",
                "#B0BEC5",
                "#B0BEC5",
                "#B0BEC5",
                "#B0BEC5",
                "red",
                "#B0BEC5",
                "#B0BEC5",
                "#B0BEC5",
                "#B0BEC5",
                "#B0BEC5",
                "#B0BEC5",
                "#B0BEC5",
                "#B0BEC5",
                "#B0BEC5",
                "#B0BEC5",
                "#B0BEC5",
                "#B0BEC5",
                "#B0BEC5"
               ]
              ]
             }
            ],
            "label": "Topic 13",
            "method": "update"
           },
           {
            "args": [
             {
              "marker.color": [
               [
                "#B0BEC5",
                "#B0BEC5",
                "#B0BEC5",
                "#B0BEC5",
                "#B0BEC5",
                "#B0BEC5",
                "#B0BEC5",
                "#B0BEC5",
                "#B0BEC5",
                "#B0BEC5",
                "#B0BEC5",
                "#B0BEC5",
                "#B0BEC5",
                "#B0BEC5",
                "red",
                "#B0BEC5",
                "#B0BEC5",
                "#B0BEC5",
                "#B0BEC5",
                "#B0BEC5",
                "#B0BEC5",
                "#B0BEC5",
                "#B0BEC5",
                "#B0BEC5",
                "#B0BEC5",
                "#B0BEC5",
                "#B0BEC5"
               ]
              ]
             }
            ],
            "label": "Topic 14",
            "method": "update"
           },
           {
            "args": [
             {
              "marker.color": [
               [
                "#B0BEC5",
                "#B0BEC5",
                "#B0BEC5",
                "#B0BEC5",
                "#B0BEC5",
                "#B0BEC5",
                "#B0BEC5",
                "#B0BEC5",
                "#B0BEC5",
                "#B0BEC5",
                "#B0BEC5",
                "#B0BEC5",
                "#B0BEC5",
                "#B0BEC5",
                "#B0BEC5",
                "red",
                "#B0BEC5",
                "#B0BEC5",
                "#B0BEC5",
                "#B0BEC5",
                "#B0BEC5",
                "#B0BEC5",
                "#B0BEC5",
                "#B0BEC5",
                "#B0BEC5",
                "#B0BEC5",
                "#B0BEC5"
               ]
              ]
             }
            ],
            "label": "Topic 15",
            "method": "update"
           },
           {
            "args": [
             {
              "marker.color": [
               [
                "#B0BEC5",
                "#B0BEC5",
                "#B0BEC5",
                "#B0BEC5",
                "#B0BEC5",
                "#B0BEC5",
                "#B0BEC5",
                "#B0BEC5",
                "#B0BEC5",
                "#B0BEC5",
                "#B0BEC5",
                "#B0BEC5",
                "#B0BEC5",
                "#B0BEC5",
                "#B0BEC5",
                "#B0BEC5",
                "red",
                "#B0BEC5",
                "#B0BEC5",
                "#B0BEC5",
                "#B0BEC5",
                "#B0BEC5",
                "#B0BEC5",
                "#B0BEC5",
                "#B0BEC5",
                "#B0BEC5",
                "#B0BEC5"
               ]
              ]
             }
            ],
            "label": "Topic 16",
            "method": "update"
           },
           {
            "args": [
             {
              "marker.color": [
               [
                "#B0BEC5",
                "#B0BEC5",
                "#B0BEC5",
                "#B0BEC5",
                "#B0BEC5",
                "#B0BEC5",
                "#B0BEC5",
                "#B0BEC5",
                "#B0BEC5",
                "#B0BEC5",
                "#B0BEC5",
                "#B0BEC5",
                "#B0BEC5",
                "#B0BEC5",
                "#B0BEC5",
                "#B0BEC5",
                "#B0BEC5",
                "red",
                "#B0BEC5",
                "#B0BEC5",
                "#B0BEC5",
                "#B0BEC5",
                "#B0BEC5",
                "#B0BEC5",
                "#B0BEC5",
                "#B0BEC5",
                "#B0BEC5"
               ]
              ]
             }
            ],
            "label": "Topic 17",
            "method": "update"
           },
           {
            "args": [
             {
              "marker.color": [
               [
                "#B0BEC5",
                "#B0BEC5",
                "#B0BEC5",
                "#B0BEC5",
                "#B0BEC5",
                "#B0BEC5",
                "#B0BEC5",
                "#B0BEC5",
                "#B0BEC5",
                "#B0BEC5",
                "#B0BEC5",
                "#B0BEC5",
                "#B0BEC5",
                "#B0BEC5",
                "#B0BEC5",
                "#B0BEC5",
                "#B0BEC5",
                "#B0BEC5",
                "red",
                "#B0BEC5",
                "#B0BEC5",
                "#B0BEC5",
                "#B0BEC5",
                "#B0BEC5",
                "#B0BEC5",
                "#B0BEC5",
                "#B0BEC5"
               ]
              ]
             }
            ],
            "label": "Topic 18",
            "method": "update"
           },
           {
            "args": [
             {
              "marker.color": [
               [
                "#B0BEC5",
                "#B0BEC5",
                "#B0BEC5",
                "#B0BEC5",
                "#B0BEC5",
                "#B0BEC5",
                "#B0BEC5",
                "#B0BEC5",
                "#B0BEC5",
                "#B0BEC5",
                "#B0BEC5",
                "#B0BEC5",
                "#B0BEC5",
                "#B0BEC5",
                "#B0BEC5",
                "#B0BEC5",
                "#B0BEC5",
                "#B0BEC5",
                "#B0BEC5",
                "red",
                "#B0BEC5",
                "#B0BEC5",
                "#B0BEC5",
                "#B0BEC5",
                "#B0BEC5",
                "#B0BEC5",
                "#B0BEC5"
               ]
              ]
             }
            ],
            "label": "Topic 19",
            "method": "update"
           },
           {
            "args": [
             {
              "marker.color": [
               [
                "#B0BEC5",
                "#B0BEC5",
                "#B0BEC5",
                "#B0BEC5",
                "#B0BEC5",
                "#B0BEC5",
                "#B0BEC5",
                "#B0BEC5",
                "#B0BEC5",
                "#B0BEC5",
                "#B0BEC5",
                "#B0BEC5",
                "#B0BEC5",
                "#B0BEC5",
                "#B0BEC5",
                "#B0BEC5",
                "#B0BEC5",
                "#B0BEC5",
                "#B0BEC5",
                "#B0BEC5",
                "red",
                "#B0BEC5",
                "#B0BEC5",
                "#B0BEC5",
                "#B0BEC5",
                "#B0BEC5",
                "#B0BEC5"
               ]
              ]
             }
            ],
            "label": "Topic 20",
            "method": "update"
           },
           {
            "args": [
             {
              "marker.color": [
               [
                "#B0BEC5",
                "#B0BEC5",
                "#B0BEC5",
                "#B0BEC5",
                "#B0BEC5",
                "#B0BEC5",
                "#B0BEC5",
                "#B0BEC5",
                "#B0BEC5",
                "#B0BEC5",
                "#B0BEC5",
                "#B0BEC5",
                "#B0BEC5",
                "#B0BEC5",
                "#B0BEC5",
                "#B0BEC5",
                "#B0BEC5",
                "#B0BEC5",
                "#B0BEC5",
                "#B0BEC5",
                "#B0BEC5",
                "red",
                "#B0BEC5",
                "#B0BEC5",
                "#B0BEC5",
                "#B0BEC5",
                "#B0BEC5"
               ]
              ]
             }
            ],
            "label": "Topic 21",
            "method": "update"
           },
           {
            "args": [
             {
              "marker.color": [
               [
                "#B0BEC5",
                "#B0BEC5",
                "#B0BEC5",
                "#B0BEC5",
                "#B0BEC5",
                "#B0BEC5",
                "#B0BEC5",
                "#B0BEC5",
                "#B0BEC5",
                "#B0BEC5",
                "#B0BEC5",
                "#B0BEC5",
                "#B0BEC5",
                "#B0BEC5",
                "#B0BEC5",
                "#B0BEC5",
                "#B0BEC5",
                "#B0BEC5",
                "#B0BEC5",
                "#B0BEC5",
                "#B0BEC5",
                "#B0BEC5",
                "red",
                "#B0BEC5",
                "#B0BEC5",
                "#B0BEC5",
                "#B0BEC5"
               ]
              ]
             }
            ],
            "label": "Topic 22",
            "method": "update"
           },
           {
            "args": [
             {
              "marker.color": [
               [
                "#B0BEC5",
                "#B0BEC5",
                "#B0BEC5",
                "#B0BEC5",
                "#B0BEC5",
                "#B0BEC5",
                "#B0BEC5",
                "#B0BEC5",
                "#B0BEC5",
                "#B0BEC5",
                "#B0BEC5",
                "#B0BEC5",
                "#B0BEC5",
                "#B0BEC5",
                "#B0BEC5",
                "#B0BEC5",
                "#B0BEC5",
                "#B0BEC5",
                "#B0BEC5",
                "#B0BEC5",
                "#B0BEC5",
                "#B0BEC5",
                "#B0BEC5",
                "red",
                "#B0BEC5",
                "#B0BEC5",
                "#B0BEC5"
               ]
              ]
             }
            ],
            "label": "Topic 23",
            "method": "update"
           },
           {
            "args": [
             {
              "marker.color": [
               [
                "#B0BEC5",
                "#B0BEC5",
                "#B0BEC5",
                "#B0BEC5",
                "#B0BEC5",
                "#B0BEC5",
                "#B0BEC5",
                "#B0BEC5",
                "#B0BEC5",
                "#B0BEC5",
                "#B0BEC5",
                "#B0BEC5",
                "#B0BEC5",
                "#B0BEC5",
                "#B0BEC5",
                "#B0BEC5",
                "#B0BEC5",
                "#B0BEC5",
                "#B0BEC5",
                "#B0BEC5",
                "#B0BEC5",
                "#B0BEC5",
                "#B0BEC5",
                "#B0BEC5",
                "red",
                "#B0BEC5",
                "#B0BEC5"
               ]
              ]
             }
            ],
            "label": "Topic 24",
            "method": "update"
           },
           {
            "args": [
             {
              "marker.color": [
               [
                "#B0BEC5",
                "#B0BEC5",
                "#B0BEC5",
                "#B0BEC5",
                "#B0BEC5",
                "#B0BEC5",
                "#B0BEC5",
                "#B0BEC5",
                "#B0BEC5",
                "#B0BEC5",
                "#B0BEC5",
                "#B0BEC5",
                "#B0BEC5",
                "#B0BEC5",
                "#B0BEC5",
                "#B0BEC5",
                "#B0BEC5",
                "#B0BEC5",
                "#B0BEC5",
                "#B0BEC5",
                "#B0BEC5",
                "#B0BEC5",
                "#B0BEC5",
                "#B0BEC5",
                "#B0BEC5",
                "red",
                "#B0BEC5"
               ]
              ]
             }
            ],
            "label": "Topic 25",
            "method": "update"
           },
           {
            "args": [
             {
              "marker.color": [
               [
                "#B0BEC5",
                "#B0BEC5",
                "#B0BEC5",
                "#B0BEC5",
                "#B0BEC5",
                "#B0BEC5",
                "#B0BEC5",
                "#B0BEC5",
                "#B0BEC5",
                "#B0BEC5",
                "#B0BEC5",
                "#B0BEC5",
                "#B0BEC5",
                "#B0BEC5",
                "#B0BEC5",
                "#B0BEC5",
                "#B0BEC5",
                "#B0BEC5",
                "#B0BEC5",
                "#B0BEC5",
                "#B0BEC5",
                "#B0BEC5",
                "#B0BEC5",
                "#B0BEC5",
                "#B0BEC5",
                "#B0BEC5",
                "red"
               ]
              ]
             }
            ],
            "label": "Topic 26",
            "method": "update"
           }
          ]
         }
        ],
        "template": {
         "data": {
          "bar": [
           {
            "error_x": {
             "color": "rgb(36,36,36)"
            },
            "error_y": {
             "color": "rgb(36,36,36)"
            },
            "marker": {
             "line": {
              "color": "white",
              "width": 0.5
             },
             "pattern": {
              "fillmode": "overlay",
              "size": 10,
              "solidity": 0.2
             }
            },
            "type": "bar"
           }
          ],
          "barpolar": [
           {
            "marker": {
             "line": {
              "color": "white",
              "width": 0.5
             },
             "pattern": {
              "fillmode": "overlay",
              "size": 10,
              "solidity": 0.2
             }
            },
            "type": "barpolar"
           }
          ],
          "carpet": [
           {
            "aaxis": {
             "endlinecolor": "rgb(36,36,36)",
             "gridcolor": "white",
             "linecolor": "white",
             "minorgridcolor": "white",
             "startlinecolor": "rgb(36,36,36)"
            },
            "baxis": {
             "endlinecolor": "rgb(36,36,36)",
             "gridcolor": "white",
             "linecolor": "white",
             "minorgridcolor": "white",
             "startlinecolor": "rgb(36,36,36)"
            },
            "type": "carpet"
           }
          ],
          "choropleth": [
           {
            "colorbar": {
             "outlinewidth": 1,
             "tickcolor": "rgb(36,36,36)",
             "ticks": "outside"
            },
            "type": "choropleth"
           }
          ],
          "contour": [
           {
            "colorbar": {
             "outlinewidth": 1,
             "tickcolor": "rgb(36,36,36)",
             "ticks": "outside"
            },
            "colorscale": [
             [
              0,
              "#440154"
             ],
             [
              0.1111111111111111,
              "#482878"
             ],
             [
              0.2222222222222222,
              "#3e4989"
             ],
             [
              0.3333333333333333,
              "#31688e"
             ],
             [
              0.4444444444444444,
              "#26828e"
             ],
             [
              0.5555555555555556,
              "#1f9e89"
             ],
             [
              0.6666666666666666,
              "#35b779"
             ],
             [
              0.7777777777777778,
              "#6ece58"
             ],
             [
              0.8888888888888888,
              "#b5de2b"
             ],
             [
              1,
              "#fde725"
             ]
            ],
            "type": "contour"
           }
          ],
          "contourcarpet": [
           {
            "colorbar": {
             "outlinewidth": 1,
             "tickcolor": "rgb(36,36,36)",
             "ticks": "outside"
            },
            "type": "contourcarpet"
           }
          ],
          "heatmap": [
           {
            "colorbar": {
             "outlinewidth": 1,
             "tickcolor": "rgb(36,36,36)",
             "ticks": "outside"
            },
            "colorscale": [
             [
              0,
              "#440154"
             ],
             [
              0.1111111111111111,
              "#482878"
             ],
             [
              0.2222222222222222,
              "#3e4989"
             ],
             [
              0.3333333333333333,
              "#31688e"
             ],
             [
              0.4444444444444444,
              "#26828e"
             ],
             [
              0.5555555555555556,
              "#1f9e89"
             ],
             [
              0.6666666666666666,
              "#35b779"
             ],
             [
              0.7777777777777778,
              "#6ece58"
             ],
             [
              0.8888888888888888,
              "#b5de2b"
             ],
             [
              1,
              "#fde725"
             ]
            ],
            "type": "heatmap"
           }
          ],
          "heatmapgl": [
           {
            "colorbar": {
             "outlinewidth": 1,
             "tickcolor": "rgb(36,36,36)",
             "ticks": "outside"
            },
            "colorscale": [
             [
              0,
              "#440154"
             ],
             [
              0.1111111111111111,
              "#482878"
             ],
             [
              0.2222222222222222,
              "#3e4989"
             ],
             [
              0.3333333333333333,
              "#31688e"
             ],
             [
              0.4444444444444444,
              "#26828e"
             ],
             [
              0.5555555555555556,
              "#1f9e89"
             ],
             [
              0.6666666666666666,
              "#35b779"
             ],
             [
              0.7777777777777778,
              "#6ece58"
             ],
             [
              0.8888888888888888,
              "#b5de2b"
             ],
             [
              1,
              "#fde725"
             ]
            ],
            "type": "heatmapgl"
           }
          ],
          "histogram": [
           {
            "marker": {
             "line": {
              "color": "white",
              "width": 0.6
             }
            },
            "type": "histogram"
           }
          ],
          "histogram2d": [
           {
            "colorbar": {
             "outlinewidth": 1,
             "tickcolor": "rgb(36,36,36)",
             "ticks": "outside"
            },
            "colorscale": [
             [
              0,
              "#440154"
             ],
             [
              0.1111111111111111,
              "#482878"
             ],
             [
              0.2222222222222222,
              "#3e4989"
             ],
             [
              0.3333333333333333,
              "#31688e"
             ],
             [
              0.4444444444444444,
              "#26828e"
             ],
             [
              0.5555555555555556,
              "#1f9e89"
             ],
             [
              0.6666666666666666,
              "#35b779"
             ],
             [
              0.7777777777777778,
              "#6ece58"
             ],
             [
              0.8888888888888888,
              "#b5de2b"
             ],
             [
              1,
              "#fde725"
             ]
            ],
            "type": "histogram2d"
           }
          ],
          "histogram2dcontour": [
           {
            "colorbar": {
             "outlinewidth": 1,
             "tickcolor": "rgb(36,36,36)",
             "ticks": "outside"
            },
            "colorscale": [
             [
              0,
              "#440154"
             ],
             [
              0.1111111111111111,
              "#482878"
             ],
             [
              0.2222222222222222,
              "#3e4989"
             ],
             [
              0.3333333333333333,
              "#31688e"
             ],
             [
              0.4444444444444444,
              "#26828e"
             ],
             [
              0.5555555555555556,
              "#1f9e89"
             ],
             [
              0.6666666666666666,
              "#35b779"
             ],
             [
              0.7777777777777778,
              "#6ece58"
             ],
             [
              0.8888888888888888,
              "#b5de2b"
             ],
             [
              1,
              "#fde725"
             ]
            ],
            "type": "histogram2dcontour"
           }
          ],
          "mesh3d": [
           {
            "colorbar": {
             "outlinewidth": 1,
             "tickcolor": "rgb(36,36,36)",
             "ticks": "outside"
            },
            "type": "mesh3d"
           }
          ],
          "parcoords": [
           {
            "line": {
             "colorbar": {
              "outlinewidth": 1,
              "tickcolor": "rgb(36,36,36)",
              "ticks": "outside"
             }
            },
            "type": "parcoords"
           }
          ],
          "pie": [
           {
            "automargin": true,
            "type": "pie"
           }
          ],
          "scatter": [
           {
            "fillpattern": {
             "fillmode": "overlay",
             "size": 10,
             "solidity": 0.2
            },
            "type": "scatter"
           }
          ],
          "scatter3d": [
           {
            "line": {
             "colorbar": {
              "outlinewidth": 1,
              "tickcolor": "rgb(36,36,36)",
              "ticks": "outside"
             }
            },
            "marker": {
             "colorbar": {
              "outlinewidth": 1,
              "tickcolor": "rgb(36,36,36)",
              "ticks": "outside"
             }
            },
            "type": "scatter3d"
           }
          ],
          "scattercarpet": [
           {
            "marker": {
             "colorbar": {
              "outlinewidth": 1,
              "tickcolor": "rgb(36,36,36)",
              "ticks": "outside"
             }
            },
            "type": "scattercarpet"
           }
          ],
          "scattergeo": [
           {
            "marker": {
             "colorbar": {
              "outlinewidth": 1,
              "tickcolor": "rgb(36,36,36)",
              "ticks": "outside"
             }
            },
            "type": "scattergeo"
           }
          ],
          "scattergl": [
           {
            "marker": {
             "colorbar": {
              "outlinewidth": 1,
              "tickcolor": "rgb(36,36,36)",
              "ticks": "outside"
             }
            },
            "type": "scattergl"
           }
          ],
          "scattermapbox": [
           {
            "marker": {
             "colorbar": {
              "outlinewidth": 1,
              "tickcolor": "rgb(36,36,36)",
              "ticks": "outside"
             }
            },
            "type": "scattermapbox"
           }
          ],
          "scatterpolar": [
           {
            "marker": {
             "colorbar": {
              "outlinewidth": 1,
              "tickcolor": "rgb(36,36,36)",
              "ticks": "outside"
             }
            },
            "type": "scatterpolar"
           }
          ],
          "scatterpolargl": [
           {
            "marker": {
             "colorbar": {
              "outlinewidth": 1,
              "tickcolor": "rgb(36,36,36)",
              "ticks": "outside"
             }
            },
            "type": "scatterpolargl"
           }
          ],
          "scatterternary": [
           {
            "marker": {
             "colorbar": {
              "outlinewidth": 1,
              "tickcolor": "rgb(36,36,36)",
              "ticks": "outside"
             }
            },
            "type": "scatterternary"
           }
          ],
          "surface": [
           {
            "colorbar": {
             "outlinewidth": 1,
             "tickcolor": "rgb(36,36,36)",
             "ticks": "outside"
            },
            "colorscale": [
             [
              0,
              "#440154"
             ],
             [
              0.1111111111111111,
              "#482878"
             ],
             [
              0.2222222222222222,
              "#3e4989"
             ],
             [
              0.3333333333333333,
              "#31688e"
             ],
             [
              0.4444444444444444,
              "#26828e"
             ],
             [
              0.5555555555555556,
              "#1f9e89"
             ],
             [
              0.6666666666666666,
              "#35b779"
             ],
             [
              0.7777777777777778,
              "#6ece58"
             ],
             [
              0.8888888888888888,
              "#b5de2b"
             ],
             [
              1,
              "#fde725"
             ]
            ],
            "type": "surface"
           }
          ],
          "table": [
           {
            "cells": {
             "fill": {
              "color": "rgb(237,237,237)"
             },
             "line": {
              "color": "white"
             }
            },
            "header": {
             "fill": {
              "color": "rgb(217,217,217)"
             },
             "line": {
              "color": "white"
             }
            },
            "type": "table"
           }
          ]
         },
         "layout": {
          "annotationdefaults": {
           "arrowhead": 0,
           "arrowwidth": 1
          },
          "autotypenumbers": "strict",
          "coloraxis": {
           "colorbar": {
            "outlinewidth": 1,
            "tickcolor": "rgb(36,36,36)",
            "ticks": "outside"
           }
          },
          "colorscale": {
           "diverging": [
            [
             0,
             "rgb(103,0,31)"
            ],
            [
             0.1,
             "rgb(178,24,43)"
            ],
            [
             0.2,
             "rgb(214,96,77)"
            ],
            [
             0.3,
             "rgb(244,165,130)"
            ],
            [
             0.4,
             "rgb(253,219,199)"
            ],
            [
             0.5,
             "rgb(247,247,247)"
            ],
            [
             0.6,
             "rgb(209,229,240)"
            ],
            [
             0.7,
             "rgb(146,197,222)"
            ],
            [
             0.8,
             "rgb(67,147,195)"
            ],
            [
             0.9,
             "rgb(33,102,172)"
            ],
            [
             1,
             "rgb(5,48,97)"
            ]
           ],
           "sequential": [
            [
             0,
             "#440154"
            ],
            [
             0.1111111111111111,
             "#482878"
            ],
            [
             0.2222222222222222,
             "#3e4989"
            ],
            [
             0.3333333333333333,
             "#31688e"
            ],
            [
             0.4444444444444444,
             "#26828e"
            ],
            [
             0.5555555555555556,
             "#1f9e89"
            ],
            [
             0.6666666666666666,
             "#35b779"
            ],
            [
             0.7777777777777778,
             "#6ece58"
            ],
            [
             0.8888888888888888,
             "#b5de2b"
            ],
            [
             1,
             "#fde725"
            ]
           ],
           "sequentialminus": [
            [
             0,
             "#440154"
            ],
            [
             0.1111111111111111,
             "#482878"
            ],
            [
             0.2222222222222222,
             "#3e4989"
            ],
            [
             0.3333333333333333,
             "#31688e"
            ],
            [
             0.4444444444444444,
             "#26828e"
            ],
            [
             0.5555555555555556,
             "#1f9e89"
            ],
            [
             0.6666666666666666,
             "#35b779"
            ],
            [
             0.7777777777777778,
             "#6ece58"
            ],
            [
             0.8888888888888888,
             "#b5de2b"
            ],
            [
             1,
             "#fde725"
            ]
           ]
          },
          "colorway": [
           "#1F77B4",
           "#FF7F0E",
           "#2CA02C",
           "#D62728",
           "#9467BD",
           "#8C564B",
           "#E377C2",
           "#7F7F7F",
           "#BCBD22",
           "#17BECF"
          ],
          "font": {
           "color": "rgb(36,36,36)"
          },
          "geo": {
           "bgcolor": "white",
           "lakecolor": "white",
           "landcolor": "white",
           "showlakes": true,
           "showland": true,
           "subunitcolor": "white"
          },
          "hoverlabel": {
           "align": "left"
          },
          "hovermode": "closest",
          "mapbox": {
           "style": "light"
          },
          "paper_bgcolor": "white",
          "plot_bgcolor": "white",
          "polar": {
           "angularaxis": {
            "gridcolor": "rgb(232,232,232)",
            "linecolor": "rgb(36,36,36)",
            "showgrid": false,
            "showline": true,
            "ticks": "outside"
           },
           "bgcolor": "white",
           "radialaxis": {
            "gridcolor": "rgb(232,232,232)",
            "linecolor": "rgb(36,36,36)",
            "showgrid": false,
            "showline": true,
            "ticks": "outside"
           }
          },
          "scene": {
           "xaxis": {
            "backgroundcolor": "white",
            "gridcolor": "rgb(232,232,232)",
            "gridwidth": 2,
            "linecolor": "rgb(36,36,36)",
            "showbackground": true,
            "showgrid": false,
            "showline": true,
            "ticks": "outside",
            "zeroline": false,
            "zerolinecolor": "rgb(36,36,36)"
           },
           "yaxis": {
            "backgroundcolor": "white",
            "gridcolor": "rgb(232,232,232)",
            "gridwidth": 2,
            "linecolor": "rgb(36,36,36)",
            "showbackground": true,
            "showgrid": false,
            "showline": true,
            "ticks": "outside",
            "zeroline": false,
            "zerolinecolor": "rgb(36,36,36)"
           },
           "zaxis": {
            "backgroundcolor": "white",
            "gridcolor": "rgb(232,232,232)",
            "gridwidth": 2,
            "linecolor": "rgb(36,36,36)",
            "showbackground": true,
            "showgrid": false,
            "showline": true,
            "ticks": "outside",
            "zeroline": false,
            "zerolinecolor": "rgb(36,36,36)"
           }
          },
          "shapedefaults": {
           "fillcolor": "black",
           "line": {
            "width": 0
           },
           "opacity": 0.3
          },
          "ternary": {
           "aaxis": {
            "gridcolor": "rgb(232,232,232)",
            "linecolor": "rgb(36,36,36)",
            "showgrid": false,
            "showline": true,
            "ticks": "outside"
           },
           "baxis": {
            "gridcolor": "rgb(232,232,232)",
            "linecolor": "rgb(36,36,36)",
            "showgrid": false,
            "showline": true,
            "ticks": "outside"
           },
           "bgcolor": "white",
           "caxis": {
            "gridcolor": "rgb(232,232,232)",
            "linecolor": "rgb(36,36,36)",
            "showgrid": false,
            "showline": true,
            "ticks": "outside"
           }
          },
          "title": {
           "x": 0.05
          },
          "xaxis": {
           "automargin": true,
           "gridcolor": "rgb(232,232,232)",
           "linecolor": "rgb(36,36,36)",
           "showgrid": false,
           "showline": true,
           "ticks": "outside",
           "title": {
            "standoff": 15
           },
           "zeroline": false,
           "zerolinecolor": "rgb(36,36,36)"
          },
          "yaxis": {
           "automargin": true,
           "gridcolor": "rgb(232,232,232)",
           "linecolor": "rgb(36,36,36)",
           "showgrid": false,
           "showline": true,
           "ticks": "outside",
           "title": {
            "standoff": 15
           },
           "zeroline": false,
           "zerolinecolor": "rgb(36,36,36)"
          }
         }
        },
        "title": {
         "font": {
          "color": "Black",
          "size": 22
         },
         "text": "<b>Intertopic Distance Map</b>",
         "x": 0.5,
         "xanchor": "center",
         "y": 0.95,
         "yanchor": "top"
        },
        "width": 650,
        "xaxis": {
         "anchor": "y",
         "domain": [
          0,
          1
         ],
         "range": [
          1.2122456073760985,
          22.785684490203856
         ],
         "title": {
          "text": ""
         },
         "visible": false
        },
        "yaxis": {
         "anchor": "x",
         "domain": [
          0,
          1
         ],
         "range": [
          -18.71716203689575,
          26.550247287750246
         ],
         "title": {
          "text": ""
         },
         "visible": false
        }
       }
      }
     },
     "metadata": {},
     "output_type": "display_data"
    }
   ],
   "source": [
    "topic_model.visualize_topics().show()"
   ]
  },
  {
   "cell_type": "code",
   "execution_count": 22,
   "metadata": {},
   "outputs": [
    {
     "data": {
      "text/html": [
       "<div>\n",
       "<style scoped>\n",
       "    .dataframe tbody tr th:only-of-type {\n",
       "        vertical-align: middle;\n",
       "    }\n",
       "\n",
       "    .dataframe tbody tr th {\n",
       "        vertical-align: top;\n",
       "    }\n",
       "\n",
       "    .dataframe thead th {\n",
       "        text-align: right;\n",
       "    }\n",
       "</style>\n",
       "<table border=\"1\" class=\"dataframe\">\n",
       "  <thead>\n",
       "    <tr style=\"text-align: right;\">\n",
       "      <th></th>\n",
       "      <th>Topic</th>\n",
       "      <th>Count</th>\n",
       "      <th>Name</th>\n",
       "      <th>Representation</th>\n",
       "      <th>Representative_Docs</th>\n",
       "    </tr>\n",
       "  </thead>\n",
       "  <tbody>\n",
       "    <tr>\n",
       "      <th>0</th>\n",
       "      <td>-1</td>\n",
       "      <td>129</td>\n",
       "      <td>-1_the_that_in_and</td>\n",
       "      <td>[the, that, in, and, year, we, of, quarter, ou...</td>\n",
       "      <td>[Well, in the third quarter, sales were up 11%...</td>\n",
       "    </tr>\n",
       "    <tr>\n",
       "      <th>1</th>\n",
       "      <td>0</td>\n",
       "      <td>120</td>\n",
       "      <td>0_and_in_we_the</td>\n",
       "      <td>[and, in, we, the, our, to, of, that, products...</td>\n",
       "      <td>[In the previous -- or in the year previous to...</td>\n",
       "    </tr>\n",
       "    <tr>\n",
       "      <th>2</th>\n",
       "      <td>1</td>\n",
       "      <td>92</td>\n",
       "      <td>1_aerostar_and_the_in</td>\n",
       "      <td>[aerostar, and, the, in, for, of, year, we, co...</td>\n",
       "      <td>[No parachutes shipped in the third quarter du...</td>\n",
       "    </tr>\n",
       "    <tr>\n",
       "      <th>3</th>\n",
       "      <td>2</td>\n",
       "      <td>74</td>\n",
       "      <td>2_conference_call_raven_welcome</td>\n",
       "      <td>[conference, call, raven, welcome, recorded, i...</td>\n",
       "      <td>[Good afternoon, ladies and gentlemen. Thank y...</td>\n",
       "    </tr>\n",
       "    <tr>\n",
       "      <th>4</th>\n",
       "      <td>3</td>\n",
       "      <td>69</td>\n",
       "      <td>3_and_we_electronic_systems</td>\n",
       "      <td>[and, we, electronic, systems, to, of, our, in...</td>\n",
       "      <td>[Our Electronics Systems division had its best...</td>\n",
       "    </tr>\n",
       "    <tr>\n",
       "      <th>5</th>\n",
       "      <td>4</td>\n",
       "      <td>62</td>\n",
       "      <td>4_and_raven_the_of</td>\n",
       "      <td>[and, raven, the, of, our, we, to, that, in, for]</td>\n",
       "      <td>[The earnings are in line with what we were ta...</td>\n",
       "    </tr>\n",
       "    <tr>\n",
       "      <th>6</th>\n",
       "      <td>5</td>\n",
       "      <td>41</td>\n",
       "      <td>5_cash_we_dividend_to</td>\n",
       "      <td>[cash, we, dividend, to, million, our, and, th...</td>\n",
       "      <td>[Stock buybacks are off the table for now. We ...</td>\n",
       "    </tr>\n",
       "    <tr>\n",
       "      <th>7</th>\n",
       "      <td>6</td>\n",
       "      <td>36</td>\n",
       "      <td>6_you_thank_thanks_and</td>\n",
       "      <td>[you, thank, thanks, and, we, results, our, fo...</td>\n",
       "      <td>[Thanks, Leslie, and thank you all for joining...</td>\n",
       "    </tr>\n",
       "    <tr>\n",
       "      <th>8</th>\n",
       "      <td>7</td>\n",
       "      <td>34</td>\n",
       "      <td>7_sales_film_million_films</td>\n",
       "      <td>[sales, film, million, films, year, disaster, ...</td>\n",
       "      <td>[Engineered films has had a great year and ano...</td>\n",
       "    </tr>\n",
       "    <tr>\n",
       "      <th>9</th>\n",
       "      <td>8</td>\n",
       "      <td>33</td>\n",
       "      <td>8_and_we_new_films</td>\n",
       "      <td>[and, we, new, films, barrier, to, the, in, is...</td>\n",
       "      <td>[We've taken the necessary steps in Engineered...</td>\n",
       "    </tr>\n",
       "    <tr>\n",
       "      <th>10</th>\n",
       "      <td>9</td>\n",
       "      <td>30</td>\n",
       "      <td>9_operator___</td>\n",
       "      <td>[operator, , , , , , , , , ]</td>\n",
       "      <td>[Operator   [1], Operator   [1], Operator   [1]]</td>\n",
       "    </tr>\n",
       "    <tr>\n",
       "      <th>11</th>\n",
       "      <td>10</td>\n",
       "      <td>30</td>\n",
       "      <td>10_turn_call_questions_comments</td>\n",
       "      <td>[turn, call, questions, comments, to, with, li...</td>\n",
       "      <td>[And with that, I'll turn the call back to our...</td>\n",
       "    </tr>\n",
       "    <tr>\n",
       "      <th>12</th>\n",
       "      <td>11</td>\n",
       "      <td>30</td>\n",
       "      <td>11_presentation___</td>\n",
       "      <td>[presentation, , , , , , , , , ]</td>\n",
       "      <td>[=============================================...</td>\n",
       "    </tr>\n",
       "    <tr>\n",
       "      <th>13</th>\n",
       "      <td>12</td>\n",
       "      <td>29</td>\n",
       "      <td>12____</td>\n",
       "      <td>[, , , , , , , , , ]</td>\n",
       "      <td>[=============================================...</td>\n",
       "    </tr>\n",
       "    <tr>\n",
       "      <th>14</th>\n",
       "      <td>13</td>\n",
       "      <td>25</td>\n",
       "      <td>13_relations_vp_industries_board</td>\n",
       "      <td>[relations, vp, industries, board, treasurer, ...</td>\n",
       "      <td>[---------------------------------------------...</td>\n",
       "    </tr>\n",
       "    <tr>\n",
       "      <th>15</th>\n",
       "      <td>14</td>\n",
       "      <td>24</td>\n",
       "      <td>14_efd_the_cli_market</td>\n",
       "      <td>[efd, the, cli, market, geomembrane, in, to, a...</td>\n",
       "      <td>[The division's superior product performance a...</td>\n",
       "    </tr>\n",
       "    <tr>\n",
       "      <th>16</th>\n",
       "      <td>15</td>\n",
       "      <td>23</td>\n",
       "      <td>15_statements_call_forward_looking</td>\n",
       "      <td>[statements, call, forward, looking, made, com...</td>\n",
       "      <td>[Management will provide an overview of the qu...</td>\n",
       "    </tr>\n",
       "    <tr>\n",
       "      <th>17</th>\n",
       "      <td>16</td>\n",
       "      <td>22</td>\n",
       "      <td>16_ceo_moquist_ron_incorporated</td>\n",
       "      <td>[ceo, moquist, ron, incorporated, industries, ...</td>\n",
       "      <td>[---------------------------------------------...</td>\n",
       "    </tr>\n",
       "    <tr>\n",
       "      <th>18</th>\n",
       "      <td>17</td>\n",
       "      <td>20</td>\n",
       "      <td>17_copy_release_thank_joining</td>\n",
       "      <td>[copy, release, thank, joining, retrieve, outl...</td>\n",
       "      <td>[Thank you. I would like to thank everyone for...</td>\n",
       "    </tr>\n",
       "    <tr>\n",
       "      <th>19</th>\n",
       "      <td>18</td>\n",
       "      <td>18</td>\n",
       "      <td>18_quarter_income_net_year</td>\n",
       "      <td>[quarter, income, net, year, were, fourth, up,...</td>\n",
       "      <td>[Thanks, Steven. On a consolidated basis, sale...</td>\n",
       "    </tr>\n",
       "    <tr>\n",
       "      <th>20</th>\n",
       "      <td>19</td>\n",
       "      <td>17</td>\n",
       "      <td>19_quarter_will_fourth_the</td>\n",
       "      <td>[quarter, will, fourth, the, year, third, seco...</td>\n",
       "      <td>[Looking ahead, the second quarter will be dif...</td>\n",
       "    </tr>\n",
       "    <tr>\n",
       "      <th>21</th>\n",
       "      <td>20</td>\n",
       "      <td>17</td>\n",
       "      <td>20_resin_plastic_increases_raw</td>\n",
       "      <td>[resin, plastic, increases, raw, price, of, pr...</td>\n",
       "      <td>[At our November conference call, I told you t...</td>\n",
       "    </tr>\n",
       "    <tr>\n",
       "      <th>22</th>\n",
       "      <td>21</td>\n",
       "      <td>14</td>\n",
       "      <td>21_daniel_director_ceo_inc</td>\n",
       "      <td>[daniel, director, ceo, inc, rykhus, president...</td>\n",
       "      <td>[---------------------------------------------...</td>\n",
       "    </tr>\n",
       "    <tr>\n",
       "      <th>23</th>\n",
       "      <td>22</td>\n",
       "      <td>11</td>\n",
       "      <td>22_president_chief_officer_management</td>\n",
       "      <td>[president, chief, officer, management, vice, ...</td>\n",
       "      <td>[Joining us today from the Management of Raven...</td>\n",
       "    </tr>\n",
       "  </tbody>\n",
       "</table>\n",
       "</div>"
      ],
      "text/plain": [
       "    Topic  Count                                   Name  \\\n",
       "0      -1    129                     -1_the_that_in_and   \n",
       "1       0    120                        0_and_in_we_the   \n",
       "2       1     92                  1_aerostar_and_the_in   \n",
       "3       2     74        2_conference_call_raven_welcome   \n",
       "4       3     69            3_and_we_electronic_systems   \n",
       "5       4     62                     4_and_raven_the_of   \n",
       "6       5     41                  5_cash_we_dividend_to   \n",
       "7       6     36                 6_you_thank_thanks_and   \n",
       "8       7     34             7_sales_film_million_films   \n",
       "9       8     33                     8_and_we_new_films   \n",
       "10      9     30                          9_operator___   \n",
       "11     10     30        10_turn_call_questions_comments   \n",
       "12     11     30                     11_presentation___   \n",
       "13     12     29                                 12____   \n",
       "14     13     25       13_relations_vp_industries_board   \n",
       "15     14     24                  14_efd_the_cli_market   \n",
       "16     15     23     15_statements_call_forward_looking   \n",
       "17     16     22        16_ceo_moquist_ron_incorporated   \n",
       "18     17     20          17_copy_release_thank_joining   \n",
       "19     18     18             18_quarter_income_net_year   \n",
       "20     19     17             19_quarter_will_fourth_the   \n",
       "21     20     17         20_resin_plastic_increases_raw   \n",
       "22     21     14             21_daniel_director_ceo_inc   \n",
       "23     22     11  22_president_chief_officer_management   \n",
       "\n",
       "                                       Representation  \\\n",
       "0   [the, that, in, and, year, we, of, quarter, ou...   \n",
       "1   [and, in, we, the, our, to, of, that, products...   \n",
       "2   [aerostar, and, the, in, for, of, year, we, co...   \n",
       "3   [conference, call, raven, welcome, recorded, i...   \n",
       "4   [and, we, electronic, systems, to, of, our, in...   \n",
       "5   [and, raven, the, of, our, we, to, that, in, for]   \n",
       "6   [cash, we, dividend, to, million, our, and, th...   \n",
       "7   [you, thank, thanks, and, we, results, our, fo...   \n",
       "8   [sales, film, million, films, year, disaster, ...   \n",
       "9   [and, we, new, films, barrier, to, the, in, is...   \n",
       "10                       [operator, , , , , , , , , ]   \n",
       "11  [turn, call, questions, comments, to, with, li...   \n",
       "12                   [presentation, , , , , , , , , ]   \n",
       "13                               [, , , , , , , , , ]   \n",
       "14  [relations, vp, industries, board, treasurer, ...   \n",
       "15  [efd, the, cli, market, geomembrane, in, to, a...   \n",
       "16  [statements, call, forward, looking, made, com...   \n",
       "17  [ceo, moquist, ron, incorporated, industries, ...   \n",
       "18  [copy, release, thank, joining, retrieve, outl...   \n",
       "19  [quarter, income, net, year, were, fourth, up,...   \n",
       "20  [quarter, will, fourth, the, year, third, seco...   \n",
       "21  [resin, plastic, increases, raw, price, of, pr...   \n",
       "22  [daniel, director, ceo, inc, rykhus, president...   \n",
       "23  [president, chief, officer, management, vice, ...   \n",
       "\n",
       "                                  Representative_Docs  \n",
       "0   [Well, in the third quarter, sales were up 11%...  \n",
       "1   [In the previous -- or in the year previous to...  \n",
       "2   [No parachutes shipped in the third quarter du...  \n",
       "3   [Good afternoon, ladies and gentlemen. Thank y...  \n",
       "4   [Our Electronics Systems division had its best...  \n",
       "5   [The earnings are in line with what we were ta...  \n",
       "6   [Stock buybacks are off the table for now. We ...  \n",
       "7   [Thanks, Leslie, and thank you all for joining...  \n",
       "8   [Engineered films has had a great year and ano...  \n",
       "9   [We've taken the necessary steps in Engineered...  \n",
       "10   [Operator   [1], Operator   [1], Operator   [1]]  \n",
       "11  [And with that, I'll turn the call back to our...  \n",
       "12  [=============================================...  \n",
       "13  [=============================================...  \n",
       "14  [---------------------------------------------...  \n",
       "15  [The division's superior product performance a...  \n",
       "16  [Management will provide an overview of the qu...  \n",
       "17  [---------------------------------------------...  \n",
       "18  [Thank you. I would like to thank everyone for...  \n",
       "19  [Thanks, Steven. On a consolidated basis, sale...  \n",
       "20  [Looking ahead, the second quarter will be dif...  \n",
       "21  [At our November conference call, I told you t...  \n",
       "22  [---------------------------------------------...  \n",
       "23  [Joining us today from the Management of Raven...  "
      ]
     },
     "execution_count": 22,
     "metadata": {},
     "output_type": "execute_result"
    }
   ],
   "source": [
    "topic_model.get_topic_info()"
   ]
  },
  {
   "cell_type": "code",
   "execution_count": null,
   "metadata": {},
   "outputs": [],
   "source": [
    "topic_modelnlpaueb/bert-base-uncased-finetuned-financial-news"
   ]
  }
 ],
 "metadata": {
  "kernelspec": {
   "display_name": "Python 3 (ipykernel)",
   "language": "python",
   "name": "python3"
  },
  "language_info": {
   "codemirror_mode": {
    "name": "ipython",
    "version": 3
   },
   "file_extension": ".py",
   "mimetype": "text/x-python",
   "name": "python",
   "nbconvert_exporter": "python",
   "pygments_lexer": "ipython3",
   "version": "3.12.4"
  }
 },
 "nbformat": 4,
 "nbformat_minor": 4
}
