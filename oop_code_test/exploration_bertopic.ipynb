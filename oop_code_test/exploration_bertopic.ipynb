{
 "cells": [
  {
   "cell_type": "code",
   "execution_count": 1,
   "metadata": {},
   "outputs": [],
   "source": [
    "from bertopic import BERTopic\n",
    "from file_handling import FileHandler  # Import the FileHandler class\n",
    "from text_processing import TextProcessor  # Import the TextProcessor class"
   ]
  },
  {
   "cell_type": "code",
   "execution_count": 2,
   "metadata": {},
   "outputs": [],
   "source": [
    "# Setup\n",
    "# Paths\n",
    "index_file_ecc_folder = \"D:/daten_masterarbeit/\"\n",
    "folderpath_ecc = \"D:/daten_masterarbeit/Transcripts_Masterarbeit_full/\"\n",
    "model_save_path = \"D:/daten_masterarbeit/bertopic_model.pkl\"\n",
    "index_file_path = \"D:/daten_masterarbeit/list_earnings_call_transcripts.csv\"\n",
    "embeddings_path = \"D:/daten_masterarbeit/finbert_embeddings.npy\"\n",
    "\n",
    "# Configuration\n",
    "sample_size = 30\n",
    "document_split = \"paragraphs\"\n",
    "random_seed = 42\n",
    "section_to_analyze = \"Presentation\"\n",
    "max_documents = 3000\n",
    "\n",
    "\n",
    "\n",
    "file_handler = FileHandler(index_file_path=index_file_path, folderpath_ecc=folderpath_ecc)\n",
    "text_processor = TextProcessor(method=document_split, section_to_analyze=section_to_analyze)\n"
   ]
  },
  {
   "cell_type": "code",
   "execution_count": 4,
   "metadata": {},
   "outputs": [
    {
     "name": "stdout",
     "output_type": "stream",
     "text": [
      "All files in directory: ['earnings_call_10053_1405785.txt', 'earnings_call_10053_3087559.txt', 'earnings_call_10053_3264115.txt', 'earnings_call_10053_3495328.txt', 'earnings_call_10053_3838748.txt', 'earnings_call_10053_3978736.txt', 'earnings_call_10053_4168241.txt', 'earnings_call_10053_4240123.txt', 'earnings_call_10053_4711496.txt', 'earnings_call_10053_4825244.txt']\n",
      "Starting to create ECC sample...\n",
      "Found 6 files for permco 6520\n",
      "Found 4 files for permco 53731\n",
      "Found 75 files for permco 4881\n",
      "Found 59 files for permco 45197\n",
      "Found 58 files for permco 13991\n",
      "Found 7 files for permco 44522\n",
      "Found 66 files for permco 362\n",
      "Found 4 files for permco 54714\n",
      "Found 1 files for permco 47868\n",
      "Found 21 files for permco 55341\n",
      "Found 46 files for permco 37389\n",
      "Found 1 files for permco 15900\n",
      "Found 8 files for permco 44890\n",
      "Found 73 files for permco 21783\n",
      "Found 21 files for permco 53425\n",
      "Found 23 files for permco 46026\n",
      "Found 9 files for permco 56541\n",
      "Found 18 files for permco 26027\n",
      "Found 37 files for permco 15718\n",
      "Found 5 files for permco 56483\n",
      "Found 73 files for permco 1451\n",
      "Found 14 files for permco 17927\n",
      "Found 23 files for permco 32051\n",
      "Found 2 files for permco 11852\n",
      "Found 29 files for permco 15376\n",
      "Found 19 files for permco 55537\n",
      "Found 62 files for permco 46697\n",
      "Found 77 files for permco 7863\n",
      "Found 27 files for permco 14039\n",
      "Found 6 files for permco 45997\n",
      "No explicit section found for Presentation in company: 4881, call ID: earnings_call_4881_1275150. Using the first part as the Presentation section.\n",
      "No explicit section found for Presentation in company: 4881, call ID: earnings_call_4881_510608. Using the first part as the Presentation section.\n",
      "No explicit section found for Presentation in company: 26027, call ID: earnings_call_26027_733442. Using the first part as the Presentation section.\n",
      "No explicit section found for Presentation in company: 15718, call ID: earnings_call_15718_1104122. Using the first part as the Presentation section.\n",
      "Extracted 47078 relevant sections.\n"
     ]
    }
   ],
   "source": [
    "# Create the sample and extract relevant sections\n",
    "index_file = file_handler.read_index_file()\n",
    "ecc_sample = file_handler.create_ecc_sample(sample_size)\n",
    "all_relevant_sections = text_processor.extract_all_relevant_sections(ecc_sample, max_documents)\n",
    "\n"
   ]
  },
  {
   "cell_type": "code",
   "execution_count": 6,
   "metadata": {},
   "outputs": [
    {
     "name": "stdout",
     "output_type": "stream",
     "text": [
      "['================================================================================\\nPresentation', 'Operator   [1]', \"Good morning and welcome to today's Boston Life Sciences' Conference Call. Please be aware today's conference is being recorded\", 'For opening remarks and introductions I would like to turn the call over to Mr. Ken Rice at this time. [OPERATOR INSTRUCTIONS] Please go ahead, sir', '--------------------------------------------------------------------------------\\n Ken Rice,  Boston Life Sciences Inc - CFO   [2]']\n"
     ]
    }
   ],
   "source": [
    "print(all_relevant_sections[:5])"
   ]
  },
  {
   "cell_type": "code",
   "execution_count": null,
   "metadata": {},
   "outputs": [],
   "source": []
  }
 ],
 "metadata": {
  "kernelspec": {
   "display_name": "Python 3 (ipykernel)",
   "language": "python",
   "name": "python3"
  },
  "language_info": {
   "codemirror_mode": {
    "name": "ipython",
    "version": 3
   },
   "file_extension": ".py",
   "mimetype": "text/x-python",
   "name": "python",
   "nbconvert_exporter": "python",
   "pygments_lexer": "ipython3",
   "version": "3.12.4"
  }
 },
 "nbformat": 4,
 "nbformat_minor": 4
}
